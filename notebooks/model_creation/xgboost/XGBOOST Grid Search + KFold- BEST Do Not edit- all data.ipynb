{
 "cells": [
  {
   "cell_type": "code",
   "execution_count": 1,
   "metadata": {
    "colab": {},
    "colab_type": "code",
    "id": "6BY0u5O7qfR1"
   },
   "outputs": [],
   "source": [
    "import numpy as np\n",
    "import pandas as pd\n",
    "from xgboost import XGBClassifier\n",
    "from sklearn.model_selection import train_test_split\n",
    "from sklearn.preprocessing import LabelBinarizer\n",
    "import math\n",
    "from sklearn import metrics\n",
    "from sklearn.model_selection import RandomizedSearchCV, GridSearchCV\n",
    "from sklearn.model_selection import KFold, StratifiedKFold\n",
    "import matplotlib.pyplot as plt\n",
    "import os\n",
    "import glob"
   ]
  },
  {
   "cell_type": "code",
   "execution_count": 2,
   "metadata": {
    "colab": {},
    "colab_type": "code",
    "id": "jaeR-AOtreKu"
   },
   "outputs": [],
   "source": [
    "\n",
    "data_path='/home/madnisal/Documents/ML_Project/datasets/'\n",
    "training_df = pd.read_csv(data_path+'train.csv', index_col=\"tripid\")"
   ]
  },
  {
   "cell_type": "code",
   "execution_count": 3,
   "metadata": {
    "colab": {},
    "colab_type": "code",
    "id": "x2_djb9zOwgg"
   },
   "outputs": [],
   "source": [
    "def dist_from_coordinates(lat1, lon1, lat2, lon2):\n",
    "  R = 6371  # Earth radius in km\n",
    "\n",
    "  #conversion to radians\n",
    "  d_lat = np.radians(lat2-lat1)\n",
    "  d_lon = np.radians(lon2-lon1)\n",
    "\n",
    "  r_lat1 = np.radians(lat1)\n",
    "  r_lat2 = np.radians(lat2)\n",
    "\n",
    "  #haversine formula\n",
    "  a = np.sin(d_lat/2.) **2 + np.cos(r_lat1) * np.cos(r_lat2) * np.sin(d_lon/2.)**2\n",
    "\n",
    "  haversine = 2 * R * np.arcsin(np.sqrt(a))\n",
    "\n",
    "  return haversine"
   ]
  },
  {
   "cell_type": "code",
   "execution_count": 4,
   "metadata": {
    "colab": {},
    "colab_type": "code",
    "id": "fZx_Ut6cOzP9"
   },
   "outputs": [],
   "source": [
    "training_df['pickup_time'] = pd.to_datetime(training_df['pickup_time'], format=\"%m/%d/%Y %H:%M\")\n",
    "training_df['drop_time'] = pd.to_datetime(training_df['drop_time'], format=\"%m/%d/%Y %H:%M\")"
   ]
  },
  {
   "cell_type": "code",
   "execution_count": 5,
   "metadata": {
    "colab": {},
    "colab_type": "code",
    "id": "AmRtNkL2O062"
   },
   "outputs": [],
   "source": [
    "training_df = training_df.assign(timeOfDay=pd.cut(training_df.pickup_time.dt.hour,[-1, 8, 20, 24],labels=['dawn','day', 'night']))"
   ]
  },
  {
   "cell_type": "code",
   "execution_count": 6,
   "metadata": {},
   "outputs": [],
   "source": [
    "training_df.loc[training_df['timeOfDay'] == 'day', 'isNormalCharge'] = 1\n",
    "training_df.loc[training_df['timeOfDay'] != 'day', 'isNormalCharge'] = 0"
   ]
  },
  {
   "cell_type": "code",
   "execution_count": 7,
   "metadata": {
    "colab": {},
    "colab_type": "code",
    "id": "q4CFd-NqO2Un"
   },
   "outputs": [],
   "source": [
    "durations = []\n",
    "for index,row in training_df.iterrows():\n",
    "  provided_duration = row['duration'] #first row of location.lat column here\n",
    "  if math.isnan(provided_duration) or provided_duration <= 0 :\n",
    "    time_dif = (row['drop_time'] - row['pickup_time']).seconds\n",
    "    if(time_dif == 0):\n",
    "        time_dif = np.nan\n",
    "    durations.append(time_dif)\n",
    "  else :  \n",
    "    durations.append(provided_duration)\n",
    "\n",
    "training_df.insert(4,\"time_dif\",durations)"
   ]
  },
  {
   "cell_type": "code",
   "execution_count": 8,
   "metadata": {
    "colab": {},
    "colab_type": "code",
    "id": "OKJBD2vsO6bJ"
   },
   "outputs": [],
   "source": [
    "new_column = []                    #empty column for distance\n",
    "for index,row in training_df.iterrows():\n",
    "  lat1 = row['pick_lat'] #first row of location.lat column here\n",
    "  lon1 = row['pick_lon'] #first row of location.long column here\n",
    "  lat2 = row['drop_lat'] #second row of location.lat column here\n",
    "  lon2 = row['drop_lon'] #second row of location.long column here\n",
    "  value = dist_from_coordinates(lat1, lon1, lat2, lon2)  #get the distance\n",
    "  new_column.append(value)   #append the empty list with distance values\n",
    "\n",
    "training_df.insert(4,\"distance\",new_column)"
   ]
  },
  {
   "cell_type": "code",
   "execution_count": 9,
   "metadata": {
    "colab": {},
    "colab_type": "code",
    "id": "EDFvgdsoO8rC"
   },
   "outputs": [],
   "source": [
    "training_df['time_driven'] = training_df['duration']  - training_df['meter_waiting']"
   ]
  },
  {
   "cell_type": "code",
   "execution_count": 10,
   "metadata": {
    "colab": {},
    "colab_type": "code",
    "id": "eQOTKxsNO-CH"
   },
   "outputs": [],
   "source": [
    "chargeperhours = []\n",
    "for index,row in training_df.iterrows():\n",
    "    if(row['meter_waiting'] == 0):\n",
    "        chargeperhour = np.nan\n",
    "    else:\n",
    "        chargeperhour = (row['meter_waiting_fare'] / row['meter_waiting'] * 3600)\n",
    "    chargeperhours.append(chargeperhour)\n",
    "\n",
    "training_df.insert(4,'charge_per_hour',chargeperhours)\n"
   ]
  },
  {
   "cell_type": "code",
   "execution_count": 11,
   "metadata": {
    "colab": {},
    "colab_type": "code",
    "id": "c9OpngXwPAiv"
   },
   "outputs": [],
   "source": [
    "training_df['driving_fare'] = training_df['fare']  - training_df['meter_waiting_fare'] - training_df['additional_fare']"
   ]
  },
  {
   "cell_type": "code",
   "execution_count": 12,
   "metadata": {
    "colab": {},
    "colab_type": "code",
    "id": "ECO9WaT5PB6O"
   },
   "outputs": [],
   "source": [
    "avgspeeds = []\n",
    "for index,row in training_df.iterrows():\n",
    "    if(row['time_driven'] == 0):\n",
    "        avgspeed = np.nan\n",
    "    else:\n",
    "        avgspeed = (row['distance'] / row['time_driven'] * 3600)\n",
    "    avgspeeds.append(avgspeed)\n",
    "\n",
    "training_df.insert(4,\"avg_speed\",avgspeeds)\n",
    "\n"
   ]
  },
  {
   "cell_type": "code",
   "execution_count": 13,
   "metadata": {
    "colab": {},
    "colab_type": "code",
    "id": "j1DDDw52PGUY"
   },
   "outputs": [],
   "source": [
    "costsperkm = []\n",
    "for index,row in training_df.iterrows():\n",
    "    if row['distance'] == 0:\n",
    "        costperkm = np.nan\n",
    "            \n",
    "    else:\n",
    "        costperkm = (row['driving_fare'] / row['distance'])\n",
    "    costsperkm.append(costperkm)\n",
    "\n",
    "training_df.insert(4,\"cost_per_km\",costsperkm)"
   ]
  },
  {
   "cell_type": "code",
   "execution_count": 14,
   "metadata": {
    "colab": {},
    "colab_type": "code",
    "id": "zVsGZhgQrktE"
   },
   "outputs": [],
   "source": [
    "training_df = training_df.replace({'label': {'incorrect': 0, 'correct' : 1}})"
   ]
  },
  {
   "cell_type": "code",
   "execution_count": 15,
   "metadata": {},
   "outputs": [
    {
     "data": {
      "text/plain": [
       "Index(['additional_fare', 'duration', 'meter_waiting', 'meter_waiting_fare',\n",
       "       'cost_per_km', 'avg_speed', 'charge_per_hour', 'distance', 'time_dif',\n",
       "       'meter_waiting_till_pickup', 'pickup_time', 'drop_time', 'pick_lat',\n",
       "       'pick_lon', 'drop_lat', 'drop_lon', 'fare', 'label', 'timeOfDay',\n",
       "       'isNormalCharge', 'time_driven', 'driving_fare'],\n",
       "      dtype='object')"
      ]
     },
     "execution_count": 15,
     "metadata": {},
     "output_type": "execute_result"
    }
   ],
   "source": [
    "training_df.columns"
   ]
  },
  {
   "cell_type": "code",
   "execution_count": 16,
   "metadata": {},
   "outputs": [],
   "source": [
    "training_columns = ['meter_waiting','meter_waiting_fare','fare','additional_fare', 'distance','cost_per_km', 'avg_speed',  'time_dif','time_driven', 'charge_per_hour', 'driving_fare', 'isNormalCharge','pick_lat','pick_lon','drop_lat','drop_lon']"
   ]
  },
  {
   "cell_type": "code",
   "execution_count": 17,
   "metadata": {
    "colab": {},
    "colab_type": "code",
    "id": "tnbpcAUqruuZ"
   },
   "outputs": [],
   "source": [
    "target_column = ['label']"
   ]
  },
  {
   "cell_type": "code",
   "execution_count": 18,
   "metadata": {},
   "outputs": [],
   "source": [
    "training_df = training_df.drop(190167541)"
   ]
  },
  {
   "cell_type": "code",
   "execution_count": 19,
   "metadata": {
    "colab": {},
    "colab_type": "code",
    "id": "PrUJfvL1r4pI"
   },
   "outputs": [],
   "source": [
    "x = training_df[training_columns].values\n",
    "y = training_df[target_column].values"
   ]
  },
  {
   "cell_type": "code",
   "execution_count": 20,
   "metadata": {
    "colab": {},
    "colab_type": "code",
    "id": "Xfow1Vm-sBI9"
   },
   "outputs": [],
   "source": [
    "x, x_test, y, y_test = train_test_split(x, y, test_size=0.2, random_state=42, stratify=y)"
   ]
  },
  {
   "cell_type": "code",
   "execution_count": 21,
   "metadata": {},
   "outputs": [
    {
     "data": {
      "text/plain": [
       "1    15494\n",
       "0     1681\n",
       "Name: label, dtype: int64"
      ]
     },
     "execution_count": 21,
     "metadata": {},
     "output_type": "execute_result"
    }
   ],
   "source": [
    "training_df['label'].value_counts()"
   ]
  },
  {
   "cell_type": "markdown",
   "metadata": {},
   "source": [
    "<h2>Choosing the best model</h2>"
   ]
  },
  {
   "cell_type": "code",
   "execution_count": 22,
   "metadata": {},
   "outputs": [],
   "source": [
    "def xgb_f1(y, t, threshold=0.5):\n",
    "    t = t.get_label()\n",
    "    y_bin = [1. if y_cont > threshold else 0. for y_cont in y] # binarizing your output\n",
    "    return 'f1',f1_score(t,y_bin)"
   ]
  },
  {
   "cell_type": "code",
   "execution_count": 23,
   "metadata": {},
   "outputs": [],
   "source": [
    "gkf = StratifiedKFold(n_splits=5, shuffle=True, random_state=42)"
   ]
  },
  {
   "cell_type": "code",
   "execution_count": 24,
   "metadata": {},
   "outputs": [],
   "source": [
    "model = XGBClassifier(class_weight={0:2,1:1}, learning_rate=0.1)"
   ]
  },
  {
   "cell_type": "code",
   "execution_count": 25,
   "metadata": {},
   "outputs": [
    {
     "name": "stdout",
     "output_type": "stream",
     "text": [
      "[13:56:05] WARNING: /workspace/src/learner.cc:480: \n",
      "Parameters: { class_weight } might not be used.\n",
      "\n",
      "  This may not be accurate due to some parameters are only used in language bindings but\n",
      "  passed down to XGBoost core.  Or some parameters are not used but slip through this\n",
      "  verification. Please open an issue if you find above cases.\n",
      "\n",
      "\n",
      "[0]\tvalidation_0-error:0.05422\n",
      "[1]\tvalidation_0-error:0.05604\n",
      "[2]\tvalidation_0-error:0.05568\n",
      "[3]\tvalidation_0-error:0.05531\n",
      "[4]\tvalidation_0-error:0.05386\n"
     ]
    },
    {
     "name": "stderr",
     "output_type": "stream",
     "text": [
      "/usr/local/lib/python3.6/dist-packages/sklearn/preprocessing/_label.py:235: DataConversionWarning: A column-vector y was passed when a 1d array was expected. Please change the shape of y to (n_samples, ), for example using ravel().\n",
      "  y = column_or_1d(y, warn=True)\n",
      "/usr/local/lib/python3.6/dist-packages/sklearn/preprocessing/_label.py:268: DataConversionWarning: A column-vector y was passed when a 1d array was expected. Please change the shape of y to (n_samples, ), for example using ravel().\n",
      "  y = column_or_1d(y, warn=True)\n"
     ]
    },
    {
     "name": "stdout",
     "output_type": "stream",
     "text": [
      "[5]\tvalidation_0-error:0.05349\n",
      "[6]\tvalidation_0-error:0.05204\n",
      "[7]\tvalidation_0-error:0.05022\n",
      "[8]\tvalidation_0-error:0.05131\n",
      "[9]\tvalidation_0-error:0.04985\n",
      "[10]\tvalidation_0-error:0.04840\n",
      "[11]\tvalidation_0-error:0.04949\n",
      "[12]\tvalidation_0-error:0.04949\n",
      "[13]\tvalidation_0-error:0.04840\n",
      "[14]\tvalidation_0-error:0.04804\n",
      "[15]\tvalidation_0-error:0.04658\n",
      "[16]\tvalidation_0-error:0.04585\n",
      "[17]\tvalidation_0-error:0.04658\n",
      "[18]\tvalidation_0-error:0.04731\n",
      "[19]\tvalidation_0-error:0.04658\n",
      "[20]\tvalidation_0-error:0.04585\n",
      "[21]\tvalidation_0-error:0.04585\n",
      "[22]\tvalidation_0-error:0.04476\n",
      "[23]\tvalidation_0-error:0.04512\n",
      "[24]\tvalidation_0-error:0.04549\n",
      "[25]\tvalidation_0-error:0.04621\n",
      "[26]\tvalidation_0-error:0.04549\n",
      "[27]\tvalidation_0-error:0.04585\n",
      "[28]\tvalidation_0-error:0.04585\n",
      "[29]\tvalidation_0-error:0.04585\n",
      "[30]\tvalidation_0-error:0.04621\n",
      "[31]\tvalidation_0-error:0.04585\n",
      "[32]\tvalidation_0-error:0.04585\n",
      "[33]\tvalidation_0-error:0.04621\n",
      "[34]\tvalidation_0-error:0.04621\n",
      "[35]\tvalidation_0-error:0.04585\n",
      "[36]\tvalidation_0-error:0.04549\n",
      "[37]\tvalidation_0-error:0.04512\n",
      "[38]\tvalidation_0-error:0.04476\n",
      "[39]\tvalidation_0-error:0.04512\n",
      "[40]\tvalidation_0-error:0.04476\n",
      "[41]\tvalidation_0-error:0.04476\n",
      "[42]\tvalidation_0-error:0.04476\n",
      "[43]\tvalidation_0-error:0.04403\n",
      "[44]\tvalidation_0-error:0.04440\n",
      "[45]\tvalidation_0-error:0.04476\n",
      "[46]\tvalidation_0-error:0.04440\n",
      "[47]\tvalidation_0-error:0.04440\n",
      "[48]\tvalidation_0-error:0.04476\n",
      "[49]\tvalidation_0-error:0.04476\n",
      "[50]\tvalidation_0-error:0.04476\n",
      "[51]\tvalidation_0-error:0.04476\n",
      "[52]\tvalidation_0-error:0.04512\n",
      "[53]\tvalidation_0-error:0.04476\n",
      "[54]\tvalidation_0-error:0.04476\n",
      "[55]\tvalidation_0-error:0.04512\n",
      "[56]\tvalidation_0-error:0.04512\n",
      "[57]\tvalidation_0-error:0.04549\n",
      "[58]\tvalidation_0-error:0.04512\n",
      "[59]\tvalidation_0-error:0.04512\n",
      "[60]\tvalidation_0-error:0.04512\n",
      "[61]\tvalidation_0-error:0.04512\n",
      "[62]\tvalidation_0-error:0.04512\n",
      "[63]\tvalidation_0-error:0.04512\n",
      "[64]\tvalidation_0-error:0.04476\n",
      "[65]\tvalidation_0-error:0.04476\n",
      "[66]\tvalidation_0-error:0.04476\n",
      "[67]\tvalidation_0-error:0.04512\n",
      "[68]\tvalidation_0-error:0.04512\n",
      "[69]\tvalidation_0-error:0.04476\n",
      "[70]\tvalidation_0-error:0.04476\n",
      "[71]\tvalidation_0-error:0.04476\n",
      "[72]\tvalidation_0-error:0.04476\n",
      "[73]\tvalidation_0-error:0.04440\n",
      "[74]\tvalidation_0-error:0.04440\n",
      "[75]\tvalidation_0-error:0.04440\n",
      "[76]\tvalidation_0-error:0.04440\n",
      "[77]\tvalidation_0-error:0.04476\n",
      "[78]\tvalidation_0-error:0.04440\n",
      "[79]\tvalidation_0-error:0.04476\n",
      "[80]\tvalidation_0-error:0.04476\n",
      "[81]\tvalidation_0-error:0.04476\n",
      "[82]\tvalidation_0-error:0.04440\n",
      "[83]\tvalidation_0-error:0.04440\n",
      "[84]\tvalidation_0-error:0.04440\n",
      "[85]\tvalidation_0-error:0.04440\n",
      "[86]\tvalidation_0-error:0.04440\n",
      "[87]\tvalidation_0-error:0.04440\n",
      "[88]\tvalidation_0-error:0.04440\n",
      "[89]\tvalidation_0-error:0.04440\n",
      "[90]\tvalidation_0-error:0.04440\n",
      "[91]\tvalidation_0-error:0.04512\n",
      "[92]\tvalidation_0-error:0.04476\n",
      "[93]\tvalidation_0-error:0.04476\n",
      "[94]\tvalidation_0-error:0.04476\n",
      "[95]\tvalidation_0-error:0.04440\n",
      "[96]\tvalidation_0-error:0.04476\n",
      "[97]\tvalidation_0-error:0.04440\n",
      "[98]\tvalidation_0-error:0.04330\n",
      "[99]\tvalidation_0-error:0.04367\n",
      "[13:56:08] WARNING: /workspace/src/learner.cc:480: \n",
      "Parameters: { class_weight } might not be used.\n",
      "\n",
      "  This may not be accurate due to some parameters are only used in language bindings but\n",
      "  passed down to XGBoost core.  Or some parameters are not used but slip through this\n",
      "  verification. Please open an issue if you find above cases.\n",
      "\n",
      "\n",
      "[0]\tvalidation_0-error:0.05386\n",
      "[1]\tvalidation_0-error:0.05640\n",
      "[2]\tvalidation_0-error:0.05568\n",
      "[3]\tvalidation_0-error:0.05422\n",
      "[4]\tvalidation_0-error:0.05422\n",
      "[5]\tvalidation_0-error:0.05568\n",
      "[6]\tvalidation_0-error:0.05531\n",
      "[7]\tvalidation_0-error:0.05713\n",
      "[8]\tvalidation_0-error:0.05713\n",
      "[9]\tvalidation_0-error:0.05495\n",
      "[10]\tvalidation_0-error:0.05568\n",
      "[11]\tvalidation_0-error:0.05313\n",
      "[12]\tvalidation_0-error:0.05349\n",
      "[13]\tvalidation_0-error:0.05313\n",
      "[14]\tvalidation_0-error:0.05386\n",
      "[15]\tvalidation_0-error:0.05495\n",
      "[16]\tvalidation_0-error:0.05422\n",
      "[17]\tvalidation_0-error:0.05313\n",
      "[18]\tvalidation_0-error:0.05240\n",
      "[19]\tvalidation_0-error:0.05277\n",
      "[20]\tvalidation_0-error:0.05131\n",
      "[21]\tvalidation_0-error:0.05277\n",
      "[22]\tvalidation_0-error:0.05204\n",
      "[23]\tvalidation_0-error:0.05167\n",
      "[24]\tvalidation_0-error:0.05131\n",
      "[25]\tvalidation_0-error:0.05058\n",
      "[26]\tvalidation_0-error:0.05022\n",
      "[27]\tvalidation_0-error:0.05095\n",
      "[28]\tvalidation_0-error:0.05058\n",
      "[29]\tvalidation_0-error:0.04949\n",
      "[30]\tvalidation_0-error:0.04985\n",
      "[31]\tvalidation_0-error:0.04949\n",
      "[32]\tvalidation_0-error:0.05022\n",
      "[33]\tvalidation_0-error:0.05022\n",
      "[34]\tvalidation_0-error:0.04949\n",
      "[35]\tvalidation_0-error:0.05022\n",
      "[36]\tvalidation_0-error:0.05022\n",
      "[37]\tvalidation_0-error:0.04913\n",
      "[38]\tvalidation_0-error:0.04840\n",
      "[39]\tvalidation_0-error:0.04731\n",
      "[40]\tvalidation_0-error:0.04804\n",
      "[41]\tvalidation_0-error:0.04767\n",
      "[42]\tvalidation_0-error:0.04767\n",
      "[43]\tvalidation_0-error:0.04804\n",
      "[44]\tvalidation_0-error:0.04840\n",
      "[45]\tvalidation_0-error:0.04913\n",
      "[46]\tvalidation_0-error:0.04913\n",
      "[47]\tvalidation_0-error:0.04913\n",
      "[48]\tvalidation_0-error:0.04913\n",
      "[49]\tvalidation_0-error:0.04913\n",
      "[50]\tvalidation_0-error:0.04804\n",
      "[51]\tvalidation_0-error:0.04804\n",
      "[52]\tvalidation_0-error:0.04804\n",
      "[53]\tvalidation_0-error:0.04840\n",
      "[54]\tvalidation_0-error:0.04840\n",
      "[55]\tvalidation_0-error:0.04840\n",
      "[56]\tvalidation_0-error:0.04840\n",
      "[57]\tvalidation_0-error:0.04804\n",
      "[58]\tvalidation_0-error:0.04840\n",
      "[59]\tvalidation_0-error:0.04767\n",
      "[60]\tvalidation_0-error:0.04840\n",
      "[61]\tvalidation_0-error:0.04840\n",
      "[62]\tvalidation_0-error:0.04876\n",
      "[63]\tvalidation_0-error:0.04876\n",
      "[64]\tvalidation_0-error:0.04949\n",
      "[65]\tvalidation_0-error:0.04985\n",
      "[66]\tvalidation_0-error:0.04913\n",
      "[67]\tvalidation_0-error:0.04913\n",
      "[68]\tvalidation_0-error:0.04913\n",
      "[69]\tvalidation_0-error:0.04876\n",
      "[70]\tvalidation_0-error:0.04913\n",
      "[71]\tvalidation_0-error:0.04913\n",
      "[72]\tvalidation_0-error:0.04913\n",
      "[73]\tvalidation_0-error:0.04913\n",
      "[74]\tvalidation_0-error:0.04913\n",
      "[75]\tvalidation_0-error:0.04913\n",
      "[76]\tvalidation_0-error:0.04876\n",
      "[77]\tvalidation_0-error:0.04876\n",
      "[78]\tvalidation_0-error:0.04840\n",
      "[79]\tvalidation_0-error:0.04876\n",
      "[80]\tvalidation_0-error:0.04876\n",
      "[81]\tvalidation_0-error:0.04876\n",
      "[82]\tvalidation_0-error:0.04840\n",
      "[83]\tvalidation_0-error:0.04840\n",
      "[84]\tvalidation_0-error:0.04840\n",
      "[85]\tvalidation_0-error:0.04840\n",
      "[86]\tvalidation_0-error:0.04840\n",
      "[87]\tvalidation_0-error:0.04840\n",
      "[88]\tvalidation_0-error:0.04876\n",
      "[89]\tvalidation_0-error:0.04840\n",
      "[90]\tvalidation_0-error:0.04840\n",
      "[91]\tvalidation_0-error:0.04804\n",
      "[92]\tvalidation_0-error:0.04840\n",
      "[93]\tvalidation_0-error:0.04876\n",
      "[94]\tvalidation_0-error:0.04840\n",
      "[95]\tvalidation_0-error:0.04840\n",
      "[96]\tvalidation_0-error:0.04804\n",
      "[97]\tvalidation_0-error:0.04804\n",
      "[98]\tvalidation_0-error:0.04767\n",
      "[99]\tvalidation_0-error:0.04840\n",
      "[13:56:11] WARNING: /workspace/src/learner.cc:480: \n",
      "Parameters: { class_weight } might not be used.\n",
      "\n",
      "  This may not be accurate due to some parameters are only used in language bindings but\n",
      "  passed down to XGBoost core.  Or some parameters are not used but slip through this\n",
      "  verification. Please open an issue if you find above cases.\n",
      "\n",
      "\n",
      "[0]\tvalidation_0-error:0.06077\n",
      "[1]\tvalidation_0-error:0.05932\n",
      "[2]\tvalidation_0-error:0.06041\n",
      "[3]\tvalidation_0-error:0.05822\n",
      "[4]\tvalidation_0-error:0.05677\n",
      "[5]\tvalidation_0-error:0.05459\n",
      "[6]\tvalidation_0-error:0.05640\n",
      "[7]\tvalidation_0-error:0.05568\n",
      "[8]\tvalidation_0-error:0.05459\n",
      "[9]\tvalidation_0-error:0.05386\n",
      "[10]\tvalidation_0-error:0.05349\n",
      "[11]\tvalidation_0-error:0.05204\n",
      "[12]\tvalidation_0-error:0.05277\n",
      "[13]\tvalidation_0-error:0.05167\n",
      "[14]\tvalidation_0-error:0.05204\n",
      "[15]\tvalidation_0-error:0.05095\n",
      "[16]\tvalidation_0-error:0.05095\n",
      "[17]\tvalidation_0-error:0.04949\n",
      "[18]\tvalidation_0-error:0.04804\n",
      "[19]\tvalidation_0-error:0.04840\n",
      "[20]\tvalidation_0-error:0.04804\n",
      "[21]\tvalidation_0-error:0.04731\n",
      "[22]\tvalidation_0-error:0.04767\n",
      "[23]\tvalidation_0-error:0.04840\n",
      "[24]\tvalidation_0-error:0.04840\n",
      "[25]\tvalidation_0-error:0.04913\n",
      "[26]\tvalidation_0-error:0.04840\n",
      "[27]\tvalidation_0-error:0.04731\n",
      "[28]\tvalidation_0-error:0.04694\n",
      "[29]\tvalidation_0-error:0.04694\n",
      "[30]\tvalidation_0-error:0.04694\n",
      "[31]\tvalidation_0-error:0.04658\n",
      "[32]\tvalidation_0-error:0.04621\n",
      "[33]\tvalidation_0-error:0.04658\n",
      "[34]\tvalidation_0-error:0.04621\n",
      "[35]\tvalidation_0-error:0.04621\n",
      "[36]\tvalidation_0-error:0.04585\n",
      "[37]\tvalidation_0-error:0.04621\n",
      "[38]\tvalidation_0-error:0.04694\n",
      "[39]\tvalidation_0-error:0.04621\n",
      "[40]\tvalidation_0-error:0.04549\n"
     ]
    },
    {
     "name": "stdout",
     "output_type": "stream",
     "text": [
      "[41]\tvalidation_0-error:0.04585\n",
      "[42]\tvalidation_0-error:0.04585\n",
      "[43]\tvalidation_0-error:0.04549\n",
      "[44]\tvalidation_0-error:0.04549\n",
      "[45]\tvalidation_0-error:0.04549\n",
      "[46]\tvalidation_0-error:0.04585\n",
      "[47]\tvalidation_0-error:0.04585\n",
      "[48]\tvalidation_0-error:0.04621\n",
      "[49]\tvalidation_0-error:0.04658\n",
      "[50]\tvalidation_0-error:0.04658\n",
      "[51]\tvalidation_0-error:0.04621\n",
      "[52]\tvalidation_0-error:0.04621\n",
      "[53]\tvalidation_0-error:0.04621\n",
      "[54]\tvalidation_0-error:0.04585\n",
      "[55]\tvalidation_0-error:0.04621\n",
      "[56]\tvalidation_0-error:0.04585\n",
      "[57]\tvalidation_0-error:0.04549\n",
      "[58]\tvalidation_0-error:0.04621\n",
      "[59]\tvalidation_0-error:0.04658\n",
      "[60]\tvalidation_0-error:0.04621\n",
      "[61]\tvalidation_0-error:0.04549\n",
      "[62]\tvalidation_0-error:0.04549\n",
      "[63]\tvalidation_0-error:0.04549\n",
      "[64]\tvalidation_0-error:0.04549\n",
      "[65]\tvalidation_0-error:0.04585\n",
      "[66]\tvalidation_0-error:0.04585\n",
      "[67]\tvalidation_0-error:0.04585\n",
      "[68]\tvalidation_0-error:0.04585\n",
      "[69]\tvalidation_0-error:0.04585\n",
      "[70]\tvalidation_0-error:0.04621\n",
      "[71]\tvalidation_0-error:0.04585\n",
      "[72]\tvalidation_0-error:0.04621\n",
      "[73]\tvalidation_0-error:0.04585\n",
      "[74]\tvalidation_0-error:0.04585\n",
      "[75]\tvalidation_0-error:0.04621\n",
      "[76]\tvalidation_0-error:0.04585\n",
      "[77]\tvalidation_0-error:0.04585\n",
      "[78]\tvalidation_0-error:0.04549\n",
      "[79]\tvalidation_0-error:0.04549\n",
      "[80]\tvalidation_0-error:0.04512\n",
      "[81]\tvalidation_0-error:0.04512\n",
      "[82]\tvalidation_0-error:0.04549\n",
      "[83]\tvalidation_0-error:0.04549\n",
      "[84]\tvalidation_0-error:0.04512\n",
      "[85]\tvalidation_0-error:0.04512\n",
      "[86]\tvalidation_0-error:0.04512\n",
      "[87]\tvalidation_0-error:0.04512\n",
      "[88]\tvalidation_0-error:0.04512\n",
      "[89]\tvalidation_0-error:0.04512\n",
      "[90]\tvalidation_0-error:0.04512\n",
      "[91]\tvalidation_0-error:0.04585\n",
      "[92]\tvalidation_0-error:0.04585\n",
      "[93]\tvalidation_0-error:0.04585\n",
      "[94]\tvalidation_0-error:0.04585\n",
      "[95]\tvalidation_0-error:0.04585\n",
      "[96]\tvalidation_0-error:0.04621\n",
      "[97]\tvalidation_0-error:0.04585\n",
      "[98]\tvalidation_0-error:0.04585\n",
      "[99]\tvalidation_0-error:0.04585\n",
      "[13:56:14] WARNING: /workspace/src/learner.cc:480: \n",
      "Parameters: { class_weight } might not be used.\n",
      "\n",
      "  This may not be accurate due to some parameters are only used in language bindings but\n",
      "  passed down to XGBoost core.  Or some parameters are not used but slip through this\n",
      "  verification. Please open an issue if you find above cases.\n",
      "\n",
      "\n",
      "[0]\tvalidation_0-error:0.05750\n",
      "[1]\tvalidation_0-error:0.05822\n",
      "[2]\tvalidation_0-error:0.05604\n",
      "[3]\tvalidation_0-error:0.05313\n",
      "[4]\tvalidation_0-error:0.05277\n",
      "[5]\tvalidation_0-error:0.05240\n",
      "[6]\tvalidation_0-error:0.05131\n",
      "[7]\tvalidation_0-error:0.05240\n",
      "[8]\tvalidation_0-error:0.05204\n",
      "[9]\tvalidation_0-error:0.05095\n",
      "[10]\tvalidation_0-error:0.05022\n",
      "[11]\tvalidation_0-error:0.04949\n",
      "[12]\tvalidation_0-error:0.04876\n",
      "[13]\tvalidation_0-error:0.04913\n",
      "[14]\tvalidation_0-error:0.04949\n",
      "[15]\tvalidation_0-error:0.04913\n",
      "[16]\tvalidation_0-error:0.04913\n",
      "[17]\tvalidation_0-error:0.04804\n",
      "[18]\tvalidation_0-error:0.04731\n",
      "[19]\tvalidation_0-error:0.04694\n",
      "[20]\tvalidation_0-error:0.04585\n",
      "[21]\tvalidation_0-error:0.04621\n",
      "[22]\tvalidation_0-error:0.04694\n",
      "[23]\tvalidation_0-error:0.04731\n",
      "[24]\tvalidation_0-error:0.04694\n",
      "[25]\tvalidation_0-error:0.04621\n",
      "[26]\tvalidation_0-error:0.04731\n",
      "[27]\tvalidation_0-error:0.04694\n",
      "[28]\tvalidation_0-error:0.04731\n",
      "[29]\tvalidation_0-error:0.04585\n",
      "[30]\tvalidation_0-error:0.04621\n",
      "[31]\tvalidation_0-error:0.04621\n",
      "[32]\tvalidation_0-error:0.04621\n",
      "[33]\tvalidation_0-error:0.04621\n",
      "[34]\tvalidation_0-error:0.04621\n",
      "[35]\tvalidation_0-error:0.04658\n",
      "[36]\tvalidation_0-error:0.04694\n",
      "[37]\tvalidation_0-error:0.04658\n",
      "[38]\tvalidation_0-error:0.04585\n",
      "[39]\tvalidation_0-error:0.04621\n",
      "[40]\tvalidation_0-error:0.04585\n",
      "[41]\tvalidation_0-error:0.04512\n",
      "[42]\tvalidation_0-error:0.04512\n",
      "[43]\tvalidation_0-error:0.04512\n",
      "[44]\tvalidation_0-error:0.04512\n",
      "[45]\tvalidation_0-error:0.04549\n",
      "[46]\tvalidation_0-error:0.04549\n",
      "[47]\tvalidation_0-error:0.04549\n",
      "[48]\tvalidation_0-error:0.04585\n",
      "[49]\tvalidation_0-error:0.04585\n",
      "[50]\tvalidation_0-error:0.04585\n",
      "[51]\tvalidation_0-error:0.04585\n",
      "[52]\tvalidation_0-error:0.04694\n",
      "[53]\tvalidation_0-error:0.04621\n",
      "[54]\tvalidation_0-error:0.04658\n",
      "[55]\tvalidation_0-error:0.04658\n",
      "[56]\tvalidation_0-error:0.04658\n",
      "[57]\tvalidation_0-error:0.04658\n",
      "[58]\tvalidation_0-error:0.04621\n",
      "[59]\tvalidation_0-error:0.04621\n",
      "[60]\tvalidation_0-error:0.04621\n",
      "[61]\tvalidation_0-error:0.04621\n",
      "[62]\tvalidation_0-error:0.04621\n",
      "[63]\tvalidation_0-error:0.04658\n",
      "[64]\tvalidation_0-error:0.04658\n",
      "[65]\tvalidation_0-error:0.04658\n",
      "[66]\tvalidation_0-error:0.04658\n",
      "[67]\tvalidation_0-error:0.04694\n",
      "[68]\tvalidation_0-error:0.04694\n",
      "[69]\tvalidation_0-error:0.04694\n",
      "[70]\tvalidation_0-error:0.04694\n",
      "[71]\tvalidation_0-error:0.04694\n",
      "[72]\tvalidation_0-error:0.04767\n",
      "[73]\tvalidation_0-error:0.04767\n",
      "[74]\tvalidation_0-error:0.04731\n",
      "[75]\tvalidation_0-error:0.04804\n",
      "[76]\tvalidation_0-error:0.04840\n",
      "[77]\tvalidation_0-error:0.04840\n",
      "[78]\tvalidation_0-error:0.04840\n",
      "[79]\tvalidation_0-error:0.04840\n",
      "[80]\tvalidation_0-error:0.04840\n",
      "[81]\tvalidation_0-error:0.04804\n",
      "[82]\tvalidation_0-error:0.04804\n",
      "[83]\tvalidation_0-error:0.04840\n",
      "[84]\tvalidation_0-error:0.04876\n",
      "[85]\tvalidation_0-error:0.04876\n",
      "[86]\tvalidation_0-error:0.04876\n",
      "[87]\tvalidation_0-error:0.04876\n",
      "[88]\tvalidation_0-error:0.04876\n",
      "[89]\tvalidation_0-error:0.04876\n",
      "[90]\tvalidation_0-error:0.04840\n",
      "[91]\tvalidation_0-error:0.04876\n",
      "[92]\tvalidation_0-error:0.04876\n",
      "[93]\tvalidation_0-error:0.04876\n",
      "[94]\tvalidation_0-error:0.04876\n",
      "[95]\tvalidation_0-error:0.04876\n",
      "[96]\tvalidation_0-error:0.04840\n",
      "[97]\tvalidation_0-error:0.04840\n",
      "[98]\tvalidation_0-error:0.04876\n",
      "[99]\tvalidation_0-error:0.04876\n",
      "[13:56:16] WARNING: /workspace/src/learner.cc:480: \n",
      "Parameters: { class_weight } might not be used.\n",
      "\n",
      "  This may not be accurate due to some parameters are only used in language bindings but\n",
      "  passed down to XGBoost core.  Or some parameters are not used but slip through this\n",
      "  verification. Please open an issue if you find above cases.\n",
      "\n",
      "\n",
      "[0]\tvalidation_0-error:0.05531\n",
      "[1]\tvalidation_0-error:0.05677\n",
      "[2]\tvalidation_0-error:0.05422\n",
      "[3]\tvalidation_0-error:0.05349\n",
      "[4]\tvalidation_0-error:0.05386\n",
      "[5]\tvalidation_0-error:0.05277\n",
      "[6]\tvalidation_0-error:0.05349\n",
      "[7]\tvalidation_0-error:0.05495\n",
      "[8]\tvalidation_0-error:0.05495\n",
      "[9]\tvalidation_0-error:0.05386\n",
      "[10]\tvalidation_0-error:0.05386\n",
      "[11]\tvalidation_0-error:0.05277\n",
      "[12]\tvalidation_0-error:0.05240\n",
      "[13]\tvalidation_0-error:0.05240\n",
      "[14]\tvalidation_0-error:0.05095\n",
      "[15]\tvalidation_0-error:0.05022\n",
      "[16]\tvalidation_0-error:0.05022\n",
      "[17]\tvalidation_0-error:0.04913\n",
      "[18]\tvalidation_0-error:0.04985\n",
      "[19]\tvalidation_0-error:0.04949\n",
      "[20]\tvalidation_0-error:0.04913\n",
      "[21]\tvalidation_0-error:0.04840\n",
      "[22]\tvalidation_0-error:0.04804\n",
      "[23]\tvalidation_0-error:0.04767\n",
      "[24]\tvalidation_0-error:0.04731\n",
      "[25]\tvalidation_0-error:0.04694\n",
      "[26]\tvalidation_0-error:0.04731\n",
      "[27]\tvalidation_0-error:0.04658\n",
      "[28]\tvalidation_0-error:0.04694\n",
      "[29]\tvalidation_0-error:0.04658\n",
      "[30]\tvalidation_0-error:0.04621\n",
      "[31]\tvalidation_0-error:0.04621\n",
      "[32]\tvalidation_0-error:0.04621\n",
      "[33]\tvalidation_0-error:0.04658\n",
      "[34]\tvalidation_0-error:0.04731\n",
      "[35]\tvalidation_0-error:0.04731\n",
      "[36]\tvalidation_0-error:0.04731\n",
      "[37]\tvalidation_0-error:0.04731\n",
      "[38]\tvalidation_0-error:0.04767\n",
      "[39]\tvalidation_0-error:0.04694\n",
      "[40]\tvalidation_0-error:0.04658\n",
      "[41]\tvalidation_0-error:0.04731\n",
      "[42]\tvalidation_0-error:0.04804\n",
      "[43]\tvalidation_0-error:0.04767\n",
      "[44]\tvalidation_0-error:0.04731\n",
      "[45]\tvalidation_0-error:0.04694\n",
      "[46]\tvalidation_0-error:0.04621\n",
      "[47]\tvalidation_0-error:0.04585\n",
      "[48]\tvalidation_0-error:0.04621\n",
      "[49]\tvalidation_0-error:0.04621\n",
      "[50]\tvalidation_0-error:0.04621\n",
      "[51]\tvalidation_0-error:0.04621\n",
      "[52]\tvalidation_0-error:0.04621\n",
      "[53]\tvalidation_0-error:0.04621\n",
      "[54]\tvalidation_0-error:0.04621\n",
      "[55]\tvalidation_0-error:0.04549\n",
      "[56]\tvalidation_0-error:0.04512\n",
      "[57]\tvalidation_0-error:0.04512\n",
      "[58]\tvalidation_0-error:0.04549\n",
      "[59]\tvalidation_0-error:0.04549\n",
      "[60]\tvalidation_0-error:0.04585\n",
      "[61]\tvalidation_0-error:0.04512\n",
      "[62]\tvalidation_0-error:0.04512\n",
      "[63]\tvalidation_0-error:0.04549\n",
      "[64]\tvalidation_0-error:0.04549\n",
      "[65]\tvalidation_0-error:0.04476\n",
      "[66]\tvalidation_0-error:0.04367\n",
      "[67]\tvalidation_0-error:0.04403\n",
      "[68]\tvalidation_0-error:0.04403\n",
      "[69]\tvalidation_0-error:0.04367\n",
      "[70]\tvalidation_0-error:0.04330\n",
      "[71]\tvalidation_0-error:0.04330\n",
      "[72]\tvalidation_0-error:0.04330\n",
      "[73]\tvalidation_0-error:0.04330\n",
      "[74]\tvalidation_0-error:0.04330\n",
      "[75]\tvalidation_0-error:0.04330\n",
      "[76]\tvalidation_0-error:0.04330\n"
     ]
    },
    {
     "name": "stdout",
     "output_type": "stream",
     "text": [
      "[77]\tvalidation_0-error:0.04258\n",
      "[78]\tvalidation_0-error:0.04258\n",
      "[79]\tvalidation_0-error:0.04258\n",
      "[80]\tvalidation_0-error:0.04330\n",
      "[81]\tvalidation_0-error:0.04330\n",
      "[82]\tvalidation_0-error:0.04294\n",
      "[83]\tvalidation_0-error:0.04367\n",
      "[84]\tvalidation_0-error:0.04294\n",
      "[85]\tvalidation_0-error:0.04330\n",
      "[86]\tvalidation_0-error:0.04221\n",
      "[87]\tvalidation_0-error:0.04221\n",
      "[88]\tvalidation_0-error:0.04221\n",
      "[89]\tvalidation_0-error:0.04149\n",
      "[90]\tvalidation_0-error:0.04149\n",
      "[91]\tvalidation_0-error:0.04149\n",
      "[92]\tvalidation_0-error:0.04149\n",
      "[93]\tvalidation_0-error:0.04185\n",
      "[94]\tvalidation_0-error:0.04185\n",
      "[95]\tvalidation_0-error:0.04185\n",
      "[96]\tvalidation_0-error:0.04185\n",
      "[97]\tvalidation_0-error:0.04185\n",
      "[98]\tvalidation_0-error:0.04185\n",
      "[99]\tvalidation_0-error:0.04149\n"
     ]
    }
   ],
   "source": [
    "for training_index, testing_index in gkf.split(X=x, y=y):\n",
    "    x_train_fold, y_train_fold = x[training_index], y[training_index]\n",
    "    x_test_fold, y_test_fold = x[testing_index], y[testing_index]\n",
    "    model.fit(x_train_fold, y_train_fold, eval_set=[(x_test_fold,y_test_fold)])"
   ]
  },
  {
   "cell_type": "code",
   "execution_count": 26,
   "metadata": {},
   "outputs": [],
   "source": [
    "predicted_y = model.predict(x_test)\n",
    "train_pred_y = model.predict(x)"
   ]
  },
  {
   "cell_type": "code",
   "execution_count": 27,
   "metadata": {},
   "outputs": [
    {
     "name": "stdout",
     "output_type": "stream",
     "text": [
      "\n",
      "              precision    recall  f1-score   support\n",
      "\n",
      "           0       0.97      0.77      0.86      1345\n",
      "           1       0.98      1.00      0.99     12395\n",
      "\n",
      "    accuracy                           0.97     13740\n",
      "   macro avg       0.97      0.88      0.92     13740\n",
      "weighted avg       0.97      0.97      0.97     13740\n",
      "\n",
      "\n",
      "[[ 1030   315]\n",
      " [   31 12364]]\n",
      "\n",
      "              precision    recall  f1-score   support\n",
      "\n",
      "           0       0.90      0.68      0.77       336\n",
      "           1       0.97      0.99      0.98      3099\n",
      "\n",
      "    accuracy                           0.96      3435\n",
      "   macro avg       0.93      0.83      0.88      3435\n",
      "weighted avg       0.96      0.96      0.96      3435\n",
      "\n",
      "\n",
      "[[ 227  109]\n",
      " [  25 3074]]\n"
     ]
    }
   ],
   "source": [
    "print(); print(metrics.classification_report(y,train_pred_y))\n",
    "print(); print(metrics.confusion_matrix(y, train_pred_y))\n",
    "\n",
    "print(); print(metrics.classification_report(y_test, predicted_y))\n",
    "print(); print(metrics.confusion_matrix(y_test, predicted_y))"
   ]
  },
  {
   "cell_type": "markdown",
   "metadata": {},
   "source": [
    "<h2>Testing</h2>"
   ]
  },
  {
   "cell_type": "code",
   "execution_count": 28,
   "metadata": {
    "colab": {},
    "colab_type": "code",
    "id": "dRpHFO-hvEvg"
   },
   "outputs": [],
   "source": [
    "\n",
    "test_set = pd.read_csv(data_path+'test.csv', index_col=\"tripid\")\n"
   ]
  },
  {
   "cell_type": "code",
   "execution_count": 29,
   "metadata": {
    "colab": {},
    "colab_type": "code",
    "id": "-aB-vcWQPl-L"
   },
   "outputs": [],
   "source": [
    "test_set['pickup_time'] = pd.to_datetime(test_set['pickup_time'], format=\"%m/%d/%Y %H:%M\")\n",
    "test_set['drop_time'] = pd.to_datetime(test_set['drop_time'], format=\"%m/%d/%Y %H:%M\")"
   ]
  },
  {
   "cell_type": "code",
   "execution_count": 30,
   "metadata": {
    "colab": {},
    "colab_type": "code",
    "id": "-fh6I6oDPrqF"
   },
   "outputs": [],
   "source": [
    "test_set = test_set.assign(timeOfDay=pd.cut(test_set.pickup_time.dt.hour,[-1, 8, 20, 24],labels=['dawn','day', 'night']))"
   ]
  },
  {
   "cell_type": "code",
   "execution_count": 31,
   "metadata": {},
   "outputs": [],
   "source": [
    "test_set.loc[test_set['timeOfDay'] == 'day', 'isNormalCharge'] = 1\n",
    "test_set.loc[test_set['timeOfDay'] != 'day', 'isNormalCharge'] = 0"
   ]
  },
  {
   "cell_type": "code",
   "execution_count": 32,
   "metadata": {
    "colab": {},
    "colab_type": "code",
    "id": "0YIKrGoUPxjD"
   },
   "outputs": [],
   "source": [
    "durations = []\n",
    "for index,row in test_set.iterrows():\n",
    "  provided_duration = row['duration'] #first row of location.lat column here\n",
    "  if math.isnan(provided_duration) or provided_duration <= 0 :\n",
    "    time_dif = (row['drop_time'] - row['pickup_time']).seconds\n",
    "    if(time_dif == 0):\n",
    "        time_dif = np.nan\n",
    "    durations.append(time_dif)\n",
    "  else :  \n",
    "    durations.append(provided_duration)\n",
    "\n",
    "test_set.insert(4,\"time_dif\",durations)"
   ]
  },
  {
   "cell_type": "code",
   "execution_count": 33,
   "metadata": {
    "colab": {},
    "colab_type": "code",
    "id": "N8RKMAziP2Zu"
   },
   "outputs": [],
   "source": [
    "new_column = []                    #empty column for distance\n",
    "for index,row in test_set.iterrows():\n",
    "  lat1 = row['pick_lat'] #first row of location.lat column here\n",
    "  lon1 = row['pick_lon'] #first row of location.long column here\n",
    "  lat2 = row['drop_lat'] #second row of location.lat column here\n",
    "  lon2 = row['drop_lon'] #second row of location.long column here\n",
    "  value = dist_from_coordinates(lat1, lon1, lat2, lon2)  #get the distance\n",
    "  new_column.append(value)   #append the empty list with distance values\n",
    "\n",
    "test_set.insert(4,\"distance\",new_column)"
   ]
  },
  {
   "cell_type": "code",
   "execution_count": 34,
   "metadata": {
    "colab": {},
    "colab_type": "code",
    "id": "fhGdrT68P7u0"
   },
   "outputs": [],
   "source": [
    "test_set['time_driven'] = test_set['duration']  - test_set['meter_waiting']"
   ]
  },
  {
   "cell_type": "code",
   "execution_count": 35,
   "metadata": {
    "colab": {},
    "colab_type": "code",
    "id": "0T1ZhNq4QCFr"
   },
   "outputs": [],
   "source": [
    "chargeperhours = []\n",
    "for index,row in test_set.iterrows():\n",
    "    if(row['meter_waiting'] == 0):\n",
    "        chargeperhour = np.nan\n",
    "    else:\n",
    "        chargeperhour = (row['meter_waiting_fare'] / row['meter_waiting'] * 3600)\n",
    "    chargeperhours.append(chargeperhour)\n",
    "\n",
    "test_set.insert(4,'charge_per_hour',chargeperhours)\n"
   ]
  },
  {
   "cell_type": "code",
   "execution_count": 36,
   "metadata": {
    "colab": {},
    "colab_type": "code",
    "id": "stlHhBUcQHPO"
   },
   "outputs": [],
   "source": [
    "test_set['driving_fare'] = test_set['fare']  - test_set['meter_waiting_fare'] - test_set['additional_fare']"
   ]
  },
  {
   "cell_type": "code",
   "execution_count": 37,
   "metadata": {
    "colab": {},
    "colab_type": "code",
    "id": "3swRfBdUQPab"
   },
   "outputs": [],
   "source": [
    "avgspeeds = []\n",
    "for index,row in test_set.iterrows():\n",
    "    if(row['time_driven'] == 0):\n",
    "        avgspeed = np.nan    \n",
    "    else:\n",
    "        avgspeed = (row['distance'] / row['time_driven'] * 3600)\n",
    "    avgspeeds.append(avgspeed)\n",
    "\n",
    "test_set.insert(4,\"avg_speed\",avgspeeds)\n",
    "\n"
   ]
  },
  {
   "cell_type": "code",
   "execution_count": 38,
   "metadata": {
    "colab": {},
    "colab_type": "code",
    "id": "CbN5feh0QWAF"
   },
   "outputs": [],
   "source": [
    "costsperkm = []\n",
    "for index,row in test_set.iterrows():\n",
    "    if row['distance'] == 0:\n",
    "        costperkm = np.nan\n",
    "            \n",
    "    else:\n",
    "        costperkm = (row['driving_fare'] / row['distance'])\n",
    "    costsperkm.append(costperkm)\n",
    "\n",
    "test_set.insert(4,\"cost_per_km\",costsperkm)"
   ]
  },
  {
   "cell_type": "code",
   "execution_count": 39,
   "metadata": {
    "colab": {},
    "colab_type": "code",
    "id": "G8siIDy9_D2I"
   },
   "outputs": [],
   "source": [
    "test_features = test_set[training_columns].values"
   ]
  },
  {
   "cell_type": "code",
   "execution_count": 40,
   "metadata": {
    "colab": {},
    "colab_type": "code",
    "id": "MeqI1BVR_Fpl"
   },
   "outputs": [],
   "source": [
    "predicted_labels = model.predict(test_features)"
   ]
  },
  {
   "cell_type": "code",
   "execution_count": 41,
   "metadata": {},
   "outputs": [],
   "source": [
    "predicted_labels_df = pd.DataFrame(predicted_labels )"
   ]
  },
  {
   "cell_type": "code",
   "execution_count": 42,
   "metadata": {
    "colab": {},
    "colab_type": "code",
    "id": "qqHn12X6_Gvf"
   },
   "outputs": [],
   "source": [
    "sub_path =os.path.abspath(os.path.join(data_path+'/sample_submission.csv'))\n",
    "submission_set = pd.read_csv(sub_path, index_col=\"tripid\")"
   ]
  },
  {
   "cell_type": "code",
   "execution_count": 43,
   "metadata": {
    "colab": {},
    "colab_type": "code",
    "id": "8Ji-pVGy_H3c"
   },
   "outputs": [],
   "source": [
    "submission_set['prediction']= predicted_labels_df.values[:,0]"
   ]
  },
  {
   "cell_type": "code",
   "execution_count": 44,
   "metadata": {},
   "outputs": [
    {
     "data": {
      "application/javascript": [
       "var kernel = IPython.notebook.kernel;\n",
       "var thename = window.document.getElementById(\"notebook_name\").innerHTML;\n",
       "var command = \"theNotebook = \" + \"'\"+thename+\"'\";\n",
       "kernel.execute(command);\n"
      ],
      "text/plain": [
       "<IPython.core.display.Javascript object>"
      ]
     },
     "metadata": {},
     "output_type": "display_data"
    }
   ],
   "source": [
    "%%javascript\n",
    "var kernel = IPython.notebook.kernel;\n",
    "var thename = window.document.getElementById(\"notebook_name\").innerHTML;\n",
    "var command = \"theNotebook = \" + \"'\"+thename+\"'\";\n",
    "kernel.execute(command);"
   ]
  },
  {
   "cell_type": "code",
   "execution_count": 46,
   "metadata": {
    "colab": {
     "base_uri": "https://localhost:8080/",
     "height": 35
    },
    "colab_type": "code",
    "id": "U6dGilvv_JLl",
    "outputId": "a12ca51c-c94a-4f5d-efab-2ebd6a29156a"
   },
   "outputs": [
    {
     "name": "stdout",
     "output_type": "stream",
     "text": [
      "Completed!\n"
     ]
    }
   ],
   "source": [
    "filename = '../../submissions/'+theNotebook+'/'+theNotebook+'_{%i}.csv'\n",
    "dirname = '../../submissions/'+theNotebook\n",
    "fileversion = 1\n",
    "\n",
    "if not os.path.exists(dirname):\n",
    "    os.makedirs(dirname)\n",
    "while glob.glob(filename.replace('{%i}',str(fileversion))) :\n",
    "    fileversion+=1\n",
    "submission_set.to_csv(filename.replace('{%i}',str(fileversion)), index=True)\n",
    "print(\"Completed!\")"
   ]
  },
  {
   "cell_type": "code",
   "execution_count": 45,
   "metadata": {
    "colab": {
     "base_uri": "https://localhost:8080/",
     "height": 72
    },
    "colab_type": "code",
    "id": "cg-I13X0_Q0d",
    "outputId": "e0a6dd1e-8d7f-46f6-f8a8-98406223ba06"
   },
   "outputs": [
    {
     "data": {
      "text/plain": [
       "1    8143\n",
       "0     433\n",
       "Name: prediction, dtype: int64"
      ]
     },
     "execution_count": 45,
     "metadata": {},
     "output_type": "execute_result"
    }
   ],
   "source": [
    "submission_set['prediction'].value_counts()"
   ]
  },
  {
   "cell_type": "code",
   "execution_count": null,
   "metadata": {},
   "outputs": [],
   "source": []
  }
 ],
 "metadata": {
  "colab": {
   "collapsed_sections": [],
   "name": "lightbgm using grid",
   "provenance": []
  },
  "kernelspec": {
   "display_name": "Python 3",
   "language": "python",
   "name": "python3"
  },
  "language_info": {
   "codemirror_mode": {
    "name": "ipython",
    "version": 3
   },
   "file_extension": ".py",
   "mimetype": "text/x-python",
   "name": "python",
   "nbconvert_exporter": "python",
   "pygments_lexer": "ipython3",
   "version": "3.6.9"
  }
 },
 "nbformat": 4,
 "nbformat_minor": 1
}
