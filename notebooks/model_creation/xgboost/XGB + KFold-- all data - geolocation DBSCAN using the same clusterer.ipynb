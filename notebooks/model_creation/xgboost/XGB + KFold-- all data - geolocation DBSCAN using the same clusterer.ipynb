{
 "cells": [
  {
   "cell_type": "markdown",
   "metadata": {
    "colab_type": "text",
    "id": "pAGVWzxAEOQW"
   },
   "source": [
    "<b>PLEASE NOTE THAT THIS NOTEBOOK WAS RUN IN GOOGLE COLAB AS SUCH CERTAIN IMPORT STATEMENTS MAY DIFFER</b>"
   ]
  },
  {
   "cell_type": "markdown",
   "metadata": {
    "colab_type": "text",
    "id": "3-arEtNdEOQX"
   },
   "source": [
    "<h1>Initial Setup</h1>"
   ]
  },
  {
   "cell_type": "markdown",
   "metadata": {
    "colab_type": "text",
    "id": "RTnPWfM0EOQY"
   },
   "source": [
    "<h2>Import Packages</h2>"
   ]
  },
  {
   "cell_type": "code",
   "execution_count": null,
   "metadata": {
    "colab": {},
    "colab_type": "code",
    "id": "6BY0u5O7qfR1"
   },
   "outputs": [],
   "source": [
    "import numpy as np\n",
    "import pandas as pd\n",
    "import lightgbm\n",
    "from sklearn.model_selection import train_test_split\n",
    "from sklearn.preprocessing import LabelBinarizer\n",
    "import math\n",
    "from sklearn import metrics\n",
    "from sklearn.model_selection import RandomizedSearchCV, GridSearchCV\n",
    "from sklearn.model_selection import KFold, StratifiedKFold\n",
    "from xgboost import XGBClassifier\n",
    "import matplotlib.pyplot as plt\n",
    "import os\n",
    "import glob\n",
    "\n",
    "from sklearn.cluster import DBSCAN, KMeans"
   ]
  },
  {
   "cell_type": "markdown",
   "metadata": {
    "colab_type": "text",
    "id": "5SiHUabZEOQf"
   },
   "source": [
    "<h2>Loading the Dataset</h2>"
   ]
  },
  {
   "cell_type": "code",
   "execution_count": null,
   "metadata": {
    "colab": {
     "base_uri": "https://localhost:8080/",
     "height": 122
    },
    "colab_type": "code",
    "executionInfo": {
     "elapsed": 22317,
     "status": "ok",
     "timestamp": 1591252981227,
     "user": {
      "displayName": "Ranika Madurawe",
      "photoUrl": "",
      "userId": "08934122972253344059"
     },
     "user_tz": -330
    },
    "id": "Mhf_dPHIRBwi",
    "outputId": "9dbcd24b-cb1a-4eae-b94c-c53a740be881"
   },
   "outputs": [
    {
     "name": "stdout",
     "output_type": "stream",
     "text": [
      "Go to this URL in a browser: https://accounts.google.com/o/oauth2/auth?client_id=947318989803-6bn6qk8qdgf4n4g3pfee6491hc0brc4i.apps.googleusercontent.com&redirect_uri=urn%3aietf%3awg%3aoauth%3a2.0%3aoob&response_type=code&scope=email%20https%3a%2f%2fwww.googleapis.com%2fauth%2fdocs.test%20https%3a%2f%2fwww.googleapis.com%2fauth%2fdrive%20https%3a%2f%2fwww.googleapis.com%2fauth%2fdrive.photos.readonly%20https%3a%2f%2fwww.googleapis.com%2fauth%2fpeopleapi.readonly\n",
      "\n",
      "Enter your authorization code:\n",
      "··········\n",
      "Mounted at /content/drive\n"
     ]
    }
   ],
   "source": [
    "from google.colab import drive\n",
    "drive.mount('/content/drive')"
   ]
  },
  {
   "cell_type": "code",
   "execution_count": null,
   "metadata": {
    "colab": {},
    "colab_type": "code",
    "id": "jaeR-AOtreKu"
   },
   "outputs": [],
   "source": [
    "train_path=os.path.abspath(os.path.join(os.path.dirname(\"__file__\"), '..', '/content/drive/My Drive/datasets/train.csv'))\n",
    "training_df = pd.read_csv(train_path, index_col=\"tripid\")"
   ]
  },
  {
   "cell_type": "markdown",
   "metadata": {
    "colab_type": "text",
    "id": "9Pa8YaM8EOQp"
   },
   "source": [
    "<h1>Feature Addition</h1>"
   ]
  },
  {
   "cell_type": "code",
   "execution_count": null,
   "metadata": {
    "colab": {},
    "colab_type": "code",
    "id": "x2_djb9zOwgg"
   },
   "outputs": [],
   "source": [
    "def dist_from_coordinates(lat1, lon1, lat2, lon2):\n",
    "  R = 6371  # Earth radius in km\n",
    "\n",
    "  #conversion to radians\n",
    "  d_lat = np.radians(lat2-lat1)\n",
    "  d_lon = np.radians(lon2-lon1)\n",
    "\n",
    "  r_lat1 = np.radians(lat1)\n",
    "  r_lat2 = np.radians(lat2)\n",
    "\n",
    "  #haversine formula\n",
    "  a = np.sin(d_lat/2.) **2 + np.cos(r_lat1) * np.cos(r_lat2) * np.sin(d_lon/2.)**2\n",
    "\n",
    "  haversine = 2 * R * np.arcsin(np.sqrt(a))\n",
    "\n",
    "  return haversine"
   ]
  },
  {
   "cell_type": "code",
   "execution_count": null,
   "metadata": {
    "colab": {},
    "colab_type": "code",
    "id": "fZx_Ut6cOzP9"
   },
   "outputs": [],
   "source": [
    "training_df['pickup_time'] = pd.to_datetime(training_df['pickup_time'], format=\"%m/%d/%Y %H:%M\")\n",
    "training_df['drop_time'] = pd.to_datetime(training_df['drop_time'], format=\"%m/%d/%Y %H:%M\")"
   ]
  },
  {
   "cell_type": "code",
   "execution_count": null,
   "metadata": {
    "colab": {},
    "colab_type": "code",
    "id": "AmRtNkL2O062"
   },
   "outputs": [],
   "source": [
    "training_df = training_df.assign(timeOfDay=pd.cut(training_df.pickup_time.dt.hour,[-1, 8, 20, 24],labels=['dawn','day', 'night']))"
   ]
  },
  {
   "cell_type": "code",
   "execution_count": null,
   "metadata": {
    "colab": {},
    "colab_type": "code",
    "id": "R-_HEXPRQ1Xx"
   },
   "outputs": [],
   "source": [
    "training_df.loc[training_df['timeOfDay'] == 'day', 'isNormalCharge'] = 1\n",
    "training_df.loc[training_df['timeOfDay'] != 'day', 'isNormalCharge'] = 0"
   ]
  },
  {
   "cell_type": "code",
   "execution_count": null,
   "metadata": {
    "colab": {},
    "colab_type": "code",
    "id": "q4CFd-NqO2Un"
   },
   "outputs": [],
   "source": [
    "durations = []\n",
    "for index,row in training_df.iterrows():\n",
    "  provided_duration = row['duration'] #first row of location.lat column here\n",
    "  if math.isnan(provided_duration) or provided_duration <= 0 :\n",
    "    time_dif = (row['drop_time'] - row['pickup_time']).seconds\n",
    "    if(time_dif == 0):\n",
    "        time_dif = np.nan\n",
    "    durations.append(time_dif)\n",
    "  else :  \n",
    "    durations.append(provided_duration)\n",
    "\n",
    "training_df.insert(4,\"time_dif\",durations)"
   ]
  },
  {
   "cell_type": "code",
   "execution_count": null,
   "metadata": {
    "colab": {},
    "colab_type": "code",
    "id": "OKJBD2vsO6bJ"
   },
   "outputs": [],
   "source": [
    "new_column = []                    #empty column for distance\n",
    "for index,row in training_df.iterrows():\n",
    "  lat1 = row['pick_lat'] #first row of location.lat column here\n",
    "  lon1 = row['pick_lon'] #first row of location.long column here\n",
    "  lat2 = row['drop_lat'] #second row of location.lat column here\n",
    "  lon2 = row['drop_lon'] #second row of location.long column here\n",
    "  value = dist_from_coordinates(lat1, lon1, lat2, lon2)  #get the distance\n",
    "  new_column.append(value)   #append the empty list with distance values\n",
    "\n",
    "training_df.insert(4,\"distance\",new_column)"
   ]
  },
  {
   "cell_type": "code",
   "execution_count": null,
   "metadata": {
    "colab": {},
    "colab_type": "code",
    "id": "EDFvgdsoO8rC"
   },
   "outputs": [],
   "source": [
    "training_df['time_driven'] = training_df['duration']  - training_df['meter_waiting']"
   ]
  },
  {
   "cell_type": "code",
   "execution_count": null,
   "metadata": {
    "colab": {},
    "colab_type": "code",
    "id": "eQOTKxsNO-CH"
   },
   "outputs": [],
   "source": [
    "chargeperhours = []\n",
    "for index,row in training_df.iterrows():\n",
    "    if(row['meter_waiting'] == 0):\n",
    "        chargeperhour = np.nan\n",
    "    else:\n",
    "        chargeperhour = (row['meter_waiting_fare'] / row['meter_waiting'] * 3600)\n",
    "    chargeperhours.append(chargeperhour)\n",
    "\n",
    "training_df.insert(4,'charge_per_hour',chargeperhours)\n"
   ]
  },
  {
   "cell_type": "code",
   "execution_count": null,
   "metadata": {
    "colab": {},
    "colab_type": "code",
    "id": "c9OpngXwPAiv"
   },
   "outputs": [],
   "source": [
    "training_df['driving_fare'] = training_df['fare']  - training_df['meter_waiting_fare'] - training_df['additional_fare']"
   ]
  },
  {
   "cell_type": "code",
   "execution_count": null,
   "metadata": {
    "colab": {},
    "colab_type": "code",
    "id": "ECO9WaT5PB6O"
   },
   "outputs": [],
   "source": [
    "avgspeeds = []\n",
    "for index,row in training_df.iterrows():\n",
    "    if(row['time_driven'] == 0):\n",
    "        avgspeed = np.nan\n",
    "    else:\n",
    "        avgspeed = (row['distance'] / row['time_driven'] * 3600)\n",
    "    avgspeeds.append(avgspeed)\n",
    "\n",
    "training_df.insert(4,\"avg_speed\",avgspeeds)\n",
    "\n"
   ]
  },
  {
   "cell_type": "code",
   "execution_count": null,
   "metadata": {
    "colab": {},
    "colab_type": "code",
    "id": "j1DDDw52PGUY"
   },
   "outputs": [],
   "source": [
    "costsperkm = []\n",
    "for index,row in training_df.iterrows():\n",
    "    if row['distance'] == 0:\n",
    "        costperkm = np.nan\n",
    "            \n",
    "    else:\n",
    "        costperkm = (row['driving_fare'] / row['distance'])\n",
    "    costsperkm.append(costperkm)\n",
    "\n",
    "training_df.insert(4,\"cost_per_km\",costsperkm)"
   ]
  },
  {
   "cell_type": "code",
   "execution_count": null,
   "metadata": {
    "colab": {},
    "colab_type": "code",
    "id": "zVsGZhgQrktE"
   },
   "outputs": [],
   "source": [
    "training_df = training_df.replace({'label': {'incorrect': 0, 'correct' : 1}})"
   ]
  },
  {
   "cell_type": "markdown",
   "metadata": {
    "colab_type": "text",
    "id": "CEbKexA_Q1YT"
   },
   "source": [
    "<h2>Geolocation clustering</h2>"
   ]
  },
  {
   "cell_type": "code",
   "execution_count": null,
   "metadata": {
    "colab": {},
    "colab_type": "code",
    "id": "6ug-gmPRToHb"
   },
   "outputs": [],
   "source": [
    "test_path =os.path.abspath(os.path.join(os.path.dirname(\"__file__\"), '..', '/content/drive/My Drive/datasets/test.csv'))\n",
    "test_set = pd.read_csv(test_path, index_col=\"tripid\")"
   ]
  },
  {
   "cell_type": "code",
   "execution_count": null,
   "metadata": {
    "colab": {},
    "colab_type": "code",
    "id": "2wE6Zr8GViTs"
   },
   "outputs": [],
   "source": [
    "pickup_locations = pd.DataFrame()\n",
    "drop_locations = pd.DataFrame()\n",
    "test_pickup_locations = pd.DataFrame()\n",
    "test_drop_locations = pd.DataFrame()"
   ]
  },
  {
   "cell_type": "code",
   "execution_count": null,
   "metadata": {
    "colab": {},
    "colab_type": "code",
    "id": "OiX8HCOJQ1YT"
   },
   "outputs": [],
   "source": [
    "pickup_locations[['lat','lon']] = training_df[['pick_lat','pick_lon']]\n",
    "drop_locations[['lat','lon']] = training_df[['drop_lat','drop_lon']]"
   ]
  },
  {
   "cell_type": "code",
   "execution_count": null,
   "metadata": {
    "colab": {},
    "colab_type": "code",
    "id": "ka9i9ETtTsCv"
   },
   "outputs": [],
   "source": [
    "test_pickup_locations[['lat','lon']] = test_set[['pick_lat','pick_lon']]\n",
    "test_drop_locations[['lat','lon']] = test_set[['drop_lat','drop_lon']]"
   ]
  },
  {
   "cell_type": "code",
   "execution_count": null,
   "metadata": {
    "colab": {},
    "colab_type": "code",
    "id": "c8kBRAyeUB2J"
   },
   "outputs": [],
   "source": [
    "pickup_locations = pickup_locations.reset_index()\n",
    "drop_locations = drop_locations.reset_index()\n",
    "test_pickup_locations = test_pickup_locations.reset_index()\n",
    "test_drop_locations = test_drop_locations.reset_index()"
   ]
  },
  {
   "cell_type": "code",
   "execution_count": null,
   "metadata": {
    "colab": {},
    "colab_type": "code",
    "id": "uVJ4CF8PWMtg"
   },
   "outputs": [],
   "source": [
    "df = pd.concat([pickup_locations,drop_locations,test_pickup_locations,test_drop_locations],ignore_index=True )"
   ]
  },
  {
   "cell_type": "code",
   "execution_count": null,
   "metadata": {
    "colab": {},
    "colab_type": "code",
    "id": "sudBcxR1Q1YX"
   },
   "outputs": [],
   "source": [
    "db_pick = DBSCAN(eps=1/6371., min_samples=5, algorithm='ball_tree', metric='haversine').fit(np.radians(df[['lat','lon']]))"
   ]
  },
  {
   "cell_type": "code",
   "execution_count": null,
   "metadata": {
    "colab": {
     "base_uri": "https://localhost:8080/",
     "height": 34
    },
    "colab_type": "code",
    "executionInfo": {
     "elapsed": 1187,
     "status": "ok",
     "timestamp": 1591253941776,
     "user": {
      "displayName": "Ranika Madurawe",
      "photoUrl": "",
      "userId": "08934122972253344059"
     },
     "user_tz": -330
    },
    "id": "sZolLpmXH9uU",
    "outputId": "5231b9eb-4451-4c2a-ac8e-d5ec41b02abf"
   },
   "outputs": [
    {
     "data": {
      "text/plain": [
       "array([0, 0, 0, ..., 0, 0, 0])"
      ]
     },
     "execution_count": 149,
     "metadata": {
      "tags": []
     },
     "output_type": "execute_result"
    }
   ],
   "source": [
    "db_pick.labels_"
   ]
  },
  {
   "cell_type": "code",
   "execution_count": null,
   "metadata": {
    "colab": {
     "base_uri": "https://localhost:8080/",
     "height": 34
    },
    "colab_type": "code",
    "executionInfo": {
     "elapsed": 14461,
     "status": "ok",
     "timestamp": 1591253012670,
     "user": {
      "displayName": "Ranika Madurawe",
      "photoUrl": "",
      "userId": "08934122972253344059"
     },
     "user_tz": -330
    },
    "id": "rDz3bI3CXGG0",
    "outputId": "72fe6786-08cf-40da-ba32-69e10bfec9bf"
   },
   "outputs": [
    {
     "data": {
      "text/plain": [
       "array([0, 0, 0, ..., 0, 0, 0])"
      ]
     },
     "execution_count": 23,
     "metadata": {
      "tags": []
     },
     "output_type": "execute_result"
    }
   ],
   "source": [
    "db_pick.labels_[0:17176]"
   ]
  },
  {
   "cell_type": "code",
   "execution_count": null,
   "metadata": {
    "colab": {},
    "colab_type": "code",
    "id": "l155f0r7Q1Yc"
   },
   "outputs": [],
   "source": [
    "training_df['pickup_cluster_label'] = db_pick.labels_[0:17176]"
   ]
  },
  {
   "cell_type": "code",
   "execution_count": null,
   "metadata": {
    "colab": {
     "base_uri": "https://localhost:8080/",
     "height": 442
    },
    "colab_type": "code",
    "executionInfo": {
     "elapsed": 1029,
     "status": "ok",
     "timestamp": 1591254030846,
     "user": {
      "displayName": "Ranika Madurawe",
      "photoUrl": "",
      "userId": "08934122972253344059"
     },
     "user_tz": -330
    },
    "id": "cyEjRY2WII5w",
    "outputId": "10658184-a490-480b-dff5-d7c0ae389d93"
   },
   "outputs": [
    {
     "data": {
      "text/plain": [
       " 0     14409\n",
       " 1      1870\n",
       " 4       328\n",
       " 2       277\n",
       "-1        75\n",
       " 6        73\n",
       " 3        64\n",
       " 5        26\n",
       " 12       10\n",
       " 15        6\n",
       " 17        6\n",
       " 16        4\n",
       " 13        4\n",
       " 11        4\n",
       " 9         4\n",
       " 18        3\n",
       " 7         3\n",
       " 10        2\n",
       " 8         2\n",
       " 20        1\n",
       " 19        1\n",
       " 22        1\n",
       " 14        1\n",
       " 28        1\n",
       "Name: pickup_cluster_label, dtype: int64"
      ]
     },
     "execution_count": 152,
     "metadata": {
      "tags": []
     },
     "output_type": "execute_result"
    }
   ],
   "source": [
    "training_df['pickup_cluster_label'].value_counts()"
   ]
  },
  {
   "cell_type": "code",
   "execution_count": null,
   "metadata": {
    "colab": {},
    "colab_type": "code",
    "id": "Ke_tWIrRQ1Yg"
   },
   "outputs": [],
   "source": [
    "training_df['drop_cluster_label'] = db_pick.labels_[17176:17176*2]"
   ]
  },
  {
   "cell_type": "markdown",
   "metadata": {
    "colab_type": "text",
    "id": "vASyFGfQQ1Yl"
   },
   "source": [
    "<h2>Final Feature Selection</h2>"
   ]
  },
  {
   "cell_type": "code",
   "execution_count": null,
   "metadata": {
    "colab": {
     "base_uri": "https://localhost:8080/",
     "height": 136
    },
    "colab_type": "code",
    "executionInfo": {
     "elapsed": 9724,
     "status": "ok",
     "timestamp": 1591253012681,
     "user": {
      "displayName": "Ranika Madurawe",
      "photoUrl": "",
      "userId": "08934122972253344059"
     },
     "user_tz": -330
    },
    "id": "jpf70_ZUQ1Ym",
    "outputId": "e69ff066-7afb-4f4e-b055-f44c0fa5c474"
   },
   "outputs": [
    {
     "data": {
      "text/plain": [
       "Index(['additional_fare', 'duration', 'meter_waiting', 'meter_waiting_fare',\n",
       "       'cost_per_km', 'avg_speed', 'charge_per_hour', 'distance', 'time_dif',\n",
       "       'meter_waiting_till_pickup', 'pickup_time', 'drop_time', 'pick_lat',\n",
       "       'pick_lon', 'drop_lat', 'drop_lon', 'fare', 'label', 'timeOfDay',\n",
       "       'isNormalCharge', 'time_driven', 'driving_fare', 'pickup_cluster_label',\n",
       "       'drop_cluster_label'],\n",
       "      dtype='object')"
      ]
     },
     "execution_count": 26,
     "metadata": {
      "tags": []
     },
     "output_type": "execute_result"
    }
   ],
   "source": [
    "training_df.columns"
   ]
  },
  {
   "cell_type": "code",
   "execution_count": null,
   "metadata": {
    "colab": {},
    "colab_type": "code",
    "id": "Drpusfx3Q1Ys"
   },
   "outputs": [],
   "source": [
    "training_columns = ['meter_waiting','meter_waiting_fare','fare','additional_fare', 'distance','cost_per_km', 'avg_speed',  'time_dif','time_driven', 'charge_per_hour', 'driving_fare', 'isNormalCharge','pick_lat','pick_lon','drop_lat','drop_lon','drop_cluster_label','pickup_cluster_label']"
   ]
  },
  {
   "cell_type": "code",
   "execution_count": null,
   "metadata": {
    "colab": {},
    "colab_type": "code",
    "id": "tnbpcAUqruuZ"
   },
   "outputs": [],
   "source": [
    "target_column = ['label']"
   ]
  },
  {
   "cell_type": "code",
   "execution_count": null,
   "metadata": {
    "colab": {},
    "colab_type": "code",
    "id": "5ytCF1RaQ1Yz"
   },
   "outputs": [],
   "source": [
    "training_df = training_df.drop(190167541)"
   ]
  },
  {
   "cell_type": "code",
   "execution_count": null,
   "metadata": {
    "colab": {},
    "colab_type": "code",
    "id": "PrUJfvL1r4pI"
   },
   "outputs": [],
   "source": [
    "x = training_df[training_columns].values\n",
    "y = training_df[target_column].values"
   ]
  },
  {
   "cell_type": "code",
   "execution_count": null,
   "metadata": {
    "colab": {},
    "colab_type": "code",
    "id": "Xfow1Vm-sBI9"
   },
   "outputs": [],
   "source": [
    "x, x_test, y, y_test = train_test_split(x, y, test_size=0.2, random_state=42, stratify=y)"
   ]
  },
  {
   "cell_type": "code",
   "execution_count": null,
   "metadata": {
    "colab": {
     "base_uri": "https://localhost:8080/",
     "height": 68
    },
    "colab_type": "code",
    "executionInfo": {
     "elapsed": 868,
     "status": "ok",
     "timestamp": 1591253022072,
     "user": {
      "displayName": "Ranika Madurawe",
      "photoUrl": "",
      "userId": "08934122972253344059"
     },
     "user_tz": -330
    },
    "id": "Q9IqseZSQ1Y_",
    "outputId": "24878eb5-303a-4304-9327-61e4a95e7876"
   },
   "outputs": [
    {
     "data": {
      "text/plain": [
       "1    15494\n",
       "0     1681\n",
       "Name: label, dtype: int64"
      ]
     },
     "execution_count": 32,
     "metadata": {
      "tags": []
     },
     "output_type": "execute_result"
    }
   ],
   "source": [
    "training_df['label'].value_counts()"
   ]
  },
  {
   "cell_type": "markdown",
   "metadata": {
    "colab_type": "text",
    "id": "CNuq_-nNQ1ZD"
   },
   "source": [
    "<h1>Model Training</h1>"
   ]
  },
  {
   "cell_type": "markdown",
   "metadata": {
    "colab_type": "text",
    "id": "dIBY_8MfEOSZ"
   },
   "source": [
    "<h2>Eval Metric Definition</h2>"
   ]
  },
  {
   "cell_type": "code",
   "execution_count": null,
   "metadata": {
    "colab": {},
    "colab_type": "code",
    "id": "Yn5TQlKDQ1ZD"
   },
   "outputs": [],
   "source": [
    "def focal_loss_lgb_eval_error(y_true, y_pred, alpha=.25, gamma=2.):\n",
    "    a,g = alpha, gamma\n",
    "    p = 1/(1+np.exp(-y_pred))\n",
    "    loss = -( a*y_true + (1-a)*(1-y_true) ) * (( 1 - ( y_true*p + (1-y_true)*(1-p)) )**g) * ( y_true*np.log(p)+(1-y_true)*np.log(1-p) )\n",
    "    return 'focal_loss', np.mean(loss), False"
   ]
  },
  {
   "cell_type": "code",
   "execution_count": null,
   "metadata": {
    "colab": {},
    "colab_type": "code",
    "id": "O1-HP8oJQ1ZG"
   },
   "outputs": [],
   "source": [
    "from sklearn.metrics import f1_score\n",
    "def evaluate_macroF1_lgb(y_true, y_pred):  \n",
    "    y_hat = np.where(y_pred < 0.5, 0, 1) \n",
    "    f1 = f1_score(y_true, y_hat, average='macro')\n",
    "    return ('macroF1', f1, True) "
   ]
  },
  {
   "cell_type": "markdown",
   "metadata": {
    "colab_type": "text",
    "id": "2C3SQgz8EOSg"
   },
   "source": [
    "<h2>Training the Model</h2>"
   ]
  },
  {
   "cell_type": "code",
   "execution_count": null,
   "metadata": {
    "colab": {},
    "colab_type": "code",
    "id": "9ebllEQgQ1ZJ"
   },
   "outputs": [],
   "source": [
    "gkf = StratifiedKFold(n_splits=5, shuffle=True, random_state=42)"
   ]
  },
  {
   "cell_type": "code",
   "execution_count": null,
   "metadata": {
    "colab": {},
    "colab_type": "code",
    "id": "BRBFHuc3Q1ZN"
   },
   "outputs": [],
   "source": [
    "model = XGBClassifier( scale_pos_weight=1, learning_rate=0.6, eval_metric='logloss')"
   ]
  },
  {
   "cell_type": "code",
   "execution_count": null,
   "metadata": {
    "colab": {
     "base_uri": "https://localhost:8080/",
     "height": 1000
    },
    "colab_type": "code",
    "executionInfo": {
     "elapsed": 10918,
     "status": "ok",
     "timestamp": 1591253821631,
     "user": {
      "displayName": "Ranika Madurawe",
      "photoUrl": "",
      "userId": "08934122972253344059"
     },
     "user_tz": -330
    },
    "id": "K8_EvQatQ1ZQ",
    "outputId": "fb0ed31c-0f6d-4725-aeb3-d3f1e16decd6"
   },
   "outputs": [
    {
     "name": "stdout",
     "output_type": "stream",
     "text": [
      "[0]\tvalidation_0-logloss:0.374034\n",
      "[1]\tvalidation_0-logloss:0.273479\n",
      "[2]\tvalidation_0-logloss:0.223017\n",
      "[3]\tvalidation_0-logloss:0.196113\n",
      "[4]\tvalidation_0-logloss:0.176907\n",
      "[5]\tvalidation_0-logloss:0.169543\n",
      "[6]\tvalidation_0-logloss:0.164202\n",
      "[7]\tvalidation_0-logloss:0.158004\n",
      "[8]\tvalidation_0-logloss:0.157001\n"
     ]
    },
    {
     "name": "stderr",
     "output_type": "stream",
     "text": [
      "/usr/local/lib/python3.6/dist-packages/sklearn/preprocessing/_label.py:235: DataConversionWarning: A column-vector y was passed when a 1d array was expected. Please change the shape of y to (n_samples, ), for example using ravel().\n",
      "  y = column_or_1d(y, warn=True)\n",
      "/usr/local/lib/python3.6/dist-packages/sklearn/preprocessing/_label.py:268: DataConversionWarning: A column-vector y was passed when a 1d array was expected. Please change the shape of y to (n_samples, ), for example using ravel().\n",
      "  y = column_or_1d(y, warn=True)\n"
     ]
    },
    {
     "name": "stdout",
     "output_type": "stream",
     "text": [
      "[9]\tvalidation_0-logloss:0.155688\n",
      "[10]\tvalidation_0-logloss:0.152632\n",
      "[11]\tvalidation_0-logloss:0.150826\n",
      "[12]\tvalidation_0-logloss:0.151042\n",
      "[13]\tvalidation_0-logloss:0.150815\n",
      "[14]\tvalidation_0-logloss:0.150411\n",
      "[15]\tvalidation_0-logloss:0.148578\n",
      "[16]\tvalidation_0-logloss:0.148152\n",
      "[17]\tvalidation_0-logloss:0.147525\n",
      "[18]\tvalidation_0-logloss:0.145773\n",
      "[19]\tvalidation_0-logloss:0.146239\n",
      "[20]\tvalidation_0-logloss:0.145611\n",
      "[21]\tvalidation_0-logloss:0.144963\n",
      "[22]\tvalidation_0-logloss:0.145574\n",
      "[23]\tvalidation_0-logloss:0.145854\n",
      "[24]\tvalidation_0-logloss:0.144814\n",
      "[25]\tvalidation_0-logloss:0.144705\n",
      "[26]\tvalidation_0-logloss:0.144883\n",
      "[27]\tvalidation_0-logloss:0.144718\n",
      "[28]\tvalidation_0-logloss:0.145118\n",
      "[29]\tvalidation_0-logloss:0.145861\n",
      "[30]\tvalidation_0-logloss:0.14569\n",
      "[31]\tvalidation_0-logloss:0.14587\n",
      "[32]\tvalidation_0-logloss:0.145811\n",
      "[33]\tvalidation_0-logloss:0.145274\n",
      "[34]\tvalidation_0-logloss:0.144837\n",
      "[35]\tvalidation_0-logloss:0.145083\n",
      "[36]\tvalidation_0-logloss:0.145775\n",
      "[37]\tvalidation_0-logloss:0.146952\n",
      "[38]\tvalidation_0-logloss:0.147772\n",
      "[39]\tvalidation_0-logloss:0.148126\n",
      "[40]\tvalidation_0-logloss:0.148323\n",
      "[41]\tvalidation_0-logloss:0.14782\n",
      "[42]\tvalidation_0-logloss:0.14824\n",
      "[43]\tvalidation_0-logloss:0.149132\n",
      "[44]\tvalidation_0-logloss:0.149288\n",
      "[45]\tvalidation_0-logloss:0.148917\n",
      "[46]\tvalidation_0-logloss:0.148721\n",
      "[47]\tvalidation_0-logloss:0.149056\n",
      "[48]\tvalidation_0-logloss:0.148395\n",
      "[49]\tvalidation_0-logloss:0.148299\n",
      "[50]\tvalidation_0-logloss:0.147969\n",
      "[51]\tvalidation_0-logloss:0.147747\n",
      "[52]\tvalidation_0-logloss:0.147151\n",
      "[53]\tvalidation_0-logloss:0.14757\n",
      "[54]\tvalidation_0-logloss:0.147159\n",
      "[55]\tvalidation_0-logloss:0.148013\n",
      "[56]\tvalidation_0-logloss:0.148443\n",
      "[57]\tvalidation_0-logloss:0.148935\n",
      "[58]\tvalidation_0-logloss:0.148138\n",
      "[59]\tvalidation_0-logloss:0.148753\n",
      "[60]\tvalidation_0-logloss:0.148724\n",
      "[61]\tvalidation_0-logloss:0.14896\n",
      "[62]\tvalidation_0-logloss:0.150087\n",
      "[63]\tvalidation_0-logloss:0.151348\n",
      "[64]\tvalidation_0-logloss:0.152412\n",
      "[65]\tvalidation_0-logloss:0.15249\n",
      "[66]\tvalidation_0-logloss:0.152596\n",
      "[67]\tvalidation_0-logloss:0.153208\n",
      "[68]\tvalidation_0-logloss:0.152842\n",
      "[69]\tvalidation_0-logloss:0.153802\n",
      "[70]\tvalidation_0-logloss:0.154484\n",
      "[71]\tvalidation_0-logloss:0.154648\n",
      "[72]\tvalidation_0-logloss:0.156005\n",
      "[73]\tvalidation_0-logloss:0.15614\n",
      "[74]\tvalidation_0-logloss:0.15625\n",
      "[75]\tvalidation_0-logloss:0.156537\n",
      "[76]\tvalidation_0-logloss:0.156209\n",
      "[77]\tvalidation_0-logloss:0.156913\n",
      "[78]\tvalidation_0-logloss:0.157978\n",
      "[79]\tvalidation_0-logloss:0.15891\n",
      "[80]\tvalidation_0-logloss:0.159118\n",
      "[81]\tvalidation_0-logloss:0.159359\n",
      "[82]\tvalidation_0-logloss:0.160129\n",
      "[83]\tvalidation_0-logloss:0.159376\n",
      "[84]\tvalidation_0-logloss:0.159249\n",
      "[85]\tvalidation_0-logloss:0.159319\n",
      "[86]\tvalidation_0-logloss:0.15963\n",
      "[87]\tvalidation_0-logloss:0.159552\n",
      "[88]\tvalidation_0-logloss:0.160453\n",
      "[89]\tvalidation_0-logloss:0.161017\n",
      "[90]\tvalidation_0-logloss:0.162228\n",
      "[91]\tvalidation_0-logloss:0.162673\n",
      "[92]\tvalidation_0-logloss:0.162384\n",
      "[93]\tvalidation_0-logloss:0.162302\n",
      "[94]\tvalidation_0-logloss:0.162461\n",
      "[95]\tvalidation_0-logloss:0.163124\n",
      "[96]\tvalidation_0-logloss:0.162854\n",
      "[97]\tvalidation_0-logloss:0.162674\n",
      "[98]\tvalidation_0-logloss:0.162874\n",
      "[99]\tvalidation_0-logloss:0.162248\n",
      "[0]\tvalidation_0-logloss:0.367771\n",
      "[1]\tvalidation_0-logloss:0.266688\n",
      "[2]\tvalidation_0-logloss:0.218629\n",
      "[3]\tvalidation_0-logloss:0.193939\n",
      "[4]\tvalidation_0-logloss:0.183112\n",
      "[5]\tvalidation_0-logloss:0.178516\n",
      "[6]\tvalidation_0-logloss:0.176205\n",
      "[7]\tvalidation_0-logloss:0.171849\n",
      "[8]\tvalidation_0-logloss:0.170688\n",
      "[9]\tvalidation_0-logloss:0.166877\n",
      "[10]\tvalidation_0-logloss:0.164489\n",
      "[11]\tvalidation_0-logloss:0.162584\n",
      "[12]\tvalidation_0-logloss:0.162524\n",
      "[13]\tvalidation_0-logloss:0.16168\n",
      "[14]\tvalidation_0-logloss:0.164298\n",
      "[15]\tvalidation_0-logloss:0.16364\n",
      "[16]\tvalidation_0-logloss:0.160306\n",
      "[17]\tvalidation_0-logloss:0.160666\n",
      "[18]\tvalidation_0-logloss:0.160149\n",
      "[19]\tvalidation_0-logloss:0.159832\n",
      "[20]\tvalidation_0-logloss:0.156654\n",
      "[21]\tvalidation_0-logloss:0.156432\n",
      "[22]\tvalidation_0-logloss:0.157124\n",
      "[23]\tvalidation_0-logloss:0.158974\n",
      "[24]\tvalidation_0-logloss:0.159974\n",
      "[25]\tvalidation_0-logloss:0.160577\n",
      "[26]\tvalidation_0-logloss:0.159791\n",
      "[27]\tvalidation_0-logloss:0.161081\n",
      "[28]\tvalidation_0-logloss:0.161213\n",
      "[29]\tvalidation_0-logloss:0.161822\n",
      "[30]\tvalidation_0-logloss:0.16211\n",
      "[31]\tvalidation_0-logloss:0.162692\n",
      "[32]\tvalidation_0-logloss:0.162884\n",
      "[33]\tvalidation_0-logloss:0.163176\n",
      "[34]\tvalidation_0-logloss:0.162781\n",
      "[35]\tvalidation_0-logloss:0.162574\n",
      "[36]\tvalidation_0-logloss:0.162026\n",
      "[37]\tvalidation_0-logloss:0.162307\n",
      "[38]\tvalidation_0-logloss:0.162234\n",
      "[39]\tvalidation_0-logloss:0.163957\n",
      "[40]\tvalidation_0-logloss:0.164345\n",
      "[41]\tvalidation_0-logloss:0.165409\n",
      "[42]\tvalidation_0-logloss:0.167292\n",
      "[43]\tvalidation_0-logloss:0.167423\n",
      "[44]\tvalidation_0-logloss:0.166169\n",
      "[45]\tvalidation_0-logloss:0.166408\n",
      "[46]\tvalidation_0-logloss:0.166359\n",
      "[47]\tvalidation_0-logloss:0.166403\n",
      "[48]\tvalidation_0-logloss:0.167273\n",
      "[49]\tvalidation_0-logloss:0.16588\n",
      "[50]\tvalidation_0-logloss:0.165782\n",
      "[51]\tvalidation_0-logloss:0.16548\n",
      "[52]\tvalidation_0-logloss:0.165483\n",
      "[53]\tvalidation_0-logloss:0.165454\n",
      "[54]\tvalidation_0-logloss:0.165809\n",
      "[55]\tvalidation_0-logloss:0.165437\n",
      "[56]\tvalidation_0-logloss:0.165845\n",
      "[57]\tvalidation_0-logloss:0.165561\n",
      "[58]\tvalidation_0-logloss:0.166079\n",
      "[59]\tvalidation_0-logloss:0.165743\n",
      "[60]\tvalidation_0-logloss:0.165717\n",
      "[61]\tvalidation_0-logloss:0.165904\n",
      "[62]\tvalidation_0-logloss:0.1653\n",
      "[63]\tvalidation_0-logloss:0.165056\n",
      "[64]\tvalidation_0-logloss:0.166024\n",
      "[65]\tvalidation_0-logloss:0.166017\n",
      "[66]\tvalidation_0-logloss:0.166741\n",
      "[67]\tvalidation_0-logloss:0.16731\n",
      "[68]\tvalidation_0-logloss:0.167266\n",
      "[69]\tvalidation_0-logloss:0.166642\n",
      "[70]\tvalidation_0-logloss:0.166826\n",
      "[71]\tvalidation_0-logloss:0.167111\n",
      "[72]\tvalidation_0-logloss:0.167318\n",
      "[73]\tvalidation_0-logloss:0.167732\n",
      "[74]\tvalidation_0-logloss:0.167973\n",
      "[75]\tvalidation_0-logloss:0.16795\n",
      "[76]\tvalidation_0-logloss:0.168414\n",
      "[77]\tvalidation_0-logloss:0.16918\n",
      "[78]\tvalidation_0-logloss:0.169246\n",
      "[79]\tvalidation_0-logloss:0.169273\n",
      "[80]\tvalidation_0-logloss:0.169622\n",
      "[81]\tvalidation_0-logloss:0.169698\n",
      "[82]\tvalidation_0-logloss:0.170374\n",
      "[83]\tvalidation_0-logloss:0.170344\n",
      "[84]\tvalidation_0-logloss:0.170524\n",
      "[85]\tvalidation_0-logloss:0.170349\n",
      "[86]\tvalidation_0-logloss:0.170333\n",
      "[87]\tvalidation_0-logloss:0.171624\n",
      "[88]\tvalidation_0-logloss:0.171486\n",
      "[89]\tvalidation_0-logloss:0.171631\n",
      "[90]\tvalidation_0-logloss:0.171761\n",
      "[91]\tvalidation_0-logloss:0.172828\n",
      "[92]\tvalidation_0-logloss:0.172675\n",
      "[93]\tvalidation_0-logloss:0.172252\n",
      "[94]\tvalidation_0-logloss:0.172582\n",
      "[95]\tvalidation_0-logloss:0.172334\n",
      "[96]\tvalidation_0-logloss:0.172758\n",
      "[97]\tvalidation_0-logloss:0.172213\n",
      "[98]\tvalidation_0-logloss:0.172084\n",
      "[99]\tvalidation_0-logloss:0.171302\n",
      "[0]\tvalidation_0-logloss:0.374343\n",
      "[1]\tvalidation_0-logloss:0.274658\n",
      "[2]\tvalidation_0-logloss:0.222624\n",
      "[3]\tvalidation_0-logloss:0.203822\n",
      "[4]\tvalidation_0-logloss:0.18467\n",
      "[5]\tvalidation_0-logloss:0.176405\n",
      "[6]\tvalidation_0-logloss:0.172334\n",
      "[7]\tvalidation_0-logloss:0.169747\n",
      "[8]\tvalidation_0-logloss:0.16428\n",
      "[9]\tvalidation_0-logloss:0.163464\n",
      "[10]\tvalidation_0-logloss:0.161294\n",
      "[11]\tvalidation_0-logloss:0.159435\n",
      "[12]\tvalidation_0-logloss:0.159477\n",
      "[13]\tvalidation_0-logloss:0.159383\n",
      "[14]\tvalidation_0-logloss:0.157664\n",
      "[15]\tvalidation_0-logloss:0.158106\n",
      "[16]\tvalidation_0-logloss:0.156584\n",
      "[17]\tvalidation_0-logloss:0.155771\n",
      "[18]\tvalidation_0-logloss:0.153638\n",
      "[19]\tvalidation_0-logloss:0.15397\n",
      "[20]\tvalidation_0-logloss:0.154098\n",
      "[21]\tvalidation_0-logloss:0.153586\n",
      "[22]\tvalidation_0-logloss:0.15469\n",
      "[23]\tvalidation_0-logloss:0.154414\n",
      "[24]\tvalidation_0-logloss:0.153213\n",
      "[25]\tvalidation_0-logloss:0.15374\n",
      "[26]\tvalidation_0-logloss:0.153881\n",
      "[27]\tvalidation_0-logloss:0.154067\n",
      "[28]\tvalidation_0-logloss:0.154209\n",
      "[29]\tvalidation_0-logloss:0.155849\n",
      "[30]\tvalidation_0-logloss:0.156034\n",
      "[31]\tvalidation_0-logloss:0.156765\n",
      "[32]\tvalidation_0-logloss:0.157592\n",
      "[33]\tvalidation_0-logloss:0.158217\n",
      "[34]\tvalidation_0-logloss:0.157963\n",
      "[35]\tvalidation_0-logloss:0.157899\n",
      "[36]\tvalidation_0-logloss:0.157773\n",
      "[37]\tvalidation_0-logloss:0.158003\n",
      "[38]\tvalidation_0-logloss:0.158449\n",
      "[39]\tvalidation_0-logloss:0.15864\n",
      "[40]\tvalidation_0-logloss:0.159867\n",
      "[41]\tvalidation_0-logloss:0.160282\n",
      "[42]\tvalidation_0-logloss:0.159392\n",
      "[43]\tvalidation_0-logloss:0.159373\n",
      "[44]\tvalidation_0-logloss:0.159698\n",
      "[45]\tvalidation_0-logloss:0.159858\n",
      "[46]\tvalidation_0-logloss:0.159908\n",
      "[47]\tvalidation_0-logloss:0.15968\n",
      "[48]\tvalidation_0-logloss:0.159927\n",
      "[49]\tvalidation_0-logloss:0.158341\n",
      "[50]\tvalidation_0-logloss:0.158923\n",
      "[51]\tvalidation_0-logloss:0.159773\n",
      "[52]\tvalidation_0-logloss:0.159761\n",
      "[53]\tvalidation_0-logloss:0.161009\n",
      "[54]\tvalidation_0-logloss:0.161165\n",
      "[55]\tvalidation_0-logloss:0.161817\n",
      "[56]\tvalidation_0-logloss:0.162931\n",
      "[57]\tvalidation_0-logloss:0.162363\n",
      "[58]\tvalidation_0-logloss:0.16281\n",
      "[59]\tvalidation_0-logloss:0.162552\n",
      "[60]\tvalidation_0-logloss:0.163344\n",
      "[61]\tvalidation_0-logloss:0.163582\n",
      "[62]\tvalidation_0-logloss:0.163639\n",
      "[63]\tvalidation_0-logloss:0.163935\n",
      "[64]\tvalidation_0-logloss:0.164903\n",
      "[65]\tvalidation_0-logloss:0.165707\n",
      "[66]\tvalidation_0-logloss:0.165054\n",
      "[67]\tvalidation_0-logloss:0.165548\n",
      "[68]\tvalidation_0-logloss:0.165416\n",
      "[69]\tvalidation_0-logloss:0.165527\n",
      "[70]\tvalidation_0-logloss:0.165313\n",
      "[71]\tvalidation_0-logloss:0.166138\n",
      "[72]\tvalidation_0-logloss:0.166758\n",
      "[73]\tvalidation_0-logloss:0.16699\n",
      "[74]\tvalidation_0-logloss:0.168861\n",
      "[75]\tvalidation_0-logloss:0.168942\n",
      "[76]\tvalidation_0-logloss:0.168742\n",
      "[77]\tvalidation_0-logloss:0.168797\n",
      "[78]\tvalidation_0-logloss:0.168868\n",
      "[79]\tvalidation_0-logloss:0.168544\n",
      "[80]\tvalidation_0-logloss:0.169105\n",
      "[81]\tvalidation_0-logloss:0.16985\n",
      "[82]\tvalidation_0-logloss:0.170053\n",
      "[83]\tvalidation_0-logloss:0.170599\n",
      "[84]\tvalidation_0-logloss:0.171098\n",
      "[85]\tvalidation_0-logloss:0.171533\n",
      "[86]\tvalidation_0-logloss:0.171996\n",
      "[87]\tvalidation_0-logloss:0.172291\n",
      "[88]\tvalidation_0-logloss:0.172147\n",
      "[89]\tvalidation_0-logloss:0.17278\n",
      "[90]\tvalidation_0-logloss:0.173054\n",
      "[91]\tvalidation_0-logloss:0.17296\n",
      "[92]\tvalidation_0-logloss:0.172917\n",
      "[93]\tvalidation_0-logloss:0.173682\n",
      "[94]\tvalidation_0-logloss:0.173925\n",
      "[95]\tvalidation_0-logloss:0.17344\n",
      "[96]\tvalidation_0-logloss:0.17417\n",
      "[97]\tvalidation_0-logloss:0.174823\n",
      "[98]\tvalidation_0-logloss:0.175564\n",
      "[99]\tvalidation_0-logloss:0.175001\n",
      "[0]\tvalidation_0-logloss:0.36915\n",
      "[1]\tvalidation_0-logloss:0.269114\n",
      "[2]\tvalidation_0-logloss:0.228898\n",
      "[3]\tvalidation_0-logloss:0.195932\n",
      "[4]\tvalidation_0-logloss:0.180963\n",
      "[5]\tvalidation_0-logloss:0.175118\n",
      "[6]\tvalidation_0-logloss:0.168837\n",
      "[7]\tvalidation_0-logloss:0.157468\n",
      "[8]\tvalidation_0-logloss:0.1533\n",
      "[9]\tvalidation_0-logloss:0.153071\n",
      "[10]\tvalidation_0-logloss:0.148861\n",
      "[11]\tvalidation_0-logloss:0.146656\n",
      "[12]\tvalidation_0-logloss:0.146829\n",
      "[13]\tvalidation_0-logloss:0.144035\n",
      "[14]\tvalidation_0-logloss:0.143941\n",
      "[15]\tvalidation_0-logloss:0.143964\n",
      "[16]\tvalidation_0-logloss:0.143031\n",
      "[17]\tvalidation_0-logloss:0.141978\n",
      "[18]\tvalidation_0-logloss:0.141151\n",
      "[19]\tvalidation_0-logloss:0.141109\n",
      "[20]\tvalidation_0-logloss:0.140761\n",
      "[21]\tvalidation_0-logloss:0.140782\n",
      "[22]\tvalidation_0-logloss:0.141407\n",
      "[23]\tvalidation_0-logloss:0.141755\n",
      "[24]\tvalidation_0-logloss:0.143367\n",
      "[25]\tvalidation_0-logloss:0.143927\n",
      "[26]\tvalidation_0-logloss:0.144203\n",
      "[27]\tvalidation_0-logloss:0.144582\n",
      "[28]\tvalidation_0-logloss:0.144941\n",
      "[29]\tvalidation_0-logloss:0.145344\n",
      "[30]\tvalidation_0-logloss:0.145422\n",
      "[31]\tvalidation_0-logloss:0.145464\n",
      "[32]\tvalidation_0-logloss:0.145991\n",
      "[33]\tvalidation_0-logloss:0.146355\n",
      "[34]\tvalidation_0-logloss:0.146003\n",
      "[35]\tvalidation_0-logloss:0.146496\n",
      "[36]\tvalidation_0-logloss:0.146613\n",
      "[37]\tvalidation_0-logloss:0.14694\n",
      "[38]\tvalidation_0-logloss:0.147338\n",
      "[39]\tvalidation_0-logloss:0.14726\n",
      "[40]\tvalidation_0-logloss:0.147095\n",
      "[41]\tvalidation_0-logloss:0.147376\n",
      "[42]\tvalidation_0-logloss:0.147535\n",
      "[43]\tvalidation_0-logloss:0.147405\n",
      "[44]\tvalidation_0-logloss:0.147982\n",
      "[45]\tvalidation_0-logloss:0.147537\n",
      "[46]\tvalidation_0-logloss:0.14853\n",
      "[47]\tvalidation_0-logloss:0.148668\n",
      "[48]\tvalidation_0-logloss:0.14877\n",
      "[49]\tvalidation_0-logloss:0.148595\n",
      "[50]\tvalidation_0-logloss:0.149686\n",
      "[51]\tvalidation_0-logloss:0.14944\n",
      "[52]\tvalidation_0-logloss:0.149674\n",
      "[53]\tvalidation_0-logloss:0.150423\n",
      "[54]\tvalidation_0-logloss:0.150419\n",
      "[55]\tvalidation_0-logloss:0.150845\n",
      "[56]\tvalidation_0-logloss:0.151299\n",
      "[57]\tvalidation_0-logloss:0.151484\n",
      "[58]\tvalidation_0-logloss:0.151835\n",
      "[59]\tvalidation_0-logloss:0.15201\n",
      "[60]\tvalidation_0-logloss:0.152075\n",
      "[61]\tvalidation_0-logloss:0.152149\n",
      "[62]\tvalidation_0-logloss:0.151776\n",
      "[63]\tvalidation_0-logloss:0.152355\n",
      "[64]\tvalidation_0-logloss:0.152856\n",
      "[65]\tvalidation_0-logloss:0.153111\n",
      "[66]\tvalidation_0-logloss:0.153092\n",
      "[67]\tvalidation_0-logloss:0.153082\n",
      "[68]\tvalidation_0-logloss:0.152789\n",
      "[69]\tvalidation_0-logloss:0.152767\n",
      "[70]\tvalidation_0-logloss:0.153344\n",
      "[71]\tvalidation_0-logloss:0.15369\n",
      "[72]\tvalidation_0-logloss:0.153537\n",
      "[73]\tvalidation_0-logloss:0.153368\n",
      "[74]\tvalidation_0-logloss:0.153256\n",
      "[75]\tvalidation_0-logloss:0.154076\n",
      "[76]\tvalidation_0-logloss:0.154021\n",
      "[77]\tvalidation_0-logloss:0.154799\n",
      "[78]\tvalidation_0-logloss:0.154345\n",
      "[79]\tvalidation_0-logloss:0.154841\n",
      "[80]\tvalidation_0-logloss:0.154357\n",
      "[81]\tvalidation_0-logloss:0.154566\n",
      "[82]\tvalidation_0-logloss:0.154708\n",
      "[83]\tvalidation_0-logloss:0.155149\n",
      "[84]\tvalidation_0-logloss:0.155331\n",
      "[85]\tvalidation_0-logloss:0.155401\n",
      "[86]\tvalidation_0-logloss:0.15551\n",
      "[87]\tvalidation_0-logloss:0.156051\n",
      "[88]\tvalidation_0-logloss:0.156719\n",
      "[89]\tvalidation_0-logloss:0.157035\n",
      "[90]\tvalidation_0-logloss:0.157324\n",
      "[91]\tvalidation_0-logloss:0.15748\n",
      "[92]\tvalidation_0-logloss:0.156948\n",
      "[93]\tvalidation_0-logloss:0.156818\n",
      "[94]\tvalidation_0-logloss:0.157171\n",
      "[95]\tvalidation_0-logloss:0.157286\n",
      "[96]\tvalidation_0-logloss:0.157866\n",
      "[97]\tvalidation_0-logloss:0.15827\n",
      "[98]\tvalidation_0-logloss:0.158602\n",
      "[99]\tvalidation_0-logloss:0.159008\n",
      "[0]\tvalidation_0-logloss:0.374476\n",
      "[1]\tvalidation_0-logloss:0.278309\n",
      "[2]\tvalidation_0-logloss:0.222598\n",
      "[3]\tvalidation_0-logloss:0.201038\n",
      "[4]\tvalidation_0-logloss:0.19118\n",
      "[5]\tvalidation_0-logloss:0.183468\n",
      "[6]\tvalidation_0-logloss:0.176669\n",
      "[7]\tvalidation_0-logloss:0.172597\n",
      "[8]\tvalidation_0-logloss:0.171181\n",
      "[9]\tvalidation_0-logloss:0.165888\n",
      "[10]\tvalidation_0-logloss:0.164406\n",
      "[11]\tvalidation_0-logloss:0.161035\n",
      "[12]\tvalidation_0-logloss:0.158498\n",
      "[13]\tvalidation_0-logloss:0.157467\n",
      "[14]\tvalidation_0-logloss:0.156584\n",
      "[15]\tvalidation_0-logloss:0.155912\n",
      "[16]\tvalidation_0-logloss:0.151949\n",
      "[17]\tvalidation_0-logloss:0.152101\n",
      "[18]\tvalidation_0-logloss:0.15195\n",
      "[19]\tvalidation_0-logloss:0.152193\n",
      "[20]\tvalidation_0-logloss:0.153043\n",
      "[21]\tvalidation_0-logloss:0.153228\n",
      "[22]\tvalidation_0-logloss:0.153293\n",
      "[23]\tvalidation_0-logloss:0.15356\n",
      "[24]\tvalidation_0-logloss:0.152998\n",
      "[25]\tvalidation_0-logloss:0.154361\n",
      "[26]\tvalidation_0-logloss:0.152889\n",
      "[27]\tvalidation_0-logloss:0.153592\n",
      "[28]\tvalidation_0-logloss:0.154005\n",
      "[29]\tvalidation_0-logloss:0.1537\n",
      "[30]\tvalidation_0-logloss:0.153909\n",
      "[31]\tvalidation_0-logloss:0.153783\n",
      "[32]\tvalidation_0-logloss:0.154111\n",
      "[33]\tvalidation_0-logloss:0.153821\n",
      "[34]\tvalidation_0-logloss:0.155613\n",
      "[35]\tvalidation_0-logloss:0.155325\n",
      "[36]\tvalidation_0-logloss:0.155384\n",
      "[37]\tvalidation_0-logloss:0.155269\n",
      "[38]\tvalidation_0-logloss:0.155365\n",
      "[39]\tvalidation_0-logloss:0.155618\n",
      "[40]\tvalidation_0-logloss:0.155001\n",
      "[41]\tvalidation_0-logloss:0.155752\n",
      "[42]\tvalidation_0-logloss:0.155831\n",
      "[43]\tvalidation_0-logloss:0.15725\n",
      "[44]\tvalidation_0-logloss:0.157315\n",
      "[45]\tvalidation_0-logloss:0.157335\n",
      "[46]\tvalidation_0-logloss:0.157239\n",
      "[47]\tvalidation_0-logloss:0.157601\n",
      "[48]\tvalidation_0-logloss:0.157682\n",
      "[49]\tvalidation_0-logloss:0.158159\n",
      "[50]\tvalidation_0-logloss:0.158025\n",
      "[51]\tvalidation_0-logloss:0.158703\n",
      "[52]\tvalidation_0-logloss:0.158851\n",
      "[53]\tvalidation_0-logloss:0.159438\n",
      "[54]\tvalidation_0-logloss:0.159274\n",
      "[55]\tvalidation_0-logloss:0.159157\n",
      "[56]\tvalidation_0-logloss:0.159998\n",
      "[57]\tvalidation_0-logloss:0.159636\n",
      "[58]\tvalidation_0-logloss:0.159902\n",
      "[59]\tvalidation_0-logloss:0.160475\n",
      "[60]\tvalidation_0-logloss:0.160585\n",
      "[61]\tvalidation_0-logloss:0.161025\n",
      "[62]\tvalidation_0-logloss:0.16182\n",
      "[63]\tvalidation_0-logloss:0.16164\n",
      "[64]\tvalidation_0-logloss:0.161493\n",
      "[65]\tvalidation_0-logloss:0.161235\n",
      "[66]\tvalidation_0-logloss:0.161299\n",
      "[67]\tvalidation_0-logloss:0.160998\n",
      "[68]\tvalidation_0-logloss:0.161204\n",
      "[69]\tvalidation_0-logloss:0.161082\n",
      "[70]\tvalidation_0-logloss:0.161188\n",
      "[71]\tvalidation_0-logloss:0.160253\n",
      "[72]\tvalidation_0-logloss:0.160413\n",
      "[73]\tvalidation_0-logloss:0.160168\n",
      "[74]\tvalidation_0-logloss:0.160382\n",
      "[75]\tvalidation_0-logloss:0.161994\n",
      "[76]\tvalidation_0-logloss:0.162326\n",
      "[77]\tvalidation_0-logloss:0.162359\n",
      "[78]\tvalidation_0-logloss:0.162435\n",
      "[79]\tvalidation_0-logloss:0.16264\n",
      "[80]\tvalidation_0-logloss:0.1619\n",
      "[81]\tvalidation_0-logloss:0.162186\n",
      "[82]\tvalidation_0-logloss:0.162032\n",
      "[83]\tvalidation_0-logloss:0.162207\n",
      "[84]\tvalidation_0-logloss:0.161975\n",
      "[85]\tvalidation_0-logloss:0.162412\n",
      "[86]\tvalidation_0-logloss:0.162599\n",
      "[87]\tvalidation_0-logloss:0.163084\n",
      "[88]\tvalidation_0-logloss:0.164295\n",
      "[89]\tvalidation_0-logloss:0.164011\n",
      "[90]\tvalidation_0-logloss:0.164043\n",
      "[91]\tvalidation_0-logloss:0.164161\n",
      "[92]\tvalidation_0-logloss:0.164037\n",
      "[93]\tvalidation_0-logloss:0.163944\n",
      "[94]\tvalidation_0-logloss:0.16402\n",
      "[95]\tvalidation_0-logloss:0.164329\n",
      "[96]\tvalidation_0-logloss:0.164047\n",
      "[97]\tvalidation_0-logloss:0.164049\n",
      "[98]\tvalidation_0-logloss:0.164322\n",
      "[99]\tvalidation_0-logloss:0.16402\n"
     ]
    }
   ],
   "source": [
    "for training_index, testing_index in gkf.split(X=x, y=y):\n",
    "    x_train_fold, y_train_fold = x[training_index], y[training_index]\n",
    "    x_test_fold, y_test_fold = x[testing_index], y[testing_index]\n",
    "    model.fit(x_train_fold, y_train_fold, eval_set=[(x_test_fold,y_test_fold)])"
   ]
  },
  {
   "cell_type": "markdown",
   "metadata": {
    "colab_type": "text",
    "id": "ncHt-u-MEOSs"
   },
   "source": [
    "<h2>Model Evaluation</h2>"
   ]
  },
  {
   "cell_type": "code",
   "execution_count": null,
   "metadata": {
    "colab": {},
    "colab_type": "code",
    "id": "av9oIRfQQ1ZT"
   },
   "outputs": [],
   "source": [
    "predicted_y = model.predict(x_test)\n",
    "train_pred_y = model.predict(x)"
   ]
  },
  {
   "cell_type": "code",
   "execution_count": null,
   "metadata": {
    "colab": {
     "base_uri": "https://localhost:8080/",
     "height": 459
    },
    "colab_type": "code",
    "executionInfo": {
     "elapsed": 737,
     "status": "ok",
     "timestamp": 1591253827510,
     "user": {
      "displayName": "Ranika Madurawe",
      "photoUrl": "",
      "userId": "08934122972253344059"
     },
     "user_tz": -330
    },
    "id": "RpyYdTfFQ1ZW",
    "outputId": "0eade9cc-7dad-4816-d694-5be417073d02"
   },
   "outputs": [
    {
     "name": "stdout",
     "output_type": "stream",
     "text": [
      "\n",
      "              precision    recall  f1-score   support\n",
      "\n",
      "           0       0.95      0.79      0.86      1345\n",
      "           1       0.98      1.00      0.99     12395\n",
      "\n",
      "    accuracy                           0.98     13740\n",
      "   macro avg       0.96      0.89      0.93     13740\n",
      "weighted avg       0.98      0.98      0.97     13740\n",
      "\n",
      "\n",
      "[[ 1065   280]\n",
      " [   54 12341]]\n",
      "\n",
      "              precision    recall  f1-score   support\n",
      "\n",
      "           0       0.87      0.67      0.76       336\n",
      "           1       0.97      0.99      0.98      3099\n",
      "\n",
      "    accuracy                           0.96      3435\n",
      "   macro avg       0.92      0.83      0.87      3435\n",
      "weighted avg       0.96      0.96      0.96      3435\n",
      "\n",
      "\n",
      "[[ 226  110]\n",
      " [  34 3065]]\n"
     ]
    }
   ],
   "source": [
    "print(); print(metrics.classification_report(y,train_pred_y))\n",
    "print(); print(metrics.confusion_matrix(y, train_pred_y))\n",
    "\n",
    "print(); print(metrics.classification_report(y_test, predicted_y))\n",
    "print(); print(metrics.confusion_matrix(y_test, predicted_y))"
   ]
  },
  {
   "cell_type": "markdown",
   "metadata": {
    "colab_type": "text",
    "id": "ZNIc3wReQ1ZZ"
   },
   "source": [
    "<h1>Testing</h1>"
   ]
  },
  {
   "cell_type": "markdown",
   "metadata": {
    "colab_type": "text",
    "id": "NKnYOAP2EOS0"
   },
   "source": [
    "<h2>Loading the Test Dataset</h2>"
   ]
  },
  {
   "cell_type": "code",
   "execution_count": null,
   "metadata": {
    "colab": {},
    "colab_type": "code",
    "id": "dRpHFO-hvEvg"
   },
   "outputs": [],
   "source": [
    "test_path =os.path.abspath(os.path.join(os.path.dirname(\"__file__\"), '..', '/content/drive/My Drive/datasets/test.csv'))\n",
    "test_set = pd.read_csv(test_path, index_col=\"tripid\")"
   ]
  },
  {
   "cell_type": "markdown",
   "metadata": {
    "colab_type": "text",
    "id": "GrCoDVThEOS4"
   },
   "source": [
    "<h2>Feature Addition on testing dataset</h2>"
   ]
  },
  {
   "cell_type": "code",
   "execution_count": null,
   "metadata": {
    "colab": {},
    "colab_type": "code",
    "id": "-aB-vcWQPl-L"
   },
   "outputs": [],
   "source": [
    "test_set['pickup_time'] = pd.to_datetime(test_set['pickup_time'], format=\"%m/%d/%Y %H:%M\")\n",
    "test_set['drop_time'] = pd.to_datetime(test_set['drop_time'], format=\"%m/%d/%Y %H:%M\")"
   ]
  },
  {
   "cell_type": "code",
   "execution_count": null,
   "metadata": {
    "colab": {},
    "colab_type": "code",
    "id": "-fh6I6oDPrqF"
   },
   "outputs": [],
   "source": [
    "test_set = test_set.assign(timeOfDay=pd.cut(test_set.pickup_time.dt.hour,[-1, 8, 20, 24],labels=['dawn','day', 'night']))"
   ]
  },
  {
   "cell_type": "code",
   "execution_count": null,
   "metadata": {
    "colab": {},
    "colab_type": "code",
    "id": "daMeyD7mQ1Zk"
   },
   "outputs": [],
   "source": [
    "test_set.loc[test_set['timeOfDay'] == 'day', 'isNormalCharge'] = 1\n",
    "test_set.loc[test_set['timeOfDay'] != 'day', 'isNormalCharge'] = 0"
   ]
  },
  {
   "cell_type": "code",
   "execution_count": null,
   "metadata": {
    "colab": {},
    "colab_type": "code",
    "id": "0YIKrGoUPxjD"
   },
   "outputs": [],
   "source": [
    "durations = []\n",
    "for index,row in test_set.iterrows():\n",
    "  provided_duration = row['duration'] #first row of location.lat column here\n",
    "  if math.isnan(provided_duration) or provided_duration <= 0 :\n",
    "    time_dif = (row['drop_time'] - row['pickup_time']).seconds\n",
    "    if(time_dif == 0):\n",
    "        time_dif = np.nan\n",
    "    durations.append(time_dif)\n",
    "  else :  \n",
    "    durations.append(provided_duration)\n",
    "\n",
    "test_set.insert(4,\"time_dif\",durations)"
   ]
  },
  {
   "cell_type": "code",
   "execution_count": null,
   "metadata": {
    "colab": {},
    "colab_type": "code",
    "id": "N8RKMAziP2Zu"
   },
   "outputs": [],
   "source": [
    "new_column = []                    #empty column for distance\n",
    "for index,row in test_set.iterrows():\n",
    "  lat1 = row['pick_lat'] #first row of location.lat column here\n",
    "  lon1 = row['pick_lon'] #first row of location.long column here\n",
    "  lat2 = row['drop_lat'] #second row of location.lat column here\n",
    "  lon2 = row['drop_lon'] #second row of location.long column here\n",
    "  value = dist_from_coordinates(lat1, lon1, lat2, lon2)  #get the distance\n",
    "  new_column.append(value)   #append the empty list with distance values\n",
    "\n",
    "test_set.insert(4,\"distance\",new_column)"
   ]
  },
  {
   "cell_type": "code",
   "execution_count": null,
   "metadata": {
    "colab": {},
    "colab_type": "code",
    "id": "fhGdrT68P7u0"
   },
   "outputs": [],
   "source": [
    "test_set['time_driven'] = test_set['duration']  - test_set['meter_waiting']"
   ]
  },
  {
   "cell_type": "code",
   "execution_count": null,
   "metadata": {
    "colab": {},
    "colab_type": "code",
    "id": "0T1ZhNq4QCFr"
   },
   "outputs": [],
   "source": [
    "chargeperhours = []\n",
    "for index,row in test_set.iterrows():\n",
    "    if(row['meter_waiting'] == 0):\n",
    "        chargeperhour = np.nan\n",
    "    else:\n",
    "        chargeperhour = (row['meter_waiting_fare'] / row['meter_waiting'] * 3600)\n",
    "    chargeperhours.append(chargeperhour)\n",
    "\n",
    "test_set.insert(4,'charge_per_hour',chargeperhours)\n"
   ]
  },
  {
   "cell_type": "code",
   "execution_count": null,
   "metadata": {
    "colab": {},
    "colab_type": "code",
    "id": "stlHhBUcQHPO"
   },
   "outputs": [],
   "source": [
    "test_set['driving_fare'] = test_set['fare']  - test_set['meter_waiting_fare'] - test_set['additional_fare']"
   ]
  },
  {
   "cell_type": "code",
   "execution_count": null,
   "metadata": {
    "colab": {},
    "colab_type": "code",
    "id": "3swRfBdUQPab"
   },
   "outputs": [],
   "source": [
    "avgspeeds = []\n",
    "for index,row in test_set.iterrows():\n",
    "    if(row['time_driven'] == 0):\n",
    "        avgspeed = np.nan    \n",
    "    else:\n",
    "        avgspeed = (row['distance'] / row['time_driven'] * 3600)\n",
    "    avgspeeds.append(avgspeed)\n",
    "\n",
    "test_set.insert(4,\"avg_speed\",avgspeeds)\n",
    "\n"
   ]
  },
  {
   "cell_type": "code",
   "execution_count": null,
   "metadata": {
    "colab": {},
    "colab_type": "code",
    "id": "CbN5feh0QWAF"
   },
   "outputs": [],
   "source": [
    "costsperkm = []\n",
    "for index,row in test_set.iterrows():\n",
    "    if row['distance'] == 0:\n",
    "        costperkm = np.nan\n",
    "            \n",
    "    else:\n",
    "        costperkm = (row['driving_fare'] / row['distance'])\n",
    "    costsperkm.append(costperkm)\n",
    "\n",
    "test_set.insert(4,\"cost_per_km\",costsperkm)"
   ]
  },
  {
   "cell_type": "markdown",
   "metadata": {
    "colab_type": "text",
    "id": "TtnkpIBIEOTj"
   },
   "source": [
    "<h2>Adding cluster labels to test dataset</h2>"
   ]
  },
  {
   "cell_type": "code",
   "execution_count": null,
   "metadata": {
    "colab": {},
    "colab_type": "code",
    "id": "97YY0v6aQ1aC"
   },
   "outputs": [],
   "source": [
    "test_set['pickup_cluster_label'] = db_pick.labels_[17176*2:17176*2 + 8576 ]\n",
    "test_set['drop_cluster_label'] = db_pick.labels_[17176*2 + 8576: 2*(17176+8576) ]"
   ]
  },
  {
   "cell_type": "code",
   "execution_count": null,
   "metadata": {
    "colab": {},
    "colab_type": "code",
    "id": "G8siIDy9_D2I"
   },
   "outputs": [],
   "source": [
    "test_features = test_set[training_columns]"
   ]
  },
  {
   "cell_type": "markdown",
   "metadata": {
    "colab_type": "text",
    "id": "WiwOUT_QEOTt"
   },
   "source": [
    "<h2>Prediction using trained model</h2>"
   ]
  },
  {
   "cell_type": "code",
   "execution_count": null,
   "metadata": {
    "colab": {},
    "colab_type": "code",
    "id": "MeqI1BVR_Fpl"
   },
   "outputs": [],
   "source": [
    "predicted_labels = model.predict(test_features.values)"
   ]
  },
  {
   "cell_type": "code",
   "execution_count": null,
   "metadata": {
    "colab": {},
    "colab_type": "code",
    "id": "ikaJ4uRmQ1aO"
   },
   "outputs": [],
   "source": [
    "predicted_labels_df = pd.DataFrame(predicted_labels )"
   ]
  },
  {
   "cell_type": "code",
   "execution_count": null,
   "metadata": {
    "colab": {},
    "colab_type": "code",
    "id": "qqHn12X6_Gvf"
   },
   "outputs": [],
   "source": [
    "sub_path =os.path.abspath(os.path.join(os.path.dirname(\"__file__\"), '..', '/content/drive/My Drive/datasets/sample_submission.csv'))\n",
    "submission_set = pd.read_csv(sub_path)"
   ]
  },
  {
   "cell_type": "code",
   "execution_count": null,
   "metadata": {
    "colab": {},
    "colab_type": "code",
    "id": "8Ji-pVGy_H3c"
   },
   "outputs": [],
   "source": [
    "submission_set['prediction']= predicted_labels_df.values[:,0]"
   ]
  },
  {
   "cell_type": "markdown",
   "metadata": {
    "colab_type": "text",
    "id": "pa8gV3WFEOT_"
   },
   "source": [
    "<h2>Submission file generation</h2>"
   ]
  },
  {
   "cell_type": "code",
   "execution_count": null,
   "metadata": {
    "colab": {},
    "colab_type": "code",
    "id": "ObyeCtp9Q1aX"
   },
   "outputs": [],
   "source": [
    "theNotebook = \"dbscan_xg\""
   ]
  },
  {
   "cell_type": "code",
   "execution_count": null,
   "metadata": {
    "colab": {
     "base_uri": "https://localhost:8080/",
     "height": 34
    },
    "colab_type": "code",
    "executionInfo": {
     "elapsed": 733,
     "status": "ok",
     "timestamp": 1591253859208,
     "user": {
      "displayName": "Ranika Madurawe",
      "photoUrl": "",
      "userId": "08934122972253344059"
     },
     "user_tz": -330
    },
    "id": "U6dGilvv_JLl",
    "outputId": "5934e733-8ff8-45e3-cf0d-735a21a48684"
   },
   "outputs": [
    {
     "name": "stdout",
     "output_type": "stream",
     "text": [
      "Completed!\n"
     ]
    }
   ],
   "source": [
    "filename = '/content/drive/My Drive/datasets/'+theNotebook+'/'+theNotebook+'_{%i}.csv'\n",
    "dirname = '/content/drive/My Drive/datasets/'+theNotebook\n",
    "fileversion = 1\n",
    "\n",
    "if not os.path.exists(dirname):\n",
    "    os.makedirs(dirname)\n",
    "while glob.glob(filename.replace('{%i}',str(fileversion))) :\n",
    "    fileversion+=1\n",
    "submission_set.to_csv(filename.replace('{%i}',str(fileversion)), index=False)\n",
    "print(\"Completed!\")"
   ]
  },
  {
   "cell_type": "code",
   "execution_count": null,
   "metadata": {
    "colab": {
     "base_uri": "https://localhost:8080/",
     "height": 68
    },
    "colab_type": "code",
    "executionInfo": {
     "elapsed": 1127,
     "status": "ok",
     "timestamp": 1591253863705,
     "user": {
      "displayName": "Ranika Madurawe",
      "photoUrl": "",
      "userId": "08934122972253344059"
     },
     "user_tz": -330
    },
    "id": "cg-I13X0_Q0d",
    "outputId": "66eddfb0-dd3d-44d6-cbf2-c6d3996144c4"
   },
   "outputs": [
    {
     "data": {
      "text/plain": [
       "1    8113\n",
       "0     463\n",
       "Name: prediction, dtype: int64"
      ]
     },
     "execution_count": 143,
     "metadata": {
      "tags": []
     },
     "output_type": "execute_result"
    }
   ],
   "source": [
    "submission_set['prediction'].value_counts()"
   ]
  }
 ],
 "metadata": {
  "colab": {
   "collapsed_sections": [],
   "name": "XGB + KFold-- all data - geolocation DBSCAN using the same clusterer.ipynb",
   "provenance": []
  },
  "kernelspec": {
   "display_name": "Python 3",
   "language": "python",
   "name": "python3"
  },
  "language_info": {
   "codemirror_mode": {
    "name": "ipython",
    "version": 3
   },
   "file_extension": ".py",
   "mimetype": "text/x-python",
   "name": "python",
   "nbconvert_exporter": "python",
   "pygments_lexer": "ipython3",
   "version": "3.6.9"
  }
 },
 "nbformat": 4,
 "nbformat_minor": 1
}
