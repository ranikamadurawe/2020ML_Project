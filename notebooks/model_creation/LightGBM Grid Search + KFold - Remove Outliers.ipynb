{
 "cells": [
  {
   "cell_type": "code",
   "execution_count": 1,
   "metadata": {
    "colab": {},
    "colab_type": "code",
    "id": "6BY0u5O7qfR1"
   },
   "outputs": [],
   "source": [
    "import numpy as np\n",
    "import pandas as pd\n",
    "import lightgbm\n",
    "from sklearn.model_selection import train_test_split\n",
    "from sklearn.preprocessing import LabelBinarizer\n",
    "import math\n",
    "from sklearn import metrics\n",
    "from sklearn.model_selection import RandomizedSearchCV, GridSearchCV\n",
    "from sklearn.model_selection import KFold, StratifiedKFold\n",
    "import matplotlib.pyplot as plt\n",
    "import os\n",
    "import glob"
   ]
  },
  {
   "cell_type": "code",
   "execution_count": 2,
   "metadata": {
    "colab": {},
    "colab_type": "code",
    "id": "jaeR-AOtreKu"
   },
   "outputs": [],
   "source": [
    "\n",
    "data_path='/home/madnisal/Documents/ML_Project/datasets/'\n",
    "training_df = pd.read_csv(data_path+'train.csv', index_col=\"tripid\")"
   ]
  },
  {
   "cell_type": "code",
   "execution_count": 3,
   "metadata": {
    "colab": {},
    "colab_type": "code",
    "id": "x2_djb9zOwgg"
   },
   "outputs": [],
   "source": [
    "def dist_from_coordinates(lat1, lon1, lat2, lon2):\n",
    "  R = 6371  # Earth radius in km\n",
    "\n",
    "  #conversion to radians\n",
    "  d_lat = np.radians(lat2-lat1)\n",
    "  d_lon = np.radians(lon2-lon1)\n",
    "\n",
    "  r_lat1 = np.radians(lat1)\n",
    "  r_lat2 = np.radians(lat2)\n",
    "\n",
    "  #haversine formula\n",
    "  a = np.sin(d_lat/2.) **2 + np.cos(r_lat1) * np.cos(r_lat2) * np.sin(d_lon/2.)**2\n",
    "\n",
    "  haversine = 2 * R * np.arcsin(np.sqrt(a))\n",
    "\n",
    "  return haversine"
   ]
  },
  {
   "cell_type": "code",
   "execution_count": 4,
   "metadata": {
    "colab": {},
    "colab_type": "code",
    "id": "fZx_Ut6cOzP9"
   },
   "outputs": [],
   "source": [
    "training_df['pickup_time'] = pd.to_datetime(training_df['pickup_time'], format=\"%m/%d/%Y %H:%M\")\n",
    "training_df['drop_time'] = pd.to_datetime(training_df['drop_time'], format=\"%m/%d/%Y %H:%M\")"
   ]
  },
  {
   "cell_type": "code",
   "execution_count": 5,
   "metadata": {
    "colab": {},
    "colab_type": "code",
    "id": "AmRtNkL2O062"
   },
   "outputs": [],
   "source": [
    "training_df = training_df.assign(timeOfDay=pd.cut(training_df.pickup_time.dt.hour,[-1, 8, 20, 24],labels=['dawn','day', 'night']))"
   ]
  },
  {
   "cell_type": "code",
   "execution_count": 6,
   "metadata": {},
   "outputs": [],
   "source": [
    "training_df.loc[training_df['timeOfDay'] == 'day', 'isNormalCharge'] = 1\n",
    "training_df.loc[training_df['timeOfDay'] != 'day', 'isNormalCharge'] = 0"
   ]
  },
  {
   "cell_type": "code",
   "execution_count": 7,
   "metadata": {
    "colab": {},
    "colab_type": "code",
    "id": "q4CFd-NqO2Un"
   },
   "outputs": [],
   "source": [
    "durations = []\n",
    "for index,row in training_df.iterrows():\n",
    "  provided_duration = row['duration'] #first row of location.lat column here\n",
    "  if math.isnan(provided_duration) or provided_duration <= 0 :\n",
    "    time_dif = (row['drop_time'] - row['pickup_time']).seconds\n",
    "    if(time_dif == 0):\n",
    "        time_dif = np.nan\n",
    "    durations.append(time_dif)\n",
    "  else :  \n",
    "    durations.append(provided_duration)\n",
    "\n",
    "training_df.insert(4,\"time_dif\",durations)"
   ]
  },
  {
   "cell_type": "code",
   "execution_count": 8,
   "metadata": {
    "colab": {},
    "colab_type": "code",
    "id": "OKJBD2vsO6bJ"
   },
   "outputs": [],
   "source": [
    "new_column = []                    #empty column for distance\n",
    "for index,row in training_df.iterrows():\n",
    "  lat1 = row['pick_lat'] #first row of location.lat column here\n",
    "  lon1 = row['pick_lon'] #first row of location.long column here\n",
    "  lat2 = row['drop_lat'] #second row of location.lat column here\n",
    "  lon2 = row['drop_lon'] #second row of location.long column here\n",
    "  value = dist_from_coordinates(lat1, lon1, lat2, lon2)  #get the distance\n",
    "  new_column.append(value)   #append the empty list with distance values\n",
    "\n",
    "training_df.insert(4,\"distance\",new_column)"
   ]
  },
  {
   "cell_type": "code",
   "execution_count": 9,
   "metadata": {
    "colab": {},
    "colab_type": "code",
    "id": "EDFvgdsoO8rC"
   },
   "outputs": [],
   "source": [
    "training_df['time_driven'] = training_df['duration']  - training_df['meter_waiting']"
   ]
  },
  {
   "cell_type": "code",
   "execution_count": 10,
   "metadata": {
    "colab": {},
    "colab_type": "code",
    "id": "eQOTKxsNO-CH"
   },
   "outputs": [],
   "source": [
    "chargeperhours = []\n",
    "for index,row in training_df.iterrows():\n",
    "    if(row['meter_waiting'] == 0):\n",
    "        chargeperhour = np.nan\n",
    "    else:\n",
    "        chargeperhour = (row['meter_waiting_fare'] / row['meter_waiting'] * 3600)\n",
    "    chargeperhours.append(chargeperhour)\n",
    "\n",
    "training_df.insert(4,'charge_per_hour',chargeperhours)\n"
   ]
  },
  {
   "cell_type": "code",
   "execution_count": 11,
   "metadata": {
    "colab": {},
    "colab_type": "code",
    "id": "c9OpngXwPAiv"
   },
   "outputs": [],
   "source": [
    "training_df['driving_fare'] = training_df['fare']  - training_df['meter_waiting_fare'] - training_df['additional_fare']"
   ]
  },
  {
   "cell_type": "code",
   "execution_count": 12,
   "metadata": {
    "colab": {},
    "colab_type": "code",
    "id": "ECO9WaT5PB6O"
   },
   "outputs": [],
   "source": [
    "avgspeeds = []\n",
    "for index,row in training_df.iterrows():\n",
    "    if(row['time_driven'] == 0):\n",
    "        avgspeed = np.nan\n",
    "    else:\n",
    "        avgspeed = (row['distance'] / row['time_driven'] * 3600)\n",
    "    avgspeeds.append(avgspeed)\n",
    "\n",
    "training_df.insert(4,\"avg_speed\",avgspeeds)\n",
    "\n"
   ]
  },
  {
   "cell_type": "code",
   "execution_count": 13,
   "metadata": {
    "colab": {},
    "colab_type": "code",
    "id": "j1DDDw52PGUY"
   },
   "outputs": [],
   "source": [
    "costsperkm = []\n",
    "for index,row in training_df.iterrows():\n",
    "    if row['distance'] == 0:\n",
    "        costperkm = np.nan\n",
    "            \n",
    "    else:\n",
    "        costperkm = (row['driving_fare'] / row['distance'])\n",
    "    costsperkm.append(costperkm)\n",
    "\n",
    "training_df.insert(4,\"cost_per_km\",costsperkm)"
   ]
  },
  {
   "cell_type": "code",
   "execution_count": 14,
   "metadata": {
    "colab": {},
    "colab_type": "code",
    "id": "zVsGZhgQrktE"
   },
   "outputs": [],
   "source": [
    "training_df = training_df.replace({'label': {'incorrect': 0, 'correct' : 1}})"
   ]
  },
  {
   "cell_type": "code",
   "execution_count": 15,
   "metadata": {},
   "outputs": [
    {
     "data": {
      "text/plain": [
       "Index(['additional_fare', 'duration', 'meter_waiting', 'meter_waiting_fare',\n",
       "       'cost_per_km', 'avg_speed', 'charge_per_hour', 'distance', 'time_dif',\n",
       "       'meter_waiting_till_pickup', 'pickup_time', 'drop_time', 'pick_lat',\n",
       "       'pick_lon', 'drop_lat', 'drop_lon', 'fare', 'label', 'timeOfDay',\n",
       "       'isNormalCharge', 'time_driven', 'driving_fare'],\n",
       "      dtype='object')"
      ]
     },
     "execution_count": 15,
     "metadata": {},
     "output_type": "execute_result"
    }
   ],
   "source": [
    "training_df.columns"
   ]
  },
  {
   "cell_type": "code",
   "execution_count": 16,
   "metadata": {},
   "outputs": [],
   "source": [
    "training_columns = ['meter_waiting','meter_waiting_fare','fare','additional_fare', 'distance','cost_per_km', 'avg_speed',  'time_dif','time_driven', 'charge_per_hour', 'driving_fare', 'isNormalCharge','pick_lat','pick_lon','drop_lat','drop_lon']"
   ]
  },
  {
   "cell_type": "code",
   "execution_count": 17,
   "metadata": {
    "colab": {},
    "colab_type": "code",
    "id": "tnbpcAUqruuZ"
   },
   "outputs": [],
   "source": [
    "target_column = ['label']"
   ]
  },
  {
   "cell_type": "code",
   "execution_count": 18,
   "metadata": {},
   "outputs": [],
   "source": [
    "outlier_train_labels = [189248046, 189372731, 189582749, 189639329, 189877805, 189919496, 189951367, 190042045, 190050729, 190167541, 190220945, 190222595, 190289312, 190377182, 190602146, 190757593, 190932899, 191112330, 191130876, 191258602, 191276742, 191335143, 191409182, 191411060, 191432473, 191457855, 191524024, 191538456, 191576199, 191589327, 191629242, 191861723, 191894473, 191999785, 192047312, 192063114, 192064386, 192194086, 192342422, 192680516, 192732272, 192742531, 193016644, 193047517, 193092341, 193261350, 193317324, 193353297, 193363504, 193363687, 193396395, 193410014, 193585269, 193598400, 193609201, 193640628, 193749854, 193837260, 194305074, 194320960, 194359125, 194514310, 194551382, 194581698, 194597635, 194636909, 194714168, 194726213, 195038854, 195057633, 195097288, 195260495, 195345783, 195346858, 195568649, 195633799, 195882991, 195968211, 196402188, 196553262, 196587403, 196615301, 196855195, 196858407, 196974159, 196997372, 197020223, 197163368, 197183927, 197195612, 197218848, 197274347, 197373571, 197421930, 197495364, 197570477, 197583546, 197698631, 197971580, 197984654, 198012950, 198345947, 198548950, 198607847, 198621653, 198640410, 198661199, 198818188, 198910537, 198920531, 198965022, 198985082, 199037961, 199171419, 199196443, 199214406, 199225357, 199715083, 199727133, 199738570, 199913349, 199966663, 199999511, 200025918, 200154190, 200289693, 200577470, 200686856, 200708149, 200771103, 200893706, 200979082, 201036658, 201171900, 201206769, 201276666, 201378977, 201418800, 201478900, 201496100, 201508022, 201638255, 201668590, 201672623, 201679378, 201679540, 201699206, 201783012, 201900543, 201997944, 202037981, 202115222, 202154929, 202375533, 202402921, 202416098, 202434563, 202642997, 202649316, 202787247, 202880624, 203183989, 203296106, 203556991, 203614817, 203648103, 203695038, 203698426, 203735817, 203889464, 203962665, 204225418, 204362145, 204425668, 204486493, 204570020, 204655606, 204708821, 204807428, 204844294, 204905077, 204923587, 204932258, 205088473, 205107636, 205135085, 205312460, 205328050, 205615659, 205862594, 205897806, 206344270, 206345862, 206690799, 206709794, 206806232, 206841298, 207125672, 207154783, 207159446, 207207631, 207209349, 207248547, 207302185, 207304945, 207365752, 207405568, 207545172, 207588922, 207598568, 207604246, 207614597, 207630522, 207663133, 207680286, 207684582, 207793985, 207887491, 208095798, 208129297, 208183402, 208206935, 208237121, 208262311, 208453649, 208610223, 208647188, 208753668, 208756243, 208800679, 208849308, 208922571, 209015312, 209093530, 209105889, 209497213, 209499033, 209601489, 209621552, 209809748, 209854939, 209929387, 210002331, 210077969, 210086904, 210089028, 210154017, 210340254, 210411446, 210421960, 210552623, 210573839, 210582668, 210591969, 210601978, 210614878, 210636674, 210689525, 210740396, 210745681, 210757114, 210924847, 211004948, 211065192, 211078046, 211207421, 211212751, 211299418, 211441481, 211454056, 211456165, 211605950, 211619444, 211644465, 211663710, 211664080, 211687328, 211700651, 211840921, 211843223, 211897469, 211910775, 212064554, 212099096, 212132090, 212151161, 212358989, 212389240, 212389971, 212391554, 212427437, 212592035, 212606591, 212629700, 212707890, 212738468, 212739051, 212741154, 212749726, 212798138, 212804113, 212827986, 212837339, 212879459, 212961544, 212972465, 212975841, 213031411, 213179435, 213219467, 213226420, 213244500, 213266336, 213296209, 213319817, 213412611, 213483583, 213636965, 213652819]\n"
   ]
  },
  {
   "cell_type": "code",
   "execution_count": 19,
   "metadata": {},
   "outputs": [],
   "source": [
    "for i in outlier_train_labels :\n",
    "    training_df = training_df.drop(i)"
   ]
  },
  {
   "cell_type": "code",
   "execution_count": 20,
   "metadata": {},
   "outputs": [
    {
     "data": {
      "text/plain": [
       "False"
      ]
     },
     "execution_count": 20,
     "metadata": {},
     "output_type": "execute_result"
    }
   ],
   "source": [
    "207947602 in outlier_train_labels"
   ]
  },
  {
   "cell_type": "code",
   "execution_count": 21,
   "metadata": {},
   "outputs": [
    {
     "ename": "KeyError",
     "evalue": "'[190167541] not found in axis'",
     "output_type": "error",
     "traceback": [
      "\u001b[0;31m---------------------------------------------------------------------------\u001b[0m",
      "\u001b[0;31mKeyError\u001b[0m                                  Traceback (most recent call last)",
      "\u001b[0;32m<ipython-input-21-d3c969fb7bbb>\u001b[0m in \u001b[0;36m<module>\u001b[0;34m\u001b[0m\n\u001b[0;32m----> 1\u001b[0;31m \u001b[0mtraining_df\u001b[0m \u001b[0;34m=\u001b[0m \u001b[0mtraining_df\u001b[0m\u001b[0;34m.\u001b[0m\u001b[0mdrop\u001b[0m\u001b[0;34m(\u001b[0m\u001b[0;36m190167541\u001b[0m\u001b[0;34m)\u001b[0m\u001b[0;34m\u001b[0m\u001b[0;34m\u001b[0m\u001b[0m\n\u001b[0m\u001b[1;32m      2\u001b[0m \u001b[0mtraining_df\u001b[0m \u001b[0;34m=\u001b[0m \u001b[0mtraining_df\u001b[0m\u001b[0;34m.\u001b[0m\u001b[0mdrop\u001b[0m\u001b[0;34m(\u001b[0m\u001b[0;36m191841099\u001b[0m\u001b[0;34m)\u001b[0m\u001b[0;34m\u001b[0m\u001b[0;34m\u001b[0m\u001b[0m\n\u001b[1;32m      3\u001b[0m \u001b[0mtraining_df\u001b[0m \u001b[0;34m=\u001b[0m \u001b[0mtraining_df\u001b[0m\u001b[0;34m.\u001b[0m\u001b[0mdrop\u001b[0m\u001b[0;34m(\u001b[0m\u001b[0;36m207947602\u001b[0m\u001b[0;34m)\u001b[0m\u001b[0;34m\u001b[0m\u001b[0;34m\u001b[0m\u001b[0m\n",
      "\u001b[0;32m/usr/local/lib/python3.6/dist-packages/pandas/core/frame.py\u001b[0m in \u001b[0;36mdrop\u001b[0;34m(self, labels, axis, index, columns, level, inplace, errors)\u001b[0m\n\u001b[1;32m   3928\u001b[0m                                            \u001b[0mindex\u001b[0m\u001b[0;34m=\u001b[0m\u001b[0mindex\u001b[0m\u001b[0;34m,\u001b[0m \u001b[0mcolumns\u001b[0m\u001b[0;34m=\u001b[0m\u001b[0mcolumns\u001b[0m\u001b[0;34m,\u001b[0m\u001b[0;34m\u001b[0m\u001b[0;34m\u001b[0m\u001b[0m\n\u001b[1;32m   3929\u001b[0m                                            \u001b[0mlevel\u001b[0m\u001b[0;34m=\u001b[0m\u001b[0mlevel\u001b[0m\u001b[0;34m,\u001b[0m \u001b[0minplace\u001b[0m\u001b[0;34m=\u001b[0m\u001b[0minplace\u001b[0m\u001b[0;34m,\u001b[0m\u001b[0;34m\u001b[0m\u001b[0;34m\u001b[0m\u001b[0m\n\u001b[0;32m-> 3930\u001b[0;31m                                            errors=errors)\n\u001b[0m\u001b[1;32m   3931\u001b[0m \u001b[0;34m\u001b[0m\u001b[0m\n\u001b[1;32m   3932\u001b[0m     @rewrite_axis_style_signature('mapper', [('copy', True),\n",
      "\u001b[0;32m/usr/local/lib/python3.6/dist-packages/pandas/core/generic.py\u001b[0m in \u001b[0;36mdrop\u001b[0;34m(self, labels, axis, index, columns, level, inplace, errors)\u001b[0m\n\u001b[1;32m   3768\u001b[0m         \u001b[0;32mfor\u001b[0m \u001b[0maxis\u001b[0m\u001b[0;34m,\u001b[0m \u001b[0mlabels\u001b[0m \u001b[0;32min\u001b[0m \u001b[0maxes\u001b[0m\u001b[0;34m.\u001b[0m\u001b[0mitems\u001b[0m\u001b[0;34m(\u001b[0m\u001b[0;34m)\u001b[0m\u001b[0;34m:\u001b[0m\u001b[0;34m\u001b[0m\u001b[0;34m\u001b[0m\u001b[0m\n\u001b[1;32m   3769\u001b[0m             \u001b[0;32mif\u001b[0m \u001b[0mlabels\u001b[0m \u001b[0;32mis\u001b[0m \u001b[0;32mnot\u001b[0m \u001b[0;32mNone\u001b[0m\u001b[0;34m:\u001b[0m\u001b[0;34m\u001b[0m\u001b[0;34m\u001b[0m\u001b[0m\n\u001b[0;32m-> 3770\u001b[0;31m                 \u001b[0mobj\u001b[0m \u001b[0;34m=\u001b[0m \u001b[0mobj\u001b[0m\u001b[0;34m.\u001b[0m\u001b[0m_drop_axis\u001b[0m\u001b[0;34m(\u001b[0m\u001b[0mlabels\u001b[0m\u001b[0;34m,\u001b[0m \u001b[0maxis\u001b[0m\u001b[0;34m,\u001b[0m \u001b[0mlevel\u001b[0m\u001b[0;34m=\u001b[0m\u001b[0mlevel\u001b[0m\u001b[0;34m,\u001b[0m \u001b[0merrors\u001b[0m\u001b[0;34m=\u001b[0m\u001b[0merrors\u001b[0m\u001b[0;34m)\u001b[0m\u001b[0;34m\u001b[0m\u001b[0;34m\u001b[0m\u001b[0m\n\u001b[0m\u001b[1;32m   3771\u001b[0m \u001b[0;34m\u001b[0m\u001b[0m\n\u001b[1;32m   3772\u001b[0m         \u001b[0;32mif\u001b[0m \u001b[0minplace\u001b[0m\u001b[0;34m:\u001b[0m\u001b[0;34m\u001b[0m\u001b[0;34m\u001b[0m\u001b[0m\n",
      "\u001b[0;32m/usr/local/lib/python3.6/dist-packages/pandas/core/generic.py\u001b[0m in \u001b[0;36m_drop_axis\u001b[0;34m(self, labels, axis, level, errors)\u001b[0m\n\u001b[1;32m   3819\u001b[0m                 \u001b[0mlabels_missing\u001b[0m \u001b[0;34m=\u001b[0m \u001b[0;34m(\u001b[0m\u001b[0maxis\u001b[0m\u001b[0;34m.\u001b[0m\u001b[0mget_indexer_for\u001b[0m\u001b[0;34m(\u001b[0m\u001b[0mlabels\u001b[0m\u001b[0;34m)\u001b[0m \u001b[0;34m==\u001b[0m \u001b[0;34m-\u001b[0m\u001b[0;36m1\u001b[0m\u001b[0;34m)\u001b[0m\u001b[0;34m.\u001b[0m\u001b[0many\u001b[0m\u001b[0;34m(\u001b[0m\u001b[0;34m)\u001b[0m\u001b[0;34m\u001b[0m\u001b[0;34m\u001b[0m\u001b[0m\n\u001b[1;32m   3820\u001b[0m                 \u001b[0;32mif\u001b[0m \u001b[0merrors\u001b[0m \u001b[0;34m==\u001b[0m \u001b[0;34m'raise'\u001b[0m \u001b[0;32mand\u001b[0m \u001b[0mlabels_missing\u001b[0m\u001b[0;34m:\u001b[0m\u001b[0;34m\u001b[0m\u001b[0;34m\u001b[0m\u001b[0m\n\u001b[0;32m-> 3821\u001b[0;31m                     \u001b[0;32mraise\u001b[0m \u001b[0mKeyError\u001b[0m\u001b[0;34m(\u001b[0m\u001b[0;34m'{} not found in axis'\u001b[0m\u001b[0;34m.\u001b[0m\u001b[0mformat\u001b[0m\u001b[0;34m(\u001b[0m\u001b[0mlabels\u001b[0m\u001b[0;34m)\u001b[0m\u001b[0;34m)\u001b[0m\u001b[0;34m\u001b[0m\u001b[0;34m\u001b[0m\u001b[0m\n\u001b[0m\u001b[1;32m   3822\u001b[0m \u001b[0;34m\u001b[0m\u001b[0m\n\u001b[1;32m   3823\u001b[0m             \u001b[0mslicer\u001b[0m \u001b[0;34m=\u001b[0m \u001b[0;34m[\u001b[0m\u001b[0mslice\u001b[0m\u001b[0;34m(\u001b[0m\u001b[0;32mNone\u001b[0m\u001b[0;34m)\u001b[0m\u001b[0;34m]\u001b[0m \u001b[0;34m*\u001b[0m \u001b[0mself\u001b[0m\u001b[0;34m.\u001b[0m\u001b[0mndim\u001b[0m\u001b[0;34m\u001b[0m\u001b[0;34m\u001b[0m\u001b[0m\n",
      "\u001b[0;31mKeyError\u001b[0m: '[190167541] not found in axis'"
     ]
    }
   ],
   "source": [
    "training_df = training_df.drop(190167541)\n",
    "training_df = training_df.drop(191841099)\n",
    "training_df = training_df.drop(207947602)"
   ]
  },
  {
   "cell_type": "code",
   "execution_count": 22,
   "metadata": {
    "colab": {},
    "colab_type": "code",
    "id": "PrUJfvL1r4pI"
   },
   "outputs": [],
   "source": [
    "x = training_df[training_columns].values\n",
    "y = training_df[target_column].values"
   ]
  },
  {
   "cell_type": "code",
   "execution_count": 23,
   "metadata": {
    "colab": {},
    "colab_type": "code",
    "id": "Xfow1Vm-sBI9"
   },
   "outputs": [],
   "source": [
    "x, x_test, y, y_test = train_test_split(x, y, test_size=0.2, random_state=42, stratify=y)"
   ]
  },
  {
   "cell_type": "code",
   "execution_count": 24,
   "metadata": {},
   "outputs": [
    {
     "data": {
      "text/plain": [
       "1    15176\n",
       "0     1681\n",
       "Name: label, dtype: int64"
      ]
     },
     "execution_count": 24,
     "metadata": {},
     "output_type": "execute_result"
    }
   ],
   "source": [
    "training_df['label'].value_counts()"
   ]
  },
  {
   "cell_type": "markdown",
   "metadata": {},
   "source": [
    "<h2>Choosing the best model</h2>"
   ]
  },
  {
   "cell_type": "code",
   "execution_count": 25,
   "metadata": {},
   "outputs": [],
   "source": [
    "def focal_loss_lgb_eval_error(y_true, y_pred, alpha=.25, gamma=2.):\n",
    "    a,g = alpha, gamma\n",
    "    p = 1/(1+np.exp(-y_pred))\n",
    "    loss = -( a*y_true + (1-a)*(1-y_true) ) * (( 1 - ( y_true*p + (1-y_true)*(1-p)) )**g) * ( y_true*np.log(p)+(1-y_true)*np.log(1-p) )\n",
    "    return 'focal_loss', np.mean(loss), False"
   ]
  },
  {
   "cell_type": "code",
   "execution_count": 26,
   "metadata": {},
   "outputs": [],
   "source": [
    "from sklearn.metrics import f1_score\n",
    "def evaluate_macroF1_lgb(y_true, y_pred):  \n",
    "    y_hat = np.where(y_pred < 0.5, 0, 1) \n",
    "    f1 = f1_score(y_true, y_hat, average='macro')\n",
    "    return ('macroF1', f1, True) "
   ]
  },
  {
   "cell_type": "code",
   "execution_count": 27,
   "metadata": {},
   "outputs": [],
   "source": [
    "gkf = StratifiedKFold(n_splits=5, shuffle=True, random_state=42)"
   ]
  },
  {
   "cell_type": "code",
   "execution_count": 28,
   "metadata": {},
   "outputs": [],
   "source": [
    "model = lightgbm.LGBMClassifier(class_weight={0:1.5,1:1} ,learning_rate=0.1)"
   ]
  },
  {
   "cell_type": "code",
   "execution_count": 29,
   "metadata": {},
   "outputs": [
    {
     "name": "stderr",
     "output_type": "stream",
     "text": [
      "/usr/local/lib/python3.6/dist-packages/sklearn/preprocessing/_label.py:235: DataConversionWarning: A column-vector y was passed when a 1d array was expected. Please change the shape of y to (n_samples, ), for example using ravel().\n",
      "  y = column_or_1d(y, warn=True)\n",
      "/usr/local/lib/python3.6/dist-packages/sklearn/preprocessing/_label.py:268: DataConversionWarning: A column-vector y was passed when a 1d array was expected. Please change the shape of y to (n_samples, ), for example using ravel().\n",
      "  y = column_or_1d(y, warn=True)\n"
     ]
    },
    {
     "name": "stdout",
     "output_type": "stream",
     "text": [
      "[1]\tvalid_0's binary_logloss: 0.294682\tvalid_0's macroF1: 0.473756\n",
      "[2]\tvalid_0's binary_logloss: 0.272244\tvalid_0's macroF1: 0.473756\n",
      "[3]\tvalid_0's binary_logloss: 0.254907\tvalid_0's macroF1: 0.473756\n",
      "[4]\tvalid_0's binary_logloss: 0.241292\tvalid_0's macroF1: 0.473756\n",
      "[5]\tvalid_0's binary_logloss: 0.22961\tvalid_0's macroF1: 0.719451\n",
      "[6]\tvalid_0's binary_logloss: 0.220176\tvalid_0's macroF1: 0.776717\n",
      "[7]\tvalid_0's binary_logloss: 0.212199\tvalid_0's macroF1: 0.790528\n",
      "[8]\tvalid_0's binary_logloss: 0.205085\tvalid_0's macroF1: 0.807221\n",
      "[9]\tvalid_0's binary_logloss: 0.199337\tvalid_0's macroF1: 0.80627\n",
      "[10]\tvalid_0's binary_logloss: 0.192962\tvalid_0's macroF1: 0.812855\n",
      "[11]\tvalid_0's binary_logloss: 0.188466\tvalid_0's macroF1: 0.818494\n",
      "[12]\tvalid_0's binary_logloss: 0.184009\tvalid_0's macroF1: 0.8217\n",
      "[13]\tvalid_0's binary_logloss: 0.180024\tvalid_0's macroF1: 0.823869\n",
      "[14]\tvalid_0's binary_logloss: 0.175711\tvalid_0's macroF1: 0.834501\n",
      "[15]\tvalid_0's binary_logloss: 0.173025\tvalid_0's macroF1: 0.831925\n",
      "[16]\tvalid_0's binary_logloss: 0.170194\tvalid_0's macroF1: 0.835581\n",
      "[17]\tvalid_0's binary_logloss: 0.16777\tvalid_0's macroF1: 0.841509\n",
      "[18]\tvalid_0's binary_logloss: 0.16577\tvalid_0's macroF1: 0.843577\n",
      "[19]\tvalid_0's binary_logloss: 0.163699\tvalid_0's macroF1: 0.843316\n",
      "[20]\tvalid_0's binary_logloss: 0.161735\tvalid_0's macroF1: 0.843057\n",
      "[21]\tvalid_0's binary_logloss: 0.160348\tvalid_0's macroF1: 0.840766\n",
      "[22]\tvalid_0's binary_logloss: 0.158476\tvalid_0's macroF1: 0.847925\n",
      "[23]\tvalid_0's binary_logloss: 0.156593\tvalid_0's macroF1: 0.851606\n",
      "[24]\tvalid_0's binary_logloss: 0.154712\tvalid_0's macroF1: 0.853011\n",
      "[25]\tvalid_0's binary_logloss: 0.15328\tvalid_0's macroF1: 0.855273\n",
      "[26]\tvalid_0's binary_logloss: 0.152324\tvalid_0's macroF1: 0.859446\n",
      "[27]\tvalid_0's binary_logloss: 0.151297\tvalid_0's macroF1: 0.860827\n",
      "[28]\tvalid_0's binary_logloss: 0.150027\tvalid_0's macroF1: 0.859961\n",
      "[29]\tvalid_0's binary_logloss: 0.149109\tvalid_0's macroF1: 0.860473\n",
      "[30]\tvalid_0's binary_logloss: 0.147909\tvalid_0's macroF1: 0.86098\n",
      "[31]\tvalid_0's binary_logloss: 0.147417\tvalid_0's macroF1: 0.86098\n",
      "[32]\tvalid_0's binary_logloss: 0.146873\tvalid_0's macroF1: 0.865428\n",
      "[33]\tvalid_0's binary_logloss: 0.14638\tvalid_0's macroF1: 0.864069\n",
      "[34]\tvalid_0's binary_logloss: 0.145841\tvalid_0's macroF1: 0.860626\n",
      "[35]\tvalid_0's binary_logloss: 0.1452\tvalid_0's macroF1: 0.863204\n",
      "[36]\tvalid_0's binary_logloss: 0.144369\tvalid_0's macroF1: 0.865428\n",
      "[37]\tvalid_0's binary_logloss: 0.143738\tvalid_0's macroF1: 0.865316\n",
      "[38]\tvalid_0's binary_logloss: 0.142977\tvalid_0's macroF1: 0.863204\n",
      "[39]\tvalid_0's binary_logloss: 0.142471\tvalid_0's macroF1: 0.866298\n",
      "[40]\tvalid_0's binary_logloss: 0.142337\tvalid_0's macroF1: 0.86717\n",
      "[41]\tvalid_0's binary_logloss: 0.142034\tvalid_0's macroF1: 0.868526\n",
      "[42]\tvalid_0's binary_logloss: 0.141469\tvalid_0's macroF1: 0.869877\n",
      "[43]\tvalid_0's binary_logloss: 0.141339\tvalid_0's macroF1: 0.870754\n",
      "[44]\tvalid_0's binary_logloss: 0.141068\tvalid_0's macroF1: 0.870282\n",
      "[45]\tvalid_0's binary_logloss: 0.140805\tvalid_0's macroF1: 0.868924\n",
      "[46]\tvalid_0's binary_logloss: 0.140536\tvalid_0's macroF1: 0.868045\n",
      "[47]\tvalid_0's binary_logloss: 0.140437\tvalid_0's macroF1: 0.868924\n",
      "[48]\tvalid_0's binary_logloss: 0.140464\tvalid_0's macroF1: 0.870282\n",
      "[49]\tvalid_0's binary_logloss: 0.140246\tvalid_0's macroF1: 0.870282\n",
      "[50]\tvalid_0's binary_logloss: 0.140007\tvalid_0's macroF1: 0.869402\n",
      "[51]\tvalid_0's binary_logloss: 0.139887\tvalid_0's macroF1: 0.869877\n",
      "[52]\tvalid_0's binary_logloss: 0.139299\tvalid_0's macroF1: 0.869877\n",
      "[53]\tvalid_0's binary_logloss: 0.139413\tvalid_0's macroF1: 0.869402\n",
      "[54]\tvalid_0's binary_logloss: 0.139348\tvalid_0's macroF1: 0.870282\n",
      "[55]\tvalid_0's binary_logloss: 0.139013\tvalid_0's macroF1: 0.869402\n",
      "[56]\tvalid_0's binary_logloss: 0.139102\tvalid_0's macroF1: 0.869402\n",
      "[57]\tvalid_0's binary_logloss: 0.138902\tvalid_0's macroF1: 0.872983\n",
      "[58]\tvalid_0's binary_logloss: 0.138944\tvalid_0's macroF1: 0.872983\n",
      "[59]\tvalid_0's binary_logloss: 0.138886\tvalid_0's macroF1: 0.872983\n",
      "[60]\tvalid_0's binary_logloss: 0.138793\tvalid_0's macroF1: 0.872101\n",
      "[61]\tvalid_0's binary_logloss: 0.138545\tvalid_0's macroF1: 0.870282\n",
      "[62]\tvalid_0's binary_logloss: 0.138622\tvalid_0's macroF1: 0.870282\n",
      "[63]\tvalid_0's binary_logloss: 0.138438\tvalid_0's macroF1: 0.868526\n",
      "[64]\tvalid_0's binary_logloss: 0.13862\tvalid_0's macroF1: 0.869877\n",
      "[65]\tvalid_0's binary_logloss: 0.13846\tvalid_0's macroF1: 0.868526\n",
      "[66]\tvalid_0's binary_logloss: 0.138567\tvalid_0's macroF1: 0.868526\n",
      "[67]\tvalid_0's binary_logloss: 0.13856\tvalid_0's macroF1: 0.869877\n",
      "[68]\tvalid_0's binary_logloss: 0.138417\tvalid_0's macroF1: 0.872983\n",
      "[69]\tvalid_0's binary_logloss: 0.138265\tvalid_0's macroF1: 0.872983\n",
      "[70]\tvalid_0's binary_logloss: 0.138112\tvalid_0's macroF1: 0.872983\n",
      "[71]\tvalid_0's binary_logloss: 0.137842\tvalid_0's macroF1: 0.872983\n",
      "[72]\tvalid_0's binary_logloss: 0.137897\tvalid_0's macroF1: 0.872101\n",
      "[73]\tvalid_0's binary_logloss: 0.137556\tvalid_0's macroF1: 0.873443\n",
      "[74]\tvalid_0's binary_logloss: 0.137556\tvalid_0's macroF1: 0.873443\n",
      "[75]\tvalid_0's binary_logloss: 0.137175\tvalid_0's macroF1: 0.875211\n",
      "[76]\tvalid_0's binary_logloss: 0.136999\tvalid_0's macroF1: 0.8761\n",
      "[77]\tvalid_0's binary_logloss: 0.136755\tvalid_0's macroF1: 0.8761\n",
      "[78]\tvalid_0's binary_logloss: 0.136807\tvalid_0's macroF1: 0.8761\n",
      "[79]\tvalid_0's binary_logloss: 0.136406\tvalid_0's macroF1: 0.8761\n",
      "[80]\tvalid_0's binary_logloss: 0.136585\tvalid_0's macroF1: 0.875211\n",
      "[81]\tvalid_0's binary_logloss: 0.136707\tvalid_0's macroF1: 0.873867\n",
      "[82]\tvalid_0's binary_logloss: 0.136771\tvalid_0's macroF1: 0.873867\n",
      "[83]\tvalid_0's binary_logloss: 0.136632\tvalid_0's macroF1: 0.873867\n",
      "[84]\tvalid_0's binary_logloss: 0.136538\tvalid_0's macroF1: 0.873867\n",
      "[85]\tvalid_0's binary_logloss: 0.13662\tvalid_0's macroF1: 0.873867\n",
      "[86]\tvalid_0's binary_logloss: 0.136846\tvalid_0's macroF1: 0.872518\n",
      "[87]\tvalid_0's binary_logloss: 0.136832\tvalid_0's macroF1: 0.872518\n",
      "[88]\tvalid_0's binary_logloss: 0.136729\tvalid_0's macroF1: 0.875211\n",
      "[89]\tvalid_0's binary_logloss: 0.136569\tvalid_0's macroF1: 0.876991\n",
      "[90]\tvalid_0's binary_logloss: 0.136518\tvalid_0's macroF1: 0.877886\n",
      "[91]\tvalid_0's binary_logloss: 0.136382\tvalid_0's macroF1: 0.877886\n",
      "[92]\tvalid_0's binary_logloss: 0.136428\tvalid_0's macroF1: 0.879228\n",
      "[93]\tvalid_0's binary_logloss: 0.136218\tvalid_0's macroF1: 0.879228\n",
      "[94]\tvalid_0's binary_logloss: 0.136261\tvalid_0's macroF1: 0.879228\n",
      "[95]\tvalid_0's binary_logloss: 0.136555\tvalid_0's macroF1: 0.878332\n",
      "[96]\tvalid_0's binary_logloss: 0.13644\tvalid_0's macroF1: 0.878332\n",
      "[97]\tvalid_0's binary_logloss: 0.13668\tvalid_0's macroF1: 0.878332\n",
      "[98]\tvalid_0's binary_logloss: 0.136766\tvalid_0's macroF1: 0.878332\n",
      "[99]\tvalid_0's binary_logloss: 0.136821\tvalid_0's macroF1: 0.879228\n",
      "[100]\tvalid_0's binary_logloss: 0.136782\tvalid_0's macroF1: 0.879228\n",
      "[1]\tvalid_0's binary_logloss: 0.292804\tvalid_0's macroF1: 0.473756\n",
      "[2]\tvalid_0's binary_logloss: 0.267869\tvalid_0's macroF1: 0.473756\n",
      "[3]\tvalid_0's binary_logloss: 0.250735\tvalid_0's macroF1: 0.473756\n",
      "[4]\tvalid_0's binary_logloss: 0.237109\tvalid_0's macroF1: 0.473756\n",
      "[5]\tvalid_0's binary_logloss: 0.225485\tvalid_0's macroF1: 0.697349\n",
      "[6]\tvalid_0's binary_logloss: 0.215652\tvalid_0's macroF1: 0.780099\n",
      "[7]\tvalid_0's binary_logloss: 0.207812\tvalid_0's macroF1: 0.804665\n",
      "[8]\tvalid_0's binary_logloss: 0.201177\tvalid_0's macroF1: 0.818158\n",
      "[9]\tvalid_0's binary_logloss: 0.195446\tvalid_0's macroF1: 0.831216\n",
      "[10]\tvalid_0's binary_logloss: 0.190054\tvalid_0's macroF1: 0.840227\n",
      "[11]\tvalid_0's binary_logloss: 0.18509\tvalid_0's macroF1: 0.845522\n"
     ]
    },
    {
     "name": "stderr",
     "output_type": "stream",
     "text": [
      "/usr/local/lib/python3.6/dist-packages/sklearn/preprocessing/_label.py:235: DataConversionWarning: A column-vector y was passed when a 1d array was expected. Please change the shape of y to (n_samples, ), for example using ravel().\n",
      "  y = column_or_1d(y, warn=True)\n",
      "/usr/local/lib/python3.6/dist-packages/sklearn/preprocessing/_label.py:268: DataConversionWarning: A column-vector y was passed when a 1d array was expected. Please change the shape of y to (n_samples, ), for example using ravel().\n",
      "  y = column_or_1d(y, warn=True)\n"
     ]
    },
    {
     "name": "stdout",
     "output_type": "stream",
     "text": [
      "[12]\tvalid_0's binary_logloss: 0.181414\tvalid_0's macroF1: 0.844976\n",
      "[13]\tvalid_0's binary_logloss: 0.178015\tvalid_0's macroF1: 0.844172\n",
      "[14]\tvalid_0's binary_logloss: 0.17515\tvalid_0's macroF1: 0.845928\n",
      "[15]\tvalid_0's binary_logloss: 0.17273\tvalid_0's macroF1: 0.850194\n",
      "[16]\tvalid_0's binary_logloss: 0.170877\tvalid_0's macroF1: 0.85075\n",
      "[17]\tvalid_0's binary_logloss: 0.168809\tvalid_0's macroF1: 0.854092\n",
      "[18]\tvalid_0's binary_logloss: 0.167046\tvalid_0's macroF1: 0.85548\n",
      "[19]\tvalid_0's binary_logloss: 0.16535\tvalid_0's macroF1: 0.854626\n",
      "[20]\tvalid_0's binary_logloss: 0.163687\tvalid_0's macroF1: 0.854626\n",
      "[21]\tvalid_0's binary_logloss: 0.162482\tvalid_0's macroF1: 0.856008\n",
      "[22]\tvalid_0's binary_logloss: 0.160581\tvalid_0's macroF1: 0.857901\n",
      "[23]\tvalid_0's binary_logloss: 0.159295\tvalid_0's macroF1: 0.861127\n",
      "[24]\tvalid_0's binary_logloss: 0.158205\tvalid_0's macroF1: 0.861127\n",
      "[25]\tvalid_0's binary_logloss: 0.157099\tvalid_0's macroF1: 0.859427\n",
      "[26]\tvalid_0's binary_logloss: 0.156402\tvalid_0's macroF1: 0.860276\n",
      "[27]\tvalid_0's binary_logloss: 0.155751\tvalid_0's macroF1: 0.857231\n",
      "[28]\tvalid_0's binary_logloss: 0.155149\tvalid_0's macroF1: 0.859928\n",
      "[29]\tvalid_0's binary_logloss: 0.154717\tvalid_0's macroF1: 0.860774\n",
      "[30]\tvalid_0's binary_logloss: 0.154027\tvalid_0's macroF1: 0.860424\n",
      "[31]\tvalid_0's binary_logloss: 0.153835\tvalid_0's macroF1: 0.859427\n",
      "[32]\tvalid_0's binary_logloss: 0.153402\tvalid_0's macroF1: 0.858923\n",
      "[33]\tvalid_0's binary_logloss: 0.152986\tvalid_0's macroF1: 0.858582\n",
      "[34]\tvalid_0's binary_logloss: 0.152508\tvalid_0's macroF1: 0.858582\n",
      "[35]\tvalid_0's binary_logloss: 0.152271\tvalid_0's macroF1: 0.857406\n",
      "[36]\tvalid_0's binary_logloss: 0.152161\tvalid_0's macroF1: 0.854398\n",
      "[37]\tvalid_0's binary_logloss: 0.151946\tvalid_0's macroF1: 0.855229\n",
      "[38]\tvalid_0's binary_logloss: 0.152014\tvalid_0's macroF1: 0.853882\n",
      "[39]\tvalid_0's binary_logloss: 0.151608\tvalid_0's macroF1: 0.853882\n",
      "[40]\tvalid_0's binary_logloss: 0.151341\tvalid_0's macroF1: 0.854398\n",
      "[41]\tvalid_0's binary_logloss: 0.151342\tvalid_0's macroF1: 0.854398\n",
      "[42]\tvalid_0's binary_logloss: 0.151133\tvalid_0's macroF1: 0.855229\n",
      "[43]\tvalid_0's binary_logloss: 0.151726\tvalid_0's macroF1: 0.855739\n",
      "[44]\tvalid_0's binary_logloss: 0.151791\tvalid_0's macroF1: 0.853569\n",
      "[45]\tvalid_0's binary_logloss: 0.151741\tvalid_0's macroF1: 0.855739\n",
      "[46]\tvalid_0's binary_logloss: 0.151989\tvalid_0's macroF1: 0.853569\n",
      "[47]\tvalid_0's binary_logloss: 0.152208\tvalid_0's macroF1: 0.853052\n",
      "[48]\tvalid_0's binary_logloss: 0.152\tvalid_0's macroF1: 0.855229\n",
      "[49]\tvalid_0's binary_logloss: 0.151911\tvalid_0's macroF1: 0.855229\n",
      "[50]\tvalid_0's binary_logloss: 0.151904\tvalid_0's macroF1: 0.856571\n",
      "[51]\tvalid_0's binary_logloss: 0.152134\tvalid_0's macroF1: 0.855739\n",
      "[52]\tvalid_0's binary_logloss: 0.152079\tvalid_0's macroF1: 0.856571\n",
      "[53]\tvalid_0's binary_logloss: 0.152046\tvalid_0's macroF1: 0.855739\n",
      "[54]\tvalid_0's binary_logloss: 0.151595\tvalid_0's macroF1: 0.857908\n",
      "[55]\tvalid_0's binary_logloss: 0.15147\tvalid_0's macroF1: 0.856571\n",
      "[56]\tvalid_0's binary_logloss: 0.151272\tvalid_0's macroF1: 0.857406\n",
      "[57]\tvalid_0's binary_logloss: 0.151359\tvalid_0's macroF1: 0.856571\n",
      "[58]\tvalid_0's binary_logloss: 0.15113\tvalid_0's macroF1: 0.856571\n",
      "[59]\tvalid_0's binary_logloss: 0.151111\tvalid_0's macroF1: 0.856571\n",
      "[60]\tvalid_0's binary_logloss: 0.150993\tvalid_0's macroF1: 0.857406\n",
      "[61]\tvalid_0's binary_logloss: 0.150955\tvalid_0's macroF1: 0.859583\n",
      "[62]\tvalid_0's binary_logloss: 0.151148\tvalid_0's macroF1: 0.859583\n",
      "[63]\tvalid_0's binary_logloss: 0.151467\tvalid_0's macroF1: 0.858244\n",
      "[64]\tvalid_0's binary_logloss: 0.151776\tvalid_0's macroF1: 0.856571\n",
      "[65]\tvalid_0's binary_logloss: 0.151818\tvalid_0's macroF1: 0.857406\n",
      "[66]\tvalid_0's binary_logloss: 0.151994\tvalid_0's macroF1: 0.857406\n",
      "[67]\tvalid_0's binary_logloss: 0.152314\tvalid_0's macroF1: 0.857406\n",
      "[68]\tvalid_0's binary_logloss: 0.152145\tvalid_0's macroF1: 0.857406\n",
      "[69]\tvalid_0's binary_logloss: 0.152111\tvalid_0's macroF1: 0.856571\n",
      "[70]\tvalid_0's binary_logloss: 0.152202\tvalid_0's macroF1: 0.855229\n",
      "[71]\tvalid_0's binary_logloss: 0.152304\tvalid_0's macroF1: 0.854398\n",
      "[72]\tvalid_0's binary_logloss: 0.15249\tvalid_0's macroF1: 0.855229\n",
      "[73]\tvalid_0's binary_logloss: 0.152674\tvalid_0's macroF1: 0.857406\n",
      "[74]\tvalid_0's binary_logloss: 0.152551\tvalid_0's macroF1: 0.857908\n",
      "[75]\tvalid_0's binary_logloss: 0.152298\tvalid_0's macroF1: 0.857075\n",
      "[76]\tvalid_0's binary_logloss: 0.15194\tvalid_0's macroF1: 0.854398\n",
      "[77]\tvalid_0's binary_logloss: 0.152292\tvalid_0's macroF1: 0.855739\n",
      "[78]\tvalid_0's binary_logloss: 0.152273\tvalid_0's macroF1: 0.853569\n",
      "[79]\tvalid_0's binary_logloss: 0.152076\tvalid_0's macroF1: 0.853569\n",
      "[80]\tvalid_0's binary_logloss: 0.152018\tvalid_0's macroF1: 0.854398\n",
      "[81]\tvalid_0's binary_logloss: 0.152165\tvalid_0's macroF1: 0.854398\n",
      "[82]\tvalid_0's binary_logloss: 0.152103\tvalid_0's macroF1: 0.854398\n",
      "[83]\tvalid_0's binary_logloss: 0.152151\tvalid_0's macroF1: 0.855229\n",
      "[84]\tvalid_0's binary_logloss: 0.152415\tvalid_0's macroF1: 0.855229\n",
      "[85]\tvalid_0's binary_logloss: 0.152389\tvalid_0's macroF1: 0.855229\n",
      "[86]\tvalid_0's binary_logloss: 0.152535\tvalid_0's macroF1: 0.853882\n",
      "[87]\tvalid_0's binary_logloss: 0.152292\tvalid_0's macroF1: 0.853882\n",
      "[88]\tvalid_0's binary_logloss: 0.152398\tvalid_0's macroF1: 0.853882\n",
      "[89]\tvalid_0's binary_logloss: 0.152098\tvalid_0's macroF1: 0.853882\n",
      "[90]\tvalid_0's binary_logloss: 0.152401\tvalid_0's macroF1: 0.853052\n",
      "[91]\tvalid_0's binary_logloss: 0.152298\tvalid_0's macroF1: 0.853052\n",
      "[92]\tvalid_0's binary_logloss: 0.152205\tvalid_0's macroF1: 0.853882\n",
      "[93]\tvalid_0's binary_logloss: 0.15243\tvalid_0's macroF1: 0.854715\n",
      "[94]\tvalid_0's binary_logloss: 0.152395\tvalid_0's macroF1: 0.856063\n",
      "[95]\tvalid_0's binary_logloss: 0.152465\tvalid_0's macroF1: 0.856063\n",
      "[96]\tvalid_0's binary_logloss: 0.152358\tvalid_0's macroF1: 0.856063\n",
      "[97]\tvalid_0's binary_logloss: 0.152716\tvalid_0's macroF1: 0.85253\n",
      "[98]\tvalid_0's binary_logloss: 0.153154\tvalid_0's macroF1: 0.851701\n",
      "[99]\tvalid_0's binary_logloss: 0.153434\tvalid_0's macroF1: 0.853362\n",
      "[100]\tvalid_0's binary_logloss: 0.15362\tvalid_0's macroF1: 0.854197\n",
      "[1]\tvalid_0's binary_logloss: 0.295162\tvalid_0's macroF1: 0.473756\n",
      "[2]\tvalid_0's binary_logloss: 0.271701\tvalid_0's macroF1: 0.473756\n",
      "[3]\tvalid_0's binary_logloss: 0.254066\tvalid_0's macroF1: 0.473756\n",
      "[4]\tvalid_0's binary_logloss: 0.239032\tvalid_0's macroF1: 0.473756\n",
      "[5]\tvalid_0's binary_logloss: 0.227074\tvalid_0's macroF1: 0.710517\n",
      "[6]\tvalid_0's binary_logloss: 0.216057\tvalid_0's macroF1: 0.789169\n",
      "[7]\tvalid_0's binary_logloss: 0.20668\tvalid_0's macroF1: 0.799294\n",
      "[8]\tvalid_0's binary_logloss: 0.19866\tvalid_0's macroF1: 0.802904\n",
      "[9]\tvalid_0's binary_logloss: 0.191216\tvalid_0's macroF1: 0.806418\n",
      "[10]\tvalid_0's binary_logloss: 0.184936\tvalid_0's macroF1: 0.821716\n",
      "[11]\tvalid_0's binary_logloss: 0.179323\tvalid_0's macroF1: 0.843189\n",
      "[12]\tvalid_0's binary_logloss: 0.174901\tvalid_0's macroF1: 0.851506\n",
      "[13]\tvalid_0's binary_logloss: 0.17031\tvalid_0's macroF1: 0.850289\n",
      "[14]\tvalid_0's binary_logloss: 0.167311\tvalid_0's macroF1: 0.852701\n",
      "[15]\tvalid_0's binary_logloss: 0.163842\tvalid_0's macroF1: 0.85684\n",
      "[16]\tvalid_0's binary_logloss: 0.160924\tvalid_0's macroF1: 0.855932\n",
      "[17]\tvalid_0's binary_logloss: 0.15805\tvalid_0's macroF1: 0.856499\n",
      "[18]\tvalid_0's binary_logloss: 0.155912\tvalid_0's macroF1: 0.864294\n",
      "[19]\tvalid_0's binary_logloss: 0.153459\tvalid_0's macroF1: 0.863013\n",
      "[20]\tvalid_0's binary_logloss: 0.151403\tvalid_0's macroF1: 0.868662\n",
      "[21]\tvalid_0's binary_logloss: 0.149414\tvalid_0's macroF1: 0.868662\n",
      "[22]\tvalid_0's binary_logloss: 0.147998\tvalid_0's macroF1: 0.868754\n",
      "[23]\tvalid_0's binary_logloss: 0.146614\tvalid_0's macroF1: 0.870139\n",
      "[24]\tvalid_0's binary_logloss: 0.145385\tvalid_0's macroF1: 0.871518\n",
      "[25]\tvalid_0's binary_logloss: 0.1441\tvalid_0's macroF1: 0.874695\n",
      "[26]\tvalid_0's binary_logloss: 0.142942\tvalid_0's macroF1: 0.874261\n",
      "[27]\tvalid_0's binary_logloss: 0.141953\tvalid_0's macroF1: 0.873364\n",
      "[28]\tvalid_0's binary_logloss: 0.140764\tvalid_0's macroF1: 0.876066\n",
      "[29]\tvalid_0's binary_logloss: 0.139599\tvalid_0's macroF1: 0.876066\n"
     ]
    },
    {
     "name": "stderr",
     "output_type": "stream",
     "text": [
      "/usr/local/lib/python3.6/dist-packages/sklearn/preprocessing/_label.py:235: DataConversionWarning: A column-vector y was passed when a 1d array was expected. Please change the shape of y to (n_samples, ), for example using ravel().\n",
      "  y = column_or_1d(y, warn=True)\n",
      "/usr/local/lib/python3.6/dist-packages/sklearn/preprocessing/_label.py:268: DataConversionWarning: A column-vector y was passed when a 1d array was expected. Please change the shape of y to (n_samples, ), for example using ravel().\n",
      "  y = column_or_1d(y, warn=True)\n"
     ]
    },
    {
     "name": "stdout",
     "output_type": "stream",
     "text": [
      "[30]\tvalid_0's binary_logloss: 0.138391\tvalid_0's macroF1: 0.876066\n",
      "[31]\tvalid_0's binary_logloss: 0.137416\tvalid_0's macroF1: 0.876527\n",
      "[32]\tvalid_0's binary_logloss: 0.136817\tvalid_0's macroF1: 0.875625\n",
      "[33]\tvalid_0's binary_logloss: 0.136057\tvalid_0's macroF1: 0.878337\n",
      "[34]\tvalid_0's binary_logloss: 0.13552\tvalid_0's macroF1: 0.881058\n",
      "[35]\tvalid_0's binary_logloss: 0.134739\tvalid_0's macroF1: 0.880148\n",
      "[36]\tvalid_0's binary_logloss: 0.1344\tvalid_0's macroF1: 0.880148\n",
      "[37]\tvalid_0's binary_logloss: 0.133579\tvalid_0's macroF1: 0.883323\n",
      "[38]\tvalid_0's binary_logloss: 0.133345\tvalid_0's macroF1: 0.882409\n",
      "[39]\tvalid_0's binary_logloss: 0.132865\tvalid_0's macroF1: 0.883755\n",
      "[40]\tvalid_0's binary_logloss: 0.132974\tvalid_0's macroF1: 0.88059\n",
      "[41]\tvalid_0's binary_logloss: 0.132392\tvalid_0's macroF1: 0.882409\n",
      "[42]\tvalid_0's binary_logloss: 0.13207\tvalid_0's macroF1: 0.881498\n",
      "[43]\tvalid_0's binary_logloss: 0.131367\tvalid_0's macroF1: 0.881058\n",
      "[44]\tvalid_0's binary_logloss: 0.131309\tvalid_0's macroF1: 0.881058\n",
      "[45]\tvalid_0's binary_logloss: 0.131227\tvalid_0's macroF1: 0.881498\n",
      "[46]\tvalid_0's binary_logloss: 0.131058\tvalid_0's macroF1: 0.884184\n",
      "[47]\tvalid_0's binary_logloss: 0.130745\tvalid_0's macroF1: 0.885519\n",
      "[48]\tvalid_0's binary_logloss: 0.130499\tvalid_0's macroF1: 0.886432\n",
      "[49]\tvalid_0's binary_logloss: 0.130135\tvalid_0's macroF1: 0.886432\n",
      "[50]\tvalid_0's binary_logloss: 0.129799\tvalid_0's macroF1: 0.886432\n",
      "[51]\tvalid_0's binary_logloss: 0.129683\tvalid_0's macroF1: 0.886432\n",
      "[52]\tvalid_0's binary_logloss: 0.129642\tvalid_0's macroF1: 0.886432\n",
      "[53]\tvalid_0's binary_logloss: 0.129287\tvalid_0's macroF1: 0.887763\n",
      "[54]\tvalid_0's binary_logloss: 0.129068\tvalid_0's macroF1: 0.886432\n",
      "[55]\tvalid_0's binary_logloss: 0.128951\tvalid_0's macroF1: 0.886849\n",
      "[56]\tvalid_0's binary_logloss: 0.128651\tvalid_0's macroF1: 0.886849\n",
      "[57]\tvalid_0's binary_logloss: 0.128428\tvalid_0's macroF1: 0.887763\n",
      "[58]\tvalid_0's binary_logloss: 0.1283\tvalid_0's macroF1: 0.885519\n",
      "[59]\tvalid_0's binary_logloss: 0.128002\tvalid_0's macroF1: 0.884608\n",
      "[60]\tvalid_0's binary_logloss: 0.127761\tvalid_0's macroF1: 0.883274\n",
      "[61]\tvalid_0's binary_logloss: 0.127607\tvalid_0's macroF1: 0.884608\n",
      "[62]\tvalid_0's binary_logloss: 0.12773\tvalid_0's macroF1: 0.882368\n",
      "[63]\tvalid_0's binary_logloss: 0.12776\tvalid_0's macroF1: 0.881029\n",
      "[64]\tvalid_0's binary_logloss: 0.127354\tvalid_0's macroF1: 0.881029\n",
      "[65]\tvalid_0's binary_logloss: 0.127549\tvalid_0's macroF1: 0.881029\n",
      "[66]\tvalid_0's binary_logloss: 0.127435\tvalid_0's macroF1: 0.881465\n",
      "[67]\tvalid_0's binary_logloss: 0.127178\tvalid_0's macroF1: 0.881465\n",
      "[68]\tvalid_0's binary_logloss: 0.127179\tvalid_0's macroF1: 0.882797\n",
      "[69]\tvalid_0's binary_logloss: 0.127196\tvalid_0's macroF1: 0.882797\n",
      "[70]\tvalid_0's binary_logloss: 0.127214\tvalid_0's macroF1: 0.882797\n",
      "[71]\tvalid_0's binary_logloss: 0.127281\tvalid_0's macroF1: 0.882797\n",
      "[72]\tvalid_0's binary_logloss: 0.127436\tvalid_0's macroF1: 0.882797\n",
      "[73]\tvalid_0's binary_logloss: 0.127489\tvalid_0's macroF1: 0.882797\n",
      "[74]\tvalid_0's binary_logloss: 0.127557\tvalid_0's macroF1: 0.882797\n",
      "[75]\tvalid_0's binary_logloss: 0.127686\tvalid_0's macroF1: 0.882797\n",
      "[76]\tvalid_0's binary_logloss: 0.127836\tvalid_0's macroF1: 0.881465\n",
      "[77]\tvalid_0's binary_logloss: 0.12784\tvalid_0's macroF1: 0.880565\n",
      "[78]\tvalid_0's binary_logloss: 0.128188\tvalid_0's macroF1: 0.879228\n",
      "[79]\tvalid_0's binary_logloss: 0.128336\tvalid_0's macroF1: 0.881465\n",
      "[80]\tvalid_0's binary_logloss: 0.128259\tvalid_0's macroF1: 0.882368\n",
      "[81]\tvalid_0's binary_logloss: 0.1282\tvalid_0's macroF1: 0.883701\n",
      "[82]\tvalid_0's binary_logloss: 0.128233\tvalid_0's macroF1: 0.883701\n",
      "[83]\tvalid_0's binary_logloss: 0.128469\tvalid_0's macroF1: 0.882797\n",
      "[84]\tvalid_0's binary_logloss: 0.128515\tvalid_0's macroF1: 0.882797\n",
      "[85]\tvalid_0's binary_logloss: 0.128573\tvalid_0's macroF1: 0.882797\n",
      "[86]\tvalid_0's binary_logloss: 0.128697\tvalid_0's macroF1: 0.883701\n",
      "[87]\tvalid_0's binary_logloss: 0.128928\tvalid_0's macroF1: 0.883701\n",
      "[88]\tvalid_0's binary_logloss: 0.128776\tvalid_0's macroF1: 0.884608\n",
      "[89]\tvalid_0's binary_logloss: 0.128566\tvalid_0's macroF1: 0.885519\n",
      "[90]\tvalid_0's binary_logloss: 0.128842\tvalid_0's macroF1: 0.883701\n",
      "[91]\tvalid_0's binary_logloss: 0.128777\tvalid_0's macroF1: 0.883701\n",
      "[92]\tvalid_0's binary_logloss: 0.129264\tvalid_0's macroF1: 0.884608\n",
      "[93]\tvalid_0's binary_logloss: 0.129242\tvalid_0's macroF1: 0.882797\n",
      "[94]\tvalid_0's binary_logloss: 0.129137\tvalid_0's macroF1: 0.884125\n",
      "[95]\tvalid_0's binary_logloss: 0.129248\tvalid_0's macroF1: 0.884125\n",
      "[96]\tvalid_0's binary_logloss: 0.129287\tvalid_0's macroF1: 0.885938\n",
      "[97]\tvalid_0's binary_logloss: 0.129282\tvalid_0's macroF1: 0.886432\n",
      "[98]\tvalid_0's binary_logloss: 0.129357\tvalid_0's macroF1: 0.887349\n",
      "[99]\tvalid_0's binary_logloss: 0.1292\tvalid_0's macroF1: 0.887349\n",
      "[100]\tvalid_0's binary_logloss: 0.129221\tvalid_0's macroF1: 0.889193\n",
      "[1]\tvalid_0's binary_logloss: 0.296772\tvalid_0's macroF1: 0.473756\n",
      "[2]\tvalid_0's binary_logloss: 0.274045\tvalid_0's macroF1: 0.473756\n",
      "[3]\tvalid_0's binary_logloss: 0.256605\tvalid_0's macroF1: 0.473756\n",
      "[4]\tvalid_0's binary_logloss: 0.24266\tvalid_0's macroF1: 0.473756\n",
      "[5]\tvalid_0's binary_logloss: 0.230568\tvalid_0's macroF1: 0.640606\n",
      "[6]\tvalid_0's binary_logloss: 0.220684\tvalid_0's macroF1: 0.764484\n",
      "[7]\tvalid_0's binary_logloss: 0.212152\tvalid_0's macroF1: 0.788408"
     ]
    },
    {
     "name": "stderr",
     "output_type": "stream",
     "text": [
      "/usr/local/lib/python3.6/dist-packages/sklearn/preprocessing/_label.py:235: DataConversionWarning: A column-vector y was passed when a 1d array was expected. Please change the shape of y to (n_samples, ), for example using ravel().\n",
      "  y = column_or_1d(y, warn=True)\n",
      "/usr/local/lib/python3.6/dist-packages/sklearn/preprocessing/_label.py:268: DataConversionWarning: A column-vector y was passed when a 1d array was expected. Please change the shape of y to (n_samples, ), for example using ravel().\n",
      "  y = column_or_1d(y, warn=True)\n"
     ]
    },
    {
     "name": "stdout",
     "output_type": "stream",
     "text": [
      "\n",
      "[8]\tvalid_0's binary_logloss: 0.204423\tvalid_0's macroF1: 0.797528\n",
      "[9]\tvalid_0's binary_logloss: 0.197875\tvalid_0's macroF1: 0.799385\n",
      "[10]\tvalid_0's binary_logloss: 0.191864\tvalid_0's macroF1: 0.806374\n",
      "[11]\tvalid_0's binary_logloss: 0.186911\tvalid_0's macroF1: 0.811514\n",
      "[12]\tvalid_0's binary_logloss: 0.182831\tvalid_0's macroF1: 0.815702\n",
      "[13]\tvalid_0's binary_logloss: 0.179657\tvalid_0's macroF1: 0.815527\n",
      "[14]\tvalid_0's binary_logloss: 0.176093\tvalid_0's macroF1: 0.819355\n",
      "[15]\tvalid_0's binary_logloss: 0.173372\tvalid_0's macroF1: 0.820838\n",
      "[16]\tvalid_0's binary_logloss: 0.170605\tvalid_0's macroF1: 0.820838\n",
      "[17]\tvalid_0's binary_logloss: 0.168277\tvalid_0's macroF1: 0.821569\n",
      "[18]\tvalid_0's binary_logloss: 0.165837\tvalid_0's macroF1: 0.828554\n",
      "[19]\tvalid_0's binary_logloss: 0.163464\tvalid_0's macroF1: 0.832315\n",
      "[20]\tvalid_0's binary_logloss: 0.161667\tvalid_0's macroF1: 0.835581\n",
      "[21]\tvalid_0's binary_logloss: 0.159821\tvalid_0's macroF1: 0.837752\n",
      "[22]\tvalid_0's binary_logloss: 0.158714\tvalid_0's macroF1: 0.83298\n",
      "[23]\tvalid_0's binary_logloss: 0.157382\tvalid_0's macroF1: 0.834501\n",
      "[24]\tvalid_0's binary_logloss: 0.155896\tvalid_0's macroF1: 0.83298\n",
      "[25]\tvalid_0's binary_logloss: 0.154459\tvalid_0's macroF1: 0.837524\n",
      "[26]\tvalid_0's binary_logloss: 0.153533\tvalid_0's macroF1: 0.836882\n",
      "[27]\tvalid_0's binary_logloss: 0.152813\tvalid_0's macroF1: 0.839263\n",
      "[28]\tvalid_0's binary_logloss: 0.1521\tvalid_0's macroF1: 0.837524\n",
      "[29]\tvalid_0's binary_logloss: 0.151038\tvalid_0's macroF1: 0.842013\n",
      "[30]\tvalid_0's binary_logloss: 0.149977\tvalid_0's macroF1: 0.840523\n",
      "[31]\tvalid_0's binary_logloss: 0.149268\tvalid_0's macroF1: 0.837524\n",
      "[32]\tvalid_0's binary_logloss: 0.148886\tvalid_0's macroF1: 0.838392\n",
      "[33]\tvalid_0's binary_logloss: 0.148157\tvalid_0's macroF1: 0.840523\n",
      "[34]\tvalid_0's binary_logloss: 0.147536\tvalid_0's macroF1: 0.840523\n",
      "[35]\tvalid_0's binary_logloss: 0.147155\tvalid_0's macroF1: 0.841144\n",
      "[36]\tvalid_0's binary_logloss: 0.146982\tvalid_0's macroF1: 0.842885\n",
      "[37]\tvalid_0's binary_logloss: 0.146752\tvalid_0's macroF1: 0.845851\n",
      "[38]\tvalid_0's binary_logloss: 0.14664\tvalid_0's macroF1: 0.845851\n",
      "[39]\tvalid_0's binary_logloss: 0.146322\tvalid_0's macroF1: 0.847325\n",
      "[40]\tvalid_0's binary_logloss: 0.146237\tvalid_0's macroF1: 0.846449\n",
      "[41]\tvalid_0's binary_logloss: 0.145889\tvalid_0's macroF1: 0.848793\n",
      "[42]\tvalid_0's binary_logloss: 0.145177\tvalid_0's macroF1: 0.853482\n",
      "[43]\tvalid_0's binary_logloss: 0.145194\tvalid_0's macroF1: 0.852595\n",
      "[44]\tvalid_0's binary_logloss: 0.145298\tvalid_0's macroF1: 0.852595\n",
      "[45]\tvalid_0's binary_logloss: 0.145151\tvalid_0's macroF1: 0.850256\n",
      "[46]\tvalid_0's binary_logloss: 0.144731\tvalid_0's macroF1: 0.853482\n",
      "[47]\tvalid_0's binary_logloss: 0.144747\tvalid_0's macroF1: 0.854372\n",
      "[48]\tvalid_0's binary_logloss: 0.144564\tvalid_0's macroF1: 0.855265\n",
      "[49]\tvalid_0's binary_logloss: 0.144582\tvalid_0's macroF1: 0.854699\n",
      "[50]\tvalid_0's binary_logloss: 0.144282\tvalid_0's macroF1: 0.853803\n",
      "[51]\tvalid_0's binary_logloss: 0.144428\tvalid_0's macroF1: 0.85323\n",
      "[52]\tvalid_0's binary_logloss: 0.144219\tvalid_0's macroF1: 0.856161\n",
      "[53]\tvalid_0's binary_logloss: 0.144177\tvalid_0's macroF1: 0.855265\n",
      "[54]\tvalid_0's binary_logloss: 0.143924\tvalid_0's macroF1: 0.857618\n",
      "[55]\tvalid_0's binary_logloss: 0.14404\tvalid_0's macroF1: 0.857618\n",
      "[56]\tvalid_0's binary_logloss: 0.143604\tvalid_0's macroF1: 0.85672\n",
      "[57]\tvalid_0's binary_logloss: 0.143519\tvalid_0's macroF1: 0.855265\n",
      "[58]\tvalid_0's binary_logloss: 0.14346\tvalid_0's macroF1: 0.854372\n",
      "[59]\tvalid_0's binary_logloss: 0.143429\tvalid_0's macroF1: 0.85672\n",
      "[60]\tvalid_0's binary_logloss: 0.143271\tvalid_0's macroF1: 0.854372\n",
      "[61]\tvalid_0's binary_logloss: 0.1431\tvalid_0's macroF1: 0.851445\n",
      "[62]\tvalid_0's binary_logloss: 0.143054\tvalid_0's macroF1: 0.851445\n",
      "[63]\tvalid_0's binary_logloss: 0.143112\tvalid_0's macroF1: 0.850558\n",
      "[64]\tvalid_0's binary_logloss: 0.143008\tvalid_0's macroF1: 0.850558\n",
      "[65]\tvalid_0's binary_logloss: 0.143076\tvalid_0's macroF1: 0.854372\n",
      "[66]\tvalid_0's binary_logloss: 0.143017\tvalid_0's macroF1: 0.855265\n",
      "[67]\tvalid_0's binary_logloss: 0.143151\tvalid_0's macroF1: 0.855265\n",
      "[68]\tvalid_0's binary_logloss: 0.142964\tvalid_0's macroF1: 0.853803\n",
      "[69]\tvalid_0's binary_logloss: 0.143064\tvalid_0's macroF1: 0.855265\n",
      "[70]\tvalid_0's binary_logloss: 0.142846\tvalid_0's macroF1: 0.855265\n",
      "[71]\tvalid_0's binary_logloss: 0.142709\tvalid_0's macroF1: 0.85672\n",
      "[72]\tvalid_0's binary_logloss: 0.142563\tvalid_0's macroF1: 0.855265\n",
      "[73]\tvalid_0's binary_logloss: 0.142411\tvalid_0's macroF1: 0.855265\n",
      "[74]\tvalid_0's binary_logloss: 0.142235\tvalid_0's macroF1: 0.856161\n",
      "[75]\tvalid_0's binary_logloss: 0.141982\tvalid_0's macroF1: 0.857061\n",
      "[76]\tvalid_0's binary_logloss: 0.142223\tvalid_0's macroF1: 0.856161\n",
      "[77]\tvalid_0's binary_logloss: 0.142269\tvalid_0's macroF1: 0.854699\n",
      "[78]\tvalid_0's binary_logloss: 0.142315\tvalid_0's macroF1: 0.85323\n",
      "[79]\tvalid_0's binary_logloss: 0.142532\tvalid_0's macroF1: 0.85323\n",
      "[80]\tvalid_0's binary_logloss: 0.142596\tvalid_0's macroF1: 0.852336\n",
      "[81]\tvalid_0's binary_logloss: 0.14274\tvalid_0's macroF1: 0.85323\n",
      "[82]\tvalid_0's binary_logloss: 0.142609\tvalid_0's macroF1: 0.85323\n",
      "[83]\tvalid_0's binary_logloss: 0.142689\tvalid_0's macroF1: 0.85323\n",
      "[84]\tvalid_0's binary_logloss: 0.142779\tvalid_0's macroF1: 0.85323\n",
      "[85]\tvalid_0's binary_logloss: 0.142706\tvalid_0's macroF1: 0.854127\n",
      "[86]\tvalid_0's binary_logloss: 0.142661\tvalid_0's macroF1: 0.852652\n",
      "[87]\tvalid_0's binary_logloss: 0.142633\tvalid_0's macroF1: 0.852652\n",
      "[88]\tvalid_0's binary_logloss: 0.142716\tvalid_0's macroF1: 0.852652\n",
      "[89]\tvalid_0's binary_logloss: 0.142541\tvalid_0's macroF1: 0.851755\n",
      "[90]\tvalid_0's binary_logloss: 0.142542\tvalid_0's macroF1: 0.851755\n",
      "[91]\tvalid_0's binary_logloss: 0.14267\tvalid_0's macroF1: 0.85323\n",
      "[92]\tvalid_0's binary_logloss: 0.142799\tvalid_0's macroF1: 0.854127\n",
      "[93]\tvalid_0's binary_logloss: 0.142891\tvalid_0's macroF1: 0.854127\n",
      "[94]\tvalid_0's binary_logloss: 0.142797\tvalid_0's macroF1: 0.851755\n",
      "[95]\tvalid_0's binary_logloss: 0.142755\tvalid_0's macroF1: 0.854699\n",
      "[96]\tvalid_0's binary_logloss: 0.142704\tvalid_0's macroF1: 0.855597\n",
      "[97]\tvalid_0's binary_logloss: 0.142735\tvalid_0's macroF1: 0.856499\n",
      "[98]\tvalid_0's binary_logloss: 0.142954\tvalid_0's macroF1: 0.853551\n",
      "[99]\tvalid_0's binary_logloss: 0.142729\tvalid_0's macroF1: 0.853551\n",
      "[100]\tvalid_0's binary_logloss: 0.142835\tvalid_0's macroF1: 0.854454\n",
      "[1]\tvalid_0's binary_logloss: 0.297647\tvalid_0's macroF1: 0.473756\n",
      "[2]\tvalid_0's binary_logloss: 0.275661\tvalid_0's macroF1: 0.473756\n",
      "[3]\tvalid_0's binary_logloss: 0.257755\tvalid_0's macroF1: 0.473756\n",
      "[4]\tvalid_0's binary_logloss: 0.242939\tvalid_0's macroF1: 0.473756\n",
      "[5]\tvalid_0's binary_logloss: 0.23064\tvalid_0's macroF1: 0.668069\n",
      "[6]\tvalid_0's binary_logloss: 0.220717\tvalid_0's macroF1: 0.749626\n",
      "[7]\tvalid_0's binary_logloss: 0.210923\tvalid_0's macroF1: 0.774838\n",
      "[8]\tvalid_0's binary_logloss: 0.20328\tvalid_0's macroF1: 0.788178\n",
      "[9]\tvalid_0's binary_logloss: 0.197295\tvalid_0's macroF1: 0.803785\n",
      "[10]\tvalid_0's binary_logloss: 0.190765\tvalid_0's macroF1: 0.811685\n",
      "[11]\tvalid_0's binary_logloss: 0.184832\tvalid_0's macroF1: 0.819369\n",
      "[12]\tvalid_0's binary_logloss: 0.179916\tvalid_0's macroF1: 0.823518\n",
      "[13]\tvalid_0's binary_logloss: 0.176079\tvalid_0's macroF1: 0.829237\n",
      "[14]\tvalid_0's binary_logloss: 0.171857\tvalid_0's macroF1: 0.830505\n",
      "[15]\tvalid_0's binary_logloss: 0.16863\tvalid_0's macroF1: 0.839391\n",
      "[16]\tvalid_0's binary_logloss: 0.165855\tvalid_0's macroF1: 0.837578\n",
      "[17]\tvalid_0's binary_logloss: 0.163078\tvalid_0's macroF1: 0.839152\n",
      "[18]\tvalid_0's binary_logloss: 0.160419\tvalid_0's macroF1: 0.843833\n",
      "[19]\tvalid_0's binary_logloss: 0.158845\tvalid_0's macroF1: 0.843568\n",
      "[20]\tvalid_0's binary_logloss: 0.157141\tvalid_0's macroF1: 0.847545\n"
     ]
    },
    {
     "name": "stderr",
     "output_type": "stream",
     "text": [
      "/usr/local/lib/python3.6/dist-packages/sklearn/preprocessing/_label.py:235: DataConversionWarning: A column-vector y was passed when a 1d array was expected. Please change the shape of y to (n_samples, ), for example using ravel().\n",
      "  y = column_or_1d(y, warn=True)\n",
      "/usr/local/lib/python3.6/dist-packages/sklearn/preprocessing/_label.py:268: DataConversionWarning: A column-vector y was passed when a 1d array was expected. Please change the shape of y to (n_samples, ), for example using ravel().\n",
      "  y = column_or_1d(y, warn=True)\n"
     ]
    },
    {
     "name": "stdout",
     "output_type": "stream",
     "text": [
      "[21]\tvalid_0's binary_logloss: 0.155347\tvalid_0's macroF1: 0.848163\n",
      "[22]\tvalid_0's binary_logloss: 0.153445\tvalid_0's macroF1: 0.852701\n",
      "[23]\tvalid_0's binary_logloss: 0.151819\tvalid_0's macroF1: 0.851792\n",
      "[24]\tvalid_0's binary_logloss: 0.150724\tvalid_0's macroF1: 0.850886\n",
      "[25]\tvalid_0's binary_logloss: 0.149232\tvalid_0's macroF1: 0.849983\n",
      "[26]\tvalid_0's binary_logloss: 0.148134\tvalid_0's macroF1: 0.849983\n",
      "[27]\tvalid_0's binary_logloss: 0.147569\tvalid_0's macroF1: 0.850886\n",
      "[28]\tvalid_0's binary_logloss: 0.146596\tvalid_0's macroF1: 0.85297\n",
      "[29]\tvalid_0's binary_logloss: 0.145829\tvalid_0's macroF1: 0.852068\n",
      "[30]\tvalid_0's binary_logloss: 0.145596\tvalid_0's macroF1: 0.850579\n",
      "[31]\tvalid_0's binary_logloss: 0.144464\tvalid_0's macroF1: 0.852068\n",
      "[32]\tvalid_0's binary_logloss: 0.144054\tvalid_0's macroF1: 0.85117\n",
      "[33]\tvalid_0's binary_logloss: 0.143921\tvalid_0's macroF1: 0.85117\n",
      "[34]\tvalid_0's binary_logloss: 0.143095\tvalid_0's macroF1: 0.852652\n",
      "[35]\tvalid_0's binary_logloss: 0.142749\tvalid_0's macroF1: 0.852652\n",
      "[36]\tvalid_0's binary_logloss: 0.142579\tvalid_0's macroF1: 0.853551\n",
      "[37]\tvalid_0's binary_logloss: 0.142142\tvalid_0's macroF1: 0.852652\n",
      "[38]\tvalid_0's binary_logloss: 0.141978\tvalid_0's macroF1: 0.851755\n",
      "[39]\tvalid_0's binary_logloss: 0.141408\tvalid_0's macroF1: 0.852652\n",
      "[40]\tvalid_0's binary_logloss: 0.140776\tvalid_0's macroF1: 0.854127\n",
      "[41]\tvalid_0's binary_logloss: 0.140867\tvalid_0's macroF1: 0.855597\n",
      "[42]\tvalid_0's binary_logloss: 0.140692\tvalid_0's macroF1: 0.855597\n",
      "[43]\tvalid_0's binary_logloss: 0.140603\tvalid_0's macroF1: 0.857061\n",
      "[44]\tvalid_0's binary_logloss: 0.140309\tvalid_0's macroF1: 0.857061\n",
      "[45]\tvalid_0's binary_logloss: 0.139996\tvalid_0's macroF1: 0.857061\n",
      "[46]\tvalid_0's binary_logloss: 0.140074\tvalid_0's macroF1: 0.857061\n",
      "[47]\tvalid_0's binary_logloss: 0.140046\tvalid_0's macroF1: 0.855597\n",
      "[48]\tvalid_0's binary_logloss: 0.139702\tvalid_0's macroF1: 0.855597\n",
      "[49]\tvalid_0's binary_logloss: 0.139525\tvalid_0's macroF1: 0.856161\n",
      "[50]\tvalid_0's binary_logloss: 0.139105\tvalid_0's macroF1: 0.856161\n",
      "[51]\tvalid_0's binary_logloss: 0.139046\tvalid_0's macroF1: 0.856161\n",
      "[52]\tvalid_0's binary_logloss: 0.13919\tvalid_0's macroF1: 0.855265\n",
      "[53]\tvalid_0's binary_logloss: 0.138953\tvalid_0's macroF1: 0.85672\n",
      "[54]\tvalid_0's binary_logloss: 0.139014\tvalid_0's macroF1: 0.85817\n",
      "[55]\tvalid_0's binary_logloss: 0.139118\tvalid_0's macroF1: 0.85672\n",
      "[56]\tvalid_0's binary_logloss: 0.138945\tvalid_0's macroF1: 0.85672\n",
      "[57]\tvalid_0's binary_logloss: 0.13889\tvalid_0's macroF1: 0.85817\n",
      "[58]\tvalid_0's binary_logloss: 0.138869\tvalid_0's macroF1: 0.859615\n",
      "[59]\tvalid_0's binary_logloss: 0.138827\tvalid_0's macroF1: 0.859069\n",
      "[60]\tvalid_0's binary_logloss: 0.139212\tvalid_0's macroF1: 0.85672\n",
      "[61]\tvalid_0's binary_logloss: 0.139654\tvalid_0's macroF1: 0.854699\n",
      "[62]\tvalid_0's binary_logloss: 0.139405\tvalid_0's macroF1: 0.854699\n",
      "[63]\tvalid_0's binary_logloss: 0.139084\tvalid_0's macroF1: 0.856161\n",
      "[64]\tvalid_0's binary_logloss: 0.138826\tvalid_0's macroF1: 0.85323\n",
      "[65]\tvalid_0's binary_logloss: 0.138754\tvalid_0's macroF1: 0.852336\n",
      "[66]\tvalid_0's binary_logloss: 0.138297\tvalid_0's macroF1: 0.85672\n",
      "[67]\tvalid_0's binary_logloss: 0.13828\tvalid_0's macroF1: 0.85672\n",
      "[68]\tvalid_0's binary_logloss: 0.13838\tvalid_0's macroF1: 0.85672\n",
      "[69]\tvalid_0's binary_logloss: 0.138286\tvalid_0's macroF1: 0.85817\n",
      "[70]\tvalid_0's binary_logloss: 0.138185\tvalid_0's macroF1: 0.85817\n",
      "[71]\tvalid_0's binary_logloss: 0.138367\tvalid_0's macroF1: 0.85672\n",
      "[72]\tvalid_0's binary_logloss: 0.138316\tvalid_0's macroF1: 0.85672\n",
      "[73]\tvalid_0's binary_logloss: 0.138305\tvalid_0's macroF1: 0.85817\n",
      "[74]\tvalid_0's binary_logloss: 0.138341\tvalid_0's macroF1: 0.859615\n",
      "[75]\tvalid_0's binary_logloss: 0.138482\tvalid_0's macroF1: 0.859615\n",
      "[76]\tvalid_0's binary_logloss: 0.138505\tvalid_0's macroF1: 0.859615\n",
      "[77]\tvalid_0's binary_logloss: 0.138217\tvalid_0's macroF1: 0.859615\n",
      "[78]\tvalid_0's binary_logloss: 0.13824\tvalid_0's macroF1: 0.859615\n",
      "[79]\tvalid_0's binary_logloss: 0.138574\tvalid_0's macroF1: 0.859615\n",
      "[80]\tvalid_0's binary_logloss: 0.138568\tvalid_0's macroF1: 0.859615\n",
      "[81]\tvalid_0's binary_logloss: 0.13855\tvalid_0's macroF1: 0.862486\n",
      "[82]\tvalid_0's binary_logloss: 0.138597\tvalid_0's macroF1: 0.862486\n",
      "[83]\tvalid_0's binary_logloss: 0.138628\tvalid_0's macroF1: 0.861053\n",
      "[84]\tvalid_0's binary_logloss: 0.138559\tvalid_0's macroF1: 0.861053\n",
      "[85]\tvalid_0's binary_logloss: 0.138634\tvalid_0's macroF1: 0.862486\n",
      "[86]\tvalid_0's binary_logloss: 0.13847\tvalid_0's macroF1: 0.862486\n",
      "[87]\tvalid_0's binary_logloss: 0.138912\tvalid_0's macroF1: 0.861053\n",
      "[88]\tvalid_0's binary_logloss: 0.138769\tvalid_0's macroF1: 0.861053\n",
      "[89]\tvalid_0's binary_logloss: 0.138904\tvalid_0's macroF1: 0.85817\n",
      "[90]\tvalid_0's binary_logloss: 0.139152\tvalid_0's macroF1: 0.85672\n",
      "[91]\tvalid_0's binary_logloss: 0.139341\tvalid_0's macroF1: 0.85672\n",
      "[92]\tvalid_0's binary_logloss: 0.139313\tvalid_0's macroF1: 0.85672\n",
      "[93]\tvalid_0's binary_logloss: 0.139461\tvalid_0's macroF1: 0.85817\n",
      "[94]\tvalid_0's binary_logloss: 0.139866\tvalid_0's macroF1: 0.85672\n",
      "[95]\tvalid_0's binary_logloss: 0.140109\tvalid_0's macroF1: 0.854372\n",
      "[96]\tvalid_0's binary_logloss: 0.139979\tvalid_0's macroF1: 0.853482\n",
      "[97]\tvalid_0's binary_logloss: 0.139868\tvalid_0's macroF1: 0.853482\n",
      "[98]\tvalid_0's binary_logloss: 0.139929\tvalid_0's macroF1: 0.853482\n",
      "[99]\tvalid_0's binary_logloss: 0.140105\tvalid_0's macroF1: 0.853482\n",
      "[100]\tvalid_0's binary_logloss: 0.140022\tvalid_0's macroF1: 0.852595\n"
     ]
    }
   ],
   "source": [
    "for training_index, testing_index in gkf.split(X=x, y=y):\n",
    "    x_train_fold, y_train_fold = x[training_index], y[training_index]\n",
    "    x_test_fold, y_test_fold = x[testing_index], y[testing_index]\n",
    "    model.fit(x_train_fold, y_train_fold, eval_set=(x_test_fold,y_test_fold),eval_metric = lambda y_true, y_pred: [evaluate_macroF1_lgb(y_true,y_pred)])"
   ]
  },
  {
   "cell_type": "code",
   "execution_count": 30,
   "metadata": {},
   "outputs": [],
   "source": [
    "predicted_y = model.predict(x_test)\n",
    "train_pred_y = model.predict(x)"
   ]
  },
  {
   "cell_type": "code",
   "execution_count": 31,
   "metadata": {},
   "outputs": [
    {
     "name": "stdout",
     "output_type": "stream",
     "text": [
      "\n",
      "              precision    recall  f1-score   support\n",
      "\n",
      "           0       0.96      0.85      0.90      1345\n",
      "           1       0.98      1.00      0.99     12140\n",
      "\n",
      "    accuracy                           0.98     13485\n",
      "   macro avg       0.97      0.92      0.95     13485\n",
      "weighted avg       0.98      0.98      0.98     13485\n",
      "\n",
      "\n",
      "[[ 1144   201]\n",
      " [   49 12091]]\n",
      "\n",
      "              precision    recall  f1-score   support\n",
      "\n",
      "           0       0.85      0.72      0.78       336\n",
      "           1       0.97      0.99      0.98      3036\n",
      "\n",
      "    accuracy                           0.96      3372\n",
      "   macro avg       0.91      0.85      0.88      3372\n",
      "weighted avg       0.96      0.96      0.96      3372\n",
      "\n",
      "\n",
      "[[ 241   95]\n",
      " [  42 2994]]\n"
     ]
    }
   ],
   "source": [
    "print(); print(metrics.classification_report(y,train_pred_y))\n",
    "print(); print(metrics.confusion_matrix(y, train_pred_y))\n",
    "\n",
    "print(); print(metrics.classification_report(y_test, predicted_y))\n",
    "print(); print(metrics.confusion_matrix(y_test, predicted_y))"
   ]
  },
  {
   "cell_type": "markdown",
   "metadata": {},
   "source": [
    "<h2>Testing</h2>"
   ]
  },
  {
   "cell_type": "code",
   "execution_count": 32,
   "metadata": {
    "colab": {},
    "colab_type": "code",
    "id": "dRpHFO-hvEvg"
   },
   "outputs": [],
   "source": [
    "\n",
    "test_set = pd.read_csv(data_path+'test.csv', index_col=\"tripid\")\n"
   ]
  },
  {
   "cell_type": "code",
   "execution_count": 33,
   "metadata": {
    "colab": {},
    "colab_type": "code",
    "id": "-aB-vcWQPl-L"
   },
   "outputs": [],
   "source": [
    "test_set['pickup_time'] = pd.to_datetime(test_set['pickup_time'], format=\"%m/%d/%Y %H:%M\")\n",
    "test_set['drop_time'] = pd.to_datetime(test_set['drop_time'], format=\"%m/%d/%Y %H:%M\")"
   ]
  },
  {
   "cell_type": "code",
   "execution_count": 34,
   "metadata": {
    "colab": {},
    "colab_type": "code",
    "id": "-fh6I6oDPrqF"
   },
   "outputs": [],
   "source": [
    "test_set = test_set.assign(timeOfDay=pd.cut(test_set.pickup_time.dt.hour,[-1, 8, 20, 24],labels=['dawn','day', 'night']))"
   ]
  },
  {
   "cell_type": "code",
   "execution_count": 35,
   "metadata": {},
   "outputs": [],
   "source": [
    "test_set.loc[test_set['timeOfDay'] == 'day', 'isNormalCharge'] = 1\n",
    "test_set.loc[test_set['timeOfDay'] != 'day', 'isNormalCharge'] = 0"
   ]
  },
  {
   "cell_type": "code",
   "execution_count": 36,
   "metadata": {
    "colab": {},
    "colab_type": "code",
    "id": "0YIKrGoUPxjD"
   },
   "outputs": [],
   "source": [
    "durations = []\n",
    "for index,row in test_set.iterrows():\n",
    "  provided_duration = row['duration'] #first row of location.lat column here\n",
    "  if math.isnan(provided_duration) or provided_duration <= 0 :\n",
    "    time_dif = (row['drop_time'] - row['pickup_time']).seconds\n",
    "    if(time_dif == 0):\n",
    "        time_dif = np.nan\n",
    "    durations.append(time_dif)\n",
    "  else :  \n",
    "    durations.append(provided_duration)\n",
    "\n",
    "test_set.insert(4,\"time_dif\",durations)"
   ]
  },
  {
   "cell_type": "code",
   "execution_count": 37,
   "metadata": {
    "colab": {},
    "colab_type": "code",
    "id": "N8RKMAziP2Zu"
   },
   "outputs": [],
   "source": [
    "new_column = []                    #empty column for distance\n",
    "for index,row in test_set.iterrows():\n",
    "  lat1 = row['pick_lat'] #first row of location.lat column here\n",
    "  lon1 = row['pick_lon'] #first row of location.long column here\n",
    "  lat2 = row['drop_lat'] #second row of location.lat column here\n",
    "  lon2 = row['drop_lon'] #second row of location.long column here\n",
    "  value = dist_from_coordinates(lat1, lon1, lat2, lon2)  #get the distance\n",
    "  new_column.append(value)   #append the empty list with distance values\n",
    "\n",
    "test_set.insert(4,\"distance\",new_column)"
   ]
  },
  {
   "cell_type": "code",
   "execution_count": 38,
   "metadata": {
    "colab": {},
    "colab_type": "code",
    "id": "fhGdrT68P7u0"
   },
   "outputs": [],
   "source": [
    "test_set['time_driven'] = test_set['duration']  - test_set['meter_waiting']"
   ]
  },
  {
   "cell_type": "code",
   "execution_count": 39,
   "metadata": {
    "colab": {},
    "colab_type": "code",
    "id": "0T1ZhNq4QCFr"
   },
   "outputs": [],
   "source": [
    "chargeperhours = []\n",
    "for index,row in test_set.iterrows():\n",
    "    if(row['meter_waiting'] == 0):\n",
    "        chargeperhour = np.nan\n",
    "    else:\n",
    "        chargeperhour = (row['meter_waiting_fare'] / row['meter_waiting'] * 3600)\n",
    "    chargeperhours.append(chargeperhour)\n",
    "\n",
    "test_set.insert(4,'charge_per_hour',chargeperhours)\n"
   ]
  },
  {
   "cell_type": "code",
   "execution_count": 40,
   "metadata": {
    "colab": {},
    "colab_type": "code",
    "id": "stlHhBUcQHPO"
   },
   "outputs": [],
   "source": [
    "test_set['driving_fare'] = test_set['fare']  - test_set['meter_waiting_fare'] - test_set['additional_fare']"
   ]
  },
  {
   "cell_type": "code",
   "execution_count": 41,
   "metadata": {
    "colab": {},
    "colab_type": "code",
    "id": "3swRfBdUQPab"
   },
   "outputs": [],
   "source": [
    "avgspeeds = []\n",
    "for index,row in test_set.iterrows():\n",
    "    if(row['time_driven'] == 0):\n",
    "        avgspeed = np.nan    \n",
    "    else:\n",
    "        avgspeed = (row['distance'] / row['time_driven'] * 3600)\n",
    "    avgspeeds.append(avgspeed)\n",
    "\n",
    "test_set.insert(4,\"avg_speed\",avgspeeds)\n",
    "\n"
   ]
  },
  {
   "cell_type": "code",
   "execution_count": 42,
   "metadata": {
    "colab": {},
    "colab_type": "code",
    "id": "CbN5feh0QWAF"
   },
   "outputs": [],
   "source": [
    "costsperkm = []\n",
    "for index,row in test_set.iterrows():\n",
    "    if row['distance'] == 0:\n",
    "        costperkm = np.nan\n",
    "            \n",
    "    else:\n",
    "        costperkm = (row['driving_fare'] / row['distance'])\n",
    "    costsperkm.append(costperkm)\n",
    "\n",
    "test_set.insert(4,\"cost_per_km\",costsperkm)"
   ]
  },
  {
   "cell_type": "code",
   "execution_count": 43,
   "metadata": {
    "colab": {},
    "colab_type": "code",
    "id": "G8siIDy9_D2I"
   },
   "outputs": [],
   "source": [
    "test_features = test_set[training_columns]"
   ]
  },
  {
   "cell_type": "code",
   "execution_count": 44,
   "metadata": {
    "colab": {
     "base_uri": "https://localhost:8080/",
     "height": 455
    },
    "colab_type": "code",
    "id": "YGcUrVpWQc6h",
    "outputId": "b45b835c-1c70-4035-ff79-2d936377d9e1"
   },
   "outputs": [
    {
     "data": {
      "text/plain": [
       "meter_waiting           0\n",
       "meter_waiting_fare      0\n",
       "fare                    0\n",
       "additional_fare         0\n",
       "distance                0\n",
       "cost_per_km            25\n",
       "avg_speed               9\n",
       "time_dif                0\n",
       "time_driven             0\n",
       "charge_per_hour       298\n",
       "driving_fare            0\n",
       "isNormalCharge          0\n",
       "pick_lat                0\n",
       "pick_lon                0\n",
       "drop_lat                0\n",
       "drop_lon                0\n",
       "dtype: int64"
      ]
     },
     "execution_count": 44,
     "metadata": {},
     "output_type": "execute_result"
    }
   ],
   "source": [
    "test_features.isna().sum()"
   ]
  },
  {
   "cell_type": "code",
   "execution_count": 45,
   "metadata": {
    "colab": {},
    "colab_type": "code",
    "id": "MeqI1BVR_Fpl"
   },
   "outputs": [],
   "source": [
    "predicted_labels = model.predict(test_features)"
   ]
  },
  {
   "cell_type": "code",
   "execution_count": 46,
   "metadata": {},
   "outputs": [],
   "source": [
    "predicted_labels_df = pd.DataFrame(predicted_labels )"
   ]
  },
  {
   "cell_type": "code",
   "execution_count": 47,
   "metadata": {
    "colab": {},
    "colab_type": "code",
    "id": "qqHn12X6_Gvf"
   },
   "outputs": [],
   "source": [
    "sub_path =os.path.abspath(os.path.join(data_path+'/sample_submission.csv'))\n",
    "submission_set = pd.read_csv(sub_path, index_col=\"tripid\")"
   ]
  },
  {
   "cell_type": "code",
   "execution_count": 48,
   "metadata": {
    "colab": {},
    "colab_type": "code",
    "id": "8Ji-pVGy_H3c"
   },
   "outputs": [],
   "source": [
    "submission_set['prediction']= predicted_labels_df.values[:,0]"
   ]
  },
  {
   "cell_type": "code",
   "execution_count": 49,
   "metadata": {},
   "outputs": [
    {
     "data": {
      "application/javascript": [
       "var kernel = IPython.notebook.kernel;\n",
       "var thename = window.document.getElementById(\"notebook_name\").innerHTML;\n",
       "var command = \"theNotebook = \" + \"'\"+thename+\"'\";\n",
       "kernel.execute(command);\n"
      ],
      "text/plain": [
       "<IPython.core.display.Javascript object>"
      ]
     },
     "metadata": {},
     "output_type": "display_data"
    }
   ],
   "source": [
    "%%javascript\n",
    "var kernel = IPython.notebook.kernel;\n",
    "var thename = window.document.getElementById(\"notebook_name\").innerHTML;\n",
    "var command = \"theNotebook = \" + \"'\"+thename+\"'\";\n",
    "kernel.execute(command);"
   ]
  },
  {
   "cell_type": "code",
   "execution_count": 51,
   "metadata": {
    "colab": {
     "base_uri": "https://localhost:8080/",
     "height": 35
    },
    "colab_type": "code",
    "id": "U6dGilvv_JLl",
    "outputId": "a12ca51c-c94a-4f5d-efab-2ebd6a29156a"
   },
   "outputs": [
    {
     "name": "stdout",
     "output_type": "stream",
     "text": [
      "Completed!\n"
     ]
    }
   ],
   "source": [
    "filename = '../../submissions/'+theNotebook+'/'+theNotebook+'_{%i}.csv'\n",
    "dirname = '../../submissions/'+theNotebook\n",
    "fileversion = 1\n",
    "\n",
    "if not os.path.exists(dirname):\n",
    "    os.makedirs(dirname)\n",
    "while glob.glob(filename.replace('{%i}',str(fileversion))) :\n",
    "    fileversion+=1\n",
    "submission_set.to_csv(filename.replace('{%i}',str(fileversion)), index=True)\n",
    "print(\"Completed!\")"
   ]
  },
  {
   "cell_type": "code",
   "execution_count": 50,
   "metadata": {
    "colab": {
     "base_uri": "https://localhost:8080/",
     "height": 72
    },
    "colab_type": "code",
    "id": "cg-I13X0_Q0d",
    "outputId": "e0a6dd1e-8d7f-46f6-f8a8-98406223ba06"
   },
   "outputs": [
    {
     "data": {
      "text/plain": [
       "1    7969\n",
       "0     607\n",
       "Name: prediction, dtype: int64"
      ]
     },
     "execution_count": 50,
     "metadata": {},
     "output_type": "execute_result"
    }
   ],
   "source": [
    "submission_set['prediction'].value_counts()"
   ]
  },
  {
   "cell_type": "code",
   "execution_count": null,
   "metadata": {},
   "outputs": [],
   "source": []
  },
  {
   "cell_type": "code",
   "execution_count": null,
   "metadata": {},
   "outputs": [],
   "source": []
  }
 ],
 "metadata": {
  "colab": {
   "collapsed_sections": [],
   "name": "lightbgm using grid",
   "provenance": []
  },
  "kernelspec": {
   "display_name": "Python 3",
   "language": "python",
   "name": "python3"
  },
  "language_info": {
   "codemirror_mode": {
    "name": "ipython",
    "version": 3
   },
   "file_extension": ".py",
   "mimetype": "text/x-python",
   "name": "python",
   "nbconvert_exporter": "python",
   "pygments_lexer": "ipython3",
   "version": "3.6.9"
  }
 },
 "nbformat": 4,
 "nbformat_minor": 1
}
