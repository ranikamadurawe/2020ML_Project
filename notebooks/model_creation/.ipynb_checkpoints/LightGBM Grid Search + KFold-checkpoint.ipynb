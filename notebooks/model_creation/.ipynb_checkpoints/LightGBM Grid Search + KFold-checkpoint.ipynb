{
 "cells": [
  {
   "cell_type": "code",
   "execution_count": 1,
   "metadata": {
    "colab": {},
    "colab_type": "code",
    "id": "6BY0u5O7qfR1"
   },
   "outputs": [],
   "source": [
    "import numpy as np\n",
    "import pandas as pd\n",
    "import lightgbm\n",
    "from sklearn.model_selection import train_test_split\n",
    "from sklearn.preprocessing import LabelBinarizer\n",
    "import math\n",
    "from sklearn import metrics\n",
    "from sklearn.model_selection import RandomizedSearchCV, GridSearchCV\n",
    "from sklearn.model_selection import KFold, StratifiedKFold\n",
    "import matplotlib.pyplot as plt\n",
    "import os\n",
    "import glob"
   ]
  },
  {
   "cell_type": "code",
   "execution_count": 2,
   "metadata": {
    "colab": {},
    "colab_type": "code",
    "id": "jaeR-AOtreKu"
   },
   "outputs": [],
   "source": [
    "\n",
    "data_path='/home/madnisal/Documents/ML_Project/datasets/'\n",
    "training_df = pd.read_csv(data_path+'train.csv', index_col=\"tripid\")"
   ]
  },
  {
   "cell_type": "code",
   "execution_count": 3,
   "metadata": {
    "colab": {},
    "colab_type": "code",
    "id": "x2_djb9zOwgg"
   },
   "outputs": [],
   "source": [
    "def dist_from_coordinates(lat1, lon1, lat2, lon2):\n",
    "  R = 6371  # Earth radius in km\n",
    "\n",
    "  #conversion to radians\n",
    "  d_lat = np.radians(lat2-lat1)\n",
    "  d_lon = np.radians(lon2-lon1)\n",
    "\n",
    "  r_lat1 = np.radians(lat1)\n",
    "  r_lat2 = np.radians(lat2)\n",
    "\n",
    "  #haversine formula\n",
    "  a = np.sin(d_lat/2.) **2 + np.cos(r_lat1) * np.cos(r_lat2) * np.sin(d_lon/2.)**2\n",
    "\n",
    "  haversine = 2 * R * np.arcsin(np.sqrt(a))\n",
    "\n",
    "  return haversine"
   ]
  },
  {
   "cell_type": "code",
   "execution_count": 4,
   "metadata": {
    "colab": {},
    "colab_type": "code",
    "id": "fZx_Ut6cOzP9"
   },
   "outputs": [],
   "source": [
    "training_df['pickup_time'] = pd.to_datetime(training_df['pickup_time'], format=\"%m/%d/%Y %H:%M\")\n",
    "training_df['drop_time'] = pd.to_datetime(training_df['drop_time'], format=\"%m/%d/%Y %H:%M\")"
   ]
  },
  {
   "cell_type": "code",
   "execution_count": 5,
   "metadata": {
    "colab": {},
    "colab_type": "code",
    "id": "AmRtNkL2O062"
   },
   "outputs": [],
   "source": [
    "training_df = training_df.assign(timeOfDay=pd.cut(training_df.pickup_time.dt.hour,[-1, 8, 20, 24],labels=['dawn','day', 'night']))"
   ]
  },
  {
   "cell_type": "code",
   "execution_count": 6,
   "metadata": {},
   "outputs": [],
   "source": [
    "training_df.loc[training_df['timeOfDay'] == 'day', 'isNormalCharge'] = 1\n",
    "training_df.loc[training_df['timeOfDay'] != 'day', 'isNormalCharge'] = 0"
   ]
  },
  {
   "cell_type": "code",
   "execution_count": 7,
   "metadata": {
    "colab": {},
    "colab_type": "code",
    "id": "q4CFd-NqO2Un"
   },
   "outputs": [],
   "source": [
    "durations = []\n",
    "for index,row in training_df.iterrows():\n",
    "  provided_duration = row['duration'] #first row of location.lat column here\n",
    "  if math.isnan(provided_duration) or provided_duration <= 0 :\n",
    "    time_dif = (row['drop_time'] - row['pickup_time']).seconds\n",
    "    if(time_dif == 0):\n",
    "        time_dif = np.nan\n",
    "    durations.append(time_dif)\n",
    "  else :  \n",
    "    durations.append(provided_duration)\n",
    "\n",
    "training_df.insert(4,\"time_dif\",durations)"
   ]
  },
  {
   "cell_type": "code",
   "execution_count": 8,
   "metadata": {
    "colab": {},
    "colab_type": "code",
    "id": "OKJBD2vsO6bJ"
   },
   "outputs": [],
   "source": [
    "new_column = []                    #empty column for distance\n",
    "for index,row in training_df.iterrows():\n",
    "  lat1 = row['pick_lat'] #first row of location.lat column here\n",
    "  lon1 = row['pick_lon'] #first row of location.long column here\n",
    "  lat2 = row['drop_lat'] #second row of location.lat column here\n",
    "  lon2 = row['drop_lon'] #second row of location.long column here\n",
    "  value = dist_from_coordinates(lat1, lon1, lat2, lon2)  #get the distance\n",
    "  new_column.append(value)   #append the empty list with distance values\n",
    "\n",
    "training_df.insert(4,\"distance\",new_column)"
   ]
  },
  {
   "cell_type": "code",
   "execution_count": 9,
   "metadata": {
    "colab": {},
    "colab_type": "code",
    "id": "EDFvgdsoO8rC"
   },
   "outputs": [],
   "source": [
    "training_df['time_driven'] = training_df['duration']  - training_df['meter_waiting']"
   ]
  },
  {
   "cell_type": "code",
   "execution_count": 10,
   "metadata": {
    "colab": {},
    "colab_type": "code",
    "id": "eQOTKxsNO-CH"
   },
   "outputs": [],
   "source": [
    "chargeperhours = []\n",
    "for index,row in training_df.iterrows():\n",
    "    if(row['meter_waiting'] == 0):\n",
    "        chargeperhour = np.nan\n",
    "    else:\n",
    "        chargeperhour = (row['meter_waiting_fare'] / row['meter_waiting'] * 3600)\n",
    "    chargeperhours.append(chargeperhour)\n",
    "\n",
    "training_df.insert(4,'charge_per_hour',chargeperhours)\n"
   ]
  },
  {
   "cell_type": "code",
   "execution_count": 11,
   "metadata": {
    "colab": {},
    "colab_type": "code",
    "id": "c9OpngXwPAiv"
   },
   "outputs": [],
   "source": [
    "training_df['driving_fare'] = training_df['fare']  - training_df['meter_waiting_fare'] - training_df['additional_fare']"
   ]
  },
  {
   "cell_type": "code",
   "execution_count": 12,
   "metadata": {
    "colab": {},
    "colab_type": "code",
    "id": "ECO9WaT5PB6O"
   },
   "outputs": [],
   "source": [
    "avgspeeds = []\n",
    "for index,row in training_df.iterrows():\n",
    "    if(row['time_driven'] == 0):\n",
    "        avgspeed = np.nan\n",
    "    else:\n",
    "        avgspeed = (row['distance'] / row['time_driven'] * 3600)\n",
    "    avgspeeds.append(avgspeed)\n",
    "\n",
    "training_df.insert(4,\"avg_speed\",avgspeeds)\n",
    "\n"
   ]
  },
  {
   "cell_type": "code",
   "execution_count": 13,
   "metadata": {
    "colab": {},
    "colab_type": "code",
    "id": "j1DDDw52PGUY"
   },
   "outputs": [],
   "source": [
    "costsperkm = []\n",
    "for index,row in training_df.iterrows():\n",
    "    if row['distance'] == 0:\n",
    "        costperkm = np.nan\n",
    "            \n",
    "    else:\n",
    "        costperkm = (row['driving_fare'] / row['distance'])\n",
    "    costsperkm.append(costperkm)\n",
    "\n",
    "training_df.insert(4,\"cost_per_km\",costsperkm)"
   ]
  },
  {
   "cell_type": "code",
   "execution_count": 14,
   "metadata": {
    "colab": {},
    "colab_type": "code",
    "id": "zVsGZhgQrktE"
   },
   "outputs": [],
   "source": [
    "training_df = training_df.replace({'label': {'incorrect': 0, 'correct' : 1}})"
   ]
  },
  {
   "cell_type": "code",
   "execution_count": 15,
   "metadata": {},
   "outputs": [
    {
     "data": {
      "text/plain": [
       "Index(['additional_fare', 'duration', 'meter_waiting', 'meter_waiting_fare',\n",
       "       'cost_per_km', 'avg_speed', 'charge_per_hour', 'distance', 'time_dif',\n",
       "       'meter_waiting_till_pickup', 'pickup_time', 'drop_time', 'pick_lat',\n",
       "       'pick_lon', 'drop_lat', 'drop_lon', 'fare', 'label', 'timeOfDay',\n",
       "       'isNormalCharge', 'time_driven', 'driving_fare'],\n",
       "      dtype='object')"
      ]
     },
     "execution_count": 15,
     "metadata": {},
     "output_type": "execute_result"
    }
   ],
   "source": [
    "training_df.columns"
   ]
  },
  {
   "cell_type": "code",
   "execution_count": 16,
   "metadata": {
    "colab": {},
    "colab_type": "code",
    "id": "57BMgEiErsvR"
   },
   "outputs": [],
   "source": [
    "#training_columns = ['duration','meter_waiting','meter_waiting_fare','fare','additional_fare']"
   ]
  },
  {
   "cell_type": "code",
   "execution_count": 17,
   "metadata": {},
   "outputs": [],
   "source": [
    "training_columns = ['meter_waiting','meter_waiting_fare','fare','additional_fare', 'distance','cost_per_km', 'avg_speed', 'pick_lat',\n",
    "       'pick_lon', 'drop_lat', 'drop_lon', 'isNormalCharge',  'time_dif','time_driven', 'charge_per_hour', 'driving_fare']"
   ]
  },
  {
   "cell_type": "code",
   "execution_count": 18,
   "metadata": {},
   "outputs": [],
   "source": [
    "#training_columns = ['additional_fare', 'meter_waiting','cost_per_km', 'avg_speed', 'charge_per_hour', 'time_dif','isNormalCharge', 'time_driven']"
   ]
  },
  {
   "cell_type": "code",
   "execution_count": 19,
   "metadata": {
    "colab": {},
    "colab_type": "code",
    "id": "ZfhR0rVKPNKA"
   },
   "outputs": [],
   "source": [
    "#training_columns = ['duration','meter_waiting','meter_waiting_fare','fare','additional_fare', 'distance','cost_per_km', 'avg_speed',  'time_dif','time_driven', 'charge_per_hour', 'driving_fare', 'isNormalCharge']"
   ]
  },
  {
   "cell_type": "code",
   "execution_count": 20,
   "metadata": {
    "colab": {},
    "colab_type": "code",
    "id": "tnbpcAUqruuZ"
   },
   "outputs": [],
   "source": [
    "target_column = ['label']"
   ]
  },
  {
   "cell_type": "code",
   "execution_count": null,
   "metadata": {},
   "outputs": [],
   "source": [
    "del_list = [189160756, 189213407, 189307311, 189345964, 189418240, 189431382, 189445521, 189475280, 189663502, 189667686, 189670152, 189765236, 189800308, 189820422, 189841958, 189842329, 189989861, 190017339, 190059653, 190100669, 190108454, 190167541, 190189374, 190240764, 190371740, 190390160, 190392777, 190439600, 190465231, 190579195, 190616564, 190630270, 190632321, 190679701, 190757034, 190768625, 190871768, 191004988, 191056435, 191062441, 191067600, 191098402, 191125782, 191175923, 191245326, 191253555, 191315141, 191328606, 191362317, 191364887, 191367425, 191371136, 191409182, 191425016, 191486731, 191494949, 191557599, 191569507, 191584433, 191949862, 191961350, 192118009, 192118666, 192121471, 192190626, 192227971, 192342254, 192424245, 192603743, 192666104, 192680516, 192749835, 192930989, 193029201, 193333812, 193341290, 193363687, 193453026, 193464877, 193484505, 193659984, 193677619, 193755306, 193781025, 193827380, 193841338, 193848497, 193874272, 193886201, 193898575, 193912639, 194037315, 194218927, 194220232, 194256573, 194329792, 194337863, 194348937, 194361105, 194399192, 194468034, 194479410, 194554416, 194556014, 194579174, 194590549, 194653084, 194683585, 194713405, 194732335, 194742273, 195063269, 195068585, 195113569, 195171803, 195205081, 195229926, 195315462, 195411360, 195473412, 195505361, 195506533, 195519176, 195591902, 195593822, 195618766, 195749648, 195770562, 195790876, 196371958, 196472675, 196474232, 196476814, 196489680, 196502361, 196538137, 196661640, 196856208, 196940311, 196948918, 197034128, 197075221, 197150903, 197191446, 197242047, 197269750, 197302262, 197404081, 197421930, 197580331, 197583750, 197600970, 197814149, 197835993, 197976560, 197984654, 198205664, 198395566, 198411902, 198429392, 198486416, 198510589, 198585995, 198659662, 198685804, 198704554, 198711403, 198717134, 198732301, 198792329, 198823534, 198833045, 198836780, 198940643, 199006853, 199068515, 199119071, 199156085, 199211192, 199229511, 199281693, 199550110, 199593615, 199660617, 199689558, 199868018, 199986019, 200120578, 200169960, 200203616, 200235706, 200258292, 200259718, 200573263, 200620282, 200718521, 200760625, 200764288, 200829063, 200943864, 201159410, 201196145, 201211325, 201321715, 201478900, 201540569, 201611493, 201622567, 201683301, 201711200, 201718751, 201727138, 201737874, 201784877, 201930790, 201952821, 201966970, 201982478, 202210947, 202374449, 202465541, 202477661, 202622084, 202716809, 202770147, 202771469, 202780691, 202830659, 202895839, 202901039, 202942020, 203049098, 203067687, 203275241, 203289347, 203329568, 203358177, 203475249, 203526068, 203623210, 203641274, 203653944, 203783539, 203838464, 204022612, 204029214, 204081147, 204295195, 204297059, 204305036, 204308730, 204323575, 204353372, 204383964, 204407357, 204637231, 204654436, 204745747, 204857540, 204877975, 204944899, 205028512, 205035393, 205110890, 205328050, 205356666, 205639292, 205677503, 205897073, 206009807, 206295700, 206342353, 206347118, 206394611, 206410922, 206441957, 206734980, 206779752, 206833330, 206896653, 206909672, 206925971, 207105204, 207124327, 207133463, 207211758, 207405568, 207498583, 207557863, 207637448, 207739129, 207766255, 207772884, 207826142, 207848915, 207895791, 208039159, 208061508, 208081080, 208215823, 208400084, 208409330, 208506440, 208520089, 208543920, 208633480, 208638800, 208649108, 208649859, 208670051, 208813654, 208823368, 208824970, 208867641, 208922571, 208949007, 209005243, 209105215, 209157284, 209365576, 209391412, 209714447, 209817987, 209830326, 209830968, 209833884, 209881355, 209899881, 209908453, 209930461, 209969323, 209971365, 209981901, 210073545, 210158716, 210159461, 210315120, 210316480, 210423048, 210427333, 210441714, 210527836, 210573839, 210582668, 210615078, 210617878, 210734578, 210771451, 210786384, 210894816, 210905360, 210911847, 210924086, 210924331, 211031561, 211067285, 211090933, 211121898, 211157832, 211159693, 211211419, 211226655, 211409420, 211412322, 211428449, 211449915, 211471146, 211478629, 211496213, 211632914, 211645955, 211749880, 211819633, 211939462, 211963440, 212032780, 212075792, 212150421, 212157536, 212336274, 212362219, 212369304, 212390182, 212472158, 212573729, 212707890, 212781236, 212942286, 212954387, 212961544, 212995896, 213017985, 213133599, 213138977, 213206900, 213467729, 213481304, 213552291, 213647286, 213667074, 213787716]"
   ]
  },
  {
   "cell_type": "code",
   "execution_count": null,
   "metadata": {},
   "outputs": [],
   "source": [
    "for i in del_list :\n",
    "    training_df = training_df.drop(i)"
   ]
  },
  {
   "cell_type": "code",
   "execution_count": 21,
   "metadata": {},
   "outputs": [],
   "source": [
    "training_df = training_df.drop(190167541)"
   ]
  },
  {
   "cell_type": "code",
   "execution_count": 22,
   "metadata": {
    "colab": {},
    "colab_type": "code",
    "id": "PrUJfvL1r4pI"
   },
   "outputs": [],
   "source": [
    "x = training_df[training_columns].values\n",
    "y = training_df[target_column].values"
   ]
  },
  {
   "cell_type": "code",
   "execution_count": 23,
   "metadata": {
    "colab": {},
    "colab_type": "code",
    "id": "Xfow1Vm-sBI9"
   },
   "outputs": [],
   "source": [
    "x, x_test, y, y_test = train_test_split(x, y, test_size=0.2, random_state=41, stratify=y)"
   ]
  },
  {
   "cell_type": "code",
   "execution_count": 24,
   "metadata": {},
   "outputs": [
    {
     "data": {
      "text/plain": [
       "1    15494\n",
       "0     1681\n",
       "Name: label, dtype: int64"
      ]
     },
     "execution_count": 24,
     "metadata": {},
     "output_type": "execute_result"
    }
   ],
   "source": [
    "training_df['label'].value_counts()"
   ]
  },
  {
   "cell_type": "markdown",
   "metadata": {},
   "source": [
    "<h2>Hyper tuning</h2>"
   ]
  },
  {
   "cell_type": "code",
   "execution_count": null,
   "metadata": {
    "colab": {},
    "colab_type": "code",
    "id": "Wd8DIfoysSq5"
   },
   "outputs": [],
   "source": [
    "param_grid = {\n",
    "    'num_leaves': [15,31, 63],\n",
    "    'learning_rate': [0.1, 0.01],\n",
    "    'class_weight' : [{0:4,1:1}, {0:3,1:1}],\n",
    "    'num_boosting_rounds': [100,500],\n",
    "    'max_bins': [10,100,1000],\n",
    "    'n_estimators': [50,100,200],\n",
    "    'reg_alpha': [0.1, 0.5],\n",
    "    'random_state': [1,8,16,64],\n",
    "    'min_data_in_leaf': [30,100,400],\n",
    "    'lambda_l2': [0, 1]\n",
    "    }"
   ]
  },
  {
   "cell_type": "code",
   "execution_count": null,
   "metadata": {
    "colab": {},
    "colab_type": "code",
    "id": "Py24_cqKsbKj"
   },
   "outputs": [],
   "source": [
    "model = lightgbm.LGBMClassifier()"
   ]
  },
  {
   "cell_type": "code",
   "execution_count": null,
   "metadata": {
    "colab": {},
    "colab_type": "code",
    "id": "RJetMHkWO9ZI"
   },
   "outputs": [],
   "source": [
    "gkf = StratifiedKFold(n_splits=5, shuffle=True, random_state=42).split(X=x, y=y)"
   ]
  },
  {
   "cell_type": "code",
   "execution_count": null,
   "metadata": {
    "colab": {},
    "colab_type": "code",
    "id": "I9TgQOLEHJyW"
   },
   "outputs": [],
   "source": [
    "gs = GridSearchCV(\n",
    "    estimator=model, param_grid=param_grid, cv=gkf, scoring='f1_macro',\n",
    "    verbose=True, n_jobs=3)"
   ]
  },
  {
   "cell_type": "code",
   "execution_count": null,
   "metadata": {
    "colab": {},
    "colab_type": "code",
    "id": "JXmD417ausIH"
   },
   "outputs": [],
   "source": [
    "gs.fit(x, y.ravel())"
   ]
  },
  {
   "cell_type": "code",
   "execution_count": null,
   "metadata": {
    "colab": {
     "base_uri": "https://localhost:8080/",
     "height": 163
    },
    "colab_type": "code",
    "id": "IfNfCEziJdMU",
    "outputId": "32141d5c-4c50-4d57-e802-42ab48957f7a"
   },
   "outputs": [],
   "source": [
    "print('Best score reached: {} with params: {} '.format(gs.best_score_, gs.best_params_))"
   ]
  },
  {
   "cell_type": "code",
   "execution_count": null,
   "metadata": {
    "colab": {
     "base_uri": "https://localhost:8080/",
     "height": 306
    },
    "colab_type": "code",
    "id": "pPzwA82Duafl",
    "outputId": "2300763a-908e-40e7-eeca-cc3336ee8b93"
   },
   "outputs": [],
   "source": [
    "predicted_y = gs.predict(x_test)\n",
    "train_pred_y = gs.predict(x)"
   ]
  },
  {
   "cell_type": "code",
   "execution_count": null,
   "metadata": {
    "colab": {
     "base_uri": "https://localhost:8080/",
     "height": 256
    },
    "colab_type": "code",
    "id": "n5AEbgdGuyCw",
    "outputId": "54de0eec-0551-4f53-91fd-0ac884dbfa27"
   },
   "outputs": [],
   "source": [
    "print(); print(metrics.classification_report(y,train_pred_y))\n",
    "print(); print(metrics.confusion_matrix(y, train_pred_y))\n",
    "\n",
    "print(); print(metrics.classification_report(y_test, predicted_y))\n",
    "print(); print(metrics.confusion_matrix(y_test, predicted_y))"
   ]
  },
  {
   "cell_type": "markdown",
   "metadata": {},
   "source": [
    "<h2>Choosing the best model</h2>"
   ]
  },
  {
   "cell_type": "code",
   "execution_count": 25,
   "metadata": {},
   "outputs": [],
   "source": [
    "import math"
   ]
  },
  {
   "cell_type": "code",
   "execution_count": 26,
   "metadata": {},
   "outputs": [],
   "source": [
    "scale_pos_weight = math.sqrt(1681/15494)"
   ]
  },
  {
   "cell_type": "code",
   "execution_count": 27,
   "metadata": {},
   "outputs": [
    {
     "data": {
      "text/plain": [
       "0.32938368270125923"
      ]
     },
     "execution_count": 27,
     "metadata": {},
     "output_type": "execute_result"
    }
   ],
   "source": [
    "scale_pos_weight"
   ]
  },
  {
   "cell_type": "code",
   "execution_count": 28,
   "metadata": {},
   "outputs": [],
   "source": [
    "from sklearn.metrics import f1_score\n",
    "def evaluate_macroF1_lgb(y_true, y_pred):  \n",
    "    y_hat = np.where(y_pred < 0.5, 0, 1) \n",
    "    f1 = f1_score(y_true, y_hat, average='macro')\n",
    "    return ('macroF1', f1, True) "
   ]
  },
  {
   "cell_type": "code",
   "execution_count": 29,
   "metadata": {},
   "outputs": [],
   "source": [
    "def focal_loss_lgb_eval_error(y_true, y_pred, alpha=.25, gamma=2.):\n",
    "    a,g = alpha, gamma\n",
    "    p = 1/(1+np.exp(-y_pred))\n",
    "    loss = -( a*y_true + (1-a)*(1-y_true) ) * (( 1 - ( y_true*p + (1-y_true)*(1-p)) )**g) * ( y_true*np.log(p)+(1-y_true)*np.log(1-p) )\n",
    "    return 'focal_loss', np.mean(loss), False"
   ]
  },
  {
   "cell_type": "code",
   "execution_count": 30,
   "metadata": {},
   "outputs": [],
   "source": [
    "gkf = StratifiedKFold(n_splits=5, shuffle=True, random_state=42)"
   ]
  },
  {
   "cell_type": "code",
   "execution_count": 31,
   "metadata": {},
   "outputs": [],
   "source": [
    "model = lightgbm.LGBMClassifier(boosting_type='gbdt',scale_pos_weight = scale_pos_weight, learning_rate=0.01, max_bins=10, min_data_in_leaf=60, n_estimators=100, num_iterations=1000, num_leaves=63, random_state=1, reg_alpha=0.1, metric=[\"custom\",'binary_logloss'],early_stopping_rounds=250)"
   ]
  },
  {
   "cell_type": "code",
   "execution_count": 32,
   "metadata": {},
   "outputs": [],
   "source": [
    "model = lightgbm.LGBMClassifier(class_weight={0:3,1:1}, learning_rate=0.1)"
   ]
  },
  {
   "cell_type": "code",
   "execution_count": 33,
   "metadata": {},
   "outputs": [
    {
     "name": "stderr",
     "output_type": "stream",
     "text": [
      "/usr/local/lib/python3.6/dist-packages/sklearn/preprocessing/_label.py:235: DataConversionWarning: A column-vector y was passed when a 1d array was expected. Please change the shape of y to (n_samples, ), for example using ravel().\n",
      "  y = column_or_1d(y, warn=True)\n",
      "/usr/local/lib/python3.6/dist-packages/sklearn/preprocessing/_label.py:268: DataConversionWarning: A column-vector y was passed when a 1d array was expected. Please change the shape of y to (n_samples, ), for example using ravel().\n",
      "  y = column_or_1d(y, warn=True)\n"
     ]
    },
    {
     "name": "stdout",
     "output_type": "stream",
     "text": [
      "[1]\tvalid_0's binary_logloss: 0.360745\tvalid_0's macroF1: 0.474268\n",
      "[2]\tvalid_0's binary_logloss: 0.335604\tvalid_0's macroF1: 0.474268\n",
      "[3]\tvalid_0's binary_logloss: 0.314253\tvalid_0's macroF1: 0.474268\n",
      "[4]\tvalid_0's binary_logloss: 0.296994\tvalid_0's macroF1: 0.701927\n",
      "[5]\tvalid_0's binary_logloss: 0.28144\tvalid_0's macroF1: 0.77926\n",
      "[6]\tvalid_0's binary_logloss: 0.269333\tvalid_0's macroF1: 0.806606\n",
      "[7]\tvalid_0's binary_logloss: 0.25789\tvalid_0's macroF1: 0.815125\n",
      "[8]\tvalid_0's binary_logloss: 0.24731\tvalid_0's macroF1: 0.823174\n",
      "[9]\tvalid_0's binary_logloss: 0.238513\tvalid_0's macroF1: 0.825657\n",
      "[10]\tvalid_0's binary_logloss: 0.231176\tvalid_0's macroF1: 0.834603\n",
      "[11]\tvalid_0's binary_logloss: 0.22463\tvalid_0's macroF1: 0.828972\n",
      "[12]\tvalid_0's binary_logloss: 0.218119\tvalid_0's macroF1: 0.838678\n",
      "[13]\tvalid_0's binary_logloss: 0.212492\tvalid_0's macroF1: 0.838082\n",
      "[14]\tvalid_0's binary_logloss: 0.207409\tvalid_0's macroF1: 0.838678\n",
      "[15]\tvalid_0's binary_logloss: 0.202752\tvalid_0's macroF1: 0.83927\n",
      "[16]\tvalid_0's binary_logloss: 0.198683\tvalid_0's macroF1: 0.840678\n",
      "[17]\tvalid_0's binary_logloss: 0.195119\tvalid_0's macroF1: 0.842081\n",
      "[18]\tvalid_0's binary_logloss: 0.192281\tvalid_0's macroF1: 0.844305\n",
      "[19]\tvalid_0's binary_logloss: 0.189317\tvalid_0's macroF1: 0.845135\n",
      "[20]\tvalid_0's binary_logloss: 0.187198\tvalid_0's macroF1: 0.842081\n",
      "[21]\tvalid_0's binary_logloss: 0.184417\tvalid_0's macroF1: 0.843735\n",
      "[22]\tvalid_0's binary_logloss: 0.181983\tvalid_0's macroF1: 0.843479\n",
      "[23]\tvalid_0's binary_logloss: 0.179616\tvalid_0's macroF1: 0.844871\n",
      "[24]\tvalid_0's binary_logloss: 0.177696\tvalid_0's macroF1: 0.844871\n",
      "[25]\tvalid_0's binary_logloss: 0.175771\tvalid_0's macroF1: 0.84847\n",
      "[26]\tvalid_0's binary_logloss: 0.173989\tvalid_0's macroF1: 0.84764\n",
      "[27]\tvalid_0's binary_logloss: 0.172455\tvalid_0's macroF1: 0.849848\n",
      "[28]\tvalid_0's binary_logloss: 0.171336\tvalid_0's macroF1: 0.846258\n",
      "[29]\tvalid_0's binary_logloss: 0.169967\tvalid_0's macroF1: 0.847364\n",
      "[30]\tvalid_0's binary_logloss: 0.168915\tvalid_0's macroF1: 0.848733\n",
      "[31]\tvalid_0's binary_logloss: 0.167545\tvalid_0's macroF1: 0.845989\n",
      "[32]\tvalid_0's binary_logloss: 0.166581\tvalid_0's macroF1: 0.84956\n",
      "[33]\tvalid_0's binary_logloss: 0.165447\tvalid_0's macroF1: 0.848189\n",
      "[34]\tvalid_0's binary_logloss: 0.164167\tvalid_0's macroF1: 0.849848\n",
      "[35]\tvalid_0's binary_logloss: 0.163387\tvalid_0's macroF1: 0.849017\n",
      "[36]\tvalid_0's binary_logloss: 0.162594\tvalid_0's macroF1: 0.847364\n",
      "[37]\tvalid_0's binary_logloss: 0.161819\tvalid_0's macroF1: 0.846541\n",
      "[38]\tvalid_0's binary_logloss: 0.161144\tvalid_0's macroF1: 0.848189\n",
      "[39]\tvalid_0's binary_logloss: 0.160916\tvalid_0's macroF1: 0.851221\n",
      "[40]\tvalid_0's binary_logloss: 0.160407\tvalid_0's macroF1: 0.849848\n",
      "[41]\tvalid_0's binary_logloss: 0.159709\tvalid_0's macroF1: 0.848733\n",
      "[42]\tvalid_0's binary_logloss: 0.159538\tvalid_0's macroF1: 0.850925\n",
      "[43]\tvalid_0's binary_logloss: 0.159384\tvalid_0's macroF1: 0.846541\n",
      "[44]\tvalid_0's binary_logloss: 0.158753\tvalid_0's macroF1: 0.846813\n",
      "[45]\tvalid_0's binary_logloss: 0.158578\tvalid_0's macroF1: 0.850682\n",
      "[46]\tvalid_0's binary_logloss: 0.15818\tvalid_0's macroF1: 0.849017\n",
      "[47]\tvalid_0's binary_logloss: 0.157992\tvalid_0's macroF1: 0.849848\n",
      "[48]\tvalid_0's binary_logloss: 0.157934\tvalid_0's macroF1: 0.853425\n",
      "[49]\tvalid_0's binary_logloss: 0.156945\tvalid_0's macroF1: 0.850682\n",
      "[50]\tvalid_0's binary_logloss: 0.156561\tvalid_0's macroF1: 0.853425\n",
      "[51]\tvalid_0's binary_logloss: 0.156466\tvalid_0's macroF1: 0.852056\n",
      "[52]\tvalid_0's binary_logloss: 0.156452\tvalid_0's macroF1: 0.850682\n",
      "[53]\tvalid_0's binary_logloss: 0.156233\tvalid_0's macroF1: 0.852056\n",
      "[54]\tvalid_0's binary_logloss: 0.156162\tvalid_0's macroF1: 0.852895\n",
      "[55]\tvalid_0's binary_logloss: 0.155846\tvalid_0's macroF1: 0.850139\n",
      "[56]\tvalid_0's binary_logloss: 0.155931\tvalid_0's macroF1: 0.850139\n",
      "[57]\tvalid_0's binary_logloss: 0.155894\tvalid_0's macroF1: 0.850682\n",
      "[58]\tvalid_0's binary_logloss: 0.155436\tvalid_0's macroF1: 0.850682\n",
      "[59]\tvalid_0's binary_logloss: 0.155151\tvalid_0's macroF1: 0.849017\n",
      "[60]\tvalid_0's binary_logloss: 0.154902\tvalid_0's macroF1: 0.849848\n",
      "[61]\tvalid_0's binary_logloss: 0.154914\tvalid_0's macroF1: 0.849848\n",
      "[62]\tvalid_0's binary_logloss: 0.154775\tvalid_0's macroF1: 0.849848\n",
      "[63]\tvalid_0's binary_logloss: 0.154538\tvalid_0's macroF1: 0.847087\n",
      "[64]\tvalid_0's binary_logloss: 0.154295\tvalid_0's macroF1: 0.847087\n",
      "[65]\tvalid_0's binary_logloss: 0.154326\tvalid_0's macroF1: 0.846258\n",
      "[66]\tvalid_0's binary_logloss: 0.154303\tvalid_0's macroF1: 0.847087\n",
      "[67]\tvalid_0's binary_logloss: 0.153845\tvalid_0's macroF1: 0.848754\n",
      "[68]\tvalid_0's binary_logloss: 0.15373\tvalid_0's macroF1: 0.848754\n",
      "[69]\tvalid_0's binary_logloss: 0.153739\tvalid_0's macroF1: 0.848754\n",
      "[70]\tvalid_0's binary_logloss: 0.153573\tvalid_0's macroF1: 0.848754\n",
      "[71]\tvalid_0's binary_logloss: 0.153319\tvalid_0's macroF1: 0.848754\n",
      "[72]\tvalid_0's binary_logloss: 0.153341\tvalid_0's macroF1: 0.847919\n",
      "[73]\tvalid_0's binary_logloss: 0.153097\tvalid_0's macroF1: 0.847087\n",
      "[74]\tvalid_0's binary_logloss: 0.153046\tvalid_0's macroF1: 0.845699\n",
      "[75]\tvalid_0's binary_logloss: 0.153189\tvalid_0's macroF1: 0.84847\n",
      "[76]\tvalid_0's binary_logloss: 0.152779\tvalid_0's macroF1: 0.851221\n",
      "[77]\tvalid_0's binary_logloss: 0.152643\tvalid_0's macroF1: 0.852895\n",
      "[78]\tvalid_0's binary_logloss: 0.15237\tvalid_0's macroF1: 0.852359\n",
      "[79]\tvalid_0's binary_logloss: 0.152178\tvalid_0's macroF1: 0.853735\n",
      "[80]\tvalid_0's binary_logloss: 0.152098\tvalid_0's macroF1: 0.852359\n",
      "[81]\tvalid_0's binary_logloss: 0.152105\tvalid_0's macroF1: 0.850139\n",
      "[82]\tvalid_0's binary_logloss: 0.151928\tvalid_0's macroF1: 0.84847\n",
      "[83]\tvalid_0's binary_logloss: 0.152005\tvalid_0's macroF1: 0.84847\n",
      "[84]\tvalid_0's binary_logloss: 0.151947\tvalid_0's macroF1: 0.84847\n",
      "[85]\tvalid_0's binary_logloss: 0.151911\tvalid_0's macroF1: 0.846258\n",
      "[86]\tvalid_0's binary_logloss: 0.151541\tvalid_0's macroF1: 0.846258\n",
      "[87]\tvalid_0's binary_logloss: 0.151261\tvalid_0's macroF1: 0.847087\n",
      "[88]\tvalid_0's binary_logloss: 0.151186\tvalid_0's macroF1: 0.847087\n",
      "[89]\tvalid_0's binary_logloss: 0.151082\tvalid_0's macroF1: 0.845432\n",
      "[90]\tvalid_0's binary_logloss: 0.150675\tvalid_0's macroF1: 0.84847\n",
      "[91]\tvalid_0's binary_logloss: 0.15041\tvalid_0's macroF1: 0.84847\n",
      "[92]\tvalid_0's binary_logloss: 0.150421\tvalid_0's macroF1: 0.844871\n",
      "[93]\tvalid_0's binary_logloss: 0.150606\tvalid_0's macroF1: 0.843224\n",
      "[94]\tvalid_0's binary_logloss: 0.150657\tvalid_0's macroF1: 0.84764\n",
      "[95]\tvalid_0's binary_logloss: 0.150794\tvalid_0's macroF1: 0.84847\n",
      "[96]\tvalid_0's binary_logloss: 0.150941\tvalid_0's macroF1: 0.84764\n",
      "[97]\tvalid_0's binary_logloss: 0.151052\tvalid_0's macroF1: 0.849017\n",
      "[98]\tvalid_0's binary_logloss: 0.15117\tvalid_0's macroF1: 0.849017\n",
      "[99]\tvalid_0's binary_logloss: 0.151183\tvalid_0's macroF1: 0.849848\n",
      "[100]\tvalid_0's binary_logloss: 0.151292\tvalid_0's macroF1: 0.849848\n",
      "[1]\tvalid_0's binary_logloss: 0.361121\tvalid_0's macroF1: 0.474268\n",
      "[2]\tvalid_0's binary_logloss: 0.336877\tvalid_0's macroF1: 0.474268\n",
      "[3]\tvalid_0's binary_logloss: 0.315678\tvalid_0's macroF1: 0.474268\n"
     ]
    },
    {
     "name": "stderr",
     "output_type": "stream",
     "text": [
      "/usr/local/lib/python3.6/dist-packages/sklearn/preprocessing/_label.py:235: DataConversionWarning: A column-vector y was passed when a 1d array was expected. Please change the shape of y to (n_samples, ), for example using ravel().\n",
      "  y = column_or_1d(y, warn=True)\n",
      "/usr/local/lib/python3.6/dist-packages/sklearn/preprocessing/_label.py:268: DataConversionWarning: A column-vector y was passed when a 1d array was expected. Please change the shape of y to (n_samples, ), for example using ravel().\n",
      "  y = column_or_1d(y, warn=True)\n"
     ]
    },
    {
     "name": "stdout",
     "output_type": "stream",
     "text": [
      "[4]\tvalid_0's binary_logloss: 0.298021\tvalid_0's macroF1: 0.645785\n",
      "[5]\tvalid_0's binary_logloss: 0.28217\tvalid_0's macroF1: 0.779572\n",
      "[6]\tvalid_0's binary_logloss: 0.269259\tvalid_0's macroF1: 0.810983\n",
      "[7]\tvalid_0's binary_logloss: 0.257884\tvalid_0's macroF1: 0.823258\n",
      "[8]\tvalid_0's binary_logloss: 0.248126\tvalid_0's macroF1: 0.831628\n",
      "[9]\tvalid_0's binary_logloss: 0.238867\tvalid_0's macroF1: 0.835649\n",
      "[10]\tvalid_0's binary_logloss: 0.231303\tvalid_0's macroF1: 0.83417\n",
      "[11]\tvalid_0's binary_logloss: 0.224715\tvalid_0's macroF1: 0.845042\n",
      "[12]\tvalid_0's binary_logloss: 0.218682\tvalid_0's macroF1: 0.851323\n",
      "[13]\tvalid_0's binary_logloss: 0.21306\tvalid_0's macroF1: 0.853512\n",
      "[14]\tvalid_0's binary_logloss: 0.207729\tvalid_0's macroF1: 0.852895\n",
      "[15]\tvalid_0's binary_logloss: 0.203315\tvalid_0's macroF1: 0.851221\n",
      "[16]\tvalid_0's binary_logloss: 0.199392\tvalid_0's macroF1: 0.848451\n",
      "[17]\tvalid_0's binary_logloss: 0.19603\tvalid_0's macroF1: 0.850632\n",
      "[18]\tvalid_0's binary_logloss: 0.192778\tvalid_0's macroF1: 0.851985\n",
      "[19]\tvalid_0's binary_logloss: 0.1901\tvalid_0's macroF1: 0.850867\n",
      "[20]\tvalid_0's binary_logloss: 0.187841\tvalid_0's macroF1: 0.85139\n",
      "[21]\tvalid_0's binary_logloss: 0.185423\tvalid_0's macroF1: 0.848425\n",
      "[22]\tvalid_0's binary_logloss: 0.183109\tvalid_0's macroF1: 0.850285\n",
      "[23]\tvalid_0's binary_logloss: 0.18139\tvalid_0's macroF1: 0.855698\n",
      "[24]\tvalid_0's binary_logloss: 0.179933\tvalid_0's macroF1: 0.857851\n",
      "[25]\tvalid_0's binary_logloss: 0.178874\tvalid_0's macroF1: 0.855698\n",
      "[26]\tvalid_0's binary_logloss: 0.177162\tvalid_0's macroF1: 0.857025\n",
      "[27]\tvalid_0's binary_logloss: 0.175627\tvalid_0's macroF1: 0.857523\n",
      "[28]\tvalid_0's binary_logloss: 0.17506\tvalid_0's macroF1: 0.855882\n",
      "[29]\tvalid_0's binary_logloss: 0.174077\tvalid_0's macroF1: 0.857025\n",
      "[30]\tvalid_0's binary_logloss: 0.173326\tvalid_0's macroF1: 0.856201\n",
      "[31]\tvalid_0's binary_logloss: 0.172442\tvalid_0's macroF1: 0.854562\n",
      "[32]\tvalid_0's binary_logloss: 0.170847\tvalid_0's macroF1: 0.852934\n",
      "[33]\tvalid_0's binary_logloss: 0.170045\tvalid_0's macroF1: 0.852934\n",
      "[34]\tvalid_0's binary_logloss: 0.169044\tvalid_0's macroF1: 0.854252\n",
      "[35]\tvalid_0's binary_logloss: 0.168372\tvalid_0's macroF1: 0.855066\n",
      "[36]\tvalid_0's binary_logloss: 0.167556\tvalid_0's macroF1: 0.855066\n",
      "[37]\tvalid_0's binary_logloss: 0.166843\tvalid_0's macroF1: 0.854252\n",
      "[38]\tvalid_0's binary_logloss: 0.166551\tvalid_0's macroF1: 0.858994\n",
      "[39]\tvalid_0's binary_logloss: 0.165911\tvalid_0's macroF1: 0.858994\n",
      "[40]\tvalid_0's binary_logloss: 0.165382\tvalid_0's macroF1: 0.858177\n",
      "[41]\tvalid_0's binary_logloss: 0.16521\tvalid_0's macroF1: 0.858177\n",
      "[42]\tvalid_0's binary_logloss: 0.164343\tvalid_0's macroF1: 0.856061\n",
      "[43]\tvalid_0's binary_logloss: 0.163639\tvalid_0's macroF1: 0.856061\n",
      "[44]\tvalid_0's binary_logloss: 0.163396\tvalid_0's macroF1: 0.856061\n",
      "[45]\tvalid_0's binary_logloss: 0.162983\tvalid_0's macroF1: 0.854753\n",
      "[46]\tvalid_0's binary_logloss: 0.162588\tvalid_0's macroF1: 0.853441\n",
      "[47]\tvalid_0's binary_logloss: 0.162606\tvalid_0's macroF1: 0.853441\n",
      "[48]\tvalid_0's binary_logloss: 0.162044\tvalid_0's macroF1: 0.858177\n",
      "[49]\tvalid_0's binary_logloss: 0.162024\tvalid_0's macroF1: 0.856061\n",
      "[50]\tvalid_0's binary_logloss: 0.161905\tvalid_0's macroF1: 0.85525\n",
      "[51]\tvalid_0's binary_logloss: 0.161842\tvalid_0's macroF1: 0.856874\n",
      "[52]\tvalid_0's binary_logloss: 0.161597\tvalid_0's macroF1: 0.856061\n",
      "[53]\tvalid_0's binary_logloss: 0.16125\tvalid_0's macroF1: 0.85525\n",
      "[54]\tvalid_0's binary_logloss: 0.160588\tvalid_0's macroF1: 0.854443\n",
      "[55]\tvalid_0's binary_logloss: 0.16043\tvalid_0's macroF1: 0.853944\n",
      "[56]\tvalid_0's binary_logloss: 0.160213\tvalid_0's macroF1: 0.852124\n",
      "[57]\tvalid_0's binary_logloss: 0.159564\tvalid_0's macroF1: 0.852124\n",
      "[58]\tvalid_0's binary_logloss: 0.159497\tvalid_0's macroF1: 0.854252\n",
      "[59]\tvalid_0's binary_logloss: 0.159276\tvalid_0's macroF1: 0.852934\n",
      "[60]\tvalid_0's binary_logloss: 0.15921\tvalid_0's macroF1: 0.856874\n",
      "[61]\tvalid_0's binary_logloss: 0.158889\tvalid_0's macroF1: 0.858177\n",
      "[62]\tvalid_0's binary_logloss: 0.158629\tvalid_0's macroF1: 0.858177\n",
      "[63]\tvalid_0's binary_logloss: 0.158711\tvalid_0's macroF1: 0.858177\n",
      "[64]\tvalid_0's binary_logloss: 0.158688\tvalid_0's macroF1: 0.858994\n",
      "[65]\tvalid_0's binary_logloss: 0.158616\tvalid_0's macroF1: 0.85638\n",
      "[66]\tvalid_0's binary_logloss: 0.158472\tvalid_0's macroF1: 0.857689\n",
      "[67]\tvalid_0's binary_logloss: 0.158352\tvalid_0's macroF1: 0.857197\n",
      "[68]\tvalid_0's binary_logloss: 0.158469\tvalid_0's macroF1: 0.858508\n",
      "[69]\tvalid_0's binary_logloss: 0.15823\tvalid_0's macroF1: 0.857197\n",
      "[70]\tvalid_0's binary_logloss: 0.158111\tvalid_0's macroF1: 0.857197\n",
      "[71]\tvalid_0's binary_logloss: 0.158245\tvalid_0's macroF1: 0.85638\n",
      "[72]\tvalid_0's binary_logloss: 0.158338\tvalid_0's macroF1: 0.857689\n",
      "[73]\tvalid_0's binary_logloss: 0.157821\tvalid_0's macroF1: 0.858508\n",
      "[74]\tvalid_0's binary_logloss: 0.157936\tvalid_0's macroF1: 0.857523\n",
      "[75]\tvalid_0's binary_logloss: 0.157819\tvalid_0's macroF1: 0.854875\n",
      "[76]\tvalid_0's binary_logloss: 0.157523\tvalid_0's macroF1: 0.854055\n",
      "[77]\tvalid_0's binary_logloss: 0.157468\tvalid_0's macroF1: 0.854562\n",
      "[78]\tvalid_0's binary_logloss: 0.157644\tvalid_0's macroF1: 0.853747\n",
      "[79]\tvalid_0's binary_logloss: 0.157407\tvalid_0's macroF1: 0.852424\n",
      "[80]\tvalid_0's binary_logloss: 0.157053\tvalid_0's macroF1: 0.852424\n",
      "[81]\tvalid_0's binary_logloss: 0.156713\tvalid_0's macroF1: 0.854252\n",
      "[82]\tvalid_0's binary_logloss: 0.156447\tvalid_0's macroF1: 0.855066\n",
      "[83]\tvalid_0's binary_logloss: 0.156318\tvalid_0's macroF1: 0.856701\n",
      "[84]\tvalid_0's binary_logloss: 0.156123\tvalid_0's macroF1: 0.854055\n",
      "[85]\tvalid_0's binary_logloss: 0.156267\tvalid_0's macroF1: 0.853544\n",
      "[86]\tvalid_0's binary_logloss: 0.155835\tvalid_0's macroF1: 0.854875\n",
      "[87]\tvalid_0's binary_logloss: 0.155824\tvalid_0's macroF1: 0.857025\n",
      "[88]\tvalid_0's binary_logloss: 0.155741\tvalid_0's macroF1: 0.856201\n",
      "[89]\tvalid_0's binary_logloss: 0.155752\tvalid_0's macroF1: 0.856201\n",
      "[90]\tvalid_0's binary_logloss: 0.155552\tvalid_0's macroF1: 0.857523\n",
      "[91]\tvalid_0's binary_logloss: 0.155624\tvalid_0's macroF1: 0.857523\n",
      "[92]\tvalid_0's binary_logloss: 0.155797\tvalid_0's macroF1: 0.857523\n",
      "[93]\tvalid_0's binary_logloss: 0.156005\tvalid_0's macroF1: 0.856201\n",
      "[94]\tvalid_0's binary_logloss: 0.156075\tvalid_0's macroF1: 0.856201\n",
      "[95]\tvalid_0's binary_logloss: 0.156281\tvalid_0's macroF1: 0.856201\n",
      "[96]\tvalid_0's binary_logloss: 0.156194\tvalid_0's macroF1: 0.857025\n",
      "[97]\tvalid_0's binary_logloss: 0.156371\tvalid_0's macroF1: 0.857851\n",
      "[98]\tvalid_0's binary_logloss: 0.156496\tvalid_0's macroF1: 0.857851\n",
      "[99]\tvalid_0's binary_logloss: 0.156709\tvalid_0's macroF1: 0.854875\n",
      "[100]\tvalid_0's binary_logloss: 0.156825\tvalid_0's macroF1: 0.853544\n",
      "[1]\tvalid_0's binary_logloss: 0.36164\tvalid_0's macroF1: 0.474268\n",
      "[2]\tvalid_0's binary_logloss: 0.33643\tvalid_0's macroF1: 0.474268\n",
      "[3]\tvalid_0's binary_logloss: 0.315515\tvalid_0's macroF1: 0.474268\n",
      "[4]\tvalid_0's binary_logloss: 0.298164\tvalid_0's macroF1: 0.691565\n",
      "[5]\tvalid_0's binary_logloss: 0.283073\tvalid_0's macroF1: 0.790846\n",
      "[6]\tvalid_0's binary_logloss: 0.270797\tvalid_0's macroF1: 0.806606\n",
      "[7]\tvalid_0's binary_logloss: 0.259841\tvalid_0's macroF1: 0.812437\n",
      "[8]\tvalid_0's binary_logloss: 0.249629\tvalid_0's macroF1: 0.819927\n",
      "[9]\tvalid_0's binary_logloss: 0.240412\tvalid_0's macroF1: 0.824291\n",
      "[10]\tvalid_0's binary_logloss: 0.232315\tvalid_0's macroF1: 0.823856\n",
      "[11]\tvalid_0's binary_logloss: 0.224577\tvalid_0's macroF1: 0.827981\n",
      "[12]\tvalid_0's binary_logloss: 0.218393\tvalid_0's macroF1: 0.836263\n",
      "[13]\tvalid_0's binary_logloss: 0.213067\tvalid_0's macroF1: 0.839738\n",
      "[14]\tvalid_0's binary_logloss: 0.207577\tvalid_0's macroF1: 0.838908\n",
      "[15]\tvalid_0's binary_logloss: 0.203925\tvalid_0's macroF1: 0.84233\n",
      "[16]\tvalid_0's binary_logloss: 0.200015\tvalid_0's macroF1: 0.84233\n",
      "[17]\tvalid_0's binary_logloss: 0.197077\tvalid_0's macroF1: 0.844566\n",
      "[18]\tvalid_0's binary_logloss: 0.193957\tvalid_0's macroF1: 0.847363\n",
      "[19]\tvalid_0's binary_logloss: 0.190175\tvalid_0's macroF1: 0.847087\n",
      "[20]\tvalid_0's binary_logloss: 0.187679\tvalid_0's macroF1: 0.846541\n",
      "[21]\tvalid_0's binary_logloss: 0.185027\tvalid_0's macroF1: 0.848733\n"
     ]
    },
    {
     "name": "stderr",
     "output_type": "stream",
     "text": [
      "/usr/local/lib/python3.6/dist-packages/sklearn/preprocessing/_label.py:235: DataConversionWarning: A column-vector y was passed when a 1d array was expected. Please change the shape of y to (n_samples, ), for example using ravel().\n",
      "  y = column_or_1d(y, warn=True)\n",
      "/usr/local/lib/python3.6/dist-packages/sklearn/preprocessing/_label.py:268: DataConversionWarning: A column-vector y was passed when a 1d array was expected. Please change the shape of y to (n_samples, ), for example using ravel().\n",
      "  y = column_or_1d(y, warn=True)\n"
     ]
    },
    {
     "name": "stdout",
     "output_type": "stream",
     "text": [
      "[22]\tvalid_0's binary_logloss: 0.182535\tvalid_0's macroF1: 0.850098\n",
      "[23]\tvalid_0's binary_logloss: 0.180672\tvalid_0's macroF1: 0.851458\n",
      "[24]\tvalid_0's binary_logloss: 0.178764\tvalid_0's macroF1: 0.852812\n",
      "[25]\tvalid_0's binary_logloss: 0.176382\tvalid_0's macroF1: 0.854162\n",
      "[26]\tvalid_0's binary_logloss: 0.175132\tvalid_0's macroF1: 0.853334\n",
      "[27]\tvalid_0's binary_logloss: 0.173757\tvalid_0's macroF1: 0.850867\n",
      "[28]\tvalid_0's binary_logloss: 0.172269\tvalid_0's macroF1: 0.852509\n",
      "[29]\tvalid_0's binary_logloss: 0.171093\tvalid_0's macroF1: 0.850867\n",
      "[30]\tvalid_0's binary_logloss: 0.169823\tvalid_0's macroF1: 0.85005\n",
      "[31]\tvalid_0's binary_logloss: 0.168392\tvalid_0's macroF1: 0.851161\n",
      "[32]\tvalid_0's binary_logloss: 0.166959\tvalid_0's macroF1: 0.85034\n",
      "[33]\tvalid_0's binary_logloss: 0.166022\tvalid_0's macroF1: 0.847893\n",
      "[34]\tvalid_0's binary_logloss: 0.165314\tvalid_0's macroF1: 0.848706\n",
      "[35]\tvalid_0's binary_logloss: 0.164727\tvalid_0's macroF1: 0.848953\n",
      "[36]\tvalid_0's binary_logloss: 0.164581\tvalid_0's macroF1: 0.84547\n",
      "[37]\tvalid_0's binary_logloss: 0.163286\tvalid_0's macroF1: 0.848425\n",
      "[38]\tvalid_0's binary_logloss: 0.163222\tvalid_0's macroF1: 0.848425\n",
      "[39]\tvalid_0's binary_logloss: 0.162769\tvalid_0's macroF1: 0.849236\n",
      "[40]\tvalid_0's binary_logloss: 0.162401\tvalid_0's macroF1: 0.850575\n",
      "[41]\tvalid_0's binary_logloss: 0.161769\tvalid_0's macroF1: 0.852725\n",
      "[42]\tvalid_0's binary_logloss: 0.161381\tvalid_0's macroF1: 0.849763\n",
      "[43]\tvalid_0's binary_logloss: 0.161065\tvalid_0's macroF1: 0.851909\n",
      "[44]\tvalid_0's binary_logloss: 0.1605\tvalid_0's macroF1: 0.853238\n",
      "[45]\tvalid_0's binary_logloss: 0.160088\tvalid_0's macroF1: 0.854875\n",
      "[46]\tvalid_0's binary_logloss: 0.159942\tvalid_0's macroF1: 0.853238\n",
      "[47]\tvalid_0's binary_logloss: 0.159416\tvalid_0's macroF1: 0.856701\n",
      "[48]\tvalid_0's binary_logloss: 0.158917\tvalid_0's macroF1: 0.857025\n",
      "[49]\tvalid_0's binary_logloss: 0.158574\tvalid_0's macroF1: 0.855698\n",
      "[50]\tvalid_0's binary_logloss: 0.158107\tvalid_0's macroF1: 0.857025\n",
      "[51]\tvalid_0's binary_logloss: 0.157573\tvalid_0's macroF1: 0.856523\n",
      "[52]\tvalid_0's binary_logloss: 0.157027\tvalid_0's macroF1: 0.855698\n",
      "[53]\tvalid_0's binary_logloss: 0.156958\tvalid_0's macroF1: 0.855698\n",
      "[54]\tvalid_0's binary_logloss: 0.156305\tvalid_0's macroF1: 0.854875\n",
      "[55]\tvalid_0's binary_logloss: 0.155973\tvalid_0's macroF1: 0.854875\n",
      "[56]\tvalid_0's binary_logloss: 0.155315\tvalid_0's macroF1: 0.853028\n",
      "[57]\tvalid_0's binary_logloss: 0.155063\tvalid_0's macroF1: 0.856847\n",
      "[58]\tvalid_0's binary_logloss: 0.15474\tvalid_0's macroF1: 0.856339\n",
      "[59]\tvalid_0's binary_logloss: 0.154735\tvalid_0's macroF1: 0.856339\n",
      "[60]\tvalid_0's binary_logloss: 0.15484\tvalid_0's macroF1: 0.855507\n",
      "[61]\tvalid_0's binary_logloss: 0.154816\tvalid_0's macroF1: 0.853028\n",
      "[62]\tvalid_0's binary_logloss: 0.154648\tvalid_0's macroF1: 0.853852\n",
      "[63]\tvalid_0's binary_logloss: 0.154652\tvalid_0's macroF1: 0.853852\n",
      "[64]\tvalid_0's binary_logloss: 0.154447\tvalid_0's macroF1: 0.854162\n",
      "[65]\tvalid_0's binary_logloss: 0.154395\tvalid_0's macroF1: 0.852509\n",
      "[66]\tvalid_0's binary_logloss: 0.154521\tvalid_0's macroF1: 0.852509\n",
      "[67]\tvalid_0's binary_logloss: 0.154244\tvalid_0's macroF1: 0.850632\n",
      "[68]\tvalid_0's binary_logloss: 0.154078\tvalid_0's macroF1: 0.851458\n",
      "[69]\tvalid_0's binary_logloss: 0.154019\tvalid_0's macroF1: 0.851458\n",
      "[70]\tvalid_0's binary_logloss: 0.15385\tvalid_0's macroF1: 0.851458\n",
      "[71]\tvalid_0's binary_logloss: 0.153638\tvalid_0's macroF1: 0.850632\n",
      "[72]\tvalid_0's binary_logloss: 0.15357\tvalid_0's macroF1: 0.852812\n",
      "[73]\tvalid_0's binary_logloss: 0.153564\tvalid_0's macroF1: 0.850632\n",
      "[74]\tvalid_0's binary_logloss: 0.153377\tvalid_0's macroF1: 0.850632\n",
      "[75]\tvalid_0's binary_logloss: 0.15332\tvalid_0's macroF1: 0.851458\n",
      "[76]\tvalid_0's binary_logloss: 0.153245\tvalid_0's macroF1: 0.851985\n",
      "[77]\tvalid_0's binary_logloss: 0.153212\tvalid_0's macroF1: 0.851985\n",
      "[78]\tvalid_0's binary_logloss: 0.153229\tvalid_0's macroF1: 0.852812\n",
      "[79]\tvalid_0's binary_logloss: 0.152994\tvalid_0's macroF1: 0.851985\n",
      "[80]\tvalid_0's binary_logloss: 0.152743\tvalid_0's macroF1: 0.850632\n",
      "[81]\tvalid_0's binary_logloss: 0.152654\tvalid_0's macroF1: 0.849809\n",
      "[82]\tvalid_0's binary_logloss: 0.152089\tvalid_0's macroF1: 0.850098\n",
      "[83]\tvalid_0's binary_logloss: 0.152114\tvalid_0's macroF1: 0.850098\n",
      "[84]\tvalid_0's binary_logloss: 0.152023\tvalid_0's macroF1: 0.84956\n",
      "[85]\tvalid_0's binary_logloss: 0.152044\tvalid_0's macroF1: 0.84956\n",
      "[86]\tvalid_0's binary_logloss: 0.151777\tvalid_0's macroF1: 0.847364\n",
      "[87]\tvalid_0's binary_logloss: 0.151882\tvalid_0's macroF1: 0.847364\n",
      "[88]\tvalid_0's binary_logloss: 0.151769\tvalid_0's macroF1: 0.848733\n",
      "[89]\tvalid_0's binary_logloss: 0.151961\tvalid_0's macroF1: 0.850098\n",
      "[90]\tvalid_0's binary_logloss: 0.152018\tvalid_0's macroF1: 0.84791\n",
      "[91]\tvalid_0's binary_logloss: 0.151812\tvalid_0's macroF1: 0.847364\n",
      "[92]\tvalid_0's binary_logloss: 0.151821\tvalid_0's macroF1: 0.845432\n",
      "[93]\tvalid_0's binary_logloss: 0.151705\tvalid_0's macroF1: 0.845432\n",
      "[94]\tvalid_0's binary_logloss: 0.15173\tvalid_0's macroF1: 0.845432\n",
      "[95]\tvalid_0's binary_logloss: 0.151444\tvalid_0's macroF1: 0.846258\n",
      "[96]\tvalid_0's binary_logloss: 0.151339\tvalid_0's macroF1: 0.847087\n",
      "[97]\tvalid_0's binary_logloss: 0.151012\tvalid_0's macroF1: 0.849303\n",
      "[98]\tvalid_0's binary_logloss: 0.150912\tvalid_0's macroF1: 0.84847\n",
      "[99]\tvalid_0's binary_logloss: 0.150983\tvalid_0's macroF1: 0.84847\n",
      "[100]\tvalid_0's binary_logloss: 0.150988\tvalid_0's macroF1: 0.84764\n",
      "[1]\tvalid_0's binary_logloss: 0.360153\tvalid_0's macroF1: 0.474268\n",
      "[2]\tvalid_0's binary_logloss: 0.334828\tvalid_0's macroF1: 0.474268\n",
      "[3]\tvalid_0's binary_logloss: 0.314081\tvalid_0's macroF1: 0.474268\n",
      "[4]\tvalid_0's binary_logloss: 0.296687\tvalid_0's macroF1: 0.67462\n",
      "[5]\tvalid_0's binary_logloss: 0.282177\tvalid_0's macroF1: 0.767867\n",
      "[6]\tvalid_0's binary_logloss: 0.268939\tvalid_0's macroF1: 0.808932\n",
      "[7]\tvalid_0's binary_logloss: 0.257509\tvalid_0's macroF1: 0.829008\n",
      "[8]\tvalid_0's binary_logloss: 0.246871\tvalid_0's macroF1: 0.831834\n",
      "[9]\tvalid_0's binary_logloss: 0.237205\tvalid_0's macroF1: 0.835859\n",
      "[10]\tvalid_0's binary_logloss: 0.228931\tvalid_0's macroF1: 0.847077\n",
      "[11]\tvalid_0's binary_logloss: 0.221949\tvalid_0's macroF1: 0.851275\n"
     ]
    },
    {
     "name": "stderr",
     "output_type": "stream",
     "text": [
      "/usr/local/lib/python3.6/dist-packages/sklearn/preprocessing/_label.py:235: DataConversionWarning: A column-vector y was passed when a 1d array was expected. Please change the shape of y to (n_samples, ), for example using ravel().\n",
      "  y = column_or_1d(y, warn=True)\n",
      "/usr/local/lib/python3.6/dist-packages/sklearn/preprocessing/_label.py:268: DataConversionWarning: A column-vector y was passed when a 1d array was expected. Please change the shape of y to (n_samples, ), for example using ravel().\n",
      "  y = column_or_1d(y, warn=True)\n"
     ]
    },
    {
     "name": "stdout",
     "output_type": "stream",
     "text": [
      "[12]\tvalid_0's binary_logloss: 0.216\tvalid_0's macroF1: 0.851519\n",
      "[13]\tvalid_0's binary_logloss: 0.210408\tvalid_0's macroF1: 0.851221\n",
      "[14]\tvalid_0's binary_logloss: 0.205445\tvalid_0's macroF1: 0.854265\n",
      "[15]\tvalid_0's binary_logloss: 0.201017\tvalid_0's macroF1: 0.853952\n",
      "[16]\tvalid_0's binary_logloss: 0.19688\tvalid_0's macroF1: 0.852286\n",
      "[17]\tvalid_0's binary_logloss: 0.192905\tvalid_0's macroF1: 0.856847\n",
      "[18]\tvalid_0's binary_logloss: 0.189326\tvalid_0's macroF1: 0.859016\n",
      "[19]\tvalid_0's binary_logloss: 0.186374\tvalid_0's macroF1: 0.857351\n",
      "[20]\tvalid_0's binary_logloss: 0.183501\tvalid_0's macroF1: 0.859175\n",
      "[21]\tvalid_0's binary_logloss: 0.181269\tvalid_0's macroF1: 0.858348\n",
      "[22]\tvalid_0's binary_logloss: 0.178763\tvalid_0's macroF1: 0.857851\n",
      "[23]\tvalid_0's binary_logloss: 0.17647\tvalid_0's macroF1: 0.861325\n",
      "[24]\tvalid_0's binary_logloss: 0.173918\tvalid_0's macroF1: 0.866093\n",
      "[25]\tvalid_0's binary_logloss: 0.172133\tvalid_0's macroF1: 0.866558\n",
      "[26]\tvalid_0's binary_logloss: 0.1703\tvalid_0's macroF1: 0.867854\n",
      "[27]\tvalid_0's binary_logloss: 0.168458\tvalid_0's macroF1: 0.869146\n",
      "[28]\tvalid_0's binary_logloss: 0.167212\tvalid_0's macroF1: 0.868309\n",
      "[29]\tvalid_0's binary_logloss: 0.16623\tvalid_0's macroF1: 0.869534\n",
      "[30]\tvalid_0's binary_logloss: 0.164644\tvalid_0's macroF1: 0.872117\n",
      "[31]\tvalid_0's binary_logloss: 0.163381\tvalid_0's macroF1: 0.872558\n",
      "[32]\tvalid_0's binary_logloss: 0.162581\tvalid_0's macroF1: 0.869985\n",
      "[33]\tvalid_0's binary_logloss: 0.161261\tvalid_0's macroF1: 0.868761\n",
      "[34]\tvalid_0's binary_logloss: 0.160402\tvalid_0's macroF1: 0.867476\n",
      "[35]\tvalid_0's binary_logloss: 0.159591\tvalid_0's macroF1: 0.8671\n",
      "[36]\tvalid_0's binary_logloss: 0.158588\tvalid_0's macroF1: 0.866274\n",
      "[37]\tvalid_0's binary_logloss: 0.15783\tvalid_0's macroF1: 0.8671\n",
      "[38]\tvalid_0's binary_logloss: 0.15728\tvalid_0's macroF1: 0.866644\n",
      "[39]\tvalid_0's binary_logloss: 0.156557\tvalid_0's macroF1: 0.8671\n",
      "[40]\tvalid_0's binary_logloss: 0.156244\tvalid_0's macroF1: 0.867476\n",
      "[41]\tvalid_0's binary_logloss: 0.155434\tvalid_0's macroF1: 0.866185\n",
      "[42]\tvalid_0's binary_logloss: 0.154686\tvalid_0's macroF1: 0.867854\n",
      "[43]\tvalid_0's binary_logloss: 0.154239\tvalid_0's macroF1: 0.866185\n",
      "[44]\tvalid_0's binary_logloss: 0.15395\tvalid_0's macroF1: 0.868309\n",
      "[45]\tvalid_0's binary_logloss: 0.153674\tvalid_0's macroF1: 0.867018\n",
      "[46]\tvalid_0's binary_logloss: 0.153456\tvalid_0's macroF1: 0.868761\n",
      "[47]\tvalid_0's binary_logloss: 0.153061\tvalid_0's macroF1: 0.867476\n",
      "[48]\tvalid_0's binary_logloss: 0.152509\tvalid_0's macroF1: 0.868761\n",
      "[49]\tvalid_0's binary_logloss: 0.152292\tvalid_0's macroF1: 0.866185\n",
      "[50]\tvalid_0's binary_logloss: 0.152072\tvalid_0's macroF1: 0.864061\n",
      "[51]\tvalid_0's binary_logloss: 0.151893\tvalid_0's macroF1: 0.864422\n",
      "[52]\tvalid_0's binary_logloss: 0.151535\tvalid_0's macroF1: 0.865723\n",
      "[53]\tvalid_0's binary_logloss: 0.151315\tvalid_0's macroF1: 0.866185\n",
      "[54]\tvalid_0's binary_logloss: 0.151264\tvalid_0's macroF1: 0.863591\n",
      "[55]\tvalid_0's binary_logloss: 0.150755\tvalid_0's macroF1: 0.865256\n",
      "[56]\tvalid_0's binary_logloss: 0.150805\tvalid_0's macroF1: 0.863118\n",
      "[57]\tvalid_0's binary_logloss: 0.150375\tvalid_0's macroF1: 0.863118\n",
      "[58]\tvalid_0's binary_logloss: 0.150157\tvalid_0's macroF1: 0.861808\n",
      "[59]\tvalid_0's binary_logloss: 0.149878\tvalid_0's macroF1: 0.861808\n",
      "[60]\tvalid_0's binary_logloss: 0.149645\tvalid_0's macroF1: 0.861808\n",
      "[61]\tvalid_0's binary_logloss: 0.149369\tvalid_0's macroF1: 0.861325\n",
      "[62]\tvalid_0's binary_logloss: 0.149212\tvalid_0's macroF1: 0.862159\n",
      "[63]\tvalid_0's binary_logloss: 0.148736\tvalid_0's macroF1: 0.862159\n",
      "[64]\tvalid_0's binary_logloss: 0.148379\tvalid_0's macroF1: 0.861325\n",
      "[65]\tvalid_0's binary_logloss: 0.147759\tvalid_0's macroF1: 0.860494\n",
      "[66]\tvalid_0's binary_logloss: 0.147497\tvalid_0's macroF1: 0.860494\n",
      "[67]\tvalid_0's binary_logloss: 0.147448\tvalid_0's macroF1: 0.860494\n",
      "[68]\tvalid_0's binary_logloss: 0.147252\tvalid_0's macroF1: 0.860494\n",
      "[69]\tvalid_0's binary_logloss: 0.146926\tvalid_0's macroF1: 0.860005\n",
      "[70]\tvalid_0's binary_logloss: 0.146554\tvalid_0's macroF1: 0.862996\n",
      "[71]\tvalid_0's binary_logloss: 0.146167\tvalid_0's macroF1: 0.862996\n",
      "[72]\tvalid_0's binary_logloss: 0.146038\tvalid_0's macroF1: 0.862996\n",
      "[73]\tvalid_0's binary_logloss: 0.146177\tvalid_0's macroF1: 0.862996\n",
      "[74]\tvalid_0's binary_logloss: 0.146031\tvalid_0's macroF1: 0.862996\n",
      "[75]\tvalid_0's binary_logloss: 0.145353\tvalid_0's macroF1: 0.863835\n",
      "[76]\tvalid_0's binary_logloss: 0.145189\tvalid_0's macroF1: 0.862512\n",
      "[77]\tvalid_0's binary_logloss: 0.145014\tvalid_0's macroF1: 0.864198\n",
      "[78]\tvalid_0's binary_logloss: 0.145134\tvalid_0's macroF1: 0.865523\n",
      "[79]\tvalid_0's binary_logloss: 0.144899\tvalid_0's macroF1: 0.865046\n",
      "[80]\tvalid_0's binary_logloss: 0.144875\tvalid_0's macroF1: 0.863715\n",
      "[81]\tvalid_0's binary_logloss: 0.145018\tvalid_0's macroF1: 0.862869\n",
      "[82]\tvalid_0's binary_logloss: 0.144826\tvalid_0's macroF1: 0.862869\n",
      "[83]\tvalid_0's binary_logloss: 0.144847\tvalid_0's macroF1: 0.862869\n",
      "[84]\tvalid_0's binary_logloss: 0.144606\tvalid_0's macroF1: 0.863715\n",
      "[85]\tvalid_0's binary_logloss: 0.144672\tvalid_0's macroF1: 0.864564\n",
      "[86]\tvalid_0's binary_logloss: 0.144429\tvalid_0's macroF1: 0.863715\n",
      "[87]\tvalid_0's binary_logloss: 0.144071\tvalid_0's macroF1: 0.862869\n",
      "[88]\tvalid_0's binary_logloss: 0.143981\tvalid_0's macroF1: 0.864198\n",
      "[89]\tvalid_0's binary_logloss: 0.143822\tvalid_0's macroF1: 0.864198\n",
      "[90]\tvalid_0's binary_logloss: 0.144059\tvalid_0's macroF1: 0.861535\n",
      "[91]\tvalid_0's binary_logloss: 0.143894\tvalid_0's macroF1: 0.861535\n",
      "[92]\tvalid_0's binary_logloss: 0.143856\tvalid_0's macroF1: 0.86238\n",
      "[93]\tvalid_0's binary_logloss: 0.143987\tvalid_0's macroF1: 0.86238\n",
      "[94]\tvalid_0's binary_logloss: 0.143603\tvalid_0's macroF1: 0.86238\n",
      "[95]\tvalid_0's binary_logloss: 0.14346\tvalid_0's macroF1: 0.861535\n",
      "[96]\tvalid_0's binary_logloss: 0.143199\tvalid_0's macroF1: 0.861535\n",
      "[97]\tvalid_0's binary_logloss: 0.143174\tvalid_0's macroF1: 0.860692\n",
      "[98]\tvalid_0's binary_logloss: 0.143315\tvalid_0's macroF1: 0.859354\n",
      "[99]\tvalid_0's binary_logloss: 0.143238\tvalid_0's macroF1: 0.859354\n",
      "[100]\tvalid_0's binary_logloss: 0.142982\tvalid_0's macroF1: 0.859354\n",
      "[1]\tvalid_0's binary_logloss: 0.360329\tvalid_0's macroF1: 0.474268\n",
      "[2]\tvalid_0's binary_logloss: 0.335295\tvalid_0's macroF1: 0.474268\n",
      "[3]\tvalid_0's binary_logloss: 0.314683\tvalid_0's macroF1: 0.474268\n",
      "[4]\tvalid_0's binary_logloss: 0.296867\tvalid_0's macroF1: 0.710893\n",
      "[5]\tvalid_0's binary_logloss: 0.282357\tvalid_0's macroF1: 0.797056\n",
      "[6]\tvalid_0's binary_logloss: 0.269278\tvalid_0's macroF1: 0.833189\n",
      "[7]\tvalid_0's binary_logloss: 0.258086\tvalid_0's macroF1: 0.845308\n",
      "[8]\tvalid_0's binary_logloss: 0.248347\tvalid_0's macroF1: 0.853043\n",
      "[9]\tvalid_0's binary_logloss: 0.239996\tvalid_0's macroF1: 0.847632\n",
      "[10]\tvalid_0's binary_logloss: 0.231809\tvalid_0's macroF1: 0.847594\n",
      "[11]\tvalid_0's binary_logloss: 0.225202\tvalid_0's macroF1: 0.848392\n",
      "[12]\tvalid_0's binary_logloss: 0.218595\tvalid_0's macroF1: 0.846778\n",
      "[13]\tvalid_0's binary_logloss: 0.212956\tvalid_0's macroF1: 0.847564\n",
      "[14]\tvalid_0's binary_logloss: 0.207487\tvalid_0's macroF1: 0.848353\n",
      "[15]\tvalid_0's binary_logloss: 0.203199\tvalid_0's macroF1: 0.848584\n",
      "[16]\tvalid_0's binary_logloss: 0.199695\tvalid_0's macroF1: 0.851943\n",
      "[17]\tvalid_0's binary_logloss: 0.196221\tvalid_0's macroF1: 0.851156\n",
      "[18]\tvalid_0's binary_logloss: 0.192862\tvalid_0's macroF1: 0.852732\n",
      "[19]\tvalid_0's binary_logloss: 0.18992\tvalid_0's macroF1: 0.851943\n",
      "[20]\tvalid_0's binary_logloss: 0.18755\tvalid_0's macroF1: 0.853223\n",
      "[21]\tvalid_0's binary_logloss: 0.185647\tvalid_0's macroF1: 0.846243\n",
      "[22]\tvalid_0's binary_logloss: 0.183157\tvalid_0's macroF1: 0.846752\n",
      "[23]\tvalid_0's binary_logloss: 0.18096\tvalid_0's macroF1: 0.848307\n"
     ]
    },
    {
     "name": "stderr",
     "output_type": "stream",
     "text": [
      "/usr/local/lib/python3.6/dist-packages/sklearn/preprocessing/_label.py:235: DataConversionWarning: A column-vector y was passed when a 1d array was expected. Please change the shape of y to (n_samples, ), for example using ravel().\n",
      "  y = column_or_1d(y, warn=True)\n",
      "/usr/local/lib/python3.6/dist-packages/sklearn/preprocessing/_label.py:268: DataConversionWarning: A column-vector y was passed when a 1d array was expected. Please change the shape of y to (n_samples, ), for example using ravel().\n",
      "  y = column_or_1d(y, warn=True)\n"
     ]
    },
    {
     "name": "stdout",
     "output_type": "stream",
     "text": [
      "[24]\tvalid_0's binary_logloss: 0.178986\tvalid_0's macroF1: 0.846752\n",
      "[25]\tvalid_0's binary_logloss: 0.17694\tvalid_0's macroF1: 0.848307\n",
      "[26]\tvalid_0's binary_logloss: 0.175141\tvalid_0's macroF1: 0.846752\n",
      "[27]\tvalid_0's binary_logloss: 0.173857\tvalid_0's macroF1: 0.845978\n",
      "[28]\tvalid_0's binary_logloss: 0.172066\tvalid_0's macroF1: 0.850085\n",
      "[29]\tvalid_0's binary_logloss: 0.170385\tvalid_0's macroF1: 0.851357\n",
      "[30]\tvalid_0's binary_logloss: 0.169298\tvalid_0's macroF1: 0.849801\n",
      "[31]\tvalid_0's binary_logloss: 0.168033\tvalid_0's macroF1: 0.852139\n",
      "[32]\tvalid_0's binary_logloss: 0.166199\tvalid_0's macroF1: 0.852923\n",
      "[33]\tvalid_0's binary_logloss: 0.16516\tvalid_0's macroF1: 0.854499\n",
      "[34]\tvalid_0's binary_logloss: 0.163692\tvalid_0's macroF1: 0.855932\n",
      "[35]\tvalid_0's binary_logloss: 0.162536\tvalid_0's macroF1: 0.8583\n",
      "[36]\tvalid_0's binary_logloss: 0.161708\tvalid_0's macroF1: 0.85577\n",
      "[37]\tvalid_0's binary_logloss: 0.160896\tvalid_0's macroF1: 0.85577\n",
      "[38]\tvalid_0's binary_logloss: 0.160424\tvalid_0's macroF1: 0.85498\n",
      "[39]\tvalid_0's binary_logloss: 0.159396\tvalid_0's macroF1: 0.85577\n",
      "[40]\tvalid_0's binary_logloss: 0.158427\tvalid_0's macroF1: 0.857357\n",
      "[41]\tvalid_0's binary_logloss: 0.15746\tvalid_0's macroF1: 0.85783\n",
      "[42]\tvalid_0's binary_logloss: 0.15666\tvalid_0's macroF1: 0.857357\n",
      "[43]\tvalid_0's binary_logloss: 0.155849\tvalid_0's macroF1: 0.858155\n",
      "[44]\tvalid_0's binary_logloss: 0.15527\tvalid_0's macroF1: 0.857357\n",
      "[45]\tvalid_0's binary_logloss: 0.155076\tvalid_0's macroF1: 0.85577\n",
      "[46]\tvalid_0's binary_logloss: 0.154733\tvalid_0's macroF1: 0.856562\n",
      "[47]\tvalid_0's binary_logloss: 0.154551\tvalid_0's macroF1: 0.85498\n",
      "[48]\tvalid_0's binary_logloss: 0.153672\tvalid_0's macroF1: 0.853709\n",
      "[49]\tvalid_0's binary_logloss: 0.15337\tvalid_0's macroF1: 0.854499\n",
      "[50]\tvalid_0's binary_logloss: 0.152738\tvalid_0's macroF1: 0.854499\n",
      "[51]\tvalid_0's binary_logloss: 0.152265\tvalid_0's macroF1: 0.85577\n",
      "[52]\tvalid_0's binary_logloss: 0.151993\tvalid_0's macroF1: 0.85529\n",
      "[53]\tvalid_0's binary_logloss: 0.151451\tvalid_0's macroF1: 0.85529\n",
      "[54]\tvalid_0's binary_logloss: 0.151353\tvalid_0's macroF1: 0.856562\n",
      "[55]\tvalid_0's binary_logloss: 0.150898\tvalid_0's macroF1: 0.858155\n",
      "[56]\tvalid_0's binary_logloss: 0.150588\tvalid_0's macroF1: 0.859758\n",
      "[57]\tvalid_0's binary_logloss: 0.1503\tvalid_0's macroF1: 0.862181\n",
      "[58]\tvalid_0's binary_logloss: 0.150027\tvalid_0's macroF1: 0.861371\n",
      "[59]\tvalid_0's binary_logloss: 0.149706\tvalid_0's macroF1: 0.860563\n",
      "[60]\tvalid_0's binary_logloss: 0.149364\tvalid_0's macroF1: 0.858482\n",
      "[61]\tvalid_0's binary_logloss: 0.149026\tvalid_0's macroF1: 0.860093\n",
      "[62]\tvalid_0's binary_logloss: 0.148661\tvalid_0's macroF1: 0.860903\n",
      "[63]\tvalid_0's binary_logloss: 0.148561\tvalid_0's macroF1: 0.859286\n",
      "[64]\tvalid_0's binary_logloss: 0.148173\tvalid_0's macroF1: 0.860903\n",
      "[65]\tvalid_0's binary_logloss: 0.147832\tvalid_0's macroF1: 0.860903\n",
      "[66]\tvalid_0's binary_logloss: 0.147596\tvalid_0's macroF1: 0.860903\n",
      "[67]\tvalid_0's binary_logloss: 0.147086\tvalid_0's macroF1: 0.860093\n",
      "[68]\tvalid_0's binary_logloss: 0.146941\tvalid_0's macroF1: 0.860903\n",
      "[69]\tvalid_0's binary_logloss: 0.146969\tvalid_0's macroF1: 0.860093\n",
      "[70]\tvalid_0's binary_logloss: 0.146519\tvalid_0's macroF1: 0.860903\n",
      "[71]\tvalid_0's binary_logloss: 0.146299\tvalid_0's macroF1: 0.861245\n",
      "[72]\tvalid_0's binary_logloss: 0.146009\tvalid_0's macroF1: 0.861245\n",
      "[73]\tvalid_0's binary_logloss: 0.145571\tvalid_0's macroF1: 0.86381\n",
      "[74]\tvalid_0's binary_logloss: 0.145477\tvalid_0's macroF1: 0.86253\n",
      "[75]\tvalid_0's binary_logloss: 0.144943\tvalid_0's macroF1: 0.862881\n",
      "[76]\tvalid_0's binary_logloss: 0.144736\tvalid_0's macroF1: 0.864528\n",
      "[77]\tvalid_0's binary_logloss: 0.14477\tvalid_0's macroF1: 0.863703\n",
      "[78]\tvalid_0's binary_logloss: 0.144703\tvalid_0's macroF1: 0.862881\n",
      "[79]\tvalid_0's binary_logloss: 0.144364\tvalid_0's macroF1: 0.859477\n",
      "[80]\tvalid_0's binary_logloss: 0.144164\tvalid_0's macroF1: 0.858662\n",
      "[81]\tvalid_0's binary_logloss: 0.143652\tvalid_0's macroF1: 0.864528\n",
      "[82]\tvalid_0's binary_logloss: 0.143319\tvalid_0's macroF1: 0.866644\n",
      "[83]\tvalid_0's binary_logloss: 0.14307\tvalid_0's macroF1: 0.866644\n",
      "[84]\tvalid_0's binary_logloss: 0.142804\tvalid_0's macroF1: 0.867018\n",
      "[85]\tvalid_0's binary_logloss: 0.142877\tvalid_0's macroF1: 0.867018\n",
      "[86]\tvalid_0's binary_logloss: 0.14289\tvalid_0's macroF1: 0.864891\n",
      "[87]\tvalid_0's binary_logloss: 0.142918\tvalid_0's macroF1: 0.865723\n",
      "[88]\tvalid_0's binary_logloss: 0.143189\tvalid_0's macroF1: 0.865723\n",
      "[89]\tvalid_0's binary_logloss: 0.143091\tvalid_0's macroF1: 0.865723\n",
      "[90]\tvalid_0's binary_logloss: 0.143143\tvalid_0's macroF1: 0.866558\n",
      "[91]\tvalid_0's binary_logloss: 0.143173\tvalid_0's macroF1: 0.866558\n",
      "[92]\tvalid_0's binary_logloss: 0.143477\tvalid_0's macroF1: 0.862763\n",
      "[93]\tvalid_0's binary_logloss: 0.14332\tvalid_0's macroF1: 0.863235\n",
      "[94]\tvalid_0's binary_logloss: 0.143123\tvalid_0's macroF1: 0.862287\n",
      "[95]\tvalid_0's binary_logloss: 0.143059\tvalid_0's macroF1: 0.86146\n",
      "[96]\tvalid_0's binary_logloss: 0.143127\tvalid_0's macroF1: 0.860635\n",
      "[97]\tvalid_0's binary_logloss: 0.143101\tvalid_0's macroF1: 0.860635\n",
      "[98]\tvalid_0's binary_logloss: 0.142835\tvalid_0's macroF1: 0.860635\n",
      "[99]\tvalid_0's binary_logloss: 0.142831\tvalid_0's macroF1: 0.860635\n",
      "[100]\tvalid_0's binary_logloss: 0.142751\tvalid_0's macroF1: 0.860635\n"
     ]
    }
   ],
   "source": [
    "for training_index, testing_index in gkf.split(X=x, y=y):\n",
    "    x_train_fold, y_train_fold = x[training_index], y[training_index]\n",
    "    x_test_fold, y_test_fold = x[testing_index], y[testing_index]\n",
    "    model.fit(x_train_fold, y_train_fold, eval_set=(x_test_fold,y_test_fold),eval_metric = lambda y_true, y_pred: [evaluate_macroF1_lgb(y_true,y_pred)])"
   ]
  },
  {
   "cell_type": "code",
   "execution_count": 34,
   "metadata": {},
   "outputs": [],
   "source": [
    "predicted_y = model.predict(x_test)\n",
    "train_pred_y = model.predict(x)"
   ]
  },
  {
   "cell_type": "code",
   "execution_count": 35,
   "metadata": {},
   "outputs": [],
   "source": [
    "train_pred_y = model.predict(x)"
   ]
  },
  {
   "cell_type": "code",
   "execution_count": 36,
   "metadata": {},
   "outputs": [
    {
     "name": "stdout",
     "output_type": "stream",
     "text": [
      "\n",
      "              precision    recall  f1-score   support\n",
      "\n",
      "           0       0.90      0.89      0.90      1345\n",
      "           1       0.99      0.99      0.99     12395\n",
      "\n",
      "    accuracy                           0.98     13740\n",
      "   macro avg       0.94      0.94      0.94     13740\n",
      "weighted avg       0.98      0.98      0.98     13740\n",
      "\n",
      "\n",
      "[[ 1202   143]\n",
      " [  135 12260]]\n",
      "\n",
      "              precision    recall  f1-score   support\n",
      "\n",
      "           0       0.77      0.73      0.75       336\n",
      "           1       0.97      0.98      0.97      3099\n",
      "\n",
      "    accuracy                           0.95      3435\n",
      "   macro avg       0.87      0.85      0.86      3435\n",
      "weighted avg       0.95      0.95      0.95      3435\n",
      "\n",
      "\n",
      "[[ 245   91]\n",
      " [  72 3027]]\n"
     ]
    }
   ],
   "source": [
    "print(); print(metrics.classification_report(y,train_pred_y))\n",
    "print(); print(metrics.confusion_matrix(y, train_pred_y))\n",
    "\n",
    "print(); print(metrics.classification_report(y_test, predicted_y))\n",
    "print(); print(metrics.confusion_matrix(y_test, predicted_y))"
   ]
  },
  {
   "cell_type": "code",
   "execution_count": 37,
   "metadata": {},
   "outputs": [
    {
     "name": "stdout",
     "output_type": "stream",
     "text": [
      "\n",
      "              precision    recall  f1-score   support\n",
      "\n",
      "           0       0.90      0.89      0.90      1345\n",
      "           1       0.99      0.99      0.99     12395\n",
      "\n",
      "    accuracy                           0.98     13740\n",
      "   macro avg       0.94      0.94      0.94     13740\n",
      "weighted avg       0.98      0.98      0.98     13740\n",
      "\n",
      "\n",
      "[[ 1202   143]\n",
      " [  135 12260]]\n"
     ]
    }
   ],
   "source": [
    "print(); print(metrics.classification_report(y,train_pred_y))\n",
    "print(); print(metrics.confusion_matrix(y, train_pred_y))"
   ]
  },
  {
   "cell_type": "markdown",
   "metadata": {},
   "source": [
    "<h2>Testing</h2>"
   ]
  },
  {
   "cell_type": "code",
   "execution_count": 38,
   "metadata": {
    "colab": {},
    "colab_type": "code",
    "id": "dRpHFO-hvEvg"
   },
   "outputs": [],
   "source": [
    "\n",
    "test_set = pd.read_csv(data_path+'test.csv', index_col=\"tripid\")\n"
   ]
  },
  {
   "cell_type": "code",
   "execution_count": 39,
   "metadata": {
    "colab": {},
    "colab_type": "code",
    "id": "-aB-vcWQPl-L"
   },
   "outputs": [],
   "source": [
    "test_set['pickup_time'] = pd.to_datetime(test_set['pickup_time'], format=\"%m/%d/%Y %H:%M\")\n",
    "test_set['drop_time'] = pd.to_datetime(test_set['drop_time'], format=\"%m/%d/%Y %H:%M\")"
   ]
  },
  {
   "cell_type": "code",
   "execution_count": 40,
   "metadata": {
    "colab": {},
    "colab_type": "code",
    "id": "-fh6I6oDPrqF"
   },
   "outputs": [],
   "source": [
    "test_set = test_set.assign(timeOfDay=pd.cut(test_set.pickup_time.dt.hour,[-1, 8, 20, 24],labels=['dawn','day', 'night']))"
   ]
  },
  {
   "cell_type": "code",
   "execution_count": 41,
   "metadata": {},
   "outputs": [],
   "source": [
    "test_set.loc[test_set['timeOfDay'] == 'day', 'isNormalCharge'] = 1\n",
    "test_set.loc[test_set['timeOfDay'] != 'day', 'isNormalCharge'] = 0"
   ]
  },
  {
   "cell_type": "code",
   "execution_count": 42,
   "metadata": {
    "colab": {},
    "colab_type": "code",
    "id": "0YIKrGoUPxjD"
   },
   "outputs": [],
   "source": [
    "durations = []\n",
    "for index,row in test_set.iterrows():\n",
    "  provided_duration = row['duration'] #first row of location.lat column here\n",
    "  if math.isnan(provided_duration) or provided_duration <= 0 :\n",
    "    time_dif = (row['drop_time'] - row['pickup_time']).seconds\n",
    "    if(time_dif == 0):\n",
    "        time_dif = np.nan\n",
    "    durations.append(time_dif)\n",
    "  else :  \n",
    "    durations.append(provided_duration)\n",
    "\n",
    "test_set.insert(4,\"time_dif\",durations)"
   ]
  },
  {
   "cell_type": "code",
   "execution_count": 43,
   "metadata": {
    "colab": {},
    "colab_type": "code",
    "id": "N8RKMAziP2Zu"
   },
   "outputs": [],
   "source": [
    "new_column = []                    #empty column for distance\n",
    "for index,row in test_set.iterrows():\n",
    "  lat1 = row['pick_lat'] #first row of location.lat column here\n",
    "  lon1 = row['pick_lon'] #first row of location.long column here\n",
    "  lat2 = row['drop_lat'] #second row of location.lat column here\n",
    "  lon2 = row['drop_lon'] #second row of location.long column here\n",
    "  value = dist_from_coordinates(lat1, lon1, lat2, lon2)  #get the distance\n",
    "  new_column.append(value)   #append the empty list with distance values\n",
    "\n",
    "test_set.insert(4,\"distance\",new_column)"
   ]
  },
  {
   "cell_type": "code",
   "execution_count": 44,
   "metadata": {
    "colab": {},
    "colab_type": "code",
    "id": "fhGdrT68P7u0"
   },
   "outputs": [],
   "source": [
    "test_set['time_driven'] = test_set['duration']  - test_set['meter_waiting']"
   ]
  },
  {
   "cell_type": "code",
   "execution_count": 45,
   "metadata": {
    "colab": {},
    "colab_type": "code",
    "id": "0T1ZhNq4QCFr"
   },
   "outputs": [],
   "source": [
    "chargeperhours = []\n",
    "for index,row in test_set.iterrows():\n",
    "    if(row['meter_waiting'] == 0):\n",
    "        chargeperhour = np.nan\n",
    "    else:\n",
    "        chargeperhour = (row['meter_waiting_fare'] / row['meter_waiting'] * 3600)\n",
    "    chargeperhours.append(chargeperhour)\n",
    "\n",
    "test_set.insert(4,'charge_per_hour',chargeperhours)\n"
   ]
  },
  {
   "cell_type": "code",
   "execution_count": 46,
   "metadata": {
    "colab": {},
    "colab_type": "code",
    "id": "stlHhBUcQHPO"
   },
   "outputs": [],
   "source": [
    "test_set['driving_fare'] = test_set['fare']  - test_set['meter_waiting_fare'] - test_set['additional_fare']"
   ]
  },
  {
   "cell_type": "code",
   "execution_count": 47,
   "metadata": {
    "colab": {},
    "colab_type": "code",
    "id": "3swRfBdUQPab"
   },
   "outputs": [],
   "source": [
    "avgspeeds = []\n",
    "for index,row in test_set.iterrows():\n",
    "    if(row['time_driven'] == 0):\n",
    "        avgspeed = np.nan    \n",
    "    else:\n",
    "        avgspeed = (row['distance'] / row['time_driven'] * 3600)\n",
    "    avgspeeds.append(avgspeed)\n",
    "\n",
    "test_set.insert(4,\"avg_speed\",avgspeeds)\n",
    "\n"
   ]
  },
  {
   "cell_type": "code",
   "execution_count": 48,
   "metadata": {
    "colab": {},
    "colab_type": "code",
    "id": "CbN5feh0QWAF"
   },
   "outputs": [],
   "source": [
    "costsperkm = []\n",
    "for index,row in test_set.iterrows():\n",
    "    if row['distance'] == 0:\n",
    "        costperkm = np.nan\n",
    "            \n",
    "    else:\n",
    "        costperkm = (row['driving_fare'] / row['distance'])\n",
    "    costsperkm.append(costperkm)\n",
    "\n",
    "test_set.insert(4,\"cost_per_km\",costsperkm)"
   ]
  },
  {
   "cell_type": "code",
   "execution_count": 49,
   "metadata": {
    "colab": {},
    "colab_type": "code",
    "id": "G8siIDy9_D2I"
   },
   "outputs": [],
   "source": [
    "test_features = test_set[training_columns]"
   ]
  },
  {
   "cell_type": "code",
   "execution_count": 50,
   "metadata": {
    "colab": {
     "base_uri": "https://localhost:8080/",
     "height": 455
    },
    "colab_type": "code",
    "id": "YGcUrVpWQc6h",
    "outputId": "b45b835c-1c70-4035-ff79-2d936377d9e1"
   },
   "outputs": [
    {
     "data": {
      "text/plain": [
       "meter_waiting           0\n",
       "meter_waiting_fare      0\n",
       "fare                    0\n",
       "additional_fare         0\n",
       "distance                0\n",
       "cost_per_km            25\n",
       "avg_speed               9\n",
       "pick_lat                0\n",
       "pick_lon                0\n",
       "drop_lat                0\n",
       "drop_lon                0\n",
       "isNormalCharge          0\n",
       "time_dif                0\n",
       "time_driven             0\n",
       "charge_per_hour       298\n",
       "driving_fare            0\n",
       "dtype: int64"
      ]
     },
     "execution_count": 50,
     "metadata": {},
     "output_type": "execute_result"
    }
   ],
   "source": [
    "test_features.isna().sum()"
   ]
  },
  {
   "cell_type": "code",
   "execution_count": 51,
   "metadata": {
    "colab": {},
    "colab_type": "code",
    "id": "MeqI1BVR_Fpl"
   },
   "outputs": [],
   "source": [
    "predicted_labels = model.predict(test_features)"
   ]
  },
  {
   "cell_type": "code",
   "execution_count": 52,
   "metadata": {},
   "outputs": [],
   "source": [
    "predicted_labels_df = pd.DataFrame(predicted_labels )"
   ]
  },
  {
   "cell_type": "code",
   "execution_count": 53,
   "metadata": {
    "colab": {},
    "colab_type": "code",
    "id": "qqHn12X6_Gvf"
   },
   "outputs": [],
   "source": [
    "sub_path =os.path.abspath(os.path.join(data_path+'/sample_submission.csv'))\n",
    "submission_set = pd.read_csv(sub_path, index_col=\"tripid\")"
   ]
  },
  {
   "cell_type": "code",
   "execution_count": 54,
   "metadata": {
    "colab": {},
    "colab_type": "code",
    "id": "8Ji-pVGy_H3c"
   },
   "outputs": [],
   "source": [
    "submission_set['prediction']= predicted_labels_df.values[:,0]"
   ]
  },
  {
   "cell_type": "code",
   "execution_count": 55,
   "metadata": {},
   "outputs": [
    {
     "data": {
      "application/javascript": [
       "var kernel = IPython.notebook.kernel;\n",
       "var thename = window.document.getElementById(\"notebook_name\").innerHTML;\n",
       "var command = \"theNotebook = \" + \"'\"+thename+\"'\";\n",
       "kernel.execute(command);\n"
      ],
      "text/plain": [
       "<IPython.core.display.Javascript object>"
      ]
     },
     "metadata": {},
     "output_type": "display_data"
    }
   ],
   "source": [
    "%%javascript\n",
    "var kernel = IPython.notebook.kernel;\n",
    "var thename = window.document.getElementById(\"notebook_name\").innerHTML;\n",
    "var command = \"theNotebook = \" + \"'\"+thename+\"'\";\n",
    "kernel.execute(command);"
   ]
  },
  {
   "cell_type": "code",
   "execution_count": 57,
   "metadata": {
    "colab": {
     "base_uri": "https://localhost:8080/",
     "height": 35
    },
    "colab_type": "code",
    "id": "U6dGilvv_JLl",
    "outputId": "a12ca51c-c94a-4f5d-efab-2ebd6a29156a"
   },
   "outputs": [
    {
     "name": "stdout",
     "output_type": "stream",
     "text": [
      "Completed!\n"
     ]
    }
   ],
   "source": [
    "filename = '../../submissions/'+theNotebook+'/'+theNotebook+'_{%i}.csv'\n",
    "dirname = '../../submissions/'+theNotebook\n",
    "fileversion = 1\n",
    "\n",
    "if not os.path.exists(dirname):\n",
    "    os.makedirs(dirname)\n",
    "while glob.glob(filename.replace('{%i}',str(fileversion))) :\n",
    "    fileversion+=1\n",
    "submission_set.to_csv(filename.replace('{%i}',str(fileversion)), index=True)\n",
    "print(\"Completed!\")"
   ]
  },
  {
   "cell_type": "code",
   "execution_count": 56,
   "metadata": {
    "colab": {
     "base_uri": "https://localhost:8080/",
     "height": 72
    },
    "colab_type": "code",
    "id": "cg-I13X0_Q0d",
    "outputId": "e0a6dd1e-8d7f-46f6-f8a8-98406223ba06"
   },
   "outputs": [
    {
     "data": {
      "text/plain": [
       "1    8024\n",
       "0     552\n",
       "Name: prediction, dtype: int64"
      ]
     },
     "execution_count": 56,
     "metadata": {},
     "output_type": "execute_result"
    }
   ],
   "source": [
    "submission_set['prediction'].value_counts()"
   ]
  },
  {
   "cell_type": "markdown",
   "metadata": {},
   "source": [
    "<h2>testing against others</h2>"
   ]
  },
  {
   "cell_type": "code",
   "execution_count": null,
   "metadata": {},
   "outputs": [],
   "source": [
    "sub_path =os.path.abspath(os.path.join('/home/madnisal/Documents/ML_Project/submissions/grid-lgbm/lgbm3_19.csv'))\n",
    "submission_set = pd.read_csv(sub_path, index_col=\"tripid\")"
   ]
  },
  {
   "cell_type": "code",
   "execution_count": null,
   "metadata": {},
   "outputs": [],
   "source": [
    "submission_set['prediction'].value_counts()"
   ]
  },
  {
   "cell_type": "code",
   "execution_count": null,
   "metadata": {},
   "outputs": [],
   "source": []
  }
 ],
 "metadata": {
  "colab": {
   "collapsed_sections": [],
   "name": "lightbgm using grid",
   "provenance": []
  },
  "kernelspec": {
   "display_name": "Python 3",
   "language": "python",
   "name": "python3"
  },
  "language_info": {
   "codemirror_mode": {
    "name": "ipython",
    "version": 3
   },
   "file_extension": ".py",
   "mimetype": "text/x-python",
   "name": "python",
   "nbconvert_exporter": "python",
   "pygments_lexer": "ipython3",
   "version": "3.6.9"
  }
 },
 "nbformat": 4,
 "nbformat_minor": 1
}
