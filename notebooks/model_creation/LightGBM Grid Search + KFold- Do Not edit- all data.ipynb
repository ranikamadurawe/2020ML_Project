{
 "cells": [
  {
   "cell_type": "code",
   "execution_count": 1,
   "metadata": {
    "colab": {},
    "colab_type": "code",
    "id": "6BY0u5O7qfR1"
   },
   "outputs": [],
   "source": [
    "import numpy as np\n",
    "import pandas as pd\n",
    "import lightgbm\n",
    "from sklearn.model_selection import train_test_split\n",
    "from sklearn.preprocessing import LabelBinarizer\n",
    "import math\n",
    "from sklearn import metrics\n",
    "from sklearn.model_selection import RandomizedSearchCV, GridSearchCV\n",
    "from sklearn.model_selection import KFold, StratifiedKFold\n",
    "import matplotlib.pyplot as plt\n",
    "import os\n",
    "import glob"
   ]
  },
  {
   "cell_type": "code",
   "execution_count": 2,
   "metadata": {
    "colab": {},
    "colab_type": "code",
    "id": "jaeR-AOtreKu"
   },
   "outputs": [],
   "source": [
    "\n",
    "data_path='/home/madnisal/Documents/ML_Project/datasets/'\n",
    "training_df = pd.read_csv(data_path+'train.csv', index_col=\"tripid\")"
   ]
  },
  {
   "cell_type": "code",
   "execution_count": 3,
   "metadata": {
    "colab": {},
    "colab_type": "code",
    "id": "x2_djb9zOwgg"
   },
   "outputs": [],
   "source": [
    "def dist_from_coordinates(lat1, lon1, lat2, lon2):\n",
    "  R = 6371  # Earth radius in km\n",
    "\n",
    "  #conversion to radians\n",
    "  d_lat = np.radians(lat2-lat1)\n",
    "  d_lon = np.radians(lon2-lon1)\n",
    "\n",
    "  r_lat1 = np.radians(lat1)\n",
    "  r_lat2 = np.radians(lat2)\n",
    "\n",
    "  #haversine formula\n",
    "  a = np.sin(d_lat/2.) **2 + np.cos(r_lat1) * np.cos(r_lat2) * np.sin(d_lon/2.)**2\n",
    "\n",
    "  haversine = 2 * R * np.arcsin(np.sqrt(a))\n",
    "\n",
    "  return haversine"
   ]
  },
  {
   "cell_type": "code",
   "execution_count": 4,
   "metadata": {
    "colab": {},
    "colab_type": "code",
    "id": "fZx_Ut6cOzP9"
   },
   "outputs": [],
   "source": [
    "training_df['pickup_time'] = pd.to_datetime(training_df['pickup_time'], format=\"%m/%d/%Y %H:%M\")\n",
    "training_df['drop_time'] = pd.to_datetime(training_df['drop_time'], format=\"%m/%d/%Y %H:%M\")"
   ]
  },
  {
   "cell_type": "code",
   "execution_count": 5,
   "metadata": {
    "colab": {},
    "colab_type": "code",
    "id": "AmRtNkL2O062"
   },
   "outputs": [],
   "source": [
    "training_df = training_df.assign(timeOfDay=pd.cut(training_df.pickup_time.dt.hour,[-1, 8, 20, 24],labels=['dawn','day', 'night']))"
   ]
  },
  {
   "cell_type": "code",
   "execution_count": 6,
   "metadata": {},
   "outputs": [],
   "source": [
    "training_df.loc[training_df['timeOfDay'] == 'day', 'isNormalCharge'] = 1\n",
    "training_df.loc[training_df['timeOfDay'] != 'day', 'isNormalCharge'] = 0"
   ]
  },
  {
   "cell_type": "code",
   "execution_count": 7,
   "metadata": {
    "colab": {},
    "colab_type": "code",
    "id": "q4CFd-NqO2Un"
   },
   "outputs": [],
   "source": [
    "durations = []\n",
    "for index,row in training_df.iterrows():\n",
    "  provided_duration = row['duration'] #first row of location.lat column here\n",
    "  if math.isnan(provided_duration) or provided_duration <= 0 :\n",
    "    time_dif = (row['drop_time'] - row['pickup_time']).seconds\n",
    "    if(time_dif == 0):\n",
    "        time_dif = np.nan\n",
    "    durations.append(time_dif)\n",
    "  else :  \n",
    "    durations.append(provided_duration)\n",
    "\n",
    "training_df.insert(4,\"time_dif\",durations)"
   ]
  },
  {
   "cell_type": "code",
   "execution_count": 8,
   "metadata": {
    "colab": {},
    "colab_type": "code",
    "id": "OKJBD2vsO6bJ"
   },
   "outputs": [],
   "source": [
    "new_column = []                    #empty column for distance\n",
    "for index,row in training_df.iterrows():\n",
    "  lat1 = row['pick_lat'] #first row of location.lat column here\n",
    "  lon1 = row['pick_lon'] #first row of location.long column here\n",
    "  lat2 = row['drop_lat'] #second row of location.lat column here\n",
    "  lon2 = row['drop_lon'] #second row of location.long column here\n",
    "  value = dist_from_coordinates(lat1, lon1, lat2, lon2)  #get the distance\n",
    "  new_column.append(value)   #append the empty list with distance values\n",
    "\n",
    "training_df.insert(4,\"distance\",new_column)"
   ]
  },
  {
   "cell_type": "code",
   "execution_count": 9,
   "metadata": {
    "colab": {},
    "colab_type": "code",
    "id": "EDFvgdsoO8rC"
   },
   "outputs": [],
   "source": [
    "training_df['time_driven'] = training_df['duration']  - training_df['meter_waiting']"
   ]
  },
  {
   "cell_type": "code",
   "execution_count": 10,
   "metadata": {
    "colab": {},
    "colab_type": "code",
    "id": "eQOTKxsNO-CH"
   },
   "outputs": [],
   "source": [
    "chargeperhours = []\n",
    "for index,row in training_df.iterrows():\n",
    "    if(row['meter_waiting'] == 0):\n",
    "        chargeperhour = np.nan\n",
    "    else:\n",
    "        chargeperhour = (row['meter_waiting_fare'] / row['meter_waiting'] * 3600)\n",
    "    chargeperhours.append(chargeperhour)\n",
    "\n",
    "training_df.insert(4,'charge_per_hour',chargeperhours)\n"
   ]
  },
  {
   "cell_type": "code",
   "execution_count": 11,
   "metadata": {
    "colab": {},
    "colab_type": "code",
    "id": "c9OpngXwPAiv"
   },
   "outputs": [],
   "source": [
    "training_df['driving_fare'] = training_df['fare']  - training_df['meter_waiting_fare'] - training_df['additional_fare']"
   ]
  },
  {
   "cell_type": "code",
   "execution_count": 12,
   "metadata": {
    "colab": {},
    "colab_type": "code",
    "id": "ECO9WaT5PB6O"
   },
   "outputs": [],
   "source": [
    "avgspeeds = []\n",
    "for index,row in training_df.iterrows():\n",
    "    if(row['time_driven'] == 0):\n",
    "        avgspeed = np.nan\n",
    "    else:\n",
    "        avgspeed = (row['distance'] / row['time_driven'] * 3600)\n",
    "    avgspeeds.append(avgspeed)\n",
    "\n",
    "training_df.insert(4,\"avg_speed\",avgspeeds)\n",
    "\n"
   ]
  },
  {
   "cell_type": "code",
   "execution_count": 13,
   "metadata": {
    "colab": {},
    "colab_type": "code",
    "id": "j1DDDw52PGUY"
   },
   "outputs": [],
   "source": [
    "costsperkm = []\n",
    "for index,row in training_df.iterrows():\n",
    "    if row['distance'] == 0:\n",
    "        costperkm = np.nan\n",
    "            \n",
    "    else:\n",
    "        costperkm = (row['driving_fare'] / row['distance'])\n",
    "    costsperkm.append(costperkm)\n",
    "\n",
    "training_df.insert(4,\"cost_per_km\",costsperkm)"
   ]
  },
  {
   "cell_type": "code",
   "execution_count": 14,
   "metadata": {
    "colab": {},
    "colab_type": "code",
    "id": "zVsGZhgQrktE"
   },
   "outputs": [],
   "source": [
    "training_df = training_df.replace({'label': {'incorrect': 0, 'correct' : 1}})"
   ]
  },
  {
   "cell_type": "code",
   "execution_count": 15,
   "metadata": {},
   "outputs": [
    {
     "data": {
      "text/plain": [
       "Index(['additional_fare', 'duration', 'meter_waiting', 'meter_waiting_fare',\n",
       "       'cost_per_km', 'avg_speed', 'charge_per_hour', 'distance', 'time_dif',\n",
       "       'meter_waiting_till_pickup', 'pickup_time', 'drop_time', 'pick_lat',\n",
       "       'pick_lon', 'drop_lat', 'drop_lon', 'fare', 'label', 'timeOfDay',\n",
       "       'isNormalCharge', 'time_driven', 'driving_fare'],\n",
       "      dtype='object')"
      ]
     },
     "execution_count": 15,
     "metadata": {},
     "output_type": "execute_result"
    }
   ],
   "source": [
    "training_df.columns"
   ]
  },
  {
   "cell_type": "code",
   "execution_count": 16,
   "metadata": {},
   "outputs": [],
   "source": [
    "training_columns = ['meter_waiting','meter_waiting_fare','fare','additional_fare', 'distance','cost_per_km', 'avg_speed',  'time_dif','time_driven', 'charge_per_hour', 'driving_fare', 'isNormalCharge','pick_lat','pick_lon','drop_lat','drop_lon']"
   ]
  },
  {
   "cell_type": "code",
   "execution_count": 17,
   "metadata": {
    "colab": {},
    "colab_type": "code",
    "id": "tnbpcAUqruuZ"
   },
   "outputs": [],
   "source": [
    "target_column = ['label']"
   ]
  },
  {
   "cell_type": "code",
   "execution_count": 18,
   "metadata": {},
   "outputs": [],
   "source": [
    "training_df = training_df.drop(190167541)"
   ]
  },
  {
   "cell_type": "code",
   "execution_count": 19,
   "metadata": {
    "colab": {},
    "colab_type": "code",
    "id": "PrUJfvL1r4pI"
   },
   "outputs": [],
   "source": [
    "x = training_df[training_columns].values\n",
    "y = training_df[target_column].values"
   ]
  },
  {
   "cell_type": "code",
   "execution_count": 20,
   "metadata": {
    "colab": {},
    "colab_type": "code",
    "id": "Xfow1Vm-sBI9"
   },
   "outputs": [],
   "source": [
    "x, x_test, y, y_test = train_test_split(x, y, test_size=0.2, random_state=42, stratify=y)"
   ]
  },
  {
   "cell_type": "code",
   "execution_count": 21,
   "metadata": {},
   "outputs": [
    {
     "data": {
      "text/plain": [
       "1    15494\n",
       "0     1681\n",
       "Name: label, dtype: int64"
      ]
     },
     "execution_count": 21,
     "metadata": {},
     "output_type": "execute_result"
    }
   ],
   "source": [
    "training_df['label'].value_counts()"
   ]
  },
  {
   "cell_type": "markdown",
   "metadata": {},
   "source": [
    "<h2>Choosing the best model</h2>"
   ]
  },
  {
   "cell_type": "code",
   "execution_count": 22,
   "metadata": {},
   "outputs": [],
   "source": [
    "def focal_loss_lgb_eval_error(y_true, y_pred, alpha=.25, gamma=2.):\n",
    "    a,g = alpha, gamma\n",
    "    p = 1/(1+np.exp(-y_pred))\n",
    "    loss = -( a*y_true + (1-a)*(1-y_true) ) * (( 1 - ( y_true*p + (1-y_true)*(1-p)) )**g) * ( y_true*np.log(p)+(1-y_true)*np.log(1-p) )\n",
    "    return 'focal_loss', np.mean(loss), False"
   ]
  },
  {
   "cell_type": "code",
   "execution_count": 23,
   "metadata": {},
   "outputs": [],
   "source": [
    "from sklearn.metrics import f1_score\n",
    "def evaluate_macroF1_lgb(y_true, y_pred):  \n",
    "    y_hat = np.where(y_pred < 0.5, 0, 1) \n",
    "    f1 = f1_score(y_true, y_hat, average='macro')\n",
    "    return ('macroF1', f1, True) "
   ]
  },
  {
   "cell_type": "code",
   "execution_count": 24,
   "metadata": {},
   "outputs": [],
   "source": [
    "gkf = StratifiedKFold(n_splits=5, shuffle=True, random_state=42)"
   ]
  },
  {
   "cell_type": "code",
   "execution_count": 26,
   "metadata": {},
   "outputs": [],
   "source": [
    "model = lightgbm.LGBMClassifier(class_weight={0:1.25,1:1}, learning_rate=0.1)"
   ]
  },
  {
   "cell_type": "code",
   "execution_count": 27,
   "metadata": {},
   "outputs": [
    {
     "name": "stderr",
     "output_type": "stream",
     "text": [
      "/usr/local/lib/python3.6/dist-packages/sklearn/preprocessing/_label.py:235: DataConversionWarning: A column-vector y was passed when a 1d array was expected. Please change the shape of y to (n_samples, ), for example using ravel().\n",
      "  y = column_or_1d(y, warn=True)\n",
      "/usr/local/lib/python3.6/dist-packages/sklearn/preprocessing/_label.py:268: DataConversionWarning: A column-vector y was passed when a 1d array was expected. Please change the shape of y to (n_samples, ), for example using ravel().\n",
      "  y = column_or_1d(y, warn=True)\n"
     ]
    },
    {
     "name": "stdout",
     "output_type": "stream",
     "text": [
      "[1]\tvalid_0's binary_logloss: 0.279743\tvalid_0's macroF1: 0.474268\n",
      "[2]\tvalid_0's binary_logloss: 0.256452\tvalid_0's macroF1: 0.474268\n",
      "[3]\tvalid_0's binary_logloss: 0.239624\tvalid_0's macroF1: 0.474268\n",
      "[4]\tvalid_0's binary_logloss: 0.227107\tvalid_0's macroF1: 0.474268\n",
      "[5]\tvalid_0's binary_logloss: 0.216238\tvalid_0's macroF1: 0.675978\n",
      "[6]\tvalid_0's binary_logloss: 0.206864\tvalid_0's macroF1: 0.728548\n",
      "[7]\tvalid_0's binary_logloss: 0.198954\tvalid_0's macroF1: 0.791522\n",
      "[8]\tvalid_0's binary_logloss: 0.19217\tvalid_0's macroF1: 0.805833\n",
      "[9]\tvalid_0's binary_logloss: 0.186306\tvalid_0's macroF1: 0.816965\n",
      "[10]\tvalid_0's binary_logloss: 0.181381\tvalid_0's macroF1: 0.82517\n",
      "[11]\tvalid_0's binary_logloss: 0.176879\tvalid_0's macroF1: 0.830061\n",
      "[12]\tvalid_0's binary_logloss: 0.173307\tvalid_0's macroF1: 0.836483\n",
      "[13]\tvalid_0's binary_logloss: 0.169471\tvalid_0's macroF1: 0.841637\n",
      "[14]\tvalid_0's binary_logloss: 0.167151\tvalid_0's macroF1: 0.83806\n",
      "[15]\tvalid_0's binary_logloss: 0.164392\tvalid_0's macroF1: 0.840014\n",
      "[16]\tvalid_0's binary_logloss: 0.16216\tvalid_0's macroF1: 0.843675\n",
      "[17]\tvalid_0's binary_logloss: 0.159698\tvalid_0's macroF1: 0.845177\n",
      "[18]\tvalid_0's binary_logloss: 0.157859\tvalid_0's macroF1: 0.842795\n",
      "[19]\tvalid_0's binary_logloss: 0.156208\tvalid_0's macroF1: 0.848161\n",
      "[20]\tvalid_0's binary_logloss: 0.154916\tvalid_0's macroF1: 0.846395\n",
      "[21]\tvalid_0's binary_logloss: 0.1537\tvalid_0's macroF1: 0.850819\n",
      "[22]\tvalid_0's binary_logloss: 0.152082\tvalid_0's macroF1: 0.84935\n",
      "[23]\tvalid_0's binary_logloss: 0.150065\tvalid_0's macroF1: 0.855749\n",
      "[24]\tvalid_0's binary_logloss: 0.149213\tvalid_0's macroF1: 0.855749\n",
      "[25]\tvalid_0's binary_logloss: 0.148522\tvalid_0's macroF1: 0.855749\n",
      "[26]\tvalid_0's binary_logloss: 0.147581\tvalid_0's macroF1: 0.855973\n",
      "[27]\tvalid_0's binary_logloss: 0.146267\tvalid_0's macroF1: 0.859697\n",
      "[28]\tvalid_0's binary_logloss: 0.145414\tvalid_0's macroF1: 0.86252\n",
      "[29]\tvalid_0's binary_logloss: 0.145041\tvalid_0's macroF1: 0.8576\n",
      "[30]\tvalid_0's binary_logloss: 0.143964\tvalid_0's macroF1: 0.859878\n",
      "[31]\tvalid_0's binary_logloss: 0.143798\tvalid_0's macroF1: 0.860756\n",
      "[32]\tvalid_0's binary_logloss: 0.142991\tvalid_0's macroF1: 0.85673\n",
      "[33]\tvalid_0's binary_logloss: 0.142577\tvalid_0's macroF1: 0.860403\n",
      "[34]\tvalid_0's binary_logloss: 0.142422\tvalid_0's macroF1: 0.859004\n",
      "[35]\tvalid_0's binary_logloss: 0.142098\tvalid_0's macroF1: 0.860756\n",
      "[36]\tvalid_0's binary_logloss: 0.14198\tvalid_0's macroF1: 0.858473\n",
      "[37]\tvalid_0's binary_logloss: 0.141432\tvalid_0's macroF1: 0.8576\n",
      "[38]\tvalid_0's binary_logloss: 0.141538\tvalid_0's macroF1: 0.8576\n",
      "[39]\tvalid_0's binary_logloss: 0.141183\tvalid_0's macroF1: 0.859004\n",
      "[40]\tvalid_0's binary_logloss: 0.141206\tvalid_0's macroF1: 0.859004\n",
      "[41]\tvalid_0's binary_logloss: 0.140845\tvalid_0's macroF1: 0.859878\n",
      "[42]\tvalid_0's binary_logloss: 0.140964\tvalid_0's macroF1: 0.859878\n",
      "[43]\tvalid_0's binary_logloss: 0.140656\tvalid_0's macroF1: 0.858473\n",
      "[44]\tvalid_0's binary_logloss: 0.140513\tvalid_0's macroF1: 0.858473\n",
      "[45]\tvalid_0's binary_logloss: 0.14051\tvalid_0's macroF1: 0.85673\n",
      "[46]\tvalid_0's binary_logloss: 0.140691\tvalid_0's macroF1: 0.85673\n",
      "[47]\tvalid_0's binary_logloss: 0.140813\tvalid_0's macroF1: 0.858133\n",
      "[48]\tvalid_0's binary_logloss: 0.140917\tvalid_0's macroF1: 0.858133\n",
      "[49]\tvalid_0's binary_logloss: 0.140869\tvalid_0's macroF1: 0.85673\n",
      "[50]\tvalid_0's binary_logloss: 0.141276\tvalid_0's macroF1: 0.858133\n",
      "[51]\tvalid_0's binary_logloss: 0.141115\tvalid_0's macroF1: 0.858133\n",
      "[52]\tvalid_0's binary_logloss: 0.140855\tvalid_0's macroF1: 0.855321\n",
      "[53]\tvalid_0's binary_logloss: 0.140595\tvalid_0's macroF1: 0.855863\n",
      "[54]\tvalid_0's binary_logloss: 0.140662\tvalid_0's macroF1: 0.855863\n",
      "[55]\tvalid_0's binary_logloss: 0.140858\tvalid_0's macroF1: 0.855863\n",
      "[56]\tvalid_0's binary_logloss: 0.140824\tvalid_0's macroF1: 0.859531\n",
      "[57]\tvalid_0's binary_logloss: 0.141038\tvalid_0's macroF1: 0.859531\n",
      "[58]\tvalid_0's binary_logloss: 0.141229\tvalid_0's macroF1: 0.859531\n",
      "[59]\tvalid_0's binary_logloss: 0.141445\tvalid_0's macroF1: 0.85673\n",
      "[60]\tvalid_0's binary_logloss: 0.141645\tvalid_0's macroF1: 0.855863\n",
      "[61]\tvalid_0's binary_logloss: 0.141445\tvalid_0's macroF1: 0.855863\n",
      "[62]\tvalid_0's binary_logloss: 0.141631\tvalid_0's macroF1: 0.857265\n",
      "[63]\tvalid_0's binary_logloss: 0.141542\tvalid_0's macroF1: 0.858661\n",
      "[64]\tvalid_0's binary_logloss: 0.141713\tvalid_0's macroF1: 0.855863\n",
      "[65]\tvalid_0's binary_logloss: 0.141811\tvalid_0's macroF1: 0.85673\n",
      "[66]\tvalid_0's binary_logloss: 0.141765\tvalid_0's macroF1: 0.857265\n",
      "[67]\tvalid_0's binary_logloss: 0.141851\tvalid_0's macroF1: 0.8564\n",
      "[68]\tvalid_0's binary_logloss: 0.141704\tvalid_0's macroF1: 0.8564\n",
      "[69]\tvalid_0's binary_logloss: 0.142008\tvalid_0's macroF1: 0.854999\n",
      "[70]\tvalid_0's binary_logloss: 0.142156\tvalid_0's macroF1: 0.854999\n",
      "[71]\tvalid_0's binary_logloss: 0.141892\tvalid_0's macroF1: 0.853593\n",
      "[72]\tvalid_0's binary_logloss: 0.142197\tvalid_0's macroF1: 0.853593\n",
      "[73]\tvalid_0's binary_logloss: 0.142158\tvalid_0's macroF1: 0.852734\n",
      "[74]\tvalid_0's binary_logloss: 0.142365\tvalid_0's macroF1: 0.853593\n",
      "[75]\tvalid_0's binary_logloss: 0.142376\tvalid_0's macroF1: 0.853593\n",
      "[76]\tvalid_0's binary_logloss: 0.14235\tvalid_0's macroF1: 0.854999\n",
      "[77]\tvalid_0's binary_logloss: 0.142383\tvalid_0's macroF1: 0.854139\n",
      "[78]\tvalid_0's binary_logloss: 0.142732\tvalid_0's macroF1: 0.854139\n",
      "[79]\tvalid_0's binary_logloss: 0.142671\tvalid_0's macroF1: 0.854139\n",
      "[80]\tvalid_0's binary_logloss: 0.142664\tvalid_0's macroF1: 0.855538\n",
      "[81]\tvalid_0's binary_logloss: 0.142785\tvalid_0's macroF1: 0.855538\n",
      "[82]\tvalid_0's binary_logloss: 0.142638\tvalid_0's macroF1: 0.855538\n",
      "[83]\tvalid_0's binary_logloss: 0.142437\tvalid_0's macroF1: 0.855538\n",
      "[84]\tvalid_0's binary_logloss: 0.142641\tvalid_0's macroF1: 0.855538\n",
      "[85]\tvalid_0's binary_logloss: 0.142553\tvalid_0's macroF1: 0.856933\n",
      "[86]\tvalid_0's binary_logloss: 0.14275\tvalid_0's macroF1: 0.857796\n",
      "[87]\tvalid_0's binary_logloss: 0.142574\tvalid_0's macroF1: 0.8564\n",
      "[88]\tvalid_0's binary_logloss: 0.142828\tvalid_0's macroF1: 0.857265\n",
      "[89]\tvalid_0's binary_logloss: 0.142878\tvalid_0's macroF1: 0.858133\n",
      "[90]\tvalid_0's binary_logloss: 0.143064\tvalid_0's macroF1: 0.858133\n",
      "[91]\tvalid_0's binary_logloss: 0.143091\tvalid_0's macroF1: 0.858133\n",
      "[92]\tvalid_0's binary_logloss: 0.143279\tvalid_0's macroF1: 0.858133\n",
      "[93]\tvalid_0's binary_logloss: 0.143223\tvalid_0's macroF1: 0.857265\n",
      "[94]\tvalid_0's binary_logloss: 0.143279\tvalid_0's macroF1: 0.857796\n",
      "[95]\tvalid_0's binary_logloss: 0.143363\tvalid_0's macroF1: 0.8564\n",
      "[96]\tvalid_0's binary_logloss: 0.143304\tvalid_0's macroF1: 0.8564\n",
      "[97]\tvalid_0's binary_logloss: 0.143681\tvalid_0's macroF1: 0.8564\n",
      "[98]\tvalid_0's binary_logloss: 0.143735\tvalid_0's macroF1: 0.8564\n",
      "[99]\tvalid_0's binary_logloss: 0.143638\tvalid_0's macroF1: 0.8564\n",
      "[100]\tvalid_0's binary_logloss: 0.143917\tvalid_0's macroF1: 0.8564\n"
     ]
    },
    {
     "name": "stderr",
     "output_type": "stream",
     "text": [
      "/usr/local/lib/python3.6/dist-packages/sklearn/preprocessing/_label.py:235: DataConversionWarning: A column-vector y was passed when a 1d array was expected. Please change the shape of y to (n_samples, ), for example using ravel().\n",
      "  y = column_or_1d(y, warn=True)\n",
      "/usr/local/lib/python3.6/dist-packages/sklearn/preprocessing/_label.py:268: DataConversionWarning: A column-vector y was passed when a 1d array was expected. Please change the shape of y to (n_samples, ), for example using ravel().\n",
      "  y = column_or_1d(y, warn=True)\n"
     ]
    },
    {
     "name": "stdout",
     "output_type": "stream",
     "text": [
      "[1]\tvalid_0's binary_logloss: 0.28237\tvalid_0's macroF1: 0.474268\n",
      "[2]\tvalid_0's binary_logloss: 0.260641\tvalid_0's macroF1: 0.474268\n",
      "[3]\tvalid_0's binary_logloss: 0.24408\tvalid_0's macroF1: 0.474268\n",
      "[4]\tvalid_0's binary_logloss: 0.231841\tvalid_0's macroF1: 0.474268\n",
      "[5]\tvalid_0's binary_logloss: 0.221169\tvalid_0's macroF1: 0.667272\n",
      "[6]\tvalid_0's binary_logloss: 0.212632\tvalid_0's macroF1: 0.692993\n",
      "[7]\tvalid_0's binary_logloss: 0.204097\tvalid_0's macroF1: 0.758875\n",
      "[8]\tvalid_0's binary_logloss: 0.19791\tvalid_0's macroF1: 0.781274\n",
      "[9]\tvalid_0's binary_logloss: 0.19169\tvalid_0's macroF1: 0.801454\n",
      "[10]\tvalid_0's binary_logloss: 0.186831\tvalid_0's macroF1: 0.806675\n",
      "[11]\tvalid_0's binary_logloss: 0.18249\tvalid_0's macroF1: 0.810105\n",
      "[12]\tvalid_0's binary_logloss: 0.179029\tvalid_0's macroF1: 0.809151\n",
      "[13]\tvalid_0's binary_logloss: 0.175555\tvalid_0's macroF1: 0.81083\n",
      "[14]\tvalid_0's binary_logloss: 0.172779\tvalid_0's macroF1: 0.810723\n",
      "[15]\tvalid_0's binary_logloss: 0.169922\tvalid_0's macroF1: 0.811458\n",
      "[16]\tvalid_0's binary_logloss: 0.167315\tvalid_0's macroF1: 0.813088\n",
      "[17]\tvalid_0's binary_logloss: 0.165816\tvalid_0's macroF1: 0.813088\n",
      "[18]\tvalid_0's binary_logloss: 0.164242\tvalid_0's macroF1: 0.816328\n",
      "[19]\tvalid_0's binary_logloss: 0.16294\tvalid_0's macroF1: 0.817937\n",
      "[20]\tvalid_0's binary_logloss: 0.161548\tvalid_0's macroF1: 0.819427\n",
      "[21]\tvalid_0's binary_logloss: 0.160451\tvalid_0's macroF1: 0.82246\n",
      "[22]\tvalid_0's binary_logloss: 0.159187\tvalid_0's macroF1: 0.82246\n",
      "[23]\tvalid_0's binary_logloss: 0.158145\tvalid_0's macroF1: 0.823174\n",
      "[24]\tvalid_0's binary_logloss: 0.157074\tvalid_0's macroF1: 0.826277\n",
      "[25]\tvalid_0's binary_logloss: 0.156723\tvalid_0's macroF1: 0.82713\n",
      "[26]\tvalid_0's binary_logloss: 0.155612\tvalid_0's macroF1: 0.83107\n",
      "[27]\tvalid_0's binary_logloss: 0.155386\tvalid_0's macroF1: 0.83107\n",
      "[28]\tvalid_0's binary_logloss: 0.154901\tvalid_0's macroF1: 0.83107\n",
      "[29]\tvalid_0's binary_logloss: 0.154282\tvalid_0's macroF1: 0.832602\n",
      "[30]\tvalid_0's binary_logloss: 0.154151\tvalid_0's macroF1: 0.835649\n",
      "[31]\tvalid_0's binary_logloss: 0.153492\tvalid_0's macroF1: 0.838671\n",
      "[32]\tvalid_0's binary_logloss: 0.153426\tvalid_0's macroF1: 0.837163\n",
      "[33]\tvalid_0's binary_logloss: 0.153305\tvalid_0's macroF1: 0.834786\n",
      "[34]\tvalid_0's binary_logloss: 0.152605\tvalid_0's macroF1: 0.842541\n",
      "[35]\tvalid_0's binary_logloss: 0.152277\tvalid_0's macroF1: 0.841669\n",
      "[36]\tvalid_0's binary_logloss: 0.152377\tvalid_0's macroF1: 0.83954\n",
      "[37]\tvalid_0's binary_logloss: 0.152209\tvalid_0's macroF1: 0.841044\n",
      "[38]\tvalid_0's binary_logloss: 0.15212\tvalid_0's macroF1: 0.841669\n",
      "[39]\tvalid_0's binary_logloss: 0.151392\tvalid_0's macroF1: 0.839073\n",
      "[40]\tvalid_0's binary_logloss: 0.151482\tvalid_0's macroF1: 0.838214\n",
      "[41]\tvalid_0's binary_logloss: 0.151666\tvalid_0's macroF1: 0.838841\n",
      "[42]\tvalid_0's binary_logloss: 0.151257\tvalid_0's macroF1: 0.841422\n",
      "[43]\tvalid_0's binary_logloss: 0.150998\tvalid_0's macroF1: 0.842903\n",
      "[44]\tvalid_0's binary_logloss: 0.150879\tvalid_0's macroF1: 0.842903\n",
      "[45]\tvalid_0's binary_logloss: 0.15096\tvalid_0's macroF1: 0.841422\n",
      "[46]\tvalid_0's binary_logloss: 0.150782\tvalid_0's macroF1: 0.842903\n",
      "[47]\tvalid_0's binary_logloss: 0.150749\tvalid_0's macroF1: 0.842903\n",
      "[48]\tvalid_0's binary_logloss: 0.150902\tvalid_0's macroF1: 0.841422\n",
      "[49]\tvalid_0's binary_logloss: 0.151406\tvalid_0's macroF1: 0.839698\n",
      "[50]\tvalid_0's binary_logloss: 0.151543\tvalid_0's macroF1: 0.84179\n",
      "[51]\tvalid_0's binary_logloss: 0.151935\tvalid_0's macroF1: 0.837987\n",
      "[52]\tvalid_0's binary_logloss: 0.151592\tvalid_0's macroF1: 0.839698\n",
      "[53]\tvalid_0's binary_logloss: 0.15169\tvalid_0's macroF1: 0.839698\n",
      "[54]\tvalid_0's binary_logloss: 0.15196\tvalid_0's macroF1: 0.838214\n",
      "[55]\tvalid_0's binary_logloss: 0.151676\tvalid_0's macroF1: 0.838214\n",
      "[56]\tvalid_0's binary_logloss: 0.151597\tvalid_0's macroF1: 0.842038\n",
      "[57]\tvalid_0's binary_logloss: 0.151756\tvalid_0's macroF1: 0.842903\n",
      "[58]\tvalid_0's binary_logloss: 0.15161\tvalid_0's macroF1: 0.842903\n",
      "[59]\tvalid_0's binary_logloss: 0.151321\tvalid_0's macroF1: 0.842038\n",
      "[60]\tvalid_0's binary_logloss: 0.151377\tvalid_0's macroF1: 0.843512\n",
      "[61]\tvalid_0's binary_logloss: 0.151641\tvalid_0's macroF1: 0.843512\n",
      "[62]\tvalid_0's binary_logloss: 0.15136\tvalid_0's macroF1: 0.843512\n",
      "[63]\tvalid_0's binary_logloss: 0.151292\tvalid_0's macroF1: 0.84498\n",
      "[64]\tvalid_0's binary_logloss: 0.15133\tvalid_0's macroF1: 0.842649\n",
      "[65]\tvalid_0's binary_logloss: 0.150985\tvalid_0's macroF1: 0.844116\n",
      "[66]\tvalid_0's binary_logloss: 0.15095\tvalid_0's macroF1: 0.844116\n",
      "[67]\tvalid_0's binary_logloss: 0.15093\tvalid_0's macroF1: 0.844378\n",
      "[68]\tvalid_0's binary_logloss: 0.151056\tvalid_0's macroF1: 0.843512\n",
      "[69]\tvalid_0's binary_logloss: 0.151014\tvalid_0's macroF1: 0.842038\n",
      "[70]\tvalid_0's binary_logloss: 0.15101\tvalid_0's macroF1: 0.840558\n",
      "[71]\tvalid_0's binary_logloss: 0.150711\tvalid_0's macroF1: 0.841422\n",
      "[72]\tvalid_0's binary_logloss: 0.150801\tvalid_0's macroF1: 0.842903\n",
      "[73]\tvalid_0's binary_logloss: 0.150703\tvalid_0's macroF1: 0.842903\n",
      "[74]\tvalid_0's binary_logloss: 0.150902\tvalid_0's macroF1: 0.844378\n",
      "[75]\tvalid_0's binary_logloss: 0.150744\tvalid_0's macroF1: 0.847312\n",
      "[76]\tvalid_0's binary_logloss: 0.150915\tvalid_0's macroF1: 0.845848\n",
      "[77]\tvalid_0's binary_logloss: 0.150803\tvalid_0's macroF1: 0.844378\n",
      "[78]\tvalid_0's binary_logloss: 0.150647\tvalid_0's macroF1: 0.844378\n",
      "[79]\tvalid_0's binary_logloss: 0.150617\tvalid_0's macroF1: 0.844378\n",
      "[80]\tvalid_0's binary_logloss: 0.150906\tvalid_0's macroF1: 0.843512\n",
      "[81]\tvalid_0's binary_logloss: 0.150929\tvalid_0's macroF1: 0.84498\n",
      "[82]\tvalid_0's binary_logloss: 0.15091\tvalid_0's macroF1: 0.84498\n",
      "[83]\tvalid_0's binary_logloss: 0.150953\tvalid_0's macroF1: 0.843512\n",
      "[84]\tvalid_0's binary_logloss: 0.150961\tvalid_0's macroF1: 0.843512\n",
      "[85]\tvalid_0's binary_logloss: 0.151014\tvalid_0's macroF1: 0.84498\n",
      "[86]\tvalid_0's binary_logloss: 0.150971\tvalid_0's macroF1: 0.846443\n",
      "[87]\tvalid_0's binary_logloss: 0.151054\tvalid_0's macroF1: 0.84498\n",
      "[88]\tvalid_0's binary_logloss: 0.151092\tvalid_0's macroF1: 0.847899\n",
      "[89]\tvalid_0's binary_logloss: 0.150972\tvalid_0's macroF1: 0.847899\n",
      "[90]\tvalid_0's binary_logloss: 0.1509\tvalid_0's macroF1: 0.846719\n",
      "[91]\tvalid_0's binary_logloss: 0.150938\tvalid_0's macroF1: 0.845248\n",
      "[92]\tvalid_0's binary_logloss: 0.151246\tvalid_0's macroF1: 0.845248\n",
      "[93]\tvalid_0's binary_logloss: 0.151417\tvalid_0's macroF1: 0.845248\n",
      "[94]\tvalid_0's binary_logloss: 0.151542\tvalid_0's macroF1: 0.846121\n",
      "[95]\tvalid_0's binary_logloss: 0.151209\tvalid_0's macroF1: 0.846719\n",
      "[96]\tvalid_0's binary_logloss: 0.151291\tvalid_0's macroF1: 0.845248\n",
      "[97]\tvalid_0's binary_logloss: 0.151742\tvalid_0's macroF1: 0.845248\n",
      "[98]\tvalid_0's binary_logloss: 0.151659\tvalid_0's macroF1: 0.846121\n",
      "[99]\tvalid_0's binary_logloss: 0.151628\tvalid_0's macroF1: 0.846121\n",
      "[100]\tvalid_0's binary_logloss: 0.151751\tvalid_0's macroF1: 0.847593\n",
      "[1]\tvalid_0's binary_logloss: 0.284441\tvalid_0's macroF1: 0.474268\n",
      "[2]\tvalid_0's binary_logloss: 0.26277\tvalid_0's macroF1: 0.474268\n",
      "[3]\tvalid_0's binary_logloss: 0.24701\tvalid_0's macroF1: 0.474268\n",
      "[4]\tvalid_0's binary_logloss: 0.234539\tvalid_0's macroF1: 0.474268\n",
      "[5]\tvalid_0's binary_logloss: 0.223074\tvalid_0's macroF1: 0.517812\n",
      "[6]\tvalid_0's binary_logloss: 0.214654\tvalid_0's macroF1: 0.682656\n",
      "[7]\tvalid_0's binary_logloss: 0.207117\tvalid_0's macroF1: 0.7548\n",
      "[8]\tvalid_0's binary_logloss: 0.200688\tvalid_0's macroF1: 0.775176\n",
      "[9]\tvalid_0's binary_logloss: 0.194901\tvalid_0's macroF1: 0.785676\n",
      "[10]\tvalid_0's binary_logloss: 0.18981\tvalid_0's macroF1: 0.801497\n",
      "[11]\tvalid_0's binary_logloss: 0.185059\tvalid_0's macroF1: 0.809151\n",
      "[12]\tvalid_0's binary_logloss: 0.181479\tvalid_0's macroF1: 0.809968\n",
      "[13]\tvalid_0's binary_logloss: 0.178321\tvalid_0's macroF1: 0.819878\n",
      "[14]\tvalid_0's binary_logloss: 0.175302\tvalid_0's macroF1: 0.817376\n",
      "[15]\tvalid_0's binary_logloss: 0.171905\tvalid_0's macroF1: 0.81642\n",
      "[16]\tvalid_0's binary_logloss: 0.169759\tvalid_0's macroF1: 0.820515\n",
      "[17]\tvalid_0's binary_logloss: 0.167551\tvalid_0's macroF1: 0.817835\n",
      "[18]\tvalid_0's binary_logloss: 0.164909\tvalid_0's macroF1: 0.829016\n",
      "[19]\tvalid_0's binary_logloss: 0.163733\tvalid_0's macroF1: 0.825579\n",
      "[20]\tvalid_0's binary_logloss: 0.161784\tvalid_0's macroF1: 0.830211\n",
      "[21]\tvalid_0's binary_logloss: 0.160512\tvalid_0's macroF1: 0.827654\n",
      "[22]\tvalid_0's binary_logloss: 0.159643\tvalid_0's macroF1: 0.829853\n",
      "[23]\tvalid_0's binary_logloss: 0.158546\tvalid_0's macroF1: 0.831366\n",
      "[24]\tvalid_0's binary_logloss: 0.157852\tvalid_0's macroF1: 0.833725\n",
      "[25]\tvalid_0's binary_logloss: 0.156959\tvalid_0's macroF1: 0.836505\n",
      "[26]\tvalid_0's binary_logloss: 0.156232\tvalid_0's macroF1: 0.835656\n"
     ]
    },
    {
     "name": "stderr",
     "output_type": "stream",
     "text": [
      "/usr/local/lib/python3.6/dist-packages/sklearn/preprocessing/_label.py:235: DataConversionWarning: A column-vector y was passed when a 1d array was expected. Please change the shape of y to (n_samples, ), for example using ravel().\n",
      "  y = column_or_1d(y, warn=True)\n",
      "/usr/local/lib/python3.6/dist-packages/sklearn/preprocessing/_label.py:268: DataConversionWarning: A column-vector y was passed when a 1d array was expected. Please change the shape of y to (n_samples, ), for example using ravel().\n",
      "  y = column_or_1d(y, warn=True)\n"
     ]
    },
    {
     "name": "stdout",
     "output_type": "stream",
     "text": [
      "[27]\tvalid_0's binary_logloss: 0.155174\tvalid_0's macroF1: 0.836289\n",
      "[28]\tvalid_0's binary_logloss: 0.154383\tvalid_0's macroF1: 0.840318\n",
      "[29]\tvalid_0's binary_logloss: 0.153964\tvalid_0's macroF1: 0.841177\n",
      "[30]\tvalid_0's binary_logloss: 0.153741\tvalid_0's macroF1: 0.840933\n",
      "[31]\tvalid_0's binary_logloss: 0.153124\tvalid_0's macroF1: 0.842397\n",
      "[32]\tvalid_0's binary_logloss: 0.152769\tvalid_0's macroF1: 0.840933\n",
      "[33]\tvalid_0's binary_logloss: 0.152829\tvalid_0's macroF1: 0.842397\n",
      "[34]\tvalid_0's binary_logloss: 0.152592\tvalid_0's macroF1: 0.840318\n",
      "[35]\tvalid_0's binary_logloss: 0.152481\tvalid_0's macroF1: 0.840079\n",
      "[36]\tvalid_0's binary_logloss: 0.152555\tvalid_0's macroF1: 0.840933\n",
      "[37]\tvalid_0's binary_logloss: 0.152622\tvalid_0's macroF1: 0.842397\n",
      "[38]\tvalid_0's binary_logloss: 0.152059\tvalid_0's macroF1: 0.844715\n",
      "[39]\tvalid_0's binary_logloss: 0.15126\tvalid_0's macroF1: 0.844116\n",
      "[40]\tvalid_0's binary_logloss: 0.150972\tvalid_0's macroF1: 0.845577\n",
      "[41]\tvalid_0's binary_logloss: 0.150528\tvalid_0's macroF1: 0.845577\n",
      "[42]\tvalid_0's binary_logloss: 0.150802\tvalid_0's macroF1: 0.844116\n",
      "[43]\tvalid_0's binary_logloss: 0.15093\tvalid_0's macroF1: 0.842397\n",
      "[44]\tvalid_0's binary_logloss: 0.151016\tvalid_0's macroF1: 0.842397\n",
      "[45]\tvalid_0's binary_logloss: 0.150851\tvalid_0's macroF1: 0.841542\n",
      "[46]\tvalid_0's binary_logloss: 0.150716\tvalid_0's macroF1: 0.841542\n",
      "[47]\tvalid_0's binary_logloss: 0.150241\tvalid_0's macroF1: 0.841542\n",
      "[48]\tvalid_0's binary_logloss: 0.150064\tvalid_0's macroF1: 0.841542\n",
      "[49]\tvalid_0's binary_logloss: 0.149948\tvalid_0's macroF1: 0.840079\n",
      "[50]\tvalid_0's binary_logloss: 0.150062\tvalid_0's macroF1: 0.840079\n",
      "[51]\tvalid_0's binary_logloss: 0.150327\tvalid_0's macroF1: 0.840079\n",
      "[52]\tvalid_0's binary_logloss: 0.150161\tvalid_0's macroF1: 0.840079\n",
      "[53]\tvalid_0's binary_logloss: 0.149825\tvalid_0's macroF1: 0.839229\n",
      "[54]\tvalid_0's binary_logloss: 0.149816\tvalid_0's macroF1: 0.840079\n",
      "[55]\tvalid_0's binary_logloss: 0.149461\tvalid_0's macroF1: 0.840079\n",
      "[56]\tvalid_0's binary_logloss: 0.149574\tvalid_0's macroF1: 0.840933\n",
      "[57]\tvalid_0's binary_logloss: 0.149435\tvalid_0's macroF1: 0.842397\n",
      "[58]\tvalid_0's binary_logloss: 0.149531\tvalid_0's macroF1: 0.842397\n",
      "[59]\tvalid_0's binary_logloss: 0.149752\tvalid_0's macroF1: 0.842397\n",
      "[60]\tvalid_0's binary_logloss: 0.149759\tvalid_0's macroF1: 0.843255\n",
      "[61]\tvalid_0's binary_logloss: 0.149806\tvalid_0's macroF1: 0.843856\n",
      "[62]\tvalid_0's binary_logloss: 0.150131\tvalid_0's macroF1: 0.843856\n",
      "[63]\tvalid_0's binary_logloss: 0.150184\tvalid_0's macroF1: 0.844715\n",
      "[64]\tvalid_0's binary_logloss: 0.14996\tvalid_0's macroF1: 0.844715\n",
      "[65]\tvalid_0's binary_logloss: 0.150307\tvalid_0's macroF1: 0.843255\n",
      "[66]\tvalid_0's binary_logloss: 0.150254\tvalid_0's macroF1: 0.843255\n",
      "[67]\tvalid_0's binary_logloss: 0.150208\tvalid_0's macroF1: 0.844715\n",
      "[68]\tvalid_0's binary_logloss: 0.149994\tvalid_0's macroF1: 0.844715\n",
      "[69]\tvalid_0's binary_logloss: 0.149979\tvalid_0's macroF1: 0.844715\n",
      "[70]\tvalid_0's binary_logloss: 0.150013\tvalid_0's macroF1: 0.844715\n",
      "[71]\tvalid_0's binary_logloss: 0.150044\tvalid_0's macroF1: 0.846169\n",
      "[72]\tvalid_0's binary_logloss: 0.150182\tvalid_0's macroF1: 0.846169\n",
      "[73]\tvalid_0's binary_logloss: 0.150171\tvalid_0's macroF1: 0.847033\n",
      "[74]\tvalid_0's binary_logloss: 0.149908\tvalid_0's macroF1: 0.847033\n",
      "[75]\tvalid_0's binary_logloss: 0.149959\tvalid_0's macroF1: 0.847033\n",
      "[76]\tvalid_0's binary_logloss: 0.149889\tvalid_0's macroF1: 0.842397\n",
      "[77]\tvalid_0's binary_logloss: 0.149836\tvalid_0's macroF1: 0.842397\n",
      "[78]\tvalid_0's binary_logloss: 0.149808\tvalid_0's macroF1: 0.842397\n",
      "[79]\tvalid_0's binary_logloss: 0.149662\tvalid_0's macroF1: 0.841542\n",
      "[80]\tvalid_0's binary_logloss: 0.149812\tvalid_0's macroF1: 0.840079\n",
      "[81]\tvalid_0's binary_logloss: 0.149864\tvalid_0's macroF1: 0.840079\n",
      "[82]\tvalid_0's binary_logloss: 0.149503\tvalid_0's macroF1: 0.840933\n",
      "[83]\tvalid_0's binary_logloss: 0.149537\tvalid_0's macroF1: 0.840933\n",
      "[84]\tvalid_0's binary_logloss: 0.149506\tvalid_0's macroF1: 0.842397\n",
      "[85]\tvalid_0's binary_logloss: 0.149889\tvalid_0's macroF1: 0.844116\n",
      "[86]\tvalid_0's binary_logloss: 0.150121\tvalid_0's macroF1: 0.842397\n",
      "[87]\tvalid_0's binary_logloss: 0.150192\tvalid_0's macroF1: 0.842649\n",
      "[88]\tvalid_0's binary_logloss: 0.150388\tvalid_0's macroF1: 0.84179\n",
      "[89]\tvalid_0's binary_logloss: 0.150464\tvalid_0's macroF1: 0.84179\n",
      "[90]\tvalid_0's binary_logloss: 0.150348\tvalid_0's macroF1: 0.843512\n",
      "[91]\tvalid_0's binary_logloss: 0.15041\tvalid_0's macroF1: 0.84498\n",
      "[92]\tvalid_0's binary_logloss: 0.150695\tvalid_0's macroF1: 0.843512\n",
      "[93]\tvalid_0's binary_logloss: 0.150803\tvalid_0's macroF1: 0.843512\n",
      "[94]\tvalid_0's binary_logloss: 0.150959\tvalid_0's macroF1: 0.843512\n",
      "[95]\tvalid_0's binary_logloss: 0.150682\tvalid_0's macroF1: 0.841177\n",
      "[96]\tvalid_0's binary_logloss: 0.150411\tvalid_0's macroF1: 0.842649\n",
      "[97]\tvalid_0's binary_logloss: 0.15069\tvalid_0's macroF1: 0.839698\n",
      "[98]\tvalid_0's binary_logloss: 0.150688\tvalid_0's macroF1: 0.839698\n",
      "[99]\tvalid_0's binary_logloss: 0.150837\tvalid_0's macroF1: 0.839698\n",
      "[100]\tvalid_0's binary_logloss: 0.150898\tvalid_0's macroF1: 0.841177\n"
     ]
    },
    {
     "name": "stderr",
     "output_type": "stream",
     "text": [
      "/usr/local/lib/python3.6/dist-packages/sklearn/preprocessing/_label.py:235: DataConversionWarning: A column-vector y was passed when a 1d array was expected. Please change the shape of y to (n_samples, ), for example using ravel().\n",
      "  y = column_or_1d(y, warn=True)\n",
      "/usr/local/lib/python3.6/dist-packages/sklearn/preprocessing/_label.py:268: DataConversionWarning: A column-vector y was passed when a 1d array was expected. Please change the shape of y to (n_samples, ), for example using ravel().\n",
      "  y = column_or_1d(y, warn=True)\n"
     ]
    },
    {
     "name": "stdout",
     "output_type": "stream",
     "text": [
      "[1]\tvalid_0's binary_logloss: 0.280216\tvalid_0's macroF1: 0.474268\n",
      "[2]\tvalid_0's binary_logloss: 0.258215\tvalid_0's macroF1: 0.474268\n",
      "[3]\tvalid_0's binary_logloss: 0.24134\tvalid_0's macroF1: 0.474268\n",
      "[4]\tvalid_0's binary_logloss: 0.227581\tvalid_0's macroF1: 0.48183\n",
      "[5]\tvalid_0's binary_logloss: 0.21563\tvalid_0's macroF1: 0.661493\n",
      "[6]\tvalid_0's binary_logloss: 0.20543\tvalid_0's macroF1: 0.744995\n",
      "[7]\tvalid_0's binary_logloss: 0.196932\tvalid_0's macroF1: 0.783149\n",
      "[8]\tvalid_0's binary_logloss: 0.189591\tvalid_0's macroF1: 0.807598\n",
      "[9]\tvalid_0's binary_logloss: 0.183296\tvalid_0's macroF1: 0.815351\n",
      "[10]\tvalid_0's binary_logloss: 0.178264\tvalid_0's macroF1: 0.81865\n",
      "[11]\tvalid_0's binary_logloss: 0.17362\tvalid_0's macroF1: 0.823392\n",
      "[12]\tvalid_0's binary_logloss: 0.169823\tvalid_0's macroF1: 0.824881\n",
      "[13]\tvalid_0's binary_logloss: 0.166428\tvalid_0's macroF1: 0.832699\n",
      "[14]\tvalid_0's binary_logloss: 0.162765\tvalid_0's macroF1: 0.832699\n",
      "[15]\tvalid_0's binary_logloss: 0.159626\tvalid_0's macroF1: 0.834951\n",
      "[16]\tvalid_0's binary_logloss: 0.156735\tvalid_0's macroF1: 0.838717\n",
      "[17]\tvalid_0's binary_logloss: 0.154567\tvalid_0's macroF1: 0.840654\n",
      "[18]\tvalid_0's binary_logloss: 0.152321\tvalid_0's macroF1: 0.840654\n",
      "[19]\tvalid_0's binary_logloss: 0.150465\tvalid_0's macroF1: 0.841289\n",
      "[20]\tvalid_0's binary_logloss: 0.148798\tvalid_0's macroF1: 0.842795\n",
      "[21]\tvalid_0's binary_logloss: 0.147213\tvalid_0's macroF1: 0.841289\n",
      "[22]\tvalid_0's binary_logloss: 0.145583\tvalid_0's macroF1: 0.841289\n",
      "[23]\tvalid_0's binary_logloss: 0.144347\tvalid_0's macroF1: 0.841918\n",
      "[24]\tvalid_0's binary_logloss: 0.143282\tvalid_0's macroF1: 0.842795\n",
      "[25]\tvalid_0's binary_logloss: 0.14226\tvalid_0's macroF1: 0.843675\n",
      "[26]\tvalid_0's binary_logloss: 0.141248\tvalid_0's macroF1: 0.846062\n",
      "[27]\tvalid_0's binary_logloss: 0.140257\tvalid_0's macroF1: 0.847276\n",
      "[28]\tvalid_0's binary_logloss: 0.139709\tvalid_0's macroF1: 0.844295\n",
      "[29]\tvalid_0's binary_logloss: 0.138771\tvalid_0's macroF1: 0.845789\n",
      "[30]\tvalid_0's binary_logloss: 0.138361\tvalid_0's macroF1: 0.848161\n",
      "[31]\tvalid_0's binary_logloss: 0.137676\tvalid_0's macroF1: 0.847876\n",
      "[32]\tvalid_0's binary_logloss: 0.137068\tvalid_0's macroF1: 0.850534\n",
      "[33]\tvalid_0's binary_logloss: 0.136159\tvalid_0's macroF1: 0.847276\n",
      "[34]\tvalid_0's binary_logloss: 0.135807\tvalid_0's macroF1: 0.847876\n",
      "[35]\tvalid_0's binary_logloss: 0.135534\tvalid_0's macroF1: 0.849644\n",
      "[36]\tvalid_0's binary_logloss: 0.13567\tvalid_0's macroF1: 0.850234\n",
      "[37]\tvalid_0's binary_logloss: 0.13529\tvalid_0's macroF1: 0.848758\n",
      "[38]\tvalid_0's binary_logloss: 0.135091\tvalid_0's macroF1: 0.848758\n",
      "[39]\tvalid_0's binary_logloss: 0.134806\tvalid_0's macroF1: 0.851121\n",
      "[40]\tvalid_0's binary_logloss: 0.134769\tvalid_0's macroF1: 0.852593\n",
      "[41]\tvalid_0's binary_logloss: 0.134817\tvalid_0's macroF1: 0.850819\n",
      "[42]\tvalid_0's binary_logloss: 0.134562\tvalid_0's macroF1: 0.851704\n",
      "[43]\tvalid_0's binary_logloss: 0.134467\tvalid_0's macroF1: 0.850234\n",
      "[44]\tvalid_0's binary_logloss: 0.134746\tvalid_0's macroF1: 0.850234\n",
      "[45]\tvalid_0's binary_logloss: 0.134566\tvalid_0's macroF1: 0.851121\n",
      "[46]\tvalid_0's binary_logloss: 0.134344\tvalid_0's macroF1: 0.849644\n",
      "[47]\tvalid_0's binary_logloss: 0.134467\tvalid_0's macroF1: 0.849644\n",
      "[48]\tvalid_0's binary_logloss: 0.134556\tvalid_0's macroF1: 0.851121\n",
      "[49]\tvalid_0's binary_logloss: 0.134361\tvalid_0's macroF1: 0.851704\n",
      "[50]\tvalid_0's binary_logloss: 0.134404\tvalid_0's macroF1: 0.853739\n",
      "[51]\tvalid_0's binary_logloss: 0.134546\tvalid_0's macroF1: 0.851974\n",
      "[52]\tvalid_0's binary_logloss: 0.134216\tvalid_0's macroF1: 0.852855\n",
      "[53]\tvalid_0's binary_logloss: 0.134386\tvalid_0's macroF1: 0.851974\n",
      "[54]\tvalid_0's binary_logloss: 0.134795\tvalid_0's macroF1: 0.850519\n",
      "[55]\tvalid_0's binary_logloss: 0.134807\tvalid_0's macroF1: 0.849643\n",
      "[56]\tvalid_0's binary_logloss: 0.135018\tvalid_0's macroF1: 0.851974\n",
      "[57]\tvalid_0's binary_logloss: 0.134876\tvalid_0's macroF1: 0.851974\n",
      "[58]\tvalid_0's binary_logloss: 0.134744\tvalid_0's macroF1: 0.853423\n",
      "[59]\tvalid_0's binary_logloss: 0.134517\tvalid_0's macroF1: 0.853423\n",
      "[60]\tvalid_0's binary_logloss: 0.134295\tvalid_0's macroF1: 0.853423\n",
      "[61]\tvalid_0's binary_logloss: 0.134255\tvalid_0's macroF1: 0.853986\n",
      "[62]\tvalid_0's binary_logloss: 0.134248\tvalid_0's macroF1: 0.853986\n",
      "[63]\tvalid_0's binary_logloss: 0.134334\tvalid_0's macroF1: 0.853986\n",
      "[64]\tvalid_0's binary_logloss: 0.13466\tvalid_0's macroF1: 0.853986\n",
      "[65]\tvalid_0's binary_logloss: 0.134447\tvalid_0's macroF1: 0.853109\n",
      "[66]\tvalid_0's binary_logloss: 0.134723\tvalid_0's macroF1: 0.853109\n",
      "[67]\tvalid_0's binary_logloss: 0.134736\tvalid_0's macroF1: 0.851668\n",
      "[68]\tvalid_0's binary_logloss: 0.134835\tvalid_0's macroF1: 0.853109\n",
      "[69]\tvalid_0's binary_logloss: 0.134803\tvalid_0's macroF1: 0.850795\n",
      "[70]\tvalid_0's binary_logloss: 0.13523\tvalid_0's macroF1: 0.850497\n",
      "[71]\tvalid_0's binary_logloss: 0.135454\tvalid_0's macroF1: 0.850497\n",
      "[72]\tvalid_0's binary_logloss: 0.135667\tvalid_0's macroF1: 0.852797\n",
      "[73]\tvalid_0's binary_logloss: 0.135551\tvalid_0's macroF1: 0.851929\n",
      "[74]\tvalid_0's binary_logloss: 0.135359\tvalid_0's macroF1: 0.851929\n",
      "[75]\tvalid_0's binary_logloss: 0.135103\tvalid_0's macroF1: 0.852797\n",
      "[76]\tvalid_0's binary_logloss: 0.134973\tvalid_0's macroF1: 0.851929\n",
      "[77]\tvalid_0's binary_logloss: 0.134838\tvalid_0's macroF1: 0.851929\n",
      "[78]\tvalid_0's binary_logloss: 0.134861\tvalid_0's macroF1: 0.849633\n",
      "[79]\tvalid_0's binary_logloss: 0.134902\tvalid_0's macroF1: 0.851063\n",
      "[80]\tvalid_0's binary_logloss: 0.134977\tvalid_0's macroF1: 0.84906\n",
      "[81]\tvalid_0's binary_logloss: 0.135043\tvalid_0's macroF1: 0.850497\n",
      "[82]\tvalid_0's binary_logloss: 0.135086\tvalid_0's macroF1: 0.848772\n",
      "[83]\tvalid_0's binary_logloss: 0.135433\tvalid_0's macroF1: 0.847337\n",
      "[84]\tvalid_0's binary_logloss: 0.135426\tvalid_0's macroF1: 0.847337\n",
      "[85]\tvalid_0's binary_logloss: 0.13546\tvalid_0's macroF1: 0.848772\n",
      "[86]\tvalid_0's binary_logloss: 0.135287\tvalid_0's macroF1: 0.848772\n",
      "[87]\tvalid_0's binary_logloss: 0.135416\tvalid_0's macroF1: 0.847337\n",
      "[88]\tvalid_0's binary_logloss: 0.135576\tvalid_0's macroF1: 0.847914\n",
      "[89]\tvalid_0's binary_logloss: 0.13558\tvalid_0's macroF1: 0.847059\n",
      "[90]\tvalid_0's binary_logloss: 0.135349\tvalid_0's macroF1: 0.846208\n",
      "[91]\tvalid_0's binary_logloss: 0.135527\tvalid_0's macroF1: 0.846208\n",
      "[92]\tvalid_0's binary_logloss: 0.135637\tvalid_0's macroF1: 0.844777\n",
      "[93]\tvalid_0's binary_logloss: 0.135786\tvalid_0's macroF1: 0.844777\n",
      "[94]\tvalid_0's binary_logloss: 0.135907\tvalid_0's macroF1: 0.844777\n",
      "[95]\tvalid_0's binary_logloss: 0.136012\tvalid_0's macroF1: 0.845627\n",
      "[96]\tvalid_0's binary_logloss: 0.135992\tvalid_0's macroF1: 0.845627\n",
      "[97]\tvalid_0's binary_logloss: 0.136074\tvalid_0's macroF1: 0.845627\n",
      "[98]\tvalid_0's binary_logloss: 0.136244\tvalid_0's macroF1: 0.845627\n",
      "[99]\tvalid_0's binary_logloss: 0.136206\tvalid_0's macroF1: 0.845627\n",
      "[100]\tvalid_0's binary_logloss: 0.136221\tvalid_0's macroF1: 0.845627\n"
     ]
    },
    {
     "name": "stderr",
     "output_type": "stream",
     "text": [
      "/usr/local/lib/python3.6/dist-packages/sklearn/preprocessing/_label.py:235: DataConversionWarning: A column-vector y was passed when a 1d array was expected. Please change the shape of y to (n_samples, ), for example using ravel().\n",
      "  y = column_or_1d(y, warn=True)\n",
      "/usr/local/lib/python3.6/dist-packages/sklearn/preprocessing/_label.py:268: DataConversionWarning: A column-vector y was passed when a 1d array was expected. Please change the shape of y to (n_samples, ), for example using ravel().\n",
      "  y = column_or_1d(y, warn=True)\n"
     ]
    },
    {
     "name": "stdout",
     "output_type": "stream",
     "text": [
      "[1]\tvalid_0's binary_logloss: 0.282186\tvalid_0's macroF1: 0.474268\n",
      "[2]\tvalid_0's binary_logloss: 0.26021\tvalid_0's macroF1: 0.474268\n",
      "[3]\tvalid_0's binary_logloss: 0.244782\tvalid_0's macroF1: 0.474268\n",
      "[4]\tvalid_0's binary_logloss: 0.232744\tvalid_0's macroF1: 0.474268\n",
      "[5]\tvalid_0's binary_logloss: 0.222414\tvalid_0's macroF1: 0.507028\n",
      "[6]\tvalid_0's binary_logloss: 0.212703\tvalid_0's macroF1: 0.741297\n",
      "[7]\tvalid_0's binary_logloss: 0.204984\tvalid_0's macroF1: 0.77413\n",
      "[8]\tvalid_0's binary_logloss: 0.197849\tvalid_0's macroF1: 0.79792\n",
      "[9]\tvalid_0's binary_logloss: 0.191917\tvalid_0's macroF1: 0.797961\n",
      "[10]\tvalid_0's binary_logloss: 0.186979\tvalid_0's macroF1: 0.813572\n",
      "[11]\tvalid_0's binary_logloss: 0.181946\tvalid_0's macroF1: 0.818549\n",
      "[12]\tvalid_0's binary_logloss: 0.177636\tvalid_0's macroF1: 0.823526\n",
      "[13]\tvalid_0's binary_logloss: 0.173907\tvalid_0's macroF1: 0.830061\n",
      "[14]\tvalid_0's binary_logloss: 0.171031\tvalid_0's macroF1: 0.831677\n",
      "[15]\tvalid_0's binary_logloss: 0.168248\tvalid_0's macroF1: 0.834681\n",
      "[16]\tvalid_0's binary_logloss: 0.166511\tvalid_0's macroF1: 0.834681\n",
      "[17]\tvalid_0's binary_logloss: 0.164354\tvalid_0's macroF1: 0.833786\n",
      "[18]\tvalid_0's binary_logloss: 0.162417\tvalid_0's macroF1: 0.838516\n",
      "[19]\tvalid_0's binary_logloss: 0.161134\tvalid_0's macroF1: 0.839841\n",
      "[20]\tvalid_0's binary_logloss: 0.159591\tvalid_0's macroF1: 0.839841\n",
      "[21]\tvalid_0's binary_logloss: 0.15775\tvalid_0's macroF1: 0.844465\n",
      "[22]\tvalid_0's binary_logloss: 0.156295\tvalid_0's macroF1: 0.84293\n",
      "[23]\tvalid_0's binary_logloss: 0.15498\tvalid_0's macroF1: 0.845993\n",
      "[24]\tvalid_0's binary_logloss: 0.154335\tvalid_0's macroF1: 0.844826\n",
      "[25]\tvalid_0's binary_logloss: 0.153411\tvalid_0's macroF1: 0.847843\n",
      "[26]\tvalid_0's binary_logloss: 0.151842\tvalid_0's macroF1: 0.851426\n",
      "[27]\tvalid_0's binary_logloss: 0.150947\tvalid_0's macroF1: 0.852322\n",
      "[28]\tvalid_0's binary_logloss: 0.149853\tvalid_0's macroF1: 0.849049\n",
      "[29]\tvalid_0's binary_logloss: 0.14918\tvalid_0's macroF1: 0.850534\n",
      "[30]\tvalid_0's binary_logloss: 0.148433\tvalid_0's macroF1: 0.85438\n",
      "[31]\tvalid_0's binary_logloss: 0.14827\tvalid_0's macroF1: 0.855279\n",
      "[32]\tvalid_0's binary_logloss: 0.147869\tvalid_0's macroF1: 0.85438\n",
      "[33]\tvalid_0's binary_logloss: 0.147293\tvalid_0's macroF1: 0.853485\n",
      "[34]\tvalid_0's binary_logloss: 0.147252\tvalid_0's macroF1: 0.853485\n",
      "[35]\tvalid_0's binary_logloss: 0.146833\tvalid_0's macroF1: 0.853485\n",
      "[36]\tvalid_0's binary_logloss: 0.146592\tvalid_0's macroF1: 0.85438\n",
      "[37]\tvalid_0's binary_logloss: 0.146346\tvalid_0's macroF1: 0.85438\n",
      "[38]\tvalid_0's binary_logloss: 0.146046\tvalid_0's macroF1: 0.85438\n",
      "[39]\tvalid_0's binary_logloss: 0.145923\tvalid_0's macroF1: 0.85438\n",
      "[40]\tvalid_0's binary_logloss: 0.145517\tvalid_0's macroF1: 0.855848\n",
      "[41]\tvalid_0's binary_logloss: 0.145258\tvalid_0's macroF1: 0.855848\n",
      "[42]\tvalid_0's binary_logloss: 0.144901\tvalid_0's macroF1: 0.855848\n",
      "[43]\tvalid_0's binary_logloss: 0.144888\tvalid_0's macroF1: 0.85731\n",
      "[44]\tvalid_0's binary_logloss: 0.144975\tvalid_0's macroF1: 0.854951\n",
      "[45]\tvalid_0's binary_logloss: 0.144748\tvalid_0's macroF1: 0.854951\n",
      "[46]\tvalid_0's binary_logloss: 0.144673\tvalid_0's macroF1: 0.853485\n",
      "[47]\tvalid_0's binary_logloss: 0.144655\tvalid_0's macroF1: 0.854951\n",
      "[48]\tvalid_0's binary_logloss: 0.144323\tvalid_0's macroF1: 0.85731\n",
      "[49]\tvalid_0's binary_logloss: 0.144338\tvalid_0's macroF1: 0.85731\n",
      "[50]\tvalid_0's binary_logloss: 0.144452\tvalid_0's macroF1: 0.856412\n",
      "[51]\tvalid_0's binary_logloss: 0.144382\tvalid_0's macroF1: 0.855518\n",
      "[52]\tvalid_0's binary_logloss: 0.144377\tvalid_0's macroF1: 0.856971\n",
      "[53]\tvalid_0's binary_logloss: 0.144055\tvalid_0's macroF1: 0.856971\n",
      "[54]\tvalid_0's binary_logloss: 0.143835\tvalid_0's macroF1: 0.857867\n",
      "[55]\tvalid_0's binary_logloss: 0.143847\tvalid_0's macroF1: 0.857867\n",
      "[56]\tvalid_0's binary_logloss: 0.143778\tvalid_0's macroF1: 0.859316\n",
      "[57]\tvalid_0's binary_logloss: 0.143979\tvalid_0's macroF1: 0.86076\n",
      "[58]\tvalid_0's binary_logloss: 0.144032\tvalid_0's macroF1: 0.862566\n",
      "[59]\tvalid_0's binary_logloss: 0.143837\tvalid_0's macroF1: 0.864006\n",
      "[60]\tvalid_0's binary_logloss: 0.143697\tvalid_0's macroF1: 0.862566\n",
      "[61]\tvalid_0's binary_logloss: 0.143592\tvalid_0's macroF1: 0.862566\n",
      "[62]\tvalid_0's binary_logloss: 0.143646\tvalid_0's macroF1: 0.862566\n",
      "[63]\tvalid_0's binary_logloss: 0.143149\tvalid_0's macroF1: 0.862566\n",
      "[64]\tvalid_0's binary_logloss: 0.143216\tvalid_0's macroF1: 0.862566\n",
      "[65]\tvalid_0's binary_logloss: 0.142755\tvalid_0's macroF1: 0.861661\n",
      "[66]\tvalid_0's binary_logloss: 0.142621\tvalid_0's macroF1: 0.861661\n",
      "[67]\tvalid_0's binary_logloss: 0.142567\tvalid_0's macroF1: 0.86076\n",
      "[68]\tvalid_0's binary_logloss: 0.142708\tvalid_0's macroF1: 0.862566\n",
      "[69]\tvalid_0's binary_logloss: 0.142553\tvalid_0's macroF1: 0.8631\n",
      "[70]\tvalid_0's binary_logloss: 0.142744\tvalid_0's macroF1: 0.8631\n",
      "[71]\tvalid_0's binary_logloss: 0.142721\tvalid_0's macroF1: 0.861661\n",
      "[72]\tvalid_0's binary_logloss: 0.14314\tvalid_0's macroF1: 0.861661\n",
      "[73]\tvalid_0's binary_logloss: 0.143159\tvalid_0's macroF1: 0.86076\n",
      "[74]\tvalid_0's binary_logloss: 0.143227\tvalid_0's macroF1: 0.861661\n",
      "[75]\tvalid_0's binary_logloss: 0.143222\tvalid_0's macroF1: 0.8631\n",
      "[76]\tvalid_0's binary_logloss: 0.142948\tvalid_0's macroF1: 0.861298\n",
      "[77]\tvalid_0's binary_logloss: 0.142923\tvalid_0's macroF1: 0.858419\n",
      "[78]\tvalid_0's binary_logloss: 0.142854\tvalid_0's macroF1: 0.858419\n",
      "[79]\tvalid_0's binary_logloss: 0.142362\tvalid_0's macroF1: 0.858419\n",
      "[80]\tvalid_0's binary_logloss: 0.142541\tvalid_0's macroF1: 0.86076\n",
      "[81]\tvalid_0's binary_logloss: 0.142331\tvalid_0's macroF1: 0.862197\n",
      "[82]\tvalid_0's binary_logloss: 0.142461\tvalid_0's macroF1: 0.862197\n",
      "[83]\tvalid_0's binary_logloss: 0.142545\tvalid_0's macroF1: 0.862197\n",
      "[84]\tvalid_0's binary_logloss: 0.142382\tvalid_0's macroF1: 0.862197\n",
      "[85]\tvalid_0's binary_logloss: 0.142271\tvalid_0's macroF1: 0.862197\n",
      "[86]\tvalid_0's binary_logloss: 0.142549\tvalid_0's macroF1: 0.862197\n",
      "[87]\tvalid_0's binary_logloss: 0.142553\tvalid_0's macroF1: 0.8631\n",
      "[88]\tvalid_0's binary_logloss: 0.142448\tvalid_0's macroF1: 0.862197\n",
      "[89]\tvalid_0's binary_logloss: 0.142626\tvalid_0's macroF1: 0.8631\n",
      "[90]\tvalid_0's binary_logloss: 0.142598\tvalid_0's macroF1: 0.862197\n",
      "[91]\tvalid_0's binary_logloss: 0.142566\tvalid_0's macroF1: 0.862197\n",
      "[92]\tvalid_0's binary_logloss: 0.142482\tvalid_0's macroF1: 0.862197\n",
      "[93]\tvalid_0's binary_logloss: 0.142505\tvalid_0's macroF1: 0.862197\n",
      "[94]\tvalid_0's binary_logloss: 0.142395\tvalid_0's macroF1: 0.862197\n",
      "[95]\tvalid_0's binary_logloss: 0.142458\tvalid_0's macroF1: 0.862197\n",
      "[96]\tvalid_0's binary_logloss: 0.142544\tvalid_0's macroF1: 0.862197\n",
      "[97]\tvalid_0's binary_logloss: 0.142372\tvalid_0's macroF1: 0.862197\n",
      "[98]\tvalid_0's binary_logloss: 0.142367\tvalid_0's macroF1: 0.863629\n",
      "[99]\tvalid_0's binary_logloss: 0.142536\tvalid_0's macroF1: 0.861298\n",
      "[100]\tvalid_0's binary_logloss: 0.142352\tvalid_0's macroF1: 0.860403\n"
     ]
    }
   ],
   "source": [
    "for training_index, testing_index in gkf.split(X=x, y=y):\n",
    "    x_train_fold, y_train_fold = x[training_index], y[training_index]\n",
    "    x_test_fold, y_test_fold = x[testing_index], y[testing_index]\n",
    "    model.fit(x_train_fold, y_train_fold, eval_set=(x_test_fold,y_test_fold),eval_metric = lambda y_true, y_pred: [evaluate_macroF1_lgb(y_true,y_pred)])"
   ]
  },
  {
   "cell_type": "code",
   "execution_count": 28,
   "metadata": {},
   "outputs": [],
   "source": [
    "predicted_y = model.predict(x_test)\n",
    "train_pred_y = model.predict(x)"
   ]
  },
  {
   "cell_type": "code",
   "execution_count": 29,
   "metadata": {},
   "outputs": [
    {
     "name": "stdout",
     "output_type": "stream",
     "text": [
      "\n",
      "              precision    recall  f1-score   support\n",
      "\n",
      "           0       0.96      0.84      0.89      1345\n",
      "           1       0.98      1.00      0.99     12395\n",
      "\n",
      "    accuracy                           0.98     13740\n",
      "   macro avg       0.97      0.92      0.94     13740\n",
      "weighted avg       0.98      0.98      0.98     13740\n",
      "\n",
      "\n",
      "[[ 1125   220]\n",
      " [   50 12345]]\n",
      "\n",
      "              precision    recall  f1-score   support\n",
      "\n",
      "           0       0.87      0.68      0.76       336\n",
      "           1       0.97      0.99      0.98      3099\n",
      "\n",
      "    accuracy                           0.96      3435\n",
      "   macro avg       0.92      0.84      0.87      3435\n",
      "weighted avg       0.96      0.96      0.96      3435\n",
      "\n",
      "\n",
      "[[ 229  107]\n",
      " [  35 3064]]\n"
     ]
    }
   ],
   "source": [
    "print(); print(metrics.classification_report(y,train_pred_y))\n",
    "print(); print(metrics.confusion_matrix(y, train_pred_y))\n",
    "\n",
    "print(); print(metrics.classification_report(y_test, predicted_y))\n",
    "print(); print(metrics.confusion_matrix(y_test, predicted_y))"
   ]
  },
  {
   "cell_type": "markdown",
   "metadata": {},
   "source": [
    "<h2>Testing</h2>"
   ]
  },
  {
   "cell_type": "code",
   "execution_count": 30,
   "metadata": {
    "colab": {},
    "colab_type": "code",
    "id": "dRpHFO-hvEvg"
   },
   "outputs": [],
   "source": [
    "\n",
    "test_set = pd.read_csv(data_path+'test.csv', index_col=\"tripid\")\n"
   ]
  },
  {
   "cell_type": "code",
   "execution_count": 31,
   "metadata": {
    "colab": {},
    "colab_type": "code",
    "id": "-aB-vcWQPl-L"
   },
   "outputs": [],
   "source": [
    "test_set['pickup_time'] = pd.to_datetime(test_set['pickup_time'], format=\"%m/%d/%Y %H:%M\")\n",
    "test_set['drop_time'] = pd.to_datetime(test_set['drop_time'], format=\"%m/%d/%Y %H:%M\")"
   ]
  },
  {
   "cell_type": "code",
   "execution_count": 32,
   "metadata": {
    "colab": {},
    "colab_type": "code",
    "id": "-fh6I6oDPrqF"
   },
   "outputs": [],
   "source": [
    "test_set = test_set.assign(timeOfDay=pd.cut(test_set.pickup_time.dt.hour,[-1, 8, 20, 24],labels=['dawn','day', 'night']))"
   ]
  },
  {
   "cell_type": "code",
   "execution_count": 33,
   "metadata": {},
   "outputs": [],
   "source": [
    "test_set.loc[test_set['timeOfDay'] == 'day', 'isNormalCharge'] = 1\n",
    "test_set.loc[test_set['timeOfDay'] != 'day', 'isNormalCharge'] = 0"
   ]
  },
  {
   "cell_type": "code",
   "execution_count": 34,
   "metadata": {
    "colab": {},
    "colab_type": "code",
    "id": "0YIKrGoUPxjD"
   },
   "outputs": [],
   "source": [
    "durations = []\n",
    "for index,row in test_set.iterrows():\n",
    "  provided_duration = row['duration'] #first row of location.lat column here\n",
    "  if math.isnan(provided_duration) or provided_duration <= 0 :\n",
    "    time_dif = (row['drop_time'] - row['pickup_time']).seconds\n",
    "    if(time_dif == 0):\n",
    "        time_dif = np.nan\n",
    "    durations.append(time_dif)\n",
    "  else :  \n",
    "    durations.append(provided_duration)\n",
    "\n",
    "test_set.insert(4,\"time_dif\",durations)"
   ]
  },
  {
   "cell_type": "code",
   "execution_count": 35,
   "metadata": {
    "colab": {},
    "colab_type": "code",
    "id": "N8RKMAziP2Zu"
   },
   "outputs": [],
   "source": [
    "new_column = []                    #empty column for distance\n",
    "for index,row in test_set.iterrows():\n",
    "  lat1 = row['pick_lat'] #first row of location.lat column here\n",
    "  lon1 = row['pick_lon'] #first row of location.long column here\n",
    "  lat2 = row['drop_lat'] #second row of location.lat column here\n",
    "  lon2 = row['drop_lon'] #second row of location.long column here\n",
    "  value = dist_from_coordinates(lat1, lon1, lat2, lon2)  #get the distance\n",
    "  new_column.append(value)   #append the empty list with distance values\n",
    "\n",
    "test_set.insert(4,\"distance\",new_column)"
   ]
  },
  {
   "cell_type": "code",
   "execution_count": 36,
   "metadata": {
    "colab": {},
    "colab_type": "code",
    "id": "fhGdrT68P7u0"
   },
   "outputs": [],
   "source": [
    "test_set['time_driven'] = test_set['duration']  - test_set['meter_waiting']"
   ]
  },
  {
   "cell_type": "code",
   "execution_count": 37,
   "metadata": {
    "colab": {},
    "colab_type": "code",
    "id": "0T1ZhNq4QCFr"
   },
   "outputs": [],
   "source": [
    "chargeperhours = []\n",
    "for index,row in test_set.iterrows():\n",
    "    if(row['meter_waiting'] == 0):\n",
    "        chargeperhour = np.nan\n",
    "    else:\n",
    "        chargeperhour = (row['meter_waiting_fare'] / row['meter_waiting'] * 3600)\n",
    "    chargeperhours.append(chargeperhour)\n",
    "\n",
    "test_set.insert(4,'charge_per_hour',chargeperhours)\n"
   ]
  },
  {
   "cell_type": "code",
   "execution_count": 38,
   "metadata": {
    "colab": {},
    "colab_type": "code",
    "id": "stlHhBUcQHPO"
   },
   "outputs": [],
   "source": [
    "test_set['driving_fare'] = test_set['fare']  - test_set['meter_waiting_fare'] - test_set['additional_fare']"
   ]
  },
  {
   "cell_type": "code",
   "execution_count": 39,
   "metadata": {
    "colab": {},
    "colab_type": "code",
    "id": "3swRfBdUQPab"
   },
   "outputs": [],
   "source": [
    "avgspeeds = []\n",
    "for index,row in test_set.iterrows():\n",
    "    if(row['time_driven'] == 0):\n",
    "        avgspeed = np.nan    \n",
    "    else:\n",
    "        avgspeed = (row['distance'] / row['time_driven'] * 3600)\n",
    "    avgspeeds.append(avgspeed)\n",
    "\n",
    "test_set.insert(4,\"avg_speed\",avgspeeds)\n",
    "\n"
   ]
  },
  {
   "cell_type": "code",
   "execution_count": 40,
   "metadata": {
    "colab": {},
    "colab_type": "code",
    "id": "CbN5feh0QWAF"
   },
   "outputs": [],
   "source": [
    "costsperkm = []\n",
    "for index,row in test_set.iterrows():\n",
    "    if row['distance'] == 0:\n",
    "        costperkm = np.nan\n",
    "            \n",
    "    else:\n",
    "        costperkm = (row['driving_fare'] / row['distance'])\n",
    "    costsperkm.append(costperkm)\n",
    "\n",
    "test_set.insert(4,\"cost_per_km\",costsperkm)"
   ]
  },
  {
   "cell_type": "code",
   "execution_count": 41,
   "metadata": {
    "colab": {},
    "colab_type": "code",
    "id": "G8siIDy9_D2I"
   },
   "outputs": [],
   "source": [
    "test_features = test_set[training_columns]"
   ]
  },
  {
   "cell_type": "code",
   "execution_count": 42,
   "metadata": {
    "colab": {
     "base_uri": "https://localhost:8080/",
     "height": 455
    },
    "colab_type": "code",
    "id": "YGcUrVpWQc6h",
    "outputId": "b45b835c-1c70-4035-ff79-2d936377d9e1"
   },
   "outputs": [
    {
     "data": {
      "text/plain": [
       "meter_waiting           0\n",
       "meter_waiting_fare      0\n",
       "fare                    0\n",
       "additional_fare         0\n",
       "distance                0\n",
       "cost_per_km            25\n",
       "avg_speed               9\n",
       "time_dif                0\n",
       "time_driven             0\n",
       "charge_per_hour       298\n",
       "driving_fare            0\n",
       "isNormalCharge          0\n",
       "pick_lat                0\n",
       "pick_lon                0\n",
       "drop_lat                0\n",
       "drop_lon                0\n",
       "dtype: int64"
      ]
     },
     "execution_count": 42,
     "metadata": {},
     "output_type": "execute_result"
    }
   ],
   "source": [
    "test_features.isna().sum()"
   ]
  },
  {
   "cell_type": "code",
   "execution_count": 43,
   "metadata": {
    "colab": {},
    "colab_type": "code",
    "id": "MeqI1BVR_Fpl"
   },
   "outputs": [],
   "source": [
    "predicted_labels = model.predict(test_features)"
   ]
  },
  {
   "cell_type": "code",
   "execution_count": 44,
   "metadata": {},
   "outputs": [],
   "source": [
    "predicted_labels_df = pd.DataFrame(predicted_labels )"
   ]
  },
  {
   "cell_type": "code",
   "execution_count": 45,
   "metadata": {
    "colab": {},
    "colab_type": "code",
    "id": "qqHn12X6_Gvf"
   },
   "outputs": [],
   "source": [
    "sub_path =os.path.abspath(os.path.join(data_path+'/sample_submission.csv'))\n",
    "submission_set = pd.read_csv(sub_path, index_col=\"tripid\")"
   ]
  },
  {
   "cell_type": "code",
   "execution_count": 46,
   "metadata": {
    "colab": {},
    "colab_type": "code",
    "id": "8Ji-pVGy_H3c"
   },
   "outputs": [],
   "source": [
    "submission_set['prediction']= predicted_labels_df.values[:,0]"
   ]
  },
  {
   "cell_type": "code",
   "execution_count": 47,
   "metadata": {},
   "outputs": [
    {
     "data": {
      "application/javascript": [
       "var kernel = IPython.notebook.kernel;\n",
       "var thename = window.document.getElementById(\"notebook_name\").innerHTML;\n",
       "var command = \"theNotebook = \" + \"'\"+thename+\"'\";\n",
       "kernel.execute(command);\n"
      ],
      "text/plain": [
       "<IPython.core.display.Javascript object>"
      ]
     },
     "metadata": {},
     "output_type": "display_data"
    }
   ],
   "source": [
    "%%javascript\n",
    "var kernel = IPython.notebook.kernel;\n",
    "var thename = window.document.getElementById(\"notebook_name\").innerHTML;\n",
    "var command = \"theNotebook = \" + \"'\"+thename+\"'\";\n",
    "kernel.execute(command);"
   ]
  },
  {
   "cell_type": "code",
   "execution_count": 49,
   "metadata": {
    "colab": {
     "base_uri": "https://localhost:8080/",
     "height": 35
    },
    "colab_type": "code",
    "id": "U6dGilvv_JLl",
    "outputId": "a12ca51c-c94a-4f5d-efab-2ebd6a29156a"
   },
   "outputs": [
    {
     "name": "stdout",
     "output_type": "stream",
     "text": [
      "Completed!\n"
     ]
    }
   ],
   "source": [
    "filename = '../../submissions/'+theNotebook+'/'+theNotebook+'_{%i}.csv'\n",
    "dirname = '../../submissions/'+theNotebook\n",
    "fileversion = 1\n",
    "\n",
    "if not os.path.exists(dirname):\n",
    "    os.makedirs(dirname)\n",
    "while glob.glob(filename.replace('{%i}',str(fileversion))) :\n",
    "    fileversion+=1\n",
    "submission_set.to_csv(filename.replace('{%i}',str(fileversion)), index=True)\n",
    "print(\"Completed!\")"
   ]
  },
  {
   "cell_type": "code",
   "execution_count": 48,
   "metadata": {
    "colab": {
     "base_uri": "https://localhost:8080/",
     "height": 72
    },
    "colab_type": "code",
    "id": "cg-I13X0_Q0d",
    "outputId": "e0a6dd1e-8d7f-46f6-f8a8-98406223ba06"
   },
   "outputs": [
    {
     "data": {
      "text/plain": [
       "1    8138\n",
       "0     438\n",
       "Name: prediction, dtype: int64"
      ]
     },
     "execution_count": 48,
     "metadata": {},
     "output_type": "execute_result"
    }
   ],
   "source": [
    "submission_set['prediction'].value_counts()"
   ]
  },
  {
   "cell_type": "code",
   "execution_count": null,
   "metadata": {},
   "outputs": [],
   "source": []
  }
 ],
 "metadata": {
  "colab": {
   "collapsed_sections": [],
   "name": "lightbgm using grid",
   "provenance": []
  },
  "kernelspec": {
   "display_name": "Python 3",
   "language": "python",
   "name": "python3"
  },
  "language_info": {
   "codemirror_mode": {
    "name": "ipython",
    "version": 3
   },
   "file_extension": ".py",
   "mimetype": "text/x-python",
   "name": "python",
   "nbconvert_exporter": "python",
   "pygments_lexer": "ipython3",
   "version": "3.6.9"
  }
 },
 "nbformat": 4,
 "nbformat_minor": 1
}
