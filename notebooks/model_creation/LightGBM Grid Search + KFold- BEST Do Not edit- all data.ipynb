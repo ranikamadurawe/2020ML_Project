{
 "cells": [
  {
   "cell_type": "code",
   "execution_count": 1,
   "metadata": {
    "colab": {},
    "colab_type": "code",
    "id": "6BY0u5O7qfR1"
   },
   "outputs": [],
   "source": [
    "import numpy as np\n",
    "import pandas as pd\n",
    "import lightgbm\n",
    "from sklearn.model_selection import train_test_split\n",
    "from sklearn.preprocessing import LabelBinarizer\n",
    "import math\n",
    "from sklearn import metrics\n",
    "from sklearn.model_selection import RandomizedSearchCV, GridSearchCV\n",
    "from sklearn.model_selection import KFold, StratifiedKFold\n",
    "import matplotlib.pyplot as plt\n",
    "import os\n",
    "import glob"
   ]
  },
  {
   "cell_type": "code",
   "execution_count": 2,
   "metadata": {
    "colab": {},
    "colab_type": "code",
    "id": "jaeR-AOtreKu"
   },
   "outputs": [],
   "source": [
    "\n",
    "data_path='/home/madnisal/Documents/ML_Project/datasets/'\n",
    "training_df = pd.read_csv(data_path+'train.csv', index_col=\"tripid\")"
   ]
  },
  {
   "cell_type": "code",
   "execution_count": 3,
   "metadata": {
    "colab": {},
    "colab_type": "code",
    "id": "x2_djb9zOwgg"
   },
   "outputs": [],
   "source": [
    "def dist_from_coordinates(lat1, lon1, lat2, lon2):\n",
    "  R = 6371  # Earth radius in km\n",
    "\n",
    "  #conversion to radians\n",
    "  d_lat = np.radians(lat2-lat1)\n",
    "  d_lon = np.radians(lon2-lon1)\n",
    "\n",
    "  r_lat1 = np.radians(lat1)\n",
    "  r_lat2 = np.radians(lat2)\n",
    "\n",
    "  #haversine formula\n",
    "  a = np.sin(d_lat/2.) **2 + np.cos(r_lat1) * np.cos(r_lat2) * np.sin(d_lon/2.)**2\n",
    "\n",
    "  haversine = 2 * R * np.arcsin(np.sqrt(a))\n",
    "\n",
    "  return haversine"
   ]
  },
  {
   "cell_type": "code",
   "execution_count": 4,
   "metadata": {
    "colab": {},
    "colab_type": "code",
    "id": "fZx_Ut6cOzP9"
   },
   "outputs": [],
   "source": [
    "training_df['pickup_time'] = pd.to_datetime(training_df['pickup_time'], format=\"%m/%d/%Y %H:%M\")\n",
    "training_df['drop_time'] = pd.to_datetime(training_df['drop_time'], format=\"%m/%d/%Y %H:%M\")"
   ]
  },
  {
   "cell_type": "code",
   "execution_count": 5,
   "metadata": {
    "colab": {},
    "colab_type": "code",
    "id": "AmRtNkL2O062"
   },
   "outputs": [],
   "source": [
    "training_df = training_df.assign(timeOfDay=pd.cut(training_df.pickup_time.dt.hour,[-1, 8, 20, 24],labels=['dawn','day', 'night']))"
   ]
  },
  {
   "cell_type": "code",
   "execution_count": 6,
   "metadata": {},
   "outputs": [],
   "source": [
    "training_df.loc[training_df['timeOfDay'] == 'day', 'isNormalCharge'] = 1\n",
    "training_df.loc[training_df['timeOfDay'] != 'day', 'isNormalCharge'] = 0"
   ]
  },
  {
   "cell_type": "code",
   "execution_count": 7,
   "metadata": {
    "colab": {},
    "colab_type": "code",
    "id": "q4CFd-NqO2Un"
   },
   "outputs": [],
   "source": [
    "durations = []\n",
    "for index,row in training_df.iterrows():\n",
    "  provided_duration = row['duration'] #first row of location.lat column here\n",
    "  if math.isnan(provided_duration) or provided_duration <= 0 :\n",
    "    time_dif = (row['drop_time'] - row['pickup_time']).seconds\n",
    "    if(time_dif == 0):\n",
    "        time_dif = np.nan\n",
    "    durations.append(time_dif)\n",
    "  else :  \n",
    "    durations.append(provided_duration)\n",
    "\n",
    "training_df.insert(4,\"time_dif\",durations)"
   ]
  },
  {
   "cell_type": "code",
   "execution_count": 8,
   "metadata": {
    "colab": {},
    "colab_type": "code",
    "id": "OKJBD2vsO6bJ"
   },
   "outputs": [],
   "source": [
    "new_column = []                    #empty column for distance\n",
    "for index,row in training_df.iterrows():\n",
    "  lat1 = row['pick_lat'] #first row of location.lat column here\n",
    "  lon1 = row['pick_lon'] #first row of location.long column here\n",
    "  lat2 = row['drop_lat'] #second row of location.lat column here\n",
    "  lon2 = row['drop_lon'] #second row of location.long column here\n",
    "  value = dist_from_coordinates(lat1, lon1, lat2, lon2)  #get the distance\n",
    "  new_column.append(value)   #append the empty list with distance values\n",
    "\n",
    "training_df.insert(4,\"distance\",new_column)"
   ]
  },
  {
   "cell_type": "code",
   "execution_count": 9,
   "metadata": {
    "colab": {},
    "colab_type": "code",
    "id": "EDFvgdsoO8rC"
   },
   "outputs": [],
   "source": [
    "training_df['time_driven'] = training_df['duration']  - training_df['meter_waiting']"
   ]
  },
  {
   "cell_type": "code",
   "execution_count": 10,
   "metadata": {
    "colab": {},
    "colab_type": "code",
    "id": "eQOTKxsNO-CH"
   },
   "outputs": [],
   "source": [
    "chargeperhours = []\n",
    "for index,row in training_df.iterrows():\n",
    "    if(row['meter_waiting'] == 0):\n",
    "        chargeperhour = np.nan\n",
    "    else:\n",
    "        chargeperhour = (row['meter_waiting_fare'] / row['meter_waiting'] * 3600)\n",
    "    chargeperhours.append(chargeperhour)\n",
    "\n",
    "training_df.insert(4,'charge_per_hour',chargeperhours)\n"
   ]
  },
  {
   "cell_type": "code",
   "execution_count": 11,
   "metadata": {
    "colab": {},
    "colab_type": "code",
    "id": "c9OpngXwPAiv"
   },
   "outputs": [],
   "source": [
    "training_df['driving_fare'] = training_df['fare']  - training_df['meter_waiting_fare'] - training_df['additional_fare']"
   ]
  },
  {
   "cell_type": "code",
   "execution_count": 12,
   "metadata": {
    "colab": {},
    "colab_type": "code",
    "id": "ECO9WaT5PB6O"
   },
   "outputs": [],
   "source": [
    "avgspeeds = []\n",
    "for index,row in training_df.iterrows():\n",
    "    if(row['time_driven'] == 0):\n",
    "        avgspeed = np.nan\n",
    "    else:\n",
    "        avgspeed = (row['distance'] / row['time_driven'] * 3600)\n",
    "    avgspeeds.append(avgspeed)\n",
    "\n",
    "training_df.insert(4,\"avg_speed\",avgspeeds)\n",
    "\n"
   ]
  },
  {
   "cell_type": "code",
   "execution_count": 13,
   "metadata": {
    "colab": {},
    "colab_type": "code",
    "id": "j1DDDw52PGUY"
   },
   "outputs": [],
   "source": [
    "costsperkm = []\n",
    "for index,row in training_df.iterrows():\n",
    "    if row['distance'] == 0:\n",
    "        costperkm = np.nan\n",
    "            \n",
    "    else:\n",
    "        costperkm = (row['driving_fare'] / row['distance'])\n",
    "    costsperkm.append(costperkm)\n",
    "\n",
    "training_df.insert(4,\"cost_per_km\",costsperkm)"
   ]
  },
  {
   "cell_type": "code",
   "execution_count": 14,
   "metadata": {
    "colab": {},
    "colab_type": "code",
    "id": "zVsGZhgQrktE"
   },
   "outputs": [],
   "source": [
    "training_df = training_df.replace({'label': {'incorrect': 0, 'correct' : 1}})"
   ]
  },
  {
   "cell_type": "code",
   "execution_count": 15,
   "metadata": {},
   "outputs": [
    {
     "data": {
      "text/plain": [
       "Index(['additional_fare', 'duration', 'meter_waiting', 'meter_waiting_fare',\n",
       "       'cost_per_km', 'avg_speed', 'charge_per_hour', 'distance', 'time_dif',\n",
       "       'meter_waiting_till_pickup', 'pickup_time', 'drop_time', 'pick_lat',\n",
       "       'pick_lon', 'drop_lat', 'drop_lon', 'fare', 'label', 'timeOfDay',\n",
       "       'isNormalCharge', 'time_driven', 'driving_fare'],\n",
       "      dtype='object')"
      ]
     },
     "execution_count": 15,
     "metadata": {},
     "output_type": "execute_result"
    }
   ],
   "source": [
    "training_df.columns"
   ]
  },
  {
   "cell_type": "code",
   "execution_count": 16,
   "metadata": {},
   "outputs": [],
   "source": [
    "training_columns = ['meter_waiting','meter_waiting_fare','fare','additional_fare', 'distance','cost_per_km', 'avg_speed',  'time_dif','time_driven', 'charge_per_hour', 'driving_fare', 'isNormalCharge','pick_lat','pick_lon','drop_lat','drop_lon']"
   ]
  },
  {
   "cell_type": "code",
   "execution_count": 17,
   "metadata": {
    "colab": {},
    "colab_type": "code",
    "id": "tnbpcAUqruuZ"
   },
   "outputs": [],
   "source": [
    "target_column = ['label']"
   ]
  },
  {
   "cell_type": "code",
   "execution_count": 18,
   "metadata": {},
   "outputs": [],
   "source": [
    "training_df = training_df.drop(190167541)"
   ]
  },
  {
   "cell_type": "code",
   "execution_count": 19,
   "metadata": {
    "colab": {},
    "colab_type": "code",
    "id": "PrUJfvL1r4pI"
   },
   "outputs": [],
   "source": [
    "x = training_df[training_columns].values\n",
    "y = training_df[target_column].values"
   ]
  },
  {
   "cell_type": "code",
   "execution_count": 20,
   "metadata": {
    "colab": {},
    "colab_type": "code",
    "id": "Xfow1Vm-sBI9"
   },
   "outputs": [],
   "source": [
    "x, x_test, y, y_test = train_test_split(x, y, test_size=0.2, random_state=42, stratify=y)"
   ]
  },
  {
   "cell_type": "code",
   "execution_count": 21,
   "metadata": {},
   "outputs": [
    {
     "data": {
      "text/plain": [
       "1    15494\n",
       "0     1681\n",
       "Name: label, dtype: int64"
      ]
     },
     "execution_count": 21,
     "metadata": {},
     "output_type": "execute_result"
    }
   ],
   "source": [
    "training_df['label'].value_counts()"
   ]
  },
  {
   "cell_type": "markdown",
   "metadata": {},
   "source": [
    "<h2>Choosing the best model</h2>"
   ]
  },
  {
   "cell_type": "code",
   "execution_count": 71,
   "metadata": {},
   "outputs": [],
   "source": [
    "def focal_loss_lgb_eval_error(y_true, y_pred, alpha=.25, gamma=2.):\n",
    "    a,g = alpha, gamma\n",
    "    p = 1/(1+np.exp(-y_pred))\n",
    "    loss = -( a*y_true + (1-a)*(1-y_true) ) * (( 1 - ( y_true*p + (1-y_true)*(1-p)) )**g) * ( y_true*np.log(p)+(1-y_true)*np.log(1-p) )\n",
    "    return 'focal_loss', np.mean(loss), False"
   ]
  },
  {
   "cell_type": "code",
   "execution_count": 72,
   "metadata": {},
   "outputs": [],
   "source": [
    "from sklearn.metrics import f1_score\n",
    "def evaluate_macroF1_lgb(y_true, y_pred):  \n",
    "    y_hat = np.where(y_pred < 0.5, 0, 1) \n",
    "    f1 = f1_score(y_true, y_hat, average='macro')\n",
    "    return ('macroF1', f1, True) "
   ]
  },
  {
   "cell_type": "code",
   "execution_count": 73,
   "metadata": {},
   "outputs": [],
   "source": [
    "gkf = StratifiedKFold(n_splits=5, shuffle=True, random_state=42)"
   ]
  },
  {
   "cell_type": "code",
   "execution_count": 74,
   "metadata": {},
   "outputs": [],
   "source": [
    "model = lightgbm.LGBMClassifier(class_weight={0:1.5,1:1}, learning_rate=0.1)"
   ]
  },
  {
   "cell_type": "code",
   "execution_count": 75,
   "metadata": {},
   "outputs": [
    {
     "name": "stderr",
     "output_type": "stream",
     "text": [
      "/usr/local/lib/python3.6/dist-packages/sklearn/preprocessing/_label.py:235: DataConversionWarning: A column-vector y was passed when a 1d array was expected. Please change the shape of y to (n_samples, ), for example using ravel().\n",
      "  y = column_or_1d(y, warn=True)\n",
      "/usr/local/lib/python3.6/dist-packages/sklearn/preprocessing/_label.py:268: DataConversionWarning: A column-vector y was passed when a 1d array was expected. Please change the shape of y to (n_samples, ), for example using ravel().\n",
      "  y = column_or_1d(y, warn=True)\n"
     ]
    },
    {
     "name": "stdout",
     "output_type": "stream",
     "text": [
      "[1]\tvalid_0's binary_logloss: 0.28951\tvalid_0's macroF1: 0.474268\n",
      "[2]\tvalid_0's binary_logloss: 0.266245\tvalid_0's macroF1: 0.474268\n",
      "[3]\tvalid_0's binary_logloss: 0.248837\tvalid_0's macroF1: 0.474268\n",
      "[4]\tvalid_0's binary_logloss: 0.235365\tvalid_0's macroF1: 0.474268\n",
      "[5]\tvalid_0's binary_logloss: 0.224279\tvalid_0's macroF1: 0.691565\n",
      "[6]\tvalid_0's binary_logloss: 0.214593\tvalid_0's macroF1: 0.743383\n",
      "[7]\tvalid_0's binary_logloss: 0.206098\tvalid_0's macroF1: 0.79792\n",
      "[8]\tvalid_0's binary_logloss: 0.198465\tvalid_0's macroF1: 0.810983\n",
      "[9]\tvalid_0's binary_logloss: 0.192515\tvalid_0's macroF1: 0.820103\n",
      "[10]\tvalid_0's binary_logloss: 0.186296\tvalid_0's macroF1: 0.826652\n",
      "[11]\tvalid_0's binary_logloss: 0.181639\tvalid_0's macroF1: 0.837845\n",
      "[12]\tvalid_0's binary_logloss: 0.177881\tvalid_0's macroF1: 0.839369\n",
      "[13]\tvalid_0's binary_logloss: 0.174443\tvalid_0's macroF1: 0.837385\n",
      "[14]\tvalid_0's binary_logloss: 0.171348\tvalid_0's macroF1: 0.840413\n",
      "[15]\tvalid_0's binary_logloss: 0.16799\tvalid_0's macroF1: 0.842038\n",
      "[16]\tvalid_0's binary_logloss: 0.165425\tvalid_0's macroF1: 0.845577\n",
      "[17]\tvalid_0's binary_logloss: 0.163209\tvalid_0's macroF1: 0.842649\n",
      "[18]\tvalid_0's binary_logloss: 0.160744\tvalid_0's macroF1: 0.844116\n",
      "[19]\tvalid_0's binary_logloss: 0.159037\tvalid_0's macroF1: 0.847617\n",
      "[20]\tvalid_0's binary_logloss: 0.156753\tvalid_0's macroF1: 0.849633\n",
      "[21]\tvalid_0's binary_logloss: 0.155292\tvalid_0's macroF1: 0.851364\n",
      "[22]\tvalid_0's binary_logloss: 0.153446\tvalid_0's macroF1: 0.855646\n",
      "[23]\tvalid_0's binary_logloss: 0.152051\tvalid_0's macroF1: 0.8576\n",
      "[24]\tvalid_0's binary_logloss: 0.150811\tvalid_0's macroF1: 0.85619\n",
      "[25]\tvalid_0's binary_logloss: 0.149999\tvalid_0's macroF1: 0.859878\n",
      "[26]\tvalid_0's binary_logloss: 0.149111\tvalid_0's macroF1: 0.85619\n",
      "[27]\tvalid_0's binary_logloss: 0.148242\tvalid_0's macroF1: 0.8576\n",
      "[28]\tvalid_0's binary_logloss: 0.147142\tvalid_0's macroF1: 0.864567\n",
      "[29]\tvalid_0's binary_logloss: 0.145915\tvalid_0's macroF1: 0.863692\n",
      "[30]\tvalid_0's binary_logloss: 0.145339\tvalid_0's macroF1: 0.864567\n",
      "[31]\tvalid_0's binary_logloss: 0.144779\tvalid_0's macroF1: 0.865068\n",
      "[32]\tvalid_0's binary_logloss: 0.14426\tvalid_0's macroF1: 0.864195\n",
      "[33]\tvalid_0's binary_logloss: 0.143556\tvalid_0's macroF1: 0.862819\n",
      "[34]\tvalid_0's binary_logloss: 0.143528\tvalid_0's macroF1: 0.863325\n",
      "[35]\tvalid_0's binary_logloss: 0.143199\tvalid_0's macroF1: 0.863325\n",
      "[36]\tvalid_0's binary_logloss: 0.143059\tvalid_0's macroF1: 0.86195\n",
      "[37]\tvalid_0's binary_logloss: 0.142603\tvalid_0's macroF1: 0.861439\n",
      "[38]\tvalid_0's binary_logloss: 0.14266\tvalid_0's macroF1: 0.861439\n",
      "[39]\tvalid_0's binary_logloss: 0.142429\tvalid_0's macroF1: 0.862819\n",
      "[40]\tvalid_0's binary_logloss: 0.142215\tvalid_0's macroF1: 0.862819\n",
      "[41]\tvalid_0's binary_logloss: 0.14235\tvalid_0's macroF1: 0.864195\n",
      "[42]\tvalid_0's binary_logloss: 0.142386\tvalid_0's macroF1: 0.864694\n",
      "[43]\tvalid_0's binary_logloss: 0.142142\tvalid_0's macroF1: 0.864694\n",
      "[44]\tvalid_0's binary_logloss: 0.14174\tvalid_0's macroF1: 0.864694\n",
      "[45]\tvalid_0's binary_logloss: 0.141867\tvalid_0's macroF1: 0.864694\n",
      "[46]\tvalid_0's binary_logloss: 0.14191\tvalid_0's macroF1: 0.862961\n",
      "[47]\tvalid_0's binary_logloss: 0.141906\tvalid_0's macroF1: 0.863325\n",
      "[48]\tvalid_0's binary_logloss: 0.141872\tvalid_0's macroF1: 0.864195\n",
      "[49]\tvalid_0's binary_logloss: 0.141784\tvalid_0's macroF1: 0.863325\n",
      "[50]\tvalid_0's binary_logloss: 0.141638\tvalid_0's macroF1: 0.865068\n",
      "[51]\tvalid_0's binary_logloss: 0.141787\tvalid_0's macroF1: 0.864195\n",
      "[52]\tvalid_0's binary_logloss: 0.141571\tvalid_0's macroF1: 0.864195\n",
      "[53]\tvalid_0's binary_logloss: 0.141413\tvalid_0's macroF1: 0.865565\n",
      "[54]\tvalid_0's binary_logloss: 0.141519\tvalid_0's macroF1: 0.865565\n",
      "[55]\tvalid_0's binary_logloss: 0.141913\tvalid_0's macroF1: 0.862819\n",
      "[56]\tvalid_0's binary_logloss: 0.141925\tvalid_0's macroF1: 0.861084\n",
      "[57]\tvalid_0's binary_logloss: 0.141679\tvalid_0's macroF1: 0.861084\n",
      "[58]\tvalid_0's binary_logloss: 0.141516\tvalid_0's macroF1: 0.86195\n",
      "[59]\tvalid_0's binary_logloss: 0.141567\tvalid_0's macroF1: 0.86195\n",
      "[60]\tvalid_0's binary_logloss: 0.141535\tvalid_0's macroF1: 0.86195\n",
      "[61]\tvalid_0's binary_logloss: 0.141232\tvalid_0's macroF1: 0.862819\n",
      "[62]\tvalid_0's binary_logloss: 0.141248\tvalid_0's macroF1: 0.863325\n",
      "[63]\tvalid_0's binary_logloss: 0.141185\tvalid_0's macroF1: 0.864195\n",
      "[64]\tvalid_0's binary_logloss: 0.141335\tvalid_0's macroF1: 0.864195\n",
      "[65]\tvalid_0's binary_logloss: 0.141165\tvalid_0's macroF1: 0.862819\n",
      "[66]\tvalid_0's binary_logloss: 0.14124\tvalid_0's macroF1: 0.862819\n",
      "[67]\tvalid_0's binary_logloss: 0.141253\tvalid_0's macroF1: 0.862819\n",
      "[68]\tvalid_0's binary_logloss: 0.141021\tvalid_0's macroF1: 0.861084\n",
      "[69]\tvalid_0's binary_logloss: 0.140987\tvalid_0's macroF1: 0.861084\n",
      "[70]\tvalid_0's binary_logloss: 0.141078\tvalid_0's macroF1: 0.860221\n",
      "[71]\tvalid_0's binary_logloss: 0.140966\tvalid_0's macroF1: 0.860221\n",
      "[72]\tvalid_0's binary_logloss: 0.140888\tvalid_0's macroF1: 0.861084\n",
      "[73]\tvalid_0's binary_logloss: 0.140898\tvalid_0's macroF1: 0.859706\n",
      "[74]\tvalid_0's binary_logloss: 0.141266\tvalid_0's macroF1: 0.859706\n",
      "[75]\tvalid_0's binary_logloss: 0.141388\tvalid_0's macroF1: 0.859706\n",
      "[76]\tvalid_0's binary_logloss: 0.141545\tvalid_0's macroF1: 0.859706\n",
      "[77]\tvalid_0's binary_logloss: 0.141534\tvalid_0's macroF1: 0.861084\n",
      "[78]\tvalid_0's binary_logloss: 0.141554\tvalid_0's macroF1: 0.86195\n",
      "[79]\tvalid_0's binary_logloss: 0.141709\tvalid_0's macroF1: 0.864694\n",
      "[80]\tvalid_0's binary_logloss: 0.14168\tvalid_0's macroF1: 0.864195\n",
      "[81]\tvalid_0's binary_logloss: 0.141869\tvalid_0's macroF1: 0.863325\n",
      "[82]\tvalid_0's binary_logloss: 0.141622\tvalid_0's macroF1: 0.863826\n",
      "[83]\tvalid_0's binary_logloss: 0.141127\tvalid_0's macroF1: 0.864694\n",
      "[84]\tvalid_0's binary_logloss: 0.141371\tvalid_0's macroF1: 0.859361\n",
      "[85]\tvalid_0's binary_logloss: 0.141603\tvalid_0's macroF1: 0.860221\n",
      "[86]\tvalid_0's binary_logloss: 0.141564\tvalid_0's macroF1: 0.862099\n",
      "[87]\tvalid_0's binary_logloss: 0.141596\tvalid_0's macroF1: 0.861594\n",
      "[88]\tvalid_0's binary_logloss: 0.141241\tvalid_0's macroF1: 0.862458\n",
      "[89]\tvalid_0's binary_logloss: 0.14097\tvalid_0's macroF1: 0.862458\n",
      "[90]\tvalid_0's binary_logloss: 0.141224\tvalid_0's macroF1: 0.861084\n",
      "[91]\tvalid_0's binary_logloss: 0.141254\tvalid_0's macroF1: 0.863325\n",
      "[92]\tvalid_0's binary_logloss: 0.141161\tvalid_0's macroF1: 0.862458\n",
      "[93]\tvalid_0's binary_logloss: 0.141243\tvalid_0's macroF1: 0.861084\n",
      "[94]\tvalid_0's binary_logloss: 0.141182\tvalid_0's macroF1: 0.86195\n",
      "[95]\tvalid_0's binary_logloss: 0.141363\tvalid_0's macroF1: 0.863325\n",
      "[96]\tvalid_0's binary_logloss: 0.141399\tvalid_0's macroF1: 0.86195\n",
      "[97]\tvalid_0's binary_logloss: 0.14155\tvalid_0's macroF1: 0.86195\n",
      "[98]\tvalid_0's binary_logloss: 0.141667\tvalid_0's macroF1: 0.86195\n",
      "[99]\tvalid_0's binary_logloss: 0.141807\tvalid_0's macroF1: 0.862819\n",
      "[100]\tvalid_0's binary_logloss: 0.141843\tvalid_0's macroF1: 0.862819\n",
      "[1]\tvalid_0's binary_logloss: 0.292416\tvalid_0's macroF1: 0.474268\n",
      "[2]\tvalid_0's binary_logloss: 0.27074\tvalid_0's macroF1: 0.474268\n",
      "[3]\tvalid_0's binary_logloss: 0.254827\tvalid_0's macroF1: 0.474268\n",
      "[4]\tvalid_0's binary_logloss: 0.241028\tvalid_0's macroF1: 0.474268\n",
      "[5]\tvalid_0's binary_logloss: 0.229839\tvalid_0's macroF1: 0.664717\n",
      "[6]\tvalid_0's binary_logloss: 0.220006\tvalid_0's macroF1: 0.739199\n",
      "[7]\tvalid_0's binary_logloss: 0.212167\tvalid_0's macroF1: 0.765945\n",
      "[8]\tvalid_0's binary_logloss: 0.204256\tvalid_0's macroF1: 0.786269\n",
      "[9]\tvalid_0's binary_logloss: 0.198526\tvalid_0's macroF1: 0.801485"
     ]
    },
    {
     "name": "stderr",
     "output_type": "stream",
     "text": [
      "/usr/local/lib/python3.6/dist-packages/sklearn/preprocessing/_label.py:235: DataConversionWarning: A column-vector y was passed when a 1d array was expected. Please change the shape of y to (n_samples, ), for example using ravel().\n",
      "  y = column_or_1d(y, warn=True)\n",
      "/usr/local/lib/python3.6/dist-packages/sklearn/preprocessing/_label.py:268: DataConversionWarning: A column-vector y was passed when a 1d array was expected. Please change the shape of y to (n_samples, ), for example using ravel().\n",
      "  y = column_or_1d(y, warn=True)\n"
     ]
    },
    {
     "name": "stdout",
     "output_type": "stream",
     "text": [
      "\n",
      "[10]\tvalid_0's binary_logloss: 0.193344\tvalid_0's macroF1: 0.804075\n",
      "[11]\tvalid_0's binary_logloss: 0.188255\tvalid_0's macroF1: 0.810014\n",
      "[12]\tvalid_0's binary_logloss: 0.184398\tvalid_0's macroF1: 0.812437\n",
      "[13]\tvalid_0's binary_logloss: 0.180773\tvalid_0's macroF1: 0.80992\n",
      "[14]\tvalid_0's binary_logloss: 0.17735\tvalid_0's macroF1: 0.813939\n",
      "[15]\tvalid_0's binary_logloss: 0.174694\tvalid_0's macroF1: 0.813939\n",
      "[16]\tvalid_0's binary_logloss: 0.171739\tvalid_0's macroF1: 0.815564\n",
      "[17]\tvalid_0's binary_logloss: 0.169926\tvalid_0's macroF1: 0.817085\n",
      "[18]\tvalid_0's binary_logloss: 0.167485\tvalid_0's macroF1: 0.823448\n",
      "[19]\tvalid_0's binary_logloss: 0.166202\tvalid_0's macroF1: 0.831932\n",
      "[20]\tvalid_0's binary_logloss: 0.164609\tvalid_0's macroF1: 0.832602\n",
      "[21]\tvalid_0's binary_logloss: 0.163247\tvalid_0's macroF1: 0.832409\n",
      "[22]\tvalid_0's binary_logloss: 0.162132\tvalid_0's macroF1: 0.830702\n",
      "[23]\tvalid_0's binary_logloss: 0.160998\tvalid_0's macroF1: 0.833524\n",
      "[24]\tvalid_0's binary_logloss: 0.160235\tvalid_0's macroF1: 0.832678\n",
      "[25]\tvalid_0's binary_logloss: 0.158948\tvalid_0's macroF1: 0.835656\n",
      "[26]\tvalid_0's binary_logloss: 0.158255\tvalid_0's macroF1: 0.837136\n",
      "[27]\tvalid_0's binary_logloss: 0.157739\tvalid_0's macroF1: 0.837136\n",
      "[28]\tvalid_0's binary_logloss: 0.156915\tvalid_0's macroF1: 0.841177\n",
      "[29]\tvalid_0's binary_logloss: 0.156094\tvalid_0's macroF1: 0.845577\n",
      "[30]\tvalid_0's binary_logloss: 0.156028\tvalid_0's macroF1: 0.841542\n",
      "[31]\tvalid_0's binary_logloss: 0.155333\tvalid_0's macroF1: 0.840079\n",
      "[32]\tvalid_0's binary_logloss: 0.154986\tvalid_0's macroF1: 0.841542\n",
      "[33]\tvalid_0's binary_logloss: 0.154724\tvalid_0's macroF1: 0.843856\n",
      "[34]\tvalid_0's binary_logloss: 0.154662\tvalid_0's macroF1: 0.845042\n",
      "[35]\tvalid_0's binary_logloss: 0.154251\tvalid_0's macroF1: 0.846481\n",
      "[36]\tvalid_0's binary_logloss: 0.153921\tvalid_0's macroF1: 0.846481\n",
      "[37]\tvalid_0's binary_logloss: 0.153544\tvalid_0's macroF1: 0.847337\n",
      "[38]\tvalid_0's binary_logloss: 0.153123\tvalid_0's macroF1: 0.845042\n",
      "[39]\tvalid_0's binary_logloss: 0.153076\tvalid_0's macroF1: 0.844189\n",
      "[40]\tvalid_0's binary_logloss: 0.152737\tvalid_0's macroF1: 0.845897\n",
      "[41]\tvalid_0's binary_logloss: 0.152133\tvalid_0's macroF1: 0.846481\n",
      "[42]\tvalid_0's binary_logloss: 0.151936\tvalid_0's macroF1: 0.849342\n",
      "[43]\tvalid_0's binary_logloss: 0.151672\tvalid_0's macroF1: 0.852182\n",
      "[44]\tvalid_0's binary_logloss: 0.151482\tvalid_0's macroF1: 0.852182\n",
      "[45]\tvalid_0's binary_logloss: 0.151161\tvalid_0's macroF1: 0.850765\n",
      "[46]\tvalid_0's binary_logloss: 0.151526\tvalid_0's macroF1: 0.852182\n",
      "[47]\tvalid_0's binary_logloss: 0.151429\tvalid_0's macroF1: 0.852182\n",
      "[48]\tvalid_0's binary_logloss: 0.151539\tvalid_0's macroF1: 0.852182\n",
      "[49]\tvalid_0's binary_logloss: 0.151334\tvalid_0's macroF1: 0.852182\n",
      "[50]\tvalid_0's binary_logloss: 0.151315\tvalid_0's macroF1: 0.852182\n",
      "[51]\tvalid_0's binary_logloss: 0.151196\tvalid_0's macroF1: 0.852182\n",
      "[52]\tvalid_0's binary_logloss: 0.150938\tvalid_0's macroF1: 0.852182\n",
      "[53]\tvalid_0's binary_logloss: 0.150967\tvalid_0's macroF1: 0.853043\n",
      "[54]\tvalid_0's binary_logloss: 0.151057\tvalid_0's macroF1: 0.853593\n",
      "[55]\tvalid_0's binary_logloss: 0.151102\tvalid_0's macroF1: 0.853593\n",
      "[56]\tvalid_0's binary_logloss: 0.151049\tvalid_0's macroF1: 0.853593\n",
      "[57]\tvalid_0's binary_logloss: 0.151004\tvalid_0's macroF1: 0.852182\n",
      "[58]\tvalid_0's binary_logloss: 0.151134\tvalid_0's macroF1: 0.853043\n",
      "[59]\tvalid_0's binary_logloss: 0.151071\tvalid_0's macroF1: 0.851625\n",
      "[60]\tvalid_0's binary_logloss: 0.151244\tvalid_0's macroF1: 0.848197\n",
      "[61]\tvalid_0's binary_logloss: 0.151372\tvalid_0's macroF1: 0.846756\n",
      "[62]\tvalid_0's binary_logloss: 0.151242\tvalid_0's macroF1: 0.847033\n",
      "[63]\tvalid_0's binary_logloss: 0.151343\tvalid_0's macroF1: 0.846169\n",
      "[64]\tvalid_0's binary_logloss: 0.151367\tvalid_0's macroF1: 0.846169\n",
      "[65]\tvalid_0's binary_logloss: 0.15132\tvalid_0's macroF1: 0.845577\n",
      "[66]\tvalid_0's binary_logloss: 0.151197\tvalid_0's macroF1: 0.845577\n",
      "[67]\tvalid_0's binary_logloss: 0.151383\tvalid_0's macroF1: 0.847033\n",
      "[68]\tvalid_0's binary_logloss: 0.151633\tvalid_0's macroF1: 0.847033\n",
      "[69]\tvalid_0's binary_logloss: 0.152051\tvalid_0's macroF1: 0.846169\n",
      "[70]\tvalid_0's binary_logloss: 0.152085\tvalid_0's macroF1: 0.846756\n",
      "[71]\tvalid_0's binary_logloss: 0.152094\tvalid_0's macroF1: 0.845308\n",
      "[72]\tvalid_0's binary_logloss: 0.15232\tvalid_0's macroF1: 0.846169\n",
      "[73]\tvalid_0's binary_logloss: 0.152731\tvalid_0's macroF1: 0.846169\n",
      "[74]\tvalid_0's binary_logloss: 0.152528\tvalid_0's macroF1: 0.844451\n",
      "[75]\tvalid_0's binary_logloss: 0.152641\tvalid_0's macroF1: 0.844451\n",
      "[76]\tvalid_0's binary_logloss: 0.152702\tvalid_0's macroF1: 0.845308\n",
      "[77]\tvalid_0's binary_logloss: 0.152875\tvalid_0's macroF1: 0.841542\n",
      "[78]\tvalid_0's binary_logloss: 0.15306\tvalid_0's macroF1: 0.840691\n",
      "[79]\tvalid_0's binary_logloss: 0.152792\tvalid_0's macroF1: 0.840691\n",
      "[80]\tvalid_0's binary_logloss: 0.152813\tvalid_0's macroF1: 0.839229\n",
      "[81]\tvalid_0's binary_logloss: 0.153211\tvalid_0's macroF1: 0.840079\n",
      "[82]\tvalid_0's binary_logloss: 0.153233\tvalid_0's macroF1: 0.839229\n",
      "[83]\tvalid_0's binary_logloss: 0.153451\tvalid_0's macroF1: 0.838382\n",
      "[84]\tvalid_0's binary_logloss: 0.153435\tvalid_0's macroF1: 0.838382\n",
      "[85]\tvalid_0's binary_logloss: 0.153416\tvalid_0's macroF1: 0.842147\n",
      "[86]\tvalid_0's binary_logloss: 0.153595\tvalid_0's macroF1: 0.841898\n",
      "[87]\tvalid_0's binary_logloss: 0.153637\tvalid_0's macroF1: 0.841053\n",
      "[88]\tvalid_0's binary_logloss: 0.153667\tvalid_0's macroF1: 0.839607\n",
      "[89]\tvalid_0's binary_logloss: 0.153897\tvalid_0's macroF1: 0.839607\n",
      "[90]\tvalid_0's binary_logloss: 0.153952\tvalid_0's macroF1: 0.838155\n",
      "[91]\tvalid_0's binary_logloss: 0.154222\tvalid_0's macroF1: 0.838382\n",
      "[92]\tvalid_0's binary_logloss: 0.154262\tvalid_0's macroF1: 0.837538\n",
      "[93]\tvalid_0's binary_logloss: 0.154156\tvalid_0's macroF1: 0.838382\n",
      "[94]\tvalid_0's binary_logloss: 0.154508\tvalid_0's macroF1: 0.838382\n",
      "[95]\tvalid_0's binary_logloss: 0.154724\tvalid_0's macroF1: 0.839229\n",
      "[96]\tvalid_0's binary_logloss: 0.154786\tvalid_0's macroF1: 0.839229\n",
      "[97]\tvalid_0's binary_logloss: 0.154931\tvalid_0's macroF1: 0.840691\n",
      "[98]\tvalid_0's binary_logloss: 0.155081\tvalid_0's macroF1: 0.840691\n",
      "[99]\tvalid_0's binary_logloss: 0.154719\tvalid_0's macroF1: 0.839229\n",
      "[100]\tvalid_0's binary_logloss: 0.154781\tvalid_0's macroF1: 0.840691\n",
      "[1]\tvalid_0's binary_logloss: 0.29398\tvalid_0's macroF1: 0.474268\n",
      "[2]\tvalid_0's binary_logloss: 0.271964\tvalid_0's macroF1: 0.474268\n",
      "[3]\tvalid_0's binary_logloss: 0.2559\tvalid_0's macroF1: 0.474268\n",
      "[4]\tvalid_0's binary_logloss: 0.242102\tvalid_0's macroF1: 0.474268\n",
      "[5]\tvalid_0's binary_logloss: 0.230446\tvalid_0's macroF1: 0.648442\n",
      "[6]\tvalid_0's binary_logloss: 0.220618\tvalid_0's macroF1: 0.750002\n"
     ]
    },
    {
     "name": "stderr",
     "output_type": "stream",
     "text": [
      "/usr/local/lib/python3.6/dist-packages/sklearn/preprocessing/_label.py:235: DataConversionWarning: A column-vector y was passed when a 1d array was expected. Please change the shape of y to (n_samples, ), for example using ravel().\n",
      "  y = column_or_1d(y, warn=True)\n",
      "/usr/local/lib/python3.6/dist-packages/sklearn/preprocessing/_label.py:268: DataConversionWarning: A column-vector y was passed when a 1d array was expected. Please change the shape of y to (n_samples, ), for example using ravel().\n",
      "  y = column_or_1d(y, warn=True)\n"
     ]
    },
    {
     "name": "stdout",
     "output_type": "stream",
     "text": [
      "[7]\tvalid_0's binary_logloss: 0.212485\tvalid_0's macroF1: 0.771408\n",
      "[8]\tvalid_0's binary_logloss: 0.205891\tvalid_0's macroF1: 0.787239\n",
      "[9]\tvalid_0's binary_logloss: 0.200296\tvalid_0's macroF1: 0.804069\n",
      "[10]\tvalid_0's binary_logloss: 0.195181\tvalid_0's macroF1: 0.809109\n",
      "[11]\tvalid_0's binary_logloss: 0.189827\tvalid_0's macroF1: 0.819008\n",
      "[12]\tvalid_0's binary_logloss: 0.185093\tvalid_0's macroF1: 0.824594\n",
      "[13]\tvalid_0's binary_logloss: 0.181413\tvalid_0's macroF1: 0.82445\n",
      "[14]\tvalid_0's binary_logloss: 0.177784\tvalid_0's macroF1: 0.826748\n",
      "[15]\tvalid_0's binary_logloss: 0.17459\tvalid_0's macroF1: 0.828152\n",
      "[16]\tvalid_0's binary_logloss: 0.172302\tvalid_0's macroF1: 0.833267\n",
      "[17]\tvalid_0's binary_logloss: 0.1701\tvalid_0's macroF1: 0.832409\n",
      "[18]\tvalid_0's binary_logloss: 0.168271\tvalid_0's macroF1: 0.835437\n",
      "[19]\tvalid_0's binary_logloss: 0.166474\tvalid_0's macroF1: 0.83307\n",
      "[20]\tvalid_0's binary_logloss: 0.164585\tvalid_0's macroF1: 0.839935\n",
      "[21]\tvalid_0's binary_logloss: 0.163084\tvalid_0's macroF1: 0.842038\n",
      "[22]\tvalid_0's binary_logloss: 0.161557\tvalid_0's macroF1: 0.84179\n",
      "[23]\tvalid_0's binary_logloss: 0.160355\tvalid_0's macroF1: 0.843856\n",
      "[24]\tvalid_0's binary_logloss: 0.159455\tvalid_0's macroF1: 0.843\n",
      "[25]\tvalid_0's binary_logloss: 0.158441\tvalid_0's macroF1: 0.844451\n",
      "[26]\tvalid_0's binary_logloss: 0.15743\tvalid_0's macroF1: 0.846756\n",
      "[27]\tvalid_0's binary_logloss: 0.156431\tvalid_0's macroF1: 0.848772\n",
      "[28]\tvalid_0's binary_logloss: 0.155634\tvalid_0's macroF1: 0.849633\n",
      "[29]\tvalid_0's binary_logloss: 0.15501\tvalid_0's macroF1: 0.849633\n",
      "[30]\tvalid_0's binary_logloss: 0.154152\tvalid_0's macroF1: 0.848772\n",
      "[31]\tvalid_0's binary_logloss: 0.153281\tvalid_0's macroF1: 0.848772\n",
      "[32]\tvalid_0's binary_logloss: 0.153081\tvalid_0's macroF1: 0.848197\n",
      "[33]\tvalid_0's binary_logloss: 0.152585\tvalid_0's macroF1: 0.847337\n",
      "[34]\tvalid_0's binary_logloss: 0.152078\tvalid_0's macroF1: 0.843597\n",
      "[35]\tvalid_0's binary_logloss: 0.151619\tvalid_0's macroF1: 0.844777\n",
      "[36]\tvalid_0's binary_logloss: 0.151709\tvalid_0's macroF1: 0.847059\n",
      "[37]\tvalid_0's binary_logloss: 0.151171\tvalid_0's macroF1: 0.847059\n",
      "[38]\tvalid_0's binary_logloss: 0.150601\tvalid_0's macroF1: 0.846208\n",
      "[39]\tvalid_0's binary_logloss: 0.150724\tvalid_0's macroF1: 0.844189\n",
      "[40]\tvalid_0's binary_logloss: 0.150512\tvalid_0's macroF1: 0.844777\n",
      "[41]\tvalid_0's binary_logloss: 0.150227\tvalid_0's macroF1: 0.846783\n",
      "[42]\tvalid_0's binary_logloss: 0.150195\tvalid_0's macroF1: 0.847633\n",
      "[43]\tvalid_0's binary_logloss: 0.150375\tvalid_0's macroF1: 0.847633\n",
      "[44]\tvalid_0's binary_logloss: 0.150182\tvalid_0's macroF1: 0.847059\n",
      "[45]\tvalid_0's binary_logloss: 0.149827\tvalid_0's macroF1: 0.847914\n",
      "[46]\tvalid_0's binary_logloss: 0.150034\tvalid_0's macroF1: 0.847059\n",
      "[47]\tvalid_0's binary_logloss: 0.149803\tvalid_0's macroF1: 0.847059\n",
      "[48]\tvalid_0's binary_logloss: 0.149633\tvalid_0's macroF1: 0.848772\n",
      "[49]\tvalid_0's binary_logloss: 0.149241\tvalid_0's macroF1: 0.847337\n",
      "[50]\tvalid_0's binary_logloss: 0.149343\tvalid_0's macroF1: 0.845627\n",
      "[51]\tvalid_0's binary_logloss: 0.14954\tvalid_0's macroF1: 0.845897\n",
      "[52]\tvalid_0's binary_logloss: 0.149475\tvalid_0's macroF1: 0.847337\n",
      "[53]\tvalid_0's binary_logloss: 0.149506\tvalid_0's macroF1: 0.847337\n",
      "[54]\tvalid_0's binary_logloss: 0.14933\tvalid_0's macroF1: 0.847337\n",
      "[55]\tvalid_0's binary_logloss: 0.149002\tvalid_0's macroF1: 0.847337\n",
      "[56]\tvalid_0's binary_logloss: 0.149101\tvalid_0's macroF1: 0.849633\n",
      "[57]\tvalid_0's binary_logloss: 0.149359\tvalid_0's macroF1: 0.848772\n",
      "[58]\tvalid_0's binary_logloss: 0.149424\tvalid_0's macroF1: 0.849633\n",
      "[59]\tvalid_0's binary_logloss: 0.149134\tvalid_0's macroF1: 0.850497\n",
      "[60]\tvalid_0's binary_logloss: 0.149337\tvalid_0's macroF1: 0.84906\n",
      "[61]\tvalid_0's binary_logloss: 0.149302\tvalid_0's macroF1: 0.849633\n",
      "[62]\tvalid_0's binary_logloss: 0.149397\tvalid_0's macroF1: 0.848772\n",
      "[63]\tvalid_0's binary_logloss: 0.149264\tvalid_0's macroF1: 0.850497\n",
      "[64]\tvalid_0's binary_logloss: 0.149303\tvalid_0's macroF1: 0.84906\n",
      "[65]\tvalid_0's binary_logloss: 0.149423\tvalid_0's macroF1: 0.846169\n",
      "[66]\tvalid_0's binary_logloss: 0.149488\tvalid_0's macroF1: 0.847617\n",
      "[67]\tvalid_0's binary_logloss: 0.149751\tvalid_0's macroF1: 0.845308\n",
      "[68]\tvalid_0's binary_logloss: 0.149688\tvalid_0's macroF1: 0.847617\n",
      "[69]\tvalid_0's binary_logloss: 0.149896\tvalid_0's macroF1: 0.847617\n",
      "[70]\tvalid_0's binary_logloss: 0.149902\tvalid_0's macroF1: 0.850497\n",
      "[71]\tvalid_0's binary_logloss: 0.150184\tvalid_0's macroF1: 0.84906\n",
      "[72]\tvalid_0's binary_logloss: 0.14998\tvalid_0's macroF1: 0.84906\n",
      "[73]\tvalid_0's binary_logloss: 0.150105\tvalid_0's macroF1: 0.848197\n",
      "[74]\tvalid_0's binary_logloss: 0.150103\tvalid_0's macroF1: 0.848197\n",
      "[75]\tvalid_0's binary_logloss: 0.149861\tvalid_0's macroF1: 0.848197\n",
      "[76]\tvalid_0's binary_logloss: 0.149892\tvalid_0's macroF1: 0.848197\n",
      "[77]\tvalid_0's binary_logloss: 0.150099\tvalid_0's macroF1: 0.847617\n",
      "[78]\tvalid_0's binary_logloss: 0.150189\tvalid_0's macroF1: 0.847617\n",
      "[79]\tvalid_0's binary_logloss: 0.150236\tvalid_0's macroF1: 0.846756\n",
      "[80]\tvalid_0's binary_logloss: 0.150345\tvalid_0's macroF1: 0.846756\n",
      "[81]\tvalid_0's binary_logloss: 0.150259\tvalid_0's macroF1: 0.848482\n",
      "[82]\tvalid_0's binary_logloss: 0.15042\tvalid_0's macroF1: 0.847617\n",
      "[83]\tvalid_0's binary_logloss: 0.150598\tvalid_0's macroF1: 0.846756\n",
      "[84]\tvalid_0's binary_logloss: 0.150637\tvalid_0's macroF1: 0.846756\n",
      "[85]\tvalid_0's binary_logloss: 0.150727\tvalid_0's macroF1: 0.847617\n",
      "[86]\tvalid_0's binary_logloss: 0.150657\tvalid_0's macroF1: 0.845897\n",
      "[87]\tvalid_0's binary_logloss: 0.15101\tvalid_0's macroF1: 0.845897\n",
      "[88]\tvalid_0's binary_logloss: 0.151215\tvalid_0's macroF1: 0.844451\n",
      "[89]\tvalid_0's binary_logloss: 0.151075\tvalid_0's macroF1: 0.844451\n",
      "[90]\tvalid_0's binary_logloss: 0.151243\tvalid_0's macroF1: 0.847617\n",
      "[91]\tvalid_0's binary_logloss: 0.151224\tvalid_0's macroF1: 0.84935\n",
      "[92]\tvalid_0's binary_logloss: 0.151652\tvalid_0's macroF1: 0.848482\n",
      "[93]\tvalid_0's binary_logloss: 0.151653\tvalid_0's macroF1: 0.849926\n",
      "[94]\tvalid_0's binary_logloss: 0.15169\tvalid_0's macroF1: 0.850795\n",
      "[95]\tvalid_0's binary_logloss: 0.151436\tvalid_0's macroF1: 0.850795\n",
      "[96]\tvalid_0's binary_logloss: 0.151892\tvalid_0's macroF1: 0.849926\n",
      "[97]\tvalid_0's binary_logloss: 0.151947\tvalid_0's macroF1: 0.850795\n",
      "[98]\tvalid_0's binary_logloss: 0.152075\tvalid_0's macroF1: 0.849926\n",
      "[99]\tvalid_0's binary_logloss: 0.152133\tvalid_0's macroF1: 0.850795\n",
      "[100]\tvalid_0's binary_logloss: 0.152265\tvalid_0's macroF1: 0.84935\n",
      "[1]\tvalid_0's binary_logloss: 0.29051\tvalid_0's macroF1: 0.474268\n",
      "[2]\tvalid_0's binary_logloss: 0.267613\tvalid_0's macroF1: 0.474268\n",
      "[3]\tvalid_0's binary_logloss: 0.249636\tvalid_0's macroF1: 0.474268\n",
      "[4]\tvalid_0's binary_logloss: 0.235278\tvalid_0's macroF1: 0.48183\n",
      "[5]\tvalid_0's binary_logloss: 0.223721\tvalid_0's macroF1: 0.722897\n",
      "[6]\tvalid_0's binary_logloss: 0.21301\tvalid_0's macroF1: 0.752442\n",
      "[7]\tvalid_0's binary_logloss: 0.204443\tvalid_0's macroF1: 0.79875\n",
      "[8]\tvalid_0's binary_logloss: 0.196781\tvalid_0's macroF1: 0.81865\n",
      "[9]\tvalid_0's binary_logloss: 0.190795\tvalid_0's macroF1: 0.817665\n",
      "[10]\tvalid_0's binary_logloss: 0.185426\tvalid_0's macroF1: 0.822636\n",
      "[11]\tvalid_0's binary_logloss: 0.179764\tvalid_0's macroF1: 0.819008\n",
      "[12]\tvalid_0's binary_logloss: 0.175199\tvalid_0's macroF1: 0.823862\n",
      "[13]\tvalid_0's binary_logloss: 0.171453\tvalid_0's macroF1: 0.832506\n",
      "[14]\tvalid_0's binary_logloss: 0.16819\tvalid_0's macroF1: 0.833189\n",
      "[15]\tvalid_0's binary_logloss: 0.164845\tvalid_0's macroF1: 0.835413\n",
      "[16]\tvalid_0's binary_logloss: 0.162317\tvalid_0's macroF1: 0.841289\n",
      "[17]\tvalid_0's binary_logloss: 0.160247\tvalid_0's macroF1: 0.841289\n",
      "[18]\tvalid_0's binary_logloss: 0.158456\tvalid_0's macroF1: 0.840413\n"
     ]
    },
    {
     "name": "stderr",
     "output_type": "stream",
     "text": [
      "/usr/local/lib/python3.6/dist-packages/sklearn/preprocessing/_label.py:235: DataConversionWarning: A column-vector y was passed when a 1d array was expected. Please change the shape of y to (n_samples, ), for example using ravel().\n",
      "  y = column_or_1d(y, warn=True)\n",
      "/usr/local/lib/python3.6/dist-packages/sklearn/preprocessing/_label.py:268: DataConversionWarning: A column-vector y was passed when a 1d array was expected. Please change the shape of y to (n_samples, ), for example using ravel().\n",
      "  y = column_or_1d(y, warn=True)\n"
     ]
    },
    {
     "name": "stdout",
     "output_type": "stream",
     "text": [
      "[19]\tvalid_0's binary_logloss: 0.156036\tvalid_0's macroF1: 0.842541\n",
      "[20]\tvalid_0's binary_logloss: 0.153847\tvalid_0's macroF1: 0.840173\n",
      "[21]\tvalid_0's binary_logloss: 0.152262\tvalid_0's macroF1: 0.83954\n",
      "[22]\tvalid_0's binary_logloss: 0.151059\tvalid_0's macroF1: 0.83954\n",
      "[23]\tvalid_0's binary_logloss: 0.149534\tvalid_0's macroF1: 0.841669\n",
      "[24]\tvalid_0's binary_logloss: 0.14827\tvalid_0's macroF1: 0.843159\n",
      "[25]\tvalid_0's binary_logloss: 0.14723\tvalid_0's macroF1: 0.843159\n",
      "[26]\tvalid_0's binary_logloss: 0.146091\tvalid_0's macroF1: 0.843159\n",
      "[27]\tvalid_0's binary_logloss: 0.145078\tvalid_0's macroF1: 0.842289\n",
      "[28]\tvalid_0's binary_logloss: 0.144214\tvalid_0's macroF1: 0.843771\n",
      "[29]\tvalid_0's binary_logloss: 0.143135\tvalid_0's macroF1: 0.843512\n",
      "[30]\tvalid_0's binary_logloss: 0.142339\tvalid_0's macroF1: 0.845848\n",
      "[31]\tvalid_0's binary_logloss: 0.141409\tvalid_0's macroF1: 0.847312\n",
      "[32]\tvalid_0's binary_logloss: 0.141029\tvalid_0's macroF1: 0.847899\n",
      "[33]\tvalid_0's binary_logloss: 0.140283\tvalid_0's macroF1: 0.847899\n",
      "[34]\tvalid_0's binary_logloss: 0.139693\tvalid_0's macroF1: 0.850222\n",
      "[35]\tvalid_0's binary_logloss: 0.139224\tvalid_0's macroF1: 0.851668\n",
      "[36]\tvalid_0's binary_logloss: 0.13923\tvalid_0's macroF1: 0.852544\n",
      "[37]\tvalid_0's binary_logloss: 0.13919\tvalid_0's macroF1: 0.852544\n",
      "[38]\tvalid_0's binary_logloss: 0.138973\tvalid_0's macroF1: 0.851096\n",
      "[39]\tvalid_0's binary_logloss: 0.139025\tvalid_0's macroF1: 0.851096\n",
      "[40]\tvalid_0's binary_logloss: 0.139051\tvalid_0's macroF1: 0.849643\n",
      "[41]\tvalid_0's binary_logloss: 0.138876\tvalid_0's macroF1: 0.846443\n",
      "[42]\tvalid_0's binary_logloss: 0.139028\tvalid_0's macroF1: 0.846443\n",
      "[43]\tvalid_0's binary_logloss: 0.139296\tvalid_0's macroF1: 0.849926\n",
      "[44]\tvalid_0's binary_logloss: 0.138907\tvalid_0's macroF1: 0.84906\n",
      "[45]\tvalid_0's binary_logloss: 0.138788\tvalid_0's macroF1: 0.84906\n",
      "[46]\tvalid_0's binary_logloss: 0.138519\tvalid_0's macroF1: 0.846756\n",
      "[47]\tvalid_0's binary_logloss: 0.138687\tvalid_0's macroF1: 0.849633\n",
      "[48]\tvalid_0's binary_logloss: 0.138168\tvalid_0's macroF1: 0.851929\n",
      "[49]\tvalid_0's binary_logloss: 0.138119\tvalid_0's macroF1: 0.849633\n",
      "[50]\tvalid_0's binary_logloss: 0.138115\tvalid_0's macroF1: 0.850201\n",
      "[51]\tvalid_0's binary_logloss: 0.1381\tvalid_0's macroF1: 0.847914\n",
      "[52]\tvalid_0's binary_logloss: 0.137917\tvalid_0's macroF1: 0.848772\n",
      "[53]\tvalid_0's binary_logloss: 0.137776\tvalid_0's macroF1: 0.849342\n",
      "[54]\tvalid_0's binary_logloss: 0.137847\tvalid_0's macroF1: 0.849342\n",
      "[55]\tvalid_0's binary_logloss: 0.137997\tvalid_0's macroF1: 0.847914\n",
      "[56]\tvalid_0's binary_logloss: 0.137854\tvalid_0's macroF1: 0.847059\n",
      "[57]\tvalid_0's binary_logloss: 0.137664\tvalid_0's macroF1: 0.845627\n",
      "[58]\tvalid_0's binary_logloss: 0.137623\tvalid_0's macroF1: 0.842746\n",
      "[59]\tvalid_0's binary_logloss: 0.137725\tvalid_0's macroF1: 0.84334\n",
      "[60]\tvalid_0's binary_logloss: 0.137758\tvalid_0's macroF1: 0.844189\n",
      "[61]\tvalid_0's binary_logloss: 0.137311\tvalid_0's macroF1: 0.844189\n",
      "[62]\tvalid_0's binary_logloss: 0.137307\tvalid_0's macroF1: 0.844189\n",
      "[63]\tvalid_0's binary_logloss: 0.137274\tvalid_0's macroF1: 0.844189\n",
      "[64]\tvalid_0's binary_logloss: 0.137297\tvalid_0's macroF1: 0.846481\n",
      "[65]\tvalid_0's binary_logloss: 0.137341\tvalid_0's macroF1: 0.845627\n",
      "[66]\tvalid_0's binary_logloss: 0.137109\tvalid_0's macroF1: 0.847059\n",
      "[67]\tvalid_0's binary_logloss: 0.136774\tvalid_0's macroF1: 0.847059\n",
      "[68]\tvalid_0's binary_logloss: 0.136824\tvalid_0's macroF1: 0.843929\n",
      "[69]\tvalid_0's binary_logloss: 0.136903\tvalid_0's macroF1: 0.844189\n",
      "[70]\tvalid_0's binary_logloss: 0.137145\tvalid_0's macroF1: 0.841297\n",
      "[71]\tvalid_0's binary_logloss: 0.137099\tvalid_0's macroF1: 0.841297\n",
      "[72]\tvalid_0's binary_logloss: 0.137088\tvalid_0's macroF1: 0.842147\n",
      "[73]\tvalid_0's binary_logloss: 0.137131\tvalid_0's macroF1: 0.843\n",
      "[74]\tvalid_0's binary_logloss: 0.136989\tvalid_0's macroF1: 0.844451\n",
      "[75]\tvalid_0's binary_logloss: 0.136844\tvalid_0's macroF1: 0.843597\n",
      "[76]\tvalid_0's binary_logloss: 0.13679\tvalid_0's macroF1: 0.842746\n",
      "[77]\tvalid_0's binary_logloss: 0.137018\tvalid_0's macroF1: 0.842746\n",
      "[78]\tvalid_0's binary_logloss: 0.137274\tvalid_0's macroF1: 0.845627\n",
      "[79]\tvalid_0's binary_logloss: 0.137341\tvalid_0's macroF1: 0.844189\n",
      "[80]\tvalid_0's binary_logloss: 0.137682\tvalid_0's macroF1: 0.842746\n",
      "[81]\tvalid_0's binary_logloss: 0.137731\tvalid_0's macroF1: 0.843597\n",
      "[82]\tvalid_0's binary_logloss: 0.137989\tvalid_0's macroF1: 0.843597\n",
      "[83]\tvalid_0's binary_logloss: 0.137849\tvalid_0's macroF1: 0.845042\n",
      "[84]\tvalid_0's binary_logloss: 0.138074\tvalid_0's macroF1: 0.845042\n",
      "[85]\tvalid_0's binary_logloss: 0.137563\tvalid_0's macroF1: 0.847337\n",
      "[86]\tvalid_0's binary_logloss: 0.13765\tvalid_0's macroF1: 0.848772\n",
      "[87]\tvalid_0's binary_logloss: 0.137682\tvalid_0's macroF1: 0.847914\n",
      "[88]\tvalid_0's binary_logloss: 0.137512\tvalid_0's macroF1: 0.847914\n",
      "[89]\tvalid_0's binary_logloss: 0.137411\tvalid_0's macroF1: 0.847914\n",
      "[90]\tvalid_0's binary_logloss: 0.137244\tvalid_0's macroF1: 0.848486\n",
      "[91]\tvalid_0's binary_logloss: 0.137082\tvalid_0's macroF1: 0.849342\n",
      "[92]\tvalid_0's binary_logloss: 0.137017\tvalid_0's macroF1: 0.849342\n",
      "[93]\tvalid_0's binary_logloss: 0.137232\tvalid_0's macroF1: 0.849342\n",
      "[94]\tvalid_0's binary_logloss: 0.13713\tvalid_0's macroF1: 0.849342\n",
      "[95]\tvalid_0's binary_logloss: 0.137096\tvalid_0's macroF1: 0.849342\n",
      "[96]\tvalid_0's binary_logloss: 0.137009\tvalid_0's macroF1: 0.849342\n",
      "[97]\tvalid_0's binary_logloss: 0.13702\tvalid_0's macroF1: 0.849342\n",
      "[98]\tvalid_0's binary_logloss: 0.137156\tvalid_0's macroF1: 0.847914\n",
      "[99]\tvalid_0's binary_logloss: 0.137253\tvalid_0's macroF1: 0.847914\n",
      "[100]\tvalid_0's binary_logloss: 0.137577\tvalid_0's macroF1: 0.849342\n",
      "[1]\tvalid_0's binary_logloss: 0.292137\tvalid_0's macroF1: 0.474268\n",
      "[2]\tvalid_0's binary_logloss: 0.269654\tvalid_0's macroF1: 0.474268\n",
      "[3]\tvalid_0's binary_logloss: 0.253914\tvalid_0's macroF1: 0.474268\n",
      "[4]\tvalid_0's binary_logloss: 0.240474\tvalid_0's macroF1: 0.474268\n",
      "[5]\tvalid_0's binary_logloss: 0.229607\tvalid_0's macroF1: 0.681602\n",
      "[6]\tvalid_0's binary_logloss: 0.219052\tvalid_0's macroF1: 0.756874\n",
      "[7]\tvalid_0's binary_logloss: 0.210476\tvalid_0's macroF1: 0.78712\n",
      "[8]\tvalid_0's binary_logloss: 0.203759\tvalid_0's macroF1: 0.803209\n",
      "[9]\tvalid_0's binary_logloss: 0.197348\tvalid_0's macroF1: 0.813505\n",
      "[10]\tvalid_0's binary_logloss: 0.191841\tvalid_0's macroF1: 0.819329\n",
      "[11]\tvalid_0's binary_logloss: 0.186658\tvalid_0's macroF1: 0.825765\n",
      "[12]\tvalid_0's binary_logloss: 0.182245\tvalid_0's macroF1: 0.833786\n",
      "[13]\tvalid_0's binary_logloss: 0.178329\tvalid_0's macroF1: 0.834476\n",
      "[14]\tvalid_0's binary_logloss: 0.174701\tvalid_0's macroF1: 0.835837\n",
      "[15]\tvalid_0's binary_logloss: 0.171059\tvalid_0's macroF1: 0.842034\n",
      "[16]\tvalid_0's binary_logloss: 0.168671\tvalid_0's macroF1: 0.841142\n",
      "[17]\tvalid_0's binary_logloss: 0.166137\tvalid_0's macroF1: 0.843308\n",
      "[18]\tvalid_0's binary_logloss: 0.164266\tvalid_0's macroF1: 0.848449\n",
      "[19]\tvalid_0's binary_logloss: 0.162328\tvalid_0's macroF1: 0.848161\n",
      "[20]\tvalid_0's binary_logloss: 0.160462\tvalid_0's macroF1: 0.849644\n",
      "[21]\tvalid_0's binary_logloss: 0.158972\tvalid_0's macroF1: 0.852906\n",
      "[22]\tvalid_0's binary_logloss: 0.157162\tvalid_0's macroF1: 0.855279\n",
      "[23]\tvalid_0's binary_logloss: 0.155345\tvalid_0's macroF1: 0.856748\n",
      "[24]\tvalid_0's binary_logloss: 0.154014\tvalid_0's macroF1: 0.856412\n",
      "[25]\tvalid_0's binary_logloss: 0.153307\tvalid_0's macroF1: 0.858211\n",
      "[26]\tvalid_0's binary_logloss: 0.152206\tvalid_0's macroF1: 0.85731\n",
      "[27]\tvalid_0's binary_logloss: 0.151248\tvalid_0's macroF1: 0.856412\n",
      "[28]\tvalid_0's binary_logloss: 0.149998\tvalid_0's macroF1: 0.854627\n",
      "[29]\tvalid_0's binary_logloss: 0.149186\tvalid_0's macroF1: 0.856971\n",
      "[30]\tvalid_0's binary_logloss: 0.147716\tvalid_0's macroF1: 0.856636\n",
      "[31]\tvalid_0's binary_logloss: 0.147052\tvalid_0's macroF1: 0.858076\n",
      "[32]\tvalid_0's binary_logloss: 0.146531\tvalid_0's macroF1: 0.855749\n",
      "[33]\tvalid_0's binary_logloss: 0.146063\tvalid_0's macroF1: 0.856853\n"
     ]
    },
    {
     "name": "stderr",
     "output_type": "stream",
     "text": [
      "/usr/local/lib/python3.6/dist-packages/sklearn/preprocessing/_label.py:235: DataConversionWarning: A column-vector y was passed when a 1d array was expected. Please change the shape of y to (n_samples, ), for example using ravel().\n",
      "  y = column_or_1d(y, warn=True)\n",
      "/usr/local/lib/python3.6/dist-packages/sklearn/preprocessing/_label.py:268: DataConversionWarning: A column-vector y was passed when a 1d array was expected. Please change the shape of y to (n_samples, ), for example using ravel().\n",
      "  y = column_or_1d(y, warn=True)\n"
     ]
    },
    {
     "name": "stdout",
     "output_type": "stream",
     "text": [
      "[34]\tvalid_0's binary_logloss: 0.145322\tvalid_0's macroF1: 0.858278\n",
      "[35]\tvalid_0's binary_logloss: 0.144827\tvalid_0's macroF1: 0.858816\n",
      "[36]\tvalid_0's binary_logloss: 0.144382\tvalid_0's macroF1: 0.861111\n",
      "[37]\tvalid_0's binary_logloss: 0.143647\tvalid_0's macroF1: 0.861636\n",
      "[38]\tvalid_0's binary_logloss: 0.143333\tvalid_0's macroF1: 0.861636\n",
      "[39]\tvalid_0's binary_logloss: 0.142935\tvalid_0's macroF1: 0.860756\n",
      "[40]\tvalid_0's binary_logloss: 0.143002\tvalid_0's macroF1: 0.861636\n",
      "[41]\tvalid_0's binary_logloss: 0.142723\tvalid_0's macroF1: 0.860756\n",
      "[42]\tvalid_0's binary_logloss: 0.142204\tvalid_0's macroF1: 0.861636\n",
      "[43]\tvalid_0's binary_logloss: 0.141885\tvalid_0's macroF1: 0.860756\n",
      "[44]\tvalid_0's binary_logloss: 0.141793\tvalid_0's macroF1: 0.860756\n",
      "[45]\tvalid_0's binary_logloss: 0.141348\tvalid_0's macroF1: 0.860756\n",
      "[46]\tvalid_0's binary_logloss: 0.141111\tvalid_0's macroF1: 0.863038\n",
      "[47]\tvalid_0's binary_logloss: 0.141259\tvalid_0's macroF1: 0.863038\n",
      "[48]\tvalid_0's binary_logloss: 0.140747\tvalid_0's macroF1: 0.862157\n",
      "[49]\tvalid_0's binary_logloss: 0.140605\tvalid_0's macroF1: 0.861278\n",
      "[50]\tvalid_0's binary_logloss: 0.140315\tvalid_0's macroF1: 0.862673\n",
      "[51]\tvalid_0's binary_logloss: 0.140395\tvalid_0's macroF1: 0.860403\n",
      "[52]\tvalid_0's binary_logloss: 0.140272\tvalid_0's macroF1: 0.862157\n",
      "[53]\tvalid_0's binary_logloss: 0.140247\tvalid_0's macroF1: 0.862157\n",
      "[54]\tvalid_0's binary_logloss: 0.140196\tvalid_0's macroF1: 0.862157\n",
      "[55]\tvalid_0's binary_logloss: 0.140129\tvalid_0's macroF1: 0.862673\n",
      "[56]\tvalid_0's binary_logloss: 0.140038\tvalid_0's macroF1: 0.861278\n",
      "[57]\tvalid_0's binary_logloss: 0.139832\tvalid_0's macroF1: 0.859878\n",
      "[58]\tvalid_0's binary_logloss: 0.139686\tvalid_0's macroF1: 0.862157\n",
      "[59]\tvalid_0's binary_logloss: 0.139414\tvalid_0's macroF1: 0.863038\n",
      "[60]\tvalid_0's binary_logloss: 0.139364\tvalid_0's macroF1: 0.864435\n",
      "[61]\tvalid_0's binary_logloss: 0.139414\tvalid_0's macroF1: 0.864435\n",
      "[62]\tvalid_0's binary_logloss: 0.13944\tvalid_0's macroF1: 0.862157\n",
      "[63]\tvalid_0's binary_logloss: 0.139031\tvalid_0's macroF1: 0.865321\n",
      "[64]\tvalid_0's binary_logloss: 0.138856\tvalid_0's macroF1: 0.864435\n",
      "[65]\tvalid_0's binary_logloss: 0.138904\tvalid_0's macroF1: 0.864435\n",
      "[66]\tvalid_0's binary_logloss: 0.138774\tvalid_0's macroF1: 0.864435\n",
      "[67]\tvalid_0's binary_logloss: 0.138973\tvalid_0's macroF1: 0.864435\n",
      "[68]\tvalid_0's binary_logloss: 0.13914\tvalid_0's macroF1: 0.864435\n",
      "[69]\tvalid_0's binary_logloss: 0.138998\tvalid_0's macroF1: 0.862157\n",
      "[70]\tvalid_0's binary_logloss: 0.139026\tvalid_0's macroF1: 0.863923\n",
      "[71]\tvalid_0's binary_logloss: 0.139088\tvalid_0's macroF1: 0.863923\n",
      "[72]\tvalid_0's binary_logloss: 0.139044\tvalid_0's macroF1: 0.864435\n",
      "[73]\tvalid_0's binary_logloss: 0.138762\tvalid_0's macroF1: 0.86621\n",
      "[74]\tvalid_0's binary_logloss: 0.138896\tvalid_0's macroF1: 0.86621\n",
      "[75]\tvalid_0's binary_logloss: 0.139193\tvalid_0's macroF1: 0.867998\n",
      "[76]\tvalid_0's binary_logloss: 0.139273\tvalid_0's macroF1: 0.867998\n",
      "[77]\tvalid_0's binary_logloss: 0.139332\tvalid_0's macroF1: 0.867103\n",
      "[78]\tvalid_0's binary_logloss: 0.139128\tvalid_0's macroF1: 0.86621\n",
      "[79]\tvalid_0's binary_logloss: 0.138808\tvalid_0's macroF1: 0.865826\n",
      "[80]\tvalid_0's binary_logloss: 0.138917\tvalid_0's macroF1: 0.865826\n",
      "[81]\tvalid_0's binary_logloss: 0.138817\tvalid_0's macroF1: 0.865826\n",
      "[82]\tvalid_0's binary_logloss: 0.138665\tvalid_0's macroF1: 0.864942\n",
      "[83]\tvalid_0's binary_logloss: 0.138486\tvalid_0's macroF1: 0.866713\n",
      "[84]\tvalid_0's binary_logloss: 0.138339\tvalid_0's macroF1: 0.866713\n",
      "[85]\tvalid_0's binary_logloss: 0.138335\tvalid_0's macroF1: 0.866713\n",
      "[86]\tvalid_0's binary_logloss: 0.13835\tvalid_0's macroF1: 0.865826\n",
      "[87]\tvalid_0's binary_logloss: 0.138283\tvalid_0's macroF1: 0.864942\n",
      "[88]\tvalid_0's binary_logloss: 0.138248\tvalid_0's macroF1: 0.864942\n",
      "[89]\tvalid_0's binary_logloss: 0.138272\tvalid_0's macroF1: 0.867604\n",
      "[90]\tvalid_0's binary_logloss: 0.138398\tvalid_0's macroF1: 0.867604\n",
      "[91]\tvalid_0's binary_logloss: 0.138584\tvalid_0's macroF1: 0.867604\n",
      "[92]\tvalid_0's binary_logloss: 0.138668\tvalid_0's macroF1: 0.867604\n",
      "[93]\tvalid_0's binary_logloss: 0.138691\tvalid_0's macroF1: 0.868992\n",
      "[94]\tvalid_0's binary_logloss: 0.138651\tvalid_0's macroF1: 0.869886\n",
      "[95]\tvalid_0's binary_logloss: 0.13892\tvalid_0's macroF1: 0.867604\n",
      "[96]\tvalid_0's binary_logloss: 0.13879\tvalid_0's macroF1: 0.867604\n",
      "[97]\tvalid_0's binary_logloss: 0.138748\tvalid_0's macroF1: 0.86621\n",
      "[98]\tvalid_0's binary_logloss: 0.139184\tvalid_0's macroF1: 0.86621\n",
      "[99]\tvalid_0's binary_logloss: 0.139456\tvalid_0's macroF1: 0.865321\n",
      "[100]\tvalid_0's binary_logloss: 0.139564\tvalid_0's macroF1: 0.866713\n"
     ]
    }
   ],
   "source": [
    "for training_index, testing_index in gkf.split(X=x, y=y):\n",
    "    x_train_fold, y_train_fold = x[training_index], y[training_index]\n",
    "    x_test_fold, y_test_fold = x[testing_index], y[testing_index]\n",
    "    model.fit(x_train_fold, y_train_fold, eval_set=(x_test_fold,y_test_fold),eval_metric = lambda y_true, y_pred: [evaluate_macroF1_lgb(y_true,y_pred)])"
   ]
  },
  {
   "cell_type": "code",
   "execution_count": 76,
   "metadata": {},
   "outputs": [],
   "source": [
    "predicted_y = model.predict(x_test)\n",
    "train_pred_y = model.predict(x)"
   ]
  },
  {
   "cell_type": "code",
   "execution_count": 77,
   "metadata": {},
   "outputs": [
    {
     "name": "stdout",
     "output_type": "stream",
     "text": [
      "\n",
      "              precision    recall  f1-score   support\n",
      "\n",
      "           0       0.95      0.85      0.89      1345\n",
      "           1       0.98      1.00      0.99     12395\n",
      "\n",
      "    accuracy                           0.98     13740\n",
      "   macro avg       0.97      0.92      0.94     13740\n",
      "weighted avg       0.98      0.98      0.98     13740\n",
      "\n",
      "\n",
      "[[ 1138   207]\n",
      " [   61 12334]]\n",
      "\n",
      "              precision    recall  f1-score   support\n",
      "\n",
      "           0       0.87      0.68      0.76       336\n",
      "           1       0.97      0.99      0.98      3099\n",
      "\n",
      "    accuracy                           0.96      3435\n",
      "   macro avg       0.92      0.83      0.87      3435\n",
      "weighted avg       0.96      0.96      0.96      3435\n",
      "\n",
      "\n",
      "[[ 228  108]\n",
      " [  34 3065]]\n"
     ]
    }
   ],
   "source": [
    "print(); print(metrics.classification_report(y,train_pred_y))\n",
    "print(); print(metrics.confusion_matrix(y, train_pred_y))\n",
    "\n",
    "print(); print(metrics.classification_report(y_test, predicted_y))\n",
    "print(); print(metrics.confusion_matrix(y_test, predicted_y))"
   ]
  },
  {
   "cell_type": "markdown",
   "metadata": {},
   "source": [
    "<h2>Testing</h2>"
   ]
  },
  {
   "cell_type": "code",
   "execution_count": 78,
   "metadata": {
    "colab": {},
    "colab_type": "code",
    "id": "dRpHFO-hvEvg"
   },
   "outputs": [],
   "source": [
    "\n",
    "test_set = pd.read_csv(data_path+'test.csv', index_col=\"tripid\")\n"
   ]
  },
  {
   "cell_type": "code",
   "execution_count": 79,
   "metadata": {
    "colab": {},
    "colab_type": "code",
    "id": "-aB-vcWQPl-L"
   },
   "outputs": [],
   "source": [
    "test_set['pickup_time'] = pd.to_datetime(test_set['pickup_time'], format=\"%m/%d/%Y %H:%M\")\n",
    "test_set['drop_time'] = pd.to_datetime(test_set['drop_time'], format=\"%m/%d/%Y %H:%M\")"
   ]
  },
  {
   "cell_type": "code",
   "execution_count": 80,
   "metadata": {
    "colab": {},
    "colab_type": "code",
    "id": "-fh6I6oDPrqF"
   },
   "outputs": [],
   "source": [
    "test_set = test_set.assign(timeOfDay=pd.cut(test_set.pickup_time.dt.hour,[-1, 8, 20, 24],labels=['dawn','day', 'night']))"
   ]
  },
  {
   "cell_type": "code",
   "execution_count": 81,
   "metadata": {},
   "outputs": [],
   "source": [
    "test_set.loc[test_set['timeOfDay'] == 'day', 'isNormalCharge'] = 1\n",
    "test_set.loc[test_set['timeOfDay'] != 'day', 'isNormalCharge'] = 0"
   ]
  },
  {
   "cell_type": "code",
   "execution_count": 82,
   "metadata": {
    "colab": {},
    "colab_type": "code",
    "id": "0YIKrGoUPxjD"
   },
   "outputs": [],
   "source": [
    "durations = []\n",
    "for index,row in test_set.iterrows():\n",
    "  provided_duration = row['duration'] #first row of location.lat column here\n",
    "  if math.isnan(provided_duration) or provided_duration <= 0 :\n",
    "    time_dif = (row['drop_time'] - row['pickup_time']).seconds\n",
    "    if(time_dif == 0):\n",
    "        time_dif = np.nan\n",
    "    durations.append(time_dif)\n",
    "  else :  \n",
    "    durations.append(provided_duration)\n",
    "\n",
    "test_set.insert(4,\"time_dif\",durations)"
   ]
  },
  {
   "cell_type": "code",
   "execution_count": 83,
   "metadata": {
    "colab": {},
    "colab_type": "code",
    "id": "N8RKMAziP2Zu"
   },
   "outputs": [],
   "source": [
    "new_column = []                    #empty column for distance\n",
    "for index,row in test_set.iterrows():\n",
    "  lat1 = row['pick_lat'] #first row of location.lat column here\n",
    "  lon1 = row['pick_lon'] #first row of location.long column here\n",
    "  lat2 = row['drop_lat'] #second row of location.lat column here\n",
    "  lon2 = row['drop_lon'] #second row of location.long column here\n",
    "  value = dist_from_coordinates(lat1, lon1, lat2, lon2)  #get the distance\n",
    "  new_column.append(value)   #append the empty list with distance values\n",
    "\n",
    "test_set.insert(4,\"distance\",new_column)"
   ]
  },
  {
   "cell_type": "code",
   "execution_count": 84,
   "metadata": {
    "colab": {},
    "colab_type": "code",
    "id": "fhGdrT68P7u0"
   },
   "outputs": [],
   "source": [
    "test_set['time_driven'] = test_set['duration']  - test_set['meter_waiting']"
   ]
  },
  {
   "cell_type": "code",
   "execution_count": 85,
   "metadata": {
    "colab": {},
    "colab_type": "code",
    "id": "0T1ZhNq4QCFr"
   },
   "outputs": [],
   "source": [
    "chargeperhours = []\n",
    "for index,row in test_set.iterrows():\n",
    "    if(row['meter_waiting'] == 0):\n",
    "        chargeperhour = np.nan\n",
    "    else:\n",
    "        chargeperhour = (row['meter_waiting_fare'] / row['meter_waiting'] * 3600)\n",
    "    chargeperhours.append(chargeperhour)\n",
    "\n",
    "test_set.insert(4,'charge_per_hour',chargeperhours)\n"
   ]
  },
  {
   "cell_type": "code",
   "execution_count": 86,
   "metadata": {
    "colab": {},
    "colab_type": "code",
    "id": "stlHhBUcQHPO"
   },
   "outputs": [],
   "source": [
    "test_set['driving_fare'] = test_set['fare']  - test_set['meter_waiting_fare'] - test_set['additional_fare']"
   ]
  },
  {
   "cell_type": "code",
   "execution_count": 87,
   "metadata": {
    "colab": {},
    "colab_type": "code",
    "id": "3swRfBdUQPab"
   },
   "outputs": [],
   "source": [
    "avgspeeds = []\n",
    "for index,row in test_set.iterrows():\n",
    "    if(row['time_driven'] == 0):\n",
    "        avgspeed = np.nan    \n",
    "    else:\n",
    "        avgspeed = (row['distance'] / row['time_driven'] * 3600)\n",
    "    avgspeeds.append(avgspeed)\n",
    "\n",
    "test_set.insert(4,\"avg_speed\",avgspeeds)\n",
    "\n"
   ]
  },
  {
   "cell_type": "code",
   "execution_count": 88,
   "metadata": {
    "colab": {},
    "colab_type": "code",
    "id": "CbN5feh0QWAF"
   },
   "outputs": [],
   "source": [
    "costsperkm = []\n",
    "for index,row in test_set.iterrows():\n",
    "    if row['distance'] == 0:\n",
    "        costperkm = np.nan\n",
    "            \n",
    "    else:\n",
    "        costperkm = (row['driving_fare'] / row['distance'])\n",
    "    costsperkm.append(costperkm)\n",
    "\n",
    "test_set.insert(4,\"cost_per_km\",costsperkm)"
   ]
  },
  {
   "cell_type": "code",
   "execution_count": 89,
   "metadata": {
    "colab": {},
    "colab_type": "code",
    "id": "G8siIDy9_D2I"
   },
   "outputs": [],
   "source": [
    "test_features = test_set[training_columns]"
   ]
  },
  {
   "cell_type": "code",
   "execution_count": 90,
   "metadata": {
    "colab": {
     "base_uri": "https://localhost:8080/",
     "height": 455
    },
    "colab_type": "code",
    "id": "YGcUrVpWQc6h",
    "outputId": "b45b835c-1c70-4035-ff79-2d936377d9e1"
   },
   "outputs": [
    {
     "data": {
      "text/plain": [
       "meter_waiting           0\n",
       "meter_waiting_fare      0\n",
       "fare                    0\n",
       "additional_fare         0\n",
       "distance                0\n",
       "cost_per_km            25\n",
       "avg_speed               9\n",
       "time_dif                0\n",
       "time_driven             0\n",
       "charge_per_hour       298\n",
       "driving_fare            0\n",
       "isNormalCharge          0\n",
       "pick_lat                0\n",
       "pick_lon                0\n",
       "drop_lat                0\n",
       "drop_lon                0\n",
       "dtype: int64"
      ]
     },
     "execution_count": 90,
     "metadata": {},
     "output_type": "execute_result"
    }
   ],
   "source": [
    "test_features.isna().sum()"
   ]
  },
  {
   "cell_type": "code",
   "execution_count": 91,
   "metadata": {
    "colab": {},
    "colab_type": "code",
    "id": "MeqI1BVR_Fpl"
   },
   "outputs": [],
   "source": [
    "predicted_labels = model.predict(test_features)"
   ]
  },
  {
   "cell_type": "code",
   "execution_count": 92,
   "metadata": {},
   "outputs": [],
   "source": [
    "predicted_labels_df = pd.DataFrame(predicted_labels )"
   ]
  },
  {
   "cell_type": "code",
   "execution_count": 93,
   "metadata": {
    "colab": {},
    "colab_type": "code",
    "id": "qqHn12X6_Gvf"
   },
   "outputs": [],
   "source": [
    "sub_path =os.path.abspath(os.path.join(data_path+'/sample_submission.csv'))\n",
    "submission_set = pd.read_csv(sub_path, index_col=\"tripid\")"
   ]
  },
  {
   "cell_type": "code",
   "execution_count": 94,
   "metadata": {
    "colab": {},
    "colab_type": "code",
    "id": "8Ji-pVGy_H3c"
   },
   "outputs": [],
   "source": [
    "submission_set['prediction']= predicted_labels_df.values[:,0]"
   ]
  },
  {
   "cell_type": "code",
   "execution_count": 95,
   "metadata": {},
   "outputs": [
    {
     "data": {
      "application/javascript": [
       "var kernel = IPython.notebook.kernel;\n",
       "var thename = window.document.getElementById(\"notebook_name\").innerHTML;\n",
       "var command = \"theNotebook = \" + \"'\"+thename+\"'\";\n",
       "kernel.execute(command);\n"
      ],
      "text/plain": [
       "<IPython.core.display.Javascript object>"
      ]
     },
     "metadata": {},
     "output_type": "display_data"
    }
   ],
   "source": [
    "%%javascript\n",
    "var kernel = IPython.notebook.kernel;\n",
    "var thename = window.document.getElementById(\"notebook_name\").innerHTML;\n",
    "var command = \"theNotebook = \" + \"'\"+thename+\"'\";\n",
    "kernel.execute(command);"
   ]
  },
  {
   "cell_type": "code",
   "execution_count": 97,
   "metadata": {
    "colab": {
     "base_uri": "https://localhost:8080/",
     "height": 35
    },
    "colab_type": "code",
    "id": "U6dGilvv_JLl",
    "outputId": "a12ca51c-c94a-4f5d-efab-2ebd6a29156a"
   },
   "outputs": [
    {
     "name": "stdout",
     "output_type": "stream",
     "text": [
      "Completed!\n"
     ]
    }
   ],
   "source": [
    "filename = '../../submissions/'+theNotebook+'/'+theNotebook+'_{%i}.csv'\n",
    "dirname = '../../submissions/'+theNotebook\n",
    "fileversion = 1\n",
    "\n",
    "if not os.path.exists(dirname):\n",
    "    os.makedirs(dirname)\n",
    "while glob.glob(filename.replace('{%i}',str(fileversion))) :\n",
    "    fileversion+=1\n",
    "submission_set.to_csv(filename.replace('{%i}',str(fileversion)), index=True)\n",
    "print(\"Completed!\")"
   ]
  },
  {
   "cell_type": "code",
   "execution_count": 96,
   "metadata": {
    "colab": {
     "base_uri": "https://localhost:8080/",
     "height": 72
    },
    "colab_type": "code",
    "id": "cg-I13X0_Q0d",
    "outputId": "e0a6dd1e-8d7f-46f6-f8a8-98406223ba06"
   },
   "outputs": [
    {
     "data": {
      "text/plain": [
       "1    8117\n",
       "0     459\n",
       "Name: prediction, dtype: int64"
      ]
     },
     "execution_count": 96,
     "metadata": {},
     "output_type": "execute_result"
    }
   ],
   "source": [
    "submission_set['prediction'].value_counts()"
   ]
  },
  {
   "cell_type": "code",
   "execution_count": null,
   "metadata": {},
   "outputs": [],
   "source": []
  }
 ],
 "metadata": {
  "colab": {
   "collapsed_sections": [],
   "name": "lightbgm using grid",
   "provenance": []
  },
  "kernelspec": {
   "display_name": "Python 3",
   "language": "python",
   "name": "python3"
  },
  "language_info": {
   "codemirror_mode": {
    "name": "ipython",
    "version": 3
   },
   "file_extension": ".py",
   "mimetype": "text/x-python",
   "name": "python",
   "nbconvert_exporter": "python",
   "pygments_lexer": "ipython3",
   "version": "3.6.9"
  }
 },
 "nbformat": 4,
 "nbformat_minor": 1
}
