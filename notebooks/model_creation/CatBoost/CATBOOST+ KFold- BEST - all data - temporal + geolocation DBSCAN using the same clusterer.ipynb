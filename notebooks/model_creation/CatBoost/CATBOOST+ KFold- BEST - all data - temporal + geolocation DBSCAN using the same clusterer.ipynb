{
 "cells": [
  {
   "cell_type": "markdown",
   "metadata": {
    "colab_type": "text",
    "id": "prs4Cp8WYuyV"
   },
   "source": [
    "<b>PLEASE NOTE THAT THIS NOTEBOOK WAS RUN IN GOOGLE COLAB AS SUCH CERTAIN IMPORT STATEMENTS MAY DIFFER</b>"
   ]
  },
  {
   "cell_type": "markdown",
   "metadata": {
    "colab_type": "text",
    "id": "ThYkD687YuyW"
   },
   "source": [
    "<h1>Initial Setup</h1>"
   ]
  },
  {
   "cell_type": "code",
   "execution_count": null,
   "metadata": {
    "colab": {
     "base_uri": "https://localhost:8080/",
     "height": 275
    },
    "colab_type": "code",
    "executionInfo": {
     "elapsed": 5057,
     "status": "ok",
     "timestamp": 1591687208152,
     "user": {
      "displayName": "Ranika Madurawe",
      "photoUrl": "",
      "userId": "08934122972253344059"
     },
     "user_tz": -330
    },
    "id": "JkhVU1s4UG9T",
    "outputId": "5ad03f42-d540-41d7-f548-fea95ebcbd28"
   },
   "outputs": [
    {
     "name": "stdout",
     "output_type": "stream",
     "text": [
      "Requirement already satisfied: catboost in /usr/local/lib/python3.6/dist-packages (0.23.2)\n",
      "Requirement already satisfied: plotly in /usr/local/lib/python3.6/dist-packages (from catboost) (4.4.1)\n",
      "Requirement already satisfied: matplotlib in /usr/local/lib/python3.6/dist-packages (from catboost) (3.2.1)\n",
      "Requirement already satisfied: numpy>=1.16.0 in /usr/local/lib/python3.6/dist-packages (from catboost) (1.18.4)\n",
      "Requirement already satisfied: pandas>=0.24.0 in /usr/local/lib/python3.6/dist-packages (from catboost) (1.0.4)\n",
      "Requirement already satisfied: six in /usr/local/lib/python3.6/dist-packages (from catboost) (1.12.0)\n",
      "Requirement already satisfied: graphviz in /usr/local/lib/python3.6/dist-packages (from catboost) (0.10.1)\n",
      "Requirement already satisfied: scipy in /usr/local/lib/python3.6/dist-packages (from catboost) (1.4.1)\n",
      "Requirement already satisfied: retrying>=1.3.3 in /usr/local/lib/python3.6/dist-packages (from plotly->catboost) (1.3.3)\n",
      "Requirement already satisfied: pyparsing!=2.0.4,!=2.1.2,!=2.1.6,>=2.0.1 in /usr/local/lib/python3.6/dist-packages (from matplotlib->catboost) (2.4.7)\n",
      "Requirement already satisfied: kiwisolver>=1.0.1 in /usr/local/lib/python3.6/dist-packages (from matplotlib->catboost) (1.2.0)\n",
      "Requirement already satisfied: python-dateutil>=2.1 in /usr/local/lib/python3.6/dist-packages (from matplotlib->catboost) (2.8.1)\n",
      "Requirement already satisfied: cycler>=0.10 in /usr/local/lib/python3.6/dist-packages (from matplotlib->catboost) (0.10.0)\n",
      "Requirement already satisfied: pytz>=2017.2 in /usr/local/lib/python3.6/dist-packages (from pandas>=0.24.0->catboost) (2018.9)\n"
     ]
    }
   ],
   "source": [
    "!pip install catboost"
   ]
  },
  {
   "cell_type": "code",
   "execution_count": null,
   "metadata": {
    "colab": {
     "base_uri": "https://localhost:8080/",
     "height": 122
    },
    "colab_type": "code",
    "executionInfo": {
     "elapsed": 10805,
     "status": "ok",
     "timestamp": 1591687214068,
     "user": {
      "displayName": "Ranika Madurawe",
      "photoUrl": "",
      "userId": "08934122972253344059"
     },
     "user_tz": -330
    },
    "id": "Vgim1WwHbjNp",
    "outputId": "11b5358b-cb05-44aa-fdd9-f043bbd34626"
   },
   "outputs": [
    {
     "name": "stdout",
     "output_type": "stream",
     "text": [
      "Collecting pyproj\n",
      "\u001b[?25l  Downloading https://files.pythonhosted.org/packages/e5/c3/071e080230ac4b6c64f1a2e2f9161c9737a2bc7b683d2c90b024825000c0/pyproj-2.6.1.post1-cp36-cp36m-manylinux2010_x86_64.whl (10.9MB)\n",
      "\u001b[K     |████████████████████████████████| 10.9MB 2.7MB/s \n",
      "\u001b[?25hInstalling collected packages: pyproj\n",
      "Successfully installed pyproj-2.6.1.post1\n"
     ]
    }
   ],
   "source": [
    "!pip install pyproj"
   ]
  },
  {
   "cell_type": "markdown",
   "metadata": {
    "colab_type": "text",
    "id": "4dg9RoX7YuyX"
   },
   "source": [
    "<h2>Import Packages</h2>"
   ]
  },
  {
   "cell_type": "code",
   "execution_count": null,
   "metadata": {
    "colab": {},
    "colab_type": "code",
    "id": "6BY0u5O7qfR1"
   },
   "outputs": [],
   "source": [
    "import numpy as np\n",
    "import pandas as pd\n",
    "import lightgbm\n",
    "from sklearn.model_selection import train_test_split\n",
    "from sklearn.preprocessing import LabelBinarizer\n",
    "import math\n",
    "from sklearn import metrics\n",
    "from sklearn.model_selection import RandomizedSearchCV, GridSearchCV\n",
    "from sklearn.model_selection import KFold, StratifiedKFold\n",
    "import matplotlib.pyplot as plt\n",
    "import os\n",
    "import glob\n",
    "import pyproj\n",
    "from sklearn.cluster import DBSCAN, KMeans\n",
    "import datetime"
   ]
  },
  {
   "cell_type": "markdown",
   "metadata": {
    "colab_type": "text",
    "id": "t-8e0vyNYuyd"
   },
   "source": [
    "<h2>Loading the Dataset</h2>"
   ]
  },
  {
   "cell_type": "code",
   "execution_count": null,
   "metadata": {
    "colab": {
     "base_uri": "https://localhost:8080/",
     "height": 122
    },
    "colab_type": "code",
    "executionInfo": {
     "elapsed": 92556,
     "status": "ok",
     "timestamp": 1591687307884,
     "user": {
      "displayName": "Ranika Madurawe",
      "photoUrl": "",
      "userId": "08934122972253344059"
     },
     "user_tz": -330
    },
    "id": "Mhf_dPHIRBwi",
    "outputId": "de652012-39a2-482d-914a-05fbb3b24e04"
   },
   "outputs": [
    {
     "name": "stdout",
     "output_type": "stream",
     "text": [
      "Go to this URL in a browser: https://accounts.google.com/o/oauth2/auth?client_id=947318989803-6bn6qk8qdgf4n4g3pfee6491hc0brc4i.apps.googleusercontent.com&redirect_uri=urn%3aietf%3awg%3aoauth%3a2.0%3aoob&response_type=code&scope=email%20https%3a%2f%2fwww.googleapis.com%2fauth%2fdocs.test%20https%3a%2f%2fwww.googleapis.com%2fauth%2fdrive%20https%3a%2f%2fwww.googleapis.com%2fauth%2fdrive.photos.readonly%20https%3a%2f%2fwww.googleapis.com%2fauth%2fpeopleapi.readonly\n",
      "\n",
      "Enter your authorization code:\n",
      "··········\n",
      "Mounted at /content/drive\n"
     ]
    }
   ],
   "source": [
    "from google.colab import drive\n",
    "drive.mount('/content/drive')"
   ]
  },
  {
   "cell_type": "code",
   "execution_count": null,
   "metadata": {
    "colab": {},
    "colab_type": "code",
    "id": "jaeR-AOtreKu"
   },
   "outputs": [],
   "source": [
    "train_path=os.path.abspath(os.path.join(os.path.dirname(\"__file__\"), '..', '/content/drive/My Drive/datasets/train.csv'))\n",
    "training_df = pd.read_csv(train_path, index_col=\"tripid\")"
   ]
  },
  {
   "cell_type": "markdown",
   "metadata": {
    "colab_type": "text",
    "id": "iv80dotUZC1P"
   },
   "source": [
    "**Geospatial clustering method additiona**"
   ]
  },
  {
   "cell_type": "code",
   "execution_count": null,
   "metadata": {
    "colab": {},
    "colab_type": "code",
    "id": "GV-0AXxHZBso"
   },
   "outputs": [],
   "source": [
    "def convert_to_utm(df, src_epsg, dst_epsg, col_lat, col_lon, alias_lon=None,\n",
    "                   alias_lat=None):\n",
    "    \"\"\"\n",
    "    Cython wrapper to converts from geographic (longitude,latitude)\n",
    "    to native map projection (x,y) coordinates. Values of x and y are\n",
    "    given in meters.\n",
    "    OpenStreetMap is in a projected coordinate system that is based on the\n",
    "    wgs84 datum. (EPSG 4326)\n",
    "    :param df: DataFrame input\n",
    "    :param src_epsg: Geographic coordinate system used in the source points;\n",
    "    :param dst_epsg: UTM coordinate system to convert the input;\n",
    "    :param col_lat: Latitude column name;\n",
    "    :param col_lon:  Longitude column name;\n",
    "    :param alias_lon: Longitude column name (default, replace the input);\n",
    "    :param alias_lat: Latitude column name (default, replace the input);\n",
    "    \"\"\"\n",
    "    old_proj = pyproj.Proj(src_epsg, preserve_units=True)\n",
    "    new_proj = pyproj.Proj(dst_epsg, preserve_units=True)\n",
    "    print(\"Formal definition string for the old projection:\",\n",
    "          old_proj.definition_string())\n",
    "    print(\"Formal definition string for the new projection:\",\n",
    "          new_proj.definition_string())\n",
    "    lon = df[col_lon].values\n",
    "    lat = df[col_lat].values\n",
    "    x1, y1 = old_proj(lon, lat)\n",
    "\n",
    "    x2, y2 = pyproj.transform(old_proj, new_proj, x1, y1)\n",
    "\n",
    "    if alias_lon is None:\n",
    "        alias_lon = col_lon\n",
    "\n",
    "    if alias_lat is None:\n",
    "        alias_lat = col_lat\n",
    "\n",
    "    df[alias_lon] = x2\n",
    "    df[alias_lat] = y2\n",
    "\n",
    "    return df"
   ]
  },
  {
   "cell_type": "code",
   "execution_count": null,
   "metadata": {
    "colab": {},
    "colab_type": "code",
    "id": "oWoMbxJgZKhr"
   },
   "outputs": [],
   "source": [
    "from datetime import timedelta\n",
    "\n",
    "class STDBSCAN(object):\n",
    "\n",
    "    def __init__(self, spatial_threshold=500.0, temporal_threshold=60.0,\n",
    "                 min_neighbors=15):\n",
    "        \"\"\"\n",
    "        Python ST-DBSCAN implementation.\n",
    "        Because this algorithm needs to calculate multiple distances between\n",
    "        points, it optimizes by assuming latitude and longitude columns in\n",
    "        UTM projection. If it is not, convert them by using the\n",
    "        `coordinates.convert_to_utm` available method.\n",
    "        UTM projects onto a cylinder, and a cylinder is essentially flat (zero\n",
    "        Gaussian curvature) so the Euclidean formula would be accurate for\n",
    "        points on the cylinder (same Zone).\n",
    "        :param spatial_threshold: Maximum geographical coordinate (spatial)\n",
    "             distance value (meters);\n",
    "        :param temporal_threshold: Maximum non-spatial distance value (seconds);\n",
    "        :param min_neighbors: Minimum number of points within Eps1 and Eps2\n",
    "             distance;\n",
    "        \"\"\"\n",
    "        self.spatial_threshold = spatial_threshold\n",
    "        self.temporal_threshold = temporal_threshold\n",
    "        self.min_neighbors = min_neighbors\n",
    "\n",
    "    def _retrieve_neighbors(self, index_center, matrix):\n",
    "\n",
    "        center_point = matrix[index_center, :]\n",
    "\n",
    "        # filter by time\n",
    "        min_time = center_point[2] - timedelta(seconds=self.temporal_threshold)\n",
    "        max_time = center_point[2] + timedelta(seconds=self.temporal_threshold)\n",
    "        matrix = matrix[(matrix[:, 2] >= min_time) &\n",
    "                        (matrix[:, 2] <= max_time), :]\n",
    "        # filter by distance\n",
    "        tmp = (matrix[:, 0]-center_point[0])*(matrix[:, 0]-center_point[0]) + \\\n",
    "            (matrix[:, 1]-center_point[1])*(matrix[:, 1]-center_point[1])\n",
    "        neigborhood = matrix[tmp <= (\n",
    "            self.spatial_threshold*self.spatial_threshold), 4].tolist()\n",
    "        neigborhood.remove(index_center)\n",
    "\n",
    "        return neigborhood\n",
    "\n",
    "    def fit_transform(self, df, col_lat, col_lon, col_time,\n",
    "                      col_cluster='cluster'):\n",
    "        \"\"\"\n",
    "        :param df: DataFrame input\n",
    "        :param col_lat: Latitude column name;\n",
    "        :param col_lon:  Longitude column name;\n",
    "        :param col_time: Date time column name;\n",
    "        :param col_cluster: Alias for predicted cluster (default, 'cluster');\n",
    "        \"\"\"\n",
    "        cluster_label = 0\n",
    "        noise = -1\n",
    "        unmarked = 777777\n",
    "        stack = []\n",
    "\n",
    "        # initial setup\n",
    "        df = df[[col_lon, col_lat, col_time]]\n",
    "        df[col_cluster] = unmarked\n",
    "        df['index'] = range(df.shape[0])\n",
    "        matrix = df.values\n",
    "        df.drop(['index'], inplace=True, axis=1)\n",
    "\n",
    "        # for each point in database\n",
    "        for index in range(matrix.shape[0]):\n",
    "            if matrix[index, 3] == unmarked:\n",
    "                neighborhood = self._retrieve_neighbors(index, matrix)\n",
    "\n",
    "                if len(neighborhood) < self.min_neighbors:\n",
    "                    matrix[index, 3] = noise\n",
    "                else:  # found a core point\n",
    "                    cluster_label += 1\n",
    "                    # assign a label to core point\n",
    "                    matrix[index, 3] = cluster_label\n",
    "\n",
    "                    # assign core's label to its neighborhood\n",
    "                    for neig_index in neighborhood:\n",
    "                        matrix[neig_index, 3] = cluster_label\n",
    "                        stack.append(neig_index)  # append neighbors to stack\n",
    "\n",
    "                    # find new neighbors from core point neighborhood\n",
    "                    while len(stack) > 0:\n",
    "                        current_point_index = stack.pop()\n",
    "                        new_neighborhood = \\\n",
    "                            self._retrieve_neighbors(current_point_index,\n",
    "                                                     matrix)\n",
    "\n",
    "                        # current_point is a new core\n",
    "                        if len(new_neighborhood) >= self.min_neighbors:\n",
    "                            for neig_index in new_neighborhood:\n",
    "                                neig_cluster = matrix[neig_index, 3]\n",
    "                                if any([neig_cluster == noise,\n",
    "                                        neig_cluster == unmarked]):\n",
    "                                    matrix[neig_index, 3] = cluster_label\n",
    "                                    stack.append(neig_index)\n",
    "\n",
    "        df[col_cluster] = matrix[:, 3]\n",
    "        return df"
   ]
  },
  {
   "cell_type": "code",
   "execution_count": null,
   "metadata": {
    "colab": {},
    "colab_type": "code",
    "id": "YWRsnASnawnO"
   },
   "outputs": [],
   "source": [
    "def parse_dates(x):\n",
    "    return datetime.strptime(x, '%Y-%m-%d %H:%M:%S')"
   ]
  },
  {
   "cell_type": "markdown",
   "metadata": {
    "colab_type": "text",
    "id": "lKTU4uEsYuyn"
   },
   "source": [
    "<h1>Feature Addition</h1>"
   ]
  },
  {
   "cell_type": "code",
   "execution_count": null,
   "metadata": {
    "colab": {},
    "colab_type": "code",
    "id": "x2_djb9zOwgg"
   },
   "outputs": [],
   "source": [
    "def dist_from_coordinates(lat1, lon1, lat2, lon2):\n",
    "  R = 6371  # Earth radius in km\n",
    "\n",
    "  #conversion to radians\n",
    "  d_lat = np.radians(lat2-lat1)\n",
    "  d_lon = np.radians(lon2-lon1)\n",
    "\n",
    "  r_lat1 = np.radians(lat1)\n",
    "  r_lat2 = np.radians(lat2)\n",
    "\n",
    "  #haversine formula\n",
    "  a = np.sin(d_l4/0gEdHi_reLRUVSm3waTM_kuZn--6nRRU3udhjrb_D6fkc3T_upOZ5lAat/2.) **2 + np.cos(r_lat1) * np.cos(r_lat2) * np.sin(d_lon/2.)**2\n",
    "\n",
    "  haversine = 2 * R * np.arcsin(np.sqrt(a))\n",
    "\n",
    "  return haversine"
   ]
  },
  {
   "cell_type": "code",
   "execution_count": null,
   "metadata": {
    "colab": {},
    "colab_type": "code",
    "id": "fZx_Ut6cOzP9"
   },
   "outputs": [],
   "source": [
    "training_df['pickup_time'] = pd.to_datetime(training_df['pickup_time'], format=\"%m/%d/%Y %H:%M\")\n",
    "training_df['drop_time'] = pd.to_datetime(training_df['drop_time'], format=\"%m/%d/%Y %H:%M\")"
   ]
  },
  {
   "cell_type": "code",
   "execution_count": null,
   "metadata": {
    "colab": {},
    "colab_type": "code",
    "id": "AmRtNkL2O062"
   },
   "outputs": [],
   "source": [
    "training_df = training_df.assign(timeOfDay=pd.cut(training_df.pickup_time.dt.hour,[-1, 8, 20, 24],labels=['dawn','day', 'night']))"
   ]
  },
  {
   "cell_type": "code",
   "execution_count": null,
   "metadata": {
    "colab": {},
    "colab_type": "code",
    "id": "R-_HEXPRQ1Xx"
   },
   "outputs": [],
   "source": [
    "training_df.loc[training_df['timeOfDay'] == 'day', 'isNormalCharge'] = 1\n",
    "training_df.loc[training_df['timeOfDay'] != 'day', 'isNormalCharge'] = 0"
   ]
  },
  {
   "cell_type": "code",
   "execution_count": null,
   "metadata": {
    "colab": {},
    "colab_type": "code",
    "id": "q4CFd-NqO2Un"
   },
   "outputs": [],
   "source": [
    "durations = []\n",
    "for index,row in training_df.iterrows():\n",
    "  provided_duration = row['duration'] #first row of location.lat column here\n",
    "  if math.isnan(provided_duration) or provided_duration <= 0 :\n",
    "    time_dif = (row['drop_time'] - row['pickup_time']).seconds\n",
    "    if(time_dif == 0):\n",
    "        time_dif = np.nan\n",
    "    durations.append(time_dif)\n",
    "  else :  \n",
    "    durations.append(provided_duration)\n",
    "\n",
    "training_df.insert(4,\"time_dif\",durations)"
   ]
  },
  {
   "cell_type": "code",
   "execution_count": null,
   "metadata": {
    "colab": {},
    "colab_type": "code",
    "id": "OKJBD2vsO6bJ"
   },
   "outputs": [],
   "source": [
    "new_column = []                    #empty column for distance\n",
    "for index,row in training_df.iterrows():\n",
    "  lat1 = row['pick_lat'] #first row of location.lat column here\n",
    "  lon1 = row['pick_lon'] #first row of location.long column here\n",
    "  lat2 = row['drop_lat'] #second row of location.lat column here\n",
    "  lon2 = row['drop_lon'] #second row of location.long column here\n",
    "  value = dist_from_coordinates(lat1, lon1, lat2, lon2)  #get the distance\n",
    "  new_column.append(value)   #append the empty list with distance values\n",
    "\n",
    "training_df.insert(4,\"distance\",new_column)"
   ]
  },
  {
   "cell_type": "code",
   "execution_count": null,
   "metadata": {
    "colab": {},
    "colab_type": "code",
    "id": "EDFvgdsoO8rC"
   },
   "outputs": [],
   "source": [
    "training_df['time_driven'] = training_df['duration']  - training_df['meter_waiting']"
   ]
  },
  {
   "cell_type": "code",
   "execution_count": null,
   "metadata": {
    "colab": {},
    "colab_type": "code",
    "id": "eQOTKxsNO-CH"
   },
   "outputs": [],
   "source": [
    "chargeperhours = []\n",
    "for index,row in training_df.iterrows():\n",
    "    if(row['meter_waiting'] == 0):\n",
    "        chargeperhour = np.nan\n",
    "    else:\n",
    "        chargeperhour = (row['meter_waiting_fare'] / row['meter_waiting'] * 3600)\n",
    "    chargeperhours.append(chargeperhour)\n",
    "\n",
    "training_df.insert(4,'charge_per_hour',chargeperhours)\n"
   ]
  },
  {
   "cell_type": "code",
   "execution_count": null,
   "metadata": {
    "colab": {},
    "colab_type": "code",
    "id": "c9OpngXwPAiv"
   },
   "outputs": [],
   "source": [
    "training_df['driving_fare'] = training_df['fare']  - training_df['meter_waiting_fare'] - training_df['additional_fare']"
   ]
  },
  {
   "cell_type": "code",
   "execution_count": null,
   "metadata": {
    "colab": {},
    "colab_type": "code",
    "id": "ECO9WaT5PB6O"
   },
   "outputs": [],
   "source": [
    "avgspeeds = []\n",
    "for index,row in training_df.iterrows():\n",
    "    if(row['time_driven'] == 0):\n",
    "        avgspeed = np.nan\n",
    "    else:\n",
    "        avgspeed = (row['distance'] / row['time_driven'] * 3600)\n",
    "    avgspeeds.append(avgspeed)\n",
    "\n",
    "training_df.insert(4,\"avg_speed\",avgspeeds)\n",
    "\n"
   ]
  },
  {
   "cell_type": "code",
   "execution_count": null,
   "metadata": {
    "colab": {},
    "colab_type": "code",
    "id": "j1DDDw52PGUY"
   },
   "outputs": [],
   "source": [
    "costsperkm = []\n",
    "for index,row in training_df.iterrows():\n",
    "    if row['distance'] == 0:\n",
    "        costperkm = np.nan\n",
    "            \n",
    "    else:\n",
    "        costperkm = (row['driving_fare'] / row['distance'])\n",
    "    costsperkm.append(costperkm)\n",
    "\n",
    "training_df.insert(4,\"cost_per_km\",costsperkm)"
   ]
  },
  {
   "cell_type": "code",
   "execution_count": null,
   "metadata": {
    "colab": {},
    "colab_type": "code",
    "id": "zVsGZhgQrktE"
   },
   "outputs": [],
   "source": [
    "training_df = training_df.replace({'label': {'incorrect': 0, 'correct' : 1}})"
   ]
  },
  {
   "cell_type": "markdown",
   "metadata": {
    "colab_type": "text",
    "id": "CEbKexA_Q1YT"
   },
   "source": [
    "<h2>Spatial Geolocation clustering</h2>"
   ]
  },
  {
   "cell_type": "code",
   "execution_count": null,
   "metadata": {
    "colab": {},
    "colab_type": "code",
    "id": "6ug-gmPRToHb"
   },
   "outputs": [],
   "source": [
    "test_path =os.path.abspath(os.path.join(os.path.dirname(\"__file__\"), '..', '/content/drive/My Drive/datasets/test.csv'))\n",
    "test_set = pd.read_csv(test_path, index_col=\"tripid\")"
   ]
  },
  {
   "cell_type": "code",
   "execution_count": null,
   "metadata": {
    "colab": {},
    "colab_type": "code",
    "id": "kS7j83skdr7B"
   },
   "outputs": [],
   "source": [
    "test_set['pickup_time'] = pd.to_datetime(test_set['pickup_time'], format=\"%m/%d/%Y %H:%M\")\n",
    "test_set['drop_time'] = pd.to_datetime(test_set['drop_time'], format=\"%m/%d/%Y %H:%M\")"
   ]
  },
  {
   "cell_type": "code",
   "execution_count": null,
   "metadata": {
    "colab": {},
    "colab_type": "code",
    "id": "2wE6Zr8GViTs"
   },
   "outputs": [],
   "source": [
    "pickup_locations = pd.DataFrame()\n",
    "drop_locations = pd.DataFrame()\n",
    "test_pickup_locations = pd.DataFrame()\n",
    "test_drop_locations = pd.DataFrame()"
   ]
  },
  {
   "cell_type": "code",
   "execution_count": null,
   "metadata": {
    "colab": {},
    "colab_type": "code",
    "id": "OiX8HCOJQ1YT"
   },
   "outputs": [],
   "source": [
    "pickup_locations[['lat','lon','time']] = training_df[['pick_lat','pick_lon','pickup_time']]\n",
    "drop_locations[['lat','lon','time']] = training_df[['drop_lat','drop_lon','drop_time']]"
   ]
  },
  {
   "cell_type": "code",
   "execution_count": null,
   "metadata": {
    "colab": {},
    "colab_type": "code",
    "id": "ka9i9ETtTsCv"
   },
   "outputs": [],
   "source": [
    "test_pickup_locations[['lat','lon','time']] = test_set[['pick_lat','pick_lon','pickup_time']]\n",
    "test_drop_locations[['lat','lon','time']] = test_set[['drop_lat','drop_lon','drop_time']]"
   ]
  },
  {
   "cell_type": "code",
   "execution_count": null,
   "metadata": {
    "colab": {},
    "colab_type": "code",
    "id": "c8kBRAyeUB2J"
   },
   "outputs": [],
   "source": [
    "pickup_locations = pickup_locations.reset_index()\n",
    "drop_locations = drop_locations.reset_index()\n",
    "test_pickup_locations = test_pickup_locations.reset_index()\n",
    "test_drop_locations = test_drop_locations.reset_index()"
   ]
  },
  {
   "cell_type": "code",
   "execution_count": null,
   "metadata": {
    "colab": {},
    "colab_type": "code",
    "id": "uVJ4CF8PWMtg"
   },
   "outputs": [],
   "source": [
    "df = pd.concat([pickup_locations,test_pickup_locations],ignore_index=True )"
   ]
  },
  {
   "cell_type": "code",
   "execution_count": null,
   "metadata": {
    "colab": {},
    "colab_type": "code",
    "id": "vqrdnXR5cEOE"
   },
   "outputs": [],
   "source": [
    "df['time'] = pd.to_datetime(df['time'], format=\"%m/%d/%Y %H:%M\")"
   ]
  },
  {
   "cell_type": "code",
   "execution_count": null,
   "metadata": {
    "colab": {},
    "colab_type": "code",
    "id": "oSVydZl-gG21"
   },
   "outputs": [],
   "source": [
    "df['time'] = df['time'].dt.time"
   ]
  },
  {
   "cell_type": "code",
   "execution_count": null,
   "metadata": {
    "colab": {},
    "colab_type": "code",
    "id": "Hpg0tf4Yhv1E"
   },
   "outputs": [],
   "source": [
    "df['day'] = datetime.date(2011, 1, 1)"
   ]
  },
  {
   "cell_type": "code",
   "execution_count": null,
   "metadata": {
    "colab": {},
    "colab_type": "code",
    "id": "hrCjaUHkh5bR"
   },
   "outputs": [],
   "source": [
    "df['daytime'] = pd.to_datetime(df['day'].astype(str)+' '+df['time'].astype(str))"
   ]
  },
  {
   "cell_type": "code",
   "execution_count": null,
   "metadata": {
    "colab": {
     "base_uri": "https://localhost:8080/",
     "height": 428
    },
    "colab_type": "code",
    "executionInfo": {
     "elapsed": 99375,
     "status": "ok",
     "timestamp": 1591687462911,
     "user": {
      "displayName": "Ranika Madurawe",
      "photoUrl": "",
      "userId": "08934122972253344059"
     },
     "user_tz": -330
    },
    "id": "ZsL5jxisbErC",
    "outputId": "1ff96622-bc6b-401f-f96c-3d8cfef95c55"
   },
   "outputs": [
    {
     "name": "stdout",
     "output_type": "stream",
     "text": [
      "Formal definition string for the old projection: proj=longlat datum=WGS84 no_defs ellps=WGS84 towgs84=0,0,0\n",
      "Formal definition string for the new projection: proj=utm zone=33 datum=WGS84 units=m no_defs ellps=WGS84 towgs84=0,0,0\n"
     ]
    },
    {
     "name": "stderr",
     "output_type": "stream",
     "text": [
      "/usr/local/lib/python3.6/dist-packages/ipykernel_launcher.py:27: DeprecationWarning: This function is deprecated. See: https://pyproj4.github.io/pyproj/stable/gotchas.html#upgrading-to-pyproj-2-from-pyproj-1\n",
      "/usr/local/lib/python3.6/dist-packages/ipykernel_launcher.py:59: SettingWithCopyWarning: \n",
      "A value is trying to be set on a copy of a slice from a DataFrame.\n",
      "Try using .loc[row_indexer,col_indexer] = value instead\n",
      "\n",
      "See the caveats in the documentation: https://pandas.pydata.org/pandas-docs/stable/user_guide/indexing.html#returning-a-view-versus-a-copy\n",
      "/usr/local/lib/python3.6/dist-packages/ipykernel_launcher.py:60: SettingWithCopyWarning: \n",
      "A value is trying to be set on a copy of a slice from a DataFrame.\n",
      "Try using .loc[row_indexer,col_indexer] = value instead\n",
      "\n",
      "See the caveats in the documentation: https://pandas.pydata.org/pandas-docs/stable/user_guide/indexing.html#returning-a-view-versus-a-copy\n",
      "/usr/local/lib/python3.6/dist-packages/pandas/core/frame.py:3997: SettingWithCopyWarning: \n",
      "A value is trying to be set on a copy of a slice from a DataFrame\n",
      "\n",
      "See the caveats in the documentation: https://pandas.pydata.org/pandas-docs/stable/user_guide/indexing.html#returning-a-view-versus-a-copy\n",
      "  errors=errors,\n",
      "/usr/local/lib/python3.6/dist-packages/ipykernel_launcher.py:96: SettingWithCopyWarning: \n",
      "A value is trying to be set on a copy of a slice from a DataFrame.\n",
      "Try using .loc[row_indexer,col_indexer] = value instead\n",
      "\n",
      "See the caveats in the documentation: https://pandas.pydata.org/pandas-docs/stable/user_guide/indexing.html#returning-a-view-versus-a-copy\n"
     ]
    }
   ],
   "source": [
    "st_dbscan = STDBSCAN(spatial_threshold=1000, temporal_threshold=600,\n",
    "                         min_neighbors=5)\n",
    "\n",
    "df = convert_to_utm(df, src_epsg=4326, dst_epsg=32633,\n",
    "                        col_lat='lat', col_lon='lon')\n",
    "\n",
    "result_t601 = st_dbscan.fit_transform(df, col_lat='lat',\n",
    "                                          col_lon='lon',\n",
    "                                          col_time='daytime')"
   ]
  },
  {
   "cell_type": "code",
   "execution_count": null,
   "metadata": {
    "colab": {
     "base_uri": "https://localhost:8080/",
     "height": 221
    },
    "colab_type": "code",
    "executionInfo": {
     "elapsed": 1189,
     "status": "ok",
     "timestamp": 1591687464132,
     "user": {
      "displayName": "Ranika Madurawe",
      "photoUrl": "",
      "userId": "08934122972253344059"
     },
     "user_tz": -330
    },
    "id": "4Tz2h2qCf1rL",
    "outputId": "ff7b1967-7e59-4b17-da3b-a669c0c7d056"
   },
   "outputs": [
    {
     "data": {
      "text/plain": [
       " 2     18556\n",
       "-1      3238\n",
       " 3      2520\n",
       " 1       189\n",
       " 4       110\n",
       "       ...  \n",
       " 54        6\n",
       " 89        6\n",
       " 44        6\n",
       " 85        6\n",
       " 45        5\n",
       "Name: cluster, Length: 90, dtype: int64"
      ]
     },
     "execution_count": 34,
     "metadata": {
      "tags": []
     },
     "output_type": "execute_result"
    }
   ],
   "source": [
    "result_t601['cluster'].value_counts()"
   ]
  },
  {
   "cell_type": "code",
   "execution_count": null,
   "metadata": {
    "colab": {
     "base_uri": "https://localhost:8080/",
     "height": 34
    },
    "colab_type": "code",
    "executionInfo": {
     "elapsed": 1167,
     "status": "ok",
     "timestamp": 1591687464133,
     "user": {
      "displayName": "Ranika Madurawe",
      "photoUrl": "",
      "userId": "08934122972253344059"
     },
     "user_tz": -330
    },
    "id": "rDz3bI3CXGG0",
    "outputId": "36fb107b-563e-45b9-d0c9-310f1e270e30"
   },
   "outputs": [
    {
     "data": {
      "text/plain": [
       "(17176, 22)"
      ]
     },
     "execution_count": 35,
     "metadata": {
      "tags": []
     },
     "output_type": "execute_result"
    }
   ],
   "source": [
    "training_df.shape"
   ]
  },
  {
   "cell_type": "code",
   "execution_count": null,
   "metadata": {
    "colab": {},
    "colab_type": "code",
    "id": "l155f0r7Q1Yc"
   },
   "outputs": [],
   "source": [
    "training_df['pickup_cluster_label'] = result_t601['cluster'][0:17176].values.tolist()"
   ]
  },
  {
   "cell_type": "code",
   "execution_count": null,
   "metadata": {
    "colab": {},
    "colab_type": "code",
    "id": "MPEfKhjP9gcU"
   },
   "outputs": [],
   "source": [
    "training_df['pickup_cluster_label'] = training_df['pickup_cluster_label']  + 1\n",
    "training_df['pickup_cluster_label'] = training_df['pickup_cluster_label'].astype(str)"
   ]
  },
  {
   "cell_type": "code",
   "execution_count": null,
   "metadata": {
    "colab": {},
    "colab_type": "code",
    "id": "Ke_tWIrRQ1Yg"
   },
   "outputs": [],
   "source": [
    "#training_df['drop_cluster_label'] = result_t601['cluster'][17176:17176*2].values.tolist()"
   ]
  },
  {
   "cell_type": "markdown",
   "metadata": {
    "colab_type": "text",
    "id": "vASyFGfQQ1Yl"
   },
   "source": [
    "<h2>Final Feature Selection</h2>"
   ]
  },
  {
   "cell_type": "code",
   "execution_count": null,
   "metadata": {
    "colab": {
     "base_uri": "https://localhost:8080/",
     "height": 136
    },
    "colab_type": "code",
    "executionInfo": {
     "elapsed": 1668,
     "status": "ok",
     "timestamp": 1591687465843,
     "user": {
      "displayName": "Ranika Madurawe",
      "photoUrl": "",
      "userId": "08934122972253344059"
     },
     "user_tz": -330
    },
    "id": "jpf70_ZUQ1Ym",
    "outputId": "7ea82759-b152-4a49-857e-adfc7fc212ef"
   },
   "outputs": [
    {
     "data": {
      "text/plain": [
       "Index(['additional_fare', 'duration', 'meter_waiting', 'meter_waiting_fare',\n",
       "       'cost_per_km', 'avg_speed', 'charge_per_hour', 'distance', 'time_dif',\n",
       "       'meter_waiting_till_pickup', 'pickup_time', 'drop_time', 'pick_lat',\n",
       "       'pick_lon', 'drop_lat', 'drop_lon', 'fare', 'label', 'timeOfDay',\n",
       "       'isNormalCharge', 'time_driven', 'driving_fare',\n",
       "       'pickup_cluster_label'],\n",
       "      dtype='object')"
      ]
     },
     "execution_count": 38,
     "metadata": {
      "tags": []
     },
     "output_type": "execute_result"
    }
   ],
   "source": [
    "training_df.columns"
   ]
  },
  {
   "cell_type": "code",
   "execution_count": null,
   "metadata": {
    "colab": {},
    "colab_type": "code",
    "id": "Drpusfx3Q1Ys"
   },
   "outputs": [],
   "source": [
    "training_columns = ['meter_waiting','meter_waiting_fare','fare','additional_fare', 'distance','cost_per_km', 'avg_speed',  'time_dif','time_driven', 'charge_per_hour', 'driving_fare', 'isNormalCharge','pick_lat','pick_lon','drop_lat','drop_lon','pickup_cluster_label']"
   ]
  },
  {
   "cell_type": "code",
   "execution_count": null,
   "metadata": {
    "colab": {},
    "colab_type": "code",
    "id": "tnbpcAUqruuZ"
   },
   "outputs": [],
   "source": [
    "target_column = ['label']"
   ]
  },
  {
   "cell_type": "code",
   "execution_count": null,
   "metadata": {
    "colab": {},
    "colab_type": "code",
    "id": "5ytCF1RaQ1Yz"
   },
   "outputs": [],
   "source": [
    "training_df = training_df.drop(190167541)"
   ]
  },
  {
   "cell_type": "code",
   "execution_count": null,
   "metadata": {
    "colab": {
     "base_uri": "https://localhost:8080/",
     "height": 34
    },
    "colab_type": "code",
    "executionInfo": {
     "elapsed": 1635,
     "status": "ok",
     "timestamp": 1591687465848,
     "user": {
      "displayName": "Ranika Madurawe",
      "photoUrl": "",
      "userId": "08934122972253344059"
     },
     "user_tz": -330
    },
    "id": "cALgUTP9bwhj",
    "outputId": "dca2d66b-fe37-4e5d-93fc-3bd13996bbdd"
   },
   "outputs": [
    {
     "data": {
      "text/plain": [
       "(17175, 23)"
      ]
     },
     "execution_count": 42,
     "metadata": {
      "tags": []
     },
     "output_type": "execute_result"
    }
   ],
   "source": [
    "training_df.shape"
   ]
  },
  {
   "cell_type": "code",
   "execution_count": null,
   "metadata": {
    "colab": {},
    "colab_type": "code",
    "id": "PrUJfvL1r4pI"
   },
   "outputs": [],
   "source": [
    "x = training_df[training_columns]\n",
    "y = training_df[target_column]"
   ]
  },
  {
   "cell_type": "code",
   "execution_count": null,
   "metadata": {
    "colab": {},
    "colab_type": "code",
    "id": "Xfow1Vm-sBI9"
   },
   "outputs": [],
   "source": [
    "x_train, x_test, y_train, y_test = train_test_split(x, y, test_size=0.2, random_state=42, stratify=y)"
   ]
  },
  {
   "cell_type": "code",
   "execution_count": null,
   "metadata": {
    "colab": {
     "base_uri": "https://localhost:8080/",
     "height": 68
    },
    "colab_type": "code",
    "executionInfo": {
     "elapsed": 2271,
     "status": "ok",
     "timestamp": 1591687466516,
     "user": {
      "displayName": "Ranika Madurawe",
      "photoUrl": "",
      "userId": "08934122972253344059"
     },
     "user_tz": -330
    },
    "id": "Q9IqseZSQ1Y_",
    "outputId": "518a896b-9fb8-4d66-9f8e-dfc727479691"
   },
   "outputs": [
    {
     "data": {
      "text/plain": [
       "1    15494\n",
       "0     1681\n",
       "Name: label, dtype: int64"
      ]
     },
     "execution_count": 45,
     "metadata": {
      "tags": []
     },
     "output_type": "execute_result"
    }
   ],
   "source": [
    "training_df['label'].value_counts()"
   ]
  },
  {
   "cell_type": "markdown",
   "metadata": {
    "colab_type": "text",
    "id": "CNuq_-nNQ1ZD"
   },
   "source": [
    "<h1>Model Training</h1>"
   ]
  },
  {
   "cell_type": "markdown",
   "metadata": {
    "colab_type": "text",
    "id": "TzP93rc3Yu0P"
   },
   "source": [
    "<h2>Eval Metric Definition</h2>"
   ]
  },
  {
   "cell_type": "code",
   "execution_count": null,
   "metadata": {
    "colab": {},
    "colab_type": "code",
    "id": "Yn5TQlKDQ1ZD"
   },
   "outputs": [],
   "source": [
    "def focal_loss_lgb_eval_error(y_true, y_pred, alpha=.25, gamma=2.):\n",
    "    a,g = alpha, gamma\n",
    "    p = 1/(1+np.exp(-y_pred))\n",
    "    loss = -( a*y_true + (1-a)*(1-y_true) ) * (( 1 - ( y_true*p + (1-y_true)*(1-p)) )**g) * ( y_true*np.log(p)+(1-y_true)*np.log(1-p) )\n",
    "    return 'focal_loss', np.mean(loss), False"
   ]
  },
  {
   "cell_type": "code",
   "execution_count": null,
   "metadata": {
    "colab": {},
    "colab_type": "code",
    "id": "O1-HP8oJQ1ZG"
   },
   "outputs": [],
   "source": [
    "from sklearn.metrics import f1_score\n",
    "def evaluate_macroF1_lgb(y_true, y_pred):  \n",
    "    y_hat = np.where(y_pred < 0.5, 0, 1) \n",
    "    f1 = f1_score(y_true, y_hat, average='macro')\n",
    "    return ('macroF1', f1, True) "
   ]
  },
  {
   "cell_type": "markdown",
   "metadata": {
    "colab_type": "text",
    "id": "EXiZFOGGYu0W"
   },
   "source": [
    "<h2>Training the Model</h2>"
   ]
  },
  {
   "cell_type": "code",
   "execution_count": null,
   "metadata": {
    "colab": {},
    "colab_type": "code",
    "id": "9ebllEQgQ1ZJ"
   },
   "outputs": [],
   "source": [
    "gkf = StratifiedKFold(n_splits=5, shuffle=True, random_state=42)"
   ]
  },
  {
   "cell_type": "code",
   "execution_count": null,
   "metadata": {
    "colab": {},
    "colab_type": "code",
    "id": "Hd12MBRfYuct"
   },
   "outputs": [],
   "source": [
    "from catboost import CatBoostClassifier"
   ]
  },
  {
   "cell_type": "code",
   "execution_count": null,
   "metadata": {
    "colab": {
     "base_uri": "https://localhost:8080/",
     "height": 34
    },
    "colab_type": "code",
    "executionInfo": {
     "elapsed": 762,
     "status": "ok",
     "timestamp": 1591687518465,
     "user": {
      "displayName": "Ranika Madurawe",
      "photoUrl": "",
      "userId": "08934122972253344059"
     },
     "user_tz": -330
    },
    "id": "g9ZACEr_9-c1",
    "outputId": "7eaf0df8-8d0b-4b17-f0a6-5988f238ec08"
   },
   "outputs": [
    {
     "data": {
      "text/plain": [
       "(13740, 17)"
      ]
     },
     "execution_count": 48,
     "metadata": {
      "tags": []
     },
     "output_type": "execute_result"
    }
   ],
   "source": [
    "x_train.shape"
   ]
  },
  {
   "cell_type": "code",
   "execution_count": null,
   "metadata": {
    "colab": {},
    "colab_type": "code",
    "id": "BRBFHuc3Q1ZN"
   },
   "outputs": [],
   "source": [
    "model = CatBoostClassifier(class_weights=[1.5,1], learning_rate=0.1, cat_features=[16])"
   ]
  },
  {
   "cell_type": "code",
   "execution_count": null,
   "metadata": {
    "colab": {
     "base_uri": "https://localhost:8080/",
     "height": 1000
    },
    "colab_type": "code",
    "executionInfo": {
     "elapsed": 26041,
     "status": "ok",
     "timestamp": 1591687577363,
     "user": {
      "displayName": "Ranika Madurawe",
      "photoUrl": "",
      "userId": "08934122972253344059"
     },
     "user_tz": -330
    },
    "id": "K8_EvQatQ1ZQ",
    "outputId": "c7d45cf3-13ad-43e9-df18-2fde1abfdb25"
   },
   "outputs": [
    {
     "name": "stdout",
     "output_type": "stream",
     "text": [
      "0:\tlearn: 0.5923475\ttest: 0.5924855\tbest: 0.5924855 (0)\ttotal: 72.6ms\tremaining: 1m 12s\n",
      "1:\tlearn: 0.5115463\ttest: 0.5122463\tbest: 0.5122463 (1)\ttotal: 98.6ms\tremaining: 49.2s\n",
      "2:\tlearn: 0.4487203\ttest: 0.4501351\tbest: 0.4501351 (2)\ttotal: 129ms\tremaining: 42.9s\n",
      "3:\tlearn: 0.4047804\ttest: 0.4070804\tbest: 0.4070804 (3)\ttotal: 159ms\tremaining: 39.7s\n",
      "4:\tlearn: 0.3683624\ttest: 0.3723379\tbest: 0.3723379 (4)\ttotal: 180ms\tremaining: 35.8s\n",
      "5:\tlearn: 0.3409077\ttest: 0.3457336\tbest: 0.3457336 (5)\ttotal: 200ms\tremaining: 33.1s\n",
      "6:\tlearn: 0.3180592\ttest: 0.3245757\tbest: 0.3245757 (6)\ttotal: 221ms\tremaining: 31.3s\n",
      "7:\tlearn: 0.2966076\ttest: 0.3036839\tbest: 0.3036839 (7)\ttotal: 242ms\tremaining: 30s\n",
      "8:\tlearn: 0.2788393\ttest: 0.2850168\tbest: 0.2850168 (8)\ttotal: 263ms\tremaining: 29s\n",
      "9:\tlearn: 0.2649947\ttest: 0.2707657\tbest: 0.2707657 (9)\ttotal: 289ms\tremaining: 28.6s\n",
      "10:\tlearn: 0.2555058\ttest: 0.2615224\tbest: 0.2615224 (10)\ttotal: 309ms\tremaining: 27.8s\n",
      "11:\tlearn: 0.2486142\ttest: 0.2536707\tbest: 0.2536707 (11)\ttotal: 330ms\tremaining: 27.2s\n",
      "12:\tlearn: 0.2408533\ttest: 0.2473253\tbest: 0.2473253 (12)\ttotal: 354ms\tremaining: 26.9s\n",
      "13:\tlearn: 0.2344934\ttest: 0.2410011\tbest: 0.2410011 (13)\ttotal: 374ms\tremaining: 26.3s\n",
      "14:\tlearn: 0.2292185\ttest: 0.2356687\tbest: 0.2356687 (14)\ttotal: 395ms\tremaining: 25.9s\n",
      "15:\tlearn: 0.2250244\ttest: 0.2314019\tbest: 0.2314019 (15)\ttotal: 418ms\tremaining: 25.7s\n",
      "16:\tlearn: 0.2208636\ttest: 0.2266886\tbest: 0.2266886 (16)\ttotal: 441ms\tremaining: 25.5s\n",
      "17:\tlearn: 0.2182686\ttest: 0.2242857\tbest: 0.2242857 (17)\ttotal: 463ms\tremaining: 25.3s\n",
      "18:\tlearn: 0.2146471\ttest: 0.2199707\tbest: 0.2199707 (18)\ttotal: 484ms\tremaining: 25s\n",
      "19:\tlearn: 0.2122893\ttest: 0.2177548\tbest: 0.2177548 (19)\ttotal: 507ms\tremaining: 24.9s\n",
      "20:\tlearn: 0.2093425\ttest: 0.2146260\tbest: 0.2146260 (20)\ttotal: 527ms\tremaining: 24.6s\n",
      "21:\tlearn: 0.2066947\ttest: 0.2121980\tbest: 0.2121980 (21)\ttotal: 549ms\tremaining: 24.4s\n",
      "22:\tlearn: 0.2036638\ttest: 0.2092188\tbest: 0.2092188 (22)\ttotal: 569ms\tremaining: 24.2s\n",
      "23:\tlearn: 0.2008513\ttest: 0.2066522\tbest: 0.2066522 (23)\ttotal: 591ms\tremaining: 24s\n",
      "24:\tlearn: 0.1991729\ttest: 0.2056649\tbest: 0.2056649 (24)\ttotal: 613ms\tremaining: 23.9s\n",
      "25:\tlearn: 0.1972718\ttest: 0.2047129\tbest: 0.2047129 (25)\ttotal: 634ms\tremaining: 23.7s\n",
      "26:\tlearn: 0.1955273\ttest: 0.2036707\tbest: 0.2036707 (26)\ttotal: 654ms\tremaining: 23.6s\n",
      "27:\tlearn: 0.1940603\ttest: 0.2024614\tbest: 0.2024614 (27)\ttotal: 674ms\tremaining: 23.4s\n",
      "28:\tlearn: 0.1916570\ttest: 0.2000815\tbest: 0.2000815 (28)\ttotal: 695ms\tremaining: 23.3s\n",
      "29:\tlearn: 0.1902468\ttest: 0.1989913\tbest: 0.1989913 (29)\ttotal: 717ms\tremaining: 23.2s\n",
      "30:\tlearn: 0.1895213\ttest: 0.1984186\tbest: 0.1984186 (30)\ttotal: 738ms\tremaining: 23.1s\n",
      "31:\tlearn: 0.1878273\ttest: 0.1966648\tbest: 0.1966648 (31)\ttotal: 759ms\tremaining: 23s\n",
      "32:\tlearn: 0.1860161\ttest: 0.1950814\tbest: 0.1950814 (32)\ttotal: 779ms\tremaining: 22.8s\n",
      "33:\tlearn: 0.1844743\ttest: 0.1944377\tbest: 0.1944377 (33)\ttotal: 799ms\tremaining: 22.7s\n",
      "34:\tlearn: 0.1833814\ttest: 0.1937608\tbest: 0.1937608 (34)\ttotal: 821ms\tremaining: 22.6s\n",
      "35:\tlearn: 0.1824506\ttest: 0.1932716\tbest: 0.1932716 (35)\ttotal: 841ms\tremaining: 22.5s\n",
      "36:\tlearn: 0.1809504\ttest: 0.1918050\tbest: 0.1918050 (36)\ttotal: 863ms\tremaining: 22.5s\n",
      "37:\tlearn: 0.1795482\ttest: 0.1909666\tbest: 0.1909666 (37)\ttotal: 884ms\tremaining: 22.4s\n",
      "38:\tlearn: 0.1782617\ttest: 0.1898026\tbest: 0.1898026 (38)\ttotal: 907ms\tremaining: 22.3s\n",
      "39:\tlearn: 0.1774064\ttest: 0.1890635\tbest: 0.1890635 (39)\ttotal: 931ms\tremaining: 22.3s\n",
      "40:\tlearn: 0.1762810\ttest: 0.1884706\tbest: 0.1884706 (40)\ttotal: 952ms\tremaining: 22.3s\n",
      "41:\tlearn: 0.1753522\ttest: 0.1878941\tbest: 0.1878941 (41)\ttotal: 973ms\tremaining: 22.2s\n",
      "42:\tlearn: 0.1744224\ttest: 0.1874083\tbest: 0.1874083 (42)\ttotal: 994ms\tremaining: 22.1s\n",
      "43:\tlearn: 0.1737758\ttest: 0.1872466\tbest: 0.1872466 (43)\ttotal: 1.01s\tremaining: 22s\n",
      "44:\tlearn: 0.1729925\ttest: 0.1870494\tbest: 0.1870494 (44)\ttotal: 1.03s\tremaining: 22s\n",
      "45:\tlearn: 0.1719527\ttest: 0.1860682\tbest: 0.1860682 (45)\ttotal: 1.05s\tremaining: 21.9s\n",
      "46:\tlearn: 0.1709091\ttest: 0.1854632\tbest: 0.1854632 (46)\ttotal: 1.07s\tremaining: 21.8s\n",
      "47:\tlearn: 0.1699301\ttest: 0.1849708\tbest: 0.1849708 (47)\ttotal: 1.1s\tremaining: 21.8s\n",
      "48:\tlearn: 0.1689348\ttest: 0.1840794\tbest: 0.1840794 (48)\ttotal: 1.12s\tremaining: 21.8s\n",
      "49:\tlearn: 0.1678903\ttest: 0.1833249\tbest: 0.1833249 (49)\ttotal: 1.15s\tremaining: 21.8s\n",
      "50:\tlearn: 0.1669644\ttest: 0.1830093\tbest: 0.1830093 (50)\ttotal: 1.17s\tremaining: 21.7s\n",
      "51:\tlearn: 0.1662741\ttest: 0.1824783\tbest: 0.1824783 (51)\ttotal: 1.19s\tremaining: 21.7s\n",
      "52:\tlearn: 0.1655718\ttest: 0.1820462\tbest: 0.1820462 (52)\ttotal: 1.21s\tremaining: 21.6s\n",
      "53:\tlearn: 0.1649870\ttest: 0.1816364\tbest: 0.1816364 (53)\ttotal: 1.23s\tremaining: 21.5s\n",
      "54:\tlearn: 0.1640509\ttest: 0.1814923\tbest: 0.1814923 (54)\ttotal: 1.25s\tremaining: 21.5s\n",
      "55:\tlearn: 0.1631634\ttest: 0.1810528\tbest: 0.1810528 (55)\ttotal: 1.27s\tremaining: 21.4s\n",
      "56:\tlearn: 0.1625895\ttest: 0.1812095\tbest: 0.1810528 (55)\ttotal: 1.29s\tremaining: 21.4s\n",
      "57:\tlearn: 0.1617953\ttest: 0.1810737\tbest: 0.1810528 (55)\ttotal: 1.31s\tremaining: 21.3s\n",
      "58:\tlearn: 0.1610977\ttest: 0.1809459\tbest: 0.1809459 (58)\ttotal: 1.33s\tremaining: 21.3s\n",
      "59:\tlearn: 0.1602441\ttest: 0.1807107\tbest: 0.1807107 (59)\ttotal: 1.36s\tremaining: 21.3s\n",
      "60:\tlearn: 0.1596788\ttest: 0.1803417\tbest: 0.1803417 (60)\ttotal: 1.38s\tremaining: 21.2s\n",
      "61:\tlearn: 0.1589604\ttest: 0.1800741\tbest: 0.1800741 (61)\ttotal: 1.4s\tremaining: 21.1s\n",
      "62:\tlearn: 0.1584248\ttest: 0.1796816\tbest: 0.1796816 (62)\ttotal: 1.42s\tremaining: 21.1s\n",
      "63:\tlearn: 0.1578325\ttest: 0.1796717\tbest: 0.1796717 (63)\ttotal: 1.44s\tremaining: 21.1s\n",
      "64:\tlearn: 0.1573739\ttest: 0.1799346\tbest: 0.1796717 (63)\ttotal: 1.46s\tremaining: 21s\n",
      "65:\tlearn: 0.1568802\ttest: 0.1795550\tbest: 0.1795550 (65)\ttotal: 1.48s\tremaining: 21s\n",
      "66:\tlearn: 0.1561871\ttest: 0.1792658\tbest: 0.1792658 (66)\ttotal: 1.5s\tremaining: 21s\n",
      "67:\tlearn: 0.1553330\ttest: 0.1783547\tbest: 0.1783547 (67)\ttotal: 1.52s\tremaining: 20.9s\n",
      "68:\tlearn: 0.1548313\ttest: 0.1783696\tbest: 0.1783547 (67)\ttotal: 1.54s\tremaining: 20.9s\n",
      "69:\tlearn: 0.1543268\ttest: 0.1780371\tbest: 0.1780371 (69)\ttotal: 1.57s\tremaining: 20.8s\n",
      "70:\tlearn: 0.1537185\ttest: 0.1778340\tbest: 0.1778340 (70)\ttotal: 1.59s\tremaining: 20.8s\n",
      "71:\tlearn: 0.1526244\ttest: 0.1775567\tbest: 0.1775567 (71)\ttotal: 1.61s\tremaining: 20.8s\n",
      "72:\tlearn: 0.1521992\ttest: 0.1774513\tbest: 0.1774513 (72)\ttotal: 1.63s\tremaining: 20.7s\n",
      "73:\tlearn: 0.1510706\ttest: 0.1768935\tbest: 0.1768935 (73)\ttotal: 1.65s\tremaining: 20.7s\n",
      "74:\tlearn: 0.1506513\ttest: 0.1768661\tbest: 0.1768661 (74)\ttotal: 1.67s\tremaining: 20.7s\n",
      "75:\tlearn: 0.1503666\ttest: 0.1766399\tbest: 0.1766399 (75)\ttotal: 1.7s\tremaining: 20.6s\n",
      "76:\tlearn: 0.1500169\ttest: 0.1763370\tbest: 0.1763370 (76)\ttotal: 1.72s\tremaining: 20.6s\n",
      "77:\tlearn: 0.1496510\ttest: 0.1763612\tbest: 0.1763370 (76)\ttotal: 1.74s\tremaining: 20.5s\n",
      "78:\tlearn: 0.1487812\ttest: 0.1768305\tbest: 0.1763370 (76)\ttotal: 1.75s\tremaining: 20.5s\n",
      "79:\tlearn: 0.1482633\ttest: 0.1770560\tbest: 0.1763370 (76)\ttotal: 1.78s\tremaining: 20.5s\n",
      "80:\tlearn: 0.1478168\ttest: 0.1770149\tbest: 0.1763370 (76)\ttotal: 1.8s\tremaining: 20.4s\n",
      "81:\tlearn: 0.1475984\ttest: 0.1768376\tbest: 0.1763370 (76)\ttotal: 1.82s\tremaining: 20.4s\n",
      "82:\tlearn: 0.1470504\ttest: 0.1765107\tbest: 0.1763370 (76)\ttotal: 1.84s\tremaining: 20.3s\n",
      "83:\tlearn: 0.1465715\ttest: 0.1764812\tbest: 0.1763370 (76)\ttotal: 1.86s\tremaining: 20.3s\n",
      "84:\tlearn: 0.1459828\ttest: 0.1762469\tbest: 0.1762469 (84)\ttotal: 1.88s\tremaining: 20.3s\n",
      "85:\tlearn: 0.1455191\ttest: 0.1760941\tbest: 0.1760941 (85)\ttotal: 1.9s\tremaining: 20.2s\n",
      "86:\tlearn: 0.1448354\ttest: 0.1757129\tbest: 0.1757129 (86)\ttotal: 1.92s\tremaining: 20.2s\n",
      "87:\tlearn: 0.1443783\ttest: 0.1755899\tbest: 0.1755899 (87)\ttotal: 1.94s\tremaining: 20.1s\n",
      "88:\tlearn: 0.1442231\ttest: 0.1755659\tbest: 0.1755659 (88)\ttotal: 1.96s\tremaining: 20.1s\n",
      "89:\tlearn: 0.1440362\ttest: 0.1755773\tbest: 0.1755659 (88)\ttotal: 1.99s\tremaining: 20.1s\n",
      "90:\tlearn: 0.1437345\ttest: 0.1756542\tbest: 0.1755659 (88)\ttotal: 2.01s\tremaining: 20.1s\n",
      "91:\tlearn: 0.1436858\ttest: 0.1755044\tbest: 0.1755044 (91)\ttotal: 2.02s\tremaining: 19.9s\n",
      "92:\tlearn: 0.1429891\ttest: 0.1750805\tbest: 0.1750805 (92)\ttotal: 2.04s\tremaining: 19.9s\n",
      "93:\tlearn: 0.1426769\ttest: 0.1751245\tbest: 0.1750805 (92)\ttotal: 2.06s\tremaining: 19.9s\n",
      "94:\tlearn: 0.1423218\ttest: 0.1753806\tbest: 0.1750805 (92)\ttotal: 2.08s\tremaining: 19.8s\n",
      "95:\tlearn: 0.1417023\ttest: 0.1754246\tbest: 0.1750805 (92)\ttotal: 2.11s\tremaining: 19.8s\n",
      "96:\tlearn: 0.1411970\ttest: 0.1749620\tbest: 0.1749620 (96)\ttotal: 2.13s\tremaining: 19.8s\n",
      "97:\tlearn: 0.1407527\ttest: 0.1748731\tbest: 0.1748731 (97)\ttotal: 2.15s\tremaining: 19.8s\n",
      "98:\tlearn: 0.1403192\ttest: 0.1748084\tbest: 0.1748084 (98)\ttotal: 2.17s\tremaining: 19.8s\n",
      "99:\tlearn: 0.1398860\ttest: 0.1747127\tbest: 0.1747127 (99)\ttotal: 2.19s\tremaining: 19.7s\n",
      "100:\tlearn: 0.1393408\ttest: 0.1745612\tbest: 0.1745612 (100)\ttotal: 2.21s\tremaining: 19.7s\n",
      "101:\tlearn: 0.1386493\ttest: 0.1742854\tbest: 0.1742854 (101)\ttotal: 2.24s\tremaining: 19.7s\n",
      "102:\tlearn: 0.1383519\ttest: 0.1743944\tbest: 0.1742854 (101)\ttotal: 2.25s\tremaining: 19.6s\n",
      "103:\tlearn: 0.1378169\ttest: 0.1741819\tbest: 0.1741819 (103)\ttotal: 2.27s\tremaining: 19.6s\n",
      "104:\tlearn: 0.1374887\ttest: 0.1742195\tbest: 0.1741819 (103)\ttotal: 2.3s\tremaining: 19.6s\n",
      "105:\tlearn: 0.1370109\ttest: 0.1739619\tbest: 0.1739619 (105)\ttotal: 2.32s\tremaining: 19.6s\n",
      "106:\tlearn: 0.1365874\ttest: 0.1739853\tbest: 0.1739619 (105)\ttotal: 2.34s\tremaining: 19.5s\n",
      "107:\tlearn: 0.1364420\ttest: 0.1740016\tbest: 0.1739619 (105)\ttotal: 2.36s\tremaining: 19.5s\n",
      "108:\tlearn: 0.1361939\ttest: 0.1741441\tbest: 0.1739619 (105)\ttotal: 2.38s\tremaining: 19.5s\n",
      "109:\tlearn: 0.1357900\ttest: 0.1742621\tbest: 0.1739619 (105)\ttotal: 2.4s\tremaining: 19.5s\n",
      "110:\tlearn: 0.1350707\ttest: 0.1739990\tbest: 0.1739619 (105)\ttotal: 2.43s\tremaining: 19.4s\n",
      "111:\tlearn: 0.1345850\ttest: 0.1743404\tbest: 0.1739619 (105)\ttotal: 2.45s\tremaining: 19.4s\n",
      "112:\tlearn: 0.1341658\ttest: 0.1742960\tbest: 0.1739619 (105)\ttotal: 2.47s\tremaining: 19.4s\n",
      "113:\tlearn: 0.1337042\ttest: 0.1742746\tbest: 0.1739619 (105)\ttotal: 2.49s\tremaining: 19.3s\n",
      "114:\tlearn: 0.1333530\ttest: 0.1744462\tbest: 0.1739619 (105)\ttotal: 2.51s\tremaining: 19.3s\n",
      "115:\tlearn: 0.1326625\ttest: 0.1741564\tbest: 0.1739619 (105)\ttotal: 2.53s\tremaining: 19.3s\n",
      "116:\tlearn: 0.1322671\ttest: 0.1739886\tbest: 0.1739619 (105)\ttotal: 2.55s\tremaining: 19.2s\n",
      "117:\tlearn: 0.1316489\ttest: 0.1735769\tbest: 0.1735769 (117)\ttotal: 2.57s\tremaining: 19.2s\n",
      "118:\tlearn: 0.1310770\ttest: 0.1733646\tbest: 0.1733646 (118)\ttotal: 2.59s\tremaining: 19.1s\n",
      "119:\tlearn: 0.1305851\ttest: 0.1735374\tbest: 0.1733646 (118)\ttotal: 2.61s\tremaining: 19.1s\n",
      "120:\tlearn: 0.1301343\ttest: 0.1734613\tbest: 0.1733646 (118)\ttotal: 2.63s\tremaining: 19.1s\n",
      "121:\tlearn: 0.1294383\ttest: 0.1736231\tbest: 0.1733646 (118)\ttotal: 2.65s\tremaining: 19.1s\n",
      "122:\tlearn: 0.1291880\ttest: 0.1735922\tbest: 0.1733646 (118)\ttotal: 2.67s\tremaining: 19.1s\n",
      "123:\tlearn: 0.1289760\ttest: 0.1734929\tbest: 0.1733646 (118)\ttotal: 2.69s\tremaining: 19s\n",
      "124:\tlearn: 0.1287659\ttest: 0.1736684\tbest: 0.1733646 (118)\ttotal: 2.71s\tremaining: 19s\n",
      "125:\tlearn: 0.1284724\ttest: 0.1737450\tbest: 0.1733646 (118)\ttotal: 2.73s\tremaining: 18.9s\n",
      "126:\tlearn: 0.1280054\ttest: 0.1736746\tbest: 0.1733646 (118)\ttotal: 2.75s\tremaining: 18.9s\n",
      "127:\tlearn: 0.1279045\ttest: 0.1738483\tbest: 0.1733646 (118)\ttotal: 2.77s\tremaining: 18.9s\n",
      "128:\tlearn: 0.1276629\ttest: 0.1738375\tbest: 0.1733646 (118)\ttotal: 2.79s\tremaining: 18.8s\n",
      "129:\tlearn: 0.1271491\ttest: 0.1739037\tbest: 0.1733646 (118)\ttotal: 2.81s\tremaining: 18.8s\n",
      "130:\tlearn: 0.1268037\ttest: 0.1739678\tbest: 0.1733646 (118)\ttotal: 2.83s\tremaining: 18.8s\n",
      "131:\tlearn: 0.1265720\ttest: 0.1741607\tbest: 0.1733646 (118)\ttotal: 2.85s\tremaining: 18.7s\n",
      "132:\tlearn: 0.1262007\ttest: 0.1741916\tbest: 0.1733646 (118)\ttotal: 2.87s\tremaining: 18.7s\n",
      "133:\tlearn: 0.1260301\ttest: 0.1743543\tbest: 0.1733646 (118)\ttotal: 2.89s\tremaining: 18.7s\n",
      "134:\tlearn: 0.1258520\ttest: 0.1745403\tbest: 0.1733646 (118)\ttotal: 2.91s\tremaining: 18.7s\n",
      "135:\tlearn: 0.1256029\ttest: 0.1744314\tbest: 0.1733646 (118)\ttotal: 2.93s\tremaining: 18.6s\n",
      "136:\tlearn: 0.1255561\ttest: 0.1744549\tbest: 0.1733646 (118)\ttotal: 2.95s\tremaining: 18.6s\n",
      "137:\tlearn: 0.1255048\ttest: 0.1744550\tbest: 0.1733646 (118)\ttotal: 2.97s\tremaining: 18.6s\n",
      "138:\tlearn: 0.1247020\ttest: 0.1746550\tbest: 0.1733646 (118)\ttotal: 3s\tremaining: 18.6s\n",
      "139:\tlearn: 0.1244834\ttest: 0.1746781\tbest: 0.1733646 (118)\ttotal: 3.01s\tremaining: 18.5s\n",
      "140:\tlearn: 0.1236550\ttest: 0.1750055\tbest: 0.1733646 (118)\ttotal: 3.04s\tremaining: 18.5s\n",
      "141:\tlearn: 0.1232261\ttest: 0.1751151\tbest: 0.1733646 (118)\ttotal: 3.06s\tremaining: 18.5s\n",
      "142:\tlearn: 0.1227237\ttest: 0.1748767\tbest: 0.1733646 (118)\ttotal: 3.08s\tremaining: 18.5s\n",
      "143:\tlearn: 0.1223295\ttest: 0.1747123\tbest: 0.1733646 (118)\ttotal: 3.1s\tremaining: 18.4s\n",
      "144:\tlearn: 0.1219324\ttest: 0.1747683\tbest: 0.1733646 (118)\ttotal: 3.13s\tremaining: 18.4s\n",
      "145:\tlearn: 0.1214611\ttest: 0.1748237\tbest: 0.1733646 (118)\ttotal: 3.15s\tremaining: 18.4s\n",
      "146:\tlearn: 0.1213597\ttest: 0.1748484\tbest: 0.1733646 (118)\ttotal: 3.17s\tremaining: 18.4s\n",
      "147:\tlearn: 0.1209688\ttest: 0.1748044\tbest: 0.1733646 (118)\ttotal: 3.19s\tremaining: 18.4s\n",
      "148:\tlearn: 0.1206039\ttest: 0.1748418\tbest: 0.1733646 (118)\ttotal: 3.21s\tremaining: 18.4s\n",
      "149:\tlearn: 0.1203017\ttest: 0.1748094\tbest: 0.1733646 (118)\ttotal: 3.23s\tremaining: 18.3s\n",
      "150:\tlearn: 0.1202100\ttest: 0.1748394\tbest: 0.1733646 (118)\ttotal: 3.25s\tremaining: 18.3s\n",
      "151:\tlearn: 0.1197940\ttest: 0.1748737\tbest: 0.1733646 (118)\ttotal: 3.28s\tremaining: 18.3s\n",
      "152:\tlearn: 0.1193521\ttest: 0.1748216\tbest: 0.1733646 (118)\ttotal: 3.3s\tremaining: 18.3s\n",
      "153:\tlearn: 0.1191079\ttest: 0.1747672\tbest: 0.1733646 (118)\ttotal: 3.32s\tremaining: 18.2s\n",
      "154:\tlearn: 0.1188783\ttest: 0.1747383\tbest: 0.1733646 (118)\ttotal: 3.34s\tremaining: 18.2s\n",
      "155:\tlearn: 0.1183411\ttest: 0.1746566\tbest: 0.1733646 (118)\ttotal: 3.36s\tremaining: 18.2s\n",
      "156:\tlearn: 0.1179231\ttest: 0.1744062\tbest: 0.1733646 (118)\ttotal: 3.38s\tremaining: 18.2s\n",
      "157:\tlearn: 0.1173067\ttest: 0.1742235\tbest: 0.1733646 (118)\ttotal: 3.41s\tremaining: 18.2s\n",
      "158:\tlearn: 0.1170470\ttest: 0.1741436\tbest: 0.1733646 (118)\ttotal: 3.43s\tremaining: 18.1s\n",
      "159:\tlearn: 0.1166131\ttest: 0.1742821\tbest: 0.1733646 (118)\ttotal: 3.45s\tremaining: 18.1s\n",
      "160:\tlearn: 0.1163411\ttest: 0.1744035\tbest: 0.1733646 (118)\ttotal: 3.47s\tremaining: 18.1s\n",
      "161:\tlearn: 0.1160947\ttest: 0.1744442\tbest: 0.1733646 (118)\ttotal: 3.5s\tremaining: 18.1s\n",
      "162:\tlearn: 0.1155403\ttest: 0.1745296\tbest: 0.1733646 (118)\ttotal: 3.52s\tremaining: 18.1s\n",
      "163:\tlearn: 0.1153116\ttest: 0.1745894\tbest: 0.1733646 (118)\ttotal: 3.54s\tremaining: 18.1s\n",
      "164:\tlearn: 0.1149626\ttest: 0.1745860\tbest: 0.1733646 (118)\ttotal: 3.56s\tremaining: 18s\n",
      "165:\tlearn: 0.1146146\ttest: 0.1744359\tbest: 0.1733646 (118)\ttotal: 3.58s\tremaining: 18s\n",
      "166:\tlearn: 0.1142222\ttest: 0.1745408\tbest: 0.1733646 (118)\ttotal: 3.6s\tremaining: 18s\n",
      "167:\tlearn: 0.1139647\ttest: 0.1745217\tbest: 0.1733646 (118)\ttotal: 3.63s\tremaining: 18s\n",
      "168:\tlearn: 0.1134690\ttest: 0.1744133\tbest: 0.1733646 (118)\ttotal: 3.65s\tremaining: 17.9s\n",
      "Stopped by overfitting detector  (50 iterations wait)\n",
      "\n",
      "bestTest = 0.1733646154\n",
      "bestIteration = 118\n",
      "\n",
      "Shrink model to first 119 iterations.\n",
      "0:\tlearn: 0.5866022\ttest: 0.5879647\tbest: 0.5879647 (0)\ttotal: 22.5ms\tremaining: 22.5s\n",
      "1:\tlearn: 0.5064952\ttest: 0.5095362\tbest: 0.5095362 (1)\ttotal: 44.3ms\tremaining: 22.1s\n",
      "2:\tlearn: 0.4417598\ttest: 0.4457736\tbest: 0.4457736 (2)\ttotal: 64.4ms\tremaining: 21.4s\n",
      "3:\tlearn: 0.3994037\ttest: 0.4022264\tbest: 0.4022264 (3)\ttotal: 85.9ms\tremaining: 21.4s\n",
      "4:\tlearn: 0.3641275\ttest: 0.3677634\tbest: 0.3677634 (4)\ttotal: 107ms\tremaining: 21.2s\n",
      "5:\tlearn: 0.3372654\ttest: 0.3411557\tbest: 0.3411557 (5)\ttotal: 128ms\tremaining: 21.2s\n",
      "6:\tlearn: 0.3143454\ttest: 0.3181407\tbest: 0.3181407 (6)\ttotal: 149ms\tremaining: 21.2s\n",
      "7:\tlearn: 0.2960446\ttest: 0.3005605\tbest: 0.3005605 (7)\ttotal: 171ms\tremaining: 21.2s\n",
      "8:\tlearn: 0.2794570\ttest: 0.2852668\tbest: 0.2852668 (8)\ttotal: 193ms\tremaining: 21.2s\n",
      "9:\tlearn: 0.2652262\ttest: 0.2714180\tbest: 0.2714180 (9)\ttotal: 213ms\tremaining: 21.1s\n",
      "10:\tlearn: 0.2543169\ttest: 0.2614032\tbest: 0.2614032 (10)\ttotal: 238ms\tremaining: 21.4s\n",
      "11:\tlearn: 0.2468221\ttest: 0.2547924\tbest: 0.2547924 (11)\ttotal: 257ms\tremaining: 21.2s\n",
      "12:\tlearn: 0.2393640\ttest: 0.2481394\tbest: 0.2481394 (12)\ttotal: 278ms\tremaining: 21.1s\n",
      "13:\tlearn: 0.2341822\ttest: 0.2434043\tbest: 0.2434043 (13)\ttotal: 300ms\tremaining: 21.1s\n",
      "14:\tlearn: 0.2283045\ttest: 0.2383691\tbest: 0.2383691 (14)\ttotal: 321ms\tremaining: 21.1s\n",
      "15:\tlearn: 0.2223192\ttest: 0.2337773\tbest: 0.2337773 (15)\ttotal: 341ms\tremaining: 21s\n",
      "16:\tlearn: 0.2178012\ttest: 0.2299169\tbest: 0.2299169 (16)\ttotal: 361ms\tremaining: 20.9s\n",
      "17:\tlearn: 0.2144708\ttest: 0.2269206\tbest: 0.2269206 (17)\ttotal: 381ms\tremaining: 20.8s\n",
      "18:\tlearn: 0.2116826\ttest: 0.2247206\tbest: 0.2247206 (18)\ttotal: 409ms\tremaining: 21.1s\n",
      "19:\tlearn: 0.2093656\ttest: 0.2229326\tbest: 0.2229326 (19)\ttotal: 431ms\tremaining: 21.1s\n",
      "20:\tlearn: 0.2066769\ttest: 0.2212388\tbest: 0.2212388 (20)\ttotal: 455ms\tremaining: 21.2s\n",
      "21:\tlearn: 0.2044845\ttest: 0.2196205\tbest: 0.2196205 (21)\ttotal: 475ms\tremaining: 21.1s\n",
      "22:\tlearn: 0.2015323\ttest: 0.2173766\tbest: 0.2173766 (22)\ttotal: 496ms\tremaining: 21.1s\n",
      "23:\tlearn: 0.1987536\ttest: 0.2148834\tbest: 0.2148834 (23)\ttotal: 518ms\tremaining: 21.1s\n",
      "24:\tlearn: 0.1970722\ttest: 0.2130852\tbest: 0.2130852 (24)\ttotal: 538ms\tremaining: 21s\n",
      "25:\tlearn: 0.1953659\ttest: 0.2119185\tbest: 0.2119185 (25)\ttotal: 559ms\tremaining: 20.9s\n",
      "26:\tlearn: 0.1930738\ttest: 0.2099835\tbest: 0.2099835 (26)\ttotal: 584ms\tremaining: 21s\n",
      "27:\tlearn: 0.1910792\ttest: 0.2079946\tbest: 0.2079946 (27)\ttotal: 606ms\tremaining: 21s\n",
      "28:\tlearn: 0.1901154\ttest: 0.2076440\tbest: 0.2076440 (28)\ttotal: 627ms\tremaining: 21s\n",
      "29:\tlearn: 0.1891536\ttest: 0.2071552\tbest: 0.2071552 (29)\ttotal: 649ms\tremaining: 21s\n",
      "30:\tlearn: 0.1878828\ttest: 0.2061632\tbest: 0.2061632 (30)\ttotal: 672ms\tremaining: 21s\n",
      "31:\tlearn: 0.1855455\ttest: 0.2042330\tbest: 0.2042330 (31)\ttotal: 694ms\tremaining: 21s\n",
      "32:\tlearn: 0.1835731\ttest: 0.2023685\tbest: 0.2023685 (32)\ttotal: 713ms\tremaining: 20.9s\n",
      "33:\tlearn: 0.1817892\ttest: 0.2013423\tbest: 0.2013423 (33)\ttotal: 734ms\tremaining: 20.9s\n",
      "34:\tlearn: 0.1813329\ttest: 0.2012266\tbest: 0.2012266 (34)\ttotal: 754ms\tremaining: 20.8s\n",
      "35:\tlearn: 0.1799447\ttest: 0.2002770\tbest: 0.2002770 (35)\ttotal: 775ms\tremaining: 20.8s\n",
      "36:\tlearn: 0.1779996\ttest: 0.1985822\tbest: 0.1985822 (36)\ttotal: 797ms\tremaining: 20.7s\n",
      "37:\tlearn: 0.1768726\ttest: 0.1979972\tbest: 0.1979972 (37)\ttotal: 818ms\tremaining: 20.7s\n",
      "38:\tlearn: 0.1759575\ttest: 0.1974419\tbest: 0.1974419 (38)\ttotal: 839ms\tremaining: 20.7s\n",
      "39:\tlearn: 0.1749230\ttest: 0.1966333\tbest: 0.1966333 (39)\ttotal: 859ms\tremaining: 20.6s\n",
      "40:\tlearn: 0.1735513\ttest: 0.1960115\tbest: 0.1960115 (40)\ttotal: 882ms\tremaining: 20.6s\n",
      "41:\tlearn: 0.1725250\ttest: 0.1951502\tbest: 0.1951502 (41)\ttotal: 905ms\tremaining: 20.6s\n",
      "42:\tlearn: 0.1714521\ttest: 0.1944151\tbest: 0.1944151 (42)\ttotal: 929ms\tremaining: 20.7s\n",
      "43:\tlearn: 0.1705747\ttest: 0.1939227\tbest: 0.1939227 (43)\ttotal: 953ms\tremaining: 20.7s\n",
      "44:\tlearn: 0.1695593\ttest: 0.1932744\tbest: 0.1932744 (44)\ttotal: 973ms\tremaining: 20.6s\n",
      "45:\tlearn: 0.1687902\ttest: 0.1927981\tbest: 0.1927981 (45)\ttotal: 994ms\tremaining: 20.6s\n",
      "46:\tlearn: 0.1675841\ttest: 0.1919882\tbest: 0.1919882 (46)\ttotal: 1.01s\tremaining: 20.5s\n",
      "47:\tlearn: 0.1669917\ttest: 0.1916665\tbest: 0.1916665 (47)\ttotal: 1.03s\tremaining: 20.5s\n",
      "48:\tlearn: 0.1665442\ttest: 0.1916733\tbest: 0.1916665 (47)\ttotal: 1.05s\tremaining: 20.4s\n",
      "49:\tlearn: 0.1661550\ttest: 0.1914522\tbest: 0.1914522 (49)\ttotal: 1.07s\tremaining: 20.4s\n",
      "50:\tlearn: 0.1653925\ttest: 0.1910650\tbest: 0.1910650 (50)\ttotal: 1.1s\tremaining: 20.4s\n",
      "51:\tlearn: 0.1650134\ttest: 0.1910059\tbest: 0.1910059 (51)\ttotal: 1.12s\tremaining: 20.4s\n",
      "52:\tlearn: 0.1640377\ttest: 0.1903674\tbest: 0.1903674 (52)\ttotal: 1.14s\tremaining: 20.3s\n",
      "53:\tlearn: 0.1634171\ttest: 0.1902132\tbest: 0.1902132 (53)\ttotal: 1.16s\tremaining: 20.3s\n",
      "54:\tlearn: 0.1627756\ttest: 0.1900169\tbest: 0.1900169 (54)\ttotal: 1.18s\tremaining: 20.3s\n",
      "55:\tlearn: 0.1618034\ttest: 0.1898649\tbest: 0.1898649 (55)\ttotal: 1.2s\tremaining: 20.2s\n",
      "56:\tlearn: 0.1608859\ttest: 0.1893948\tbest: 0.1893948 (56)\ttotal: 1.22s\tremaining: 20.2s\n",
      "57:\tlearn: 0.1599964\ttest: 0.1891102\tbest: 0.1891102 (57)\ttotal: 1.24s\tremaining: 20.2s\n",
      "58:\tlearn: 0.1596017\ttest: 0.1889722\tbest: 0.1889722 (58)\ttotal: 1.26s\tremaining: 20.1s\n",
      "59:\tlearn: 0.1587139\ttest: 0.1882694\tbest: 0.1882694 (59)\ttotal: 1.28s\tremaining: 20.1s\n",
      "60:\tlearn: 0.1575625\ttest: 0.1874876\tbest: 0.1874876 (60)\ttotal: 1.31s\tremaining: 20.1s\n",
      "61:\tlearn: 0.1572021\ttest: 0.1874102\tbest: 0.1874102 (61)\ttotal: 1.33s\tremaining: 20.1s\n",
      "62:\tlearn: 0.1565990\ttest: 0.1870942\tbest: 0.1870942 (62)\ttotal: 1.35s\tremaining: 20.1s\n",
      "63:\tlearn: 0.1560452\ttest: 0.1868527\tbest: 0.1868527 (63)\ttotal: 1.37s\tremaining: 20.1s\n",
      "64:\tlearn: 0.1553292\ttest: 0.1863746\tbest: 0.1863746 (64)\ttotal: 1.39s\tremaining: 20s\n",
      "65:\tlearn: 0.1552749\ttest: 0.1864030\tbest: 0.1863746 (64)\ttotal: 1.41s\tremaining: 20s\n",
      "66:\tlearn: 0.1548414\ttest: 0.1861478\tbest: 0.1861478 (66)\ttotal: 1.43s\tremaining: 20s\n",
      "67:\tlearn: 0.1545510\ttest: 0.1862830\tbest: 0.1861478 (66)\ttotal: 1.45s\tremaining: 19.9s\n",
      "68:\tlearn: 0.1539962\ttest: 0.1859640\tbest: 0.1859640 (68)\ttotal: 1.47s\tremaining: 19.9s\n",
      "69:\tlearn: 0.1536321\ttest: 0.1860193\tbest: 0.1859640 (68)\ttotal: 1.49s\tremaining: 19.8s\n",
      "70:\tlearn: 0.1527857\ttest: 0.1853828\tbest: 0.1853828 (70)\ttotal: 1.52s\tremaining: 19.8s\n",
      "71:\tlearn: 0.1523808\ttest: 0.1854166\tbest: 0.1853828 (70)\ttotal: 1.54s\tremaining: 19.9s\n",
      "72:\tlearn: 0.1517261\ttest: 0.1851043\tbest: 0.1851043 (72)\ttotal: 1.56s\tremaining: 19.9s\n",
      "73:\tlearn: 0.1511535\ttest: 0.1847943\tbest: 0.1847943 (73)\ttotal: 1.58s\tremaining: 19.8s\n",
      "74:\tlearn: 0.1505062\ttest: 0.1847041\tbest: 0.1847041 (74)\ttotal: 1.61s\tremaining: 19.8s\n",
      "75:\tlearn: 0.1501735\ttest: 0.1846938\tbest: 0.1846938 (75)\ttotal: 1.63s\tremaining: 19.8s\n",
      "76:\tlearn: 0.1496249\ttest: 0.1844313\tbest: 0.1844313 (76)\ttotal: 1.65s\tremaining: 19.7s\n",
      "77:\tlearn: 0.1493056\ttest: 0.1842241\tbest: 0.1842241 (77)\ttotal: 1.67s\tremaining: 19.7s\n",
      "78:\tlearn: 0.1489385\ttest: 0.1842455\tbest: 0.1842241 (77)\ttotal: 1.69s\tremaining: 19.7s\n",
      "79:\tlearn: 0.1481403\ttest: 0.1837743\tbest: 0.1837743 (79)\ttotal: 1.71s\tremaining: 19.6s\n",
      "80:\tlearn: 0.1475866\ttest: 0.1835431\tbest: 0.1835431 (80)\ttotal: 1.73s\tremaining: 19.6s\n",
      "81:\tlearn: 0.1470025\ttest: 0.1833085\tbest: 0.1833085 (81)\ttotal: 1.75s\tremaining: 19.6s\n",
      "82:\tlearn: 0.1463199\ttest: 0.1833700\tbest: 0.1833085 (81)\ttotal: 1.77s\tremaining: 19.6s\n",
      "83:\tlearn: 0.1457898\ttest: 0.1831963\tbest: 0.1831963 (83)\ttotal: 1.79s\tremaining: 19.6s\n",
      "84:\tlearn: 0.1453086\ttest: 0.1827976\tbest: 0.1827976 (84)\ttotal: 1.81s\tremaining: 19.5s\n",
      "85:\tlearn: 0.1451263\ttest: 0.1828047\tbest: 0.1827976 (84)\ttotal: 1.83s\tremaining: 19.5s\n",
      "86:\tlearn: 0.1447371\ttest: 0.1825893\tbest: 0.1825893 (86)\ttotal: 1.86s\tremaining: 19.5s\n",
      "87:\tlearn: 0.1444220\ttest: 0.1824109\tbest: 0.1824109 (87)\ttotal: 1.88s\tremaining: 19.5s\n",
      "88:\tlearn: 0.1439773\ttest: 0.1825220\tbest: 0.1824109 (87)\ttotal: 1.9s\tremaining: 19.4s\n",
      "89:\tlearn: 0.1433336\ttest: 0.1826585\tbest: 0.1824109 (87)\ttotal: 1.92s\tremaining: 19.4s\n",
      "90:\tlearn: 0.1430712\ttest: 0.1825382\tbest: 0.1824109 (87)\ttotal: 1.94s\tremaining: 19.4s\n",
      "91:\tlearn: 0.1428730\ttest: 0.1824545\tbest: 0.1824109 (87)\ttotal: 1.96s\tremaining: 19.3s\n",
      "92:\tlearn: 0.1425071\ttest: 0.1820188\tbest: 0.1820188 (92)\ttotal: 1.98s\tremaining: 19.3s\n",
      "93:\tlearn: 0.1419906\ttest: 0.1820146\tbest: 0.1820146 (93)\ttotal: 2s\tremaining: 19.2s\n",
      "94:\tlearn: 0.1416289\ttest: 0.1819697\tbest: 0.1819697 (94)\ttotal: 2.02s\tremaining: 19.2s\n",
      "95:\tlearn: 0.1411270\ttest: 0.1815206\tbest: 0.1815206 (95)\ttotal: 2.04s\tremaining: 19.2s\n",
      "96:\tlearn: 0.1405211\ttest: 0.1812725\tbest: 0.1812725 (96)\ttotal: 2.06s\tremaining: 19.1s\n",
      "97:\tlearn: 0.1402144\ttest: 0.1814661\tbest: 0.1812725 (96)\ttotal: 2.08s\tremaining: 19.1s\n",
      "98:\tlearn: 0.1400576\ttest: 0.1814950\tbest: 0.1812725 (96)\ttotal: 2.1s\tremaining: 19.1s\n",
      "99:\tlearn: 0.1396244\ttest: 0.1812813\tbest: 0.1812725 (96)\ttotal: 2.12s\tremaining: 19.1s\n",
      "100:\tlearn: 0.1394790\ttest: 0.1812395\tbest: 0.1812395 (100)\ttotal: 2.14s\tremaining: 19.1s\n",
      "101:\tlearn: 0.1391688\ttest: 0.1811673\tbest: 0.1811673 (101)\ttotal: 2.16s\tremaining: 19.1s\n",
      "102:\tlearn: 0.1386833\ttest: 0.1808667\tbest: 0.1808667 (102)\ttotal: 2.18s\tremaining: 19s\n",
      "103:\tlearn: 0.1381211\ttest: 0.1804702\tbest: 0.1804702 (103)\ttotal: 2.2s\tremaining: 19s\n",
      "104:\tlearn: 0.1378269\ttest: 0.1804508\tbest: 0.1804508 (104)\ttotal: 2.23s\tremaining: 19s\n",
      "105:\tlearn: 0.1372288\ttest: 0.1797970\tbest: 0.1797970 (105)\ttotal: 2.25s\tremaining: 18.9s\n",
      "106:\tlearn: 0.1369295\ttest: 0.1796945\tbest: 0.1796945 (106)\ttotal: 2.27s\tremaining: 18.9s\n",
      "107:\tlearn: 0.1366555\ttest: 0.1796095\tbest: 0.1796095 (107)\ttotal: 2.29s\tremaining: 18.9s\n",
      "108:\tlearn: 0.1359700\ttest: 0.1795114\tbest: 0.1795114 (108)\ttotal: 2.31s\tremaining: 18.9s\n",
      "109:\tlearn: 0.1356058\ttest: 0.1793492\tbest: 0.1793492 (109)\ttotal: 2.33s\tremaining: 18.8s\n",
      "110:\tlearn: 0.1351033\ttest: 0.1790256\tbest: 0.1790256 (110)\ttotal: 2.35s\tremaining: 18.8s\n",
      "111:\tlearn: 0.1346677\ttest: 0.1791484\tbest: 0.1790256 (110)\ttotal: 2.37s\tremaining: 18.8s\n",
      "112:\tlearn: 0.1342933\ttest: 0.1792749\tbest: 0.1790256 (110)\ttotal: 2.4s\tremaining: 18.8s\n",
      "113:\tlearn: 0.1339380\ttest: 0.1793759\tbest: 0.1790256 (110)\ttotal: 2.42s\tremaining: 18.8s\n",
      "114:\tlearn: 0.1334063\ttest: 0.1792150\tbest: 0.1790256 (110)\ttotal: 2.44s\tremaining: 18.8s\n",
      "115:\tlearn: 0.1330158\ttest: 0.1789483\tbest: 0.1789483 (115)\ttotal: 2.46s\tremaining: 18.8s\n",
      "116:\tlearn: 0.1327434\ttest: 0.1789764\tbest: 0.1789483 (115)\ttotal: 2.48s\tremaining: 18.7s\n",
      "117:\tlearn: 0.1321091\ttest: 0.1788151\tbest: 0.1788151 (117)\ttotal: 2.5s\tremaining: 18.7s\n",
      "118:\tlearn: 0.1316844\ttest: 0.1788062\tbest: 0.1788062 (118)\ttotal: 2.52s\tremaining: 18.7s\n",
      "119:\tlearn: 0.1311072\ttest: 0.1782015\tbest: 0.1782015 (119)\ttotal: 2.54s\tremaining: 18.6s\n",
      "120:\tlearn: 0.1309380\ttest: 0.1781636\tbest: 0.1781636 (120)\ttotal: 2.56s\tremaining: 18.6s\n",
      "121:\tlearn: 0.1299592\ttest: 0.1776734\tbest: 0.1776734 (121)\ttotal: 2.58s\tremaining: 18.6s\n",
      "122:\tlearn: 0.1295695\ttest: 0.1776796\tbest: 0.1776734 (121)\ttotal: 2.6s\tremaining: 18.6s\n",
      "123:\tlearn: 0.1291689\ttest: 0.1776066\tbest: 0.1776066 (123)\ttotal: 2.63s\tremaining: 18.6s\n",
      "124:\tlearn: 0.1287364\ttest: 0.1775007\tbest: 0.1775007 (124)\ttotal: 2.65s\tremaining: 18.5s\n",
      "125:\tlearn: 0.1282898\ttest: 0.1775128\tbest: 0.1775007 (124)\ttotal: 2.67s\tremaining: 18.5s\n",
      "126:\tlearn: 0.1280392\ttest: 0.1775422\tbest: 0.1775007 (124)\ttotal: 2.69s\tremaining: 18.5s\n",
      "127:\tlearn: 0.1276484\ttest: 0.1776397\tbest: 0.1775007 (124)\ttotal: 2.71s\tremaining: 18.5s\n",
      "128:\tlearn: 0.1274007\ttest: 0.1775996\tbest: 0.1775007 (124)\ttotal: 2.73s\tremaining: 18.4s\n",
      "129:\tlearn: 0.1268073\ttest: 0.1774555\tbest: 0.1774555 (129)\ttotal: 2.75s\tremaining: 18.4s\n",
      "130:\tlearn: 0.1261732\ttest: 0.1774281\tbest: 0.1774281 (130)\ttotal: 2.78s\tremaining: 18.4s\n",
      "131:\tlearn: 0.1258381\ttest: 0.1774573\tbest: 0.1774281 (130)\ttotal: 2.8s\tremaining: 18.4s\n",
      "132:\tlearn: 0.1248036\ttest: 0.1769849\tbest: 0.1769849 (132)\ttotal: 2.82s\tremaining: 18.4s\n",
      "133:\tlearn: 0.1243096\ttest: 0.1769542\tbest: 0.1769542 (133)\ttotal: 2.84s\tremaining: 18.3s\n",
      "134:\tlearn: 0.1238086\ttest: 0.1770010\tbest: 0.1769542 (133)\ttotal: 2.86s\tremaining: 18.3s\n",
      "135:\tlearn: 0.1234845\ttest: 0.1770201\tbest: 0.1769542 (133)\ttotal: 2.88s\tremaining: 18.3s\n",
      "136:\tlearn: 0.1232856\ttest: 0.1771450\tbest: 0.1769542 (133)\ttotal: 2.9s\tremaining: 18.3s\n",
      "137:\tlearn: 0.1228370\ttest: 0.1772891\tbest: 0.1769542 (133)\ttotal: 2.92s\tremaining: 18.2s\n",
      "138:\tlearn: 0.1226232\ttest: 0.1772276\tbest: 0.1769542 (133)\ttotal: 2.94s\tremaining: 18.2s\n",
      "139:\tlearn: 0.1223071\ttest: 0.1769564\tbest: 0.1769542 (133)\ttotal: 2.96s\tremaining: 18.2s\n",
      "140:\tlearn: 0.1219771\ttest: 0.1768972\tbest: 0.1768972 (140)\ttotal: 2.98s\tremaining: 18.1s\n",
      "141:\tlearn: 0.1215983\ttest: 0.1768102\tbest: 0.1768102 (141)\ttotal: 3s\tremaining: 18.1s\n",
      "142:\tlearn: 0.1213322\ttest: 0.1768661\tbest: 0.1768102 (141)\ttotal: 3.02s\tremaining: 18.1s\n",
      "143:\tlearn: 0.1209708\ttest: 0.1768282\tbest: 0.1768102 (141)\ttotal: 3.04s\tremaining: 18.1s\n",
      "144:\tlearn: 0.1203748\ttest: 0.1767803\tbest: 0.1767803 (144)\ttotal: 3.06s\tremaining: 18s\n",
      "145:\tlearn: 0.1198776\ttest: 0.1765880\tbest: 0.1765880 (145)\ttotal: 3.08s\tremaining: 18s\n",
      "146:\tlearn: 0.1195336\ttest: 0.1763810\tbest: 0.1763810 (146)\ttotal: 3.1s\tremaining: 18s\n",
      "147:\tlearn: 0.1191235\ttest: 0.1762792\tbest: 0.1762792 (147)\ttotal: 3.12s\tremaining: 18s\n",
      "148:\tlearn: 0.1189376\ttest: 0.1764304\tbest: 0.1762792 (147)\ttotal: 3.14s\tremaining: 17.9s\n",
      "149:\tlearn: 0.1182951\ttest: 0.1762328\tbest: 0.1762328 (149)\ttotal: 3.16s\tremaining: 17.9s\n",
      "150:\tlearn: 0.1175529\ttest: 0.1763941\tbest: 0.1762328 (149)\ttotal: 3.19s\tremaining: 17.9s\n",
      "151:\tlearn: 0.1172908\ttest: 0.1764654\tbest: 0.1762328 (149)\ttotal: 3.21s\tremaining: 17.9s\n",
      "152:\tlearn: 0.1169833\ttest: 0.1763594\tbest: 0.1762328 (149)\ttotal: 3.23s\tremaining: 17.9s\n",
      "153:\tlearn: 0.1166089\ttest: 0.1764255\tbest: 0.1762328 (149)\ttotal: 3.25s\tremaining: 17.8s\n",
      "154:\tlearn: 0.1164420\ttest: 0.1763561\tbest: 0.1762328 (149)\ttotal: 3.27s\tremaining: 17.8s\n",
      "155:\tlearn: 0.1159582\ttest: 0.1759895\tbest: 0.1759895 (155)\ttotal: 3.29s\tremaining: 17.8s\n",
      "156:\tlearn: 0.1156299\ttest: 0.1758898\tbest: 0.1758898 (156)\ttotal: 3.31s\tremaining: 17.8s\n",
      "157:\tlearn: 0.1152565\ttest: 0.1759461\tbest: 0.1758898 (156)\ttotal: 3.35s\tremaining: 17.8s\n",
      "158:\tlearn: 0.1150068\ttest: 0.1759039\tbest: 0.1758898 (156)\ttotal: 3.37s\tremaining: 17.8s\n",
      "159:\tlearn: 0.1148617\ttest: 0.1758374\tbest: 0.1758374 (159)\ttotal: 3.39s\tremaining: 17.8s\n",
      "160:\tlearn: 0.1144220\ttest: 0.1759606\tbest: 0.1758374 (159)\ttotal: 3.42s\tremaining: 17.8s\n",
      "161:\tlearn: 0.1142284\ttest: 0.1757638\tbest: 0.1757638 (161)\ttotal: 3.44s\tremaining: 17.8s\n",
      "162:\tlearn: 0.1136714\ttest: 0.1759166\tbest: 0.1757638 (161)\ttotal: 3.46s\tremaining: 17.8s\n",
      "163:\tlearn: 0.1131310\ttest: 0.1758534\tbest: 0.1757638 (161)\ttotal: 3.48s\tremaining: 17.7s\n",
      "164:\tlearn: 0.1128515\ttest: 0.1758619\tbest: 0.1757638 (161)\ttotal: 3.5s\tremaining: 17.7s\n",
      "165:\tlearn: 0.1124319\ttest: 0.1758500\tbest: 0.1757638 (161)\ttotal: 3.52s\tremaining: 17.7s\n",
      "166:\tlearn: 0.1120271\ttest: 0.1756649\tbest: 0.1756649 (166)\ttotal: 3.54s\tremaining: 17.7s\n",
      "167:\tlearn: 0.1116248\ttest: 0.1754992\tbest: 0.1754992 (167)\ttotal: 3.56s\tremaining: 17.6s\n",
      "168:\tlearn: 0.1113635\ttest: 0.1756262\tbest: 0.1754992 (167)\ttotal: 3.58s\tremaining: 17.6s\n",
      "169:\tlearn: 0.1112745\ttest: 0.1757166\tbest: 0.1754992 (167)\ttotal: 3.6s\tremaining: 17.6s\n",
      "170:\tlearn: 0.1107401\ttest: 0.1754965\tbest: 0.1754965 (170)\ttotal: 3.63s\tremaining: 17.6s\n",
      "171:\tlearn: 0.1104391\ttest: 0.1757542\tbest: 0.1754965 (170)\ttotal: 3.65s\tremaining: 17.6s\n",
      "172:\tlearn: 0.1101962\ttest: 0.1757800\tbest: 0.1754965 (170)\ttotal: 3.67s\tremaining: 17.5s\n",
      "173:\tlearn: 0.1097849\ttest: 0.1757240\tbest: 0.1754965 (170)\ttotal: 3.69s\tremaining: 17.5s\n",
      "174:\tlearn: 0.1096952\ttest: 0.1757604\tbest: 0.1754965 (170)\ttotal: 3.71s\tremaining: 17.5s\n",
      "175:\tlearn: 0.1095212\ttest: 0.1757741\tbest: 0.1754965 (170)\ttotal: 3.73s\tremaining: 17.5s\n",
      "176:\tlearn: 0.1089156\ttest: 0.1756897\tbest: 0.1754965 (170)\ttotal: 3.75s\tremaining: 17.4s\n",
      "177:\tlearn: 0.1087480\ttest: 0.1757859\tbest: 0.1754965 (170)\ttotal: 3.77s\tremaining: 17.4s\n",
      "178:\tlearn: 0.1083161\ttest: 0.1758437\tbest: 0.1754965 (170)\ttotal: 3.79s\tremaining: 17.4s\n",
      "179:\tlearn: 0.1081662\ttest: 0.1758267\tbest: 0.1754965 (170)\ttotal: 3.82s\tremaining: 17.4s\n",
      "180:\tlearn: 0.1078232\ttest: 0.1754438\tbest: 0.1754438 (180)\ttotal: 3.84s\tremaining: 17.4s\n",
      "181:\tlearn: 0.1074975\ttest: 0.1755104\tbest: 0.1754438 (180)\ttotal: 3.86s\tremaining: 17.4s\n",
      "182:\tlearn: 0.1069433\ttest: 0.1753916\tbest: 0.1753916 (182)\ttotal: 3.88s\tremaining: 17.3s\n",
      "183:\tlearn: 0.1067994\ttest: 0.1753980\tbest: 0.1753916 (182)\ttotal: 3.9s\tremaining: 17.3s\n",
      "184:\tlearn: 0.1066380\ttest: 0.1754030\tbest: 0.1753916 (182)\ttotal: 3.92s\tremaining: 17.3s\n",
      "185:\tlearn: 0.1062158\ttest: 0.1754662\tbest: 0.1753916 (182)\ttotal: 3.94s\tremaining: 17.2s\n",
      "186:\tlearn: 0.1058385\ttest: 0.1754799\tbest: 0.1753916 (182)\ttotal: 3.96s\tremaining: 17.2s\n",
      "187:\tlearn: 0.1053112\ttest: 0.1754437\tbest: 0.1753916 (182)\ttotal: 3.98s\tremaining: 17.2s\n",
      "188:\tlearn: 0.1049221\ttest: 0.1753322\tbest: 0.1753322 (188)\ttotal: 4s\tremaining: 17.2s\n",
      "189:\tlearn: 0.1046406\ttest: 0.1754235\tbest: 0.1753322 (188)\ttotal: 4.03s\tremaining: 17.2s\n",
      "190:\tlearn: 0.1043309\ttest: 0.1754213\tbest: 0.1753322 (188)\ttotal: 4.05s\tremaining: 17.2s\n",
      "191:\tlearn: 0.1041285\ttest: 0.1755502\tbest: 0.1753322 (188)\ttotal: 4.07s\tremaining: 17.1s\n",
      "192:\tlearn: 0.1038015\ttest: 0.1757101\tbest: 0.1753322 (188)\ttotal: 4.09s\tremaining: 17.1s\n",
      "193:\tlearn: 0.1036203\ttest: 0.1754957\tbest: 0.1753322 (188)\ttotal: 4.11s\tremaining: 17.1s\n",
      "194:\tlearn: 0.1031625\ttest: 0.1752778\tbest: 0.1752778 (194)\ttotal: 4.13s\tremaining: 17.1s\n",
      "195:\tlearn: 0.1026740\ttest: 0.1752866\tbest: 0.1752778 (194)\ttotal: 4.15s\tremaining: 17s\n",
      "196:\tlearn: 0.1025598\ttest: 0.1753105\tbest: 0.1752778 (194)\ttotal: 4.17s\tremaining: 17s\n",
      "197:\tlearn: 0.1020357\ttest: 0.1754242\tbest: 0.1752778 (194)\ttotal: 4.19s\tremaining: 17s\n",
      "198:\tlearn: 0.1016366\ttest: 0.1755386\tbest: 0.1752778 (194)\ttotal: 4.21s\tremaining: 17s\n",
      "199:\tlearn: 0.1014670\ttest: 0.1755750\tbest: 0.1752778 (194)\ttotal: 4.24s\tremaining: 17s\n",
      "200:\tlearn: 0.1012416\ttest: 0.1755955\tbest: 0.1752778 (194)\ttotal: 4.26s\tremaining: 16.9s\n",
      "201:\tlearn: 0.1008888\ttest: 0.1754407\tbest: 0.1752778 (194)\ttotal: 4.28s\tremaining: 16.9s\n",
      "202:\tlearn: 0.1006604\ttest: 0.1754172\tbest: 0.1752778 (194)\ttotal: 4.3s\tremaining: 16.9s\n",
      "203:\tlearn: 0.1004357\ttest: 0.1753635\tbest: 0.1752778 (194)\ttotal: 4.32s\tremaining: 16.9s\n",
      "204:\tlearn: 0.1002283\ttest: 0.1752183\tbest: 0.1752183 (204)\ttotal: 4.34s\tremaining: 16.8s\n",
      "205:\tlearn: 0.0999788\ttest: 0.1751459\tbest: 0.1751459 (205)\ttotal: 4.36s\tremaining: 16.8s\n",
      "206:\tlearn: 0.0997613\ttest: 0.1752817\tbest: 0.1751459 (205)\ttotal: 4.38s\tremaining: 16.8s\n",
      "207:\tlearn: 0.0994107\ttest: 0.1750232\tbest: 0.1750232 (207)\ttotal: 4.41s\tremaining: 16.8s\n",
      "208:\tlearn: 0.0989667\ttest: 0.1751742\tbest: 0.1750232 (207)\ttotal: 4.43s\tremaining: 16.8s\n",
      "209:\tlearn: 0.0987202\ttest: 0.1750681\tbest: 0.1750232 (207)\ttotal: 4.45s\tremaining: 16.8s\n",
      "210:\tlearn: 0.0984040\ttest: 0.1752134\tbest: 0.1750232 (207)\ttotal: 4.47s\tremaining: 16.7s\n",
      "211:\tlearn: 0.0982028\ttest: 0.1752468\tbest: 0.1750232 (207)\ttotal: 4.49s\tremaining: 16.7s\n",
      "212:\tlearn: 0.0978328\ttest: 0.1751931\tbest: 0.1750232 (207)\ttotal: 4.51s\tremaining: 16.7s\n",
      "213:\tlearn: 0.0977327\ttest: 0.1750235\tbest: 0.1750232 (207)\ttotal: 4.53s\tremaining: 16.7s\n",
      "214:\tlearn: 0.0974080\ttest: 0.1751138\tbest: 0.1750232 (207)\ttotal: 4.55s\tremaining: 16.6s\n",
      "215:\tlearn: 0.0969714\ttest: 0.1754167\tbest: 0.1750232 (207)\ttotal: 4.58s\tremaining: 16.6s\n",
      "216:\tlearn: 0.0967594\ttest: 0.1754609\tbest: 0.1750232 (207)\ttotal: 4.6s\tremaining: 16.6s\n",
      "217:\tlearn: 0.0965319\ttest: 0.1753139\tbest: 0.1750232 (207)\ttotal: 4.62s\tremaining: 16.6s\n",
      "218:\tlearn: 0.0962123\ttest: 0.1752482\tbest: 0.1750232 (207)\ttotal: 4.64s\tremaining: 16.5s\n",
      "219:\tlearn: 0.0960743\ttest: 0.1750751\tbest: 0.1750232 (207)\ttotal: 4.66s\tremaining: 16.5s\n",
      "220:\tlearn: 0.0957688\ttest: 0.1750179\tbest: 0.1750179 (220)\ttotal: 4.68s\tremaining: 16.5s\n",
      "221:\tlearn: 0.0955472\ttest: 0.1748849\tbest: 0.1748849 (221)\ttotal: 4.7s\tremaining: 16.5s\n",
      "222:\tlearn: 0.0954375\ttest: 0.1748307\tbest: 0.1748307 (222)\ttotal: 4.72s\tremaining: 16.4s\n",
      "223:\tlearn: 0.0953284\ttest: 0.1748258\tbest: 0.1748258 (223)\ttotal: 4.74s\tremaining: 16.4s\n",
      "224:\tlearn: 0.0951453\ttest: 0.1748038\tbest: 0.1748038 (224)\ttotal: 4.76s\tremaining: 16.4s\n",
      "225:\tlearn: 0.0948272\ttest: 0.1746340\tbest: 0.1746340 (225)\ttotal: 4.78s\tremaining: 16.4s\n",
      "226:\tlearn: 0.0945691\ttest: 0.1746192\tbest: 0.1746192 (226)\ttotal: 4.8s\tremaining: 16.3s\n",
      "227:\tlearn: 0.0943499\ttest: 0.1745321\tbest: 0.1745321 (227)\ttotal: 4.82s\tremaining: 16.3s\n",
      "228:\tlearn: 0.0941781\ttest: 0.1745203\tbest: 0.1745203 (228)\ttotal: 4.84s\tremaining: 16.3s\n",
      "229:\tlearn: 0.0940598\ttest: 0.1745821\tbest: 0.1745203 (228)\ttotal: 4.87s\tremaining: 16.3s\n",
      "230:\tlearn: 0.0938955\ttest: 0.1747855\tbest: 0.1745203 (228)\ttotal: 4.89s\tremaining: 16.3s\n",
      "231:\tlearn: 0.0935430\ttest: 0.1751537\tbest: 0.1745203 (228)\ttotal: 4.91s\tremaining: 16.2s\n",
      "232:\tlearn: 0.0933577\ttest: 0.1752420\tbest: 0.1745203 (228)\ttotal: 4.93s\tremaining: 16.2s\n",
      "233:\tlearn: 0.0932356\ttest: 0.1752273\tbest: 0.1745203 (228)\ttotal: 4.95s\tremaining: 16.2s\n",
      "234:\tlearn: 0.0928454\ttest: 0.1756269\tbest: 0.1745203 (228)\ttotal: 4.97s\tremaining: 16.2s\n",
      "235:\tlearn: 0.0926779\ttest: 0.1756766\tbest: 0.1745203 (228)\ttotal: 4.99s\tremaining: 16.2s\n",
      "236:\tlearn: 0.0924813\ttest: 0.1755723\tbest: 0.1745203 (228)\ttotal: 5.01s\tremaining: 16.1s\n",
      "237:\tlearn: 0.0921928\ttest: 0.1756144\tbest: 0.1745203 (228)\ttotal: 5.03s\tremaining: 16.1s\n",
      "238:\tlearn: 0.0919097\ttest: 0.1755683\tbest: 0.1745203 (228)\ttotal: 5.05s\tremaining: 16.1s\n",
      "239:\tlearn: 0.0916325\ttest: 0.1757510\tbest: 0.1745203 (228)\ttotal: 5.08s\tremaining: 16.1s\n",
      "240:\tlearn: 0.0912953\ttest: 0.1758434\tbest: 0.1745203 (228)\ttotal: 5.1s\tremaining: 16.1s\n",
      "241:\tlearn: 0.0910128\ttest: 0.1759480\tbest: 0.1745203 (228)\ttotal: 5.12s\tremaining: 16s\n",
      "242:\tlearn: 0.0908551\ttest: 0.1758662\tbest: 0.1745203 (228)\ttotal: 5.14s\tremaining: 16s\n",
      "243:\tlearn: 0.0906619\ttest: 0.1758775\tbest: 0.1745203 (228)\ttotal: 5.16s\tremaining: 16s\n",
      "244:\tlearn: 0.0904528\ttest: 0.1757741\tbest: 0.1745203 (228)\ttotal: 5.18s\tremaining: 16s\n",
      "245:\tlearn: 0.0902660\ttest: 0.1759668\tbest: 0.1745203 (228)\ttotal: 5.2s\tremaining: 15.9s\n",
      "246:\tlearn: 0.0900052\ttest: 0.1760191\tbest: 0.1745203 (228)\ttotal: 5.22s\tremaining: 15.9s\n",
      "247:\tlearn: 0.0898968\ttest: 0.1760187\tbest: 0.1745203 (228)\ttotal: 5.25s\tremaining: 15.9s\n",
      "248:\tlearn: 0.0896967\ttest: 0.1761118\tbest: 0.1745203 (228)\ttotal: 5.27s\tremaining: 15.9s\n",
      "249:\tlearn: 0.0893651\ttest: 0.1762037\tbest: 0.1745203 (228)\ttotal: 5.29s\tremaining: 15.9s\n",
      "250:\tlearn: 0.0891669\ttest: 0.1760099\tbest: 0.1745203 (228)\ttotal: 5.32s\tremaining: 15.9s\n",
      "251:\tlearn: 0.0888140\ttest: 0.1758853\tbest: 0.1745203 (228)\ttotal: 5.34s\tremaining: 15.8s\n",
      "252:\tlearn: 0.0887084\ttest: 0.1759098\tbest: 0.1745203 (228)\ttotal: 5.36s\tremaining: 15.8s\n",
      "253:\tlearn: 0.0885192\ttest: 0.1759054\tbest: 0.1745203 (228)\ttotal: 5.38s\tremaining: 15.8s\n",
      "254:\tlearn: 0.0882397\ttest: 0.1760421\tbest: 0.1745203 (228)\ttotal: 5.4s\tremaining: 15.8s\n",
      "255:\tlearn: 0.0881700\ttest: 0.1760442\tbest: 0.1745203 (228)\ttotal: 5.43s\tremaining: 15.8s\n",
      "256:\tlearn: 0.0878351\ttest: 0.1760735\tbest: 0.1745203 (228)\ttotal: 5.45s\tremaining: 15.8s\n",
      "257:\tlearn: 0.0876663\ttest: 0.1759965\tbest: 0.1745203 (228)\ttotal: 5.47s\tremaining: 15.7s\n",
      "258:\tlearn: 0.0874080\ttest: 0.1759895\tbest: 0.1745203 (228)\ttotal: 5.5s\tremaining: 15.7s\n",
      "259:\tlearn: 0.0872969\ttest: 0.1759356\tbest: 0.1745203 (228)\ttotal: 5.52s\tremaining: 15.7s\n",
      "260:\tlearn: 0.0871994\ttest: 0.1758333\tbest: 0.1745203 (228)\ttotal: 5.54s\tremaining: 15.7s\n",
      "261:\tlearn: 0.0869840\ttest: 0.1758109\tbest: 0.1745203 (228)\ttotal: 5.56s\tremaining: 15.7s\n",
      "262:\tlearn: 0.0866938\ttest: 0.1756819\tbest: 0.1745203 (228)\ttotal: 5.58s\tremaining: 15.6s\n",
      "263:\tlearn: 0.0865334\ttest: 0.1754428\tbest: 0.1745203 (228)\ttotal: 5.6s\tremaining: 15.6s\n",
      "264:\tlearn: 0.0863726\ttest: 0.1753513\tbest: 0.1745203 (228)\ttotal: 5.62s\tremaining: 15.6s\n",
      "265:\tlearn: 0.0863113\ttest: 0.1753914\tbest: 0.1745203 (228)\ttotal: 5.64s\tremaining: 15.6s\n",
      "266:\tlearn: 0.0858500\ttest: 0.1759449\tbest: 0.1745203 (228)\ttotal: 5.66s\tremaining: 15.5s\n",
      "267:\tlearn: 0.0855309\ttest: 0.1757069\tbest: 0.1745203 (228)\ttotal: 5.68s\tremaining: 15.5s\n",
      "268:\tlearn: 0.0853730\ttest: 0.1756475\tbest: 0.1745203 (228)\ttotal: 5.71s\tremaining: 15.5s\n",
      "269:\tlearn: 0.0851980\ttest: 0.1755725\tbest: 0.1745203 (228)\ttotal: 5.73s\tremaining: 15.5s\n",
      "270:\tlearn: 0.0850062\ttest: 0.1755664\tbest: 0.1745203 (228)\ttotal: 5.75s\tremaining: 15.5s\n",
      "271:\tlearn: 0.0846815\ttest: 0.1757428\tbest: 0.1745203 (228)\ttotal: 5.77s\tremaining: 15.4s\n",
      "272:\tlearn: 0.0844129\ttest: 0.1760468\tbest: 0.1745203 (228)\ttotal: 5.79s\tremaining: 15.4s\n",
      "273:\tlearn: 0.0843796\ttest: 0.1760164\tbest: 0.1745203 (228)\ttotal: 5.81s\tremaining: 15.4s\n",
      "274:\tlearn: 0.0841659\ttest: 0.1759701\tbest: 0.1745203 (228)\ttotal: 5.83s\tremaining: 15.4s\n",
      "275:\tlearn: 0.0839761\ttest: 0.1759139\tbest: 0.1745203 (228)\ttotal: 5.85s\tremaining: 15.4s\n",
      "276:\tlearn: 0.0835997\ttest: 0.1760046\tbest: 0.1745203 (228)\ttotal: 5.87s\tremaining: 15.3s\n",
      "277:\tlearn: 0.0833741\ttest: 0.1760620\tbest: 0.1745203 (228)\ttotal: 5.89s\tremaining: 15.3s\n",
      "278:\tlearn: 0.0832322\ttest: 0.1760588\tbest: 0.1745203 (228)\ttotal: 5.92s\tremaining: 15.3s\n",
      "Stopped by overfitting detector  (50 iterations wait)\n",
      "\n",
      "bestTest = 0.1745202655\n",
      "bestIteration = 228\n",
      "\n",
      "Shrink model to first 229 iterations.\n",
      "0:\tlearn: 0.5878825\ttest: 0.5881366\tbest: 0.5881366 (0)\ttotal: 22.1ms\tremaining: 22.1s\n",
      "1:\tlearn: 0.5043668\ttest: 0.5057896\tbest: 0.5057896 (1)\ttotal: 43.1ms\tremaining: 21.5s\n",
      "2:\tlearn: 0.4410138\ttest: 0.4428972\tbest: 0.4428972 (2)\ttotal: 64.1ms\tremaining: 21.3s\n",
      "3:\tlearn: 0.3986242\ttest: 0.4001589\tbest: 0.4001589 (3)\ttotal: 83.8ms\tremaining: 20.9s\n",
      "4:\tlearn: 0.3638451\ttest: 0.3650042\tbest: 0.3650042 (4)\ttotal: 104ms\tremaining: 20.7s\n",
      "5:\tlearn: 0.3344949\ttest: 0.3360342\tbest: 0.3360342 (5)\ttotal: 126ms\tremaining: 20.8s\n",
      "6:\tlearn: 0.3139194\ttest: 0.3164728\tbest: 0.3164728 (6)\ttotal: 149ms\tremaining: 21.2s\n",
      "7:\tlearn: 0.2948830\ttest: 0.2978309\tbest: 0.2978309 (7)\ttotal: 170ms\tremaining: 21s\n",
      "8:\tlearn: 0.2774700\ttest: 0.2819467\tbest: 0.2819467 (8)\ttotal: 190ms\tremaining: 20.9s\n",
      "9:\tlearn: 0.2642368\ttest: 0.2693069\tbest: 0.2693069 (9)\ttotal: 209ms\tremaining: 20.7s\n",
      "10:\tlearn: 0.2549566\ttest: 0.2609384\tbest: 0.2609384 (10)\ttotal: 230ms\tremaining: 20.7s\n",
      "11:\tlearn: 0.2473283\ttest: 0.2534141\tbest: 0.2534141 (11)\ttotal: 249ms\tremaining: 20.5s\n",
      "12:\tlearn: 0.2406539\ttest: 0.2475093\tbest: 0.2475093 (12)\ttotal: 271ms\tremaining: 20.6s\n",
      "13:\tlearn: 0.2319596\ttest: 0.2395535\tbest: 0.2395535 (13)\ttotal: 292ms\tremaining: 20.6s\n",
      "14:\tlearn: 0.2269385\ttest: 0.2351616\tbest: 0.2351616 (14)\ttotal: 312ms\tremaining: 20.5s\n",
      "15:\tlearn: 0.2233959\ttest: 0.2323386\tbest: 0.2323386 (15)\ttotal: 333ms\tremaining: 20.5s\n",
      "16:\tlearn: 0.2204835\ttest: 0.2301295\tbest: 0.2301295 (16)\ttotal: 358ms\tremaining: 20.7s\n",
      "17:\tlearn: 0.2163631\ttest: 0.2267160\tbest: 0.2267160 (17)\ttotal: 379ms\tremaining: 20.7s\n",
      "18:\tlearn: 0.2120721\ttest: 0.2232427\tbest: 0.2232427 (18)\ttotal: 398ms\tremaining: 20.5s\n",
      "19:\tlearn: 0.2094778\ttest: 0.2219214\tbest: 0.2219214 (19)\ttotal: 420ms\tremaining: 20.6s\n",
      "20:\tlearn: 0.2071948\ttest: 0.2196435\tbest: 0.2196435 (20)\ttotal: 448ms\tremaining: 20.9s\n",
      "21:\tlearn: 0.2053511\ttest: 0.2183567\tbest: 0.2183567 (21)\ttotal: 474ms\tremaining: 21.1s\n",
      "22:\tlearn: 0.2013219\ttest: 0.2152311\tbest: 0.2152311 (22)\ttotal: 495ms\tremaining: 21s\n",
      "23:\tlearn: 0.1991034\ttest: 0.2138585\tbest: 0.2138585 (23)\ttotal: 520ms\tremaining: 21.1s\n",
      "24:\tlearn: 0.1974631\ttest: 0.2124772\tbest: 0.2124772 (24)\ttotal: 539ms\tremaining: 21s\n",
      "25:\tlearn: 0.1959478\ttest: 0.2115116\tbest: 0.2115116 (25)\ttotal: 569ms\tremaining: 21.3s\n",
      "26:\tlearn: 0.1946579\ttest: 0.2109504\tbest: 0.2109504 (26)\ttotal: 589ms\tremaining: 21.2s\n",
      "27:\tlearn: 0.1927096\ttest: 0.2089295\tbest: 0.2089295 (27)\ttotal: 611ms\tremaining: 21.2s\n",
      "28:\tlearn: 0.1898089\ttest: 0.2068095\tbest: 0.2068095 (28)\ttotal: 631ms\tremaining: 21.1s\n",
      "29:\tlearn: 0.1879875\ttest: 0.2055400\tbest: 0.2055400 (29)\ttotal: 652ms\tremaining: 21.1s\n",
      "30:\tlearn: 0.1871462\ttest: 0.2048618\tbest: 0.2048618 (30)\ttotal: 672ms\tremaining: 21s\n",
      "31:\tlearn: 0.1855021\ttest: 0.2038254\tbest: 0.2038254 (31)\ttotal: 693ms\tremaining: 21s\n",
      "32:\tlearn: 0.1833214\ttest: 0.2023725\tbest: 0.2023725 (32)\ttotal: 714ms\tremaining: 20.9s\n",
      "33:\tlearn: 0.1811306\ttest: 0.2007721\tbest: 0.2007721 (33)\ttotal: 743ms\tremaining: 21.1s\n",
      "34:\tlearn: 0.1803219\ttest: 0.1998587\tbest: 0.1998587 (34)\ttotal: 777ms\tremaining: 21.4s\n",
      "35:\tlearn: 0.1793787\ttest: 0.1999226\tbest: 0.1998587 (34)\ttotal: 802ms\tremaining: 21.5s\n",
      "36:\tlearn: 0.1784633\ttest: 0.1992427\tbest: 0.1992427 (36)\ttotal: 823ms\tremaining: 21.4s\n",
      "37:\tlearn: 0.1772554\ttest: 0.1982230\tbest: 0.1982230 (37)\ttotal: 845ms\tremaining: 21.4s\n",
      "38:\tlearn: 0.1766051\ttest: 0.1978600\tbest: 0.1978600 (38)\ttotal: 864ms\tremaining: 21.3s\n",
      "39:\tlearn: 0.1745085\ttest: 0.1959145\tbest: 0.1959145 (39)\ttotal: 885ms\tremaining: 21.3s\n",
      "40:\tlearn: 0.1728438\ttest: 0.1947514\tbest: 0.1947514 (40)\ttotal: 905ms\tremaining: 21.2s\n",
      "41:\tlearn: 0.1719574\ttest: 0.1946438\tbest: 0.1946438 (41)\ttotal: 926ms\tremaining: 21.1s\n",
      "42:\tlearn: 0.1710605\ttest: 0.1943372\tbest: 0.1943372 (42)\ttotal: 948ms\tremaining: 21.1s\n",
      "43:\tlearn: 0.1704406\ttest: 0.1941000\tbest: 0.1941000 (43)\ttotal: 967ms\tremaining: 21s\n",
      "44:\tlearn: 0.1694133\ttest: 0.1934181\tbest: 0.1934181 (44)\ttotal: 990ms\tremaining: 21s\n",
      "45:\tlearn: 0.1688161\ttest: 0.1934672\tbest: 0.1934181 (44)\ttotal: 1.01s\tremaining: 21s\n",
      "46:\tlearn: 0.1679061\ttest: 0.1927078\tbest: 0.1927078 (46)\ttotal: 1.03s\tremaining: 20.9s\n",
      "47:\tlearn: 0.1673150\ttest: 0.1924667\tbest: 0.1924667 (47)\ttotal: 1.05s\tremaining: 20.9s\n",
      "48:\tlearn: 0.1661702\ttest: 0.1918147\tbest: 0.1918147 (48)\ttotal: 1.07s\tremaining: 20.8s\n",
      "49:\tlearn: 0.1650717\ttest: 0.1913661\tbest: 0.1913661 (49)\ttotal: 1.09s\tremaining: 20.8s\n",
      "50:\tlearn: 0.1643093\ttest: 0.1910061\tbest: 0.1910061 (50)\ttotal: 1.12s\tremaining: 20.8s\n",
      "51:\tlearn: 0.1635838\ttest: 0.1910342\tbest: 0.1910061 (50)\ttotal: 1.14s\tremaining: 20.8s\n",
      "52:\tlearn: 0.1625610\ttest: 0.1904127\tbest: 0.1904127 (52)\ttotal: 1.16s\tremaining: 20.8s\n",
      "53:\tlearn: 0.1613162\ttest: 0.1898093\tbest: 0.1898093 (53)\ttotal: 1.18s\tremaining: 20.7s\n",
      "54:\tlearn: 0.1606126\ttest: 0.1896437\tbest: 0.1896437 (54)\ttotal: 1.21s\tremaining: 20.7s\n",
      "55:\tlearn: 0.1595255\ttest: 0.1889345\tbest: 0.1889345 (55)\ttotal: 1.23s\tremaining: 20.7s\n",
      "56:\tlearn: 0.1589964\ttest: 0.1889881\tbest: 0.1889345 (55)\ttotal: 1.25s\tremaining: 20.6s\n",
      "57:\tlearn: 0.1584223\ttest: 0.1889086\tbest: 0.1889086 (57)\ttotal: 1.27s\tremaining: 20.6s\n",
      "58:\tlearn: 0.1577043\ttest: 0.1889971\tbest: 0.1889086 (57)\ttotal: 1.29s\tremaining: 20.6s\n",
      "59:\tlearn: 0.1571878\ttest: 0.1889366\tbest: 0.1889086 (57)\ttotal: 1.31s\tremaining: 20.5s\n",
      "60:\tlearn: 0.1567480\ttest: 0.1890730\tbest: 0.1889086 (57)\ttotal: 1.33s\tremaining: 20.5s\n",
      "61:\tlearn: 0.1559723\ttest: 0.1888886\tbest: 0.1888886 (61)\ttotal: 1.35s\tremaining: 20.5s\n",
      "62:\tlearn: 0.1554169\ttest: 0.1889996\tbest: 0.1888886 (61)\ttotal: 1.37s\tremaining: 20.4s\n",
      "63:\tlearn: 0.1543012\ttest: 0.1887859\tbest: 0.1887859 (63)\ttotal: 1.4s\tremaining: 20.5s\n",
      "64:\tlearn: 0.1538041\ttest: 0.1888257\tbest: 0.1887859 (63)\ttotal: 1.43s\tremaining: 20.6s\n",
      "65:\tlearn: 0.1532693\ttest: 0.1884806\tbest: 0.1884806 (65)\ttotal: 1.45s\tremaining: 20.6s\n",
      "66:\tlearn: 0.1525661\ttest: 0.1880525\tbest: 0.1880525 (66)\ttotal: 1.47s\tremaining: 20.5s\n",
      "67:\tlearn: 0.1517853\ttest: 0.1878991\tbest: 0.1878991 (67)\ttotal: 1.5s\tremaining: 20.5s\n",
      "68:\tlearn: 0.1512488\ttest: 0.1876490\tbest: 0.1876490 (68)\ttotal: 1.51s\tremaining: 20.5s\n",
      "69:\tlearn: 0.1506693\ttest: 0.1875652\tbest: 0.1875652 (69)\ttotal: 1.53s\tremaining: 20.4s\n",
      "70:\tlearn: 0.1500582\ttest: 0.1870826\tbest: 0.1870826 (70)\ttotal: 1.55s\tremaining: 20.4s\n",
      "71:\tlearn: 0.1498339\ttest: 0.1870888\tbest: 0.1870826 (70)\ttotal: 1.58s\tremaining: 20.3s\n",
      "72:\tlearn: 0.1487261\ttest: 0.1863331\tbest: 0.1863331 (72)\ttotal: 1.6s\tremaining: 20.3s\n",
      "73:\tlearn: 0.1479556\ttest: 0.1857419\tbest: 0.1857419 (73)\ttotal: 1.62s\tremaining: 20.3s\n",
      "74:\tlearn: 0.1474799\ttest: 0.1854402\tbest: 0.1854402 (74)\ttotal: 1.64s\tremaining: 20.3s\n",
      "75:\tlearn: 0.1471118\ttest: 0.1853649\tbest: 0.1853649 (75)\ttotal: 1.66s\tremaining: 20.2s\n",
      "76:\tlearn: 0.1463835\ttest: 0.1850568\tbest: 0.1850568 (76)\ttotal: 1.68s\tremaining: 20.2s\n",
      "77:\tlearn: 0.1458906\ttest: 0.1848730\tbest: 0.1848730 (77)\ttotal: 1.7s\tremaining: 20.1s\n",
      "78:\tlearn: 0.1452679\ttest: 0.1844565\tbest: 0.1844565 (78)\ttotal: 1.72s\tremaining: 20.1s\n",
      "79:\tlearn: 0.1450804\ttest: 0.1844744\tbest: 0.1844565 (78)\ttotal: 1.74s\tremaining: 20.1s\n",
      "80:\tlearn: 0.1446320\ttest: 0.1842877\tbest: 0.1842877 (80)\ttotal: 1.76s\tremaining: 20s\n",
      "81:\tlearn: 0.1443431\ttest: 0.1841745\tbest: 0.1841745 (81)\ttotal: 1.79s\tremaining: 20s\n",
      "82:\tlearn: 0.1438018\ttest: 0.1839724\tbest: 0.1839724 (82)\ttotal: 1.81s\tremaining: 20s\n",
      "83:\tlearn: 0.1433124\ttest: 0.1838824\tbest: 0.1838824 (83)\ttotal: 1.83s\tremaining: 20s\n",
      "84:\tlearn: 0.1426319\ttest: 0.1833500\tbest: 0.1833500 (84)\ttotal: 1.85s\tremaining: 19.9s\n",
      "85:\tlearn: 0.1423009\ttest: 0.1832994\tbest: 0.1832994 (85)\ttotal: 1.87s\tremaining: 19.9s\n",
      "86:\tlearn: 0.1420490\ttest: 0.1832387\tbest: 0.1832387 (86)\ttotal: 1.89s\tremaining: 19.9s\n",
      "87:\tlearn: 0.1418874\ttest: 0.1832313\tbest: 0.1832313 (87)\ttotal: 1.91s\tremaining: 19.8s\n",
      "88:\tlearn: 0.1414037\ttest: 0.1833148\tbest: 0.1832313 (87)\ttotal: 1.93s\tremaining: 19.8s\n",
      "89:\tlearn: 0.1410650\ttest: 0.1833292\tbest: 0.1832313 (87)\ttotal: 1.95s\tremaining: 19.8s\n",
      "90:\tlearn: 0.1408308\ttest: 0.1832492\tbest: 0.1832313 (87)\ttotal: 1.97s\tremaining: 19.7s\n",
      "91:\tlearn: 0.1407136\ttest: 0.1832770\tbest: 0.1832313 (87)\ttotal: 1.99s\tremaining: 19.7s\n",
      "92:\tlearn: 0.1403196\ttest: 0.1831261\tbest: 0.1831261 (92)\ttotal: 2.02s\tremaining: 19.7s\n",
      "93:\tlearn: 0.1396022\ttest: 0.1828997\tbest: 0.1828997 (93)\ttotal: 2.04s\tremaining: 19.6s\n",
      "94:\tlearn: 0.1392749\ttest: 0.1828985\tbest: 0.1828985 (94)\ttotal: 2.06s\tremaining: 19.6s\n",
      "95:\tlearn: 0.1386873\ttest: 0.1828500\tbest: 0.1828500 (95)\ttotal: 2.08s\tremaining: 19.6s\n",
      "96:\tlearn: 0.1380055\ttest: 0.1826280\tbest: 0.1826280 (96)\ttotal: 2.1s\tremaining: 19.6s\n",
      "97:\tlearn: 0.1376307\ttest: 0.1828537\tbest: 0.1826280 (96)\ttotal: 2.12s\tremaining: 19.5s\n",
      "98:\tlearn: 0.1371317\ttest: 0.1826061\tbest: 0.1826061 (98)\ttotal: 2.14s\tremaining: 19.5s\n",
      "99:\tlearn: 0.1365258\ttest: 0.1822838\tbest: 0.1822838 (99)\ttotal: 2.16s\tremaining: 19.4s\n",
      "100:\tlearn: 0.1358940\ttest: 0.1825183\tbest: 0.1822838 (99)\ttotal: 2.18s\tremaining: 19.4s\n",
      "101:\tlearn: 0.1352115\ttest: 0.1822718\tbest: 0.1822718 (101)\ttotal: 2.2s\tremaining: 19.4s\n",
      "102:\tlearn: 0.1348425\ttest: 0.1821044\tbest: 0.1821044 (102)\ttotal: 2.22s\tremaining: 19.4s\n",
      "103:\tlearn: 0.1344904\ttest: 0.1822228\tbest: 0.1821044 (102)\ttotal: 2.24s\tremaining: 19.3s\n",
      "104:\tlearn: 0.1339059\ttest: 0.1823904\tbest: 0.1821044 (102)\ttotal: 2.27s\tremaining: 19.3s\n",
      "105:\tlearn: 0.1335115\ttest: 0.1823399\tbest: 0.1821044 (102)\ttotal: 2.29s\tremaining: 19.3s\n",
      "106:\tlearn: 0.1328923\ttest: 0.1820203\tbest: 0.1820203 (106)\ttotal: 2.31s\tremaining: 19.3s\n",
      "107:\tlearn: 0.1323351\ttest: 0.1816012\tbest: 0.1816012 (107)\ttotal: 2.33s\tremaining: 19.2s\n",
      "108:\tlearn: 0.1319027\ttest: 0.1815871\tbest: 0.1815871 (108)\ttotal: 2.35s\tremaining: 19.2s\n",
      "109:\tlearn: 0.1315141\ttest: 0.1816593\tbest: 0.1815871 (108)\ttotal: 2.37s\tremaining: 19.2s\n",
      "110:\tlearn: 0.1309761\ttest: 0.1813963\tbest: 0.1813963 (110)\ttotal: 2.39s\tremaining: 19.1s\n",
      "111:\tlearn: 0.1307133\ttest: 0.1812416\tbest: 0.1812416 (111)\ttotal: 2.41s\tremaining: 19.1s\n",
      "112:\tlearn: 0.1303948\ttest: 0.1813278\tbest: 0.1812416 (111)\ttotal: 2.44s\tremaining: 19.2s\n",
      "113:\tlearn: 0.1300618\ttest: 0.1813667\tbest: 0.1812416 (111)\ttotal: 2.46s\tremaining: 19.1s\n",
      "114:\tlearn: 0.1295884\ttest: 0.1812887\tbest: 0.1812416 (111)\ttotal: 2.48s\tremaining: 19.1s\n",
      "115:\tlearn: 0.1288398\ttest: 0.1809379\tbest: 0.1809379 (115)\ttotal: 2.51s\tremaining: 19.1s\n",
      "116:\tlearn: 0.1285078\ttest: 0.1805993\tbest: 0.1805993 (116)\ttotal: 2.53s\tremaining: 19.1s\n",
      "117:\tlearn: 0.1279009\ttest: 0.1803220\tbest: 0.1803220 (117)\ttotal: 2.55s\tremaining: 19s\n",
      "118:\tlearn: 0.1274864\ttest: 0.1801207\tbest: 0.1801207 (118)\ttotal: 2.57s\tremaining: 19s\n",
      "119:\tlearn: 0.1273185\ttest: 0.1801223\tbest: 0.1801207 (118)\ttotal: 2.59s\tremaining: 19s\n",
      "120:\tlearn: 0.1268884\ttest: 0.1797834\tbest: 0.1797834 (120)\ttotal: 2.61s\tremaining: 19s\n",
      "121:\tlearn: 0.1265427\ttest: 0.1799622\tbest: 0.1797834 (120)\ttotal: 2.63s\tremaining: 18.9s\n",
      "122:\tlearn: 0.1260560\ttest: 0.1799085\tbest: 0.1797834 (120)\ttotal: 2.65s\tremaining: 18.9s\n",
      "123:\tlearn: 0.1256372\ttest: 0.1798705\tbest: 0.1797834 (120)\ttotal: 2.67s\tremaining: 18.9s\n",
      "124:\tlearn: 0.1253184\ttest: 0.1798346\tbest: 0.1797834 (120)\ttotal: 2.69s\tremaining: 18.9s\n",
      "125:\tlearn: 0.1250092\ttest: 0.1798208\tbest: 0.1797834 (120)\ttotal: 2.71s\tremaining: 18.8s\n",
      "126:\tlearn: 0.1245815\ttest: 0.1800815\tbest: 0.1797834 (120)\ttotal: 2.74s\tremaining: 18.8s\n",
      "127:\tlearn: 0.1240544\ttest: 0.1804733\tbest: 0.1797834 (120)\ttotal: 2.76s\tremaining: 18.8s\n",
      "128:\tlearn: 0.1235010\ttest: 0.1805620\tbest: 0.1797834 (120)\ttotal: 2.78s\tremaining: 18.8s\n",
      "129:\tlearn: 0.1231559\ttest: 0.1806729\tbest: 0.1797834 (120)\ttotal: 2.8s\tremaining: 18.8s\n",
      "130:\tlearn: 0.1226397\ttest: 0.1803919\tbest: 0.1797834 (120)\ttotal: 2.82s\tremaining: 18.7s\n",
      "131:\tlearn: 0.1224038\ttest: 0.1802695\tbest: 0.1797834 (120)\ttotal: 2.84s\tremaining: 18.7s\n",
      "132:\tlearn: 0.1221447\ttest: 0.1803073\tbest: 0.1797834 (120)\ttotal: 2.87s\tremaining: 18.7s\n",
      "133:\tlearn: 0.1215791\ttest: 0.1800247\tbest: 0.1797834 (120)\ttotal: 2.89s\tremaining: 18.7s\n",
      "134:\tlearn: 0.1214337\ttest: 0.1800260\tbest: 0.1797834 (120)\ttotal: 2.91s\tremaining: 18.7s\n",
      "135:\tlearn: 0.1210521\ttest: 0.1802642\tbest: 0.1797834 (120)\ttotal: 2.93s\tremaining: 18.6s\n",
      "136:\tlearn: 0.1205461\ttest: 0.1801712\tbest: 0.1797834 (120)\ttotal: 2.96s\tremaining: 18.6s\n",
      "137:\tlearn: 0.1203355\ttest: 0.1801971\tbest: 0.1797834 (120)\ttotal: 2.98s\tremaining: 18.6s\n",
      "138:\tlearn: 0.1198760\ttest: 0.1803227\tbest: 0.1797834 (120)\ttotal: 3s\tremaining: 18.6s\n",
      "139:\tlearn: 0.1196341\ttest: 0.1802794\tbest: 0.1797834 (120)\ttotal: 3.02s\tremaining: 18.5s\n",
      "140:\tlearn: 0.1195177\ttest: 0.1802675\tbest: 0.1797834 (120)\ttotal: 3.04s\tremaining: 18.5s\n",
      "141:\tlearn: 0.1191440\ttest: 0.1804088\tbest: 0.1797834 (120)\ttotal: 3.06s\tremaining: 18.5s\n",
      "142:\tlearn: 0.1188768\ttest: 0.1804865\tbest: 0.1797834 (120)\ttotal: 3.08s\tremaining: 18.5s\n",
      "143:\tlearn: 0.1186048\ttest: 0.1801032\tbest: 0.1797834 (120)\ttotal: 3.1s\tremaining: 18.4s\n",
      "144:\tlearn: 0.1180750\ttest: 0.1796722\tbest: 0.1796722 (144)\ttotal: 3.13s\tremaining: 18.4s\n",
      "145:\tlearn: 0.1176505\ttest: 0.1794585\tbest: 0.1794585 (145)\ttotal: 3.15s\tremaining: 18.4s\n",
      "146:\tlearn: 0.1174029\ttest: 0.1795304\tbest: 0.1794585 (145)\ttotal: 3.17s\tremaining: 18.4s\n",
      "147:\tlearn: 0.1168538\ttest: 0.1796879\tbest: 0.1794585 (145)\ttotal: 3.19s\tremaining: 18.4s\n",
      "148:\tlearn: 0.1166968\ttest: 0.1797351\tbest: 0.1794585 (145)\ttotal: 3.21s\tremaining: 18.3s\n",
      "149:\tlearn: 0.1166382\ttest: 0.1797351\tbest: 0.1794585 (145)\ttotal: 3.23s\tremaining: 18.3s\n",
      "150:\tlearn: 0.1162600\ttest: 0.1798598\tbest: 0.1794585 (145)\ttotal: 3.25s\tremaining: 18.3s\n",
      "151:\tlearn: 0.1160307\ttest: 0.1798549\tbest: 0.1794585 (145)\ttotal: 3.27s\tremaining: 18.2s\n",
      "152:\tlearn: 0.1157149\ttest: 0.1800319\tbest: 0.1794585 (145)\ttotal: 3.29s\tremaining: 18.2s\n",
      "153:\tlearn: 0.1155055\ttest: 0.1801286\tbest: 0.1794585 (145)\ttotal: 3.31s\tremaining: 18.2s\n",
      "154:\tlearn: 0.1151324\ttest: 0.1801274\tbest: 0.1794585 (145)\ttotal: 3.34s\tremaining: 18.2s\n",
      "155:\tlearn: 0.1144519\ttest: 0.1801349\tbest: 0.1794585 (145)\ttotal: 3.36s\tremaining: 18.2s\n",
      "156:\tlearn: 0.1140395\ttest: 0.1801270\tbest: 0.1794585 (145)\ttotal: 3.38s\tremaining: 18.2s\n",
      "157:\tlearn: 0.1137649\ttest: 0.1800268\tbest: 0.1794585 (145)\ttotal: 3.41s\tremaining: 18.2s\n",
      "158:\tlearn: 0.1135136\ttest: 0.1800417\tbest: 0.1794585 (145)\ttotal: 3.43s\tremaining: 18.1s\n",
      "159:\tlearn: 0.1131991\ttest: 0.1798724\tbest: 0.1794585 (145)\ttotal: 3.45s\tremaining: 18.1s\n",
      "160:\tlearn: 0.1126974\ttest: 0.1800490\tbest: 0.1794585 (145)\ttotal: 3.48s\tremaining: 18.1s\n",
      "161:\tlearn: 0.1124745\ttest: 0.1801485\tbest: 0.1794585 (145)\ttotal: 3.5s\tremaining: 18.1s\n",
      "162:\tlearn: 0.1123517\ttest: 0.1801044\tbest: 0.1794585 (145)\ttotal: 3.52s\tremaining: 18.1s\n",
      "163:\tlearn: 0.1120911\ttest: 0.1801949\tbest: 0.1794585 (145)\ttotal: 3.54s\tremaining: 18.1s\n",
      "164:\tlearn: 0.1116354\ttest: 0.1802440\tbest: 0.1794585 (145)\ttotal: 3.56s\tremaining: 18s\n",
      "165:\tlearn: 0.1113548\ttest: 0.1802506\tbest: 0.1794585 (145)\ttotal: 3.58s\tremaining: 18s\n",
      "166:\tlearn: 0.1112049\ttest: 0.1802933\tbest: 0.1794585 (145)\ttotal: 3.6s\tremaining: 18s\n",
      "167:\tlearn: 0.1106436\ttest: 0.1804523\tbest: 0.1794585 (145)\ttotal: 3.63s\tremaining: 18s\n",
      "168:\tlearn: 0.1103921\ttest: 0.1804551\tbest: 0.1794585 (145)\ttotal: 3.65s\tremaining: 17.9s\n",
      "169:\tlearn: 0.1101977\ttest: 0.1805453\tbest: 0.1794585 (145)\ttotal: 3.67s\tremaining: 17.9s\n",
      "170:\tlearn: 0.1098571\ttest: 0.1808472\tbest: 0.1794585 (145)\ttotal: 3.69s\tremaining: 17.9s\n",
      "171:\tlearn: 0.1096917\ttest: 0.1807943\tbest: 0.1794585 (145)\ttotal: 3.71s\tremaining: 17.9s\n",
      "172:\tlearn: 0.1093821\ttest: 0.1808266\tbest: 0.1794585 (145)\ttotal: 3.73s\tremaining: 17.8s\n",
      "173:\tlearn: 0.1089281\ttest: 0.1808388\tbest: 0.1794585 (145)\ttotal: 3.75s\tremaining: 17.8s\n",
      "174:\tlearn: 0.1084696\ttest: 0.1806476\tbest: 0.1794585 (145)\ttotal: 3.77s\tremaining: 17.8s\n",
      "175:\tlearn: 0.1083004\ttest: 0.1806141\tbest: 0.1794585 (145)\ttotal: 3.79s\tremaining: 17.8s\n",
      "176:\tlearn: 0.1076933\ttest: 0.1806627\tbest: 0.1794585 (145)\ttotal: 3.82s\tremaining: 17.7s\n",
      "177:\tlearn: 0.1073470\ttest: 0.1806254\tbest: 0.1794585 (145)\ttotal: 3.84s\tremaining: 17.7s\n",
      "178:\tlearn: 0.1069529\ttest: 0.1805306\tbest: 0.1794585 (145)\ttotal: 3.86s\tremaining: 17.7s\n",
      "179:\tlearn: 0.1068370\ttest: 0.1805120\tbest: 0.1794585 (145)\ttotal: 3.88s\tremaining: 17.7s\n",
      "180:\tlearn: 0.1064652\ttest: 0.1805316\tbest: 0.1794585 (145)\ttotal: 3.9s\tremaining: 17.6s\n",
      "181:\tlearn: 0.1060809\ttest: 0.1803595\tbest: 0.1794585 (145)\ttotal: 3.92s\tremaining: 17.6s\n",
      "182:\tlearn: 0.1057202\ttest: 0.1802713\tbest: 0.1794585 (145)\ttotal: 3.94s\tremaining: 17.6s\n",
      "183:\tlearn: 0.1053118\ttest: 0.1802262\tbest: 0.1794585 (145)\ttotal: 3.96s\tremaining: 17.6s\n",
      "184:\tlearn: 0.1049897\ttest: 0.1802493\tbest: 0.1794585 (145)\ttotal: 3.98s\tremaining: 17.5s\n",
      "185:\tlearn: 0.1048763\ttest: 0.1803135\tbest: 0.1794585 (145)\ttotal: 4s\tremaining: 17.5s\n",
      "186:\tlearn: 0.1044515\ttest: 0.1802314\tbest: 0.1794585 (145)\ttotal: 4.02s\tremaining: 17.5s\n",
      "187:\tlearn: 0.1041770\ttest: 0.1805218\tbest: 0.1794585 (145)\ttotal: 4.04s\tremaining: 17.5s\n",
      "188:\tlearn: 0.1037400\ttest: 0.1800418\tbest: 0.1794585 (145)\ttotal: 4.06s\tremaining: 17.4s\n",
      "189:\tlearn: 0.1032974\ttest: 0.1803087\tbest: 0.1794585 (145)\ttotal: 4.08s\tremaining: 17.4s\n",
      "190:\tlearn: 0.1030449\ttest: 0.1805853\tbest: 0.1794585 (145)\ttotal: 4.11s\tremaining: 17.4s\n",
      "191:\tlearn: 0.1027137\ttest: 0.1805959\tbest: 0.1794585 (145)\ttotal: 4.13s\tremaining: 17.4s\n",
      "192:\tlearn: 0.1022435\ttest: 0.1807228\tbest: 0.1794585 (145)\ttotal: 4.15s\tremaining: 17.3s\n",
      "193:\tlearn: 0.1020366\ttest: 0.1808171\tbest: 0.1794585 (145)\ttotal: 4.17s\tremaining: 17.3s\n",
      "194:\tlearn: 0.1019467\ttest: 0.1808189\tbest: 0.1794585 (145)\ttotal: 4.19s\tremaining: 17.3s\n",
      "195:\tlearn: 0.1016994\ttest: 0.1808126\tbest: 0.1794585 (145)\ttotal: 4.21s\tremaining: 17.3s\n",
      "Stopped by overfitting detector  (50 iterations wait)\n",
      "\n",
      "bestTest = 0.1794584766\n",
      "bestIteration = 145\n",
      "\n",
      "Shrink model to first 146 iterations.\n",
      "0:\tlearn: 0.5882723\ttest: 0.5881369\tbest: 0.5881369 (0)\ttotal: 21.1ms\tremaining: 21.1s\n",
      "1:\tlearn: 0.5062776\ttest: 0.5054515\tbest: 0.5054515 (1)\ttotal: 42.6ms\tremaining: 21.3s\n",
      "2:\tlearn: 0.4433874\ttest: 0.4414955\tbest: 0.4414955 (2)\ttotal: 63ms\tremaining: 20.9s\n",
      "3:\tlearn: 0.3933607\ttest: 0.3909094\tbest: 0.3909094 (3)\ttotal: 84.1ms\tremaining: 20.9s\n",
      "4:\tlearn: 0.3589251\ttest: 0.3578813\tbest: 0.3578813 (4)\ttotal: 111ms\tremaining: 22s\n",
      "5:\tlearn: 0.3360540\ttest: 0.3348785\tbest: 0.3348785 (5)\ttotal: 132ms\tremaining: 21.9s\n",
      "6:\tlearn: 0.3133463\ttest: 0.3116116\tbest: 0.3116116 (6)\ttotal: 159ms\tremaining: 22.5s\n",
      "7:\tlearn: 0.2958801\ttest: 0.2940851\tbest: 0.2940851 (7)\ttotal: 180ms\tremaining: 22.4s\n",
      "8:\tlearn: 0.2809098\ttest: 0.2783332\tbest: 0.2783332 (8)\ttotal: 200ms\tremaining: 22s\n",
      "9:\tlearn: 0.2700354\ttest: 0.2671117\tbest: 0.2671117 (9)\ttotal: 220ms\tremaining: 21.8s\n",
      "10:\tlearn: 0.2586889\ttest: 0.2556453\tbest: 0.2556453 (10)\ttotal: 240ms\tremaining: 21.6s\n",
      "11:\tlearn: 0.2512834\ttest: 0.2485277\tbest: 0.2485277 (11)\ttotal: 260ms\tremaining: 21.4s\n",
      "12:\tlearn: 0.2447218\ttest: 0.2420903\tbest: 0.2420903 (12)\ttotal: 282ms\tremaining: 21.4s\n",
      "13:\tlearn: 0.2403673\ttest: 0.2380574\tbest: 0.2380574 (13)\ttotal: 310ms\tremaining: 21.8s\n",
      "14:\tlearn: 0.2359231\ttest: 0.2335652\tbest: 0.2335652 (14)\ttotal: 337ms\tremaining: 22.1s\n",
      "15:\tlearn: 0.2315664\ttest: 0.2299470\tbest: 0.2299470 (15)\ttotal: 358ms\tremaining: 22s\n",
      "16:\tlearn: 0.2284061\ttest: 0.2266826\tbest: 0.2266826 (16)\ttotal: 379ms\tremaining: 21.9s\n",
      "17:\tlearn: 0.2242257\ttest: 0.2227710\tbest: 0.2227710 (17)\ttotal: 400ms\tremaining: 21.8s\n",
      "18:\tlearn: 0.2200298\ttest: 0.2181858\tbest: 0.2181858 (18)\ttotal: 421ms\tremaining: 21.7s\n",
      "19:\tlearn: 0.2180125\ttest: 0.2160647\tbest: 0.2160647 (19)\ttotal: 442ms\tremaining: 21.7s\n",
      "20:\tlearn: 0.2130138\ttest: 0.2109520\tbest: 0.2109520 (20)\ttotal: 464ms\tremaining: 21.6s\n",
      "21:\tlearn: 0.2110939\ttest: 0.2092631\tbest: 0.2092631 (21)\ttotal: 484ms\tremaining: 21.5s\n",
      "22:\tlearn: 0.2080537\ttest: 0.2067020\tbest: 0.2067020 (22)\ttotal: 504ms\tremaining: 21.4s\n",
      "23:\tlearn: 0.2046077\ttest: 0.2040624\tbest: 0.2040624 (23)\ttotal: 534ms\tremaining: 21.7s\n",
      "24:\tlearn: 0.2007735\ttest: 0.2006037\tbest: 0.2006037 (24)\ttotal: 556ms\tremaining: 21.7s\n",
      "25:\tlearn: 0.1993232\ttest: 0.1995252\tbest: 0.1995252 (25)\ttotal: 577ms\tremaining: 21.6s\n",
      "26:\tlearn: 0.1980371\ttest: 0.1988228\tbest: 0.1988228 (26)\ttotal: 597ms\tremaining: 21.5s\n",
      "27:\tlearn: 0.1966994\ttest: 0.1981085\tbest: 0.1981085 (27)\ttotal: 617ms\tremaining: 21.4s\n",
      "28:\tlearn: 0.1957506\ttest: 0.1974550\tbest: 0.1974550 (28)\ttotal: 637ms\tremaining: 21.3s\n",
      "29:\tlearn: 0.1948145\ttest: 0.1967964\tbest: 0.1967964 (29)\ttotal: 657ms\tremaining: 21.2s\n",
      "30:\tlearn: 0.1931369\ttest: 0.1953653\tbest: 0.1953653 (30)\ttotal: 677ms\tremaining: 21.2s\n",
      "31:\tlearn: 0.1921293\ttest: 0.1952363\tbest: 0.1952363 (31)\ttotal: 698ms\tremaining: 21.1s\n",
      "32:\tlearn: 0.1898667\ttest: 0.1932923\tbest: 0.1932923 (32)\ttotal: 718ms\tremaining: 21s\n",
      "33:\tlearn: 0.1886830\ttest: 0.1924932\tbest: 0.1924932 (33)\ttotal: 743ms\tremaining: 21.1s\n",
      "34:\tlearn: 0.1878868\ttest: 0.1920081\tbest: 0.1920081 (34)\ttotal: 764ms\tremaining: 21.1s\n",
      "35:\tlearn: 0.1860867\ttest: 0.1906294\tbest: 0.1906294 (35)\ttotal: 785ms\tremaining: 21s\n",
      "36:\tlearn: 0.1841372\ttest: 0.1892835\tbest: 0.1892835 (36)\ttotal: 804ms\tremaining: 20.9s\n",
      "37:\tlearn: 0.1827462\ttest: 0.1881267\tbest: 0.1881267 (37)\ttotal: 824ms\tremaining: 20.9s\n",
      "38:\tlearn: 0.1813006\ttest: 0.1871607\tbest: 0.1871607 (38)\ttotal: 845ms\tremaining: 20.8s\n",
      "39:\tlearn: 0.1801177\ttest: 0.1868518\tbest: 0.1868518 (39)\ttotal: 865ms\tremaining: 20.8s\n",
      "40:\tlearn: 0.1791104\ttest: 0.1857973\tbest: 0.1857973 (40)\ttotal: 891ms\tremaining: 20.8s\n",
      "41:\tlearn: 0.1777850\ttest: 0.1851265\tbest: 0.1851265 (41)\ttotal: 912ms\tremaining: 20.8s\n",
      "42:\tlearn: 0.1765128\ttest: 0.1842630\tbest: 0.1842630 (42)\ttotal: 934ms\tremaining: 20.8s\n",
      "43:\tlearn: 0.1752658\ttest: 0.1833775\tbest: 0.1833775 (43)\ttotal: 959ms\tremaining: 20.8s\n",
      "44:\tlearn: 0.1744269\ttest: 0.1825319\tbest: 0.1825319 (44)\ttotal: 980ms\tremaining: 20.8s\n",
      "45:\tlearn: 0.1730107\ttest: 0.1820896\tbest: 0.1820896 (45)\ttotal: 999ms\tremaining: 20.7s\n",
      "46:\tlearn: 0.1718708\ttest: 0.1812130\tbest: 0.1812130 (46)\ttotal: 1.02s\tremaining: 20.7s\n",
      "47:\tlearn: 0.1711131\ttest: 0.1809424\tbest: 0.1809424 (47)\ttotal: 1.04s\tremaining: 20.6s\n",
      "48:\tlearn: 0.1708430\ttest: 0.1808467\tbest: 0.1808467 (48)\ttotal: 1.06s\tremaining: 20.6s\n",
      "49:\tlearn: 0.1697353\ttest: 0.1799483\tbest: 0.1799483 (49)\ttotal: 1.08s\tremaining: 20.5s\n",
      "50:\tlearn: 0.1689577\ttest: 0.1796489\tbest: 0.1796489 (50)\ttotal: 1.1s\tremaining: 20.5s\n",
      "51:\tlearn: 0.1683078\ttest: 0.1794814\tbest: 0.1794814 (51)\ttotal: 1.12s\tremaining: 20.4s\n",
      "52:\tlearn: 0.1676779\ttest: 0.1789158\tbest: 0.1789158 (52)\ttotal: 1.14s\tremaining: 20.4s\n",
      "53:\tlearn: 0.1668004\ttest: 0.1785609\tbest: 0.1785609 (53)\ttotal: 1.17s\tremaining: 20.5s\n",
      "54:\tlearn: 0.1659878\ttest: 0.1778803\tbest: 0.1778803 (54)\ttotal: 1.19s\tremaining: 20.5s\n",
      "55:\tlearn: 0.1653640\ttest: 0.1774296\tbest: 0.1774296 (55)\ttotal: 1.21s\tremaining: 20.5s\n",
      "56:\tlearn: 0.1642654\ttest: 0.1763313\tbest: 0.1763313 (56)\ttotal: 1.23s\tremaining: 20.4s\n",
      "57:\tlearn: 0.1636690\ttest: 0.1759666\tbest: 0.1759666 (57)\ttotal: 1.26s\tremaining: 20.5s\n",
      "58:\tlearn: 0.1631620\ttest: 0.1760391\tbest: 0.1759666 (57)\ttotal: 1.28s\tremaining: 20.5s\n",
      "59:\tlearn: 0.1626714\ttest: 0.1758360\tbest: 0.1758360 (59)\ttotal: 1.3s\tremaining: 20.4s\n",
      "60:\tlearn: 0.1617184\ttest: 0.1754649\tbest: 0.1754649 (60)\ttotal: 1.32s\tremaining: 20.4s\n",
      "61:\tlearn: 0.1612008\ttest: 0.1751177\tbest: 0.1751177 (61)\ttotal: 1.34s\tremaining: 20.3s\n",
      "62:\tlearn: 0.1602445\ttest: 0.1743894\tbest: 0.1743894 (62)\ttotal: 1.36s\tremaining: 20.3s\n",
      "63:\tlearn: 0.1601028\ttest: 0.1743116\tbest: 0.1743116 (63)\ttotal: 1.39s\tremaining: 20.3s\n",
      "64:\tlearn: 0.1597331\ttest: 0.1741201\tbest: 0.1741201 (64)\ttotal: 1.41s\tremaining: 20.3s\n",
      "65:\tlearn: 0.1591272\ttest: 0.1733366\tbest: 0.1733366 (65)\ttotal: 1.43s\tremaining: 20.3s\n",
      "66:\tlearn: 0.1586956\ttest: 0.1732104\tbest: 0.1732104 (66)\ttotal: 1.45s\tremaining: 20.2s\n",
      "67:\tlearn: 0.1580421\ttest: 0.1728506\tbest: 0.1728506 (67)\ttotal: 1.47s\tremaining: 20.2s\n",
      "68:\tlearn: 0.1574601\ttest: 0.1726559\tbest: 0.1726559 (68)\ttotal: 1.49s\tremaining: 20.1s\n",
      "69:\tlearn: 0.1568861\ttest: 0.1724584\tbest: 0.1724584 (69)\ttotal: 1.51s\tremaining: 20.1s\n",
      "70:\tlearn: 0.1562778\ttest: 0.1721542\tbest: 0.1721542 (70)\ttotal: 1.53s\tremaining: 20.1s\n",
      "71:\tlearn: 0.1559392\ttest: 0.1722691\tbest: 0.1721542 (70)\ttotal: 1.55s\tremaining: 20s\n",
      "72:\tlearn: 0.1555925\ttest: 0.1721577\tbest: 0.1721542 (70)\ttotal: 1.57s\tremaining: 20s\n",
      "73:\tlearn: 0.1549342\ttest: 0.1722180\tbest: 0.1721542 (70)\ttotal: 1.6s\tremaining: 20s\n",
      "74:\tlearn: 0.1542104\ttest: 0.1720980\tbest: 0.1720980 (74)\ttotal: 1.62s\tremaining: 19.9s\n",
      "75:\tlearn: 0.1534899\ttest: 0.1718139\tbest: 0.1718139 (75)\ttotal: 1.64s\tremaining: 19.9s\n",
      "76:\tlearn: 0.1531117\ttest: 0.1718667\tbest: 0.1718139 (75)\ttotal: 1.66s\tremaining: 19.9s\n",
      "77:\tlearn: 0.1525052\ttest: 0.1713899\tbest: 0.1713899 (77)\ttotal: 1.68s\tremaining: 19.9s\n",
      "78:\tlearn: 0.1522056\ttest: 0.1713781\tbest: 0.1713781 (78)\ttotal: 1.7s\tremaining: 19.8s\n",
      "79:\tlearn: 0.1517486\ttest: 0.1713174\tbest: 0.1713174 (79)\ttotal: 1.72s\tremaining: 19.8s\n",
      "80:\tlearn: 0.1512152\ttest: 0.1712936\tbest: 0.1712936 (80)\ttotal: 1.74s\tremaining: 19.8s\n",
      "81:\tlearn: 0.1508397\ttest: 0.1710787\tbest: 0.1710787 (81)\ttotal: 1.76s\tremaining: 19.7s\n",
      "82:\tlearn: 0.1499878\ttest: 0.1705248\tbest: 0.1705248 (82)\ttotal: 1.78s\tremaining: 19.7s\n",
      "83:\tlearn: 0.1495093\ttest: 0.1703280\tbest: 0.1703280 (83)\ttotal: 1.81s\tremaining: 19.7s\n",
      "84:\tlearn: 0.1490194\ttest: 0.1702789\tbest: 0.1702789 (84)\ttotal: 1.83s\tremaining: 19.7s\n",
      "85:\tlearn: 0.1479478\ttest: 0.1700208\tbest: 0.1700208 (85)\ttotal: 1.85s\tremaining: 19.7s\n",
      "86:\tlearn: 0.1477519\ttest: 0.1699860\tbest: 0.1699860 (86)\ttotal: 1.87s\tremaining: 19.6s\n",
      "87:\tlearn: 0.1474887\ttest: 0.1699062\tbest: 0.1699062 (87)\ttotal: 1.89s\tremaining: 19.6s\n",
      "88:\tlearn: 0.1471461\ttest: 0.1700002\tbest: 0.1699062 (87)\ttotal: 1.91s\tremaining: 19.5s\n",
      "89:\tlearn: 0.1465217\ttest: 0.1697920\tbest: 0.1697920 (89)\ttotal: 1.93s\tremaining: 19.5s\n",
      "90:\tlearn: 0.1461353\ttest: 0.1697755\tbest: 0.1697755 (90)\ttotal: 1.95s\tremaining: 19.5s\n",
      "91:\tlearn: 0.1458836\ttest: 0.1696837\tbest: 0.1696837 (91)\ttotal: 1.97s\tremaining: 19.4s\n",
      "92:\tlearn: 0.1452449\ttest: 0.1695307\tbest: 0.1695307 (92)\ttotal: 1.99s\tremaining: 19.4s\n",
      "93:\tlearn: 0.1447651\ttest: 0.1694365\tbest: 0.1694365 (93)\ttotal: 2.02s\tremaining: 19.4s\n",
      "94:\tlearn: 0.1441197\ttest: 0.1690722\tbest: 0.1690722 (94)\ttotal: 2.04s\tremaining: 19.4s\n",
      "95:\tlearn: 0.1435379\ttest: 0.1687723\tbest: 0.1687723 (95)\ttotal: 2.06s\tremaining: 19.4s\n",
      "96:\tlearn: 0.1433295\ttest: 0.1688810\tbest: 0.1687723 (95)\ttotal: 2.08s\tremaining: 19.3s\n",
      "97:\tlearn: 0.1429219\ttest: 0.1689994\tbest: 0.1687723 (95)\ttotal: 2.1s\tremaining: 19.3s\n",
      "98:\tlearn: 0.1423992\ttest: 0.1686835\tbest: 0.1686835 (98)\ttotal: 2.12s\tremaining: 19.3s\n",
      "99:\tlearn: 0.1422835\ttest: 0.1687336\tbest: 0.1686835 (98)\ttotal: 2.14s\tremaining: 19.3s\n",
      "100:\tlearn: 0.1416359\ttest: 0.1684091\tbest: 0.1684091 (100)\ttotal: 2.17s\tremaining: 19.3s\n",
      "101:\tlearn: 0.1412618\ttest: 0.1684281\tbest: 0.1684091 (100)\ttotal: 2.19s\tremaining: 19.3s\n",
      "102:\tlearn: 0.1408534\ttest: 0.1684926\tbest: 0.1684091 (100)\ttotal: 2.21s\tremaining: 19.2s\n",
      "103:\tlearn: 0.1405427\ttest: 0.1681600\tbest: 0.1681600 (103)\ttotal: 2.23s\tremaining: 19.2s\n",
      "104:\tlearn: 0.1402878\ttest: 0.1681155\tbest: 0.1681155 (104)\ttotal: 2.25s\tremaining: 19.2s\n",
      "105:\tlearn: 0.1400127\ttest: 0.1679064\tbest: 0.1679064 (105)\ttotal: 2.27s\tremaining: 19.2s\n",
      "106:\tlearn: 0.1395844\ttest: 0.1677633\tbest: 0.1677633 (106)\ttotal: 2.29s\tremaining: 19.2s\n",
      "107:\tlearn: 0.1392573\ttest: 0.1677747\tbest: 0.1677633 (106)\ttotal: 2.31s\tremaining: 19.1s\n",
      "108:\tlearn: 0.1387060\ttest: 0.1677288\tbest: 0.1677288 (108)\ttotal: 2.33s\tremaining: 19.1s\n",
      "109:\tlearn: 0.1385615\ttest: 0.1676581\tbest: 0.1676581 (109)\ttotal: 2.35s\tremaining: 19.1s\n",
      "110:\tlearn: 0.1378578\ttest: 0.1676783\tbest: 0.1676581 (109)\ttotal: 2.38s\tremaining: 19s\n",
      "111:\tlearn: 0.1367654\ttest: 0.1667391\tbest: 0.1667391 (111)\ttotal: 2.4s\tremaining: 19s\n",
      "112:\tlearn: 0.1361975\ttest: 0.1663347\tbest: 0.1663347 (112)\ttotal: 2.42s\tremaining: 19s\n",
      "113:\tlearn: 0.1358771\ttest: 0.1666570\tbest: 0.1663347 (112)\ttotal: 2.44s\tremaining: 19s\n",
      "114:\tlearn: 0.1353739\ttest: 0.1668867\tbest: 0.1663347 (112)\ttotal: 2.46s\tremaining: 18.9s\n",
      "115:\tlearn: 0.1349631\ttest: 0.1665323\tbest: 0.1663347 (112)\ttotal: 2.49s\tremaining: 19s\n",
      "116:\tlearn: 0.1345858\ttest: 0.1666631\tbest: 0.1663347 (112)\ttotal: 2.51s\tremaining: 18.9s\n",
      "117:\tlearn: 0.1344869\ttest: 0.1666289\tbest: 0.1663347 (112)\ttotal: 2.53s\tremaining: 18.9s\n",
      "118:\tlearn: 0.1338329\ttest: 0.1660125\tbest: 0.1660125 (118)\ttotal: 2.55s\tremaining: 18.9s\n",
      "119:\tlearn: 0.1333259\ttest: 0.1658980\tbest: 0.1658980 (119)\ttotal: 2.57s\tremaining: 18.9s\n",
      "120:\tlearn: 0.1332756\ttest: 0.1658394\tbest: 0.1658394 (120)\ttotal: 2.59s\tremaining: 18.8s\n",
      "121:\tlearn: 0.1331821\ttest: 0.1659557\tbest: 0.1658394 (120)\ttotal: 2.61s\tremaining: 18.8s\n",
      "122:\tlearn: 0.1329622\ttest: 0.1659948\tbest: 0.1658394 (120)\ttotal: 2.63s\tremaining: 18.8s\n",
      "123:\tlearn: 0.1325932\ttest: 0.1659105\tbest: 0.1658394 (120)\ttotal: 2.65s\tremaining: 18.8s\n",
      "124:\tlearn: 0.1321689\ttest: 0.1661646\tbest: 0.1658394 (120)\ttotal: 2.68s\tremaining: 18.7s\n",
      "125:\tlearn: 0.1318055\ttest: 0.1661580\tbest: 0.1658394 (120)\ttotal: 2.7s\tremaining: 18.7s\n",
      "126:\tlearn: 0.1315442\ttest: 0.1661193\tbest: 0.1658394 (120)\ttotal: 2.72s\tremaining: 18.7s\n",
      "127:\tlearn: 0.1312334\ttest: 0.1659075\tbest: 0.1658394 (120)\ttotal: 2.74s\tremaining: 18.6s\n",
      "128:\tlearn: 0.1308583\ttest: 0.1656200\tbest: 0.1656200 (128)\ttotal: 2.76s\tremaining: 18.6s\n",
      "129:\tlearn: 0.1308141\ttest: 0.1655746\tbest: 0.1655746 (129)\ttotal: 2.77s\tremaining: 18.6s\n",
      "130:\tlearn: 0.1302529\ttest: 0.1657443\tbest: 0.1655746 (129)\ttotal: 2.8s\tremaining: 18.5s\n",
      "131:\tlearn: 0.1301784\ttest: 0.1657475\tbest: 0.1655746 (129)\ttotal: 2.81s\tremaining: 18.5s\n",
      "132:\tlearn: 0.1296754\ttest: 0.1657783\tbest: 0.1655746 (129)\ttotal: 2.84s\tremaining: 18.5s\n",
      "133:\tlearn: 0.1294807\ttest: 0.1658076\tbest: 0.1655746 (129)\ttotal: 2.86s\tremaining: 18.5s\n",
      "134:\tlearn: 0.1289916\ttest: 0.1655332\tbest: 0.1655332 (134)\ttotal: 2.88s\tremaining: 18.5s\n",
      "135:\tlearn: 0.1286702\ttest: 0.1655821\tbest: 0.1655332 (134)\ttotal: 2.91s\tremaining: 18.5s\n",
      "136:\tlearn: 0.1283503\ttest: 0.1655461\tbest: 0.1655332 (134)\ttotal: 2.93s\tremaining: 18.4s\n",
      "137:\tlearn: 0.1279633\ttest: 0.1658184\tbest: 0.1655332 (134)\ttotal: 2.95s\tremaining: 18.4s\n",
      "138:\tlearn: 0.1277715\ttest: 0.1658915\tbest: 0.1655332 (134)\ttotal: 2.97s\tremaining: 18.4s\n",
      "139:\tlearn: 0.1274402\ttest: 0.1655995\tbest: 0.1655332 (134)\ttotal: 2.99s\tremaining: 18.4s\n",
      "140:\tlearn: 0.1270118\ttest: 0.1655174\tbest: 0.1655174 (140)\ttotal: 3.01s\tremaining: 18.3s\n",
      "141:\tlearn: 0.1265455\ttest: 0.1653054\tbest: 0.1653054 (141)\ttotal: 3.03s\tremaining: 18.3s\n",
      "142:\tlearn: 0.1261858\ttest: 0.1650416\tbest: 0.1650416 (142)\ttotal: 3.05s\tremaining: 18.3s\n",
      "143:\tlearn: 0.1258819\ttest: 0.1648777\tbest: 0.1648777 (143)\ttotal: 3.07s\tremaining: 18.3s\n",
      "144:\tlearn: 0.1256187\ttest: 0.1648739\tbest: 0.1648739 (144)\ttotal: 3.09s\tremaining: 18.2s\n",
      "145:\tlearn: 0.1249687\ttest: 0.1650633\tbest: 0.1648739 (144)\ttotal: 3.12s\tremaining: 18.2s\n",
      "146:\tlearn: 0.1246238\ttest: 0.1652627\tbest: 0.1648739 (144)\ttotal: 3.13s\tremaining: 18.2s\n",
      "147:\tlearn: 0.1241607\ttest: 0.1651717\tbest: 0.1648739 (144)\ttotal: 3.16s\tremaining: 18.2s\n",
      "148:\tlearn: 0.1238944\ttest: 0.1652622\tbest: 0.1648739 (144)\ttotal: 3.18s\tremaining: 18.2s\n",
      "149:\tlearn: 0.1235546\ttest: 0.1651535\tbest: 0.1648739 (144)\ttotal: 3.2s\tremaining: 18.2s\n",
      "150:\tlearn: 0.1232694\ttest: 0.1650553\tbest: 0.1648739 (144)\ttotal: 3.23s\tremaining: 18.1s\n",
      "151:\tlearn: 0.1229885\ttest: 0.1648092\tbest: 0.1648092 (151)\ttotal: 3.24s\tremaining: 18.1s\n",
      "152:\tlearn: 0.1228682\ttest: 0.1648104\tbest: 0.1648092 (151)\ttotal: 3.26s\tremaining: 18.1s\n",
      "153:\tlearn: 0.1228315\ttest: 0.1648106\tbest: 0.1648092 (151)\ttotal: 3.29s\tremaining: 18s\n",
      "154:\tlearn: 0.1226167\ttest: 0.1648514\tbest: 0.1648092 (151)\ttotal: 3.31s\tremaining: 18s\n",
      "155:\tlearn: 0.1225269\ttest: 0.1648197\tbest: 0.1648092 (151)\ttotal: 3.33s\tremaining: 18s\n",
      "156:\tlearn: 0.1222254\ttest: 0.1648928\tbest: 0.1648092 (151)\ttotal: 3.34s\tremaining: 18s\n",
      "157:\tlearn: 0.1220840\ttest: 0.1649043\tbest: 0.1648092 (151)\ttotal: 3.36s\tremaining: 17.9s\n",
      "158:\tlearn: 0.1215423\ttest: 0.1646457\tbest: 0.1646457 (158)\ttotal: 3.38s\tremaining: 17.9s\n",
      "159:\tlearn: 0.1209473\ttest: 0.1646117\tbest: 0.1646117 (159)\ttotal: 3.4s\tremaining: 17.9s\n",
      "160:\tlearn: 0.1205202\ttest: 0.1645623\tbest: 0.1645623 (160)\ttotal: 3.42s\tremaining: 17.8s\n",
      "161:\tlearn: 0.1203916\ttest: 0.1645720\tbest: 0.1645623 (160)\ttotal: 3.44s\tremaining: 17.8s\n",
      "162:\tlearn: 0.1201818\ttest: 0.1646304\tbest: 0.1645623 (160)\ttotal: 3.46s\tremaining: 17.8s\n",
      "163:\tlearn: 0.1200481\ttest: 0.1646264\tbest: 0.1645623 (160)\ttotal: 3.48s\tremaining: 17.8s\n",
      "164:\tlearn: 0.1198606\ttest: 0.1647693\tbest: 0.1645623 (160)\ttotal: 3.5s\tremaining: 17.7s\n",
      "165:\tlearn: 0.1195621\ttest: 0.1646075\tbest: 0.1645623 (160)\ttotal: 3.52s\tremaining: 17.7s\n",
      "166:\tlearn: 0.1191795\ttest: 0.1648842\tbest: 0.1645623 (160)\ttotal: 3.54s\tremaining: 17.7s\n",
      "167:\tlearn: 0.1189056\ttest: 0.1647114\tbest: 0.1645623 (160)\ttotal: 3.56s\tremaining: 17.7s\n",
      "168:\tlearn: 0.1183339\ttest: 0.1649553\tbest: 0.1645623 (160)\ttotal: 3.59s\tremaining: 17.6s\n",
      "169:\tlearn: 0.1179828\ttest: 0.1647643\tbest: 0.1645623 (160)\ttotal: 3.61s\tremaining: 17.6s\n",
      "170:\tlearn: 0.1177224\ttest: 0.1649183\tbest: 0.1645623 (160)\ttotal: 3.63s\tremaining: 17.6s\n",
      "171:\tlearn: 0.1172450\ttest: 0.1648184\tbest: 0.1645623 (160)\ttotal: 3.65s\tremaining: 17.6s\n",
      "172:\tlearn: 0.1166295\ttest: 0.1645524\tbest: 0.1645524 (172)\ttotal: 3.67s\tremaining: 17.6s\n",
      "173:\tlearn: 0.1160921\ttest: 0.1644004\tbest: 0.1644004 (173)\ttotal: 3.69s\tremaining: 17.5s\n",
      "174:\tlearn: 0.1158226\ttest: 0.1644486\tbest: 0.1644004 (173)\ttotal: 3.72s\tremaining: 17.5s\n",
      "175:\tlearn: 0.1152883\ttest: 0.1645135\tbest: 0.1644004 (173)\ttotal: 3.74s\tremaining: 17.5s\n",
      "176:\tlearn: 0.1150391\ttest: 0.1645191\tbest: 0.1644004 (173)\ttotal: 3.76s\tremaining: 17.5s\n",
      "177:\tlearn: 0.1149518\ttest: 0.1645635\tbest: 0.1644004 (173)\ttotal: 3.78s\tremaining: 17.5s\n",
      "178:\tlearn: 0.1147605\ttest: 0.1644356\tbest: 0.1644004 (173)\ttotal: 3.8s\tremaining: 17.4s\n",
      "179:\tlearn: 0.1143462\ttest: 0.1644303\tbest: 0.1644004 (173)\ttotal: 3.82s\tremaining: 17.4s\n",
      "180:\tlearn: 0.1137414\ttest: 0.1639459\tbest: 0.1639459 (180)\ttotal: 3.84s\tremaining: 17.4s\n",
      "181:\tlearn: 0.1135272\ttest: 0.1640722\tbest: 0.1639459 (180)\ttotal: 3.86s\tremaining: 17.4s\n",
      "182:\tlearn: 0.1133479\ttest: 0.1642345\tbest: 0.1639459 (180)\ttotal: 3.88s\tremaining: 17.3s\n",
      "183:\tlearn: 0.1131512\ttest: 0.1641430\tbest: 0.1639459 (180)\ttotal: 3.9s\tremaining: 17.3s\n",
      "184:\tlearn: 0.1127416\ttest: 0.1643136\tbest: 0.1639459 (180)\ttotal: 3.93s\tremaining: 17.3s\n",
      "185:\tlearn: 0.1125504\ttest: 0.1642609\tbest: 0.1639459 (180)\ttotal: 3.95s\tremaining: 17.3s\n",
      "186:\tlearn: 0.1122256\ttest: 0.1642968\tbest: 0.1639459 (180)\ttotal: 3.97s\tremaining: 17.3s\n",
      "187:\tlearn: 0.1118176\ttest: 0.1644839\tbest: 0.1639459 (180)\ttotal: 3.99s\tremaining: 17.2s\n",
      "188:\tlearn: 0.1115845\ttest: 0.1644673\tbest: 0.1639459 (180)\ttotal: 4.01s\tremaining: 17.2s\n",
      "189:\tlearn: 0.1113911\ttest: 0.1646720\tbest: 0.1639459 (180)\ttotal: 4.03s\tremaining: 17.2s\n",
      "190:\tlearn: 0.1112077\ttest: 0.1646107\tbest: 0.1639459 (180)\ttotal: 4.05s\tremaining: 17.2s\n",
      "191:\tlearn: 0.1107547\ttest: 0.1647110\tbest: 0.1639459 (180)\ttotal: 4.07s\tremaining: 17.1s\n",
      "192:\tlearn: 0.1104889\ttest: 0.1646629\tbest: 0.1639459 (180)\ttotal: 4.09s\tremaining: 17.1s\n",
      "193:\tlearn: 0.1101563\ttest: 0.1646418\tbest: 0.1639459 (180)\ttotal: 4.12s\tremaining: 17.1s\n",
      "194:\tlearn: 0.1100227\ttest: 0.1647358\tbest: 0.1639459 (180)\ttotal: 4.14s\tremaining: 17.1s\n",
      "195:\tlearn: 0.1097123\ttest: 0.1645144\tbest: 0.1639459 (180)\ttotal: 4.16s\tremaining: 17.1s\n",
      "196:\tlearn: 0.1094249\ttest: 0.1648743\tbest: 0.1639459 (180)\ttotal: 4.19s\tremaining: 17.1s\n",
      "197:\tlearn: 0.1091820\ttest: 0.1650350\tbest: 0.1639459 (180)\ttotal: 4.21s\tremaining: 17.1s\n",
      "198:\tlearn: 0.1090331\ttest: 0.1649326\tbest: 0.1639459 (180)\ttotal: 4.23s\tremaining: 17s\n",
      "199:\tlearn: 0.1088210\ttest: 0.1648194\tbest: 0.1639459 (180)\ttotal: 4.26s\tremaining: 17s\n",
      "200:\tlearn: 0.1086929\ttest: 0.1647354\tbest: 0.1639459 (180)\ttotal: 4.28s\tremaining: 17s\n",
      "201:\tlearn: 0.1085277\ttest: 0.1645514\tbest: 0.1639459 (180)\ttotal: 4.3s\tremaining: 17s\n",
      "202:\tlearn: 0.1084826\ttest: 0.1645049\tbest: 0.1639459 (180)\ttotal: 4.32s\tremaining: 17s\n",
      "203:\tlearn: 0.1082792\ttest: 0.1643440\tbest: 0.1639459 (180)\ttotal: 4.34s\tremaining: 16.9s\n",
      "204:\tlearn: 0.1079067\ttest: 0.1640953\tbest: 0.1639459 (180)\ttotal: 4.36s\tremaining: 16.9s\n",
      "205:\tlearn: 0.1075592\ttest: 0.1639714\tbest: 0.1639459 (180)\ttotal: 4.38s\tremaining: 16.9s\n",
      "206:\tlearn: 0.1072932\ttest: 0.1639046\tbest: 0.1639046 (206)\ttotal: 4.41s\tremaining: 16.9s\n",
      "207:\tlearn: 0.1070313\ttest: 0.1639431\tbest: 0.1639046 (206)\ttotal: 4.43s\tremaining: 16.9s\n",
      "208:\tlearn: 0.1067397\ttest: 0.1638857\tbest: 0.1638857 (208)\ttotal: 4.45s\tremaining: 16.8s\n",
      "209:\tlearn: 0.1064813\ttest: 0.1638581\tbest: 0.1638581 (209)\ttotal: 4.47s\tremaining: 16.8s\n",
      "210:\tlearn: 0.1061216\ttest: 0.1639889\tbest: 0.1638581 (209)\ttotal: 4.49s\tremaining: 16.8s\n",
      "211:\tlearn: 0.1058225\ttest: 0.1638764\tbest: 0.1638581 (209)\ttotal: 4.51s\tremaining: 16.8s\n",
      "212:\tlearn: 0.1055324\ttest: 0.1639946\tbest: 0.1638581 (209)\ttotal: 4.53s\tremaining: 16.7s\n",
      "213:\tlearn: 0.1053713\ttest: 0.1638915\tbest: 0.1638581 (209)\ttotal: 4.55s\tremaining: 16.7s\n",
      "214:\tlearn: 0.1048946\ttest: 0.1637424\tbest: 0.1637424 (214)\ttotal: 4.57s\tremaining: 16.7s\n",
      "215:\tlearn: 0.1046552\ttest: 0.1636493\tbest: 0.1636493 (215)\ttotal: 4.6s\tremaining: 16.7s\n",
      "216:\tlearn: 0.1044054\ttest: 0.1637357\tbest: 0.1636493 (215)\ttotal: 4.62s\tremaining: 16.7s\n",
      "217:\tlearn: 0.1040953\ttest: 0.1637756\tbest: 0.1636493 (215)\ttotal: 4.64s\tremaining: 16.6s\n",
      "218:\tlearn: 0.1037880\ttest: 0.1636290\tbest: 0.1636290 (218)\ttotal: 4.66s\tremaining: 16.6s\n",
      "219:\tlearn: 0.1034414\ttest: 0.1636866\tbest: 0.1636290 (218)\ttotal: 4.68s\tremaining: 16.6s\n",
      "220:\tlearn: 0.1031707\ttest: 0.1637278\tbest: 0.1636290 (218)\ttotal: 4.7s\tremaining: 16.6s\n",
      "221:\tlearn: 0.1031578\ttest: 0.1637234\tbest: 0.1636290 (218)\ttotal: 4.72s\tremaining: 16.6s\n",
      "222:\tlearn: 0.1028937\ttest: 0.1636424\tbest: 0.1636290 (218)\ttotal: 4.75s\tremaining: 16.5s\n",
      "223:\tlearn: 0.1028400\ttest: 0.1636739\tbest: 0.1636290 (218)\ttotal: 4.76s\tremaining: 16.5s\n",
      "224:\tlearn: 0.1025768\ttest: 0.1637440\tbest: 0.1636290 (218)\ttotal: 4.79s\tremaining: 16.5s\n",
      "225:\tlearn: 0.1022292\ttest: 0.1637475\tbest: 0.1636290 (218)\ttotal: 4.81s\tremaining: 16.5s\n",
      "226:\tlearn: 0.1019779\ttest: 0.1639679\tbest: 0.1636290 (218)\ttotal: 4.83s\tremaining: 16.4s\n",
      "227:\tlearn: 0.1017285\ttest: 0.1640367\tbest: 0.1636290 (218)\ttotal: 4.85s\tremaining: 16.4s\n",
      "228:\tlearn: 0.1014505\ttest: 0.1640596\tbest: 0.1636290 (218)\ttotal: 4.87s\tremaining: 16.4s\n",
      "229:\tlearn: 0.1009513\ttest: 0.1640737\tbest: 0.1636290 (218)\ttotal: 4.89s\tremaining: 16.4s\n",
      "230:\tlearn: 0.1007104\ttest: 0.1642121\tbest: 0.1636290 (218)\ttotal: 4.91s\tremaining: 16.4s\n",
      "231:\tlearn: 0.1004663\ttest: 0.1644382\tbest: 0.1636290 (218)\ttotal: 4.93s\tremaining: 16.3s\n",
      "232:\tlearn: 0.1003286\ttest: 0.1644699\tbest: 0.1636290 (218)\ttotal: 4.96s\tremaining: 16.3s\n",
      "233:\tlearn: 0.1001940\ttest: 0.1644172\tbest: 0.1636290 (218)\ttotal: 4.98s\tremaining: 16.3s\n",
      "234:\tlearn: 0.0999509\ttest: 0.1645101\tbest: 0.1636290 (218)\ttotal: 5s\tremaining: 16.3s\n",
      "235:\tlearn: 0.0998970\ttest: 0.1645340\tbest: 0.1636290 (218)\ttotal: 5.02s\tremaining: 16.2s\n",
      "236:\tlearn: 0.0994063\ttest: 0.1646164\tbest: 0.1636290 (218)\ttotal: 5.04s\tremaining: 16.2s\n",
      "237:\tlearn: 0.0993093\ttest: 0.1646351\tbest: 0.1636290 (218)\ttotal: 5.06s\tremaining: 16.2s\n",
      "238:\tlearn: 0.0991518\ttest: 0.1648769\tbest: 0.1636290 (218)\ttotal: 5.08s\tremaining: 16.2s\n",
      "239:\tlearn: 0.0991011\ttest: 0.1648967\tbest: 0.1636290 (218)\ttotal: 5.1s\tremaining: 16.1s\n",
      "240:\tlearn: 0.0988869\ttest: 0.1649140\tbest: 0.1636290 (218)\ttotal: 5.12s\tremaining: 16.1s\n",
      "241:\tlearn: 0.0986009\ttest: 0.1649691\tbest: 0.1636290 (218)\ttotal: 5.14s\tremaining: 16.1s\n",
      "242:\tlearn: 0.0983160\ttest: 0.1649064\tbest: 0.1636290 (218)\ttotal: 5.16s\tremaining: 16.1s\n",
      "243:\tlearn: 0.0981171\ttest: 0.1647248\tbest: 0.1636290 (218)\ttotal: 5.19s\tremaining: 16.1s\n",
      "244:\tlearn: 0.0979277\ttest: 0.1648093\tbest: 0.1636290 (218)\ttotal: 5.21s\tremaining: 16.1s\n",
      "245:\tlearn: 0.0975718\ttest: 0.1647288\tbest: 0.1636290 (218)\ttotal: 5.24s\tremaining: 16s\n",
      "246:\tlearn: 0.0973838\ttest: 0.1647193\tbest: 0.1636290 (218)\ttotal: 5.26s\tremaining: 16s\n",
      "247:\tlearn: 0.0969263\ttest: 0.1647182\tbest: 0.1636290 (218)\ttotal: 5.28s\tremaining: 16s\n",
      "248:\tlearn: 0.0967310\ttest: 0.1647050\tbest: 0.1636290 (218)\ttotal: 5.3s\tremaining: 16s\n",
      "249:\tlearn: 0.0964307\ttest: 0.1647950\tbest: 0.1636290 (218)\ttotal: 5.32s\tremaining: 16s\n",
      "250:\tlearn: 0.0962772\ttest: 0.1644362\tbest: 0.1636290 (218)\ttotal: 5.34s\tremaining: 15.9s\n",
      "251:\tlearn: 0.0961014\ttest: 0.1645441\tbest: 0.1636290 (218)\ttotal: 5.36s\tremaining: 15.9s\n",
      "252:\tlearn: 0.0960783\ttest: 0.1645368\tbest: 0.1636290 (218)\ttotal: 5.39s\tremaining: 15.9s\n",
      "253:\tlearn: 0.0959043\ttest: 0.1644454\tbest: 0.1636290 (218)\ttotal: 5.41s\tremaining: 15.9s\n",
      "254:\tlearn: 0.0955381\ttest: 0.1644984\tbest: 0.1636290 (218)\ttotal: 5.43s\tremaining: 15.9s\n",
      "255:\tlearn: 0.0949832\ttest: 0.1644503\tbest: 0.1636290 (218)\ttotal: 5.45s\tremaining: 15.8s\n",
      "256:\tlearn: 0.0947819\ttest: 0.1644446\tbest: 0.1636290 (218)\ttotal: 5.47s\tremaining: 15.8s\n",
      "257:\tlearn: 0.0946109\ttest: 0.1643285\tbest: 0.1636290 (218)\ttotal: 5.49s\tremaining: 15.8s\n",
      "258:\tlearn: 0.0943657\ttest: 0.1643033\tbest: 0.1636290 (218)\ttotal: 5.51s\tremaining: 15.8s\n",
      "259:\tlearn: 0.0942594\ttest: 0.1642390\tbest: 0.1636290 (218)\ttotal: 5.54s\tremaining: 15.8s\n",
      "260:\tlearn: 0.0942225\ttest: 0.1642026\tbest: 0.1636290 (218)\ttotal: 5.56s\tremaining: 15.7s\n",
      "261:\tlearn: 0.0938624\ttest: 0.1641980\tbest: 0.1636290 (218)\ttotal: 5.58s\tremaining: 15.7s\n",
      "262:\tlearn: 0.0935504\ttest: 0.1642986\tbest: 0.1636290 (218)\ttotal: 5.61s\tremaining: 15.7s\n",
      "263:\tlearn: 0.0931206\ttest: 0.1641936\tbest: 0.1636290 (218)\ttotal: 5.63s\tremaining: 15.7s\n",
      "264:\tlearn: 0.0927601\ttest: 0.1644620\tbest: 0.1636290 (218)\ttotal: 5.65s\tremaining: 15.7s\n",
      "265:\tlearn: 0.0925594\ttest: 0.1645849\tbest: 0.1636290 (218)\ttotal: 5.67s\tremaining: 15.6s\n",
      "266:\tlearn: 0.0923947\ttest: 0.1646555\tbest: 0.1636290 (218)\ttotal: 5.69s\tremaining: 15.6s\n",
      "267:\tlearn: 0.0921553\ttest: 0.1647599\tbest: 0.1636290 (218)\ttotal: 5.71s\tremaining: 15.6s\n",
      "268:\tlearn: 0.0919178\ttest: 0.1644941\tbest: 0.1636290 (218)\ttotal: 5.73s\tremaining: 15.6s\n",
      "Stopped by overfitting detector  (50 iterations wait)\n",
      "\n",
      "bestTest = 0.1636289559\n",
      "bestIteration = 218\n",
      "\n",
      "Shrink model to first 219 iterations.\n",
      "0:\tlearn: 0.5910964\ttest: 0.5922639\tbest: 0.5922639 (0)\ttotal: 26.1ms\tremaining: 26.1s\n",
      "1:\tlearn: 0.5062448\ttest: 0.5096770\tbest: 0.5096770 (1)\ttotal: 46.7ms\tremaining: 23.3s\n",
      "2:\tlearn: 0.4430096\ttest: 0.4470285\tbest: 0.4470285 (2)\ttotal: 67.7ms\tremaining: 22.5s\n",
      "3:\tlearn: 0.4003738\ttest: 0.4061280\tbest: 0.4061280 (3)\ttotal: 89.7ms\tremaining: 22.3s\n",
      "4:\tlearn: 0.3676912\ttest: 0.3742402\tbest: 0.3742402 (4)\ttotal: 112ms\tremaining: 22.3s\n",
      "5:\tlearn: 0.3404350\ttest: 0.3466193\tbest: 0.3466193 (5)\ttotal: 134ms\tremaining: 22.1s\n",
      "6:\tlearn: 0.3143264\ttest: 0.3218944\tbest: 0.3218944 (6)\ttotal: 155ms\tremaining: 22.1s\n",
      "7:\tlearn: 0.2967012\ttest: 0.3048472\tbest: 0.3048472 (7)\ttotal: 178ms\tremaining: 22s\n",
      "8:\tlearn: 0.2824413\ttest: 0.2906196\tbest: 0.2906196 (8)\ttotal: 200ms\tremaining: 22s\n",
      "9:\tlearn: 0.2665096\ttest: 0.2752785\tbest: 0.2752785 (9)\ttotal: 220ms\tremaining: 21.8s\n",
      "10:\tlearn: 0.2587402\ttest: 0.2678834\tbest: 0.2678834 (10)\ttotal: 249ms\tremaining: 22.4s\n",
      "11:\tlearn: 0.2507135\ttest: 0.2603912\tbest: 0.2603912 (11)\ttotal: 271ms\tremaining: 22.3s\n",
      "12:\tlearn: 0.2410353\ttest: 0.2501438\tbest: 0.2501438 (12)\ttotal: 293ms\tremaining: 22.3s\n",
      "13:\tlearn: 0.2324122\ttest: 0.2421453\tbest: 0.2421453 (13)\ttotal: 314ms\tremaining: 22.1s\n",
      "14:\tlearn: 0.2272231\ttest: 0.2375076\tbest: 0.2375076 (14)\ttotal: 336ms\tremaining: 22.1s\n",
      "15:\tlearn: 0.2223430\ttest: 0.2331442\tbest: 0.2331442 (15)\ttotal: 357ms\tremaining: 22s\n",
      "16:\tlearn: 0.2188838\ttest: 0.2301125\tbest: 0.2301125 (16)\ttotal: 384ms\tremaining: 22.2s\n",
      "17:\tlearn: 0.2160068\ttest: 0.2281837\tbest: 0.2281837 (17)\ttotal: 405ms\tremaining: 22.1s\n",
      "18:\tlearn: 0.2123363\ttest: 0.2254362\tbest: 0.2254362 (18)\ttotal: 425ms\tremaining: 22s\n",
      "19:\tlearn: 0.2094808\ttest: 0.2232710\tbest: 0.2232710 (19)\ttotal: 446ms\tremaining: 21.9s\n",
      "20:\tlearn: 0.2066940\ttest: 0.2211714\tbest: 0.2211714 (20)\ttotal: 472ms\tremaining: 22s\n",
      "21:\tlearn: 0.2045895\ttest: 0.2195797\tbest: 0.2195797 (21)\ttotal: 493ms\tremaining: 21.9s\n",
      "22:\tlearn: 0.2003536\ttest: 0.2158492\tbest: 0.2158492 (22)\ttotal: 513ms\tremaining: 21.8s\n",
      "23:\tlearn: 0.1975140\ttest: 0.2128945\tbest: 0.2128945 (23)\ttotal: 534ms\tremaining: 21.7s\n",
      "24:\tlearn: 0.1957372\ttest: 0.2110249\tbest: 0.2110249 (24)\ttotal: 556ms\tremaining: 21.7s\n",
      "25:\tlearn: 0.1942512\ttest: 0.2102185\tbest: 0.2102185 (25)\ttotal: 577ms\tremaining: 21.6s\n",
      "26:\tlearn: 0.1928353\ttest: 0.2093633\tbest: 0.2093633 (26)\ttotal: 597ms\tremaining: 21.5s\n",
      "27:\tlearn: 0.1915513\ttest: 0.2083096\tbest: 0.2083096 (27)\ttotal: 618ms\tremaining: 21.5s\n",
      "28:\tlearn: 0.1886930\ttest: 0.2060629\tbest: 0.2060629 (28)\ttotal: 639ms\tremaining: 21.4s\n",
      "29:\tlearn: 0.1875264\ttest: 0.2052216\tbest: 0.2052216 (29)\ttotal: 660ms\tremaining: 21.3s\n",
      "30:\tlearn: 0.1863508\ttest: 0.2040120\tbest: 0.2040120 (30)\ttotal: 683ms\tremaining: 21.3s\n",
      "31:\tlearn: 0.1855570\ttest: 0.2034504\tbest: 0.2034504 (31)\ttotal: 704ms\tremaining: 21.3s\n",
      "32:\tlearn: 0.1835966\ttest: 0.2014873\tbest: 0.2014873 (32)\ttotal: 726ms\tremaining: 21.3s\n",
      "33:\tlearn: 0.1822711\ttest: 0.2005009\tbest: 0.2005009 (33)\ttotal: 747ms\tremaining: 21.2s\n",
      "34:\tlearn: 0.1817742\ttest: 0.2004022\tbest: 0.2004022 (34)\ttotal: 768ms\tremaining: 21.2s\n",
      "35:\tlearn: 0.1805971\ttest: 0.1995475\tbest: 0.1995475 (35)\ttotal: 788ms\tremaining: 21.1s\n",
      "36:\tlearn: 0.1789436\ttest: 0.1983739\tbest: 0.1983739 (36)\ttotal: 808ms\tremaining: 21s\n",
      "37:\tlearn: 0.1782254\ttest: 0.1981211\tbest: 0.1981211 (37)\ttotal: 829ms\tremaining: 21s\n",
      "38:\tlearn: 0.1768941\ttest: 0.1972233\tbest: 0.1972233 (38)\ttotal: 856ms\tremaining: 21.1s\n",
      "39:\tlearn: 0.1761856\ttest: 0.1971135\tbest: 0.1971135 (39)\ttotal: 875ms\tremaining: 21s\n",
      "40:\tlearn: 0.1750434\ttest: 0.1963325\tbest: 0.1963325 (40)\ttotal: 902ms\tremaining: 21.1s\n",
      "41:\tlearn: 0.1739314\ttest: 0.1952417\tbest: 0.1952417 (41)\ttotal: 925ms\tremaining: 21.1s\n",
      "42:\tlearn: 0.1727737\ttest: 0.1941692\tbest: 0.1941692 (42)\ttotal: 945ms\tremaining: 21s\n",
      "43:\tlearn: 0.1719447\ttest: 0.1941026\tbest: 0.1941026 (43)\ttotal: 967ms\tremaining: 21s\n",
      "44:\tlearn: 0.1713866\ttest: 0.1937928\tbest: 0.1937928 (44)\ttotal: 987ms\tremaining: 20.9s\n",
      "45:\tlearn: 0.1705307\ttest: 0.1932714\tbest: 0.1932714 (45)\ttotal: 1.01s\tremaining: 20.9s\n",
      "46:\tlearn: 0.1693539\ttest: 0.1922469\tbest: 0.1922469 (46)\ttotal: 1.02s\tremaining: 20.8s\n",
      "47:\tlearn: 0.1681888\ttest: 0.1911874\tbest: 0.1911874 (47)\ttotal: 1.05s\tremaining: 20.8s\n",
      "48:\tlearn: 0.1674178\ttest: 0.1903139\tbest: 0.1903139 (48)\ttotal: 1.07s\tremaining: 20.7s\n",
      "49:\tlearn: 0.1666930\ttest: 0.1902682\tbest: 0.1902682 (49)\ttotal: 1.09s\tremaining: 20.7s\n",
      "50:\tlearn: 0.1658717\ttest: 0.1901689\tbest: 0.1901689 (50)\ttotal: 1.11s\tremaining: 20.7s\n",
      "51:\tlearn: 0.1647158\ttest: 0.1892589\tbest: 0.1892589 (51)\ttotal: 1.13s\tremaining: 20.7s\n",
      "52:\tlearn: 0.1639636\ttest: 0.1888444\tbest: 0.1888444 (52)\ttotal: 1.15s\tremaining: 20.6s\n",
      "53:\tlearn: 0.1629359\ttest: 0.1880936\tbest: 0.1880936 (53)\ttotal: 1.18s\tremaining: 20.6s\n",
      "54:\tlearn: 0.1622450\ttest: 0.1881338\tbest: 0.1880936 (53)\ttotal: 1.21s\tremaining: 20.8s\n",
      "55:\tlearn: 0.1618318\ttest: 0.1880784\tbest: 0.1880784 (55)\ttotal: 1.25s\tremaining: 21.1s\n",
      "56:\tlearn: 0.1613408\ttest: 0.1879442\tbest: 0.1879442 (56)\ttotal: 1.27s\tremaining: 21s\n",
      "57:\tlearn: 0.1606419\ttest: 0.1874790\tbest: 0.1874790 (57)\ttotal: 1.3s\tremaining: 21.1s\n",
      "58:\tlearn: 0.1597234\ttest: 0.1871564\tbest: 0.1871564 (58)\ttotal: 1.32s\tremaining: 21.1s\n",
      "59:\tlearn: 0.1587121\ttest: 0.1863319\tbest: 0.1863319 (59)\ttotal: 1.34s\tremaining: 21s\n",
      "60:\tlearn: 0.1582575\ttest: 0.1860551\tbest: 0.1860551 (60)\ttotal: 1.36s\tremaining: 21s\n",
      "61:\tlearn: 0.1573372\ttest: 0.1854047\tbest: 0.1854047 (61)\ttotal: 1.39s\tremaining: 21s\n",
      "62:\tlearn: 0.1565860\ttest: 0.1848163\tbest: 0.1848163 (62)\ttotal: 1.41s\tremaining: 21s\n",
      "63:\tlearn: 0.1554676\ttest: 0.1848263\tbest: 0.1848163 (62)\ttotal: 1.43s\tremaining: 21s\n",
      "64:\tlearn: 0.1551056\ttest: 0.1844685\tbest: 0.1844685 (64)\ttotal: 1.46s\tremaining: 20.9s\n",
      "65:\tlearn: 0.1547047\ttest: 0.1842595\tbest: 0.1842595 (65)\ttotal: 1.48s\tremaining: 20.9s\n",
      "66:\tlearn: 0.1541886\ttest: 0.1840392\tbest: 0.1840392 (66)\ttotal: 1.5s\tremaining: 20.8s\n",
      "67:\tlearn: 0.1535565\ttest: 0.1840712\tbest: 0.1840392 (66)\ttotal: 1.52s\tremaining: 20.8s\n",
      "68:\tlearn: 0.1531325\ttest: 0.1841424\tbest: 0.1840392 (66)\ttotal: 1.54s\tremaining: 20.8s\n",
      "69:\tlearn: 0.1526738\ttest: 0.1839844\tbest: 0.1839844 (69)\ttotal: 1.57s\tremaining: 20.8s\n",
      "70:\tlearn: 0.1522986\ttest: 0.1836496\tbest: 0.1836496 (70)\ttotal: 1.58s\tremaining: 20.8s\n",
      "71:\tlearn: 0.1520234\ttest: 0.1835001\tbest: 0.1835001 (71)\ttotal: 1.61s\tremaining: 20.7s\n",
      "72:\tlearn: 0.1513332\ttest: 0.1830817\tbest: 0.1830817 (72)\ttotal: 1.63s\tremaining: 20.7s\n",
      "73:\tlearn: 0.1509465\ttest: 0.1830099\tbest: 0.1830099 (73)\ttotal: 1.65s\tremaining: 20.6s\n",
      "74:\tlearn: 0.1504486\ttest: 0.1829476\tbest: 0.1829476 (74)\ttotal: 1.67s\tremaining: 20.6s\n",
      "75:\tlearn: 0.1500283\ttest: 0.1830902\tbest: 0.1829476 (74)\ttotal: 1.69s\tremaining: 20.6s\n",
      "76:\tlearn: 0.1493458\ttest: 0.1830212\tbest: 0.1829476 (74)\ttotal: 1.71s\tremaining: 20.6s\n",
      "77:\tlearn: 0.1491112\ttest: 0.1830685\tbest: 0.1829476 (74)\ttotal: 1.74s\tremaining: 20.5s\n",
      "78:\tlearn: 0.1489022\ttest: 0.1831153\tbest: 0.1829476 (74)\ttotal: 1.76s\tremaining: 20.5s\n",
      "79:\tlearn: 0.1483789\ttest: 0.1828609\tbest: 0.1828609 (79)\ttotal: 1.78s\tremaining: 20.5s\n",
      "80:\tlearn: 0.1480219\ttest: 0.1828241\tbest: 0.1828241 (80)\ttotal: 1.81s\tremaining: 20.5s\n",
      "81:\tlearn: 0.1473308\ttest: 0.1827309\tbest: 0.1827309 (81)\ttotal: 1.83s\tremaining: 20.5s\n",
      "82:\tlearn: 0.1469663\ttest: 0.1824686\tbest: 0.1824686 (82)\ttotal: 1.85s\tremaining: 20.4s\n",
      "83:\tlearn: 0.1466934\ttest: 0.1826138\tbest: 0.1824686 (82)\ttotal: 1.87s\tremaining: 20.4s\n",
      "84:\tlearn: 0.1460096\ttest: 0.1822968\tbest: 0.1822968 (84)\ttotal: 1.89s\tremaining: 20.4s\n",
      "85:\tlearn: 0.1454718\ttest: 0.1820732\tbest: 0.1820732 (85)\ttotal: 1.91s\tremaining: 20.3s\n",
      "86:\tlearn: 0.1450941\ttest: 0.1818578\tbest: 0.1818578 (86)\ttotal: 1.93s\tremaining: 20.3s\n",
      "87:\tlearn: 0.1446524\ttest: 0.1817049\tbest: 0.1817049 (87)\ttotal: 1.96s\tremaining: 20.3s\n",
      "88:\tlearn: 0.1442746\ttest: 0.1816184\tbest: 0.1816184 (88)\ttotal: 1.98s\tremaining: 20.3s\n",
      "89:\tlearn: 0.1439897\ttest: 0.1814265\tbest: 0.1814265 (89)\ttotal: 2s\tremaining: 20.2s\n",
      "90:\tlearn: 0.1436700\ttest: 0.1812818\tbest: 0.1812818 (90)\ttotal: 2.02s\tremaining: 20.2s\n",
      "91:\tlearn: 0.1432272\ttest: 0.1813794\tbest: 0.1812818 (90)\ttotal: 2.04s\tremaining: 20.2s\n",
      "92:\tlearn: 0.1426176\ttest: 0.1810159\tbest: 0.1810159 (92)\ttotal: 2.07s\tremaining: 20.2s\n",
      "93:\tlearn: 0.1425210\ttest: 0.1809987\tbest: 0.1809987 (93)\ttotal: 2.08s\tremaining: 20.1s\n",
      "94:\tlearn: 0.1420847\ttest: 0.1808971\tbest: 0.1808971 (94)\ttotal: 2.1s\tremaining: 20.1s\n",
      "95:\tlearn: 0.1414524\ttest: 0.1805652\tbest: 0.1805652 (95)\ttotal: 2.13s\tremaining: 20s\n",
      "96:\tlearn: 0.1409007\ttest: 0.1802389\tbest: 0.1802389 (96)\ttotal: 2.15s\tremaining: 20s\n",
      "97:\tlearn: 0.1407347\ttest: 0.1804292\tbest: 0.1802389 (96)\ttotal: 2.17s\tremaining: 20s\n",
      "98:\tlearn: 0.1400112\ttest: 0.1802974\tbest: 0.1802389 (96)\ttotal: 2.2s\tremaining: 20.1s\n",
      "99:\tlearn: 0.1397993\ttest: 0.1802867\tbest: 0.1802389 (96)\ttotal: 2.22s\tremaining: 20s\n",
      "100:\tlearn: 0.1393833\ttest: 0.1801895\tbest: 0.1801895 (100)\ttotal: 2.24s\tremaining: 20s\n",
      "101:\tlearn: 0.1389357\ttest: 0.1799320\tbest: 0.1799320 (101)\ttotal: 2.26s\tremaining: 19.9s\n",
      "102:\tlearn: 0.1386133\ttest: 0.1797858\tbest: 0.1797858 (102)\ttotal: 2.29s\tremaining: 19.9s\n",
      "103:\tlearn: 0.1380823\ttest: 0.1795330\tbest: 0.1795330 (103)\ttotal: 2.3s\tremaining: 19.9s\n",
      "104:\tlearn: 0.1379665\ttest: 0.1797199\tbest: 0.1795330 (103)\ttotal: 2.32s\tremaining: 19.8s\n",
      "105:\tlearn: 0.1377793\ttest: 0.1796202\tbest: 0.1795330 (103)\ttotal: 2.35s\tremaining: 19.8s\n",
      "106:\tlearn: 0.1370296\ttest: 0.1798972\tbest: 0.1795330 (103)\ttotal: 2.37s\tremaining: 19.7s\n",
      "107:\tlearn: 0.1365182\ttest: 0.1796767\tbest: 0.1795330 (103)\ttotal: 2.39s\tremaining: 19.8s\n",
      "108:\tlearn: 0.1361315\ttest: 0.1798410\tbest: 0.1795330 (103)\ttotal: 2.42s\tremaining: 19.8s\n",
      "109:\tlearn: 0.1356864\ttest: 0.1798231\tbest: 0.1795330 (103)\ttotal: 2.44s\tremaining: 19.7s\n",
      "110:\tlearn: 0.1349537\ttest: 0.1798704\tbest: 0.1795330 (103)\ttotal: 2.46s\tremaining: 19.7s\n",
      "111:\tlearn: 0.1345819\ttest: 0.1797871\tbest: 0.1795330 (103)\ttotal: 2.48s\tremaining: 19.7s\n",
      "112:\tlearn: 0.1342355\ttest: 0.1802248\tbest: 0.1795330 (103)\ttotal: 2.5s\tremaining: 19.6s\n",
      "113:\tlearn: 0.1339783\ttest: 0.1801292\tbest: 0.1795330 (103)\ttotal: 2.52s\tremaining: 19.6s\n",
      "114:\tlearn: 0.1337381\ttest: 0.1801216\tbest: 0.1795330 (103)\ttotal: 2.54s\tremaining: 19.6s\n",
      "115:\tlearn: 0.1335144\ttest: 0.1802354\tbest: 0.1795330 (103)\ttotal: 2.56s\tremaining: 19.5s\n",
      "116:\tlearn: 0.1333955\ttest: 0.1802501\tbest: 0.1795330 (103)\ttotal: 2.58s\tremaining: 19.5s\n",
      "117:\tlearn: 0.1326886\ttest: 0.1800989\tbest: 0.1795330 (103)\ttotal: 2.61s\tremaining: 19.5s\n",
      "118:\tlearn: 0.1324944\ttest: 0.1799810\tbest: 0.1795330 (103)\ttotal: 2.63s\tremaining: 19.5s\n",
      "119:\tlearn: 0.1320671\ttest: 0.1797160\tbest: 0.1795330 (103)\ttotal: 2.65s\tremaining: 19.4s\n",
      "120:\tlearn: 0.1317240\ttest: 0.1796318\tbest: 0.1795330 (103)\ttotal: 2.67s\tremaining: 19.4s\n",
      "121:\tlearn: 0.1315757\ttest: 0.1795964\tbest: 0.1795330 (103)\ttotal: 2.69s\tremaining: 19.4s\n",
      "122:\tlearn: 0.1314384\ttest: 0.1795466\tbest: 0.1795330 (103)\ttotal: 2.71s\tremaining: 19.4s\n",
      "123:\tlearn: 0.1309006\ttest: 0.1794196\tbest: 0.1794196 (123)\ttotal: 2.73s\tremaining: 19.3s\n",
      "124:\tlearn: 0.1304852\ttest: 0.1792794\tbest: 0.1792794 (124)\ttotal: 2.76s\tremaining: 19.3s\n",
      "125:\tlearn: 0.1298477\ttest: 0.1793557\tbest: 0.1792794 (124)\ttotal: 2.78s\tremaining: 19.3s\n",
      "126:\tlearn: 0.1293889\ttest: 0.1791931\tbest: 0.1791931 (126)\ttotal: 2.8s\tremaining: 19.3s\n",
      "127:\tlearn: 0.1289032\ttest: 0.1794267\tbest: 0.1791931 (126)\ttotal: 2.82s\tremaining: 19.2s\n",
      "128:\tlearn: 0.1283798\ttest: 0.1790270\tbest: 0.1790270 (128)\ttotal: 2.85s\tremaining: 19.2s\n",
      "129:\tlearn: 0.1282435\ttest: 0.1791220\tbest: 0.1790270 (128)\ttotal: 2.87s\tremaining: 19.2s\n",
      "130:\tlearn: 0.1276264\ttest: 0.1788119\tbest: 0.1788119 (130)\ttotal: 2.89s\tremaining: 19.2s\n",
      "131:\tlearn: 0.1272493\ttest: 0.1787205\tbest: 0.1787205 (131)\ttotal: 2.91s\tremaining: 19.1s\n",
      "132:\tlearn: 0.1266877\ttest: 0.1787002\tbest: 0.1787002 (132)\ttotal: 2.93s\tremaining: 19.1s\n",
      "133:\tlearn: 0.1264947\ttest: 0.1788207\tbest: 0.1787002 (132)\ttotal: 2.95s\tremaining: 19.1s\n",
      "134:\tlearn: 0.1260817\ttest: 0.1788298\tbest: 0.1787002 (132)\ttotal: 2.98s\tremaining: 19.1s\n",
      "135:\tlearn: 0.1256596\ttest: 0.1786123\tbest: 0.1786123 (135)\ttotal: 3s\tremaining: 19.1s\n",
      "136:\tlearn: 0.1253443\ttest: 0.1787191\tbest: 0.1786123 (135)\ttotal: 3.02s\tremaining: 19.1s\n",
      "137:\tlearn: 0.1250152\ttest: 0.1785722\tbest: 0.1785722 (137)\ttotal: 3.05s\tremaining: 19s\n",
      "138:\tlearn: 0.1247716\ttest: 0.1785360\tbest: 0.1785360 (138)\ttotal: 3.07s\tremaining: 19s\n",
      "139:\tlearn: 0.1243514\ttest: 0.1784604\tbest: 0.1784604 (139)\ttotal: 3.09s\tremaining: 19s\n",
      "140:\tlearn: 0.1240345\ttest: 0.1782246\tbest: 0.1782246 (140)\ttotal: 3.11s\tremaining: 19s\n",
      "141:\tlearn: 0.1236676\ttest: 0.1781387\tbest: 0.1781387 (141)\ttotal: 3.14s\tremaining: 19s\n",
      "142:\tlearn: 0.1233731\ttest: 0.1781309\tbest: 0.1781309 (142)\ttotal: 3.16s\tremaining: 18.9s\n",
      "143:\tlearn: 0.1230314\ttest: 0.1781329\tbest: 0.1781309 (142)\ttotal: 3.18s\tremaining: 18.9s\n",
      "144:\tlearn: 0.1228415\ttest: 0.1779042\tbest: 0.1779042 (144)\ttotal: 3.2s\tremaining: 18.9s\n",
      "145:\tlearn: 0.1223004\ttest: 0.1778783\tbest: 0.1778783 (145)\ttotal: 3.22s\tremaining: 18.8s\n",
      "146:\tlearn: 0.1218562\ttest: 0.1774714\tbest: 0.1774714 (146)\ttotal: 3.24s\tremaining: 18.8s\n",
      "147:\tlearn: 0.1215565\ttest: 0.1774225\tbest: 0.1774225 (147)\ttotal: 3.26s\tremaining: 18.8s\n",
      "148:\tlearn: 0.1211235\ttest: 0.1773742\tbest: 0.1773742 (148)\ttotal: 3.29s\tremaining: 18.8s\n",
      "149:\tlearn: 0.1205761\ttest: 0.1773262\tbest: 0.1773262 (149)\ttotal: 3.31s\tremaining: 18.8s\n",
      "150:\tlearn: 0.1201088\ttest: 0.1773634\tbest: 0.1773262 (149)\ttotal: 3.33s\tremaining: 18.7s\n",
      "151:\tlearn: 0.1197278\ttest: 0.1774554\tbest: 0.1773262 (149)\ttotal: 3.35s\tremaining: 18.7s\n",
      "152:\tlearn: 0.1193433\ttest: 0.1773370\tbest: 0.1773262 (149)\ttotal: 3.38s\tremaining: 18.7s\n",
      "153:\tlearn: 0.1190731\ttest: 0.1769571\tbest: 0.1769571 (153)\ttotal: 3.4s\tremaining: 18.7s\n",
      "154:\tlearn: 0.1188896\ttest: 0.1770299\tbest: 0.1769571 (153)\ttotal: 3.42s\tremaining: 18.7s\n",
      "155:\tlearn: 0.1186522\ttest: 0.1770867\tbest: 0.1769571 (153)\ttotal: 3.44s\tremaining: 18.6s\n",
      "156:\tlearn: 0.1182292\ttest: 0.1769469\tbest: 0.1769469 (156)\ttotal: 3.46s\tremaining: 18.6s\n",
      "157:\tlearn: 0.1178228\ttest: 0.1768357\tbest: 0.1768357 (157)\ttotal: 3.49s\tremaining: 18.6s\n",
      "158:\tlearn: 0.1176083\ttest: 0.1768856\tbest: 0.1768357 (157)\ttotal: 3.51s\tremaining: 18.6s\n",
      "159:\tlearn: 0.1172918\ttest: 0.1768711\tbest: 0.1768357 (157)\ttotal: 3.53s\tremaining: 18.5s\n",
      "160:\tlearn: 0.1170619\ttest: 0.1768967\tbest: 0.1768357 (157)\ttotal: 3.55s\tremaining: 18.5s\n",
      "161:\tlearn: 0.1169447\ttest: 0.1768045\tbest: 0.1768045 (161)\ttotal: 3.57s\tremaining: 18.5s\n",
      "162:\tlearn: 0.1165801\ttest: 0.1770452\tbest: 0.1768045 (161)\ttotal: 3.59s\tremaining: 18.4s\n",
      "163:\tlearn: 0.1161300\ttest: 0.1770298\tbest: 0.1768045 (161)\ttotal: 3.61s\tremaining: 18.4s\n",
      "164:\tlearn: 0.1159278\ttest: 0.1770612\tbest: 0.1768045 (161)\ttotal: 3.63s\tremaining: 18.4s\n",
      "165:\tlearn: 0.1155986\ttest: 0.1769181\tbest: 0.1768045 (161)\ttotal: 3.65s\tremaining: 18.4s\n",
      "166:\tlearn: 0.1152856\ttest: 0.1766239\tbest: 0.1766239 (166)\ttotal: 3.67s\tremaining: 18.3s\n",
      "167:\tlearn: 0.1151596\ttest: 0.1764602\tbest: 0.1764602 (167)\ttotal: 3.69s\tremaining: 18.3s\n",
      "168:\tlearn: 0.1149983\ttest: 0.1763908\tbest: 0.1763908 (168)\ttotal: 3.72s\tremaining: 18.3s\n",
      "169:\tlearn: 0.1149102\ttest: 0.1765724\tbest: 0.1763908 (168)\ttotal: 3.74s\tremaining: 18.3s\n",
      "170:\tlearn: 0.1144938\ttest: 0.1767934\tbest: 0.1763908 (168)\ttotal: 3.76s\tremaining: 18.2s\n",
      "171:\tlearn: 0.1142282\ttest: 0.1765601\tbest: 0.1763908 (168)\ttotal: 3.78s\tremaining: 18.2s\n",
      "172:\tlearn: 0.1138344\ttest: 0.1764938\tbest: 0.1763908 (168)\ttotal: 3.8s\tremaining: 18.2s\n",
      "173:\tlearn: 0.1134751\ttest: 0.1764838\tbest: 0.1763908 (168)\ttotal: 3.83s\tremaining: 18.2s\n",
      "174:\tlearn: 0.1131795\ttest: 0.1763578\tbest: 0.1763578 (174)\ttotal: 3.85s\tremaining: 18.1s\n",
      "175:\tlearn: 0.1129313\ttest: 0.1763022\tbest: 0.1763022 (175)\ttotal: 3.87s\tremaining: 18.1s\n",
      "176:\tlearn: 0.1126209\ttest: 0.1762638\tbest: 0.1762638 (176)\ttotal: 3.89s\tremaining: 18.1s\n",
      "177:\tlearn: 0.1123424\ttest: 0.1760151\tbest: 0.1760151 (177)\ttotal: 3.91s\tremaining: 18.1s\n",
      "178:\tlearn: 0.1120162\ttest: 0.1760597\tbest: 0.1760151 (177)\ttotal: 3.93s\tremaining: 18s\n",
      "179:\tlearn: 0.1118811\ttest: 0.1759320\tbest: 0.1759320 (179)\ttotal: 3.95s\tremaining: 18s\n",
      "180:\tlearn: 0.1114798\ttest: 0.1759037\tbest: 0.1759037 (180)\ttotal: 3.97s\tremaining: 18s\n",
      "181:\tlearn: 0.1114025\ttest: 0.1759295\tbest: 0.1759037 (180)\ttotal: 3.99s\tremaining: 17.9s\n",
      "182:\tlearn: 0.1111668\ttest: 0.1757951\tbest: 0.1757951 (182)\ttotal: 4.01s\tremaining: 17.9s\n",
      "183:\tlearn: 0.1111390\ttest: 0.1758502\tbest: 0.1757951 (182)\ttotal: 4.03s\tremaining: 17.9s\n",
      "184:\tlearn: 0.1108851\ttest: 0.1757495\tbest: 0.1757495 (184)\ttotal: 4.05s\tremaining: 17.8s\n",
      "185:\tlearn: 0.1107158\ttest: 0.1756528\tbest: 0.1756528 (185)\ttotal: 4.07s\tremaining: 17.8s\n",
      "186:\tlearn: 0.1104756\ttest: 0.1757441\tbest: 0.1756528 (185)\ttotal: 4.1s\tremaining: 17.8s\n",
      "187:\tlearn: 0.1100790\ttest: 0.1759359\tbest: 0.1756528 (185)\ttotal: 4.12s\tremaining: 17.8s\n",
      "188:\tlearn: 0.1097605\ttest: 0.1758865\tbest: 0.1756528 (185)\ttotal: 4.14s\tremaining: 17.8s\n",
      "189:\tlearn: 0.1096340\ttest: 0.1759642\tbest: 0.1756528 (185)\ttotal: 4.16s\tremaining: 17.7s\n",
      "190:\tlearn: 0.1092616\ttest: 0.1760678\tbest: 0.1756528 (185)\ttotal: 4.18s\tremaining: 17.7s\n",
      "191:\tlearn: 0.1088882\ttest: 0.1758919\tbest: 0.1756528 (185)\ttotal: 4.2s\tremaining: 17.7s\n",
      "192:\tlearn: 0.1086662\ttest: 0.1761706\tbest: 0.1756528 (185)\ttotal: 4.22s\tremaining: 17.6s\n",
      "193:\tlearn: 0.1084805\ttest: 0.1761763\tbest: 0.1756528 (185)\ttotal: 4.24s\tremaining: 17.6s\n",
      "194:\tlearn: 0.1081765\ttest: 0.1761903\tbest: 0.1756528 (185)\ttotal: 4.26s\tremaining: 17.6s\n",
      "195:\tlearn: 0.1079167\ttest: 0.1761122\tbest: 0.1756528 (185)\ttotal: 4.28s\tremaining: 17.6s\n",
      "196:\tlearn: 0.1075662\ttest: 0.1765276\tbest: 0.1756528 (185)\ttotal: 4.3s\tremaining: 17.5s\n",
      "197:\tlearn: 0.1072516\ttest: 0.1764877\tbest: 0.1756528 (185)\ttotal: 4.32s\tremaining: 17.5s\n",
      "198:\tlearn: 0.1070315\ttest: 0.1765061\tbest: 0.1756528 (185)\ttotal: 4.35s\tremaining: 17.5s\n",
      "199:\tlearn: 0.1066229\ttest: 0.1765055\tbest: 0.1756528 (185)\ttotal: 4.37s\tremaining: 17.5s\n",
      "200:\tlearn: 0.1064216\ttest: 0.1765967\tbest: 0.1756528 (185)\ttotal: 4.39s\tremaining: 17.5s\n",
      "201:\tlearn: 0.1061138\ttest: 0.1763258\tbest: 0.1756528 (185)\ttotal: 4.42s\tremaining: 17.4s\n",
      "202:\tlearn: 0.1058350\ttest: 0.1762234\tbest: 0.1756528 (185)\ttotal: 4.44s\tremaining: 17.4s\n",
      "203:\tlearn: 0.1056212\ttest: 0.1763874\tbest: 0.1756528 (185)\ttotal: 4.47s\tremaining: 17.4s\n",
      "204:\tlearn: 0.1054933\ttest: 0.1763525\tbest: 0.1756528 (185)\ttotal: 4.49s\tremaining: 17.4s\n",
      "205:\tlearn: 0.1051260\ttest: 0.1764335\tbest: 0.1756528 (185)\ttotal: 4.51s\tremaining: 17.4s\n",
      "206:\tlearn: 0.1046805\ttest: 0.1766878\tbest: 0.1756528 (185)\ttotal: 4.53s\tremaining: 17.4s\n",
      "207:\tlearn: 0.1044516\ttest: 0.1765909\tbest: 0.1756528 (185)\ttotal: 4.55s\tremaining: 17.3s\n",
      "208:\tlearn: 0.1041986\ttest: 0.1765449\tbest: 0.1756528 (185)\ttotal: 4.58s\tremaining: 17.3s\n",
      "209:\tlearn: 0.1038321\ttest: 0.1763405\tbest: 0.1756528 (185)\ttotal: 4.6s\tremaining: 17.3s\n",
      "210:\tlearn: 0.1036775\ttest: 0.1763921\tbest: 0.1756528 (185)\ttotal: 4.62s\tremaining: 17.3s\n",
      "211:\tlearn: 0.1034886\ttest: 0.1763286\tbest: 0.1756528 (185)\ttotal: 4.64s\tremaining: 17.2s\n",
      "212:\tlearn: 0.1033186\ttest: 0.1762326\tbest: 0.1756528 (185)\ttotal: 4.66s\tremaining: 17.2s\n",
      "213:\tlearn: 0.1031678\ttest: 0.1762483\tbest: 0.1756528 (185)\ttotal: 4.68s\tremaining: 17.2s\n",
      "214:\tlearn: 0.1029416\ttest: 0.1763551\tbest: 0.1756528 (185)\ttotal: 4.7s\tremaining: 17.2s\n",
      "215:\tlearn: 0.1026965\ttest: 0.1762814\tbest: 0.1756528 (185)\ttotal: 4.72s\tremaining: 17.1s\n",
      "216:\tlearn: 0.1023858\ttest: 0.1759806\tbest: 0.1756528 (185)\ttotal: 4.75s\tremaining: 17.1s\n",
      "217:\tlearn: 0.1021691\ttest: 0.1759691\tbest: 0.1756528 (185)\ttotal: 4.77s\tremaining: 17.1s\n",
      "218:\tlearn: 0.1020266\ttest: 0.1759139\tbest: 0.1756528 (185)\ttotal: 4.79s\tremaining: 17.1s\n",
      "219:\tlearn: 0.1018035\ttest: 0.1760220\tbest: 0.1756528 (185)\ttotal: 4.81s\tremaining: 17.1s\n",
      "220:\tlearn: 0.1016349\ttest: 0.1760487\tbest: 0.1756528 (185)\ttotal: 4.83s\tremaining: 17s\n",
      "221:\tlearn: 0.1014581\ttest: 0.1759425\tbest: 0.1756528 (185)\ttotal: 4.85s\tremaining: 17s\n",
      "222:\tlearn: 0.1012625\ttest: 0.1759651\tbest: 0.1756528 (185)\ttotal: 4.88s\tremaining: 17s\n",
      "223:\tlearn: 0.1008939\ttest: 0.1761015\tbest: 0.1756528 (185)\ttotal: 4.9s\tremaining: 17s\n",
      "224:\tlearn: 0.1005544\ttest: 0.1761347\tbest: 0.1756528 (185)\ttotal: 4.92s\tremaining: 16.9s\n",
      "225:\tlearn: 0.1002825\ttest: 0.1761798\tbest: 0.1756528 (185)\ttotal: 4.94s\tremaining: 16.9s\n",
      "226:\tlearn: 0.0999686\ttest: 0.1763109\tbest: 0.1756528 (185)\ttotal: 4.96s\tremaining: 16.9s\n",
      "227:\tlearn: 0.0997977\ttest: 0.1762646\tbest: 0.1756528 (185)\ttotal: 4.99s\tremaining: 16.9s\n",
      "228:\tlearn: 0.0993213\ttest: 0.1762796\tbest: 0.1756528 (185)\ttotal: 5.01s\tremaining: 16.9s\n",
      "229:\tlearn: 0.0990582\ttest: 0.1763428\tbest: 0.1756528 (185)\ttotal: 5.03s\tremaining: 16.8s\n",
      "230:\tlearn: 0.0987609\ttest: 0.1762286\tbest: 0.1756528 (185)\ttotal: 5.05s\tremaining: 16.8s\n",
      "231:\tlearn: 0.0982656\ttest: 0.1762547\tbest: 0.1756528 (185)\ttotal: 5.07s\tremaining: 16.8s\n",
      "232:\tlearn: 0.0979579\ttest: 0.1762645\tbest: 0.1756528 (185)\ttotal: 5.09s\tremaining: 16.8s\n",
      "233:\tlearn: 0.0975933\ttest: 0.1763027\tbest: 0.1756528 (185)\ttotal: 5.12s\tremaining: 16.8s\n",
      "234:\tlearn: 0.0973837\ttest: 0.1762263\tbest: 0.1756528 (185)\ttotal: 5.14s\tremaining: 16.7s\n",
      "235:\tlearn: 0.0971339\ttest: 0.1762178\tbest: 0.1756528 (185)\ttotal: 5.16s\tremaining: 16.7s\n",
      "Stopped by overfitting detector  (50 iterations wait)\n",
      "\n",
      "bestTest = 0.1756528411\n",
      "bestIteration = 185\n",
      "\n",
      "Shrink model to first 186 iterations.\n"
     ]
    }
   ],
   "source": [
    "for training_index, testing_index in gkf.split(X=x_train, y=y_train):\n",
    "    x_train_fold, y_train_fold = x_train.iloc[training_index], y_train.iloc[training_index]\n",
    "    x_test_fold, y_test_fold = x_train.iloc[testing_index], y_train.iloc[testing_index]\n",
    "    model.fit(x_train_fold, y_train_fold, eval_set=(x_test_fold,y_test_fold), early_stopping_rounds=50)"
   ]
  },
  {
   "cell_type": "markdown",
   "metadata": {
    "colab_type": "text",
    "id": "AAHkQT1eYu0m"
   },
   "source": [
    "<h2>Model Evaluation</h2>"
   ]
  },
  {
   "cell_type": "code",
   "execution_count": null,
   "metadata": {
    "colab": {},
    "colab_type": "code",
    "id": "av9oIRfQQ1ZT"
   },
   "outputs": [],
   "source": [
    "predicted_y = model.predict(x_test)\n",
    "train_pred_y = model.predict(x)"
   ]
  },
  {
   "cell_type": "code",
   "execution_count": null,
   "metadata": {
    "colab": {
     "base_uri": "https://localhost:8080/",
     "height": 459
    },
    "colab_type": "code",
    "executionInfo": {
     "elapsed": 974,
     "status": "ok",
     "timestamp": 1591687590093,
     "user": {
      "displayName": "Ranika Madurawe",
      "photoUrl": "",
      "userId": "08934122972253344059"
     },
     "user_tz": -330
    },
    "id": "RpyYdTfFQ1ZW",
    "outputId": "6defce9d-c8fd-4bc3-fc07-682bab453421"
   },
   "outputs": [
    {
     "name": "stdout",
     "output_type": "stream",
     "text": [
      "\n",
      "              precision    recall  f1-score   support\n",
      "\n",
      "           0       0.92      0.74      0.82      1681\n",
      "           1       0.97      0.99      0.98     15494\n",
      "\n",
      "    accuracy                           0.97     17175\n",
      "   macro avg       0.95      0.87      0.90     17175\n",
      "weighted avg       0.97      0.97      0.97     17175\n",
      "\n",
      "\n",
      "[[ 1244   437]\n",
      " [  111 15383]]\n",
      "\n",
      "              precision    recall  f1-score   support\n",
      "\n",
      "           0       0.86      0.69      0.76       336\n",
      "           1       0.97      0.99      0.98      3099\n",
      "\n",
      "    accuracy                           0.96      3435\n",
      "   macro avg       0.91      0.84      0.87      3435\n",
      "weighted avg       0.96      0.96      0.96      3435\n",
      "\n",
      "\n",
      "[[ 231  105]\n",
      " [  39 3060]]\n"
     ]
    }
   ],
   "source": [
    "print(); print(metrics.classification_report(y,train_pred_y))\n",
    "print(); print(metrics.confusion_matrix(y, train_pred_y))\n",
    "\n",
    "print(); print(metrics.classification_report(y_test, predicted_y))\n",
    "print(); print(metrics.confusion_matrix(y_test, predicted_y))"
   ]
  },
  {
   "cell_type": "markdown",
   "metadata": {
    "colab_type": "text",
    "id": "ZNIc3wReQ1ZZ"
   },
   "source": [
    "<h1>Testing</h1>"
   ]
  },
  {
   "cell_type": "markdown",
   "metadata": {
    "colab_type": "text",
    "id": "qDE6IewgYu0u"
   },
   "source": [
    "<h2>Loading the Test Dataset</h2>"
   ]
  },
  {
   "cell_type": "code",
   "execution_count": null,
   "metadata": {
    "colab": {},
    "colab_type": "code",
    "id": "dRpHFO-hvEvg"
   },
   "outputs": [],
   "source": [
    "test_path =os.path.abspath(os.path.join(os.path.dirname(\"__file__\"), '..', '/content/drive/My Drive/datasets/test.csv'))\n",
    "test_set = pd.read_csv(test_path, index_col=\"tripid\")"
   ]
  },
  {
   "cell_type": "markdown",
   "metadata": {
    "colab_type": "text",
    "id": "T0jOp2JGYu0x"
   },
   "source": [
    "<h2>Feature Addition on testing dataset</h2>"
   ]
  },
  {
   "cell_type": "code",
   "execution_count": null,
   "metadata": {
    "colab": {},
    "colab_type": "code",
    "id": "-aB-vcWQPl-L"
   },
   "outputs": [],
   "source": [
    "test_set['pickup_time'] = pd.to_datetime(test_set['pickup_time'], format=\"%m/%d/%Y %H:%M\")\n",
    "test_set['drop_time'] = pd.to_datetime(test_set['drop_time'], format=\"%m/%d/%Y %H:%M\")"
   ]
  },
  {
   "cell_type": "code",
   "execution_count": null,
   "metadata": {
    "colab": {},
    "colab_type": "code",
    "id": "-fh6I6oDPrqF"
   },
   "outputs": [],
   "source": [
    "test_set = test_set.assign(timeOfDay=pd.cut(test_set.pickup_time.dt.hour,[-1, 8, 20, 24],labels=['dawn','day', 'night']))"
   ]
  },
  {
   "cell_type": "code",
   "execution_count": null,
   "metadata": {
    "colab": {},
    "colab_type": "code",
    "id": "daMeyD7mQ1Zk"
   },
   "outputs": [],
   "source": [
    "test_set.loc[test_set['timeOfDay'] == 'day', 'isNormalCharge'] = 1\n",
    "test_set.loc[test_set['timeOfDay'] != 'day', 'isNormalCharge'] = 0"
   ]
  },
  {
   "cell_type": "code",
   "execution_count": null,
   "metadata": {
    "colab": {},
    "colab_type": "code",
    "id": "0YIKrGoUPxjD"
   },
   "outputs": [],
   "source": [
    "durations = []\n",
    "for index,row in test_set.iterrows():\n",
    "  provided_duration = row['duration'] #first row of location.lat column here\n",
    "  if math.isnan(provided_duration) or provided_duration <= 0 :\n",
    "    time_dif = (row['drop_time'] - row['pickup_time']).seconds\n",
    "    if(time_dif == 0):\n",
    "        time_dif = np.nan\n",
    "    durations.append(time_dif)\n",
    "  else :  \n",
    "    durations.append(provided_duration)\n",
    "\n",
    "test_set.insert(4,\"time_dif\",durations)"
   ]
  },
  {
   "cell_type": "code",
   "execution_count": null,
   "metadata": {
    "colab": {},
    "colab_type": "code",
    "id": "N8RKMAziP2Zu"
   },
   "outputs": [],
   "source": [
    "new_column = []                    #empty column for distance\n",
    "for index,row in test_set.iterrows():\n",
    "  lat1 = row['pick_lat'] #first row of location.lat column here\n",
    "  lon1 = row['pick_lon'] #first row of location.long column here\n",
    "  lat2 = row['drop_lat'] #second row of location.lat column here\n",
    "  lon2 = row['drop_lon'] #second row of location.long column here\n",
    "  value = dist_from_coordinates(lat1, lon1, lat2, lon2)  #get the distance\n",
    "  new_column.append(value)   #append the empty list with distance values\n",
    "\n",
    "test_set.insert(4,\"distance\",new_column)"
   ]
  },
  {
   "cell_type": "code",
   "execution_count": null,
   "metadata": {
    "colab": {},
    "colab_type": "code",
    "id": "fhGdrT68P7u0"
   },
   "outputs": [],
   "source": [
    "test_set['time_driven'] = test_set['duration']  - test_set['meter_waiting']"
   ]
  },
  {
   "cell_type": "code",
   "execution_count": null,
   "metadata": {
    "colab": {},
    "colab_type": "code",
    "id": "0T1ZhNq4QCFr"
   },
   "outputs": [],
   "source": [
    "chargeperhours = []\n",
    "for index,row in test_set.iterrows():\n",
    "    if(row['meter_waiting'] == 0):\n",
    "        chargeperhour = np.nan\n",
    "    else:\n",
    "        chargeperhour = (row['meter_waiting_fare'] / row['meter_waiting'] * 3600)\n",
    "    chargeperhours.append(chargeperhour)\n",
    "\n",
    "test_set.insert(4,'charge_per_hour',chargeperhours)\n"
   ]
  },
  {
   "cell_type": "code",
   "execution_count": null,
   "metadata": {
    "colab": {},
    "colab_type": "code",
    "id": "stlHhBUcQHPO"
   },
   "outputs": [],
   "source": [
    "test_set['driving_fare'] = test_set['fare']  - test_set['meter_waiting_fare'] - test_set['additional_fare']"
   ]
  },
  {
   "cell_type": "code",
   "execution_count": null,
   "metadata": {
    "colab": {},
    "colab_type": "code",
    "id": "3swRfBdUQPab"
   },
   "outputs": [],
   "source": [
    "avgspeeds = []\n",
    "for index,row in test_set.iterrows():\n",
    "    if(row['time_driven'] == 0):\n",
    "        avgspeed = np.nan    \n",
    "    else:\n",
    "        avgspeed = (row['distance'] / row['time_driven'] * 3600)\n",
    "    avgspeeds.append(avgspeed)\n",
    "\n",
    "test_set.insert(4,\"avg_speed\",avgspeeds)\n",
    "\n"
   ]
  },
  {
   "cell_type": "code",
   "execution_count": null,
   "metadata": {
    "colab": {},
    "colab_type": "code",
    "id": "CbN5feh0QWAF"
   },
   "outputs": [],
   "source": [
    "costsperkm = []\n",
    "for index,row in test_set.iterrows():\n",
    "    if row['distance'] == 0:\n",
    "        costperkm = np.nan\n",
    "            \n",
    "    else:\n",
    "        costperkm = (row['driving_fare'] / row['distance'])\n",
    "    costsperkm.append(costperkm)\n",
    "\n",
    "test_set.insert(4,\"cost_per_km\",costsperkm)"
   ]
  },
  {
   "cell_type": "markdown",
   "metadata": {
    "colab_type": "text",
    "id": "UIc1BoqPYu1Y"
   },
   "source": [
    "<h2>Adding cluster labels to test dataset</h2>"
   ]
  },
  {
   "cell_type": "code",
   "execution_count": null,
   "metadata": {
    "colab": {},
    "colab_type": "code",
    "id": "97YY0v6aQ1aC"
   },
   "outputs": [],
   "source": [
    "test_set['pickup_cluster_label'] = result_t601['cluster'][17176:17176 + 8576 ].values.tolist()\n",
    "#test_set['drop_cluster_label'] = result_t601['cluster'][17176*2 + 8576: 2*(17176+8576) ].values.tolist()"
   ]
  },
  {
   "cell_type": "code",
   "execution_count": null,
   "metadata": {
    "colab": {},
    "colab_type": "code",
    "id": "AKRWImT9-bM3"
   },
   "outputs": [],
   "source": [
    "test_set['pickup_cluster_label'] = test_set['pickup_cluster_label']  + 1\n",
    "test_set['pickup_cluster_label'] = test_set['pickup_cluster_label'].astype(str)"
   ]
  },
  {
   "cell_type": "code",
   "execution_count": null,
   "metadata": {
    "colab": {},
    "colab_type": "code",
    "id": "G8siIDy9_D2I"
   },
   "outputs": [],
   "source": [
    "test_features = test_set[training_columns]"
   ]
  },
  {
   "cell_type": "code",
   "execution_count": null,
   "metadata": {
    "colab": {
     "base_uri": "https://localhost:8080/",
     "height": 470
    },
    "colab_type": "code",
    "executionInfo": {
     "elapsed": 1146,
     "status": "ok",
     "timestamp": 1591687660127,
     "user": {
      "displayName": "Ranika Madurawe",
      "photoUrl": "",
      "userId": "08934122972253344059"
     },
     "user_tz": -330
    },
    "id": "yeY6E7StxBRG",
    "outputId": "9421d5b9-1960-4898-a0c1-89889797123d"
   },
   "outputs": [
    {
     "data": {
      "text/html": [
       "<div>\n",
       "<style scoped>\n",
       "    .dataframe tbody tr th:only-of-type {\n",
       "        vertical-align: middle;\n",
       "    }\n",
       "\n",
       "    .dataframe tbody tr th {\n",
       "        vertical-align: top;\n",
       "    }\n",
       "\n",
       "    .dataframe thead th {\n",
       "        text-align: right;\n",
       "    }\n",
       "</style>\n",
       "<table border=\"1\" class=\"dataframe\">\n",
       "  <thead>\n",
       "    <tr style=\"text-align: right;\">\n",
       "      <th></th>\n",
       "      <th>meter_waiting</th>\n",
       "      <th>meter_waiting_fare</th>\n",
       "      <th>fare</th>\n",
       "      <th>additional_fare</th>\n",
       "      <th>distance</th>\n",
       "      <th>cost_per_km</th>\n",
       "      <th>avg_speed</th>\n",
       "      <th>time_dif</th>\n",
       "      <th>time_driven</th>\n",
       "      <th>charge_per_hour</th>\n",
       "      <th>driving_fare</th>\n",
       "      <th>isNormalCharge</th>\n",
       "      <th>pick_lat</th>\n",
       "      <th>pick_lon</th>\n",
       "      <th>drop_lat</th>\n",
       "      <th>drop_lon</th>\n",
       "      <th>pickup_cluster_label</th>\n",
       "    </tr>\n",
       "    <tr>\n",
       "      <th>tripid</th>\n",
       "      <th></th>\n",
       "      <th></th>\n",
       "      <th></th>\n",
       "      <th></th>\n",
       "      <th></th>\n",
       "      <th></th>\n",
       "      <th></th>\n",
       "      <th></th>\n",
       "      <th></th>\n",
       "      <th></th>\n",
       "      <th></th>\n",
       "      <th></th>\n",
       "      <th></th>\n",
       "      <th></th>\n",
       "      <th></th>\n",
       "      <th></th>\n",
       "      <th></th>\n",
       "    </tr>\n",
       "  </thead>\n",
       "  <tbody>\n",
       "    <tr>\n",
       "      <th>213284604</th>\n",
       "      <td>42</td>\n",
       "      <td>2.44860</td>\n",
       "      <td>289.27</td>\n",
       "      <td>10.5</td>\n",
       "      <td>6.705702</td>\n",
       "      <td>41.206933</td>\n",
       "      <td>27.370211</td>\n",
       "      <td>924</td>\n",
       "      <td>882</td>\n",
       "      <td>209.880000</td>\n",
       "      <td>276.32140</td>\n",
       "      <td>0.0</td>\n",
       "      <td>6.83454</td>\n",
       "      <td>79.8750</td>\n",
       "      <td>6.77490</td>\n",
       "      <td>79.8840</td>\n",
       "      <td>2</td>\n",
       "    </tr>\n",
       "    <tr>\n",
       "      <th>213286352</th>\n",
       "      <td>20</td>\n",
       "      <td>0.00000</td>\n",
       "      <td>1912.70</td>\n",
       "      <td>10.5</td>\n",
       "      <td>41.558513</td>\n",
       "      <td>45.771609</td>\n",
       "      <td>35.377311</td>\n",
       "      <td>4249</td>\n",
       "      <td>4229</td>\n",
       "      <td>0.000000</td>\n",
       "      <td>1902.20000</td>\n",
       "      <td>0.0</td>\n",
       "      <td>6.91168</td>\n",
       "      <td>79.8723</td>\n",
       "      <td>6.55091</td>\n",
       "      <td>79.9706</td>\n",
       "      <td>2</td>\n",
       "    </tr>\n",
       "    <tr>\n",
       "      <th>213293973</th>\n",
       "      <td>255</td>\n",
       "      <td>2.65880</td>\n",
       "      <td>394.00</td>\n",
       "      <td>10.5</td>\n",
       "      <td>5.916678</td>\n",
       "      <td>64.367402</td>\n",
       "      <td>16.422545</td>\n",
       "      <td>1552</td>\n",
       "      <td>1297</td>\n",
       "      <td>37.536000</td>\n",
       "      <td>380.84120</td>\n",
       "      <td>0.0</td>\n",
       "      <td>6.92145</td>\n",
       "      <td>79.8478</td>\n",
       "      <td>6.90539</td>\n",
       "      <td>79.8989</td>\n",
       "      <td>64</td>\n",
       "    </tr>\n",
       "    <tr>\n",
       "      <th>213294622</th>\n",
       "      <td>16</td>\n",
       "      <td>0.00000</td>\n",
       "      <td>154.32</td>\n",
       "      <td>10.5</td>\n",
       "      <td>3.301761</td>\n",
       "      <td>43.558571</td>\n",
       "      <td>26.650987</td>\n",
       "      <td>462</td>\n",
       "      <td>446</td>\n",
       "      <td>0.000000</td>\n",
       "      <td>143.82000</td>\n",
       "      <td>0.0</td>\n",
       "      <td>6.77433</td>\n",
       "      <td>79.9416</td>\n",
       "      <td>6.80401</td>\n",
       "      <td>79.9407</td>\n",
       "      <td>0</td>\n",
       "    </tr>\n",
       "    <tr>\n",
       "      <th>213298687</th>\n",
       "      <td>392</td>\n",
       "      <td>12.36920</td>\n",
       "      <td>147.47</td>\n",
       "      <td>10.5</td>\n",
       "      <td>2.588542</td>\n",
       "      <td>48.135517</td>\n",
       "      <td>22.082347</td>\n",
       "      <td>814</td>\n",
       "      <td>422</td>\n",
       "      <td>113.594694</td>\n",
       "      <td>124.60080</td>\n",
       "      <td>0.0</td>\n",
       "      <td>6.97968</td>\n",
       "      <td>79.9130</td>\n",
       "      <td>6.98875</td>\n",
       "      <td>79.8914</td>\n",
       "      <td>3</td>\n",
       "    </tr>\n",
       "    <tr>\n",
       "      <th>...</th>\n",
       "      <td>...</td>\n",
       "      <td>...</td>\n",
       "      <td>...</td>\n",
       "      <td>...</td>\n",
       "      <td>...</td>\n",
       "      <td>...</td>\n",
       "      <td>...</td>\n",
       "      <td>...</td>\n",
       "      <td>...</td>\n",
       "      <td>...</td>\n",
       "      <td>...</td>\n",
       "      <td>...</td>\n",
       "      <td>...</td>\n",
       "      <td>...</td>\n",
       "      <td>...</td>\n",
       "      <td>...</td>\n",
       "      <td>...</td>\n",
       "    </tr>\n",
       "    <tr>\n",
       "      <th>222856243</th>\n",
       "      <td>429</td>\n",
       "      <td>24.83332</td>\n",
       "      <td>388.48</td>\n",
       "      <td>10.5</td>\n",
       "      <td>3.934272</td>\n",
       "      <td>89.761643</td>\n",
       "      <td>10.945423</td>\n",
       "      <td>1723</td>\n",
       "      <td>1294</td>\n",
       "      <td>208.391497</td>\n",
       "      <td>353.14668</td>\n",
       "      <td>0.0</td>\n",
       "      <td>6.85103</td>\n",
       "      <td>79.9567</td>\n",
       "      <td>6.85588</td>\n",
       "      <td>79.9214</td>\n",
       "      <td>3</td>\n",
       "    </tr>\n",
       "    <tr>\n",
       "      <th>222857785</th>\n",
       "      <td>80</td>\n",
       "      <td>0.00000</td>\n",
       "      <td>379.85</td>\n",
       "      <td>10.5</td>\n",
       "      <td>7.517433</td>\n",
       "      <td>49.132466</td>\n",
       "      <td>20.849582</td>\n",
       "      <td>1378</td>\n",
       "      <td>1298</td>\n",
       "      <td>0.000000</td>\n",
       "      <td>369.35000</td>\n",
       "      <td>0.0</td>\n",
       "      <td>6.91293</td>\n",
       "      <td>79.9656</td>\n",
       "      <td>6.92112</td>\n",
       "      <td>79.8980</td>\n",
       "      <td>0</td>\n",
       "    </tr>\n",
       "    <tr>\n",
       "      <th>222858416</th>\n",
       "      <td>56</td>\n",
       "      <td>3.28440</td>\n",
       "      <td>112.79</td>\n",
       "      <td>10.5</td>\n",
       "      <td>2.057225</td>\n",
       "      <td>48.125809</td>\n",
       "      <td>20.458588</td>\n",
       "      <td>418</td>\n",
       "      <td>362</td>\n",
       "      <td>211.140000</td>\n",
       "      <td>99.00560</td>\n",
       "      <td>0.0</td>\n",
       "      <td>6.85718</td>\n",
       "      <td>79.9081</td>\n",
       "      <td>6.83868</td>\n",
       "      <td>79.9083</td>\n",
       "      <td>3</td>\n",
       "    </tr>\n",
       "    <tr>\n",
       "      <th>222858691</th>\n",
       "      <td>548</td>\n",
       "      <td>31.67440</td>\n",
       "      <td>248.46</td>\n",
       "      <td>10.5</td>\n",
       "      <td>3.900888</td>\n",
       "      <td>52.881696</td>\n",
       "      <td>13.298484</td>\n",
       "      <td>1604</td>\n",
       "      <td>1056</td>\n",
       "      <td>208.080000</td>\n",
       "      <td>206.28560</td>\n",
       "      <td>0.0</td>\n",
       "      <td>6.91289</td>\n",
       "      <td>79.8846</td>\n",
       "      <td>6.93159</td>\n",
       "      <td>79.9145</td>\n",
       "      <td>3</td>\n",
       "    </tr>\n",
       "    <tr>\n",
       "      <th>222860703</th>\n",
       "      <td>691</td>\n",
       "      <td>32.88820</td>\n",
       "      <td>339.63</td>\n",
       "      <td>10.5</td>\n",
       "      <td>5.435270</td>\n",
       "      <td>54.503603</td>\n",
       "      <td>19.430955</td>\n",
       "      <td>1698</td>\n",
       "      <td>1007</td>\n",
       "      <td>171.342287</td>\n",
       "      <td>296.24180</td>\n",
       "      <td>0.0</td>\n",
       "      <td>6.91682</td>\n",
       "      <td>79.9192</td>\n",
       "      <td>6.87020</td>\n",
       "      <td>79.9340</td>\n",
       "      <td>3</td>\n",
       "    </tr>\n",
       "  </tbody>\n",
       "</table>\n",
       "<p>8576 rows × 17 columns</p>\n",
       "</div>"
      ],
      "text/plain": [
       "           meter_waiting  meter_waiting_fare  ...  drop_lon  pickup_cluster_label\n",
       "tripid                                        ...                                \n",
       "213284604             42             2.44860  ...   79.8840                     2\n",
       "213286352             20             0.00000  ...   79.9706                     2\n",
       "213293973            255             2.65880  ...   79.8989                    64\n",
       "213294622             16             0.00000  ...   79.9407                     0\n",
       "213298687            392            12.36920  ...   79.8914                     3\n",
       "...                  ...                 ...  ...       ...                   ...\n",
       "222856243            429            24.83332  ...   79.9214                     3\n",
       "222857785             80             0.00000  ...   79.8980                     0\n",
       "222858416             56             3.28440  ...   79.9083                     3\n",
       "222858691            548            31.67440  ...   79.9145                     3\n",
       "222860703            691            32.88820  ...   79.9340                     3\n",
       "\n",
       "[8576 rows x 17 columns]"
      ]
     },
     "execution_count": 68,
     "metadata": {
      "tags": []
     },
     "output_type": "execute_result"
    }
   ],
   "source": [
    "test_features"
   ]
  },
  {
   "cell_type": "markdown",
   "metadata": {
    "colab_type": "text",
    "id": "PGsxuXkNYu1i"
   },
   "source": [
    "<h2>Prediction using trained model</h2>"
   ]
  },
  {
   "cell_type": "code",
   "execution_count": null,
   "metadata": {
    "colab": {},
    "colab_type": "code",
    "id": "MeqI1BVR_Fpl"
   },
   "outputs": [],
   "source": [
    "predicted_labels = model.predict(test_features)"
   ]
  },
  {
   "cell_type": "code",
   "execution_count": null,
   "metadata": {
    "colab": {},
    "colab_type": "code",
    "id": "ikaJ4uRmQ1aO"
   },
   "outputs": [],
   "source": [
    "predicted_labels_df = pd.DataFrame(predicted_labels )"
   ]
  },
  {
   "cell_type": "code",
   "execution_count": null,
   "metadata": {
    "colab": {},
    "colab_type": "code",
    "id": "qqHn12X6_Gvf"
   },
   "outputs": [],
   "source": [
    "sub_path =os.path.abspath(os.path.join(os.path.dirname(\"__file__\"), '..', '/content/drive/My Drive/datasets/sample_submission.csv'))\n",
    "submission_set = pd.read_csv(sub_path)"
   ]
  },
  {
   "cell_type": "code",
   "execution_count": null,
   "metadata": {
    "colab": {},
    "colab_type": "code",
    "id": "8Ji-pVGy_H3c"
   },
   "outputs": [],
   "source": [
    "submission_set['prediction']= predicted_labels_df.values[:,0]"
   ]
  },
  {
   "cell_type": "markdown",
   "metadata": {
    "colab_type": "text",
    "id": "Xqg97phtYu1y"
   },
   "source": [
    "<h2>Submission file generation</h2>"
   ]
  },
  {
   "cell_type": "code",
   "execution_count": null,
   "metadata": {
    "colab": {},
    "colab_type": "code",
    "id": "ObyeCtp9Q1aX"
   },
   "outputs": [],
   "source": [
    "theNotebook = \"dbscan_only_pickup_cat\""
   ]
  },
  {
   "cell_type": "code",
   "execution_count": null,
   "metadata": {
    "colab": {
     "base_uri": "https://localhost:8080/",
     "height": 34
    },
    "colab_type": "code",
    "executionInfo": {
     "elapsed": 813,
     "status": "ok",
     "timestamp": 1591687681380,
     "user": {
      "displayName": "Ranika Madurawe",
      "photoUrl": "",
      "userId": "08934122972253344059"
     },
     "user_tz": -330
    },
    "id": "U6dGilvv_JLl",
    "outputId": "10c5fdd3-f850-4312-e344-3fc937b8b8cd"
   },
   "outputs": [
    {
     "name": "stdout",
     "output_type": "stream",
     "text": [
      "Completed!\n"
     ]
    }
   ],
   "source": [
    "filename = '/content/drive/My Drive/datasets/'+theNotebook+'/'+theNotebook+'_{%i}.csv'\n",
    "dirname = '/content/drive/My Drive/datasets/'+theNotebook\n",
    "fileversion = 1\n",
    "\n",
    "if not os.path.exists(dirname):\n",
    "    os.makedirs(dirname)\n",
    "while glob.glob(filename.replace('{%i}',str(fileversion))) :\n",
    "    fileversion+=1\n",
    "submission_set.to_csv(filename.replace('{%i}',str(fileversion)), index=False)\n",
    "print(\"Completed!\")"
   ]
  },
  {
   "cell_type": "code",
   "execution_count": null,
   "metadata": {
    "colab": {
     "base_uri": "https://localhost:8080/",
     "height": 68
    },
    "colab_type": "code",
    "executionInfo": {
     "elapsed": 1117,
     "status": "ok",
     "timestamp": 1591687684375,
     "user": {
      "displayName": "Ranika Madurawe",
      "photoUrl": "",
      "userId": "08934122972253344059"
     },
     "user_tz": -330
    },
    "id": "cg-I13X0_Q0d",
    "outputId": "969b596e-a361-4d87-c046-d100b43dfb16"
   },
   "outputs": [
    {
     "data": {
      "text/plain": [
       "1    8117\n",
       "0     459\n",
       "Name: prediction, dtype: int64"
      ]
     },
     "execution_count": 75,
     "metadata": {
      "tags": []
     },
     "output_type": "execute_result"
    }
   ],
   "source": [
    "submission_set['prediction'].value_counts()"
   ]
  }
 ],
 "metadata": {
  "colab": {
   "collapsed_sections": [],
   "name": "CATBOOST+ KFold- BEST - all data - temporal + geolocation DBSCAN using the same clusterer.ipynb",
   "provenance": []
  },
  "kernelspec": {
   "display_name": "Python 3",
   "language": "python",
   "name": "python3"
  },
  "language_info": {
   "codemirror_mode": {
    "name": "ipython",
    "version": 3
   },
   "file_extension": ".py",
   "mimetype": "text/x-python",
   "name": "python",
   "nbconvert_exporter": "python",
   "pygments_lexer": "ipython3",
   "version": "3.6.9"
  }
 },
 "nbformat": 4,
 "nbformat_minor": 1
}
