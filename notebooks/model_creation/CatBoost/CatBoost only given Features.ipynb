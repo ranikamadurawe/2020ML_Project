{
 "cells": [
  {
   "cell_type": "markdown",
   "metadata": {},
   "source": [
    "<b>PLEASE NOTE THAT THIS NOTEBOOK WAS RUN IN GOOGLE COLAB AS SUCH CERTAIN IMPORT STATEMENTS MAY DIFFER</b>"
   ]
  },
  {
   "cell_type": "code",
   "execution_count": 0,
   "metadata": {
    "colab": {
     "base_uri": "https://localhost:8080/",
     "height": 274
    },
    "colab_type": "code",
    "executionInfo": {
     "elapsed": 11478,
     "status": "ok",
     "timestamp": 1588616540375,
     "user": {
      "displayName": "Ranika Madurawe",
      "photoUrl": "",
      "userId": "08934122972253344059"
     },
     "user_tz": -330
    },
    "id": "jvJPwaTRzXZL",
    "outputId": "91a1ac8a-de88-486a-9a2d-553081ae4814"
   },
   "outputs": [
    {
     "name": "stdout",
     "output_type": "stream",
     "text": [
      "Requirement already satisfied: catboost in /usr/local/lib/python3.6/dist-packages (0.23)\n",
      "Requirement already satisfied: plotly in /usr/local/lib/python3.6/dist-packages (from catboost) (4.4.1)\n",
      "Requirement already satisfied: pandas>=0.24.0 in /usr/local/lib/python3.6/dist-packages (from catboost) (1.0.3)\n",
      "Requirement already satisfied: scipy in /usr/local/lib/python3.6/dist-packages (from catboost) (1.4.1)\n",
      "Requirement already satisfied: six in /usr/local/lib/python3.6/dist-packages (from catboost) (1.12.0)\n",
      "Requirement already satisfied: matplotlib in /usr/local/lib/python3.6/dist-packages (from catboost) (3.2.1)\n",
      "Requirement already satisfied: graphviz in /usr/local/lib/python3.6/dist-packages (from catboost) (0.10.1)\n",
      "Requirement already satisfied: numpy>=1.16.0 in /usr/local/lib/python3.6/dist-packages (from catboost) (1.18.3)\n",
      "Requirement already satisfied: retrying>=1.3.3 in /usr/local/lib/python3.6/dist-packages (from plotly->catboost) (1.3.3)\n",
      "Requirement already satisfied: pytz>=2017.2 in /usr/local/lib/python3.6/dist-packages (from pandas>=0.24.0->catboost) (2018.9)\n",
      "Requirement already satisfied: python-dateutil>=2.6.1 in /usr/local/lib/python3.6/dist-packages (from pandas>=0.24.0->catboost) (2.8.1)\n",
      "Requirement already satisfied: kiwisolver>=1.0.1 in /usr/local/lib/python3.6/dist-packages (from matplotlib->catboost) (1.2.0)\n",
      "Requirement already satisfied: cycler>=0.10 in /usr/local/lib/python3.6/dist-packages (from matplotlib->catboost) (0.10.0)\n",
      "Requirement already satisfied: pyparsing!=2.0.4,!=2.1.2,!=2.1.6,>=2.0.1 in /usr/local/lib/python3.6/dist-packages (from matplotlib->catboost) (2.4.7)\n"
     ]
    }
   ],
   "source": [
    "!pip install catboost"
   ]
  },
  {
   "cell_type": "code",
   "execution_count": 0,
   "metadata": {
    "colab": {},
    "colab_type": "code",
    "id": "Kz524EcJzG4g"
   },
   "outputs": [],
   "source": [
    "from catboost import CatBoostClassifier\n",
    "import numpy as np\n",
    "import pandas as pd\n",
    "import lightgbm\n",
    "from sklearn.model_selection import train_test_split\n",
    "from sklearn.preprocessing import LabelBinarizer\n",
    "import math\n",
    "from sklearn import metrics"
   ]
  },
  {
   "cell_type": "code",
   "execution_count": 0,
   "metadata": {
    "colab": {
     "base_uri": "https://localhost:8080/",
     "height": 35
    },
    "colab_type": "code",
    "executionInfo": {
     "elapsed": 1940,
     "status": "ok",
     "timestamp": 1588616542333,
     "user": {
      "displayName": "Ranika Madurawe",
      "photoUrl": "",
      "userId": "08934122972253344059"
     },
     "user_tz": -330
    },
    "id": "fa3gM9J8zKEw",
    "outputId": "775a8cc3-9f7e-4078-f2dc-a7fb579cc4df"
   },
   "outputs": [
    {
     "name": "stdout",
     "output_type": "stream",
     "text": [
      "Drive already mounted at /content/drive; to attempt to forcibly remount, call drive.mount(\"/content/drive\", force_remount=True).\n"
     ]
    }
   ],
   "source": [
    "from google.colab import drive\n",
    "drive.mount('/content/drive')"
   ]
  },
  {
   "cell_type": "code",
   "execution_count": 0,
   "metadata": {
    "colab": {},
    "colab_type": "code",
    "id": "v4b2t7snzLzK"
   },
   "outputs": [],
   "source": [
    "import os\n",
    "train_path=os.path.abspath(os.path.join(os.path.dirname(\"__file__\"), '..', '/content/drive/My Drive/datasets/train.csv'))\n",
    "training_df = pd.read_csv(train_path, index_col=\"tripid\")"
   ]
  },
  {
   "cell_type": "code",
   "execution_count": 0,
   "metadata": {
    "colab": {},
    "colab_type": "code",
    "id": "A_oQYFNpz0FK"
   },
   "outputs": [],
   "source": [
    "training_df = training_df.replace({'label': {'incorrect': 0, 'correct' : 1}})"
   ]
  },
  {
   "cell_type": "code",
   "execution_count": 0,
   "metadata": {
    "colab": {},
    "colab_type": "code",
    "id": "wMBX7Zclz2EX"
   },
   "outputs": [],
   "source": [
    "training_columns = ['duration','meter_waiting','meter_waiting_fare','fare','additional_fare']"
   ]
  },
  {
   "cell_type": "code",
   "execution_count": 0,
   "metadata": {
    "colab": {},
    "colab_type": "code",
    "id": "L-st3l_Fz27o"
   },
   "outputs": [],
   "source": [
    "target_column = ['label']"
   ]
  },
  {
   "cell_type": "code",
   "execution_count": 0,
   "metadata": {
    "colab": {},
    "colab_type": "code",
    "id": "sA0WY7slz483"
   },
   "outputs": [],
   "source": [
    "x = training_df[training_columns].values\n",
    "y = training_df[target_column].values"
   ]
  },
  {
   "cell_type": "code",
   "execution_count": 0,
   "metadata": {
    "colab": {},
    "colab_type": "code",
    "id": "yZXEZETMz6fm"
   },
   "outputs": [],
   "source": [
    "x, x_test, y, y_test = train_test_split(x, y, test_size=0.3, random_state=42, stratify=y)"
   ]
  },
  {
   "cell_type": "code",
   "execution_count": 0,
   "metadata": {
    "colab": {},
    "colab_type": "code",
    "id": "frw6igduzv0s"
   },
   "outputs": [],
   "source": [
    "from catboost import CatBoostClassifier\n",
    "\n",
    "\n",
    "model = CatBoostClassifier(verbose=True,\n",
    "                           loss_function='CrossEntropy',\n",
    "                           iterations=10000, \n",
    "                           eval_metric='F1',\n",
    "                           devices='0:1')\n"
   ]
  },
  {
   "cell_type": "code",
   "execution_count": 0,
   "metadata": {
    "colab": {},
    "colab_type": "code",
    "id": "uqCzR2w77OSC"
   },
   "outputs": [],
   "source": [
    "model.fit(x,y)"
   ]
  },
  {
   "cell_type": "code",
   "execution_count": 0,
   "metadata": {
    "colab": {},
    "colab_type": "code",
    "id": "7CJ3Myik37na"
   },
   "outputs": [],
   "source": [
    "predicted_y = model.predict(x_test)"
   ]
  },
  {
   "cell_type": "code",
   "execution_count": 0,
   "metadata": {
    "colab": {
     "base_uri": "https://localhost:8080/",
     "height": 256
    },
    "colab_type": "code",
    "executionInfo": {
     "elapsed": 2620,
     "status": "ok",
     "timestamp": 1588616952118,
     "user": {
      "displayName": "Ranika Madurawe",
      "photoUrl": "",
      "userId": "08934122972253344059"
     },
     "user_tz": -330
    },
    "id": "UN8LqQIa4D7z",
    "outputId": "947f6db1-fe1c-4e3c-bff7-db87fd0cba7d"
   },
   "outputs": [
    {
     "name": "stdout",
     "output_type": "stream",
     "text": [
      "\n",
      "              precision    recall  f1-score   support\n",
      "\n",
      "           0       0.80      0.62      0.70       504\n",
      "           1       0.96      0.98      0.97      4649\n",
      "\n",
      "    accuracy                           0.95      5153\n",
      "   macro avg       0.88      0.80      0.84      5153\n",
      "weighted avg       0.94      0.95      0.94      5153\n",
      "\n",
      "\n",
      "[[ 313  191]\n",
      " [  78 4571]]\n"
     ]
    }
   ],
   "source": [
    "print(); print(metrics.classification_report(y_test, predicted_y))\n",
    "print(); print(metrics.confusion_matrix(y_test, predicted_y))"
   ]
  },
  {
   "cell_type": "code",
   "execution_count": 0,
   "metadata": {
    "colab": {},
    "colab_type": "code",
    "id": "3WIMZERB6XEi"
   },
   "outputs": [],
   "source": [
    "\n",
    "test_path =os.path.abspath(os.path.join(os.path.dirname(\"__file__\"), '..', '/content/drive/My Drive/datasets/test.csv'))\n",
    "test_set = pd.read_csv(test_path, index_col=\"tripid\")\n",
    "\n"
   ]
  },
  {
   "cell_type": "code",
   "execution_count": 0,
   "metadata": {
    "colab": {},
    "colab_type": "code",
    "id": "x4Vj82To9oa9"
   },
   "outputs": [],
   "source": [
    "test_features = test_set[training_columns]"
   ]
  },
  {
   "cell_type": "code",
   "execution_count": 0,
   "metadata": {
    "colab": {},
    "colab_type": "code",
    "id": "wsLTsKmR9u-x"
   },
   "outputs": [],
   "source": [
    "predicted_labels = model.predict(test_features)"
   ]
  },
  {
   "cell_type": "code",
   "execution_count": 0,
   "metadata": {
    "colab": {},
    "colab_type": "code",
    "id": "fch60m2590Zm"
   },
   "outputs": [],
   "source": [
    "sub_path =os.path.abspath(os.path.join(os.path.dirname(\"__file__\"), '..', '/content/drive/My Drive/datasets/sample_submission.csv'))\n",
    "submission_set = pd.read_csv(sub_path, index_col=\"tripid\")"
   ]
  },
  {
   "cell_type": "code",
   "execution_count": 0,
   "metadata": {
    "colab": {},
    "colab_type": "code",
    "id": "AZX0_zdy-Iae"
   },
   "outputs": [],
   "source": [
    "submission_set['prediction']= predicted_labels"
   ]
  },
  {
   "cell_type": "code",
   "execution_count": 0,
   "metadata": {
    "colab": {
     "base_uri": "https://localhost:8080/",
     "height": 35
    },
    "colab_type": "code",
    "executionInfo": {
     "elapsed": 3296,
     "status": "ok",
     "timestamp": 1588617462658,
     "user": {
      "displayName": "Ranika Madurawe",
      "photoUrl": "",
      "userId": "08934122972253344059"
     },
     "user_tz": -330
    },
    "id": "d3nHQfKS-L_O",
    "outputId": "787eb7a5-5934-46ab-d84c-0980357d0714"
   },
   "outputs": [
    {
     "name": "stdout",
     "output_type": "stream",
     "text": [
      "Completed!\n"
     ]
    }
   ],
   "source": [
    "import glob\n",
    "\n",
    "filename = '/content/drive/My Drive/datasets/cat/cat_{%i}.csv'\n",
    "dirname = '/content/drive/My Drive/datasets/cat/'\n",
    "fileversion = 1\n",
    "\n",
    "if not os.path.exists(dirname):\n",
    "    os.makedirs(dirname)\n",
    "while glob.glob(filename.replace('{%i}',str(fileversion))) :\n",
    "    fileversion+=1\n",
    "submission_set.to_csv(filename.replace('{%i}',str(fileversion)), index=True)\n",
    "print(\"Completed!\")\n",
    "\n"
   ]
  },
  {
   "cell_type": "code",
   "execution_count": 0,
   "metadata": {
    "colab": {
     "base_uri": "https://localhost:8080/",
     "height": 35
    },
    "colab_type": "code",
    "executionInfo": {
     "elapsed": 2042,
     "status": "ok",
     "timestamp": 1588617484774,
     "user": {
      "displayName": "Ranika Madurawe",
      "photoUrl": "",
      "userId": "08934122972253344059"
     },
     "user_tz": -330
    },
    "id": "tiF6yPkq-Oti",
    "outputId": "3de14910-ae88-4e97-bfbc-749d2a876b4e"
   },
   "outputs": [
    {
     "data": {
      "text/plain": [
       "213299545"
      ]
     },
     "execution_count": 64,
     "metadata": {
      "tags": []
     },
     "output_type": "execute_result"
    }
   ],
   "source": [
    "submission_set['prediction'].idxmin()"
   ]
  },
  {
   "cell_type": "code",
   "execution_count": 0,
   "metadata": {
    "colab": {
     "base_uri": "https://localhost:8080/",
     "height": 72
    },
    "colab_type": "code",
    "executionInfo": {
     "elapsed": 1838,
     "status": "ok",
     "timestamp": 1588617499026,
     "user": {
      "displayName": "Ranika Madurawe",
      "photoUrl": "",
      "userId": "08934122972253344059"
     },
     "user_tz": -330
    },
    "id": "NzlAHfv3-xUf",
    "outputId": "015ea4ab-b732-4b50-a8a3-5b273637d03a"
   },
   "outputs": [
    {
     "data": {
      "text/plain": [
       "1    8101\n",
       "0     475\n",
       "Name: prediction, dtype: int64"
      ]
     },
     "execution_count": 65,
     "metadata": {
      "tags": []
     },
     "output_type": "execute_result"
    }
   ],
   "source": [
    "submission_set['prediction'].value_counts()"
   ]
  }
 ],
 "metadata": {
  "accelerator": "GPU",
  "colab": {
   "authorship_tag": "ABX9TyM7dkLjdmCpeRaQ70pjMIiG",
   "collapsed_sections": [],
   "name": "CatBoost only given Features",
   "provenance": []
  },
  "kernelspec": {
   "display_name": "Python 3",
   "language": "python",
   "name": "python3"
  },
  "language_info": {
   "codemirror_mode": {
    "name": "ipython",
    "version": 3
   },
   "file_extension": ".py",
   "mimetype": "text/x-python",
   "name": "python",
   "nbconvert_exporter": "python",
   "pygments_lexer": "ipython3",
   "version": "3.6.9"
  }
 },
 "nbformat": 4,
 "nbformat_minor": 1
}
