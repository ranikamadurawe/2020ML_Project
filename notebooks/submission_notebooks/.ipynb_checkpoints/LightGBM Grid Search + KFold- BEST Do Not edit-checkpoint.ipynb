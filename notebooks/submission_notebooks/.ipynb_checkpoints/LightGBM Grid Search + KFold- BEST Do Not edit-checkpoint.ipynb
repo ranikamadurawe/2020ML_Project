{
 "cells": [
  {
   "cell_type": "markdown",
   "metadata": {},
   "source": [
    "<h1>Initial Setup</h1>"
   ]
  },
  {
   "cell_type": "markdown",
   "metadata": {},
   "source": [
    "<h2>Import Packages</h2>"
   ]
  },
  {
   "cell_type": "code",
   "execution_count": 1,
   "metadata": {
    "colab": {},
    "colab_type": "code",
    "id": "6BY0u5O7qfR1"
   },
   "outputs": [],
   "source": [
    "import numpy as np\n",
    "import pandas as pd\n",
    "import lightgbm\n",
    "from sklearn.model_selection import train_test_split\n",
    "from sklearn.preprocessing import LabelBinarizer\n",
    "import math\n",
    "from sklearn import metrics\n",
    "from sklearn.model_selection import RandomizedSearchCV, GridSearchCV\n",
    "from sklearn.model_selection import KFold, StratifiedKFold\n",
    "import matplotlib.pyplot as plt\n",
    "import os\n",
    "import glob"
   ]
  },
  {
   "cell_type": "markdown",
   "metadata": {},
   "source": [
    "<h2>Loading the Dataset</h2>"
   ]
  },
  {
   "cell_type": "code",
   "execution_count": 2,
   "metadata": {
    "colab": {},
    "colab_type": "code",
    "id": "jaeR-AOtreKu"
   },
   "outputs": [],
   "source": [
    "data_path='/home/madnisal/Documents/ML_Project/datasets/'\n",
    "training_df = pd.read_csv(data_path+'train.csv', index_col=\"tripid\")"
   ]
  },
  {
   "cell_type": "markdown",
   "metadata": {},
   "source": [
    "<h1>Feature Addition</h1>"
   ]
  },
  {
   "cell_type": "code",
   "execution_count": 3,
   "metadata": {
    "colab": {},
    "colab_type": "code",
    "id": "x2_djb9zOwgg"
   },
   "outputs": [],
   "source": [
    "def dist_from_coordinates(lat1, lon1, lat2, lon2):\n",
    "  R = 6371  # Earth radius in km\n",
    "\n",
    "  #conversion to radians\n",
    "  d_lat = np.radians(lat2-lat1)\n",
    "  d_lon = np.radians(lon2-lon1)\n",
    "\n",
    "  r_lat1 = np.radians(lat1)\n",
    "  r_lat2 = np.radians(lat2)\n",
    "\n",
    "  #haversine formula\n",
    "  a = np.sin(d_lat/2.) **2 + np.cos(r_lat1) * np.cos(r_lat2) * np.sin(d_lon/2.)**2\n",
    "\n",
    "  haversine = 2 * R * np.arcsin(np.sqrt(a))\n",
    "\n",
    "  return haversine"
   ]
  },
  {
   "cell_type": "code",
   "execution_count": 4,
   "metadata": {
    "colab": {},
    "colab_type": "code",
    "id": "fZx_Ut6cOzP9"
   },
   "outputs": [],
   "source": [
    "training_df['pickup_time'] = pd.to_datetime(training_df['pickup_time'], format=\"%m/%d/%Y %H:%M\")\n",
    "training_df['drop_time'] = pd.to_datetime(training_df['drop_time'], format=\"%m/%d/%Y %H:%M\")"
   ]
  },
  {
   "cell_type": "code",
   "execution_count": 5,
   "metadata": {
    "colab": {},
    "colab_type": "code",
    "id": "AmRtNkL2O062"
   },
   "outputs": [],
   "source": [
    "training_df = training_df.assign(timeOfDay=pd.cut(training_df.pickup_time.dt.hour,[-1, 8, 20, 24],labels=['dawn','day', 'night']))"
   ]
  },
  {
   "cell_type": "code",
   "execution_count": 6,
   "metadata": {},
   "outputs": [],
   "source": [
    "training_df.loc[training_df['timeOfDay'] == 'day', 'isNormalCharge'] = 1\n",
    "training_df.loc[training_df['timeOfDay'] != 'day', 'isNormalCharge'] = 0"
   ]
  },
  {
   "cell_type": "code",
   "execution_count": 7,
   "metadata": {
    "colab": {},
    "colab_type": "code",
    "id": "q4CFd-NqO2Un"
   },
   "outputs": [],
   "source": [
    "durations = []\n",
    "for index,row in training_df.iterrows():\n",
    "  provided_duration = row['duration'] #first row of location.lat column here\n",
    "  if math.isnan(provided_duration) or provided_duration <= 0 :\n",
    "    time_dif = (row['drop_time'] - row['pickup_time']).seconds\n",
    "    if(time_dif == 0):\n",
    "        time_dif = np.nan\n",
    "    durations.append(time_dif)\n",
    "  else :  \n",
    "    durations.append(provided_duration)\n",
    "\n",
    "training_df.insert(4,\"time_dif\",durations)"
   ]
  },
  {
   "cell_type": "code",
   "execution_count": 8,
   "metadata": {
    "colab": {},
    "colab_type": "code",
    "id": "OKJBD2vsO6bJ"
   },
   "outputs": [],
   "source": [
    "new_column = []                    #empty column for distance\n",
    "for index,row in training_df.iterrows():\n",
    "  lat1 = row['pick_lat'] #first row of location.lat column here\n",
    "  lon1 = row['pick_lon'] #first row of location.long column here\n",
    "  lat2 = row['drop_lat'] #second row of location.lat column here\n",
    "  lon2 = row['drop_lon'] #second row of location.long column here\n",
    "  value = dist_from_coordinates(lat1, lon1, lat2, lon2)  #get the distance\n",
    "  new_column.append(value)   #append the empty list with distance values\n",
    "\n",
    "training_df.insert(4,\"distance\",new_column)"
   ]
  },
  {
   "cell_type": "code",
   "execution_count": 9,
   "metadata": {
    "colab": {},
    "colab_type": "code",
    "id": "EDFvgdsoO8rC"
   },
   "outputs": [],
   "source": [
    "training_df['time_driven'] = training_df['duration']  - training_df['meter_waiting']"
   ]
  },
  {
   "cell_type": "code",
   "execution_count": 10,
   "metadata": {
    "colab": {},
    "colab_type": "code",
    "id": "eQOTKxsNO-CH"
   },
   "outputs": [],
   "source": [
    "chargeperhours = []\n",
    "for index,row in training_df.iterrows():\n",
    "    if(row['meter_waiting'] == 0):\n",
    "        chargeperhour = np.nan\n",
    "    else:\n",
    "        chargeperhour = (row['meter_waiting_fare'] / row['meter_waiting'] * 3600)\n",
    "    chargeperhours.append(chargeperhour)\n",
    "\n",
    "training_df.insert(4,'charge_per_hour',chargeperhours)\n"
   ]
  },
  {
   "cell_type": "code",
   "execution_count": 11,
   "metadata": {
    "colab": {},
    "colab_type": "code",
    "id": "c9OpngXwPAiv"
   },
   "outputs": [],
   "source": [
    "training_df['driving_fare'] = training_df['fare']  - training_df['meter_waiting_fare'] - training_df['additional_fare']"
   ]
  },
  {
   "cell_type": "code",
   "execution_count": 12,
   "metadata": {
    "colab": {},
    "colab_type": "code",
    "id": "ECO9WaT5PB6O"
   },
   "outputs": [],
   "source": [
    "avgspeeds = []\n",
    "for index,row in training_df.iterrows():\n",
    "    if(row['time_driven'] == 0):\n",
    "        avgspeed = np.nan\n",
    "    else:\n",
    "        avgspeed = (row['distance'] / row['time_driven'] * 3600)\n",
    "    avgspeeds.append(avgspeed)\n",
    "\n",
    "training_df.insert(4,\"avg_speed\",avgspeeds)\n",
    "\n"
   ]
  },
  {
   "cell_type": "code",
   "execution_count": 13,
   "metadata": {
    "colab": {},
    "colab_type": "code",
    "id": "j1DDDw52PGUY"
   },
   "outputs": [],
   "source": [
    "costsperkm = []\n",
    "for index,row in training_df.iterrows():\n",
    "    if row['distance'] == 0:\n",
    "        costperkm = np.nan\n",
    "            \n",
    "    else:\n",
    "        costperkm = (row['driving_fare'] / row['distance'])\n",
    "    costsperkm.append(costperkm)\n",
    "\n",
    "training_df.insert(4,\"cost_per_km\",costsperkm)"
   ]
  },
  {
   "cell_type": "code",
   "execution_count": 14,
   "metadata": {
    "colab": {},
    "colab_type": "code",
    "id": "zVsGZhgQrktE"
   },
   "outputs": [],
   "source": [
    "training_df = training_df.replace({'label': {'incorrect': 0, 'correct' : 1}})"
   ]
  },
  {
   "cell_type": "markdown",
   "metadata": {},
   "source": [
    "<h2>Final Feature Selection</h2>"
   ]
  },
  {
   "cell_type": "code",
   "execution_count": 15,
   "metadata": {},
   "outputs": [
    {
     "data": {
      "text/plain": [
       "Index(['additional_fare', 'duration', 'meter_waiting', 'meter_waiting_fare',\n",
       "       'cost_per_km', 'avg_speed', 'charge_per_hour', 'distance', 'time_dif',\n",
       "       'meter_waiting_till_pickup', 'pickup_time', 'drop_time', 'pick_lat',\n",
       "       'pick_lon', 'drop_lat', 'drop_lon', 'fare', 'label', 'timeOfDay',\n",
       "       'isNormalCharge', 'time_driven', 'driving_fare'],\n",
       "      dtype='object')"
      ]
     },
     "execution_count": 15,
     "metadata": {},
     "output_type": "execute_result"
    }
   ],
   "source": [
    "training_df.columns"
   ]
  },
  {
   "cell_type": "code",
   "execution_count": 16,
   "metadata": {},
   "outputs": [],
   "source": [
    "training_columns = ['meter_waiting','meter_waiting_fare','fare','additional_fare', 'distance','cost_per_km', 'avg_speed',  'time_dif','time_driven', 'charge_per_hour', 'driving_fare', 'isNormalCharge','pick_lat','pick_lon','drop_lat','drop_lon']"
   ]
  },
  {
   "cell_type": "code",
   "execution_count": 17,
   "metadata": {
    "colab": {},
    "colab_type": "code",
    "id": "tnbpcAUqruuZ"
   },
   "outputs": [],
   "source": [
    "target_column = ['label']"
   ]
  },
  {
   "cell_type": "code",
   "execution_count": 18,
   "metadata": {},
   "outputs": [],
   "source": [
    "training_df = training_df.drop(190167541)"
   ]
  },
  {
   "cell_type": "code",
   "execution_count": 19,
   "metadata": {
    "colab": {},
    "colab_type": "code",
    "id": "PrUJfvL1r4pI"
   },
   "outputs": [],
   "source": [
    "x = training_df[training_columns].values\n",
    "y = training_df[target_column].values"
   ]
  },
  {
   "cell_type": "code",
   "execution_count": 20,
   "metadata": {
    "colab": {},
    "colab_type": "code",
    "id": "Xfow1Vm-sBI9"
   },
   "outputs": [],
   "source": [
    "x, x_test, y, y_test = train_test_split(x, y, test_size=0.2, random_state=42, stratify=y)"
   ]
  },
  {
   "cell_type": "code",
   "execution_count": 21,
   "metadata": {},
   "outputs": [
    {
     "data": {
      "text/plain": [
       "1    15494\n",
       "0     1681\n",
       "Name: label, dtype: int64"
      ]
     },
     "execution_count": 21,
     "metadata": {},
     "output_type": "execute_result"
    }
   ],
   "source": [
    "training_df['label'].value_counts()"
   ]
  },
  {
   "cell_type": "markdown",
   "metadata": {},
   "source": [
    "<h1>Model Training</h1>"
   ]
  },
  {
   "cell_type": "markdown",
   "metadata": {},
   "source": [
    "<h2>Eval Metric Definition</h2>"
   ]
  },
  {
   "cell_type": "code",
   "execution_count": 27,
   "metadata": {},
   "outputs": [],
   "source": [
    "def focal_loss_lgb_eval_error(y_true, y_pred, alpha=.25, gamma=2.):\n",
    "    a,g = alpha, gamma\n",
    "    p = 1/(1+np.exp(-y_pred))\n",
    "    loss = -( a*y_true + (1-a)*(1-y_true) ) * (( 1 - ( y_true*p + (1-y_true)*(1-p)) )**g) * ( y_true*np.log(p)+(1-y_true)*np.log(1-p) )\n",
    "    return 'focal_loss', np.mean(loss), False"
   ]
  },
  {
   "cell_type": "code",
   "execution_count": 28,
   "metadata": {},
   "outputs": [],
   "source": [
    "from sklearn.metrics import f1_score\n",
    "def evaluate_macroF1_lgb(y_true, y_pred):  \n",
    "    y_hat = np.where(y_pred < 0.5, 0, 1) \n",
    "    f1 = f1_score(y_true, y_hat, average='macro')\n",
    "    return ('macroF1', f1, True) "
   ]
  },
  {
   "cell_type": "markdown",
   "metadata": {},
   "source": [
    "<h2>Training the Model</h2>"
   ]
  },
  {
   "cell_type": "code",
   "execution_count": 29,
   "metadata": {},
   "outputs": [],
   "source": [
    "gkf = StratifiedKFold(n_splits=5, shuffle=True, random_state=42)"
   ]
  },
  {
   "cell_type": "code",
   "execution_count": 30,
   "metadata": {},
   "outputs": [],
   "source": [
    "model = lightgbm.LGBMClassifier(class_weight={0:3,1:1}, learning_rate=0.1)"
   ]
  },
  {
   "cell_type": "code",
   "execution_count": 31,
   "metadata": {},
   "outputs": [
    {
     "name": "stderr",
     "output_type": "stream",
     "text": [
      "/usr/local/lib/python3.6/dist-packages/sklearn/preprocessing/_label.py:235: DataConversionWarning: A column-vector y was passed when a 1d array was expected. Please change the shape of y to (n_samples, ), for example using ravel().\n",
      "  y = column_or_1d(y, warn=True)\n",
      "/usr/local/lib/python3.6/dist-packages/sklearn/preprocessing/_label.py:268: DataConversionWarning: A column-vector y was passed when a 1d array was expected. Please change the shape of y to (n_samples, ), for example using ravel().\n",
      "  y = column_or_1d(y, warn=True)\n"
     ]
    },
    {
     "name": "stdout",
     "output_type": "stream",
     "text": [
      "[1]\tvalid_0's binary_logloss: 0.360165\tvalid_0's macroF1: 0.474268\n",
      "[2]\tvalid_0's binary_logloss: 0.335974\tvalid_0's macroF1: 0.474268\n",
      "[3]\tvalid_0's binary_logloss: 0.315879\tvalid_0's macroF1: 0.474268\n",
      "[4]\tvalid_0's binary_logloss: 0.298381\tvalid_0's macroF1: 0.670321\n",
      "[5]\tvalid_0's binary_logloss: 0.283962\tvalid_0's macroF1: 0.797102\n",
      "[6]\tvalid_0's binary_logloss: 0.271608\tvalid_0's macroF1: 0.809719\n",
      "[7]\tvalid_0's binary_logloss: 0.259913\tvalid_0's macroF1: 0.828165\n",
      "[8]\tvalid_0's binary_logloss: 0.25019\tvalid_0's macroF1: 0.833126\n",
      "[9]\tvalid_0's binary_logloss: 0.241058\tvalid_0's macroF1: 0.82944\n",
      "[10]\tvalid_0's binary_logloss: 0.232849\tvalid_0's macroF1: 0.834988\n",
      "[11]\tvalid_0's binary_logloss: 0.226391\tvalid_0's macroF1: 0.837326\n",
      "[12]\tvalid_0's binary_logloss: 0.220427\tvalid_0's macroF1: 0.843324\n",
      "[13]\tvalid_0's binary_logloss: 0.214739\tvalid_0's macroF1: 0.84173\n",
      "[14]\tvalid_0's binary_logloss: 0.209789\tvalid_0's macroF1: 0.83991\n",
      "[15]\tvalid_0's binary_logloss: 0.205981\tvalid_0's macroF1: 0.840459\n",
      "[16]\tvalid_0's binary_logloss: 0.201235\tvalid_0's macroF1: 0.841002\n",
      "[17]\tvalid_0's binary_logloss: 0.19713\tvalid_0's macroF1: 0.842858\n",
      "[18]\tvalid_0's binary_logloss: 0.193959\tvalid_0's macroF1: 0.842324\n",
      "[19]\tvalid_0's binary_logloss: 0.191119\tvalid_0's macroF1: 0.841542\n",
      "[20]\tvalid_0's binary_logloss: 0.188196\tvalid_0's macroF1: 0.840763\n",
      "[21]\tvalid_0's binary_logloss: 0.185619\tvalid_0's macroF1: 0.846005\n",
      "[22]\tvalid_0's binary_logloss: 0.183001\tvalid_0's macroF1: 0.851827\n",
      "[23]\tvalid_0's binary_logloss: 0.180743\tvalid_0's macroF1: 0.84971\n",
      "[24]\tvalid_0's binary_logloss: 0.178354\tvalid_0's macroF1: 0.851827\n",
      "[25]\tvalid_0's binary_logloss: 0.17681\tvalid_0's macroF1: 0.853441\n",
      "[26]\tvalid_0's binary_logloss: 0.175355\tvalid_0's macroF1: 0.851827\n",
      "[27]\tvalid_0's binary_logloss: 0.173812\tvalid_0's macroF1: 0.853638\n",
      "[28]\tvalid_0's binary_logloss: 0.172475\tvalid_0's macroF1: 0.85525\n",
      "[29]\tvalid_0's binary_logloss: 0.170789\tvalid_0's macroF1: 0.854443\n",
      "[30]\tvalid_0's binary_logloss: 0.169134\tvalid_0's macroF1: 0.854443\n",
      "[31]\tvalid_0's binary_logloss: 0.168317\tvalid_0's macroF1: 0.854443\n",
      "[32]\tvalid_0's binary_logloss: 0.167104\tvalid_0's macroF1: 0.856874\n",
      "[33]\tvalid_0's binary_logloss: 0.166047\tvalid_0's macroF1: 0.854753\n",
      "[34]\tvalid_0's binary_logloss: 0.165034\tvalid_0's macroF1: 0.855565\n",
      "[35]\tvalid_0's binary_logloss: 0.16469\tvalid_0's macroF1: 0.856061\n",
      "[36]\tvalid_0's binary_logloss: 0.163464\tvalid_0's macroF1: 0.857689\n",
      "[37]\tvalid_0's binary_logloss: 0.162697\tvalid_0's macroF1: 0.85638\n",
      "[38]\tvalid_0's binary_logloss: 0.16181\tvalid_0's macroF1: 0.85638\n",
      "[39]\tvalid_0's binary_logloss: 0.161329\tvalid_0's macroF1: 0.856874\n",
      "[40]\tvalid_0's binary_logloss: 0.161238\tvalid_0's macroF1: 0.856874\n",
      "[41]\tvalid_0's binary_logloss: 0.160413\tvalid_0's macroF1: 0.85525\n",
      "[42]\tvalid_0's binary_logloss: 0.159776\tvalid_0's macroF1: 0.85525\n",
      "[43]\tvalid_0's binary_logloss: 0.159361\tvalid_0's macroF1: 0.854753\n",
      "[44]\tvalid_0's binary_logloss: 0.158996\tvalid_0's macroF1: 0.851024\n",
      "[45]\tvalid_0's binary_logloss: 0.158802\tvalid_0's macroF1: 0.852633\n",
      "[46]\tvalid_0's binary_logloss: 0.158548\tvalid_0's macroF1: 0.855744\n",
      "[47]\tvalid_0's binary_logloss: 0.157953\tvalid_0's macroF1: 0.85525\n",
      "[48]\tvalid_0's binary_logloss: 0.157535\tvalid_0's macroF1: 0.854443\n",
      "[49]\tvalid_0's binary_logloss: 0.157332\tvalid_0's macroF1: 0.853638\n",
      "[50]\tvalid_0's binary_logloss: 0.157048\tvalid_0's macroF1: 0.85525\n",
      "[51]\tvalid_0's binary_logloss: 0.156621\tvalid_0's macroF1: 0.853137\n",
      "[52]\tvalid_0's binary_logloss: 0.156387\tvalid_0's macroF1: 0.853137\n",
      "[53]\tvalid_0's binary_logloss: 0.156105\tvalid_0's macroF1: 0.853137\n",
      "[54]\tvalid_0's binary_logloss: 0.155923\tvalid_0's macroF1: 0.855744\n",
      "[55]\tvalid_0's binary_logloss: 0.155483\tvalid_0's macroF1: 0.855744\n",
      "[56]\tvalid_0's binary_logloss: 0.155253\tvalid_0's macroF1: 0.853137\n",
      "[57]\tvalid_0's binary_logloss: 0.155201\tvalid_0's macroF1: 0.853137\n",
      "[58]\tvalid_0's binary_logloss: 0.15519\tvalid_0's macroF1: 0.852333\n",
      "[59]\tvalid_0's binary_logloss: 0.155235\tvalid_0's macroF1: 0.853137\n",
      "[60]\tvalid_0's binary_logloss: 0.155369\tvalid_0's macroF1: 0.852333\n",
      "[61]\tvalid_0's binary_logloss: 0.155285\tvalid_0's macroF1: 0.854753\n",
      "[62]\tvalid_0's binary_logloss: 0.155241\tvalid_0's macroF1: 0.853441\n",
      "[63]\tvalid_0's binary_logloss: 0.155082\tvalid_0's macroF1: 0.852633\n",
      "[64]\tvalid_0's binary_logloss: 0.154761\tvalid_0's macroF1: 0.852633\n",
      "[65]\tvalid_0's binary_logloss: 0.154486\tvalid_0's macroF1: 0.851827\n",
      "[66]\tvalid_0's binary_logloss: 0.154477\tvalid_0's macroF1: 0.850512\n",
      "[67]\tvalid_0's binary_logloss: 0.154245\tvalid_0's macroF1: 0.84971\n",
      "[68]\tvalid_0's binary_logloss: 0.154086\tvalid_0's macroF1: 0.847594\n",
      "[69]\tvalid_0's binary_logloss: 0.154103\tvalid_0's macroF1: 0.847594\n",
      "[70]\tvalid_0's binary_logloss: 0.153621\tvalid_0's macroF1: 0.847594\n",
      "[71]\tvalid_0's binary_logloss: 0.153598\tvalid_0's macroF1: 0.849997\n",
      "[72]\tvalid_0's binary_logloss: 0.153836\tvalid_0's macroF1: 0.849193\n",
      "[73]\tvalid_0's binary_logloss: 0.15384\tvalid_0's macroF1: 0.849477\n",
      "[74]\tvalid_0's binary_logloss: 0.153535\tvalid_0's macroF1: 0.849997\n",
      "[75]\tvalid_0's binary_logloss: 0.153444\tvalid_0's macroF1: 0.848672\n",
      "[76]\tvalid_0's binary_logloss: 0.153174\tvalid_0's macroF1: 0.847342\n",
      "[77]\tvalid_0's binary_logloss: 0.153036\tvalid_0's macroF1: 0.847342\n",
      "[78]\tvalid_0's binary_logloss: 0.152896\tvalid_0's macroF1: 0.849477\n",
      "[79]\tvalid_0's binary_logloss: 0.152769\tvalid_0's macroF1: 0.852124\n",
      "[80]\tvalid_0's binary_logloss: 0.152526\tvalid_0's macroF1: 0.852124\n",
      "[81]\tvalid_0's binary_logloss: 0.152598\tvalid_0's macroF1: 0.852124\n",
      "[82]\tvalid_0's binary_logloss: 0.1525\tvalid_0's macroF1: 0.852124\n",
      "[83]\tvalid_0's binary_logloss: 0.152407\tvalid_0's macroF1: 0.850803\n",
      "[84]\tvalid_0's binary_logloss: 0.152356\tvalid_0's macroF1: 0.849997\n",
      "[85]\tvalid_0's binary_logloss: 0.152215\tvalid_0's macroF1: 0.852934\n",
      "[86]\tvalid_0's binary_logloss: 0.152104\tvalid_0's macroF1: 0.852124\n",
      "[87]\tvalid_0's binary_logloss: 0.151835\tvalid_0's macroF1: 0.848672\n",
      "[88]\tvalid_0's binary_logloss: 0.152053\tvalid_0's macroF1: 0.848672\n",
      "[89]\tvalid_0's binary_logloss: 0.152101\tvalid_0's macroF1: 0.848146\n",
      "[90]\tvalid_0's binary_logloss: 0.152126\tvalid_0's macroF1: 0.846811\n",
      "[91]\tvalid_0's binary_logloss: 0.152454\tvalid_0's macroF1: 0.846811\n",
      "[92]\tvalid_0's binary_logloss: 0.15219\tvalid_0's macroF1: 0.846811\n",
      "[93]\tvalid_0's binary_logloss: 0.152136\tvalid_0's macroF1: 0.847616\n",
      "[94]\tvalid_0's binary_logloss: 0.151776\tvalid_0's macroF1: 0.851096\n",
      "[95]\tvalid_0's binary_logloss: 0.151722\tvalid_0's macroF1: 0.85139\n",
      "[96]\tvalid_0's binary_logloss: 0.151556\tvalid_0's macroF1: 0.851909\n",
      "[97]\tvalid_0's binary_logloss: 0.151653\tvalid_0's macroF1: 0.849763\n",
      "[98]\tvalid_0's binary_logloss: 0.151858\tvalid_0's macroF1: 0.849763\n",
      "[99]\tvalid_0's binary_logloss: 0.151832\tvalid_0's macroF1: 0.846811\n",
      "[100]\tvalid_0's binary_logloss: 0.151722\tvalid_0's macroF1: 0.848146\n",
      "[1]\tvalid_0's binary_logloss: 0.360314\tvalid_0's macroF1: 0.474268\n",
      "[2]\tvalid_0's binary_logloss: 0.335991\tvalid_0's macroF1: 0.474268\n",
      "[3]\tvalid_0's binary_logloss: 0.31581\tvalid_0's macroF1: 0.474268\n",
      "[4]\tvalid_0's binary_logloss: 0.299389\tvalid_0's macroF1: 0.67462\n",
      "[5]\tvalid_0's binary_logloss: 0.284704\tvalid_0's macroF1: 0.753507\n",
      "[6]\tvalid_0's binary_logloss: 0.271746\tvalid_0's macroF1: 0.796467\n",
      "[7]\tvalid_0's binary_logloss: 0.2605\tvalid_0's macroF1: 0.802359\n",
      "[8]\tvalid_0's binary_logloss: 0.251105\tvalid_0's macroF1: 0.810441\n",
      "[9]\tvalid_0's binary_logloss: 0.242077\tvalid_0's macroF1: 0.830519\n",
      "[10]\tvalid_0's binary_logloss: 0.233867\tvalid_0's macroF1: 0.830809\n",
      "[11]\tvalid_0's binary_logloss: 0.227127\tvalid_0's macroF1: 0.834192\n",
      "[12]\tvalid_0's binary_logloss: 0.221114\tvalid_0's macroF1: 0.831384\n"
     ]
    },
    {
     "name": "stderr",
     "output_type": "stream",
     "text": [
      "/usr/local/lib/python3.6/dist-packages/sklearn/preprocessing/_label.py:235: DataConversionWarning: A column-vector y was passed when a 1d array was expected. Please change the shape of y to (n_samples, ), for example using ravel().\n",
      "  y = column_or_1d(y, warn=True)\n",
      "/usr/local/lib/python3.6/dist-packages/sklearn/preprocessing/_label.py:268: DataConversionWarning: A column-vector y was passed when a 1d array was expected. Please change the shape of y to (n_samples, ), for example using ravel().\n",
      "  y = column_or_1d(y, warn=True)\n"
     ]
    },
    {
     "name": "stdout",
     "output_type": "stream",
     "text": [
      "[13]\tvalid_0's binary_logloss: 0.215863\tvalid_0's macroF1: 0.832395\n",
      "[14]\tvalid_0's binary_logloss: 0.210763\tvalid_0's macroF1: 0.834572\n",
      "[15]\tvalid_0's binary_logloss: 0.206355\tvalid_0's macroF1: 0.8322\n",
      "[16]\tvalid_0's binary_logloss: 0.20256\tvalid_0's macroF1: 0.832201\n",
      "[17]\tvalid_0's binary_logloss: 0.199332\tvalid_0's macroF1: 0.83066\n",
      "[18]\tvalid_0's binary_logloss: 0.196\tvalid_0's macroF1: 0.833915\n",
      "[19]\tvalid_0's binary_logloss: 0.193418\tvalid_0's macroF1: 0.831812\n",
      "[20]\tvalid_0's binary_logloss: 0.191289\tvalid_0's macroF1: 0.830859\n",
      "[21]\tvalid_0's binary_logloss: 0.188738\tvalid_0's macroF1: 0.830287\n",
      "[22]\tvalid_0's binary_logloss: 0.185948\tvalid_0's macroF1: 0.831619\n",
      "[23]\tvalid_0's binary_logloss: 0.18363\tvalid_0's macroF1: 0.831048\n",
      "[24]\tvalid_0's binary_logloss: 0.181863\tvalid_0's macroF1: 0.829527\n",
      "[25]\tvalid_0's binary_logloss: 0.1803\tvalid_0's macroF1: 0.830287\n",
      "[26]\tvalid_0's binary_logloss: 0.178845\tvalid_0's macroF1: 0.82971\n",
      "[27]\tvalid_0's binary_logloss: 0.177494\tvalid_0's macroF1: 0.832006\n",
      "[28]\tvalid_0's binary_logloss: 0.176781\tvalid_0's macroF1: 0.832776\n",
      "[29]\tvalid_0's binary_logloss: 0.175951\tvalid_0's macroF1: 0.834325\n",
      "[30]\tvalid_0's binary_logloss: 0.174986\tvalid_0's macroF1: 0.833549\n",
      "[31]\tvalid_0's binary_logloss: 0.173684\tvalid_0's macroF1: 0.834325\n",
      "[32]\tvalid_0's binary_logloss: 0.172598\tvalid_0's macroF1: 0.834119\n",
      "[33]\tvalid_0's binary_logloss: 0.171632\tvalid_0's macroF1: 0.837567\n",
      "[34]\tvalid_0's binary_logloss: 0.17047\tvalid_0's macroF1: 0.839127\n",
      "[35]\tvalid_0's binary_logloss: 0.170043\tvalid_0's macroF1: 0.838345\n",
      "[36]\tvalid_0's binary_logloss: 0.169296\tvalid_0's macroF1: 0.841542\n",
      "[37]\tvalid_0's binary_logloss: 0.168653\tvalid_0's macroF1: 0.840763\n",
      "[38]\tvalid_0's binary_logloss: 0.168431\tvalid_0's macroF1: 0.84574\n",
      "[39]\tvalid_0's binary_logloss: 0.167924\tvalid_0's macroF1: 0.844426\n",
      "[40]\tvalid_0's binary_logloss: 0.167629\tvalid_0's macroF1: 0.842324\n",
      "[41]\tvalid_0's binary_logloss: 0.167022\tvalid_0's macroF1: 0.841002\n",
      "[42]\tvalid_0's binary_logloss: 0.165965\tvalid_0's macroF1: 0.841542\n",
      "[43]\tvalid_0's binary_logloss: 0.165705\tvalid_0's macroF1: 0.840222\n",
      "[44]\tvalid_0's binary_logloss: 0.165299\tvalid_0's macroF1: 0.841786\n",
      "[45]\tvalid_0's binary_logloss: 0.165129\tvalid_0's macroF1: 0.843108\n",
      "[46]\tvalid_0's binary_logloss: 0.164961\tvalid_0's macroF1: 0.843895\n",
      "[47]\tvalid_0's binary_logloss: 0.164965\tvalid_0's macroF1: 0.841002\n",
      "[48]\tvalid_0's binary_logloss: 0.165041\tvalid_0's macroF1: 0.839676\n",
      "[49]\tvalid_0's binary_logloss: 0.164629\tvalid_0's macroF1: 0.843895\n",
      "[50]\tvalid_0's binary_logloss: 0.164264\tvalid_0's macroF1: 0.84336\n",
      "[51]\tvalid_0's binary_logloss: 0.163806\tvalid_0's macroF1: 0.84336\n",
      "[52]\tvalid_0's binary_logloss: 0.16345\tvalid_0's macroF1: 0.842031\n",
      "[53]\tvalid_0's binary_logloss: 0.163836\tvalid_0's macroF1: 0.841243\n",
      "[54]\tvalid_0's binary_logloss: 0.163082\tvalid_0's macroF1: 0.840459\n",
      "[55]\tvalid_0's binary_logloss: 0.162872\tvalid_0's macroF1: 0.83991\n",
      "[56]\tvalid_0's binary_logloss: 0.162952\tvalid_0's macroF1: 0.839127\n",
      "[57]\tvalid_0's binary_logloss: 0.162424\tvalid_0's macroF1: 0.839127\n",
      "[58]\tvalid_0's binary_logloss: 0.162118\tvalid_0's macroF1: 0.83991\n",
      "[59]\tvalid_0's binary_logloss: 0.162037\tvalid_0's macroF1: 0.83991\n",
      "[60]\tvalid_0's binary_logloss: 0.161796\tvalid_0's macroF1: 0.840459\n",
      "[61]\tvalid_0's binary_logloss: 0.161127\tvalid_0's macroF1: 0.842821\n",
      "[62]\tvalid_0's binary_logloss: 0.161013\tvalid_0's macroF1: 0.839127\n",
      "[63]\tvalid_0's binary_logloss: 0.160987\tvalid_0's macroF1: 0.840697\n",
      "[64]\tvalid_0's binary_logloss: 0.160856\tvalid_0's macroF1: 0.842277\n",
      "[65]\tvalid_0's binary_logloss: 0.161028\tvalid_0's macroF1: 0.840146\n",
      "[66]\tvalid_0's binary_logloss: 0.160846\tvalid_0's macroF1: 0.840697\n",
      "[67]\tvalid_0's binary_logloss: 0.16068\tvalid_0's macroF1: 0.840146\n",
      "[68]\tvalid_0's binary_logloss: 0.160407\tvalid_0's macroF1: 0.838573\n",
      "[69]\tvalid_0's binary_logloss: 0.160328\tvalid_0's macroF1: 0.838573\n",
      "[70]\tvalid_0's binary_logloss: 0.16032\tvalid_0's macroF1: 0.838573\n",
      "[71]\tvalid_0's binary_logloss: 0.160306\tvalid_0's macroF1: 0.838015\n",
      "[72]\tvalid_0's binary_logloss: 0.160088\tvalid_0's macroF1: 0.838015\n",
      "[73]\tvalid_0's binary_logloss: 0.159647\tvalid_0's macroF1: 0.839358\n",
      "[74]\tvalid_0's binary_logloss: 0.159625\tvalid_0's macroF1: 0.839358\n",
      "[75]\tvalid_0's binary_logloss: 0.159725\tvalid_0's macroF1: 0.840937\n",
      "[76]\tvalid_0's binary_logloss: 0.159639\tvalid_0's macroF1: 0.84173\n",
      "[77]\tvalid_0's binary_logloss: 0.159223\tvalid_0's macroF1: 0.842525\n",
      "[78]\tvalid_0's binary_logloss: 0.15928\tvalid_0's macroF1: 0.842525\n",
      "[79]\tvalid_0's binary_logloss: 0.159466\tvalid_0's macroF1: 0.843868\n",
      "[80]\tvalid_0's binary_logloss: 0.159382\tvalid_0's macroF1: 0.84173\n",
      "[81]\tvalid_0's binary_logloss: 0.159199\tvalid_0's macroF1: 0.845207\n",
      "[82]\tvalid_0's binary_logloss: 0.158824\tvalid_0's macroF1: 0.846007\n",
      "[83]\tvalid_0's binary_logloss: 0.158958\tvalid_0's macroF1: 0.846007\n",
      "[84]\tvalid_0's binary_logloss: 0.159191\tvalid_0's macroF1: 0.846007\n",
      "[85]\tvalid_0's binary_logloss: 0.158754\tvalid_0's macroF1: 0.847083\n",
      "[86]\tvalid_0's binary_logloss: 0.158776\tvalid_0's macroF1: 0.847083\n",
      "[87]\tvalid_0's binary_logloss: 0.158934\tvalid_0's macroF1: 0.847083\n",
      "[88]\tvalid_0's binary_logloss: 0.158999\tvalid_0's macroF1: 0.846275\n",
      "[89]\tvalid_0's binary_logloss: 0.159248\tvalid_0's macroF1: 0.846544\n",
      "[90]\tvalid_0's binary_logloss: 0.159076\tvalid_0's macroF1: 0.847356\n",
      "[91]\tvalid_0's binary_logloss: 0.158824\tvalid_0's macroF1: 0.847356\n",
      "[92]\tvalid_0's binary_logloss: 0.158973\tvalid_0's macroF1: 0.846002\n",
      "[93]\tvalid_0's binary_logloss: 0.15913\tvalid_0's macroF1: 0.845191\n",
      "[94]\tvalid_0's binary_logloss: 0.159278\tvalid_0's macroF1: 0.845191\n",
      "[95]\tvalid_0's binary_logloss: 0.159177\tvalid_0's macroF1: 0.846544\n",
      "[96]\tvalid_0's binary_logloss: 0.159205\tvalid_0's macroF1: 0.846544\n",
      "[97]\tvalid_0's binary_logloss: 0.158864\tvalid_0's macroF1: 0.846002\n",
      "[98]\tvalid_0's binary_logloss: 0.158655\tvalid_0's macroF1: 0.847632\n",
      "[99]\tvalid_0's binary_logloss: 0.158067\tvalid_0's macroF1: 0.847632\n",
      "[100]\tvalid_0's binary_logloss: 0.157679\tvalid_0's macroF1: 0.847632\n"
     ]
    },
    {
     "name": "stderr",
     "output_type": "stream",
     "text": [
      "/usr/local/lib/python3.6/dist-packages/sklearn/preprocessing/_label.py:235: DataConversionWarning: A column-vector y was passed when a 1d array was expected. Please change the shape of y to (n_samples, ), for example using ravel().\n",
      "  y = column_or_1d(y, warn=True)\n",
      "/usr/local/lib/python3.6/dist-packages/sklearn/preprocessing/_label.py:268: DataConversionWarning: A column-vector y was passed when a 1d array was expected. Please change the shape of y to (n_samples, ), for example using ravel().\n",
      "  y = column_or_1d(y, warn=True)\n"
     ]
    },
    {
     "name": "stdout",
     "output_type": "stream",
     "text": [
      "[1]\tvalid_0's binary_logloss: 0.361265\tvalid_0's macroF1: 0.474268\n",
      "[2]\tvalid_0's binary_logloss: 0.337154\tvalid_0's macroF1: 0.474268\n",
      "[3]\tvalid_0's binary_logloss: 0.31651\tvalid_0's macroF1: 0.474268\n",
      "[4]\tvalid_0's binary_logloss: 0.299107\tvalid_0's macroF1: 0.662749\n",
      "[5]\tvalid_0's binary_logloss: 0.284369\tvalid_0's macroF1: 0.787239\n",
      "[6]\tvalid_0's binary_logloss: 0.271696\tvalid_0's macroF1: 0.803208\n",
      "[7]\tvalid_0's binary_logloss: 0.261115\tvalid_0's macroF1: 0.807148\n",
      "[8]\tvalid_0's binary_logloss: 0.251829\tvalid_0's macroF1: 0.810948\n",
      "[9]\tvalid_0's binary_logloss: 0.24299\tvalid_0's macroF1: 0.816197\n",
      "[10]\tvalid_0's binary_logloss: 0.235245\tvalid_0's macroF1: 0.819667\n",
      "[11]\tvalid_0's binary_logloss: 0.228026\tvalid_0's macroF1: 0.822479\n",
      "[12]\tvalid_0's binary_logloss: 0.222343\tvalid_0's macroF1: 0.82379\n",
      "[13]\tvalid_0's binary_logloss: 0.21666\tvalid_0's macroF1: 0.829975\n",
      "[14]\tvalid_0's binary_logloss: 0.211786\tvalid_0's macroF1: 0.831384\n",
      "[15]\tvalid_0's binary_logloss: 0.207416\tvalid_0's macroF1: 0.835792\n",
      "[16]\tvalid_0's binary_logloss: 0.203231\tvalid_0's macroF1: 0.838579\n",
      "[17]\tvalid_0's binary_logloss: 0.199242\tvalid_0's macroF1: 0.840535\n",
      "[18]\tvalid_0's binary_logloss: 0.195997\tvalid_0's macroF1: 0.845455\n",
      "[19]\tvalid_0's binary_logloss: 0.193364\tvalid_0's macroF1: 0.844643\n",
      "[20]\tvalid_0's binary_logloss: 0.191236\tvalid_0's macroF1: 0.841102\n",
      "[21]\tvalid_0's binary_logloss: 0.189077\tvalid_0's macroF1: 0.839495\n",
      "[22]\tvalid_0's binary_logloss: 0.186758\tvalid_0's macroF1: 0.840297\n",
      "[23]\tvalid_0's binary_logloss: 0.185313\tvalid_0's macroF1: 0.836098\n",
      "[24]\tvalid_0's binary_logloss: 0.183431\tvalid_0's macroF1: 0.840383\n",
      "[25]\tvalid_0's binary_logloss: 0.181716\tvalid_0's macroF1: 0.845207\n",
      "[26]\tvalid_0's binary_logloss: 0.180188\tvalid_0's macroF1: 0.842277\n",
      "[27]\tvalid_0's binary_logloss: 0.178937\tvalid_0's macroF1: 0.841486\n",
      "[28]\tvalid_0's binary_logloss: 0.177407\tvalid_0's macroF1: 0.844668\n",
      "[29]\tvalid_0's binary_logloss: 0.176452\tvalid_0's macroF1: 0.843868\n",
      "[30]\tvalid_0's binary_logloss: 0.175185\tvalid_0's macroF1: 0.84654\n",
      "[31]\tvalid_0's binary_logloss: 0.17375\tvalid_0's macroF1: 0.847069\n",
      "[32]\tvalid_0's binary_logloss: 0.172594\tvalid_0's macroF1: 0.846007\n",
      "[33]\tvalid_0's binary_logloss: 0.171893\tvalid_0's macroF1: 0.848146\n",
      "[34]\tvalid_0's binary_logloss: 0.170672\tvalid_0's macroF1: 0.844409\n",
      "[35]\tvalid_0's binary_logloss: 0.169542\tvalid_0's macroF1: 0.845207\n",
      "[36]\tvalid_0's binary_logloss: 0.168494\tvalid_0's macroF1: 0.844409\n",
      "[37]\tvalid_0's binary_logloss: 0.168126\tvalid_0's macroF1: 0.845207\n",
      "[38]\tvalid_0's binary_logloss: 0.167348\tvalid_0's macroF1: 0.843072\n",
      "[39]\tvalid_0's binary_logloss: 0.16682\tvalid_0's macroF1: 0.843868\n",
      "[40]\tvalid_0's binary_logloss: 0.166552\tvalid_0's macroF1: 0.843868\n",
      "[41]\tvalid_0's binary_logloss: 0.165852\tvalid_0's macroF1: 0.840697\n",
      "[42]\tvalid_0's binary_logloss: 0.165252\tvalid_0's macroF1: 0.840937\n",
      "[43]\tvalid_0's binary_logloss: 0.164925\tvalid_0's macroF1: 0.839591\n",
      "[44]\tvalid_0's binary_logloss: 0.164654\tvalid_0's macroF1: 0.840383\n",
      "[45]\tvalid_0's binary_logloss: 0.16395\tvalid_0's macroF1: 0.840937\n",
      "[46]\tvalid_0's binary_logloss: 0.163494\tvalid_0's macroF1: 0.84173\n",
      "[47]\tvalid_0's binary_logloss: 0.163228\tvalid_0's macroF1: 0.840383\n",
      "[48]\tvalid_0's binary_logloss: 0.162637\tvalid_0's macroF1: 0.841178\n",
      "[49]\tvalid_0's binary_logloss: 0.162063\tvalid_0's macroF1: 0.841975\n",
      "[50]\tvalid_0's binary_logloss: 0.161856\tvalid_0's macroF1: 0.84142\n",
      "[51]\tvalid_0's binary_logloss: 0.161263\tvalid_0's macroF1: 0.84142\n",
      "[52]\tvalid_0's binary_logloss: 0.161035\tvalid_0's macroF1: 0.845191\n",
      "[53]\tvalid_0's binary_logloss: 0.160948\tvalid_0's macroF1: 0.842222\n",
      "[54]\tvalid_0's binary_logloss: 0.160643\tvalid_0's macroF1: 0.843026\n",
      "[55]\tvalid_0's binary_logloss: 0.160367\tvalid_0's macroF1: 0.844643\n",
      "[56]\tvalid_0's binary_logloss: 0.160044\tvalid_0's macroF1: 0.844643\n",
      "[57]\tvalid_0's binary_logloss: 0.159718\tvalid_0's macroF1: 0.841102\n",
      "[58]\tvalid_0's binary_logloss: 0.159662\tvalid_0's macroF1: 0.841909\n",
      "[59]\tvalid_0's binary_logloss: 0.159589\tvalid_0's macroF1: 0.840535\n",
      "[60]\tvalid_0's binary_logloss: 0.159537\tvalid_0's macroF1: 0.84272\n",
      "[61]\tvalid_0's binary_logloss: 0.159591\tvalid_0's macroF1: 0.839964\n",
      "[62]\tvalid_0's binary_logloss: 0.159053\tvalid_0's macroF1: 0.842156\n",
      "[63]\tvalid_0's binary_logloss: 0.158376\tvalid_0's macroF1: 0.842156\n",
      "[64]\tvalid_0's binary_logloss: 0.158143\tvalid_0's macroF1: 0.843533\n",
      "[65]\tvalid_0's binary_logloss: 0.158246\tvalid_0's macroF1: 0.84272\n",
      "[66]\tvalid_0's binary_logloss: 0.158028\tvalid_0's macroF1: 0.841344\n",
      "[67]\tvalid_0's binary_logloss: 0.1577\tvalid_0's macroF1: 0.842971\n",
      "[68]\tvalid_0's binary_logloss: 0.157687\tvalid_0's macroF1: 0.842971\n",
      "[69]\tvalid_0's binary_logloss: 0.157527\tvalid_0's macroF1: 0.843533\n",
      "[70]\tvalid_0's binary_logloss: 0.157057\tvalid_0's macroF1: 0.843533\n",
      "[71]\tvalid_0's binary_logloss: 0.156698\tvalid_0's macroF1: 0.843533\n",
      "[72]\tvalid_0's binary_logloss: 0.156382\tvalid_0's macroF1: 0.842156\n",
      "[73]\tvalid_0's binary_logloss: 0.156172\tvalid_0's macroF1: 0.842156\n",
      "[74]\tvalid_0's binary_logloss: 0.155971\tvalid_0's macroF1: 0.844349\n",
      "[75]\tvalid_0's binary_logloss: 0.155777\tvalid_0's macroF1: 0.845721\n",
      "[76]\tvalid_0's binary_logloss: 0.155818\tvalid_0's macroF1: 0.846541\n",
      "[77]\tvalid_0's binary_logloss: 0.155802\tvalid_0's macroF1: 0.846541\n",
      "[78]\tvalid_0's binary_logloss: 0.15582\tvalid_0's macroF1: 0.846541\n",
      "[79]\tvalid_0's binary_logloss: 0.155443\tvalid_0's macroF1: 0.846541\n",
      "[80]\tvalid_0's binary_logloss: 0.155368\tvalid_0's macroF1: 0.846541\n",
      "[81]\tvalid_0's binary_logloss: 0.155387\tvalid_0's macroF1: 0.84791\n",
      "[82]\tvalid_0's binary_logloss: 0.155865\tvalid_0's macroF1: 0.845721\n",
      "[83]\tvalid_0's binary_logloss: 0.155886\tvalid_0's macroF1: 0.845167\n",
      "[84]\tvalid_0's binary_logloss: 0.15551\tvalid_0's macroF1: 0.845167\n",
      "[85]\tvalid_0's binary_logloss: 0.155392\tvalid_0's macroF1: 0.845167\n",
      "[86]\tvalid_0's binary_logloss: 0.155286\tvalid_0's macroF1: 0.844349\n",
      "[87]\tvalid_0's binary_logloss: 0.155446\tvalid_0's macroF1: 0.844349\n",
      "[88]\tvalid_0's binary_logloss: 0.155113\tvalid_0's macroF1: 0.844349\n",
      "[89]\tvalid_0's binary_logloss: 0.155033\tvalid_0's macroF1: 0.844349\n",
      "[90]\tvalid_0's binary_logloss: 0.154921\tvalid_0's macroF1: 0.845721\n",
      "[91]\tvalid_0's binary_logloss: 0.154727\tvalid_0's macroF1: 0.846541\n",
      "[92]\tvalid_0's binary_logloss: 0.154776\tvalid_0's macroF1: 0.844349\n",
      "[93]\tvalid_0's binary_logloss: 0.154576\tvalid_0's macroF1: 0.846541\n",
      "[94]\tvalid_0's binary_logloss: 0.154279\tvalid_0's macroF1: 0.845989\n",
      "[95]\tvalid_0's binary_logloss: 0.154308\tvalid_0's macroF1: 0.844609\n",
      "[96]\tvalid_0's binary_logloss: 0.15419\tvalid_0's macroF1: 0.843789\n",
      "[97]\tvalid_0's binary_logloss: 0.153925\tvalid_0's macroF1: 0.843789\n",
      "[98]\tvalid_0's binary_logloss: 0.153947\tvalid_0's macroF1: 0.841588\n",
      "[99]\tvalid_0's binary_logloss: 0.153619\tvalid_0's macroF1: 0.842156\n",
      "[100]\tvalid_0's binary_logloss: 0.153578\tvalid_0's macroF1: 0.842156\n",
      "[1]\tvalid_0's binary_logloss: 0.360264\tvalid_0's macroF1: 0.474268\n",
      "[2]\tvalid_0's binary_logloss: 0.335025\tvalid_0's macroF1: 0.474268\n",
      "[3]\tvalid_0's binary_logloss: 0.313957\tvalid_0's macroF1: 0.474268\n",
      "[4]\tvalid_0's binary_logloss: 0.29606\tvalid_0's macroF1: 0.704008\n",
      "[5]\tvalid_0's binary_logloss: 0.280708\tvalid_0's macroF1: 0.792713\n",
      "[6]\tvalid_0's binary_logloss: 0.267902\tvalid_0's macroF1: 0.816235\n",
      "[7]\tvalid_0's binary_logloss: 0.25589\tvalid_0's macroF1: 0.826434\n",
      "[8]\tvalid_0's binary_logloss: 0.245521\tvalid_0's macroF1: 0.831554\n",
      "[9]\tvalid_0's binary_logloss: 0.237205\tvalid_0's macroF1: 0.826838\n",
      "[10]\tvalid_0's binary_logloss: 0.229342\tvalid_0's macroF1: 0.831905\n",
      "[11]\tvalid_0's binary_logloss: 0.221716\tvalid_0's macroF1: 0.835014\n",
      "[12]\tvalid_0's binary_logloss: 0.2156\tvalid_0's macroF1: 0.83845\n",
      "[13]\tvalid_0's binary_logloss: 0.210412\tvalid_0's macroF1: 0.837997\n",
      "[14]\tvalid_0's binary_logloss: 0.205267\tvalid_0's macroF1: 0.841975\n",
      "[15]\tvalid_0's binary_logloss: 0.200453\tvalid_0's macroF1: 0.841664\n",
      "[16]\tvalid_0's binary_logloss: 0.196138\tvalid_0's macroF1: 0.843108\n",
      "[17]\tvalid_0's binary_logloss: 0.192077\tvalid_0's macroF1: 0.841975\n",
      "[18]\tvalid_0's binary_logloss: 0.188283\tvalid_0's macroF1: 0.847083\n",
      "[19]\tvalid_0's binary_logloss: 0.185724\tvalid_0's macroF1: 0.845207\n",
      "[20]\tvalid_0's binary_logloss: 0.182639\tvalid_0's macroF1: 0.84654\n",
      "[21]\tvalid_0's binary_logloss: 0.179741\tvalid_0's macroF1: 0.84654\n",
      "[22]\tvalid_0's binary_logloss: 0.177845\tvalid_0's macroF1: 0.844409\n",
      "[23]\tvalid_0's binary_logloss: 0.175085\tvalid_0's macroF1: 0.847594\n",
      "[24]\tvalid_0's binary_logloss: 0.173125\tvalid_0's macroF1: 0.848392\n"
     ]
    },
    {
     "name": "stderr",
     "output_type": "stream",
     "text": [
      "/usr/local/lib/python3.6/dist-packages/sklearn/preprocessing/_label.py:235: DataConversionWarning: A column-vector y was passed when a 1d array was expected. Please change the shape of y to (n_samples, ), for example using ravel().\n",
      "  y = column_or_1d(y, warn=True)\n",
      "/usr/local/lib/python3.6/dist-packages/sklearn/preprocessing/_label.py:268: DataConversionWarning: A column-vector y was passed when a 1d array was expected. Please change the shape of y to (n_samples, ), for example using ravel().\n",
      "  y = column_or_1d(y, warn=True)\n"
     ]
    },
    {
     "name": "stdout",
     "output_type": "stream",
     "text": [
      "[25]\tvalid_0's binary_logloss: 0.171009\tvalid_0's macroF1: 0.850285\n",
      "[26]\tvalid_0's binary_logloss: 0.169761\tvalid_0's macroF1: 0.853747\n",
      "[27]\tvalid_0's binary_logloss: 0.168226\tvalid_0's macroF1: 0.849997\n",
      "[28]\tvalid_0's binary_logloss: 0.166651\tvalid_0's macroF1: 0.852633\n",
      "[29]\tvalid_0's binary_logloss: 0.165305\tvalid_0's macroF1: 0.85638\n",
      "[30]\tvalid_0's binary_logloss: 0.163931\tvalid_0's macroF1: 0.852633\n",
      "[31]\tvalid_0's binary_logloss: 0.162691\tvalid_0's macroF1: 0.854443\n",
      "[32]\tvalid_0's binary_logloss: 0.161221\tvalid_0's macroF1: 0.852633\n",
      "[33]\tvalid_0's binary_logloss: 0.159993\tvalid_0's macroF1: 0.852633\n",
      "[34]\tvalid_0's binary_logloss: 0.159554\tvalid_0's macroF1: 0.852633\n",
      "[35]\tvalid_0's binary_logloss: 0.158613\tvalid_0's macroF1: 0.854443\n",
      "[36]\tvalid_0's binary_logloss: 0.158134\tvalid_0's macroF1: 0.852036\n",
      "[37]\tvalid_0's binary_logloss: 0.157719\tvalid_0's macroF1: 0.851024\n",
      "[38]\tvalid_0's binary_logloss: 0.156947\tvalid_0's macroF1: 0.848114\n",
      "[39]\tvalid_0's binary_logloss: 0.156028\tvalid_0's macroF1: 0.846272\n",
      "[40]\tvalid_0's binary_logloss: 0.15597\tvalid_0's macroF1: 0.847869\n",
      "[41]\tvalid_0's binary_logloss: 0.155037\tvalid_0's macroF1: 0.849193\n",
      "[42]\tvalid_0's binary_logloss: 0.154791\tvalid_0's macroF1: 0.850512\n",
      "[43]\tvalid_0's binary_logloss: 0.15426\tvalid_0's macroF1: 0.848911\n",
      "[44]\tvalid_0's binary_logloss: 0.15333\tvalid_0's macroF1: 0.848911\n",
      "[45]\tvalid_0's binary_logloss: 0.153305\tvalid_0's macroF1: 0.850512\n",
      "[46]\tvalid_0's binary_logloss: 0.15288\tvalid_0's macroF1: 0.853441\n",
      "[47]\tvalid_0's binary_logloss: 0.152424\tvalid_0's macroF1: 0.851317\n",
      "[48]\tvalid_0's binary_logloss: 0.152223\tvalid_0's macroF1: 0.851317\n",
      "[49]\tvalid_0's binary_logloss: 0.152086\tvalid_0's macroF1: 0.851317\n",
      "[50]\tvalid_0's binary_logloss: 0.151884\tvalid_0's macroF1: 0.853441\n",
      "[51]\tvalid_0's binary_logloss: 0.151427\tvalid_0's macroF1: 0.852934\n",
      "[52]\tvalid_0's binary_logloss: 0.151417\tvalid_0's macroF1: 0.855066\n",
      "[53]\tvalid_0's binary_logloss: 0.151365\tvalid_0's macroF1: 0.855066\n",
      "[54]\tvalid_0's binary_logloss: 0.151144\tvalid_0's macroF1: 0.852424\n",
      "[55]\tvalid_0's binary_logloss: 0.151136\tvalid_0's macroF1: 0.852424\n",
      "[56]\tvalid_0's binary_logloss: 0.151173\tvalid_0's macroF1: 0.851096\n",
      "[57]\tvalid_0's binary_logloss: 0.150915\tvalid_0's macroF1: 0.852934\n",
      "[58]\tvalid_0's binary_logloss: 0.151032\tvalid_0's macroF1: 0.852934\n",
      "[59]\tvalid_0's binary_logloss: 0.150761\tvalid_0's macroF1: 0.852934\n",
      "[60]\tvalid_0's binary_logloss: 0.150593\tvalid_0's macroF1: 0.852424\n",
      "[61]\tvalid_0's binary_logloss: 0.150257\tvalid_0's macroF1: 0.850803\n",
      "[62]\tvalid_0's binary_logloss: 0.150082\tvalid_0's macroF1: 0.851096\n",
      "[63]\tvalid_0's binary_logloss: 0.149839\tvalid_0's macroF1: 0.853238\n",
      "[64]\tvalid_0's binary_logloss: 0.149711\tvalid_0's macroF1: 0.850285\n",
      "[65]\tvalid_0's binary_logloss: 0.1499\tvalid_0's macroF1: 0.851096\n",
      "[66]\tvalid_0's binary_logloss: 0.149745\tvalid_0's macroF1: 0.851612\n",
      "[67]\tvalid_0's binary_logloss: 0.149928\tvalid_0's macroF1: 0.851612\n",
      "[68]\tvalid_0's binary_logloss: 0.149783\tvalid_0's macroF1: 0.851612\n",
      "[69]\tvalid_0's binary_logloss: 0.149696\tvalid_0's macroF1: 0.852124\n",
      "[70]\tvalid_0's binary_logloss: 0.149755\tvalid_0's macroF1: 0.852934\n",
      "[71]\tvalid_0's binary_logloss: 0.14959\tvalid_0's macroF1: 0.852124\n",
      "[72]\tvalid_0's binary_logloss: 0.149164\tvalid_0's macroF1: 0.850512\n",
      "[73]\tvalid_0's binary_logloss: 0.148743\tvalid_0's macroF1: 0.852633\n",
      "[74]\tvalid_0's binary_logloss: 0.148571\tvalid_0's macroF1: 0.849997\n",
      "[75]\tvalid_0's binary_logloss: 0.148583\tvalid_0's macroF1: 0.849997\n",
      "[76]\tvalid_0's binary_logloss: 0.147968\tvalid_0's macroF1: 0.851317\n",
      "[77]\tvalid_0's binary_logloss: 0.147568\tvalid_0's macroF1: 0.854753\n",
      "[78]\tvalid_0's binary_logloss: 0.147516\tvalid_0's macroF1: 0.852124\n",
      "[79]\tvalid_0's binary_logloss: 0.147302\tvalid_0's macroF1: 0.850803\n",
      "[80]\tvalid_0's binary_logloss: 0.147218\tvalid_0's macroF1: 0.848146\n",
      "[81]\tvalid_0's binary_logloss: 0.147023\tvalid_0's macroF1: 0.849477\n",
      "[82]\tvalid_0's binary_logloss: 0.146931\tvalid_0's macroF1: 0.847869\n",
      "[83]\tvalid_0's binary_logloss: 0.146821\tvalid_0's macroF1: 0.84654\n",
      "[84]\tvalid_0's binary_logloss: 0.146911\tvalid_0's macroF1: 0.84654\n",
      "[85]\tvalid_0's binary_logloss: 0.146749\tvalid_0's macroF1: 0.848146\n",
      "[86]\tvalid_0's binary_logloss: 0.146588\tvalid_0's macroF1: 0.848672\n",
      "[87]\tvalid_0's binary_logloss: 0.146579\tvalid_0's macroF1: 0.846007\n",
      "[88]\tvalid_0's binary_logloss: 0.146392\tvalid_0's macroF1: 0.847342\n",
      "[89]\tvalid_0's binary_logloss: 0.146366\tvalid_0's macroF1: 0.849477\n",
      "[90]\tvalid_0's binary_logloss: 0.146621\tvalid_0's macroF1: 0.849477\n",
      "[91]\tvalid_0's binary_logloss: 0.146609\tvalid_0's macroF1: 0.848672\n",
      "[92]\tvalid_0's binary_logloss: 0.146487\tvalid_0's macroF1: 0.849997\n",
      "[93]\tvalid_0's binary_logloss: 0.146405\tvalid_0's macroF1: 0.850803\n",
      "[94]\tvalid_0's binary_logloss: 0.146194\tvalid_0's macroF1: 0.852424\n",
      "[95]\tvalid_0's binary_logloss: 0.146034\tvalid_0's macroF1: 0.853238\n",
      "[96]\tvalid_0's binary_logloss: 0.145826\tvalid_0's macroF1: 0.853238\n",
      "[97]\tvalid_0's binary_logloss: 0.145739\tvalid_0's macroF1: 0.849477\n",
      "[98]\tvalid_0's binary_logloss: 0.145567\tvalid_0's macroF1: 0.849997\n",
      "[99]\tvalid_0's binary_logloss: 0.145384\tvalid_0's macroF1: 0.849477\n",
      "[100]\tvalid_0's binary_logloss: 0.145168\tvalid_0's macroF1: 0.852124\n",
      "[1]\tvalid_0's binary_logloss: 0.361825\tvalid_0's macroF1: 0.474268\n",
      "[2]\tvalid_0's binary_logloss: 0.338389\tvalid_0's macroF1: 0.474268\n",
      "[3]\tvalid_0's binary_logloss: 0.317712\tvalid_0's macroF1: 0.474268\n",
      "[4]\tvalid_0's binary_logloss: 0.300439\tvalid_0's macroF1: 0.686092\n",
      "[5]\tvalid_0's binary_logloss: 0.285108\tvalid_0's macroF1: 0.79009\n",
      "[6]\tvalid_0's binary_logloss: 0.272474\tvalid_0's macroF1: 0.808932\n",
      "[7]\tvalid_0's binary_logloss: 0.260439\tvalid_0's macroF1: 0.819089\n",
      "[8]\tvalid_0's binary_logloss: 0.250094\tvalid_0's macroF1: 0.832678\n",
      "[9]\tvalid_0's binary_logloss: 0.240887\tvalid_0's macroF1: 0.835233\n",
      "[10]\tvalid_0's binary_logloss: 0.232986\tvalid_0's macroF1: 0.843085\n",
      "[11]\tvalid_0's binary_logloss: 0.225181\tvalid_0's macroF1: 0.847921\n",
      "[12]\tvalid_0's binary_logloss: 0.218634\tvalid_0's macroF1: 0.851275\n",
      "[13]\tvalid_0's binary_logloss: 0.213265\tvalid_0's macroF1: 0.850978\n",
      "[14]\tvalid_0's binary_logloss: 0.208186\tvalid_0's macroF1: 0.852056\n",
      "[15]\tvalid_0's binary_logloss: 0.204348\tvalid_0's macroF1: 0.853425\n",
      "[16]\tvalid_0's binary_logloss: 0.200164\tvalid_0's macroF1: 0.853118\n",
      "[17]\tvalid_0's binary_logloss: 0.197866\tvalid_0's macroF1: 0.851458\n",
      "[18]\tvalid_0's binary_logloss: 0.194778\tvalid_0's macroF1: 0.854162\n",
      "[19]\tvalid_0's binary_logloss: 0.191728\tvalid_0's macroF1: 0.852812\n",
      "[20]\tvalid_0's binary_logloss: 0.188896\tvalid_0's macroF1: 0.852509\n",
      "[21]\tvalid_0's binary_logloss: 0.185983\tvalid_0's macroF1: 0.856523\n",
      "[22]\tvalid_0's binary_logloss: 0.183326\tvalid_0's macroF1: 0.858182\n",
      "[23]\tvalid_0's binary_logloss: 0.181094\tvalid_0's macroF1: 0.859853\n",
      "[24]\tvalid_0's binary_logloss: 0.179147\tvalid_0's macroF1: 0.861674\n",
      "[25]\tvalid_0's binary_logloss: 0.177323\tvalid_0's macroF1: 0.863475\n",
      "[26]\tvalid_0's binary_logloss: 0.176071\tvalid_0's macroF1: 0.864313\n",
      "[27]\tvalid_0's binary_logloss: 0.174115\tvalid_0's macroF1: 0.865153\n",
      "[28]\tvalid_0's binary_logloss: 0.173053\tvalid_0's macroF1: 0.864313\n",
      "[29]\tvalid_0's binary_logloss: 0.171182\tvalid_0's macroF1: 0.863475\n"
     ]
    },
    {
     "name": "stderr",
     "output_type": "stream",
     "text": [
      "/usr/local/lib/python3.6/dist-packages/sklearn/preprocessing/_label.py:235: DataConversionWarning: A column-vector y was passed when a 1d array was expected. Please change the shape of y to (n_samples, ), for example using ravel().\n",
      "  y = column_or_1d(y, warn=True)\n",
      "/usr/local/lib/python3.6/dist-packages/sklearn/preprocessing/_label.py:268: DataConversionWarning: A column-vector y was passed when a 1d array was expected. Please change the shape of y to (n_samples, ), for example using ravel().\n",
      "  y = column_or_1d(y, warn=True)\n"
     ]
    },
    {
     "name": "stdout",
     "output_type": "stream",
     "text": [
      "[30]\tvalid_0's binary_logloss: 0.170295\tvalid_0's macroF1: 0.861808\n",
      "[31]\tvalid_0's binary_logloss: 0.16862\tvalid_0's macroF1: 0.861808\n",
      "[32]\tvalid_0's binary_logloss: 0.167389\tvalid_0's macroF1: 0.860979\n",
      "[33]\tvalid_0's binary_logloss: 0.165892\tvalid_0's macroF1: 0.859329\n",
      "[34]\tvalid_0's binary_logloss: 0.165316\tvalid_0's macroF1: 0.860979\n",
      "[35]\tvalid_0's binary_logloss: 0.164144\tvalid_0's macroF1: 0.862287\n",
      "[36]\tvalid_0's binary_logloss: 0.163034\tvalid_0's macroF1: 0.864786\n",
      "[37]\tvalid_0's binary_logloss: 0.162377\tvalid_0's macroF1: 0.861808\n",
      "[38]\tvalid_0's binary_logloss: 0.161691\tvalid_0's macroF1: 0.866093\n",
      "[39]\tvalid_0's binary_logloss: 0.160831\tvalid_0's macroF1: 0.865625\n",
      "[40]\tvalid_0's binary_logloss: 0.160052\tvalid_0's macroF1: 0.867311\n",
      "[41]\tvalid_0's binary_logloss: 0.159547\tvalid_0's macroF1: 0.865153\n",
      "[42]\tvalid_0's binary_logloss: 0.158812\tvalid_0's macroF1: 0.866933\n",
      "[43]\tvalid_0's binary_logloss: 0.158624\tvalid_0's macroF1: 0.866933\n",
      "[44]\tvalid_0's binary_logloss: 0.158044\tvalid_0's macroF1: 0.866466\n",
      "[45]\tvalid_0's binary_logloss: 0.157075\tvalid_0's macroF1: 0.866466\n",
      "[46]\tvalid_0's binary_logloss: 0.156502\tvalid_0's macroF1: 0.867311\n",
      "[47]\tvalid_0's binary_logloss: 0.155849\tvalid_0's macroF1: 0.867311\n",
      "[48]\tvalid_0's binary_logloss: 0.155292\tvalid_0's macroF1: 0.86862\n",
      "[49]\tvalid_0's binary_logloss: 0.155174\tvalid_0's macroF1: 0.86862\n",
      "[50]\tvalid_0's binary_logloss: 0.15502\tvalid_0's macroF1: 0.869925\n",
      "[51]\tvalid_0's binary_logloss: 0.154372\tvalid_0's macroF1: 0.870774\n",
      "[52]\tvalid_0's binary_logloss: 0.154037\tvalid_0's macroF1: 0.869925\n",
      "[53]\tvalid_0's binary_logloss: 0.153536\tvalid_0's macroF1: 0.870774\n",
      "[54]\tvalid_0's binary_logloss: 0.153594\tvalid_0's macroF1: 0.870774\n",
      "[55]\tvalid_0's binary_logloss: 0.153559\tvalid_0's macroF1: 0.870774\n",
      "[56]\tvalid_0's binary_logloss: 0.153003\tvalid_0's macroF1: 0.870774\n",
      "[57]\tvalid_0's binary_logloss: 0.152653\tvalid_0's macroF1: 0.869925\n",
      "[58]\tvalid_0's binary_logloss: 0.152502\tvalid_0's macroF1: 0.869925\n",
      "[59]\tvalid_0's binary_logloss: 0.152128\tvalid_0's macroF1: 0.869079\n",
      "[60]\tvalid_0's binary_logloss: 0.152075\tvalid_0's macroF1: 0.867775\n",
      "[61]\tvalid_0's binary_logloss: 0.151802\tvalid_0's macroF1: 0.869468\n",
      "[62]\tvalid_0's binary_logloss: 0.15146\tvalid_0's macroF1: 0.87203\n",
      "[63]\tvalid_0's binary_logloss: 0.150995\tvalid_0's macroF1: 0.871173\n",
      "[64]\tvalid_0's binary_logloss: 0.150636\tvalid_0's macroF1: 0.871173\n",
      "[65]\tvalid_0's binary_logloss: 0.150542\tvalid_0's macroF1: 0.87203\n",
      "[66]\tvalid_0's binary_logloss: 0.150081\tvalid_0's macroF1: 0.87203\n",
      "[67]\tvalid_0's binary_logloss: 0.14987\tvalid_0's macroF1: 0.87289\n",
      "[68]\tvalid_0's binary_logloss: 0.149293\tvalid_0's macroF1: 0.870717\n",
      "[69]\tvalid_0's binary_logloss: 0.149024\tvalid_0's macroF1: 0.870717\n",
      "[70]\tvalid_0's binary_logloss: 0.148626\tvalid_0's macroF1: 0.869861\n",
      "[71]\tvalid_0's binary_logloss: 0.148385\tvalid_0's macroF1: 0.869861\n",
      "[72]\tvalid_0's binary_logloss: 0.148234\tvalid_0's macroF1: 0.870717\n",
      "[73]\tvalid_0's binary_logloss: 0.148204\tvalid_0's macroF1: 0.869861\n",
      "[74]\tvalid_0's binary_logloss: 0.148066\tvalid_0's macroF1: 0.869008\n",
      "[75]\tvalid_0's binary_logloss: 0.147898\tvalid_0's macroF1: 0.869008\n",
      "[76]\tvalid_0's binary_logloss: 0.147966\tvalid_0's macroF1: 0.869861\n",
      "[77]\tvalid_0's binary_logloss: 0.147695\tvalid_0's macroF1: 0.873302\n",
      "[78]\tvalid_0's binary_logloss: 0.147482\tvalid_0's macroF1: 0.872848\n",
      "[79]\tvalid_0's binary_logloss: 0.147045\tvalid_0's macroF1: 0.871981\n",
      "[80]\tvalid_0's binary_logloss: 0.147111\tvalid_0's macroF1: 0.872848\n",
      "[81]\tvalid_0's binary_logloss: 0.147063\tvalid_0's macroF1: 0.870656\n",
      "[82]\tvalid_0's binary_logloss: 0.146875\tvalid_0's macroF1: 0.869793\n",
      "[83]\tvalid_0's binary_logloss: 0.146716\tvalid_0's macroF1: 0.868464\n",
      "[84]\tvalid_0's binary_logloss: 0.146463\tvalid_0's macroF1: 0.868464\n",
      "[85]\tvalid_0's binary_logloss: 0.146334\tvalid_0's macroF1: 0.869793\n",
      "[86]\tvalid_0's binary_logloss: 0.146129\tvalid_0's macroF1: 0.869793\n",
      "[87]\tvalid_0's binary_logloss: 0.146065\tvalid_0's macroF1: 0.870656\n",
      "[88]\tvalid_0's binary_logloss: 0.145666\tvalid_0's macroF1: 0.870656\n",
      "[89]\tvalid_0's binary_logloss: 0.145609\tvalid_0's macroF1: 0.870656\n",
      "[90]\tvalid_0's binary_logloss: 0.145664\tvalid_0's macroF1: 0.870656\n",
      "[91]\tvalid_0's binary_logloss: 0.145311\tvalid_0's macroF1: 0.871118\n",
      "[92]\tvalid_0's binary_logloss: 0.145117\tvalid_0's macroF1: 0.871118\n",
      "[93]\tvalid_0's binary_logloss: 0.145039\tvalid_0's macroF1: 0.869793\n",
      "[94]\tvalid_0's binary_logloss: 0.144879\tvalid_0's macroF1: 0.868933\n",
      "[95]\tvalid_0's binary_logloss: 0.144626\tvalid_0's macroF1: 0.871118\n",
      "[96]\tvalid_0's binary_logloss: 0.144742\tvalid_0's macroF1: 0.870656\n",
      "[97]\tvalid_0's binary_logloss: 0.144654\tvalid_0's macroF1: 0.871981\n",
      "[98]\tvalid_0's binary_logloss: 0.144483\tvalid_0's macroF1: 0.871981\n",
      "[99]\tvalid_0's binary_logloss: 0.144099\tvalid_0's macroF1: 0.870656\n",
      "[100]\tvalid_0's binary_logloss: 0.143991\tvalid_0's macroF1: 0.870656\n"
     ]
    }
   ],
   "source": [
    "for training_index, testing_index in gkf.split(X=x, y=y):\n",
    "    x_train_fold, y_train_fold = x[training_index], y[training_index]\n",
    "    x_test_fold, y_test_fold = x[testing_index], y[testing_index]\n",
    "    model.fit(x_train_fold, y_train_fold, eval_set=(x_test_fold,y_test_fold),eval_metric = lambda y_true, y_pred: [evaluate_macroF1_lgb(y_true,y_pred)])"
   ]
  },
  {
   "cell_type": "markdown",
   "metadata": {},
   "source": [
    "<h2>Model Evaluation</h2>"
   ]
  },
  {
   "cell_type": "code",
   "execution_count": 32,
   "metadata": {},
   "outputs": [],
   "source": [
    "predicted_y = model.predict(x_test)\n",
    "train_pred_y = model.predict(x)"
   ]
  },
  {
   "cell_type": "code",
   "execution_count": 33,
   "metadata": {},
   "outputs": [
    {
     "name": "stdout",
     "output_type": "stream",
     "text": [
      "\n",
      "              precision    recall  f1-score   support\n",
      "\n",
      "           0       0.90      0.89      0.90      1345\n",
      "           1       0.99      0.99      0.99     12395\n",
      "\n",
      "    accuracy                           0.98     13740\n",
      "   macro avg       0.95      0.94      0.94     13740\n",
      "weighted avg       0.98      0.98      0.98     13740\n",
      "\n",
      "\n",
      "[[ 1202   143]\n",
      " [  129 12266]]\n",
      "\n",
      "              precision    recall  f1-score   support\n",
      "\n",
      "           0       0.81      0.73      0.76       336\n",
      "           1       0.97      0.98      0.98      3099\n",
      "\n",
      "    accuracy                           0.96      3435\n",
      "   macro avg       0.89      0.85      0.87      3435\n",
      "weighted avg       0.95      0.96      0.96      3435\n",
      "\n",
      "\n",
      "[[ 244   92]\n",
      " [  58 3041]]\n"
     ]
    }
   ],
   "source": [
    "print(); print(metrics.classification_report(y,train_pred_y))\n",
    "print(); print(metrics.confusion_matrix(y, train_pred_y))\n",
    "\n",
    "print(); print(metrics.classification_report(y_test, predicted_y))\n",
    "print(); print(metrics.confusion_matrix(y_test, predicted_y))"
   ]
  },
  {
   "cell_type": "markdown",
   "metadata": {},
   "source": [
    "<h1>Testing</h1>\n",
    "<h2>Loading the Test Dataset</h2>"
   ]
  },
  {
   "cell_type": "code",
   "execution_count": 34,
   "metadata": {
    "colab": {},
    "colab_type": "code",
    "id": "dRpHFO-hvEvg"
   },
   "outputs": [],
   "source": [
    "test_set = pd.read_csv(data_path+'test.csv', index_col=\"tripid\")"
   ]
  },
  {
   "cell_type": "markdown",
   "metadata": {},
   "source": [
    "<h2>Feature Addition on testing dataset</h2>"
   ]
  },
  {
   "cell_type": "code",
   "execution_count": 35,
   "metadata": {
    "colab": {},
    "colab_type": "code",
    "id": "-aB-vcWQPl-L"
   },
   "outputs": [],
   "source": [
    "test_set['pickup_time'] = pd.to_datetime(test_set['pickup_time'], format=\"%m/%d/%Y %H:%M\")\n",
    "test_set['drop_time'] = pd.to_datetime(test_set['drop_time'], format=\"%m/%d/%Y %H:%M\")"
   ]
  },
  {
   "cell_type": "code",
   "execution_count": 36,
   "metadata": {
    "colab": {},
    "colab_type": "code",
    "id": "-fh6I6oDPrqF"
   },
   "outputs": [],
   "source": [
    "test_set = test_set.assign(timeOfDay=pd.cut(test_set.pickup_time.dt.hour,[-1, 8, 20, 24],labels=['dawn','day', 'night']))"
   ]
  },
  {
   "cell_type": "code",
   "execution_count": 37,
   "metadata": {},
   "outputs": [],
   "source": [
    "test_set.loc[test_set['timeOfDay'] == 'day', 'isNormalCharge'] = 1\n",
    "test_set.loc[test_set['timeOfDay'] != 'day', 'isNormalCharge'] = 0"
   ]
  },
  {
   "cell_type": "code",
   "execution_count": 38,
   "metadata": {
    "colab": {},
    "colab_type": "code",
    "id": "0YIKrGoUPxjD"
   },
   "outputs": [],
   "source": [
    "durations = []\n",
    "for index,row in test_set.iterrows():\n",
    "  provided_duration = row['duration'] #first row of location.lat column here\n",
    "  if math.isnan(provided_duration) or provided_duration <= 0 :\n",
    "    time_dif = (row['drop_time'] - row['pickup_time']).seconds\n",
    "    if(time_dif == 0):\n",
    "        time_dif = np.nan\n",
    "    durations.append(time_dif)\n",
    "  else :  \n",
    "    durations.append(provided_duration)\n",
    "\n",
    "test_set.insert(4,\"time_dif\",durations)"
   ]
  },
  {
   "cell_type": "code",
   "execution_count": 39,
   "metadata": {
    "colab": {},
    "colab_type": "code",
    "id": "N8RKMAziP2Zu"
   },
   "outputs": [],
   "source": [
    "new_column = []                    #empty column for distance\n",
    "for index,row in test_set.iterrows():\n",
    "  lat1 = row['pick_lat'] #first row of location.lat column here\n",
    "  lon1 = row['pick_lon'] #first row of location.long column here\n",
    "  lat2 = row['drop_lat'] #second row of location.lat column here\n",
    "  lon2 = row['drop_lon'] #second row of location.long column here\n",
    "  value = dist_from_coordinates(lat1, lon1, lat2, lon2)  #get the distance\n",
    "  new_column.append(value)   #append the empty list with distance values\n",
    "\n",
    "test_set.insert(4,\"distance\",new_column)"
   ]
  },
  {
   "cell_type": "code",
   "execution_count": 40,
   "metadata": {
    "colab": {},
    "colab_type": "code",
    "id": "fhGdrT68P7u0"
   },
   "outputs": [],
   "source": [
    "test_set['time_driven'] = test_set['duration']  - test_set['meter_waiting']"
   ]
  },
  {
   "cell_type": "code",
   "execution_count": 41,
   "metadata": {
    "colab": {},
    "colab_type": "code",
    "id": "0T1ZhNq4QCFr"
   },
   "outputs": [],
   "source": [
    "chargeperhours = []\n",
    "for index,row in test_set.iterrows():\n",
    "    if(row['meter_waiting'] == 0):\n",
    "        chargeperhour = np.nan\n",
    "    else:\n",
    "        chargeperhour = (row['meter_waiting_fare'] / row['meter_waiting'] * 3600)\n",
    "    chargeperhours.append(chargeperhour)\n",
    "\n",
    "test_set.insert(4,'charge_per_hour',chargeperhours)\n"
   ]
  },
  {
   "cell_type": "code",
   "execution_count": 42,
   "metadata": {
    "colab": {},
    "colab_type": "code",
    "id": "stlHhBUcQHPO"
   },
   "outputs": [],
   "source": [
    "test_set['driving_fare'] = test_set['fare']  - test_set['meter_waiting_fare'] - test_set['additional_fare']"
   ]
  },
  {
   "cell_type": "code",
   "execution_count": 43,
   "metadata": {
    "colab": {},
    "colab_type": "code",
    "id": "3swRfBdUQPab"
   },
   "outputs": [],
   "source": [
    "avgspeeds = []\n",
    "for index,row in test_set.iterrows():\n",
    "    if(row['time_driven'] == 0):\n",
    "        avgspeed = np.nan    \n",
    "    else:\n",
    "        avgspeed = (row['distance'] / row['time_driven'] * 3600)\n",
    "    avgspeeds.append(avgspeed)\n",
    "\n",
    "test_set.insert(4,\"avg_speed\",avgspeeds)\n",
    "\n"
   ]
  },
  {
   "cell_type": "code",
   "execution_count": 44,
   "metadata": {
    "colab": {},
    "colab_type": "code",
    "id": "CbN5feh0QWAF"
   },
   "outputs": [],
   "source": [
    "costsperkm = []\n",
    "for index,row in test_set.iterrows():\n",
    "    if row['distance'] == 0:\n",
    "        costperkm = np.nan\n",
    "            \n",
    "    else:\n",
    "        costperkm = (row['driving_fare'] / row['distance'])\n",
    "    costsperkm.append(costperkm)\n",
    "\n",
    "test_set.insert(4,\"cost_per_km\",costsperkm)"
   ]
  },
  {
   "cell_type": "code",
   "execution_count": 45,
   "metadata": {
    "colab": {},
    "colab_type": "code",
    "id": "G8siIDy9_D2I"
   },
   "outputs": [],
   "source": [
    "test_features = test_set[training_columns]"
   ]
  },
  {
   "cell_type": "markdown",
   "metadata": {
    "colab": {
     "base_uri": "https://localhost:8080/",
     "height": 455
    },
    "colab_type": "code",
    "id": "YGcUrVpWQc6h",
    "outputId": "b45b835c-1c70-4035-ff79-2d936377d9e1"
   },
   "source": [
    "<h2>Prediction using trained model</h2>"
   ]
  },
  {
   "cell_type": "code",
   "execution_count": 47,
   "metadata": {
    "colab": {},
    "colab_type": "code",
    "id": "MeqI1BVR_Fpl"
   },
   "outputs": [],
   "source": [
    "predicted_labels = model.predict(test_features)"
   ]
  },
  {
   "cell_type": "code",
   "execution_count": 48,
   "metadata": {},
   "outputs": [],
   "source": [
    "predicted_labels_df = pd.DataFrame(predicted_labels )"
   ]
  },
  {
   "cell_type": "code",
   "execution_count": 49,
   "metadata": {
    "colab": {},
    "colab_type": "code",
    "id": "qqHn12X6_Gvf"
   },
   "outputs": [],
   "source": [
    "sub_path =os.path.abspath(os.path.join(data_path+'/sample_submission.csv'))\n",
    "submission_set = pd.read_csv(sub_path, index_col=\"tripid\")"
   ]
  },
  {
   "cell_type": "code",
   "execution_count": 50,
   "metadata": {
    "colab": {},
    "colab_type": "code",
    "id": "8Ji-pVGy_H3c"
   },
   "outputs": [],
   "source": [
    "submission_set['prediction']= predicted_labels_df.values[:,0]"
   ]
  },
  {
   "cell_type": "code",
   "execution_count": 51,
   "metadata": {},
   "outputs": [
    {
     "data": {
      "application/javascript": [
       "var kernel = IPython.notebook.kernel;\n",
       "var thename = window.document.getElementById(\"notebook_name\").innerHTML;\n",
       "var command = \"theNotebook = \" + \"'\"+thename+\"'\";\n",
       "kernel.execute(command);\n"
      ],
      "text/plain": [
       "<IPython.core.display.Javascript object>"
      ]
     },
     "metadata": {},
     "output_type": "display_data"
    }
   ],
   "source": [
    "%%javascript\n",
    "var kernel = IPython.notebook.kernel;\n",
    "var thename = window.document.getElementById(\"notebook_name\").innerHTML;\n",
    "var command = \"theNotebook = \" + \"'\"+thename+\"'\";\n",
    "kernel.execute(command);"
   ]
  },
  {
   "cell_type": "markdown",
   "metadata": {},
   "source": [
    "<h2>Submission file generation</h2>"
   ]
  },
  {
   "cell_type": "code",
   "execution_count": 53,
   "metadata": {
    "colab": {
     "base_uri": "https://localhost:8080/",
     "height": 35
    },
    "colab_type": "code",
    "id": "U6dGilvv_JLl",
    "outputId": "a12ca51c-c94a-4f5d-efab-2ebd6a29156a"
   },
   "outputs": [
    {
     "name": "stdout",
     "output_type": "stream",
     "text": [
      "Completed!\n"
     ]
    }
   ],
   "source": [
    "filename = '../../submissions/'+theNotebook+'/'+theNotebook+'_{%i}.csv'\n",
    "dirname = '../../submissions/'+theNotebook\n",
    "fileversion = 1\n",
    "\n",
    "if not os.path.exists(dirname):\n",
    "    os.makedirs(dirname)\n",
    "while glob.glob(filename.replace('{%i}',str(fileversion))) :\n",
    "    fileversion+=1\n",
    "submission_set.to_csv(filename.replace('{%i}',str(fileversion)), index=True)\n",
    "print(\"Completed!\")"
   ]
  },
  {
   "cell_type": "code",
   "execution_count": 52,
   "metadata": {
    "colab": {
     "base_uri": "https://localhost:8080/",
     "height": 72
    },
    "colab_type": "code",
    "id": "cg-I13X0_Q0d",
    "outputId": "e0a6dd1e-8d7f-46f6-f8a8-98406223ba06"
   },
   "outputs": [
    {
     "data": {
      "text/plain": [
       "1    8040\n",
       "0     536\n",
       "Name: prediction, dtype: int64"
      ]
     },
     "execution_count": 52,
     "metadata": {},
     "output_type": "execute_result"
    }
   ],
   "source": [
    "submission_set['prediction'].value_counts()"
   ]
  },
  {
   "cell_type": "code",
   "execution_count": null,
   "metadata": {},
   "outputs": [],
   "source": []
  }
 ],
 "metadata": {
  "colab": {
   "collapsed_sections": [],
   "name": "lightbgm using grid",
   "provenance": []
  },
  "kernelspec": {
   "display_name": "Python 3",
   "language": "python",
   "name": "python3"
  },
  "language_info": {
   "codemirror_mode": {
    "name": "ipython",
    "version": 3
   },
   "file_extension": ".py",
   "mimetype": "text/x-python",
   "name": "python",
   "nbconvert_exporter": "python",
   "pygments_lexer": "ipython3",
   "version": "3.6.9"
  }
 },
 "nbformat": 4,
 "nbformat_minor": 1
}
