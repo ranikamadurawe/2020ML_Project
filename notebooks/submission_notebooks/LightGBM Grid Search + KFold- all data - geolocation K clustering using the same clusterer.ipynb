{
 "cells": [
  {
   "cell_type": "code",
   "execution_count": 1,
   "metadata": {
    "colab": {},
    "colab_type": "code",
    "id": "6BY0u5O7qfR1"
   },
   "outputs": [],
   "source": [
    "import numpy as np\n",
    "import pandas as pd\n",
    "import lightgbm\n",
    "from sklearn.model_selection import train_test_split\n",
    "from sklearn.preprocessing import LabelBinarizer\n",
    "import math\n",
    "from sklearn import metrics\n",
    "from sklearn.model_selection import RandomizedSearchCV, GridSearchCV\n",
    "from sklearn.model_selection import KFold, StratifiedKFold\n",
    "import matplotlib.pyplot as plt\n",
    "import os\n",
    "import glob\n",
    "\n",
    "from sklearn.cluster import DBSCAN, KMeans"
   ]
  },
  {
   "cell_type": "code",
   "execution_count": 2,
   "metadata": {
    "colab": {},
    "colab_type": "code",
    "id": "jaeR-AOtreKu"
   },
   "outputs": [],
   "source": [
    "\n",
    "data_path='/home/madnisal/Documents/ML_Project/datasets/'\n",
    "training_df = pd.read_csv(data_path+'train.csv', index_col=\"tripid\")"
   ]
  },
  {
   "cell_type": "code",
   "execution_count": 3,
   "metadata": {
    "colab": {},
    "colab_type": "code",
    "id": "x2_djb9zOwgg"
   },
   "outputs": [],
   "source": [
    "def dist_from_coordinates(lat1, lon1, lat2, lon2):\n",
    "  R = 6371  # Earth radius in km\n",
    "\n",
    "  #conversion to radians\n",
    "  d_lat = np.radians(lat2-lat1)\n",
    "  d_lon = np.radians(lon2-lon1)\n",
    "\n",
    "  r_lat1 = np.radians(lat1)\n",
    "  r_lat2 = np.radians(lat2)\n",
    "\n",
    "  #haversine formula\n",
    "  a = np.sin(d_lat/2.) **2 + np.cos(r_lat1) * np.cos(r_lat2) * np.sin(d_lon/2.)**2\n",
    "\n",
    "  haversine = 2 * R * np.arcsin(np.sqrt(a))\n",
    "\n",
    "  return haversine"
   ]
  },
  {
   "cell_type": "code",
   "execution_count": 4,
   "metadata": {
    "colab": {},
    "colab_type": "code",
    "id": "fZx_Ut6cOzP9"
   },
   "outputs": [],
   "source": [
    "training_df['pickup_time'] = pd.to_datetime(training_df['pickup_time'], format=\"%m/%d/%Y %H:%M\")\n",
    "training_df['drop_time'] = pd.to_datetime(training_df['drop_time'], format=\"%m/%d/%Y %H:%M\")"
   ]
  },
  {
   "cell_type": "code",
   "execution_count": 5,
   "metadata": {
    "colab": {},
    "colab_type": "code",
    "id": "AmRtNkL2O062"
   },
   "outputs": [],
   "source": [
    "training_df = training_df.assign(timeOfDay=pd.cut(training_df.pickup_time.dt.hour,[-1, 8, 20, 24],labels=['dawn','day', 'night']))"
   ]
  },
  {
   "cell_type": "code",
   "execution_count": 6,
   "metadata": {},
   "outputs": [],
   "source": [
    "training_df.loc[training_df['timeOfDay'] == 'day', 'isNormalCharge'] = 1\n",
    "training_df.loc[training_df['timeOfDay'] != 'day', 'isNormalCharge'] = 0"
   ]
  },
  {
   "cell_type": "code",
   "execution_count": 7,
   "metadata": {
    "colab": {},
    "colab_type": "code",
    "id": "q4CFd-NqO2Un"
   },
   "outputs": [],
   "source": [
    "durations = []\n",
    "for index,row in training_df.iterrows():\n",
    "  provided_duration = row['duration'] #first row of location.lat column here\n",
    "  if math.isnan(provided_duration) or provided_duration <= 0 :\n",
    "    time_dif = (row['drop_time'] - row['pickup_time']).seconds\n",
    "    if(time_dif == 0):\n",
    "        time_dif = np.nan\n",
    "    durations.append(time_dif)\n",
    "  else :  \n",
    "    durations.append(provided_duration)\n",
    "\n",
    "training_df.insert(4,\"time_dif\",durations)"
   ]
  },
  {
   "cell_type": "code",
   "execution_count": 8,
   "metadata": {
    "colab": {},
    "colab_type": "code",
    "id": "OKJBD2vsO6bJ"
   },
   "outputs": [],
   "source": [
    "new_column = []                    #empty column for distance\n",
    "for index,row in training_df.iterrows():\n",
    "  lat1 = row['pick_lat'] #first row of location.lat column here\n",
    "  lon1 = row['pick_lon'] #first row of location.long column here\n",
    "  lat2 = row['drop_lat'] #second row of location.lat column here\n",
    "  lon2 = row['drop_lon'] #second row of location.long column here\n",
    "  value = dist_from_coordinates(lat1, lon1, lat2, lon2)  #get the distance\n",
    "  new_column.append(value)   #append the empty list with distance values\n",
    "\n",
    "training_df.insert(4,\"distance\",new_column)"
   ]
  },
  {
   "cell_type": "code",
   "execution_count": 9,
   "metadata": {
    "colab": {},
    "colab_type": "code",
    "id": "EDFvgdsoO8rC"
   },
   "outputs": [],
   "source": [
    "training_df['time_driven'] = training_df['duration']  - training_df['meter_waiting']"
   ]
  },
  {
   "cell_type": "code",
   "execution_count": 10,
   "metadata": {
    "colab": {},
    "colab_type": "code",
    "id": "eQOTKxsNO-CH"
   },
   "outputs": [],
   "source": [
    "chargeperhours = []\n",
    "for index,row in training_df.iterrows():\n",
    "    if(row['meter_waiting'] == 0):\n",
    "        chargeperhour = np.nan\n",
    "    else:\n",
    "        chargeperhour = (row['meter_waiting_fare'] / row['meter_waiting'] * 3600)\n",
    "    chargeperhours.append(chargeperhour)\n",
    "\n",
    "training_df.insert(4,'charge_per_hour',chargeperhours)\n"
   ]
  },
  {
   "cell_type": "code",
   "execution_count": 11,
   "metadata": {
    "colab": {},
    "colab_type": "code",
    "id": "c9OpngXwPAiv"
   },
   "outputs": [],
   "source": [
    "training_df['driving_fare'] = training_df['fare']  - training_df['meter_waiting_fare'] - training_df['additional_fare']"
   ]
  },
  {
   "cell_type": "code",
   "execution_count": 12,
   "metadata": {
    "colab": {},
    "colab_type": "code",
    "id": "ECO9WaT5PB6O"
   },
   "outputs": [],
   "source": [
    "avgspeeds = []\n",
    "for index,row in training_df.iterrows():\n",
    "    if(row['time_driven'] == 0):\n",
    "        avgspeed = np.nan\n",
    "    else:\n",
    "        avgspeed = (row['distance'] / row['time_driven'] * 3600)\n",
    "    avgspeeds.append(avgspeed)\n",
    "\n",
    "training_df.insert(4,\"avg_speed\",avgspeeds)\n",
    "\n"
   ]
  },
  {
   "cell_type": "code",
   "execution_count": 13,
   "metadata": {
    "colab": {},
    "colab_type": "code",
    "id": "j1DDDw52PGUY"
   },
   "outputs": [],
   "source": [
    "costsperkm = []\n",
    "for index,row in training_df.iterrows():\n",
    "    if row['distance'] == 0:\n",
    "        costperkm = np.nan\n",
    "            \n",
    "    else:\n",
    "        costperkm = (row['driving_fare'] / row['distance'])\n",
    "    costsperkm.append(costperkm)\n",
    "\n",
    "training_df.insert(4,\"cost_per_km\",costsperkm)"
   ]
  },
  {
   "cell_type": "code",
   "execution_count": 14,
   "metadata": {
    "colab": {},
    "colab_type": "code",
    "id": "zVsGZhgQrktE"
   },
   "outputs": [],
   "source": [
    "training_df = training_df.replace({'label': {'incorrect': 0, 'correct' : 1}})"
   ]
  },
  {
   "cell_type": "markdown",
   "metadata": {},
   "source": [
    "<h2>Geolocation clustering</h2>"
   ]
  },
  {
   "cell_type": "code",
   "execution_count": 15,
   "metadata": {},
   "outputs": [],
   "source": [
    "pickup_locations = training_df[['pick_lat','pick_lon']]\n",
    "drop_locations = training_df[['drop_lat','drop_lon']]"
   ]
  },
  {
   "cell_type": "code",
   "execution_count": 16,
   "metadata": {},
   "outputs": [
    {
     "data": {
      "text/plain": [
       "KMeans(algorithm='auto', copy_x=True, init='k-means++', max_iter=300,\n",
       "       n_clusters=5, n_init=10, n_jobs=None, precompute_distances='auto',\n",
       "       random_state=None, tol=0.0001, verbose=0)"
      ]
     },
     "execution_count": 16,
     "metadata": {},
     "output_type": "execute_result"
    }
   ],
   "source": [
    "kmeans = KMeans(n_clusters = 5, init ='k-means++')\n",
    "kmeans.fit(pickup_locations)"
   ]
  },
  {
   "cell_type": "code",
   "execution_count": 17,
   "metadata": {},
   "outputs": [],
   "source": [
    "training_df['pickup_cluster_label'] = kmeans.predict(pickup_locations)"
   ]
  },
  {
   "cell_type": "code",
   "execution_count": 18,
   "metadata": {},
   "outputs": [],
   "source": [
    "training_df['drop_cluster_label'] = kmeans.predict(drop_locations)"
   ]
  },
  {
   "cell_type": "markdown",
   "metadata": {},
   "source": [
    "<h2>Selecting the features</h2>"
   ]
  },
  {
   "cell_type": "code",
   "execution_count": 19,
   "metadata": {},
   "outputs": [
    {
     "data": {
      "text/plain": [
       "Index(['additional_fare', 'duration', 'meter_waiting', 'meter_waiting_fare',\n",
       "       'cost_per_km', 'avg_speed', 'charge_per_hour', 'distance', 'time_dif',\n",
       "       'meter_waiting_till_pickup', 'pickup_time', 'drop_time', 'pick_lat',\n",
       "       'pick_lon', 'drop_lat', 'drop_lon', 'fare', 'label', 'timeOfDay',\n",
       "       'isNormalCharge', 'time_driven', 'driving_fare', 'pickup_cluster_label',\n",
       "       'drop_cluster_label'],\n",
       "      dtype='object')"
      ]
     },
     "execution_count": 19,
     "metadata": {},
     "output_type": "execute_result"
    }
   ],
   "source": [
    "training_df.columns"
   ]
  },
  {
   "cell_type": "code",
   "execution_count": 20,
   "metadata": {},
   "outputs": [],
   "source": [
    "training_columns = ['meter_waiting','meter_waiting_fare','fare','additional_fare', 'distance','cost_per_km', 'avg_speed',  'time_dif','time_driven', 'charge_per_hour', 'driving_fare', 'isNormalCharge','drop_cluster_label','pickup_cluster_label']"
   ]
  },
  {
   "cell_type": "code",
   "execution_count": 21,
   "metadata": {},
   "outputs": [],
   "source": [
    "training_columns = ['meter_waiting','meter_waiting_fare','fare','additional_fare', 'distance','cost_per_km', 'avg_speed',  'time_dif','time_driven', 'charge_per_hour', 'driving_fare', 'isNormalCharge','pick_lat','pick_lon','drop_lat','drop_lon','drop_cluster_label','pickup_cluster_label']"
   ]
  },
  {
   "cell_type": "code",
   "execution_count": 22,
   "metadata": {
    "colab": {},
    "colab_type": "code",
    "id": "tnbpcAUqruuZ"
   },
   "outputs": [],
   "source": [
    "target_column = ['label']"
   ]
  },
  {
   "cell_type": "code",
   "execution_count": 23,
   "metadata": {},
   "outputs": [],
   "source": [
    "training_df = training_df.drop(190167541)"
   ]
  },
  {
   "cell_type": "code",
   "execution_count": 24,
   "metadata": {
    "colab": {},
    "colab_type": "code",
    "id": "PrUJfvL1r4pI"
   },
   "outputs": [],
   "source": [
    "x = training_df[training_columns].values\n",
    "y = training_df[target_column].values"
   ]
  },
  {
   "cell_type": "code",
   "execution_count": 25,
   "metadata": {
    "colab": {},
    "colab_type": "code",
    "id": "Xfow1Vm-sBI9"
   },
   "outputs": [],
   "source": [
    "x, x_test, y, y_test = train_test_split(x, y, test_size=0.2, random_state=42, stratify=y)"
   ]
  },
  {
   "cell_type": "code",
   "execution_count": 26,
   "metadata": {},
   "outputs": [
    {
     "data": {
      "text/plain": [
       "1    15494\n",
       "0     1681\n",
       "Name: label, dtype: int64"
      ]
     },
     "execution_count": 26,
     "metadata": {},
     "output_type": "execute_result"
    }
   ],
   "source": [
    "training_df['label'].value_counts()"
   ]
  },
  {
   "cell_type": "markdown",
   "metadata": {},
   "source": [
    "<h2>Choosing the best model</h2>"
   ]
  },
  {
   "cell_type": "code",
   "execution_count": 27,
   "metadata": {},
   "outputs": [],
   "source": [
    "def focal_loss_lgb_eval_error(y_true, y_pred, alpha=.25, gamma=2.):\n",
    "    a,g = alpha, gamma\n",
    "    p = 1/(1+np.exp(-y_pred))\n",
    "    loss = -( a*y_true + (1-a)*(1-y_true) ) * (( 1 - ( y_true*p + (1-y_true)*(1-p)) )**g) * ( y_true*np.log(p)+(1-y_true)*np.log(1-p) )\n",
    "    return 'focal_loss', np.mean(loss), False"
   ]
  },
  {
   "cell_type": "code",
   "execution_count": 28,
   "metadata": {},
   "outputs": [],
   "source": [
    "from sklearn.metrics import f1_score\n",
    "def evaluate_macroF1_lgb(y_true, y_pred):  \n",
    "    y_hat = np.where(y_pred < 0.5, 0, 1) \n",
    "    f1 = f1_score(y_true, y_hat, average='macro')\n",
    "    return ('macroF1', f1, True) "
   ]
  },
  {
   "cell_type": "code",
   "execution_count": 29,
   "metadata": {},
   "outputs": [],
   "source": [
    "gkf = StratifiedKFold(n_splits=5, shuffle=True, random_state=42)"
   ]
  },
  {
   "cell_type": "code",
   "execution_count": 30,
   "metadata": {},
   "outputs": [],
   "source": [
    "model = lightgbm.LGBMClassifier(class_weight={0:1.5,1:1}, learning_rate=0.1)"
   ]
  },
  {
   "cell_type": "code",
   "execution_count": 31,
   "metadata": {},
   "outputs": [
    {
     "name": "stderr",
     "output_type": "stream",
     "text": [
      "/usr/local/lib/python3.6/dist-packages/sklearn/preprocessing/_label.py:235: DataConversionWarning: A column-vector y was passed when a 1d array was expected. Please change the shape of y to (n_samples, ), for example using ravel().\n",
      "  y = column_or_1d(y, warn=True)\n",
      "/usr/local/lib/python3.6/dist-packages/sklearn/preprocessing/_label.py:268: DataConversionWarning: A column-vector y was passed when a 1d array was expected. Please change the shape of y to (n_samples, ), for example using ravel().\n",
      "  y = column_or_1d(y, warn=True)\n"
     ]
    },
    {
     "name": "stdout",
     "output_type": "stream",
     "text": [
      "[1]\tvalid_0's binary_logloss: 0.28951\tvalid_0's macroF1: 0.474268\n",
      "[2]\tvalid_0's binary_logloss: 0.266245\tvalid_0's macroF1: 0.474268\n",
      "[3]\tvalid_0's binary_logloss: 0.248837\tvalid_0's macroF1: 0.474268\n",
      "[4]\tvalid_0's binary_logloss: 0.235365\tvalid_0's macroF1: 0.474268\n",
      "[5]\tvalid_0's binary_logloss: 0.224279\tvalid_0's macroF1: 0.691565\n",
      "[6]\tvalid_0's binary_logloss: 0.214593\tvalid_0's macroF1: 0.743383\n",
      "[7]\tvalid_0's binary_logloss: 0.206098\tvalid_0's macroF1: 0.79792\n",
      "[8]\tvalid_0's binary_logloss: 0.198465\tvalid_0's macroF1: 0.810983\n",
      "[9]\tvalid_0's binary_logloss: 0.192515\tvalid_0's macroF1: 0.820103\n",
      "[10]\tvalid_0's binary_logloss: 0.186296\tvalid_0's macroF1: 0.826652\n",
      "[11]\tvalid_0's binary_logloss: 0.181639\tvalid_0's macroF1: 0.837845\n",
      "[12]\tvalid_0's binary_logloss: 0.177881\tvalid_0's macroF1: 0.839369\n",
      "[13]\tvalid_0's binary_logloss: 0.174443\tvalid_0's macroF1: 0.837385\n",
      "[14]\tvalid_0's binary_logloss: 0.171348\tvalid_0's macroF1: 0.840413\n",
      "[15]\tvalid_0's binary_logloss: 0.16799\tvalid_0's macroF1: 0.842038\n",
      "[16]\tvalid_0's binary_logloss: 0.165425\tvalid_0's macroF1: 0.845577\n",
      "[17]\tvalid_0's binary_logloss: 0.163209\tvalid_0's macroF1: 0.842649\n",
      "[18]\tvalid_0's binary_logloss: 0.160744\tvalid_0's macroF1: 0.844116\n",
      "[19]\tvalid_0's binary_logloss: 0.159037\tvalid_0's macroF1: 0.847617\n",
      "[20]\tvalid_0's binary_logloss: 0.156753\tvalid_0's macroF1: 0.849633\n",
      "[21]\tvalid_0's binary_logloss: 0.155292\tvalid_0's macroF1: 0.851364\n",
      "[22]\tvalid_0's binary_logloss: 0.153446\tvalid_0's macroF1: 0.855646\n",
      "[23]\tvalid_0's binary_logloss: 0.152051\tvalid_0's macroF1: 0.8576\n",
      "[24]\tvalid_0's binary_logloss: 0.150811\tvalid_0's macroF1: 0.85619\n",
      "[25]\tvalid_0's binary_logloss: 0.149999\tvalid_0's macroF1: 0.859878\n",
      "[26]\tvalid_0's binary_logloss: 0.149111\tvalid_0's macroF1: 0.85619\n",
      "[27]\tvalid_0's binary_logloss: 0.148242\tvalid_0's macroF1: 0.8576\n",
      "[28]\tvalid_0's binary_logloss: 0.147142\tvalid_0's macroF1: 0.864567\n",
      "[29]\tvalid_0's binary_logloss: 0.145915\tvalid_0's macroF1: 0.863692\n",
      "[30]\tvalid_0's binary_logloss: 0.145339\tvalid_0's macroF1: 0.864567\n",
      "[31]\tvalid_0's binary_logloss: 0.144779\tvalid_0's macroF1: 0.865068\n",
      "[32]\tvalid_0's binary_logloss: 0.14426\tvalid_0's macroF1: 0.864195\n",
      "[33]\tvalid_0's binary_logloss: 0.143556\tvalid_0's macroF1: 0.862819\n",
      "[34]\tvalid_0's binary_logloss: 0.143528\tvalid_0's macroF1: 0.863325\n",
      "[35]\tvalid_0's binary_logloss: 0.143199\tvalid_0's macroF1: 0.863325\n",
      "[36]\tvalid_0's binary_logloss: 0.143059\tvalid_0's macroF1: 0.86195\n",
      "[37]\tvalid_0's binary_logloss: 0.142603\tvalid_0's macroF1: 0.861439\n",
      "[38]\tvalid_0's binary_logloss: 0.14266\tvalid_0's macroF1: 0.861439\n",
      "[39]\tvalid_0's binary_logloss: 0.142427\tvalid_0's macroF1: 0.862819\n",
      "[40]\tvalid_0's binary_logloss: 0.142208\tvalid_0's macroF1: 0.86195\n",
      "[41]\tvalid_0's binary_logloss: 0.142347\tvalid_0's macroF1: 0.862819\n",
      "[42]\tvalid_0's binary_logloss: 0.142386\tvalid_0's macroF1: 0.859706\n",
      "[43]\tvalid_0's binary_logloss: 0.142342\tvalid_0's macroF1: 0.858844\n",
      "[44]\tvalid_0's binary_logloss: 0.142326\tvalid_0's macroF1: 0.864195\n",
      "[45]\tvalid_0's binary_logloss: 0.142399\tvalid_0's macroF1: 0.862458\n",
      "[46]\tvalid_0's binary_logloss: 0.142228\tvalid_0's macroF1: 0.863325\n",
      "[47]\tvalid_0's binary_logloss: 0.14221\tvalid_0's macroF1: 0.863325\n",
      "[48]\tvalid_0's binary_logloss: 0.142256\tvalid_0's macroF1: 0.863325\n",
      "[49]\tvalid_0's binary_logloss: 0.14229\tvalid_0's macroF1: 0.863325\n",
      "[50]\tvalid_0's binary_logloss: 0.142292\tvalid_0's macroF1: 0.86195\n",
      "[51]\tvalid_0's binary_logloss: 0.142416\tvalid_0's macroF1: 0.862458\n",
      "[52]\tvalid_0's binary_logloss: 0.142098\tvalid_0's macroF1: 0.863325\n",
      "[53]\tvalid_0's binary_logloss: 0.142202\tvalid_0's macroF1: 0.863325\n",
      "[54]\tvalid_0's binary_logloss: 0.142075\tvalid_0's macroF1: 0.863325\n",
      "[55]\tvalid_0's binary_logloss: 0.142072\tvalid_0's macroF1: 0.862458\n",
      "[56]\tvalid_0's binary_logloss: 0.142191\tvalid_0's macroF1: 0.859875\n",
      "[57]\tvalid_0's binary_logloss: 0.142492\tvalid_0's macroF1: 0.859875\n",
      "[58]\tvalid_0's binary_logloss: 0.14242\tvalid_0's macroF1: 0.86124\n",
      "[59]\tvalid_0's binary_logloss: 0.142399\tvalid_0's macroF1: 0.86124\n",
      "[60]\tvalid_0's binary_logloss: 0.142454\tvalid_0's macroF1: 0.862099\n",
      "[61]\tvalid_0's binary_logloss: 0.142505\tvalid_0's macroF1: 0.862099\n",
      "[62]\tvalid_0's binary_logloss: 0.142791\tvalid_0's macroF1: 0.862099\n",
      "[63]\tvalid_0's binary_logloss: 0.14248\tvalid_0's macroF1: 0.860384\n",
      "[64]\tvalid_0's binary_logloss: 0.142399\tvalid_0's macroF1: 0.859875\n",
      "[65]\tvalid_0's binary_logloss: 0.142683\tvalid_0's macroF1: 0.858168\n",
      "[66]\tvalid_0's binary_logloss: 0.142724\tvalid_0's macroF1: 0.858168\n",
      "[67]\tvalid_0's binary_logloss: 0.143042\tvalid_0's macroF1: 0.858168\n",
      "[68]\tvalid_0's binary_logloss: 0.143197\tvalid_0's macroF1: 0.85902\n",
      "[69]\tvalid_0's binary_logloss: 0.142872\tvalid_0's macroF1: 0.860384\n",
      "[70]\tvalid_0's binary_logloss: 0.14309\tvalid_0's macroF1: 0.860384\n",
      "[71]\tvalid_0's binary_logloss: 0.143249\tvalid_0's macroF1: 0.860384\n",
      "[72]\tvalid_0's binary_logloss: 0.143353\tvalid_0's macroF1: 0.8626\n",
      "[73]\tvalid_0's binary_logloss: 0.143805\tvalid_0's macroF1: 0.86124\n",
      "[74]\tvalid_0's binary_logloss: 0.143685\tvalid_0's macroF1: 0.861743\n",
      "[75]\tvalid_0's binary_logloss: 0.143803\tvalid_0's macroF1: 0.8626\n",
      "[76]\tvalid_0's binary_logloss: 0.143717\tvalid_0's macroF1: 0.8626\n",
      "[77]\tvalid_0's binary_logloss: 0.144031\tvalid_0's macroF1: 0.861743\n",
      "[78]\tvalid_0's binary_logloss: 0.144208\tvalid_0's macroF1: 0.8626\n",
      "[79]\tvalid_0's binary_logloss: 0.144285\tvalid_0's macroF1: 0.8626\n",
      "[80]\tvalid_0's binary_logloss: 0.144427\tvalid_0's macroF1: 0.861743\n",
      "[81]\tvalid_0's binary_logloss: 0.144272\tvalid_0's macroF1: 0.8626\n",
      "[82]\tvalid_0's binary_logloss: 0.144315\tvalid_0's macroF1: 0.861743\n",
      "[83]\tvalid_0's binary_logloss: 0.144543\tvalid_0's macroF1: 0.860384\n",
      "[84]\tvalid_0's binary_logloss: 0.144776\tvalid_0's macroF1: 0.860384\n",
      "[85]\tvalid_0's binary_logloss: 0.144772\tvalid_0's macroF1: 0.860384\n",
      "[86]\tvalid_0's binary_logloss: 0.144485\tvalid_0's macroF1: 0.860384\n",
      "[87]\tvalid_0's binary_logloss: 0.144737\tvalid_0's macroF1: 0.86124\n",
      "[88]\tvalid_0's binary_logloss: 0.144772\tvalid_0's macroF1: 0.859875\n",
      "[89]\tvalid_0's binary_logloss: 0.144677\tvalid_0's macroF1: 0.85902\n",
      "[90]\tvalid_0's binary_logloss: 0.144716\tvalid_0's macroF1: 0.8568\n",
      "[91]\tvalid_0's binary_logloss: 0.144753\tvalid_0's macroF1: 0.8568\n",
      "[92]\tvalid_0's binary_logloss: 0.144722\tvalid_0's macroF1: 0.85765\n",
      "[93]\tvalid_0's binary_logloss: 0.144512\tvalid_0's macroF1: 0.855426\n",
      "[94]\tvalid_0's binary_logloss: 0.144418\tvalid_0's macroF1: 0.8568\n",
      "[95]\tvalid_0's binary_logloss: 0.144187\tvalid_0's macroF1: 0.855426\n",
      "[96]\tvalid_0's binary_logloss: 0.144416\tvalid_0's macroF1: 0.855748\n",
      "[97]\tvalid_0's binary_logloss: 0.144443\tvalid_0's macroF1: 0.855748\n",
      "[98]\tvalid_0's binary_logloss: 0.144722\tvalid_0's macroF1: 0.855748\n",
      "[99]\tvalid_0's binary_logloss: 0.144554\tvalid_0's macroF1: 0.855748\n",
      "[100]\tvalid_0's binary_logloss: 0.144442\tvalid_0's macroF1: 0.855748\n",
      "[1]\tvalid_0's binary_logloss: 0.292416\tvalid_0's macroF1: 0.474268\n",
      "[2]\tvalid_0's binary_logloss: 0.27074\tvalid_0's macroF1: 0.474268\n",
      "[3]\tvalid_0's binary_logloss: 0.254827\tvalid_0's macroF1: 0.474268\n",
      "[4]\tvalid_0's binary_logloss: 0.241028\tvalid_0's macroF1: 0.474268\n",
      "[5]\tvalid_0's binary_logloss: 0.229839\tvalid_0's macroF1: 0.664717\n",
      "[6]\tvalid_0's binary_logloss: 0.220006\tvalid_0's macroF1: 0.739199\n",
      "[7]\tvalid_0's binary_logloss: 0.212167\tvalid_0's macroF1: 0.765945\n",
      "[8]\tvalid_0's binary_logloss: 0.204256\tvalid_0's macroF1: 0.786269\n",
      "[9]\tvalid_0's binary_logloss: 0.198526\tvalid_0's macroF1: 0.801485\n",
      "[10]\tvalid_0's binary_logloss: 0.193344\tvalid_0's macroF1: 0.804075\n",
      "[11]\tvalid_0's binary_logloss: 0.188255\tvalid_0's macroF1: 0.810014\n",
      "[12]\tvalid_0's binary_logloss: 0.184398\tvalid_0's macroF1: 0.812437\n",
      "[13]\tvalid_0's binary_logloss: 0.180773\tvalid_0's macroF1: 0.80992\n",
      "[14]\tvalid_0's binary_logloss: 0.17735\tvalid_0's macroF1: 0.813939\n",
      "[15]\tvalid_0's binary_logloss: 0.174694\tvalid_0's macroF1: 0.813939\n",
      "[16]\tvalid_0's binary_logloss: 0.171739\tvalid_0's macroF1: 0.815564\n",
      "[17]\tvalid_0's binary_logloss: 0.169926\tvalid_0's macroF1: 0.817085\n",
      "[18]\tvalid_0's binary_logloss: 0.167485\tvalid_0's macroF1: 0.823448\n",
      "[19]\tvalid_0's binary_logloss: 0.166202\tvalid_0's macroF1: 0.831932\n"
     ]
    },
    {
     "name": "stderr",
     "output_type": "stream",
     "text": [
      "/usr/local/lib/python3.6/dist-packages/sklearn/preprocessing/_label.py:235: DataConversionWarning: A column-vector y was passed when a 1d array was expected. Please change the shape of y to (n_samples, ), for example using ravel().\n",
      "  y = column_or_1d(y, warn=True)\n",
      "/usr/local/lib/python3.6/dist-packages/sklearn/preprocessing/_label.py:268: DataConversionWarning: A column-vector y was passed when a 1d array was expected. Please change the shape of y to (n_samples, ), for example using ravel().\n",
      "  y = column_or_1d(y, warn=True)\n"
     ]
    },
    {
     "name": "stdout",
     "output_type": "stream",
     "text": [
      "[20]\tvalid_0's binary_logloss: 0.164609\tvalid_0's macroF1: 0.832602\n",
      "[21]\tvalid_0's binary_logloss: 0.163247\tvalid_0's macroF1: 0.832409\n",
      "[22]\tvalid_0's binary_logloss: 0.162132\tvalid_0's macroF1: 0.830702\n",
      "[23]\tvalid_0's binary_logloss: 0.160998\tvalid_0's macroF1: 0.833524\n",
      "[24]\tvalid_0's binary_logloss: 0.160235\tvalid_0's macroF1: 0.832678\n",
      "[25]\tvalid_0's binary_logloss: 0.158948\tvalid_0's macroF1: 0.835656\n",
      "[26]\tvalid_0's binary_logloss: 0.158305\tvalid_0's macroF1: 0.837136\n",
      "[27]\tvalid_0's binary_logloss: 0.157531\tvalid_0's macroF1: 0.837136\n",
      "[28]\tvalid_0's binary_logloss: 0.157287\tvalid_0's macroF1: 0.837987\n",
      "[29]\tvalid_0's binary_logloss: 0.156509\tvalid_0's macroF1: 0.842397\n",
      "[30]\tvalid_0's binary_logloss: 0.155975\tvalid_0's macroF1: 0.838841\n",
      "[31]\tvalid_0's binary_logloss: 0.155329\tvalid_0's macroF1: 0.837136\n",
      "[32]\tvalid_0's binary_logloss: 0.154762\tvalid_0's macroF1: 0.840933\n",
      "[33]\tvalid_0's binary_logloss: 0.154228\tvalid_0's macroF1: 0.842397\n",
      "[34]\tvalid_0's binary_logloss: 0.153651\tvalid_0's macroF1: 0.839463\n",
      "[35]\tvalid_0's binary_logloss: 0.153141\tvalid_0's macroF1: 0.842397\n",
      "[36]\tvalid_0's binary_logloss: 0.152941\tvalid_0's macroF1: 0.844451\n",
      "[37]\tvalid_0's binary_logloss: 0.15261\tvalid_0's macroF1: 0.845897\n",
      "[38]\tvalid_0's binary_logloss: 0.152175\tvalid_0's macroF1: 0.844451\n",
      "[39]\tvalid_0's binary_logloss: 0.151807\tvalid_0's macroF1: 0.841542\n",
      "[40]\tvalid_0's binary_logloss: 0.151526\tvalid_0's macroF1: 0.845308\n",
      "[41]\tvalid_0's binary_logloss: 0.151318\tvalid_0's macroF1: 0.845308\n",
      "[42]\tvalid_0's binary_logloss: 0.151228\tvalid_0's macroF1: 0.845308\n",
      "[43]\tvalid_0's binary_logloss: 0.150973\tvalid_0's macroF1: 0.846756\n",
      "[44]\tvalid_0's binary_logloss: 0.151129\tvalid_0's macroF1: 0.84906\n",
      "[45]\tvalid_0's binary_logloss: 0.150733\tvalid_0's macroF1: 0.846169\n",
      "[46]\tvalid_0's binary_logloss: 0.150286\tvalid_0's macroF1: 0.84906\n",
      "[47]\tvalid_0's binary_logloss: 0.150234\tvalid_0's macroF1: 0.84906\n",
      "[48]\tvalid_0's binary_logloss: 0.150281\tvalid_0's macroF1: 0.84906\n",
      "[49]\tvalid_0's binary_logloss: 0.150697\tvalid_0's macroF1: 0.847337\n",
      "[50]\tvalid_0's binary_logloss: 0.150843\tvalid_0's macroF1: 0.846481\n",
      "[51]\tvalid_0's binary_logloss: 0.150712\tvalid_0's macroF1: 0.847337\n",
      "[52]\tvalid_0's binary_logloss: 0.150676\tvalid_0's macroF1: 0.847914\n",
      "[53]\tvalid_0's binary_logloss: 0.150371\tvalid_0's macroF1: 0.848772\n",
      "[54]\tvalid_0's binary_logloss: 0.150565\tvalid_0's macroF1: 0.848772\n",
      "[55]\tvalid_0's binary_logloss: 0.150564\tvalid_0's macroF1: 0.84906\n",
      "[56]\tvalid_0's binary_logloss: 0.150336\tvalid_0's macroF1: 0.84906\n",
      "[57]\tvalid_0's binary_logloss: 0.150248\tvalid_0's macroF1: 0.84906\n",
      "[58]\tvalid_0's binary_logloss: 0.150233\tvalid_0's macroF1: 0.851364\n",
      "[59]\tvalid_0's binary_logloss: 0.15035\tvalid_0's macroF1: 0.851364\n",
      "[60]\tvalid_0's binary_logloss: 0.149862\tvalid_0's macroF1: 0.850795\n",
      "[61]\tvalid_0's binary_logloss: 0.149642\tvalid_0's macroF1: 0.852235\n",
      "[62]\tvalid_0's binary_logloss: 0.149671\tvalid_0's macroF1: 0.852235\n",
      "[63]\tvalid_0's binary_logloss: 0.14946\tvalid_0's macroF1: 0.851364\n",
      "[64]\tvalid_0's binary_logloss: 0.149299\tvalid_0's macroF1: 0.851929\n",
      "[65]\tvalid_0's binary_logloss: 0.149483\tvalid_0's macroF1: 0.850497\n",
      "[66]\tvalid_0's binary_logloss: 0.149553\tvalid_0's macroF1: 0.849633\n",
      "[67]\tvalid_0's binary_logloss: 0.149548\tvalid_0's macroF1: 0.849633\n",
      "[68]\tvalid_0's binary_logloss: 0.149787\tvalid_0's macroF1: 0.850497\n",
      "[69]\tvalid_0's binary_logloss: 0.149937\tvalid_0's macroF1: 0.850497\n",
      "[70]\tvalid_0's binary_logloss: 0.150103\tvalid_0's macroF1: 0.849633\n",
      "[71]\tvalid_0's binary_logloss: 0.15048\tvalid_0's macroF1: 0.849633\n",
      "[72]\tvalid_0's binary_logloss: 0.150331\tvalid_0's macroF1: 0.849633\n",
      "[73]\tvalid_0's binary_logloss: 0.150455\tvalid_0's macroF1: 0.849633\n",
      "[74]\tvalid_0's binary_logloss: 0.150631\tvalid_0's macroF1: 0.849633\n",
      "[75]\tvalid_0's binary_logloss: 0.150746\tvalid_0's macroF1: 0.847914\n",
      "[76]\tvalid_0's binary_logloss: 0.151016\tvalid_0's macroF1: 0.848772\n",
      "[77]\tvalid_0's binary_logloss: 0.151163\tvalid_0's macroF1: 0.848772\n",
      "[78]\tvalid_0's binary_logloss: 0.151222\tvalid_0's macroF1: 0.848772\n",
      "[79]\tvalid_0's binary_logloss: 0.150972\tvalid_0's macroF1: 0.847914\n",
      "[80]\tvalid_0's binary_logloss: 0.151162\tvalid_0's macroF1: 0.847914\n",
      "[81]\tvalid_0's binary_logloss: 0.151266\tvalid_0's macroF1: 0.847914\n",
      "[82]\tvalid_0's binary_logloss: 0.151081\tvalid_0's macroF1: 0.848772\n",
      "[83]\tvalid_0's binary_logloss: 0.151036\tvalid_0's macroF1: 0.848772\n",
      "[84]\tvalid_0's binary_logloss: 0.150987\tvalid_0's macroF1: 0.847914\n",
      "[85]\tvalid_0's binary_logloss: 0.151006\tvalid_0's macroF1: 0.847914\n",
      "[86]\tvalid_0's binary_logloss: 0.15077\tvalid_0's macroF1: 0.850765\n",
      "[87]\tvalid_0's binary_logloss: 0.150923\tvalid_0's macroF1: 0.850765\n",
      "[88]\tvalid_0's binary_logloss: 0.151264\tvalid_0's macroF1: 0.849342\n",
      "[89]\tvalid_0's binary_logloss: 0.151328\tvalid_0's macroF1: 0.848772\n",
      "[90]\tvalid_0's binary_logloss: 0.151437\tvalid_0's macroF1: 0.848772\n",
      "[91]\tvalid_0's binary_logloss: 0.15175\tvalid_0's macroF1: 0.848772\n",
      "[92]\tvalid_0's binary_logloss: 0.151906\tvalid_0's macroF1: 0.849633\n",
      "[93]\tvalid_0's binary_logloss: 0.151876\tvalid_0's macroF1: 0.849633\n",
      "[94]\tvalid_0's binary_logloss: 0.151997\tvalid_0's macroF1: 0.851063\n",
      "[95]\tvalid_0's binary_logloss: 0.152322\tvalid_0's macroF1: 0.851063\n",
      "[96]\tvalid_0's binary_logloss: 0.15234\tvalid_0's macroF1: 0.851063\n",
      "[97]\tvalid_0's binary_logloss: 0.152558\tvalid_0's macroF1: 0.851063\n",
      "[98]\tvalid_0's binary_logloss: 0.152653\tvalid_0's macroF1: 0.851063\n",
      "[99]\tvalid_0's binary_logloss: 0.152568\tvalid_0's macroF1: 0.851063\n",
      "[100]\tvalid_0's binary_logloss: 0.15272\tvalid_0's macroF1: 0.851063\n"
     ]
    },
    {
     "name": "stderr",
     "output_type": "stream",
     "text": [
      "/usr/local/lib/python3.6/dist-packages/sklearn/preprocessing/_label.py:235: DataConversionWarning: A column-vector y was passed when a 1d array was expected. Please change the shape of y to (n_samples, ), for example using ravel().\n",
      "  y = column_or_1d(y, warn=True)\n",
      "/usr/local/lib/python3.6/dist-packages/sklearn/preprocessing/_label.py:268: DataConversionWarning: A column-vector y was passed when a 1d array was expected. Please change the shape of y to (n_samples, ), for example using ravel().\n",
      "  y = column_or_1d(y, warn=True)\n"
     ]
    },
    {
     "name": "stdout",
     "output_type": "stream",
     "text": [
      "[1]\tvalid_0's binary_logloss: 0.29398\tvalid_0's macroF1: 0.474268\n",
      "[2]\tvalid_0's binary_logloss: 0.271964\tvalid_0's macroF1: 0.474268\n",
      "[3]\tvalid_0's binary_logloss: 0.2559\tvalid_0's macroF1: 0.474268\n",
      "[4]\tvalid_0's binary_logloss: 0.242102\tvalid_0's macroF1: 0.474268\n",
      "[5]\tvalid_0's binary_logloss: 0.230446\tvalid_0's macroF1: 0.648442\n",
      "[6]\tvalid_0's binary_logloss: 0.220618\tvalid_0's macroF1: 0.750002\n",
      "[7]\tvalid_0's binary_logloss: 0.212485\tvalid_0's macroF1: 0.771408\n",
      "[8]\tvalid_0's binary_logloss: 0.205891\tvalid_0's macroF1: 0.787239\n",
      "[9]\tvalid_0's binary_logloss: 0.200296\tvalid_0's macroF1: 0.804069\n",
      "[10]\tvalid_0's binary_logloss: 0.195181\tvalid_0's macroF1: 0.809109\n",
      "[11]\tvalid_0's binary_logloss: 0.189827\tvalid_0's macroF1: 0.819008\n",
      "[12]\tvalid_0's binary_logloss: 0.1852\tvalid_0's macroF1: 0.824594\n",
      "[13]\tvalid_0's binary_logloss: 0.181541\tvalid_0's macroF1: 0.82445\n",
      "[14]\tvalid_0's binary_logloss: 0.177841\tvalid_0's macroF1: 0.828152\n",
      "[15]\tvalid_0's binary_logloss: 0.175059\tvalid_0's macroF1: 0.829706\n",
      "[16]\tvalid_0's binary_logloss: 0.172214\tvalid_0's macroF1: 0.833466\n",
      "[17]\tvalid_0's binary_logloss: 0.169505\tvalid_0's macroF1: 0.834579\n",
      "[18]\tvalid_0's binary_logloss: 0.168016\tvalid_0's macroF1: 0.833725\n",
      "[19]\tvalid_0's binary_logloss: 0.166002\tvalid_0's macroF1: 0.836723\n",
      "[20]\tvalid_0's binary_logloss: 0.164753\tvalid_0's macroF1: 0.836723\n",
      "[21]\tvalid_0's binary_logloss: 0.162888\tvalid_0's macroF1: 0.842649\n",
      "[22]\tvalid_0's binary_logloss: 0.161724\tvalid_0's macroF1: 0.84498\n",
      "[23]\tvalid_0's binary_logloss: 0.160262\tvalid_0's macroF1: 0.844116\n",
      "[24]\tvalid_0's binary_logloss: 0.159386\tvalid_0's macroF1: 0.846169\n",
      "[25]\tvalid_0's binary_logloss: 0.157897\tvalid_0's macroF1: 0.846169\n",
      "[26]\tvalid_0's binary_logloss: 0.156567\tvalid_0's macroF1: 0.844715\n",
      "[27]\tvalid_0's binary_logloss: 0.156182\tvalid_0's macroF1: 0.845308\n",
      "[28]\tvalid_0's binary_logloss: 0.155389\tvalid_0's macroF1: 0.842397\n",
      "[29]\tvalid_0's binary_logloss: 0.154174\tvalid_0's macroF1: 0.841542\n",
      "[30]\tvalid_0's binary_logloss: 0.153796\tvalid_0's macroF1: 0.844715\n",
      "[31]\tvalid_0's binary_logloss: 0.153557\tvalid_0's macroF1: 0.845308\n",
      "[32]\tvalid_0's binary_logloss: 0.152675\tvalid_0's macroF1: 0.847617\n",
      "[33]\tvalid_0's binary_logloss: 0.152143\tvalid_0's macroF1: 0.847899\n",
      "[34]\tvalid_0's binary_logloss: 0.151931\tvalid_0's macroF1: 0.847899\n",
      "[35]\tvalid_0's binary_logloss: 0.151741\tvalid_0's macroF1: 0.84935\n",
      "[36]\tvalid_0's binary_logloss: 0.151596\tvalid_0's macroF1: 0.849643\n",
      "[37]\tvalid_0's binary_logloss: 0.151324\tvalid_0's macroF1: 0.847899\n",
      "[38]\tvalid_0's binary_logloss: 0.150995\tvalid_0's macroF1: 0.848482\n",
      "[39]\tvalid_0's binary_logloss: 0.151044\tvalid_0's macroF1: 0.849926\n",
      "[40]\tvalid_0's binary_logloss: 0.150655\tvalid_0's macroF1: 0.847617\n",
      "[41]\tvalid_0's binary_logloss: 0.150291\tvalid_0's macroF1: 0.84906\n",
      "[42]\tvalid_0's binary_logloss: 0.150107\tvalid_0's macroF1: 0.849926\n",
      "[43]\tvalid_0's binary_logloss: 0.150309\tvalid_0's macroF1: 0.848482\n",
      "[44]\tvalid_0's binary_logloss: 0.149809\tvalid_0's macroF1: 0.84906\n",
      "[45]\tvalid_0's binary_logloss: 0.149261\tvalid_0's macroF1: 0.849926\n",
      "[46]\tvalid_0's binary_logloss: 0.149145\tvalid_0's macroF1: 0.851364\n",
      "[47]\tvalid_0's binary_logloss: 0.148965\tvalid_0's macroF1: 0.852235\n",
      "[48]\tvalid_0's binary_logloss: 0.149157\tvalid_0's macroF1: 0.852235\n",
      "[49]\tvalid_0's binary_logloss: 0.149221\tvalid_0's macroF1: 0.851364\n",
      "[50]\tvalid_0's binary_logloss: 0.149028\tvalid_0's macroF1: 0.852797\n",
      "[51]\tvalid_0's binary_logloss: 0.149097\tvalid_0's macroF1: 0.853669\n",
      "[52]\tvalid_0's binary_logloss: 0.148639\tvalid_0's macroF1: 0.851929\n",
      "[53]\tvalid_0's binary_logloss: 0.14863\tvalid_0's macroF1: 0.851929\n",
      "[54]\tvalid_0's binary_logloss: 0.148748\tvalid_0's macroF1: 0.851929\n",
      "[55]\tvalid_0's binary_logloss: 0.148641\tvalid_0's macroF1: 0.852488\n",
      "[56]\tvalid_0's binary_logloss: 0.1484\tvalid_0's macroF1: 0.852488\n",
      "[57]\tvalid_0's binary_logloss: 0.148601\tvalid_0's macroF1: 0.851063\n",
      "[58]\tvalid_0's binary_logloss: 0.148552\tvalid_0's macroF1: 0.851929\n",
      "[59]\tvalid_0's binary_logloss: 0.148312\tvalid_0's macroF1: 0.848197\n",
      "[60]\tvalid_0's binary_logloss: 0.148491\tvalid_0's macroF1: 0.848197\n",
      "[61]\tvalid_0's binary_logloss: 0.148152\tvalid_0's macroF1: 0.84906\n",
      "[62]\tvalid_0's binary_logloss: 0.148134\tvalid_0's macroF1: 0.84906\n",
      "[63]\tvalid_0's binary_logloss: 0.147928\tvalid_0's macroF1: 0.849926\n",
      "[64]\tvalid_0's binary_logloss: 0.148049\tvalid_0's macroF1: 0.84935\n",
      "[65]\tvalid_0's binary_logloss: 0.148087\tvalid_0's macroF1: 0.850795\n",
      "[66]\tvalid_0's binary_logloss: 0.148417\tvalid_0's macroF1: 0.852235\n",
      "[67]\tvalid_0's binary_logloss: 0.148396\tvalid_0's macroF1: 0.850795\n",
      "[68]\tvalid_0's binary_logloss: 0.148295\tvalid_0's macroF1: 0.850795\n",
      "[69]\tvalid_0's binary_logloss: 0.148096\tvalid_0's macroF1: 0.848482\n",
      "[70]\tvalid_0's binary_logloss: 0.147841\tvalid_0's macroF1: 0.847033\n",
      "[71]\tvalid_0's binary_logloss: 0.147857\tvalid_0's macroF1: 0.848482\n",
      "[72]\tvalid_0's binary_logloss: 0.147919\tvalid_0's macroF1: 0.849926\n",
      "[73]\tvalid_0's binary_logloss: 0.147707\tvalid_0's macroF1: 0.849926\n",
      "[74]\tvalid_0's binary_logloss: 0.147741\tvalid_0's macroF1: 0.850795\n",
      "[75]\tvalid_0's binary_logloss: 0.147859\tvalid_0's macroF1: 0.850795\n",
      "[76]\tvalid_0's binary_logloss: 0.148074\tvalid_0's macroF1: 0.850795\n",
      "[77]\tvalid_0's binary_logloss: 0.148081\tvalid_0's macroF1: 0.84935\n",
      "[78]\tvalid_0's binary_logloss: 0.148232\tvalid_0's macroF1: 0.848482\n",
      "[79]\tvalid_0's binary_logloss: 0.148416\tvalid_0's macroF1: 0.846443\n",
      "[80]\tvalid_0's binary_logloss: 0.148468\tvalid_0's macroF1: 0.848482\n",
      "[81]\tvalid_0's binary_logloss: 0.148565\tvalid_0's macroF1: 0.847033\n",
      "[82]\tvalid_0's binary_logloss: 0.148761\tvalid_0's macroF1: 0.846169\n",
      "[83]\tvalid_0's binary_logloss: 0.148714\tvalid_0's macroF1: 0.846756\n",
      "[84]\tvalid_0's binary_logloss: 0.14873\tvalid_0's macroF1: 0.846756\n",
      "[85]\tvalid_0's binary_logloss: 0.148564\tvalid_0's macroF1: 0.845897\n",
      "[86]\tvalid_0's binary_logloss: 0.14837\tvalid_0's macroF1: 0.849633\n",
      "[87]\tvalid_0's binary_logloss: 0.1485\tvalid_0's macroF1: 0.849633\n",
      "[88]\tvalid_0's binary_logloss: 0.14846\tvalid_0's macroF1: 0.848772\n",
      "[89]\tvalid_0's binary_logloss: 0.14863\tvalid_0's macroF1: 0.849342\n",
      "[90]\tvalid_0's binary_logloss: 0.148662\tvalid_0's macroF1: 0.851625\n",
      "[91]\tvalid_0's binary_logloss: 0.148619\tvalid_0's macroF1: 0.851625\n",
      "[92]\tvalid_0's binary_logloss: 0.148566\tvalid_0's macroF1: 0.851625\n",
      "[93]\tvalid_0's binary_logloss: 0.148516\tvalid_0's macroF1: 0.853355\n",
      "[94]\tvalid_0's binary_logloss: 0.148569\tvalid_0's macroF1: 0.852797\n",
      "[95]\tvalid_0's binary_logloss: 0.148501\tvalid_0's macroF1: 0.852797\n",
      "[96]\tvalid_0's binary_logloss: 0.148682\tvalid_0's macroF1: 0.851929\n",
      "[97]\tvalid_0's binary_logloss: 0.148537\tvalid_0's macroF1: 0.848197\n",
      "[98]\tvalid_0's binary_logloss: 0.148739\tvalid_0's macroF1: 0.848197\n",
      "[99]\tvalid_0's binary_logloss: 0.148896\tvalid_0's macroF1: 0.848197\n",
      "[100]\tvalid_0's binary_logloss: 0.148757\tvalid_0's macroF1: 0.847337\n",
      "[1]\tvalid_0's binary_logloss: 0.29051\tvalid_0's macroF1: 0.474268\n",
      "[2]\tvalid_0's binary_logloss: 0.267613\tvalid_0's macroF1: 0.474268\n",
      "[3]\tvalid_0's binary_logloss: 0.249636\tvalid_0's macroF1: 0.474268\n",
      "[4]\tvalid_0's binary_logloss: 0.235278\tvalid_0's macroF1: 0.48183\n",
      "[5]\tvalid_0's binary_logloss: 0.223721\tvalid_0's macroF1: 0.722897\n",
      "[6]\tvalid_0's binary_logloss: 0.21301\tvalid_0's macroF1: 0.752442\n",
      "[7]\tvalid_0's binary_logloss: 0.204443\tvalid_0's macroF1: 0.79875\n",
      "[8]\tvalid_0's binary_logloss: 0.196781\tvalid_0's macroF1: 0.81865\n",
      "[9]\tvalid_0's binary_logloss: 0.190795\tvalid_0's macroF1: 0.817665\n",
      "[10]\tvalid_0's binary_logloss: 0.185426\tvalid_0's macroF1: 0.822636\n",
      "[11]\tvalid_0's binary_logloss: 0.179764\tvalid_0's macroF1: 0.819008\n",
      "[12]\tvalid_0's binary_logloss: 0.175199\tvalid_0's macroF1: 0.823862\n",
      "[13]\tvalid_0's binary_logloss: 0.171453\tvalid_0's macroF1: 0.832506\n",
      "[14]\tvalid_0's binary_logloss: 0.168171\tvalid_0's macroF1: 0.833189"
     ]
    },
    {
     "name": "stderr",
     "output_type": "stream",
     "text": [
      "/usr/local/lib/python3.6/dist-packages/sklearn/preprocessing/_label.py:235: DataConversionWarning: A column-vector y was passed when a 1d array was expected. Please change the shape of y to (n_samples, ), for example using ravel().\n",
      "  y = column_or_1d(y, warn=True)\n",
      "/usr/local/lib/python3.6/dist-packages/sklearn/preprocessing/_label.py:268: DataConversionWarning: A column-vector y was passed when a 1d array was expected. Please change the shape of y to (n_samples, ), for example using ravel().\n",
      "  y = column_or_1d(y, warn=True)\n"
     ]
    },
    {
     "name": "stdout",
     "output_type": "stream",
     "text": [
      "\n",
      "[15]\tvalid_0's binary_logloss: 0.164827\tvalid_0's macroF1: 0.835413\n",
      "[16]\tvalid_0's binary_logloss: 0.162446\tvalid_0's macroF1: 0.841289\n",
      "[17]\tvalid_0's binary_logloss: 0.160279\tvalid_0's macroF1: 0.840654\n",
      "[18]\tvalid_0's binary_logloss: 0.15804\tvalid_0's macroF1: 0.841289\n",
      "[19]\tvalid_0's binary_logloss: 0.156142\tvalid_0's macroF1: 0.843416\n",
      "[20]\tvalid_0's binary_logloss: 0.153961\tvalid_0's macroF1: 0.844032\n",
      "[21]\tvalid_0's binary_logloss: 0.15254\tvalid_0's macroF1: 0.842541\n",
      "[22]\tvalid_0's binary_logloss: 0.15138\tvalid_0's macroF1: 0.843416\n",
      "[23]\tvalid_0's binary_logloss: 0.149847\tvalid_0's macroF1: 0.845789\n",
      "[24]\tvalid_0's binary_logloss: 0.148797\tvalid_0's macroF1: 0.847276\n",
      "[25]\tvalid_0's binary_logloss: 0.147575\tvalid_0's macroF1: 0.847276\n",
      "[26]\tvalid_0's binary_logloss: 0.146658\tvalid_0's macroF1: 0.846395\n",
      "[27]\tvalid_0's binary_logloss: 0.145672\tvalid_0's macroF1: 0.84935\n",
      "[28]\tvalid_0's binary_logloss: 0.144801\tvalid_0's macroF1: 0.84847\n",
      "[29]\tvalid_0's binary_logloss: 0.14375\tvalid_0's macroF1: 0.84847\n",
      "[30]\tvalid_0's binary_logloss: 0.142776\tvalid_0's macroF1: 0.851399\n",
      "[31]\tvalid_0's binary_logloss: 0.141429\tvalid_0's macroF1: 0.851096\n",
      "[32]\tvalid_0's binary_logloss: 0.140915\tvalid_0's macroF1: 0.851096\n",
      "[33]\tvalid_0's binary_logloss: 0.140215\tvalid_0's macroF1: 0.851096\n",
      "[34]\tvalid_0's binary_logloss: 0.139743\tvalid_0's macroF1: 0.851974\n",
      "[35]\tvalid_0's binary_logloss: 0.139177\tvalid_0's macroF1: 0.852544\n",
      "[36]\tvalid_0's binary_logloss: 0.138637\tvalid_0's macroF1: 0.854866\n",
      "[37]\tvalid_0's binary_logloss: 0.138884\tvalid_0's macroF1: 0.855749\n",
      "[38]\tvalid_0's binary_logloss: 0.138601\tvalid_0's macroF1: 0.855749\n",
      "[39]\tvalid_0's binary_logloss: 0.13835\tvalid_0's macroF1: 0.851668\n",
      "[40]\tvalid_0's binary_logloss: 0.138537\tvalid_0's macroF1: 0.853986\n",
      "[41]\tvalid_0's binary_logloss: 0.138421\tvalid_0's macroF1: 0.855422\n",
      "[42]\tvalid_0's binary_logloss: 0.138328\tvalid_0's macroF1: 0.855422\n",
      "[43]\tvalid_0's binary_logloss: 0.138068\tvalid_0's macroF1: 0.856303\n",
      "[44]\tvalid_0's binary_logloss: 0.13814\tvalid_0's macroF1: 0.858278\n",
      "[45]\tvalid_0's binary_logloss: 0.137931\tvalid_0's macroF1: 0.858621\n",
      "[46]\tvalid_0's binary_logloss: 0.138166\tvalid_0's macroF1: 0.856303\n",
      "[47]\tvalid_0's binary_logloss: 0.13814\tvalid_0's macroF1: 0.856303\n",
      "[48]\tvalid_0's binary_logloss: 0.138125\tvalid_0's macroF1: 0.857735\n",
      "[49]\tvalid_0's binary_logloss: 0.13799\tvalid_0's macroF1: 0.857735\n",
      "[50]\tvalid_0's binary_logloss: 0.137585\tvalid_0's macroF1: 0.858621\n",
      "[51]\tvalid_0's binary_logloss: 0.137602\tvalid_0's macroF1: 0.859161\n",
      "[52]\tvalid_0's binary_logloss: 0.137136\tvalid_0's macroF1: 0.859161\n",
      "[53]\tvalid_0's binary_logloss: 0.137142\tvalid_0's macroF1: 0.859161\n",
      "[54]\tvalid_0's binary_logloss: 0.137064\tvalid_0's macroF1: 0.858278\n",
      "[55]\tvalid_0's binary_logloss: 0.136953\tvalid_0's macroF1: 0.856853\n",
      "[56]\tvalid_0's binary_logloss: 0.137082\tvalid_0's macroF1: 0.855973\n",
      "[57]\tvalid_0's binary_logloss: 0.137233\tvalid_0's macroF1: 0.853043\n",
      "[58]\tvalid_0's binary_logloss: 0.136899\tvalid_0's macroF1: 0.853907\n",
      "[59]\tvalid_0's binary_logloss: 0.136651\tvalid_0's macroF1: 0.855321\n",
      "[60]\tvalid_0's binary_logloss: 0.136684\tvalid_0's macroF1: 0.855321\n",
      "[61]\tvalid_0's binary_logloss: 0.136959\tvalid_0's macroF1: 0.853907\n",
      "[62]\tvalid_0's binary_logloss: 0.137033\tvalid_0's macroF1: 0.852488\n",
      "[63]\tvalid_0's binary_logloss: 0.137386\tvalid_0's macroF1: 0.853355\n",
      "[64]\tvalid_0's binary_logloss: 0.137547\tvalid_0's macroF1: 0.854775\n",
      "[65]\tvalid_0's binary_logloss: 0.137871\tvalid_0's macroF1: 0.851929\n",
      "[66]\tvalid_0's binary_logloss: 0.137668\tvalid_0's macroF1: 0.853355\n",
      "[67]\tvalid_0's binary_logloss: 0.137542\tvalid_0's macroF1: 0.854775\n",
      "[68]\tvalid_0's binary_logloss: 0.137851\tvalid_0's macroF1: 0.853043\n",
      "[69]\tvalid_0's binary_logloss: 0.137955\tvalid_0's macroF1: 0.850201\n",
      "[70]\tvalid_0's binary_logloss: 0.138033\tvalid_0's macroF1: 0.848772\n",
      "[71]\tvalid_0's binary_logloss: 0.137739\tvalid_0's macroF1: 0.847337\n",
      "[72]\tvalid_0's binary_logloss: 0.137741\tvalid_0's macroF1: 0.847337\n",
      "[73]\tvalid_0's binary_logloss: 0.137972\tvalid_0's macroF1: 0.849633\n",
      "[74]\tvalid_0's binary_logloss: 0.137851\tvalid_0's macroF1: 0.851063\n",
      "[75]\tvalid_0's binary_logloss: 0.137844\tvalid_0's macroF1: 0.852488\n",
      "[76]\tvalid_0's binary_logloss: 0.137992\tvalid_0's macroF1: 0.851063\n",
      "[77]\tvalid_0's binary_logloss: 0.138222\tvalid_0's macroF1: 0.851625\n",
      "[78]\tvalid_0's binary_logloss: 0.138377\tvalid_0's macroF1: 0.853043\n",
      "[79]\tvalid_0's binary_logloss: 0.13835\tvalid_0's macroF1: 0.855321\n",
      "[80]\tvalid_0's binary_logloss: 0.138359\tvalid_0's macroF1: 0.853907\n",
      "[81]\tvalid_0's binary_logloss: 0.138387\tvalid_0's macroF1: 0.853043\n",
      "[82]\tvalid_0's binary_logloss: 0.138485\tvalid_0's macroF1: 0.853043\n",
      "[83]\tvalid_0's binary_logloss: 0.138832\tvalid_0's macroF1: 0.852182\n",
      "[84]\tvalid_0's binary_logloss: 0.138761\tvalid_0's macroF1: 0.850765\n",
      "[85]\tvalid_0's binary_logloss: 0.13872\tvalid_0's macroF1: 0.852488\n",
      "[86]\tvalid_0's binary_logloss: 0.138898\tvalid_0's macroF1: 0.850765\n",
      "[87]\tvalid_0's binary_logloss: 0.138935\tvalid_0's macroF1: 0.850765\n",
      "[88]\tvalid_0's binary_logloss: 0.139206\tvalid_0's macroF1: 0.850765\n",
      "[89]\tvalid_0's binary_logloss: 0.139292\tvalid_0's macroF1: 0.850765\n",
      "[90]\tvalid_0's binary_logloss: 0.139418\tvalid_0's macroF1: 0.851625\n",
      "[91]\tvalid_0's binary_logloss: 0.139444\tvalid_0's macroF1: 0.851625\n",
      "[92]\tvalid_0's binary_logloss: 0.13979\tvalid_0's macroF1: 0.850201\n",
      "[93]\tvalid_0's binary_logloss: 0.13968\tvalid_0's macroF1: 0.851625\n",
      "[94]\tvalid_0's binary_logloss: 0.139779\tvalid_0's macroF1: 0.852488\n",
      "[95]\tvalid_0's binary_logloss: 0.139709\tvalid_0's macroF1: 0.852488\n",
      "[96]\tvalid_0's binary_logloss: 0.139769\tvalid_0's macroF1: 0.852488\n",
      "[97]\tvalid_0's binary_logloss: 0.139966\tvalid_0's macroF1: 0.852488\n",
      "[98]\tvalid_0's binary_logloss: 0.139961\tvalid_0's macroF1: 0.852488\n",
      "[99]\tvalid_0's binary_logloss: 0.140169\tvalid_0's macroF1: 0.853355\n",
      "[100]\tvalid_0's binary_logloss: 0.140136\tvalid_0's macroF1: 0.854775\n"
     ]
    },
    {
     "name": "stderr",
     "output_type": "stream",
     "text": [
      "/usr/local/lib/python3.6/dist-packages/sklearn/preprocessing/_label.py:235: DataConversionWarning: A column-vector y was passed when a 1d array was expected. Please change the shape of y to (n_samples, ), for example using ravel().\n",
      "  y = column_or_1d(y, warn=True)\n",
      "/usr/local/lib/python3.6/dist-packages/sklearn/preprocessing/_label.py:268: DataConversionWarning: A column-vector y was passed when a 1d array was expected. Please change the shape of y to (n_samples, ), for example using ravel().\n",
      "  y = column_or_1d(y, warn=True)\n"
     ]
    },
    {
     "name": "stdout",
     "output_type": "stream",
     "text": [
      "[1]\tvalid_0's binary_logloss: 0.292137\tvalid_0's macroF1: 0.474268\n",
      "[2]\tvalid_0's binary_logloss: 0.269654\tvalid_0's macroF1: 0.474268\n",
      "[3]\tvalid_0's binary_logloss: 0.253914\tvalid_0's macroF1: 0.474268\n",
      "[4]\tvalid_0's binary_logloss: 0.240474\tvalid_0's macroF1: 0.474268\n",
      "[5]\tvalid_0's binary_logloss: 0.229607\tvalid_0's macroF1: 0.681602\n",
      "[6]\tvalid_0's binary_logloss: 0.219052\tvalid_0's macroF1: 0.756874\n",
      "[7]\tvalid_0's binary_logloss: 0.210476\tvalid_0's macroF1: 0.78712\n",
      "[8]\tvalid_0's binary_logloss: 0.203759\tvalid_0's macroF1: 0.803209\n",
      "[9]\tvalid_0's binary_logloss: 0.197348\tvalid_0's macroF1: 0.813505\n",
      "[10]\tvalid_0's binary_logloss: 0.192093\tvalid_0's macroF1: 0.819329\n",
      "[11]\tvalid_0's binary_logloss: 0.187142\tvalid_0's macroF1: 0.823258\n",
      "[12]\tvalid_0's binary_logloss: 0.182168\tvalid_0's macroF1: 0.829709\n",
      "[13]\tvalid_0's binary_logloss: 0.178385\tvalid_0's macroF1: 0.840737\n",
      "[14]\tvalid_0's binary_logloss: 0.175116\tvalid_0's macroF1: 0.840495\n",
      "[15]\tvalid_0's binary_logloss: 0.171671\tvalid_0's macroF1: 0.839604\n",
      "[16]\tvalid_0's binary_logloss: 0.169488\tvalid_0's macroF1: 0.840254\n",
      "[17]\tvalid_0's binary_logloss: 0.167144\tvalid_0's macroF1: 0.843051\n",
      "[18]\tvalid_0's binary_logloss: 0.165598\tvalid_0's macroF1: 0.846062\n",
      "[19]\tvalid_0's binary_logloss: 0.163975\tvalid_0's macroF1: 0.842168\n",
      "[20]\tvalid_0's binary_logloss: 0.162363\tvalid_0's macroF1: 0.843416\n",
      "[21]\tvalid_0's binary_logloss: 0.160501\tvalid_0's macroF1: 0.848758\n",
      "[22]\tvalid_0's binary_logloss: 0.159002\tvalid_0's macroF1: 0.84847\n",
      "[23]\tvalid_0's binary_logloss: 0.157615\tvalid_0's macroF1: 0.84847\n",
      "[24]\tvalid_0's binary_logloss: 0.156409\tvalid_0's macroF1: 0.847593\n",
      "[25]\tvalid_0's binary_logloss: 0.15543\tvalid_0's macroF1: 0.846719\n",
      "[26]\tvalid_0's binary_logloss: 0.154162\tvalid_0's macroF1: 0.846719\n",
      "[27]\tvalid_0's binary_logloss: 0.152896\tvalid_0's macroF1: 0.849643\n",
      "[28]\tvalid_0's binary_logloss: 0.152738\tvalid_0's macroF1: 0.849643\n",
      "[29]\tvalid_0's binary_logloss: 0.15178\tvalid_0's macroF1: 0.848769\n",
      "[30]\tvalid_0's binary_logloss: 0.150217\tvalid_0's macroF1: 0.84935\n",
      "[31]\tvalid_0's binary_logloss: 0.149126\tvalid_0's macroF1: 0.853109\n",
      "[32]\tvalid_0's binary_logloss: 0.148817\tvalid_0's macroF1: 0.854544\n",
      "[33]\tvalid_0's binary_logloss: 0.148082\tvalid_0's macroF1: 0.854544\n",
      "[34]\tvalid_0's binary_logloss: 0.147809\tvalid_0's macroF1: 0.857397\n",
      "[35]\tvalid_0's binary_logloss: 0.147388\tvalid_0's macroF1: 0.855973\n",
      "[36]\tvalid_0's binary_logloss: 0.147119\tvalid_0's macroF1: 0.857397\n",
      "[37]\tvalid_0's binary_logloss: 0.146572\tvalid_0's macroF1: 0.857397\n",
      "[38]\tvalid_0's binary_logloss: 0.145692\tvalid_0's macroF1: 0.858816\n",
      "[39]\tvalid_0's binary_logloss: 0.145524\tvalid_0's macroF1: 0.858816\n",
      "[40]\tvalid_0's binary_logloss: 0.14493\tvalid_0's macroF1: 0.861111\n",
      "[41]\tvalid_0's binary_logloss: 0.144992\tvalid_0's macroF1: 0.861111\n",
      "[42]\tvalid_0's binary_logloss: 0.144845\tvalid_0's macroF1: 0.861111\n",
      "[43]\tvalid_0's binary_logloss: 0.144968\tvalid_0's macroF1: 0.861111\n",
      "[44]\tvalid_0's binary_logloss: 0.144704\tvalid_0's macroF1: 0.86252\n",
      "[45]\tvalid_0's binary_logloss: 0.144418\tvalid_0's macroF1: 0.862157\n",
      "[46]\tvalid_0's binary_logloss: 0.144382\tvalid_0's macroF1: 0.858473\n",
      "[47]\tvalid_0's binary_logloss: 0.144091\tvalid_0's macroF1: 0.863038\n",
      "[48]\tvalid_0's binary_logloss: 0.143745\tvalid_0's macroF1: 0.863552\n",
      "[49]\tvalid_0's binary_logloss: 0.143757\tvalid_0's macroF1: 0.864942\n",
      "[50]\tvalid_0's binary_logloss: 0.143442\tvalid_0's macroF1: 0.865446\n",
      "[51]\tvalid_0's binary_logloss: 0.143322\tvalid_0's macroF1: 0.866327\n",
      "[52]\tvalid_0's binary_logloss: 0.143162\tvalid_0's macroF1: 0.867212\n",
      "[53]\tvalid_0's binary_logloss: 0.142993\tvalid_0's macroF1: 0.864942\n",
      "[54]\tvalid_0's binary_logloss: 0.142616\tvalid_0's macroF1: 0.864062\n",
      "[55]\tvalid_0's binary_logloss: 0.142499\tvalid_0's macroF1: 0.867707\n",
      "[56]\tvalid_0's binary_logloss: 0.142316\tvalid_0's macroF1: 0.867707\n",
      "[57]\tvalid_0's binary_logloss: 0.142145\tvalid_0's macroF1: 0.867212\n",
      "[58]\tvalid_0's binary_logloss: 0.142216\tvalid_0's macroF1: 0.865826\n",
      "[59]\tvalid_0's binary_logloss: 0.142251\tvalid_0's macroF1: 0.864942\n",
      "[60]\tvalid_0's binary_logloss: 0.142069\tvalid_0's macroF1: 0.867212\n",
      "[61]\tvalid_0's binary_logloss: 0.141987\tvalid_0's macroF1: 0.867212\n",
      "[62]\tvalid_0's binary_logloss: 0.142096\tvalid_0's macroF1: 0.867212\n",
      "[63]\tvalid_0's binary_logloss: 0.142105\tvalid_0's macroF1: 0.868593\n",
      "[64]\tvalid_0's binary_logloss: 0.141786\tvalid_0's macroF1: 0.869969\n",
      "[65]\tvalid_0's binary_logloss: 0.141491\tvalid_0's macroF1: 0.867707\n",
      "[66]\tvalid_0's binary_logloss: 0.141626\tvalid_0's macroF1: 0.868198\n",
      "[67]\tvalid_0's binary_logloss: 0.141667\tvalid_0's macroF1: 0.867317\n",
      "[68]\tvalid_0's binary_logloss: 0.141694\tvalid_0's macroF1: 0.866824\n",
      "[69]\tvalid_0's binary_logloss: 0.141556\tvalid_0's macroF1: 0.869082\n",
      "[70]\tvalid_0's binary_logloss: 0.141442\tvalid_0's macroF1: 0.869082\n",
      "[71]\tvalid_0's binary_logloss: 0.141482\tvalid_0's macroF1: 0.870451\n",
      "[72]\tvalid_0's binary_logloss: 0.141434\tvalid_0's macroF1: 0.870451\n",
      "[73]\tvalid_0's binary_logloss: 0.141248\tvalid_0's macroF1: 0.870451\n",
      "[74]\tvalid_0's binary_logloss: 0.141034\tvalid_0's macroF1: 0.870451\n",
      "[75]\tvalid_0's binary_logloss: 0.141125\tvalid_0's macroF1: 0.869082\n",
      "[76]\tvalid_0's binary_logloss: 0.141387\tvalid_0's macroF1: 0.867707\n",
      "[77]\tvalid_0's binary_logloss: 0.141365\tvalid_0's macroF1: 0.866824\n",
      "[78]\tvalid_0's binary_logloss: 0.141228\tvalid_0's macroF1: 0.865945\n",
      "[79]\tvalid_0's binary_logloss: 0.141202\tvalid_0's macroF1: 0.866824\n",
      "[80]\tvalid_0's binary_logloss: 0.141327\tvalid_0's macroF1: 0.867707\n",
      "[81]\tvalid_0's binary_logloss: 0.141251\tvalid_0's macroF1: 0.868593\n",
      "[82]\tvalid_0's binary_logloss: 0.141287\tvalid_0's macroF1: 0.869482\n",
      "[83]\tvalid_0's binary_logloss: 0.141275\tvalid_0's macroF1: 0.869886\n",
      "[84]\tvalid_0's binary_logloss: 0.141332\tvalid_0's macroF1: 0.867212\n",
      "[85]\tvalid_0's binary_logloss: 0.141154\tvalid_0's macroF1: 0.866713\n",
      "[86]\tvalid_0's binary_logloss: 0.14103\tvalid_0's macroF1: 0.865826\n",
      "[87]\tvalid_0's binary_logloss: 0.140788\tvalid_0's macroF1: 0.863552\n",
      "[88]\tvalid_0's binary_logloss: 0.140718\tvalid_0's macroF1: 0.866327\n",
      "[89]\tvalid_0's binary_logloss: 0.140742\tvalid_0's macroF1: 0.868593\n",
      "[90]\tvalid_0's binary_logloss: 0.140737\tvalid_0's macroF1: 0.867212\n",
      "[91]\tvalid_0's binary_logloss: 0.140982\tvalid_0's macroF1: 0.867212\n",
      "[92]\tvalid_0's binary_logloss: 0.141157\tvalid_0's macroF1: 0.868992\n",
      "[93]\tvalid_0's binary_logloss: 0.141514\tvalid_0's macroF1: 0.866713\n",
      "[94]\tvalid_0's binary_logloss: 0.141288\tvalid_0's macroF1: 0.866713\n",
      "[95]\tvalid_0's binary_logloss: 0.141169\tvalid_0's macroF1: 0.8681\n",
      "[96]\tvalid_0's binary_logloss: 0.140972\tvalid_0's macroF1: 0.8681\n",
      "[97]\tvalid_0's binary_logloss: 0.14099\tvalid_0's macroF1: 0.866713\n",
      "[98]\tvalid_0's binary_logloss: 0.14098\tvalid_0's macroF1: 0.867604\n",
      "[99]\tvalid_0's binary_logloss: 0.140972\tvalid_0's macroF1: 0.866713\n",
      "[100]\tvalid_0's binary_logloss: 0.140916\tvalid_0's macroF1: 0.866713\n"
     ]
    }
   ],
   "source": [
    "for training_index, testing_index in gkf.split(X=x, y=y):\n",
    "    x_train_fold, y_train_fold = x[training_index], y[training_index]\n",
    "    x_test_fold, y_test_fold = x[testing_index], y[testing_index]\n",
    "    model.fit(x_train_fold, y_train_fold, eval_set=(x_test_fold,y_test_fold),eval_metric = lambda y_true, y_pred: [evaluate_macroF1_lgb(y_true,y_pred)])"
   ]
  },
  {
   "cell_type": "code",
   "execution_count": 32,
   "metadata": {},
   "outputs": [],
   "source": [
    "predicted_y = model.predict(x_test)\n",
    "train_pred_y = model.predict(x)"
   ]
  },
  {
   "cell_type": "code",
   "execution_count": 33,
   "metadata": {},
   "outputs": [
    {
     "name": "stdout",
     "output_type": "stream",
     "text": [
      "\n",
      "              precision    recall  f1-score   support\n",
      "\n",
      "           0       0.95      0.84      0.89      1345\n",
      "           1       0.98      1.00      0.99     12395\n",
      "\n",
      "    accuracy                           0.98     13740\n",
      "   macro avg       0.97      0.92      0.94     13740\n",
      "weighted avg       0.98      0.98      0.98     13740\n",
      "\n",
      "\n",
      "[[ 1135   210]\n",
      " [   60 12335]]\n",
      "\n",
      "              precision    recall  f1-score   support\n",
      "\n",
      "           0       0.88      0.69      0.77       336\n",
      "           1       0.97      0.99      0.98      3099\n",
      "\n",
      "    accuracy                           0.96      3435\n",
      "   macro avg       0.92      0.84      0.88      3435\n",
      "weighted avg       0.96      0.96      0.96      3435\n",
      "\n",
      "\n",
      "[[ 232  104]\n",
      " [  31 3068]]\n"
     ]
    }
   ],
   "source": [
    "print(); print(metrics.classification_report(y,train_pred_y))\n",
    "print(); print(metrics.confusion_matrix(y, train_pred_y))\n",
    "\n",
    "print(); print(metrics.classification_report(y_test, predicted_y))\n",
    "print(); print(metrics.confusion_matrix(y_test, predicted_y))"
   ]
  },
  {
   "cell_type": "markdown",
   "metadata": {},
   "source": [
    "<h2>Testing</h2>"
   ]
  },
  {
   "cell_type": "code",
   "execution_count": 34,
   "metadata": {
    "colab": {},
    "colab_type": "code",
    "id": "dRpHFO-hvEvg"
   },
   "outputs": [],
   "source": [
    "\n",
    "test_set = pd.read_csv(data_path+'test.csv', index_col=\"tripid\")\n"
   ]
  },
  {
   "cell_type": "code",
   "execution_count": 35,
   "metadata": {
    "colab": {},
    "colab_type": "code",
    "id": "-aB-vcWQPl-L"
   },
   "outputs": [],
   "source": [
    "test_set['pickup_time'] = pd.to_datetime(test_set['pickup_time'], format=\"%m/%d/%Y %H:%M\")\n",
    "test_set['drop_time'] = pd.to_datetime(test_set['drop_time'], format=\"%m/%d/%Y %H:%M\")"
   ]
  },
  {
   "cell_type": "code",
   "execution_count": 36,
   "metadata": {
    "colab": {},
    "colab_type": "code",
    "id": "-fh6I6oDPrqF"
   },
   "outputs": [],
   "source": [
    "test_set = test_set.assign(timeOfDay=pd.cut(test_set.pickup_time.dt.hour,[-1, 8, 20, 24],labels=['dawn','day', 'night']))"
   ]
  },
  {
   "cell_type": "code",
   "execution_count": 37,
   "metadata": {},
   "outputs": [],
   "source": [
    "test_set.loc[test_set['timeOfDay'] == 'day', 'isNormalCharge'] = 1\n",
    "test_set.loc[test_set['timeOfDay'] != 'day', 'isNormalCharge'] = 0"
   ]
  },
  {
   "cell_type": "code",
   "execution_count": 38,
   "metadata": {
    "colab": {},
    "colab_type": "code",
    "id": "0YIKrGoUPxjD"
   },
   "outputs": [],
   "source": [
    "durations = []\n",
    "for index,row in test_set.iterrows():\n",
    "  provided_duration = row['duration'] #first row of location.lat column here\n",
    "  if math.isnan(provided_duration) or provided_duration <= 0 :\n",
    "    time_dif = (row['drop_time'] - row['pickup_time']).seconds\n",
    "    if(time_dif == 0):\n",
    "        time_dif = np.nan\n",
    "    durations.append(time_dif)\n",
    "  else :  \n",
    "    durations.append(provided_duration)\n",
    "\n",
    "test_set.insert(4,\"time_dif\",durations)"
   ]
  },
  {
   "cell_type": "code",
   "execution_count": 39,
   "metadata": {
    "colab": {},
    "colab_type": "code",
    "id": "N8RKMAziP2Zu"
   },
   "outputs": [],
   "source": [
    "new_column = []                    #empty column for distance\n",
    "for index,row in test_set.iterrows():\n",
    "  lat1 = row['pick_lat'] #first row of location.lat column here\n",
    "  lon1 = row['pick_lon'] #first row of location.long column here\n",
    "  lat2 = row['drop_lat'] #second row of location.lat column here\n",
    "  lon2 = row['drop_lon'] #second row of location.long column here\n",
    "  value = dist_from_coordinates(lat1, lon1, lat2, lon2)  #get the distance\n",
    "  new_column.append(value)   #append the empty list with distance values\n",
    "\n",
    "test_set.insert(4,\"distance\",new_column)"
   ]
  },
  {
   "cell_type": "code",
   "execution_count": 40,
   "metadata": {
    "colab": {},
    "colab_type": "code",
    "id": "fhGdrT68P7u0"
   },
   "outputs": [],
   "source": [
    "test_set['time_driven'] = test_set['duration']  - test_set['meter_waiting']"
   ]
  },
  {
   "cell_type": "code",
   "execution_count": 41,
   "metadata": {
    "colab": {},
    "colab_type": "code",
    "id": "0T1ZhNq4QCFr"
   },
   "outputs": [],
   "source": [
    "chargeperhours = []\n",
    "for index,row in test_set.iterrows():\n",
    "    if(row['meter_waiting'] == 0):\n",
    "        chargeperhour = np.nan\n",
    "    else:\n",
    "        chargeperhour = (row['meter_waiting_fare'] / row['meter_waiting'] * 3600)\n",
    "    chargeperhours.append(chargeperhour)\n",
    "\n",
    "test_set.insert(4,'charge_per_hour',chargeperhours)\n"
   ]
  },
  {
   "cell_type": "code",
   "execution_count": 42,
   "metadata": {
    "colab": {},
    "colab_type": "code",
    "id": "stlHhBUcQHPO"
   },
   "outputs": [],
   "source": [
    "test_set['driving_fare'] = test_set['fare']  - test_set['meter_waiting_fare'] - test_set['additional_fare']"
   ]
  },
  {
   "cell_type": "code",
   "execution_count": 43,
   "metadata": {
    "colab": {},
    "colab_type": "code",
    "id": "3swRfBdUQPab"
   },
   "outputs": [],
   "source": [
    "avgspeeds = []\n",
    "for index,row in test_set.iterrows():\n",
    "    if(row['time_driven'] == 0):\n",
    "        avgspeed = np.nan    \n",
    "    else:\n",
    "        avgspeed = (row['distance'] / row['time_driven'] * 3600)\n",
    "    avgspeeds.append(avgspeed)\n",
    "\n",
    "test_set.insert(4,\"avg_speed\",avgspeeds)\n",
    "\n"
   ]
  },
  {
   "cell_type": "code",
   "execution_count": 44,
   "metadata": {
    "colab": {},
    "colab_type": "code",
    "id": "CbN5feh0QWAF"
   },
   "outputs": [],
   "source": [
    "costsperkm = []\n",
    "for index,row in test_set.iterrows():\n",
    "    if row['distance'] == 0:\n",
    "        costperkm = np.nan\n",
    "            \n",
    "    else:\n",
    "        costperkm = (row['driving_fare'] / row['distance'])\n",
    "    costsperkm.append(costperkm)\n",
    "\n",
    "test_set.insert(4,\"cost_per_km\",costsperkm)"
   ]
  },
  {
   "cell_type": "code",
   "execution_count": 49,
   "metadata": {},
   "outputs": [],
   "source": [
    "test_set['pickup_cluster_label'] = kmeans.predict(test_set[['pick_lat','pick_lon']])\n",
    "test_set['drop_cluster_label'] = kmeans.predict(test_set[['drop_lat','drop_lon']])"
   ]
  },
  {
   "cell_type": "code",
   "execution_count": 50,
   "metadata": {
    "colab": {},
    "colab_type": "code",
    "id": "G8siIDy9_D2I"
   },
   "outputs": [],
   "source": [
    "test_features = test_set[training_columns]"
   ]
  },
  {
   "cell_type": "code",
   "execution_count": 51,
   "metadata": {
    "colab": {
     "base_uri": "https://localhost:8080/",
     "height": 455
    },
    "colab_type": "code",
    "id": "YGcUrVpWQc6h",
    "outputId": "b45b835c-1c70-4035-ff79-2d936377d9e1"
   },
   "outputs": [
    {
     "data": {
      "text/plain": [
       "meter_waiting             0\n",
       "meter_waiting_fare        0\n",
       "fare                      0\n",
       "additional_fare           0\n",
       "distance                  0\n",
       "cost_per_km              25\n",
       "avg_speed                 9\n",
       "time_dif                  0\n",
       "time_driven               0\n",
       "charge_per_hour         298\n",
       "driving_fare              0\n",
       "isNormalCharge            0\n",
       "pick_lat                  0\n",
       "pick_lon                  0\n",
       "drop_lat                  0\n",
       "drop_lon                  0\n",
       "drop_cluster_label        0\n",
       "pickup_cluster_label      0\n",
       "dtype: int64"
      ]
     },
     "execution_count": 51,
     "metadata": {},
     "output_type": "execute_result"
    }
   ],
   "source": [
    "test_features.isna().sum()"
   ]
  },
  {
   "cell_type": "code",
   "execution_count": 52,
   "metadata": {
    "colab": {},
    "colab_type": "code",
    "id": "MeqI1BVR_Fpl"
   },
   "outputs": [],
   "source": [
    "predicted_labels = model.predict(test_features)"
   ]
  },
  {
   "cell_type": "code",
   "execution_count": 53,
   "metadata": {},
   "outputs": [],
   "source": [
    "predicted_labels_df = pd.DataFrame(predicted_labels )"
   ]
  },
  {
   "cell_type": "code",
   "execution_count": 54,
   "metadata": {
    "colab": {},
    "colab_type": "code",
    "id": "qqHn12X6_Gvf"
   },
   "outputs": [],
   "source": [
    "sub_path =os.path.abspath(os.path.join(data_path+'/sample_submission.csv'))\n",
    "submission_set = pd.read_csv(sub_path, index_col=\"tripid\")"
   ]
  },
  {
   "cell_type": "code",
   "execution_count": 55,
   "metadata": {
    "colab": {},
    "colab_type": "code",
    "id": "8Ji-pVGy_H3c"
   },
   "outputs": [],
   "source": [
    "submission_set['prediction']= predicted_labels_df.values[:,0]"
   ]
  },
  {
   "cell_type": "code",
   "execution_count": 56,
   "metadata": {},
   "outputs": [
    {
     "data": {
      "application/javascript": [
       "var kernel = IPython.notebook.kernel;\n",
       "var thename = window.document.getElementById(\"notebook_name\").innerHTML;\n",
       "var command = \"theNotebook = \" + \"'\"+thename+\"'\";\n",
       "kernel.execute(command);\n"
      ],
      "text/plain": [
       "<IPython.core.display.Javascript object>"
      ]
     },
     "metadata": {},
     "output_type": "display_data"
    }
   ],
   "source": [
    "%%javascript\n",
    "var kernel = IPython.notebook.kernel;\n",
    "var thename = window.document.getElementById(\"notebook_name\").innerHTML;\n",
    "var command = \"theNotebook = \" + \"'\"+thename+\"'\";\n",
    "kernel.execute(command);"
   ]
  },
  {
   "cell_type": "code",
   "execution_count": 57,
   "metadata": {
    "colab": {
     "base_uri": "https://localhost:8080/",
     "height": 35
    },
    "colab_type": "code",
    "id": "U6dGilvv_JLl",
    "outputId": "a12ca51c-c94a-4f5d-efab-2ebd6a29156a"
   },
   "outputs": [
    {
     "name": "stdout",
     "output_type": "stream",
     "text": [
      "Completed!\n"
     ]
    }
   ],
   "source": [
    "filename = '../../submissions/'+theNotebook+'/'+theNotebook+'_{%i}.csv'\n",
    "dirname = '../../submissions/'+theNotebook\n",
    "fileversion = 1\n",
    "\n",
    "if not os.path.exists(dirname):\n",
    "    os.makedirs(dirname)\n",
    "while glob.glob(filename.replace('{%i}',str(fileversion))) :\n",
    "    fileversion+=1\n",
    "submission_set.to_csv(filename.replace('{%i}',str(fileversion)), index=True)\n",
    "print(\"Completed!\")"
   ]
  },
  {
   "cell_type": "code",
   "execution_count": 58,
   "metadata": {
    "colab": {
     "base_uri": "https://localhost:8080/",
     "height": 72
    },
    "colab_type": "code",
    "id": "cg-I13X0_Q0d",
    "outputId": "e0a6dd1e-8d7f-46f6-f8a8-98406223ba06"
   },
   "outputs": [
    {
     "data": {
      "text/plain": [
       "1    8123\n",
       "0     453\n",
       "Name: prediction, dtype: int64"
      ]
     },
     "execution_count": 58,
     "metadata": {},
     "output_type": "execute_result"
    }
   ],
   "source": [
    "submission_set['prediction'].value_counts()"
   ]
  },
  {
   "cell_type": "code",
   "execution_count": null,
   "metadata": {},
   "outputs": [],
   "source": []
  }
 ],
 "metadata": {
  "colab": {
   "collapsed_sections": [],
   "name": "lightbgm using grid",
   "provenance": []
  },
  "kernelspec": {
   "display_name": "Python 3",
   "language": "python",
   "name": "python3"
  },
  "language_info": {
   "codemirror_mode": {
    "name": "ipython",
    "version": 3
   },
   "file_extension": ".py",
   "mimetype": "text/x-python",
   "name": "python",
   "nbconvert_exporter": "python",
   "pygments_lexer": "ipython3",
   "version": "3.6.9"
  }
 },
 "nbformat": 4,
 "nbformat_minor": 1
}
