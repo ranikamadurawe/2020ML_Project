{
 "cells": [
  {
   "cell_type": "code",
   "execution_count": 1,
   "metadata": {
    "colab": {},
    "colab_type": "code",
    "id": "6BY0u5O7qfR1"
   },
   "outputs": [],
   "source": [
    "import numpy as np\n",
    "import pandas as pd\n",
    "import lightgbm\n",
    "from sklearn.model_selection import train_test_split\n",
    "from sklearn.preprocessing import LabelBinarizer\n",
    "import math\n",
    "from sklearn import metrics\n",
    "from sklearn.model_selection import RandomizedSearchCV, GridSearchCV\n",
    "from sklearn.model_selection import KFold, StratifiedKFold\n",
    "import matplotlib.pyplot as plt\n",
    "import os\n",
    "import glob\n",
    "\n",
    "from sklearn.cluster import DBSCAN, KMeans"
   ]
  },
  {
   "cell_type": "code",
   "execution_count": 2,
   "metadata": {
    "colab": {},
    "colab_type": "code",
    "id": "jaeR-AOtreKu"
   },
   "outputs": [],
   "source": [
    "\n",
    "data_path='/home/madnisal/Documents/ML_Project/datasets/'\n",
    "training_df = pd.read_csv(data_path+'train.csv', index_col=\"tripid\")"
   ]
  },
  {
   "cell_type": "code",
   "execution_count": 3,
   "metadata": {
    "colab": {},
    "colab_type": "code",
    "id": "x2_djb9zOwgg"
   },
   "outputs": [],
   "source": [
    "def dist_from_coordinates(lat1, lon1, lat2, lon2):\n",
    "  R = 6371  # Earth radius in km\n",
    "\n",
    "  #conversion to radians\n",
    "  d_lat = np.radians(lat2-lat1)\n",
    "  d_lon = np.radians(lon2-lon1)\n",
    "\n",
    "  r_lat1 = np.radians(lat1)\n",
    "  r_lat2 = np.radians(lat2)\n",
    "\n",
    "  #haversine formula\n",
    "  a = np.sin(d_lat/2.) **2 + np.cos(r_lat1) * np.cos(r_lat2) * np.sin(d_lon/2.)**2\n",
    "\n",
    "  haversine = 2 * R * np.arcsin(np.sqrt(a))\n",
    "\n",
    "  return haversine"
   ]
  },
  {
   "cell_type": "code",
   "execution_count": 4,
   "metadata": {
    "colab": {},
    "colab_type": "code",
    "id": "fZx_Ut6cOzP9"
   },
   "outputs": [],
   "source": [
    "training_df['pickup_time'] = pd.to_datetime(training_df['pickup_time'], format=\"%m/%d/%Y %H:%M\")\n",
    "training_df['drop_time'] = pd.to_datetime(training_df['drop_time'], format=\"%m/%d/%Y %H:%M\")"
   ]
  },
  {
   "cell_type": "code",
   "execution_count": 5,
   "metadata": {
    "colab": {},
    "colab_type": "code",
    "id": "AmRtNkL2O062"
   },
   "outputs": [],
   "source": [
    "training_df = training_df.assign(timeOfDay=pd.cut(training_df.pickup_time.dt.hour,[-1, 8, 20, 24],labels=['dawn','day', 'night']))"
   ]
  },
  {
   "cell_type": "code",
   "execution_count": 6,
   "metadata": {},
   "outputs": [],
   "source": [
    "training_df.loc[training_df['timeOfDay'] == 'day', 'isNormalCharge'] = 1\n",
    "training_df.loc[training_df['timeOfDay'] != 'day', 'isNormalCharge'] = 0"
   ]
  },
  {
   "cell_type": "code",
   "execution_count": 7,
   "metadata": {
    "colab": {},
    "colab_type": "code",
    "id": "q4CFd-NqO2Un"
   },
   "outputs": [],
   "source": [
    "durations = []\n",
    "for index,row in training_df.iterrows():\n",
    "  provided_duration = row['duration'] #first row of location.lat column here\n",
    "  if math.isnan(provided_duration) or provided_duration <= 0 :\n",
    "    time_dif = (row['drop_time'] - row['pickup_time']).seconds\n",
    "    if(time_dif == 0):\n",
    "        time_dif = np.nan\n",
    "    durations.append(time_dif)\n",
    "  else :  \n",
    "    durations.append(provided_duration)\n",
    "\n",
    "training_df.insert(4,\"time_dif\",durations)"
   ]
  },
  {
   "cell_type": "code",
   "execution_count": 8,
   "metadata": {
    "colab": {},
    "colab_type": "code",
    "id": "OKJBD2vsO6bJ"
   },
   "outputs": [],
   "source": [
    "new_column = []                    #empty column for distance\n",
    "for index,row in training_df.iterrows():\n",
    "  lat1 = row['pick_lat'] #first row of location.lat column here\n",
    "  lon1 = row['pick_lon'] #first row of location.long column here\n",
    "  lat2 = row['drop_lat'] #second row of location.lat column here\n",
    "  lon2 = row['drop_lon'] #second row of location.long column here\n",
    "  value = dist_from_coordinates(lat1, lon1, lat2, lon2)  #get the distance\n",
    "  new_column.append(value)   #append the empty list with distance values\n",
    "\n",
    "training_df.insert(4,\"distance\",new_column)"
   ]
  },
  {
   "cell_type": "code",
   "execution_count": 9,
   "metadata": {
    "colab": {},
    "colab_type": "code",
    "id": "EDFvgdsoO8rC"
   },
   "outputs": [],
   "source": [
    "training_df['time_driven'] = training_df['duration']  - training_df['meter_waiting']"
   ]
  },
  {
   "cell_type": "code",
   "execution_count": 10,
   "metadata": {
    "colab": {},
    "colab_type": "code",
    "id": "eQOTKxsNO-CH"
   },
   "outputs": [],
   "source": [
    "chargeperhours = []\n",
    "for index,row in training_df.iterrows():\n",
    "    if(row['meter_waiting'] == 0):\n",
    "        chargeperhour = np.nan\n",
    "    else:\n",
    "        chargeperhour = (row['meter_waiting_fare'] / row['meter_waiting'] * 3600)\n",
    "    chargeperhours.append(chargeperhour)\n",
    "\n",
    "training_df.insert(4,'charge_per_hour',chargeperhours)\n"
   ]
  },
  {
   "cell_type": "code",
   "execution_count": 11,
   "metadata": {
    "colab": {},
    "colab_type": "code",
    "id": "c9OpngXwPAiv"
   },
   "outputs": [],
   "source": [
    "training_df['driving_fare'] = training_df['fare']  - training_df['meter_waiting_fare'] - training_df['additional_fare']"
   ]
  },
  {
   "cell_type": "code",
   "execution_count": 12,
   "metadata": {
    "colab": {},
    "colab_type": "code",
    "id": "ECO9WaT5PB6O"
   },
   "outputs": [],
   "source": [
    "avgspeeds = []\n",
    "for index,row in training_df.iterrows():\n",
    "    if(row['time_driven'] == 0):\n",
    "        avgspeed = np.nan\n",
    "    else:\n",
    "        avgspeed = (row['distance'] / row['time_driven'] * 3600)\n",
    "    avgspeeds.append(avgspeed)\n",
    "\n",
    "training_df.insert(4,\"avg_speed\",avgspeeds)\n",
    "\n"
   ]
  },
  {
   "cell_type": "code",
   "execution_count": 13,
   "metadata": {
    "colab": {},
    "colab_type": "code",
    "id": "j1DDDw52PGUY"
   },
   "outputs": [],
   "source": [
    "costsperkm = []\n",
    "for index,row in training_df.iterrows():\n",
    "    if row['distance'] == 0:\n",
    "        costperkm = np.nan\n",
    "            \n",
    "    else:\n",
    "        costperkm = (row['driving_fare'] / row['distance'])\n",
    "    costsperkm.append(costperkm)\n",
    "\n",
    "training_df.insert(4,\"cost_per_km\",costsperkm)"
   ]
  },
  {
   "cell_type": "code",
   "execution_count": 14,
   "metadata": {
    "colab": {},
    "colab_type": "code",
    "id": "zVsGZhgQrktE"
   },
   "outputs": [],
   "source": [
    "training_df = training_df.replace({'label': {'incorrect': 0, 'correct' : 1}})"
   ]
  },
  {
   "cell_type": "markdown",
   "metadata": {},
   "source": [
    "<h2>Geolocation clustering</h2>"
   ]
  },
  {
   "cell_type": "code",
   "execution_count": 15,
   "metadata": {},
   "outputs": [],
   "source": [
    "pickup_locations = training_df[['pick_lat','pick_lon']]\n",
    "drop_locations = training_df[['drop_lat','drop_lon']]"
   ]
  },
  {
   "cell_type": "code",
   "execution_count": 16,
   "metadata": {},
   "outputs": [
    {
     "data": {
      "text/plain": [
       "KMeans(algorithm='auto', copy_x=True, init='k-means++', max_iter=300,\n",
       "       n_clusters=5, n_init=10, n_jobs=None, precompute_distances='auto',\n",
       "       random_state=None, tol=0.0001, verbose=0)"
      ]
     },
     "execution_count": 16,
     "metadata": {},
     "output_type": "execute_result"
    }
   ],
   "source": [
    "kmeans = KMeans(n_clusters = 5, init ='k-means++')\n",
    "kmeans.fit(pickup_locations)"
   ]
  },
  {
   "cell_type": "code",
   "execution_count": 17,
   "metadata": {},
   "outputs": [],
   "source": [
    "training_df['pickup_cluster_label'] = kmeans.predict(pickup_locations)"
   ]
  },
  {
   "cell_type": "code",
   "execution_count": 20,
   "metadata": {},
   "outputs": [
    {
     "data": {
      "text/plain": [
       "KMeans(algorithm='auto', copy_x=True, init='k-means++', max_iter=300,\n",
       "       n_clusters=5, n_init=10, n_jobs=None, precompute_distances='auto',\n",
       "       random_state=None, tol=0.0001, verbose=0)"
      ]
     },
     "execution_count": 20,
     "metadata": {},
     "output_type": "execute_result"
    }
   ],
   "source": [
    "kmeansdrop = KMeans(n_clusters = 5, init ='k-means++')\n",
    "kmeansdrop.fit(drop_locations)"
   ]
  },
  {
   "cell_type": "code",
   "execution_count": 21,
   "metadata": {},
   "outputs": [],
   "source": [
    "training_df['drop_cluster_label'] = kmeansdrop.predict(drop_locations)"
   ]
  },
  {
   "cell_type": "markdown",
   "metadata": {},
   "source": [
    "<h2>Selecting the features</h2>"
   ]
  },
  {
   "cell_type": "code",
   "execution_count": 22,
   "metadata": {},
   "outputs": [
    {
     "data": {
      "text/plain": [
       "Index(['additional_fare', 'duration', 'meter_waiting', 'meter_waiting_fare',\n",
       "       'cost_per_km', 'avg_speed', 'charge_per_hour', 'distance', 'time_dif',\n",
       "       'meter_waiting_till_pickup', 'pickup_time', 'drop_time', 'pick_lat',\n",
       "       'pick_lon', 'drop_lat', 'drop_lon', 'fare', 'label', 'timeOfDay',\n",
       "       'isNormalCharge', 'time_driven', 'driving_fare', 'pickup_cluster_label',\n",
       "       'drop_cluster_label'],\n",
       "      dtype='object')"
      ]
     },
     "execution_count": 22,
     "metadata": {},
     "output_type": "execute_result"
    }
   ],
   "source": [
    "training_df.columns"
   ]
  },
  {
   "cell_type": "code",
   "execution_count": 23,
   "metadata": {},
   "outputs": [],
   "source": [
    "training_columns = ['meter_waiting','meter_waiting_fare','fare','additional_fare', 'distance','cost_per_km', 'avg_speed',  'time_dif','time_driven', 'charge_per_hour', 'driving_fare', 'isNormalCharge','drop_cluster_label','pickup_cluster_label']"
   ]
  },
  {
   "cell_type": "code",
   "execution_count": 24,
   "metadata": {},
   "outputs": [],
   "source": [
    "training_columns = ['meter_waiting','meter_waiting_fare','fare','additional_fare', 'distance','cost_per_km', 'avg_speed',  'time_dif','time_driven', 'charge_per_hour', 'driving_fare', 'isNormalCharge','pick_lat','pick_lon','drop_lat','drop_lon','drop_cluster_label','pickup_cluster_label']"
   ]
  },
  {
   "cell_type": "code",
   "execution_count": 25,
   "metadata": {
    "colab": {},
    "colab_type": "code",
    "id": "tnbpcAUqruuZ"
   },
   "outputs": [],
   "source": [
    "target_column = ['label']"
   ]
  },
  {
   "cell_type": "code",
   "execution_count": 26,
   "metadata": {},
   "outputs": [],
   "source": [
    "training_df = training_df.drop(190167541)"
   ]
  },
  {
   "cell_type": "code",
   "execution_count": 27,
   "metadata": {
    "colab": {},
    "colab_type": "code",
    "id": "PrUJfvL1r4pI"
   },
   "outputs": [],
   "source": [
    "x = training_df[training_columns].values\n",
    "y = training_df[target_column].values"
   ]
  },
  {
   "cell_type": "code",
   "execution_count": 28,
   "metadata": {
    "colab": {},
    "colab_type": "code",
    "id": "Xfow1Vm-sBI9"
   },
   "outputs": [],
   "source": [
    "x, x_test, y, y_test = train_test_split(x, y, test_size=0.2, random_state=42, stratify=y)"
   ]
  },
  {
   "cell_type": "code",
   "execution_count": 29,
   "metadata": {},
   "outputs": [
    {
     "data": {
      "text/plain": [
       "1    15494\n",
       "0     1681\n",
       "Name: label, dtype: int64"
      ]
     },
     "execution_count": 29,
     "metadata": {},
     "output_type": "execute_result"
    }
   ],
   "source": [
    "training_df['label'].value_counts()"
   ]
  },
  {
   "cell_type": "markdown",
   "metadata": {},
   "source": [
    "<h2>Choosing the best model</h2>"
   ]
  },
  {
   "cell_type": "code",
   "execution_count": 30,
   "metadata": {},
   "outputs": [],
   "source": [
    "def focal_loss_lgb_eval_error(y_true, y_pred, alpha=.25, gamma=2.):\n",
    "    a,g = alpha, gamma\n",
    "    p = 1/(1+np.exp(-y_pred))\n",
    "    loss = -( a*y_true + (1-a)*(1-y_true) ) * (( 1 - ( y_true*p + (1-y_true)*(1-p)) )**g) * ( y_true*np.log(p)+(1-y_true)*np.log(1-p) )\n",
    "    return 'focal_loss', np.mean(loss), False"
   ]
  },
  {
   "cell_type": "code",
   "execution_count": 31,
   "metadata": {},
   "outputs": [],
   "source": [
    "from sklearn.metrics import f1_score\n",
    "def evaluate_macroF1_lgb(y_true, y_pred):  \n",
    "    y_hat = np.where(y_pred < 0.5, 0, 1) \n",
    "    f1 = f1_score(y_true, y_hat, average='macro')\n",
    "    return ('macroF1', f1, True) "
   ]
  },
  {
   "cell_type": "code",
   "execution_count": 32,
   "metadata": {},
   "outputs": [],
   "source": [
    "gkf = StratifiedKFold(n_splits=5, shuffle=True, random_state=42)"
   ]
  },
  {
   "cell_type": "code",
   "execution_count": 33,
   "metadata": {},
   "outputs": [],
   "source": [
    "model = lightgbm.LGBMClassifier(class_weight={0:1.5,1:1}, learning_rate=0.1)"
   ]
  },
  {
   "cell_type": "code",
   "execution_count": 34,
   "metadata": {},
   "outputs": [
    {
     "name": "stderr",
     "output_type": "stream",
     "text": [
      "/usr/local/lib/python3.6/dist-packages/sklearn/preprocessing/_label.py:235: DataConversionWarning: A column-vector y was passed when a 1d array was expected. Please change the shape of y to (n_samples, ), for example using ravel().\n",
      "  y = column_or_1d(y, warn=True)\n",
      "/usr/local/lib/python3.6/dist-packages/sklearn/preprocessing/_label.py:268: DataConversionWarning: A column-vector y was passed when a 1d array was expected. Please change the shape of y to (n_samples, ), for example using ravel().\n",
      "  y = column_or_1d(y, warn=True)\n"
     ]
    },
    {
     "name": "stdout",
     "output_type": "stream",
     "text": [
      "[1]\tvalid_0's binary_logloss: 0.28951\tvalid_0's macroF1: 0.474268\n",
      "[2]\tvalid_0's binary_logloss: 0.266245\tvalid_0's macroF1: 0.474268\n",
      "[3]\tvalid_0's binary_logloss: 0.248837\tvalid_0's macroF1: 0.474268\n",
      "[4]\tvalid_0's binary_logloss: 0.235365\tvalid_0's macroF1: 0.474268\n",
      "[5]\tvalid_0's binary_logloss: 0.224279\tvalid_0's macroF1: 0.691565\n",
      "[6]\tvalid_0's binary_logloss: 0.214593\tvalid_0's macroF1: 0.743383\n",
      "[7]\tvalid_0's binary_logloss: 0.206098\tvalid_0's macroF1: 0.79792\n",
      "[8]\tvalid_0's binary_logloss: 0.198465\tvalid_0's macroF1: 0.810983\n",
      "[9]\tvalid_0's binary_logloss: 0.192515\tvalid_0's macroF1: 0.820103\n",
      "[10]\tvalid_0's binary_logloss: 0.186296\tvalid_0's macroF1: 0.826652\n",
      "[11]\tvalid_0's binary_logloss: 0.181639\tvalid_0's macroF1: 0.837845\n",
      "[12]\tvalid_0's binary_logloss: 0.177881\tvalid_0's macroF1: 0.839369\n",
      "[13]\tvalid_0's binary_logloss: 0.174443\tvalid_0's macroF1: 0.837385\n",
      "[14]\tvalid_0's binary_logloss: 0.171348\tvalid_0's macroF1: 0.840413\n",
      "[15]\tvalid_0's binary_logloss: 0.16799\tvalid_0's macroF1: 0.842038\n",
      "[16]\tvalid_0's binary_logloss: 0.165425\tvalid_0's macroF1: 0.845577\n",
      "[17]\tvalid_0's binary_logloss: 0.163209\tvalid_0's macroF1: 0.842649\n",
      "[18]\tvalid_0's binary_logloss: 0.160744\tvalid_0's macroF1: 0.844116\n",
      "[19]\tvalid_0's binary_logloss: 0.159037\tvalid_0's macroF1: 0.847617\n",
      "[20]\tvalid_0's binary_logloss: 0.156753\tvalid_0's macroF1: 0.849633\n",
      "[21]\tvalid_0's binary_logloss: 0.155292\tvalid_0's macroF1: 0.851364\n",
      "[22]\tvalid_0's binary_logloss: 0.153446\tvalid_0's macroF1: 0.855646\n",
      "[23]\tvalid_0's binary_logloss: 0.152051\tvalid_0's macroF1: 0.8576\n",
      "[24]\tvalid_0's binary_logloss: 0.150811\tvalid_0's macroF1: 0.85619\n",
      "[25]\tvalid_0's binary_logloss: 0.149999\tvalid_0's macroF1: 0.859878\n",
      "[26]\tvalid_0's binary_logloss: 0.149111\tvalid_0's macroF1: 0.85619\n",
      "[27]\tvalid_0's binary_logloss: 0.148242\tvalid_0's macroF1: 0.8576\n",
      "[28]\tvalid_0's binary_logloss: 0.147142\tvalid_0's macroF1: 0.864567\n",
      "[29]\tvalid_0's binary_logloss: 0.145915\tvalid_0's macroF1: 0.863692\n",
      "[30]\tvalid_0's binary_logloss: 0.145339\tvalid_0's macroF1: 0.864567\n",
      "[31]\tvalid_0's binary_logloss: 0.144779\tvalid_0's macroF1: 0.865068\n",
      "[32]\tvalid_0's binary_logloss: 0.14426\tvalid_0's macroF1: 0.864195\n",
      "[33]\tvalid_0's binary_logloss: 0.143556\tvalid_0's macroF1: 0.862819\n",
      "[34]\tvalid_0's binary_logloss: 0.143528\tvalid_0's macroF1: 0.863325\n",
      "[35]\tvalid_0's binary_logloss: 0.143112\tvalid_0's macroF1: 0.862819\n",
      "[36]\tvalid_0's binary_logloss: 0.142912\tvalid_0's macroF1: 0.862819\n",
      "[37]\tvalid_0's binary_logloss: 0.142512\tvalid_0's macroF1: 0.861084\n",
      "[38]\tvalid_0's binary_logloss: 0.142016\tvalid_0's macroF1: 0.86195\n",
      "[39]\tvalid_0's binary_logloss: 0.141977\tvalid_0's macroF1: 0.861084\n",
      "[40]\tvalid_0's binary_logloss: 0.142091\tvalid_0's macroF1: 0.858844\n",
      "[41]\tvalid_0's binary_logloss: 0.142058\tvalid_0's macroF1: 0.859706\n",
      "[42]\tvalid_0's binary_logloss: 0.141691\tvalid_0's macroF1: 0.861084\n",
      "[43]\tvalid_0's binary_logloss: 0.141507\tvalid_0's macroF1: 0.86195\n",
      "[44]\tvalid_0's binary_logloss: 0.141629\tvalid_0's macroF1: 0.861439\n",
      "[45]\tvalid_0's binary_logloss: 0.141486\tvalid_0's macroF1: 0.861084\n",
      "[46]\tvalid_0's binary_logloss: 0.141695\tvalid_0's macroF1: 0.86195\n",
      "[47]\tvalid_0's binary_logloss: 0.141325\tvalid_0's macroF1: 0.862458\n",
      "[48]\tvalid_0's binary_logloss: 0.141141\tvalid_0's macroF1: 0.862458\n",
      "[49]\tvalid_0's binary_logloss: 0.141213\tvalid_0's macroF1: 0.861084\n",
      "[50]\tvalid_0's binary_logloss: 0.141253\tvalid_0's macroF1: 0.861084\n",
      "[51]\tvalid_0's binary_logloss: 0.141226\tvalid_0's macroF1: 0.858844\n",
      "[52]\tvalid_0's binary_logloss: 0.141316\tvalid_0's macroF1: 0.859706\n",
      "[53]\tvalid_0's binary_logloss: 0.141248\tvalid_0's macroF1: 0.859706\n",
      "[54]\tvalid_0's binary_logloss: 0.141205\tvalid_0's macroF1: 0.858844\n",
      "[55]\tvalid_0's binary_logloss: 0.141035\tvalid_0's macroF1: 0.858844\n",
      "[56]\tvalid_0's binary_logloss: 0.141059\tvalid_0's macroF1: 0.858844\n",
      "[57]\tvalid_0's binary_logloss: 0.141136\tvalid_0's macroF1: 0.857985\n",
      "[58]\tvalid_0's binary_logloss: 0.141351\tvalid_0's macroF1: 0.857129\n",
      "[59]\tvalid_0's binary_logloss: 0.14136\tvalid_0's macroF1: 0.857985\n",
      "[60]\tvalid_0's binary_logloss: 0.141431\tvalid_0's macroF1: 0.857985\n",
      "[61]\tvalid_0's binary_logloss: 0.141241\tvalid_0's macroF1: 0.858844\n",
      "[62]\tvalid_0's binary_logloss: 0.141346\tvalid_0's macroF1: 0.857461\n",
      "[63]\tvalid_0's binary_logloss: 0.141256\tvalid_0's macroF1: 0.858844\n",
      "[64]\tvalid_0's binary_logloss: 0.141044\tvalid_0's macroF1: 0.858844\n",
      "[65]\tvalid_0's binary_logloss: 0.141121\tvalid_0's macroF1: 0.857461\n",
      "[66]\tvalid_0's binary_logloss: 0.14099\tvalid_0's macroF1: 0.858844\n",
      "[67]\tvalid_0's binary_logloss: 0.140802\tvalid_0's macroF1: 0.857461\n",
      "[68]\tvalid_0's binary_logloss: 0.140633\tvalid_0's macroF1: 0.855748\n",
      "[69]\tvalid_0's binary_logloss: 0.140526\tvalid_0's macroF1: 0.857985\n",
      "[70]\tvalid_0's binary_logloss: 0.140337\tvalid_0's macroF1: 0.856073\n",
      "[71]\tvalid_0's binary_logloss: 0.14019\tvalid_0's macroF1: 0.857461\n",
      "[72]\tvalid_0's binary_logloss: 0.140219\tvalid_0's macroF1: 0.858322\n",
      "[73]\tvalid_0's binary_logloss: 0.140251\tvalid_0's macroF1: 0.858322\n",
      "[74]\tvalid_0's binary_logloss: 0.140253\tvalid_0's macroF1: 0.860053\n",
      "[75]\tvalid_0's binary_logloss: 0.140047\tvalid_0's macroF1: 0.860053\n",
      "[76]\tvalid_0's binary_logloss: 0.139987\tvalid_0's macroF1: 0.859186\n",
      "[77]\tvalid_0's binary_logloss: 0.140184\tvalid_0's macroF1: 0.858322\n",
      "[78]\tvalid_0's binary_logloss: 0.140481\tvalid_0's macroF1: 0.856933\n",
      "[79]\tvalid_0's binary_logloss: 0.140904\tvalid_0's macroF1: 0.857796\n",
      "[80]\tvalid_0's binary_logloss: 0.140634\tvalid_0's macroF1: 0.857796\n",
      "[81]\tvalid_0's binary_logloss: 0.140811\tvalid_0's macroF1: 0.858661\n",
      "[82]\tvalid_0's binary_logloss: 0.140851\tvalid_0's macroF1: 0.858661\n",
      "[83]\tvalid_0's binary_logloss: 0.140638\tvalid_0's macroF1: 0.858661\n",
      "[84]\tvalid_0's binary_logloss: 0.140755\tvalid_0's macroF1: 0.858661\n",
      "[85]\tvalid_0's binary_logloss: 0.140629\tvalid_0's macroF1: 0.857796\n",
      "[86]\tvalid_0's binary_logloss: 0.140848\tvalid_0's macroF1: 0.857796\n",
      "[87]\tvalid_0's binary_logloss: 0.140856\tvalid_0's macroF1: 0.857796\n",
      "[88]\tvalid_0's binary_logloss: 0.141151\tvalid_0's macroF1: 0.856073\n",
      "[89]\tvalid_0's binary_logloss: 0.141125\tvalid_0's macroF1: 0.856933\n",
      "[90]\tvalid_0's binary_logloss: 0.141273\tvalid_0's macroF1: 0.856933\n",
      "[91]\tvalid_0's binary_logloss: 0.141467\tvalid_0's macroF1: 0.855216\n",
      "[92]\tvalid_0's binary_logloss: 0.141557\tvalid_0's macroF1: 0.857461\n",
      "[93]\tvalid_0's binary_logloss: 0.141842\tvalid_0's macroF1: 0.858322\n",
      "[94]\tvalid_0's binary_logloss: 0.142027\tvalid_0's macroF1: 0.857461\n",
      "[95]\tvalid_0's binary_logloss: 0.142276\tvalid_0's macroF1: 0.859706\n",
      "[96]\tvalid_0's binary_logloss: 0.142376\tvalid_0's macroF1: 0.859706\n",
      "[97]\tvalid_0's binary_logloss: 0.142611\tvalid_0's macroF1: 0.859706\n",
      "[98]\tvalid_0's binary_logloss: 0.142442\tvalid_0's macroF1: 0.859706\n",
      "[99]\tvalid_0's binary_logloss: 0.142491\tvalid_0's macroF1: 0.858322\n",
      "[100]\tvalid_0's binary_logloss: 0.142675\tvalid_0's macroF1: 0.859706\n",
      "[1]\tvalid_0's binary_logloss: 0.292416\tvalid_0's macroF1: 0.474268\n",
      "[2]\tvalid_0's binary_logloss: 0.27074\tvalid_0's macroF1: 0.474268\n",
      "[3]\tvalid_0's binary_logloss: 0.254827\tvalid_0's macroF1: 0.474268\n",
      "[4]\tvalid_0's binary_logloss: 0.241028\tvalid_0's macroF1: 0.474268\n",
      "[5]\tvalid_0's binary_logloss: 0.229839\tvalid_0's macroF1: 0.664717\n",
      "[6]\tvalid_0's binary_logloss: 0.220006\tvalid_0's macroF1: 0.739199\n",
      "[7]\tvalid_0's binary_logloss: 0.212167\tvalid_0's macroF1: 0.765945\n",
      "[8]\tvalid_0's binary_logloss: 0.204256\tvalid_0's macroF1: 0.786269\n",
      "[9]\tvalid_0's binary_logloss: 0.198526\tvalid_0's macroF1: 0.801485\n",
      "[10]\tvalid_0's binary_logloss: 0.193344\tvalid_0's macroF1: 0.804075\n",
      "[11]\tvalid_0's binary_logloss: 0.188255\tvalid_0's macroF1: 0.810014\n",
      "[12]\tvalid_0's binary_logloss: 0.184398\tvalid_0's macroF1: 0.812437\n",
      "[13]\tvalid_0's binary_logloss: 0.180773\tvalid_0's macroF1: 0.80992\n",
      "[14]\tvalid_0's binary_logloss: 0.17735\tvalid_0's macroF1: 0.813939\n",
      "[15]\tvalid_0's binary_logloss: 0.174694\tvalid_0's macroF1: 0.813939\n",
      "[16]\tvalid_0's binary_logloss: 0.171739\tvalid_0's macroF1: 0.815564\n",
      "[17]\tvalid_0's binary_logloss: 0.169926\tvalid_0's macroF1: 0.817085\n",
      "[18]\tvalid_0's binary_logloss: 0.167485\tvalid_0's macroF1: 0.823448\n",
      "[19]\tvalid_0's binary_logloss: 0.166202\tvalid_0's macroF1: 0.831932\n"
     ]
    },
    {
     "name": "stderr",
     "output_type": "stream",
     "text": [
      "/usr/local/lib/python3.6/dist-packages/sklearn/preprocessing/_label.py:235: DataConversionWarning: A column-vector y was passed when a 1d array was expected. Please change the shape of y to (n_samples, ), for example using ravel().\n",
      "  y = column_or_1d(y, warn=True)\n",
      "/usr/local/lib/python3.6/dist-packages/sklearn/preprocessing/_label.py:268: DataConversionWarning: A column-vector y was passed when a 1d array was expected. Please change the shape of y to (n_samples, ), for example using ravel().\n",
      "  y = column_or_1d(y, warn=True)\n"
     ]
    },
    {
     "name": "stdout",
     "output_type": "stream",
     "text": [
      "[20]\tvalid_0's binary_logloss: 0.164609\tvalid_0's macroF1: 0.832602\n",
      "[21]\tvalid_0's binary_logloss: 0.163247\tvalid_0's macroF1: 0.832409\n",
      "[22]\tvalid_0's binary_logloss: 0.162132\tvalid_0's macroF1: 0.830702\n",
      "[23]\tvalid_0's binary_logloss: 0.160998\tvalid_0's macroF1: 0.833524\n",
      "[24]\tvalid_0's binary_logloss: 0.160235\tvalid_0's macroF1: 0.832678\n",
      "[25]\tvalid_0's binary_logloss: 0.158948\tvalid_0's macroF1: 0.835656\n",
      "[26]\tvalid_0's binary_logloss: 0.158255\tvalid_0's macroF1: 0.837136\n",
      "[27]\tvalid_0's binary_logloss: 0.157739\tvalid_0's macroF1: 0.837136\n",
      "[28]\tvalid_0's binary_logloss: 0.157354\tvalid_0's macroF1: 0.837987\n",
      "[29]\tvalid_0's binary_logloss: 0.156838\tvalid_0's macroF1: 0.835656\n",
      "[30]\tvalid_0's binary_logloss: 0.156197\tvalid_0's macroF1: 0.840933\n",
      "[31]\tvalid_0's binary_logloss: 0.155716\tvalid_0's macroF1: 0.840079\n",
      "[32]\tvalid_0's binary_logloss: 0.155229\tvalid_0's macroF1: 0.840079\n",
      "[33]\tvalid_0's binary_logloss: 0.154674\tvalid_0's macroF1: 0.838611\n",
      "[34]\tvalid_0's binary_logloss: 0.154503\tvalid_0's macroF1: 0.836916\n",
      "[35]\tvalid_0's binary_logloss: 0.153973\tvalid_0's macroF1: 0.836916\n",
      "[36]\tvalid_0's binary_logloss: 0.15393\tvalid_0's macroF1: 0.836916\n",
      "[37]\tvalid_0's binary_logloss: 0.153603\tvalid_0's macroF1: 0.842746\n",
      "[38]\tvalid_0's binary_logloss: 0.153151\tvalid_0's macroF1: 0.845042\n",
      "[39]\tvalid_0's binary_logloss: 0.152593\tvalid_0's macroF1: 0.843597\n",
      "[40]\tvalid_0's binary_logloss: 0.152039\tvalid_0's macroF1: 0.845042\n",
      "[41]\tvalid_0's binary_logloss: 0.151936\tvalid_0's macroF1: 0.845627\n",
      "[42]\tvalid_0's binary_logloss: 0.152144\tvalid_0's macroF1: 0.845042\n",
      "[43]\tvalid_0's binary_logloss: 0.15211\tvalid_0's macroF1: 0.845042\n",
      "[44]\tvalid_0's binary_logloss: 0.151445\tvalid_0's macroF1: 0.845897\n",
      "[45]\tvalid_0's binary_logloss: 0.151082\tvalid_0's macroF1: 0.845042\n",
      "[46]\tvalid_0's binary_logloss: 0.150907\tvalid_0's macroF1: 0.843597\n",
      "[47]\tvalid_0's binary_logloss: 0.151138\tvalid_0's macroF1: 0.844451\n",
      "[48]\tvalid_0's binary_logloss: 0.150883\tvalid_0's macroF1: 0.846756\n",
      "[49]\tvalid_0's binary_logloss: 0.150599\tvalid_0's macroF1: 0.845897\n",
      "[50]\tvalid_0's binary_logloss: 0.150285\tvalid_0's macroF1: 0.843856\n",
      "[51]\tvalid_0's binary_logloss: 0.14992\tvalid_0's macroF1: 0.845308\n",
      "[52]\tvalid_0's binary_logloss: 0.150075\tvalid_0's macroF1: 0.846481\n",
      "[53]\tvalid_0's binary_logloss: 0.150038\tvalid_0's macroF1: 0.848197\n",
      "[54]\tvalid_0's binary_logloss: 0.149973\tvalid_0's macroF1: 0.848197\n",
      "[55]\tvalid_0's binary_logloss: 0.15008\tvalid_0's macroF1: 0.845897\n",
      "[56]\tvalid_0's binary_logloss: 0.150012\tvalid_0's macroF1: 0.845897\n",
      "[57]\tvalid_0's binary_logloss: 0.150216\tvalid_0's macroF1: 0.845897\n",
      "[58]\tvalid_0's binary_logloss: 0.150353\tvalid_0's macroF1: 0.846756\n",
      "[59]\tvalid_0's binary_logloss: 0.150237\tvalid_0's macroF1: 0.846756\n",
      "[60]\tvalid_0's binary_logloss: 0.150278\tvalid_0's macroF1: 0.845897\n",
      "[61]\tvalid_0's binary_logloss: 0.150336\tvalid_0's macroF1: 0.848772\n",
      "[62]\tvalid_0's binary_logloss: 0.149957\tvalid_0's macroF1: 0.848772\n",
      "[63]\tvalid_0's binary_logloss: 0.149776\tvalid_0's macroF1: 0.847914\n",
      "[64]\tvalid_0's binary_logloss: 0.149727\tvalid_0's macroF1: 0.847914\n",
      "[65]\tvalid_0's binary_logloss: 0.149719\tvalid_0's macroF1: 0.849342\n",
      "[66]\tvalid_0's binary_logloss: 0.149725\tvalid_0's macroF1: 0.846481\n",
      "[67]\tvalid_0's binary_logloss: 0.149572\tvalid_0's macroF1: 0.846481\n",
      "[68]\tvalid_0's binary_logloss: 0.14975\tvalid_0's macroF1: 0.845042\n",
      "[69]\tvalid_0's binary_logloss: 0.149741\tvalid_0's macroF1: 0.845042\n",
      "[70]\tvalid_0's binary_logloss: 0.1499\tvalid_0's macroF1: 0.845042\n",
      "[71]\tvalid_0's binary_logloss: 0.149721\tvalid_0's macroF1: 0.845042\n",
      "[72]\tvalid_0's binary_logloss: 0.149325\tvalid_0's macroF1: 0.845897\n",
      "[73]\tvalid_0's binary_logloss: 0.149546\tvalid_0's macroF1: 0.846481\n",
      "[74]\tvalid_0's binary_logloss: 0.149549\tvalid_0's macroF1: 0.846208\n",
      "[75]\tvalid_0's binary_logloss: 0.149323\tvalid_0's macroF1: 0.845627\n",
      "[76]\tvalid_0's binary_logloss: 0.149228\tvalid_0's macroF1: 0.844777\n",
      "[77]\tvalid_0's binary_logloss: 0.148953\tvalid_0's macroF1: 0.84334\n",
      "[78]\tvalid_0's binary_logloss: 0.149196\tvalid_0's macroF1: 0.84334\n",
      "[79]\tvalid_0's binary_logloss: 0.149404\tvalid_0's macroF1: 0.844189\n",
      "[80]\tvalid_0's binary_logloss: 0.149566\tvalid_0's macroF1: 0.845627\n",
      "[81]\tvalid_0's binary_logloss: 0.149786\tvalid_0's macroF1: 0.845627\n",
      "[82]\tvalid_0's binary_logloss: 0.150143\tvalid_0's macroF1: 0.844777\n",
      "[83]\tvalid_0's binary_logloss: 0.150548\tvalid_0's macroF1: 0.84334\n",
      "[84]\tvalid_0's binary_logloss: 0.150479\tvalid_0's macroF1: 0.843929\n",
      "[85]\tvalid_0's binary_logloss: 0.150355\tvalid_0's macroF1: 0.843929\n",
      "[86]\tvalid_0's binary_logloss: 0.150492\tvalid_0's macroF1: 0.843929\n",
      "[87]\tvalid_0's binary_logloss: 0.150532\tvalid_0's macroF1: 0.843085\n",
      "[88]\tvalid_0's binary_logloss: 0.150437\tvalid_0's macroF1: 0.843085\n",
      "[89]\tvalid_0's binary_logloss: 0.150699\tvalid_0's macroF1: 0.841053\n",
      "[90]\tvalid_0's binary_logloss: 0.150966\tvalid_0's macroF1: 0.841053\n",
      "[91]\tvalid_0's binary_logloss: 0.150985\tvalid_0's macroF1: 0.841898\n",
      "[92]\tvalid_0's binary_logloss: 0.151093\tvalid_0's macroF1: 0.841898\n",
      "[93]\tvalid_0's binary_logloss: 0.151367\tvalid_0's macroF1: 0.84045\n",
      "[94]\tvalid_0's binary_logloss: 0.151151\tvalid_0's macroF1: 0.841898\n",
      "[95]\tvalid_0's binary_logloss: 0.151348\tvalid_0's macroF1: 0.841898\n",
      "[96]\tvalid_0's binary_logloss: 0.151302\tvalid_0's macroF1: 0.841297\n",
      "[97]\tvalid_0's binary_logloss: 0.151328\tvalid_0's macroF1: 0.841297\n",
      "[98]\tvalid_0's binary_logloss: 0.151619\tvalid_0's macroF1: 0.841297\n",
      "[99]\tvalid_0's binary_logloss: 0.151695\tvalid_0's macroF1: 0.841297\n",
      "[100]\tvalid_0's binary_logloss: 0.151826\tvalid_0's macroF1: 0.841297\n",
      "[1]\tvalid_0's binary_logloss: 0.29398\tvalid_0's macroF1: 0.474268\n",
      "[2]\tvalid_0's binary_logloss: 0.271964\tvalid_0's macroF1: 0.474268\n",
      "[3]\tvalid_0's binary_logloss: 0.2559\tvalid_0's macroF1: 0.474268\n",
      "[4]\tvalid_0's binary_logloss: 0.242102\tvalid_0's macroF1: 0.474268\n",
      "[5]\tvalid_0's binary_logloss: 0.230446\tvalid_0's macroF1: 0.648442\n"
     ]
    },
    {
     "name": "stderr",
     "output_type": "stream",
     "text": [
      "/usr/local/lib/python3.6/dist-packages/sklearn/preprocessing/_label.py:235: DataConversionWarning: A column-vector y was passed when a 1d array was expected. Please change the shape of y to (n_samples, ), for example using ravel().\n",
      "  y = column_or_1d(y, warn=True)\n",
      "/usr/local/lib/python3.6/dist-packages/sklearn/preprocessing/_label.py:268: DataConversionWarning: A column-vector y was passed when a 1d array was expected. Please change the shape of y to (n_samples, ), for example using ravel().\n",
      "  y = column_or_1d(y, warn=True)\n"
     ]
    },
    {
     "name": "stdout",
     "output_type": "stream",
     "text": [
      "[6]\tvalid_0's binary_logloss: 0.220618\tvalid_0's macroF1: 0.750002\n",
      "[7]\tvalid_0's binary_logloss: 0.212485\tvalid_0's macroF1: 0.771408\n",
      "[8]\tvalid_0's binary_logloss: 0.205891\tvalid_0's macroF1: 0.787239\n",
      "[9]\tvalid_0's binary_logloss: 0.200296\tvalid_0's macroF1: 0.804069\n",
      "[10]\tvalid_0's binary_logloss: 0.195181\tvalid_0's macroF1: 0.809109\n",
      "[11]\tvalid_0's binary_logloss: 0.189827\tvalid_0's macroF1: 0.819008\n",
      "[12]\tvalid_0's binary_logloss: 0.1852\tvalid_0's macroF1: 0.824594\n",
      "[13]\tvalid_0's binary_logloss: 0.181538\tvalid_0's macroF1: 0.82445\n",
      "[14]\tvalid_0's binary_logloss: 0.177838\tvalid_0's macroF1: 0.828152\n",
      "[15]\tvalid_0's binary_logloss: 0.175056\tvalid_0's macroF1: 0.829706\n",
      "[16]\tvalid_0's binary_logloss: 0.172212\tvalid_0's macroF1: 0.833466\n",
      "[17]\tvalid_0's binary_logloss: 0.169503\tvalid_0's macroF1: 0.834579\n",
      "[18]\tvalid_0's binary_logloss: 0.168013\tvalid_0's macroF1: 0.833725\n",
      "[19]\tvalid_0's binary_logloss: 0.166\tvalid_0's macroF1: 0.836723\n",
      "[20]\tvalid_0's binary_logloss: 0.16475\tvalid_0's macroF1: 0.836723\n",
      "[21]\tvalid_0's binary_logloss: 0.162885\tvalid_0's macroF1: 0.842649\n",
      "[22]\tvalid_0's binary_logloss: 0.161721\tvalid_0's macroF1: 0.84498\n",
      "[23]\tvalid_0's binary_logloss: 0.160259\tvalid_0's macroF1: 0.844116\n",
      "[24]\tvalid_0's binary_logloss: 0.159383\tvalid_0's macroF1: 0.846169\n",
      "[25]\tvalid_0's binary_logloss: 0.157894\tvalid_0's macroF1: 0.846169\n",
      "[26]\tvalid_0's binary_logloss: 0.156565\tvalid_0's macroF1: 0.844715\n",
      "[27]\tvalid_0's binary_logloss: 0.156181\tvalid_0's macroF1: 0.845308\n",
      "[28]\tvalid_0's binary_logloss: 0.155388\tvalid_0's macroF1: 0.842397\n",
      "[29]\tvalid_0's binary_logloss: 0.154173\tvalid_0's macroF1: 0.841542\n",
      "[30]\tvalid_0's binary_logloss: 0.153795\tvalid_0's macroF1: 0.844715\n",
      "[31]\tvalid_0's binary_logloss: 0.153556\tvalid_0's macroF1: 0.845308\n",
      "[32]\tvalid_0's binary_logloss: 0.152935\tvalid_0's macroF1: 0.847617\n",
      "[33]\tvalid_0's binary_logloss: 0.152434\tvalid_0's macroF1: 0.847899\n",
      "[34]\tvalid_0's binary_logloss: 0.152254\tvalid_0's macroF1: 0.847899\n",
      "[35]\tvalid_0's binary_logloss: 0.151672\tvalid_0's macroF1: 0.847899\n",
      "[36]\tvalid_0's binary_logloss: 0.151484\tvalid_0's macroF1: 0.848482\n",
      "[37]\tvalid_0's binary_logloss: 0.151493\tvalid_0's macroF1: 0.847899\n",
      "[38]\tvalid_0's binary_logloss: 0.150836\tvalid_0's macroF1: 0.853669\n",
      "[39]\tvalid_0's binary_logloss: 0.150634\tvalid_0's macroF1: 0.852797\n",
      "[40]\tvalid_0's binary_logloss: 0.150726\tvalid_0's macroF1: 0.852797\n",
      "[41]\tvalid_0's binary_logloss: 0.149948\tvalid_0's macroF1: 0.851364\n",
      "[42]\tvalid_0's binary_logloss: 0.149839\tvalid_0's macroF1: 0.852797\n",
      "[43]\tvalid_0's binary_logloss: 0.149992\tvalid_0's macroF1: 0.853669\n",
      "[44]\tvalid_0's binary_logloss: 0.150181\tvalid_0's macroF1: 0.851364\n",
      "[45]\tvalid_0's binary_logloss: 0.150417\tvalid_0's macroF1: 0.850497\n",
      "[46]\tvalid_0's binary_logloss: 0.150629\tvalid_0's macroF1: 0.850497\n",
      "[47]\tvalid_0's binary_logloss: 0.150304\tvalid_0's macroF1: 0.850201\n",
      "[48]\tvalid_0's binary_logloss: 0.149953\tvalid_0's macroF1: 0.849633\n",
      "[49]\tvalid_0's binary_logloss: 0.149498\tvalid_0's macroF1: 0.851625\n",
      "[50]\tvalid_0's binary_logloss: 0.149522\tvalid_0's macroF1: 0.848772\n",
      "[51]\tvalid_0's binary_logloss: 0.149423\tvalid_0's macroF1: 0.850497\n",
      "[52]\tvalid_0's binary_logloss: 0.149592\tvalid_0's macroF1: 0.848772\n",
      "[53]\tvalid_0's binary_logloss: 0.149192\tvalid_0's macroF1: 0.848772\n",
      "[54]\tvalid_0's binary_logloss: 0.149399\tvalid_0's macroF1: 0.848772\n",
      "[55]\tvalid_0's binary_logloss: 0.149255\tvalid_0's macroF1: 0.848197\n",
      "[56]\tvalid_0's binary_logloss: 0.149212\tvalid_0's macroF1: 0.850497\n",
      "[57]\tvalid_0's binary_logloss: 0.14941\tvalid_0's macroF1: 0.849633\n",
      "[58]\tvalid_0's binary_logloss: 0.149581\tvalid_0's macroF1: 0.848772\n",
      "[59]\tvalid_0's binary_logloss: 0.149474\tvalid_0's macroF1: 0.849633\n",
      "[60]\tvalid_0's binary_logloss: 0.149529\tvalid_0's macroF1: 0.84906\n",
      "[61]\tvalid_0's binary_logloss: 0.149845\tvalid_0's macroF1: 0.849633\n",
      "[62]\tvalid_0's binary_logloss: 0.149811\tvalid_0's macroF1: 0.845042\n",
      "[63]\tvalid_0's binary_logloss: 0.149619\tvalid_0's macroF1: 0.844189\n",
      "[64]\tvalid_0's binary_logloss: 0.149564\tvalid_0's macroF1: 0.844777\n",
      "[65]\tvalid_0's binary_logloss: 0.149365\tvalid_0's macroF1: 0.844777\n",
      "[66]\tvalid_0's binary_logloss: 0.149137\tvalid_0's macroF1: 0.844777\n",
      "[67]\tvalid_0's binary_logloss: 0.148897\tvalid_0's macroF1: 0.843929\n",
      "[68]\tvalid_0's binary_logloss: 0.148732\tvalid_0's macroF1: 0.844777\n",
      "[69]\tvalid_0's binary_logloss: 0.148692\tvalid_0's macroF1: 0.845627\n",
      "[70]\tvalid_0's binary_logloss: 0.148713\tvalid_0's macroF1: 0.844189\n",
      "[71]\tvalid_0's binary_logloss: 0.148672\tvalid_0's macroF1: 0.845042\n",
      "[72]\tvalid_0's binary_logloss: 0.148482\tvalid_0's macroF1: 0.845042\n",
      "[73]\tvalid_0's binary_logloss: 0.148344\tvalid_0's macroF1: 0.845627\n",
      "[74]\tvalid_0's binary_logloss: 0.148363\tvalid_0's macroF1: 0.845627\n",
      "[75]\tvalid_0's binary_logloss: 0.148462\tvalid_0's macroF1: 0.845627\n",
      "[76]\tvalid_0's binary_logloss: 0.148423\tvalid_0's macroF1: 0.845897\n",
      "[77]\tvalid_0's binary_logloss: 0.148485\tvalid_0's macroF1: 0.845897\n",
      "[78]\tvalid_0's binary_logloss: 0.148503\tvalid_0's macroF1: 0.845042\n",
      "[79]\tvalid_0's binary_logloss: 0.148609\tvalid_0's macroF1: 0.845042\n",
      "[80]\tvalid_0's binary_logloss: 0.148388\tvalid_0's macroF1: 0.845042\n",
      "[81]\tvalid_0's binary_logloss: 0.148719\tvalid_0's macroF1: 0.845897\n",
      "[82]\tvalid_0's binary_logloss: 0.149055\tvalid_0's macroF1: 0.845897\n",
      "[83]\tvalid_0's binary_logloss: 0.149152\tvalid_0's macroF1: 0.845042\n",
      "[84]\tvalid_0's binary_logloss: 0.149219\tvalid_0's macroF1: 0.845042\n",
      "[85]\tvalid_0's binary_logloss: 0.14961\tvalid_0's macroF1: 0.845042\n",
      "[86]\tvalid_0's binary_logloss: 0.149597\tvalid_0's macroF1: 0.845042\n",
      "[87]\tvalid_0's binary_logloss: 0.149473\tvalid_0's macroF1: 0.845042\n",
      "[88]\tvalid_0's binary_logloss: 0.149681\tvalid_0's macroF1: 0.845042\n",
      "[89]\tvalid_0's binary_logloss: 0.149819\tvalid_0's macroF1: 0.845042\n",
      "[90]\tvalid_0's binary_logloss: 0.149719\tvalid_0's macroF1: 0.846481\n",
      "[91]\tvalid_0's binary_logloss: 0.149863\tvalid_0's macroF1: 0.845897\n",
      "[92]\tvalid_0's binary_logloss: 0.149615\tvalid_0's macroF1: 0.846756\n",
      "[93]\tvalid_0's binary_logloss: 0.1496\tvalid_0's macroF1: 0.846756\n",
      "[94]\tvalid_0's binary_logloss: 0.149562\tvalid_0's macroF1: 0.847337\n",
      "[95]\tvalid_0's binary_logloss: 0.149297\tvalid_0's macroF1: 0.848197\n",
      "[96]\tvalid_0's binary_logloss: 0.149358\tvalid_0's macroF1: 0.845897\n",
      "[97]\tvalid_0's binary_logloss: 0.149498\tvalid_0's macroF1: 0.845042\n",
      "[98]\tvalid_0's binary_logloss: 0.149393\tvalid_0's macroF1: 0.846481\n",
      "[99]\tvalid_0's binary_logloss: 0.149305\tvalid_0's macroF1: 0.846481\n",
      "[100]\tvalid_0's binary_logloss: 0.149382\tvalid_0's macroF1: 0.846481\n",
      "[1]\tvalid_0's binary_logloss: 0.29051\tvalid_0's macroF1: 0.474268\n",
      "[2]\tvalid_0's binary_logloss: 0.267613\tvalid_0's macroF1: 0.474268\n",
      "[3]\tvalid_0's binary_logloss: 0.249636\tvalid_0's macroF1: 0.474268\n",
      "[4]\tvalid_0's binary_logloss: 0.235278\tvalid_0's macroF1: 0.48183\n",
      "[5]\tvalid_0's binary_logloss: 0.223721\tvalid_0's macroF1: 0.722897\n",
      "[6]\tvalid_0's binary_logloss: 0.21301\tvalid_0's macroF1: 0.752442\n",
      "[7]\tvalid_0's binary_logloss: 0.204443\tvalid_0's macroF1: 0.79875\n",
      "[8]\tvalid_0's binary_logloss: 0.196781\tvalid_0's macroF1: 0.81865\n",
      "[9]\tvalid_0's binary_logloss: 0.190795\tvalid_0's macroF1: 0.817665\n",
      "[10]\tvalid_0's binary_logloss: 0.185426\tvalid_0's macroF1: 0.822636\n",
      "[11]\tvalid_0's binary_logloss: 0.179764\tvalid_0's macroF1: 0.819008\n",
      "[12]\tvalid_0's binary_logloss: 0.175199\tvalid_0's macroF1: 0.823862\n",
      "[13]\tvalid_0's binary_logloss: 0.171453\tvalid_0's macroF1: 0.832506\n"
     ]
    },
    {
     "name": "stderr",
     "output_type": "stream",
     "text": [
      "/usr/local/lib/python3.6/dist-packages/sklearn/preprocessing/_label.py:235: DataConversionWarning: A column-vector y was passed when a 1d array was expected. Please change the shape of y to (n_samples, ), for example using ravel().\n",
      "  y = column_or_1d(y, warn=True)\n",
      "/usr/local/lib/python3.6/dist-packages/sklearn/preprocessing/_label.py:268: DataConversionWarning: A column-vector y was passed when a 1d array was expected. Please change the shape of y to (n_samples, ), for example using ravel().\n",
      "  y = column_or_1d(y, warn=True)\n"
     ]
    },
    {
     "name": "stdout",
     "output_type": "stream",
     "text": [
      "[14]\tvalid_0's binary_logloss: 0.16819\tvalid_0's macroF1: 0.833189\n",
      "[15]\tvalid_0's binary_logloss: 0.164845\tvalid_0's macroF1: 0.835413\n",
      "[16]\tvalid_0's binary_logloss: 0.162463\tvalid_0's macroF1: 0.841289\n",
      "[17]\tvalid_0's binary_logloss: 0.160267\tvalid_0's macroF1: 0.840654\n",
      "[18]\tvalid_0's binary_logloss: 0.15802\tvalid_0's macroF1: 0.841289\n",
      "[19]\tvalid_0's binary_logloss: 0.156122\tvalid_0's macroF1: 0.843416\n",
      "[20]\tvalid_0's binary_logloss: 0.153989\tvalid_0's macroF1: 0.844032\n",
      "[21]\tvalid_0's binary_logloss: 0.152682\tvalid_0's macroF1: 0.842541\n",
      "[22]\tvalid_0's binary_logloss: 0.150773\tvalid_0's macroF1: 0.842541\n",
      "[23]\tvalid_0's binary_logloss: 0.149291\tvalid_0's macroF1: 0.844909\n",
      "[24]\tvalid_0's binary_logloss: 0.147846\tvalid_0's macroF1: 0.847876\n",
      "[25]\tvalid_0's binary_logloss: 0.146623\tvalid_0's macroF1: 0.846395\n",
      "[26]\tvalid_0's binary_logloss: 0.145795\tvalid_0's macroF1: 0.847876\n",
      "[27]\tvalid_0's binary_logloss: 0.144532\tvalid_0's macroF1: 0.84847\n",
      "[28]\tvalid_0's binary_logloss: 0.143758\tvalid_0's macroF1: 0.846996\n",
      "[29]\tvalid_0's binary_logloss: 0.142751\tvalid_0's macroF1: 0.846996\n",
      "[30]\tvalid_0's binary_logloss: 0.141963\tvalid_0's macroF1: 0.84847\n",
      "[31]\tvalid_0's binary_logloss: 0.141172\tvalid_0's macroF1: 0.848184\n",
      "[32]\tvalid_0's binary_logloss: 0.140675\tvalid_0's macroF1: 0.850222\n",
      "[33]\tvalid_0's binary_logloss: 0.140136\tvalid_0's macroF1: 0.851668\n",
      "[34]\tvalid_0's binary_logloss: 0.139529\tvalid_0's macroF1: 0.853109\n",
      "[35]\tvalid_0's binary_logloss: 0.138959\tvalid_0's macroF1: 0.853109\n",
      "[36]\tvalid_0's binary_logloss: 0.139449\tvalid_0's macroF1: 0.853986\n",
      "[37]\tvalid_0's binary_logloss: 0.139096\tvalid_0's macroF1: 0.853986\n",
      "[38]\tvalid_0's binary_logloss: 0.138516\tvalid_0's macroF1: 0.853986\n",
      "[39]\tvalid_0's binary_logloss: 0.137929\tvalid_0's macroF1: 0.853986\n",
      "[40]\tvalid_0's binary_logloss: 0.137752\tvalid_0's macroF1: 0.852544\n",
      "[41]\tvalid_0's binary_logloss: 0.137649\tvalid_0's macroF1: 0.853423\n",
      "[42]\tvalid_0's binary_logloss: 0.137437\tvalid_0's macroF1: 0.853986\n",
      "[43]\tvalid_0's binary_logloss: 0.137675\tvalid_0's macroF1: 0.854866\n",
      "[44]\tvalid_0's binary_logloss: 0.137591\tvalid_0's macroF1: 0.854544\n",
      "[45]\tvalid_0's binary_logloss: 0.137679\tvalid_0's macroF1: 0.855973\n",
      "[46]\tvalid_0's binary_logloss: 0.137498\tvalid_0's macroF1: 0.855973\n",
      "[47]\tvalid_0's binary_logloss: 0.137426\tvalid_0's macroF1: 0.854224\n",
      "[48]\tvalid_0's binary_logloss: 0.137281\tvalid_0's macroF1: 0.85652\n",
      "[49]\tvalid_0's binary_logloss: 0.137471\tvalid_0's macroF1: 0.853907\n",
      "[50]\tvalid_0's binary_logloss: 0.137463\tvalid_0's macroF1: 0.854775\n",
      "[51]\tvalid_0's binary_logloss: 0.137322\tvalid_0's macroF1: 0.854775\n",
      "[52]\tvalid_0's binary_logloss: 0.137709\tvalid_0's macroF1: 0.853355\n",
      "[53]\tvalid_0's binary_logloss: 0.137529\tvalid_0's macroF1: 0.852488\n",
      "[54]\tvalid_0's binary_logloss: 0.137876\tvalid_0's macroF1: 0.850765\n",
      "[55]\tvalid_0's binary_logloss: 0.137997\tvalid_0's macroF1: 0.852182\n",
      "[56]\tvalid_0's binary_logloss: 0.138034\tvalid_0's macroF1: 0.851323\n",
      "[57]\tvalid_0's binary_logloss: 0.137823\tvalid_0's macroF1: 0.852182\n",
      "[58]\tvalid_0's binary_logloss: 0.138368\tvalid_0's macroF1: 0.850765\n",
      "[59]\tvalid_0's binary_logloss: 0.138532\tvalid_0's macroF1: 0.849907\n",
      "[60]\tvalid_0's binary_logloss: 0.138713\tvalid_0's macroF1: 0.849342\n",
      "[61]\tvalid_0's binary_logloss: 0.138526\tvalid_0's macroF1: 0.849342\n",
      "[62]\tvalid_0's binary_logloss: 0.13832\tvalid_0's macroF1: 0.849342\n",
      "[63]\tvalid_0's binary_logloss: 0.138421\tvalid_0's macroF1: 0.848486\n",
      "[64]\tvalid_0's binary_logloss: 0.138094\tvalid_0's macroF1: 0.848486\n",
      "[65]\tvalid_0's binary_logloss: 0.138184\tvalid_0's macroF1: 0.849342\n",
      "[66]\tvalid_0's binary_logloss: 0.138257\tvalid_0's macroF1: 0.849342\n",
      "[67]\tvalid_0's binary_logloss: 0.138451\tvalid_0's macroF1: 0.849342\n",
      "[68]\tvalid_0's binary_logloss: 0.138584\tvalid_0's macroF1: 0.847059\n",
      "[69]\tvalid_0's binary_logloss: 0.138546\tvalid_0's macroF1: 0.848486\n",
      "[70]\tvalid_0's binary_logloss: 0.138668\tvalid_0's macroF1: 0.847059\n",
      "[71]\tvalid_0's binary_logloss: 0.13836\tvalid_0's macroF1: 0.847914\n",
      "[72]\tvalid_0's binary_logloss: 0.137931\tvalid_0's macroF1: 0.847914\n",
      "[73]\tvalid_0's binary_logloss: 0.137712\tvalid_0's macroF1: 0.850765\n",
      "[74]\tvalid_0's binary_logloss: 0.137027\tvalid_0's macroF1: 0.848486\n",
      "[75]\tvalid_0's binary_logloss: 0.136861\tvalid_0's macroF1: 0.849342\n",
      "[76]\tvalid_0's binary_logloss: 0.136866\tvalid_0's macroF1: 0.849342\n",
      "[77]\tvalid_0's binary_logloss: 0.137035\tvalid_0's macroF1: 0.848486\n",
      "[78]\tvalid_0's binary_logloss: 0.137173\tvalid_0's macroF1: 0.848486\n",
      "[79]\tvalid_0's binary_logloss: 0.137318\tvalid_0's macroF1: 0.849907\n",
      "[80]\tvalid_0's binary_logloss: 0.137471\tvalid_0's macroF1: 0.852182\n",
      "[81]\tvalid_0's binary_logloss: 0.137491\tvalid_0's macroF1: 0.853043\n",
      "[82]\tvalid_0's binary_logloss: 0.137469\tvalid_0's macroF1: 0.853043\n",
      "[83]\tvalid_0's binary_logloss: 0.137634\tvalid_0's macroF1: 0.852182\n",
      "[84]\tvalid_0's binary_logloss: 0.137377\tvalid_0's macroF1: 0.852488\n",
      "[85]\tvalid_0's binary_logloss: 0.137499\tvalid_0's macroF1: 0.852488\n",
      "[86]\tvalid_0's binary_logloss: 0.137403\tvalid_0's macroF1: 0.851625\n",
      "[87]\tvalid_0's binary_logloss: 0.137578\tvalid_0's macroF1: 0.852182\n",
      "[88]\tvalid_0's binary_logloss: 0.137524\tvalid_0's macroF1: 0.851625\n",
      "[89]\tvalid_0's binary_logloss: 0.137463\tvalid_0's macroF1: 0.850765\n",
      "[90]\tvalid_0's binary_logloss: 0.137457\tvalid_0's macroF1: 0.850201\n",
      "[91]\tvalid_0's binary_logloss: 0.1375\tvalid_0's macroF1: 0.850201\n",
      "[92]\tvalid_0's binary_logloss: 0.137706\tvalid_0's macroF1: 0.847337\n",
      "[93]\tvalid_0's binary_logloss: 0.13773\tvalid_0's macroF1: 0.847337\n",
      "[94]\tvalid_0's binary_logloss: 0.137559\tvalid_0's macroF1: 0.847337\n",
      "[95]\tvalid_0's binary_logloss: 0.137702\tvalid_0's macroF1: 0.847337\n",
      "[96]\tvalid_0's binary_logloss: 0.137931\tvalid_0's macroF1: 0.847337\n",
      "[97]\tvalid_0's binary_logloss: 0.138106\tvalid_0's macroF1: 0.847337\n",
      "[98]\tvalid_0's binary_logloss: 0.138215\tvalid_0's macroF1: 0.848772\n",
      "[99]\tvalid_0's binary_logloss: 0.138457\tvalid_0's macroF1: 0.848772\n",
      "[100]\tvalid_0's binary_logloss: 0.138108\tvalid_0's macroF1: 0.848772\n",
      "[1]\tvalid_0's binary_logloss: 0.292137\tvalid_0's macroF1: 0.474268\n",
      "[2]\tvalid_0's binary_logloss: 0.269654\tvalid_0's macroF1: 0.474268\n",
      "[3]\tvalid_0's binary_logloss: 0.253914\tvalid_0's macroF1: 0.474268\n",
      "[4]\tvalid_0's binary_logloss: 0.240474\tvalid_0's macroF1: 0.474268\n",
      "[5]\tvalid_0's binary_logloss: 0.229607\tvalid_0's macroF1: 0.681602\n",
      "[6]\tvalid_0's binary_logloss: 0.219052\tvalid_0's macroF1: 0.756874\n",
      "[7]\tvalid_0's binary_logloss: 0.210476\tvalid_0's macroF1: 0.78712\n",
      "[8]\tvalid_0's binary_logloss: 0.203759\tvalid_0's macroF1: 0.803209\n",
      "[9]\tvalid_0's binary_logloss: 0.197348\tvalid_0's macroF1: 0.813505\n",
      "[10]\tvalid_0's binary_logloss: 0.192093\tvalid_0's macroF1: 0.819329\n",
      "[11]\tvalid_0's binary_logloss: 0.187142\tvalid_0's macroF1: 0.823258\n",
      "[12]\tvalid_0's binary_logloss: 0.182168\tvalid_0's macroF1: 0.829709\n",
      "[13]\tvalid_0's binary_logloss: 0.178385\tvalid_0's macroF1: 0.840737\n",
      "[14]\tvalid_0's binary_logloss: 0.175116\tvalid_0's macroF1: 0.840495\n",
      "[15]\tvalid_0's binary_logloss: 0.171671\tvalid_0's macroF1: 0.839604\n",
      "[16]\tvalid_0's binary_logloss: 0.169488\tvalid_0's macroF1: 0.840254\n",
      "[17]\tvalid_0's binary_logloss: 0.167144\tvalid_0's macroF1: 0.843051\n",
      "[18]\tvalid_0's binary_logloss: 0.165598\tvalid_0's macroF1: 0.846062\n"
     ]
    },
    {
     "name": "stderr",
     "output_type": "stream",
     "text": [
      "/usr/local/lib/python3.6/dist-packages/sklearn/preprocessing/_label.py:235: DataConversionWarning: A column-vector y was passed when a 1d array was expected. Please change the shape of y to (n_samples, ), for example using ravel().\n",
      "  y = column_or_1d(y, warn=True)\n",
      "/usr/local/lib/python3.6/dist-packages/sklearn/preprocessing/_label.py:268: DataConversionWarning: A column-vector y was passed when a 1d array was expected. Please change the shape of y to (n_samples, ), for example using ravel().\n",
      "  y = column_or_1d(y, warn=True)\n"
     ]
    },
    {
     "name": "stdout",
     "output_type": "stream",
     "text": [
      "[19]\tvalid_0's binary_logloss: 0.163975\tvalid_0's macroF1: 0.842168\n",
      "[20]\tvalid_0's binary_logloss: 0.162363\tvalid_0's macroF1: 0.843416\n",
      "[21]\tvalid_0's binary_logloss: 0.160501\tvalid_0's macroF1: 0.848758\n",
      "[22]\tvalid_0's binary_logloss: 0.159002\tvalid_0's macroF1: 0.84847\n",
      "[23]\tvalid_0's binary_logloss: 0.157522\tvalid_0's macroF1: 0.84847\n",
      "[24]\tvalid_0's binary_logloss: 0.156158\tvalid_0's macroF1: 0.846719\n",
      "[25]\tvalid_0's binary_logloss: 0.155062\tvalid_0's macroF1: 0.846996\n",
      "[26]\tvalid_0's binary_logloss: 0.154442\tvalid_0's macroF1: 0.84847\n",
      "[27]\tvalid_0's binary_logloss: 0.153071\tvalid_0's macroF1: 0.850222\n",
      "[28]\tvalid_0's binary_logloss: 0.151982\tvalid_0's macroF1: 0.853109\n",
      "[29]\tvalid_0's binary_logloss: 0.151352\tvalid_0's macroF1: 0.855973\n",
      "[30]\tvalid_0's binary_logloss: 0.150636\tvalid_0's macroF1: 0.857735\n",
      "[31]\tvalid_0's binary_logloss: 0.14965\tvalid_0's macroF1: 0.859161\n",
      "[32]\tvalid_0's binary_logloss: 0.149719\tvalid_0's macroF1: 0.857397\n",
      "[33]\tvalid_0's binary_logloss: 0.14862\tvalid_0's macroF1: 0.854224\n",
      "[34]\tvalid_0's binary_logloss: 0.148227\tvalid_0's macroF1: 0.85652\n",
      "[35]\tvalid_0's binary_logloss: 0.147631\tvalid_0's macroF1: 0.85652\n",
      "[36]\tvalid_0's binary_logloss: 0.147192\tvalid_0's macroF1: 0.85652\n",
      "[37]\tvalid_0's binary_logloss: 0.147051\tvalid_0's macroF1: 0.854544\n",
      "[38]\tvalid_0's binary_logloss: 0.14658\tvalid_0's macroF1: 0.853669\n",
      "[39]\tvalid_0's binary_logloss: 0.146214\tvalid_0's macroF1: 0.855097\n",
      "[40]\tvalid_0's binary_logloss: 0.1461\tvalid_0's macroF1: 0.855097\n",
      "[41]\tvalid_0's binary_logloss: 0.145647\tvalid_0's macroF1: 0.855646\n",
      "[42]\tvalid_0's binary_logloss: 0.145154\tvalid_0's macroF1: 0.859349\n",
      "[43]\tvalid_0's binary_logloss: 0.144724\tvalid_0's macroF1: 0.857937\n",
      "[44]\tvalid_0's binary_logloss: 0.144617\tvalid_0's macroF1: 0.857937\n",
      "[45]\tvalid_0's binary_logloss: 0.143922\tvalid_0's macroF1: 0.858816\n",
      "[46]\tvalid_0's binary_logloss: 0.14351\tvalid_0's macroF1: 0.857397\n",
      "[47]\tvalid_0's binary_logloss: 0.143316\tvalid_0's macroF1: 0.857397\n",
      "[48]\tvalid_0's binary_logloss: 0.143187\tvalid_0's macroF1: 0.858278\n",
      "[49]\tvalid_0's binary_logloss: 0.142724\tvalid_0's macroF1: 0.861997\n",
      "[50]\tvalid_0's binary_logloss: 0.142534\tvalid_0's macroF1: 0.861997\n",
      "[51]\tvalid_0's binary_logloss: 0.142304\tvalid_0's macroF1: 0.861997\n",
      "[52]\tvalid_0's binary_logloss: 0.142126\tvalid_0's macroF1: 0.863407\n",
      "[53]\tvalid_0's binary_logloss: 0.142002\tvalid_0's macroF1: 0.863407\n",
      "[54]\tvalid_0's binary_logloss: 0.142165\tvalid_0's macroF1: 0.864811\n",
      "[55]\tvalid_0's binary_logloss: 0.142106\tvalid_0's macroF1: 0.86621\n",
      "[56]\tvalid_0's binary_logloss: 0.142037\tvalid_0's macroF1: 0.86621\n",
      "[57]\tvalid_0's binary_logloss: 0.141878\tvalid_0's macroF1: 0.864811\n",
      "[58]\tvalid_0's binary_logloss: 0.1417\tvalid_0's macroF1: 0.863407\n",
      "[59]\tvalid_0's binary_logloss: 0.141724\tvalid_0's macroF1: 0.863407\n",
      "[60]\tvalid_0's binary_logloss: 0.141576\tvalid_0's macroF1: 0.86621\n",
      "[61]\tvalid_0's binary_logloss: 0.141456\tvalid_0's macroF1: 0.86621\n",
      "[62]\tvalid_0's binary_logloss: 0.141419\tvalid_0's macroF1: 0.86621\n",
      "[63]\tvalid_0's binary_logloss: 0.141506\tvalid_0's macroF1: 0.867604\n",
      "[64]\tvalid_0's binary_logloss: 0.141146\tvalid_0's macroF1: 0.868497\n",
      "[65]\tvalid_0's binary_logloss: 0.141128\tvalid_0's macroF1: 0.867103\n",
      "[66]\tvalid_0's binary_logloss: 0.140783\tvalid_0's macroF1: 0.866597\n",
      "[67]\tvalid_0's binary_logloss: 0.140745\tvalid_0's macroF1: 0.864297\n",
      "[68]\tvalid_0's binary_logloss: 0.140573\tvalid_0's macroF1: 0.864297\n",
      "[69]\tvalid_0's binary_logloss: 0.140463\tvalid_0's macroF1: 0.865703\n",
      "[70]\tvalid_0's binary_logloss: 0.140607\tvalid_0's macroF1: 0.867495\n",
      "[71]\tvalid_0's binary_logloss: 0.140583\tvalid_0's macroF1: 0.867495\n",
      "[72]\tvalid_0's binary_logloss: 0.140628\tvalid_0's macroF1: 0.868898\n",
      "[73]\tvalid_0's binary_logloss: 0.140716\tvalid_0's macroF1: 0.866088\n",
      "[74]\tvalid_0's binary_logloss: 0.140755\tvalid_0's macroF1: 0.865191\n",
      "[75]\tvalid_0's binary_logloss: 0.140888\tvalid_0's macroF1: 0.864297\n",
      "[76]\tvalid_0's binary_logloss: 0.140703\tvalid_0's macroF1: 0.863779\n",
      "[77]\tvalid_0's binary_logloss: 0.140626\tvalid_0's macroF1: 0.865191\n",
      "[78]\tvalid_0's binary_logloss: 0.140924\tvalid_0's macroF1: 0.865191\n",
      "[79]\tvalid_0's binary_logloss: 0.141\tvalid_0's macroF1: 0.866088\n",
      "[80]\tvalid_0's binary_logloss: 0.140911\tvalid_0's macroF1: 0.868898\n",
      "[81]\tvalid_0's binary_logloss: 0.140978\tvalid_0's macroF1: 0.868497\n",
      "[82]\tvalid_0's binary_logloss: 0.14089\tvalid_0's macroF1: 0.867103\n",
      "[83]\tvalid_0's binary_logloss: 0.140931\tvalid_0's macroF1: 0.866597\n",
      "[84]\tvalid_0's binary_logloss: 0.140854\tvalid_0's macroF1: 0.866088\n",
      "[85]\tvalid_0's binary_logloss: 0.140849\tvalid_0's macroF1: 0.866088\n",
      "[86]\tvalid_0's binary_logloss: 0.140843\tvalid_0's macroF1: 0.867495\n",
      "[87]\tvalid_0's binary_logloss: 0.140836\tvalid_0's macroF1: 0.866988\n",
      "[88]\tvalid_0's binary_logloss: 0.140642\tvalid_0's macroF1: 0.866988\n",
      "[89]\tvalid_0's binary_logloss: 0.140731\tvalid_0's macroF1: 0.866988\n",
      "[90]\tvalid_0's binary_logloss: 0.140723\tvalid_0's macroF1: 0.866988\n",
      "[91]\tvalid_0's binary_logloss: 0.140715\tvalid_0's macroF1: 0.866988\n",
      "[92]\tvalid_0's binary_logloss: 0.140984\tvalid_0's macroF1: 0.866988\n",
      "[93]\tvalid_0's binary_logloss: 0.140797\tvalid_0's macroF1: 0.864675\n",
      "[94]\tvalid_0's binary_logloss: 0.140881\tvalid_0's macroF1: 0.864675\n",
      "[95]\tvalid_0's binary_logloss: 0.141007\tvalid_0's macroF1: 0.866088\n",
      "[96]\tvalid_0's binary_logloss: 0.141053\tvalid_0's macroF1: 0.864675\n",
      "[97]\tvalid_0's binary_logloss: 0.14115\tvalid_0's macroF1: 0.864675\n",
      "[98]\tvalid_0's binary_logloss: 0.141012\tvalid_0's macroF1: 0.863779\n",
      "[99]\tvalid_0's binary_logloss: 0.141039\tvalid_0's macroF1: 0.864811\n",
      "[100]\tvalid_0's binary_logloss: 0.141241\tvalid_0's macroF1: 0.864811\n"
     ]
    }
   ],
   "source": [
    "for training_index, testing_index in gkf.split(X=x, y=y):\n",
    "    x_train_fold, y_train_fold = x[training_index], y[training_index]\n",
    "    x_test_fold, y_test_fold = x[testing_index], y[testing_index]\n",
    "    model.fit(x_train_fold, y_train_fold, eval_set=(x_test_fold,y_test_fold),eval_metric = lambda y_true, y_pred: [evaluate_macroF1_lgb(y_true,y_pred)])"
   ]
  },
  {
   "cell_type": "code",
   "execution_count": 35,
   "metadata": {},
   "outputs": [],
   "source": [
    "predicted_y = model.predict(x_test)\n",
    "train_pred_y = model.predict(x)"
   ]
  },
  {
   "cell_type": "code",
   "execution_count": 36,
   "metadata": {},
   "outputs": [
    {
     "name": "stdout",
     "output_type": "stream",
     "text": [
      "\n",
      "              precision    recall  f1-score   support\n",
      "\n",
      "           0       0.95      0.85      0.90      1345\n",
      "           1       0.98      1.00      0.99     12395\n",
      "\n",
      "    accuracy                           0.98     13740\n",
      "   macro avg       0.97      0.92      0.94     13740\n",
      "weighted avg       0.98      0.98      0.98     13740\n",
      "\n",
      "\n",
      "[[ 1138   207]\n",
      " [   57 12338]]\n",
      "\n",
      "              precision    recall  f1-score   support\n",
      "\n",
      "           0       0.88      0.69      0.77       336\n",
      "           1       0.97      0.99      0.98      3099\n",
      "\n",
      "    accuracy                           0.96      3435\n",
      "   macro avg       0.92      0.84      0.88      3435\n",
      "weighted avg       0.96      0.96      0.96      3435\n",
      "\n",
      "\n",
      "[[ 231  105]\n",
      " [  31 3068]]\n"
     ]
    }
   ],
   "source": [
    "print(); print(metrics.classification_report(y,train_pred_y))\n",
    "print(); print(metrics.confusion_matrix(y, train_pred_y))\n",
    "\n",
    "print(); print(metrics.classification_report(y_test, predicted_y))\n",
    "print(); print(metrics.confusion_matrix(y_test, predicted_y))"
   ]
  },
  {
   "cell_type": "markdown",
   "metadata": {},
   "source": [
    "<h2>Testing</h2>"
   ]
  },
  {
   "cell_type": "code",
   "execution_count": 37,
   "metadata": {
    "colab": {},
    "colab_type": "code",
    "id": "dRpHFO-hvEvg"
   },
   "outputs": [],
   "source": [
    "\n",
    "test_set = pd.read_csv(data_path+'test.csv', index_col=\"tripid\")\n"
   ]
  },
  {
   "cell_type": "code",
   "execution_count": 38,
   "metadata": {
    "colab": {},
    "colab_type": "code",
    "id": "-aB-vcWQPl-L"
   },
   "outputs": [],
   "source": [
    "test_set['pickup_time'] = pd.to_datetime(test_set['pickup_time'], format=\"%m/%d/%Y %H:%M\")\n",
    "test_set['drop_time'] = pd.to_datetime(test_set['drop_time'], format=\"%m/%d/%Y %H:%M\")"
   ]
  },
  {
   "cell_type": "code",
   "execution_count": 39,
   "metadata": {
    "colab": {},
    "colab_type": "code",
    "id": "-fh6I6oDPrqF"
   },
   "outputs": [],
   "source": [
    "test_set = test_set.assign(timeOfDay=pd.cut(test_set.pickup_time.dt.hour,[-1, 8, 20, 24],labels=['dawn','day', 'night']))"
   ]
  },
  {
   "cell_type": "code",
   "execution_count": 40,
   "metadata": {},
   "outputs": [],
   "source": [
    "test_set.loc[test_set['timeOfDay'] == 'day', 'isNormalCharge'] = 1\n",
    "test_set.loc[test_set['timeOfDay'] != 'day', 'isNormalCharge'] = 0"
   ]
  },
  {
   "cell_type": "code",
   "execution_count": 41,
   "metadata": {
    "colab": {},
    "colab_type": "code",
    "id": "0YIKrGoUPxjD"
   },
   "outputs": [],
   "source": [
    "durations = []\n",
    "for index,row in test_set.iterrows():\n",
    "  provided_duration = row['duration'] #first row of location.lat column here\n",
    "  if math.isnan(provided_duration) or provided_duration <= 0 :\n",
    "    time_dif = (row['drop_time'] - row['pickup_time']).seconds\n",
    "    if(time_dif == 0):\n",
    "        time_dif = np.nan\n",
    "    durations.append(time_dif)\n",
    "  else :  \n",
    "    durations.append(provided_duration)\n",
    "\n",
    "test_set.insert(4,\"time_dif\",durations)"
   ]
  },
  {
   "cell_type": "code",
   "execution_count": 42,
   "metadata": {
    "colab": {},
    "colab_type": "code",
    "id": "N8RKMAziP2Zu"
   },
   "outputs": [],
   "source": [
    "new_column = []                    #empty column for distance\n",
    "for index,row in test_set.iterrows():\n",
    "  lat1 = row['pick_lat'] #first row of location.lat column here\n",
    "  lon1 = row['pick_lon'] #first row of location.long column here\n",
    "  lat2 = row['drop_lat'] #second row of location.lat column here\n",
    "  lon2 = row['drop_lon'] #second row of location.long column here\n",
    "  value = dist_from_coordinates(lat1, lon1, lat2, lon2)  #get the distance\n",
    "  new_column.append(value)   #append the empty list with distance values\n",
    "\n",
    "test_set.insert(4,\"distance\",new_column)"
   ]
  },
  {
   "cell_type": "code",
   "execution_count": 43,
   "metadata": {
    "colab": {},
    "colab_type": "code",
    "id": "fhGdrT68P7u0"
   },
   "outputs": [],
   "source": [
    "test_set['time_driven'] = test_set['duration']  - test_set['meter_waiting']"
   ]
  },
  {
   "cell_type": "code",
   "execution_count": 44,
   "metadata": {
    "colab": {},
    "colab_type": "code",
    "id": "0T1ZhNq4QCFr"
   },
   "outputs": [],
   "source": [
    "chargeperhours = []\n",
    "for index,row in test_set.iterrows():\n",
    "    if(row['meter_waiting'] == 0):\n",
    "        chargeperhour = np.nan\n",
    "    else:\n",
    "        chargeperhour = (row['meter_waiting_fare'] / row['meter_waiting'] * 3600)\n",
    "    chargeperhours.append(chargeperhour)\n",
    "\n",
    "test_set.insert(4,'charge_per_hour',chargeperhours)\n"
   ]
  },
  {
   "cell_type": "code",
   "execution_count": 45,
   "metadata": {
    "colab": {},
    "colab_type": "code",
    "id": "stlHhBUcQHPO"
   },
   "outputs": [],
   "source": [
    "test_set['driving_fare'] = test_set['fare']  - test_set['meter_waiting_fare'] - test_set['additional_fare']"
   ]
  },
  {
   "cell_type": "code",
   "execution_count": 46,
   "metadata": {
    "colab": {},
    "colab_type": "code",
    "id": "3swRfBdUQPab"
   },
   "outputs": [],
   "source": [
    "avgspeeds = []\n",
    "for index,row in test_set.iterrows():\n",
    "    if(row['time_driven'] == 0):\n",
    "        avgspeed = np.nan    \n",
    "    else:\n",
    "        avgspeed = (row['distance'] / row['time_driven'] * 3600)\n",
    "    avgspeeds.append(avgspeed)\n",
    "\n",
    "test_set.insert(4,\"avg_speed\",avgspeeds)\n",
    "\n"
   ]
  },
  {
   "cell_type": "code",
   "execution_count": 47,
   "metadata": {
    "colab": {},
    "colab_type": "code",
    "id": "CbN5feh0QWAF"
   },
   "outputs": [],
   "source": [
    "costsperkm = []\n",
    "for index,row in test_set.iterrows():\n",
    "    if row['distance'] == 0:\n",
    "        costperkm = np.nan\n",
    "            \n",
    "    else:\n",
    "        costperkm = (row['driving_fare'] / row['distance'])\n",
    "    costsperkm.append(costperkm)\n",
    "\n",
    "test_set.insert(4,\"cost_per_km\",costsperkm)"
   ]
  },
  {
   "cell_type": "code",
   "execution_count": 48,
   "metadata": {},
   "outputs": [],
   "source": [
    "test_set['pickup_cluster_label'] = kmeans.predict(test_set[['pick_lat','pick_lon']])\n",
    "test_set['drop_cluster_label'] = kmeansdrop.predict(test_set[['drop_lat','drop_lon']])"
   ]
  },
  {
   "cell_type": "code",
   "execution_count": 49,
   "metadata": {
    "colab": {},
    "colab_type": "code",
    "id": "G8siIDy9_D2I"
   },
   "outputs": [],
   "source": [
    "test_features = test_set[training_columns]"
   ]
  },
  {
   "cell_type": "code",
   "execution_count": 50,
   "metadata": {
    "colab": {
     "base_uri": "https://localhost:8080/",
     "height": 455
    },
    "colab_type": "code",
    "id": "YGcUrVpWQc6h",
    "outputId": "b45b835c-1c70-4035-ff79-2d936377d9e1"
   },
   "outputs": [
    {
     "data": {
      "text/plain": [
       "meter_waiting             0\n",
       "meter_waiting_fare        0\n",
       "fare                      0\n",
       "additional_fare           0\n",
       "distance                  0\n",
       "cost_per_km              25\n",
       "avg_speed                 9\n",
       "time_dif                  0\n",
       "time_driven               0\n",
       "charge_per_hour         298\n",
       "driving_fare              0\n",
       "isNormalCharge            0\n",
       "pick_lat                  0\n",
       "pick_lon                  0\n",
       "drop_lat                  0\n",
       "drop_lon                  0\n",
       "drop_cluster_label        0\n",
       "pickup_cluster_label      0\n",
       "dtype: int64"
      ]
     },
     "execution_count": 50,
     "metadata": {},
     "output_type": "execute_result"
    }
   ],
   "source": [
    "test_features.isna().sum()"
   ]
  },
  {
   "cell_type": "code",
   "execution_count": 51,
   "metadata": {
    "colab": {},
    "colab_type": "code",
    "id": "MeqI1BVR_Fpl"
   },
   "outputs": [],
   "source": [
    "predicted_labels = model.predict(test_features)"
   ]
  },
  {
   "cell_type": "code",
   "execution_count": 52,
   "metadata": {},
   "outputs": [],
   "source": [
    "predicted_labels_df = pd.DataFrame(predicted_labels )"
   ]
  },
  {
   "cell_type": "code",
   "execution_count": 53,
   "metadata": {
    "colab": {},
    "colab_type": "code",
    "id": "qqHn12X6_Gvf"
   },
   "outputs": [],
   "source": [
    "sub_path =os.path.abspath(os.path.join(data_path+'/sample_submission.csv'))\n",
    "submission_set = pd.read_csv(sub_path, index_col=\"tripid\")"
   ]
  },
  {
   "cell_type": "code",
   "execution_count": 54,
   "metadata": {
    "colab": {},
    "colab_type": "code",
    "id": "8Ji-pVGy_H3c"
   },
   "outputs": [],
   "source": [
    "submission_set['prediction']= predicted_labels_df.values[:,0]"
   ]
  },
  {
   "cell_type": "code",
   "execution_count": 55,
   "metadata": {},
   "outputs": [
    {
     "data": {
      "application/javascript": [
       "var kernel = IPython.notebook.kernel;\n",
       "var thename = window.document.getElementById(\"notebook_name\").innerHTML;\n",
       "var command = \"theNotebook = \" + \"'\"+thename+\"'\";\n",
       "kernel.execute(command);\n"
      ],
      "text/plain": [
       "<IPython.core.display.Javascript object>"
      ]
     },
     "metadata": {},
     "output_type": "display_data"
    }
   ],
   "source": [
    "%%javascript\n",
    "var kernel = IPython.notebook.kernel;\n",
    "var thename = window.document.getElementById(\"notebook_name\").innerHTML;\n",
    "var command = \"theNotebook = \" + \"'\"+thename+\"'\";\n",
    "kernel.execute(command);"
   ]
  },
  {
   "cell_type": "code",
   "execution_count": 57,
   "metadata": {
    "colab": {
     "base_uri": "https://localhost:8080/",
     "height": 35
    },
    "colab_type": "code",
    "id": "U6dGilvv_JLl",
    "outputId": "a12ca51c-c94a-4f5d-efab-2ebd6a29156a"
   },
   "outputs": [
    {
     "name": "stdout",
     "output_type": "stream",
     "text": [
      "Completed!\n"
     ]
    }
   ],
   "source": [
    "filename = '../../submissions/'+theNotebook+'/'+theNotebook+'_{%i}.csv'\n",
    "dirname = '../../submissions/'+theNotebook\n",
    "fileversion = 1\n",
    "\n",
    "if not os.path.exists(dirname):\n",
    "    os.makedirs(dirname)\n",
    "while glob.glob(filename.replace('{%i}',str(fileversion))) :\n",
    "    fileversion+=1\n",
    "submission_set.to_csv(filename.replace('{%i}',str(fileversion)), index=True)\n",
    "print(\"Completed!\")"
   ]
  },
  {
   "cell_type": "code",
   "execution_count": 56,
   "metadata": {
    "colab": {
     "base_uri": "https://localhost:8080/",
     "height": 72
    },
    "colab_type": "code",
    "id": "cg-I13X0_Q0d",
    "outputId": "e0a6dd1e-8d7f-46f6-f8a8-98406223ba06"
   },
   "outputs": [
    {
     "data": {
      "text/plain": [
       "1    8120\n",
       "0     456\n",
       "Name: prediction, dtype: int64"
      ]
     },
     "execution_count": 56,
     "metadata": {},
     "output_type": "execute_result"
    }
   ],
   "source": [
    "submission_set['prediction'].value_counts()"
   ]
  },
  {
   "cell_type": "code",
   "execution_count": null,
   "metadata": {},
   "outputs": [],
   "source": []
  }
 ],
 "metadata": {
  "colab": {
   "collapsed_sections": [],
   "name": "lightbgm using grid",
   "provenance": []
  },
  "kernelspec": {
   "display_name": "Python 3",
   "language": "python",
   "name": "python3"
  },
  "language_info": {
   "codemirror_mode": {
    "name": "ipython",
    "version": 3
   },
   "file_extension": ".py",
   "mimetype": "text/x-python",
   "name": "python",
   "nbconvert_exporter": "python",
   "pygments_lexer": "ipython3",
   "version": "3.6.9"
  }
 },
 "nbformat": 4,
 "nbformat_minor": 1
}
